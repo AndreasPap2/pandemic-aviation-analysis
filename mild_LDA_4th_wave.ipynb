{
  "cells": [
    {
      "cell_type": "code",
      "execution_count": 22,
      "metadata": {
        "colab": {
          "base_uri": "https://localhost:8080/"
        },
        "id": "wwpd0FlyuMUV",
        "outputId": "8b49629a-0414-40d3-82d1-02e8b327088a"
      },
      "outputs": [
        {
          "output_type": "stream",
          "name": "stdout",
          "text": [
            "Drive already mounted at /content/drive; to attempt to forcibly remount, call drive.mount(\"/content/drive\", force_remount=True).\n",
            "Requirement already satisfied: pyLDAvis in /usr/local/lib/python3.11/dist-packages (3.4.1)\n",
            "Requirement already satisfied: numpy>=1.24.2 in /usr/local/lib/python3.11/dist-packages (from pyLDAvis) (1.26.4)\n",
            "Requirement already satisfied: scipy in /usr/local/lib/python3.11/dist-packages (from pyLDAvis) (1.13.1)\n",
            "Requirement already satisfied: pandas>=2.0.0 in /usr/local/lib/python3.11/dist-packages (from pyLDAvis) (2.2.2)\n",
            "Requirement already satisfied: joblib>=1.2.0 in /usr/local/lib/python3.11/dist-packages (from pyLDAvis) (1.5.0)\n",
            "Requirement already satisfied: jinja2 in /usr/local/lib/python3.11/dist-packages (from pyLDAvis) (3.1.6)\n",
            "Requirement already satisfied: numexpr in /usr/local/lib/python3.11/dist-packages (from pyLDAvis) (2.10.2)\n",
            "Requirement already satisfied: funcy in /usr/local/lib/python3.11/dist-packages (from pyLDAvis) (2.0)\n",
            "Requirement already satisfied: scikit-learn>=1.0.0 in /usr/local/lib/python3.11/dist-packages (from pyLDAvis) (1.6.1)\n",
            "Requirement already satisfied: gensim in /usr/local/lib/python3.11/dist-packages (from pyLDAvis) (4.3.3)\n",
            "Requirement already satisfied: setuptools in /usr/local/lib/python3.11/dist-packages (from pyLDAvis) (75.2.0)\n",
            "Requirement already satisfied: python-dateutil>=2.8.2 in /usr/local/lib/python3.11/dist-packages (from pandas>=2.0.0->pyLDAvis) (2.9.0.post0)\n",
            "Requirement already satisfied: pytz>=2020.1 in /usr/local/lib/python3.11/dist-packages (from pandas>=2.0.0->pyLDAvis) (2025.2)\n",
            "Requirement already satisfied: tzdata>=2022.7 in /usr/local/lib/python3.11/dist-packages (from pandas>=2.0.0->pyLDAvis) (2025.2)\n",
            "Requirement already satisfied: threadpoolctl>=3.1.0 in /usr/local/lib/python3.11/dist-packages (from scikit-learn>=1.0.0->pyLDAvis) (3.6.0)\n",
            "Requirement already satisfied: smart-open>=1.8.1 in /usr/local/lib/python3.11/dist-packages (from gensim->pyLDAvis) (7.1.0)\n",
            "Requirement already satisfied: MarkupSafe>=2.0 in /usr/local/lib/python3.11/dist-packages (from jinja2->pyLDAvis) (3.0.2)\n",
            "Requirement already satisfied: six>=1.5 in /usr/local/lib/python3.11/dist-packages (from python-dateutil>=2.8.2->pandas>=2.0.0->pyLDAvis) (1.17.0)\n",
            "Requirement already satisfied: wrapt in /usr/local/lib/python3.11/dist-packages (from smart-open>=1.8.1->gensim->pyLDAvis) (1.17.2)\n",
            "/content\n"
          ]
        }
      ],
      "source": [
        "import pandas as pd\n",
        "from google.colab import drive\n",
        "from datetime import datetime\n",
        "import os\n",
        "import re\n",
        "import nltk\n",
        "from nltk.corpus import stopwords\n",
        "from nltk.stem import WordNetLemmatizer\n",
        "from collections import Counter\n",
        "import matplotlib.pyplot as plt\n",
        "from nltk.util import ngrams\n",
        "import transformers\n",
        "from datetime import datetime\n",
        "import json\n",
        "import numpy as np\n",
        "import seaborn as sns\n",
        "from wordcloud import WordCloud\n",
        "from collections import Counter\n",
        "#import spacy\n",
        "\n",
        "drive.mount('/content/drive')\n",
        "ts= datetime.now().strftime('%Y-%m-%d_%H-%M')\n",
        "output_dir = f'/content/drive/My Drive/Colab Notebooks/output/{ts}'\n",
        "os.makedirs(f\"{output_dir}\",exist_ok=True)\n",
        "\n",
        "!pip install pyLDAvis\n",
        "!pwd"
      ]
    },
    {
      "cell_type": "code",
      "execution_count": 23,
      "metadata": {
        "id": "3XAztLCqUlU6",
        "colab": {
          "base_uri": "https://localhost:8080/"
        },
        "outputId": "489cb42d-0f38-4499-8797-69bb8b4c3deb"
      },
      "outputs": [
        {
          "output_type": "stream",
          "name": "stdout",
          "text": [
            "Collecting numpy==1.26.0\n",
            "  Downloading numpy-1.26.0-cp311-cp311-manylinux_2_17_x86_64.manylinux2014_x86_64.whl.metadata (58 kB)\n",
            "\u001b[?25l     \u001b[90m━━━━━━━━━━━━━━━━━━━━━━━━━━━━━━━━━━━━━━━━\u001b[0m \u001b[32m0.0/58.5 kB\u001b[0m \u001b[31m?\u001b[0m eta \u001b[36m-:--:--\u001b[0m\r\u001b[2K     \u001b[90m━━━━━━━━━━━━━━━━━━━━━━━━━━━━━━━━━━━━━━━━\u001b[0m \u001b[32m58.5/58.5 kB\u001b[0m \u001b[31m1.6 MB/s\u001b[0m eta \u001b[36m0:00:00\u001b[0m\n",
            "\u001b[?25hDownloading numpy-1.26.0-cp311-cp311-manylinux_2_17_x86_64.manylinux2014_x86_64.whl (18.2 MB)\n",
            "\u001b[2K   \u001b[90m━━━━━━━━━━━━━━━━━━━━━━━━━━━━━━━━━━━━━━━━\u001b[0m \u001b[32m18.2/18.2 MB\u001b[0m \u001b[31m88.3 MB/s\u001b[0m eta \u001b[36m0:00:00\u001b[0m\n",
            "\u001b[?25hInstalling collected packages: numpy\n",
            "  Attempting uninstall: numpy\n",
            "    Found existing installation: numpy 1.26.4\n",
            "    Uninstalling numpy-1.26.4:\n",
            "      Successfully uninstalled numpy-1.26.4\n",
            "\u001b[31mERROR: pip's dependency resolver does not currently take into account all the packages that are installed. This behaviour is the source of the following dependency conflicts.\n",
            "tsfresh 0.21.0 requires scipy>=1.14.0; python_version >= \"3.10\", but you have scipy 1.13.1 which is incompatible.\n",
            "thinc 8.3.6 requires numpy<3.0.0,>=2.0.0, but you have numpy 1.26.0 which is incompatible.\u001b[0m\u001b[31m\n",
            "\u001b[0mSuccessfully installed numpy-1.26.0\n",
            "Collecting gensim\n",
            "  Using cached gensim-4.3.3-cp311-cp311-manylinux_2_17_x86_64.manylinux2014_x86_64.whl.metadata (8.1 kB)\n",
            "Collecting numpy<2.0,>=1.18.5 (from gensim)\n",
            "  Using cached numpy-1.26.4-cp311-cp311-manylinux_2_17_x86_64.manylinux2014_x86_64.whl.metadata (61 kB)\n",
            "Collecting scipy<1.14.0,>=1.7.0 (from gensim)\n",
            "  Using cached scipy-1.13.1-cp311-cp311-manylinux_2_17_x86_64.manylinux2014_x86_64.whl.metadata (60 kB)\n",
            "Collecting smart-open>=1.8.1 (from gensim)\n",
            "  Downloading smart_open-7.1.0-py3-none-any.whl.metadata (24 kB)\n",
            "Collecting wrapt (from smart-open>=1.8.1->gensim)\n",
            "  Downloading wrapt-1.17.2-cp311-cp311-manylinux_2_5_x86_64.manylinux1_x86_64.manylinux_2_17_x86_64.manylinux2014_x86_64.whl.metadata (6.4 kB)\n",
            "Using cached gensim-4.3.3-cp311-cp311-manylinux_2_17_x86_64.manylinux2014_x86_64.whl (26.7 MB)\n",
            "Using cached numpy-1.26.4-cp311-cp311-manylinux_2_17_x86_64.manylinux2014_x86_64.whl (18.3 MB)\n",
            "Using cached scipy-1.13.1-cp311-cp311-manylinux_2_17_x86_64.manylinux2014_x86_64.whl (38.6 MB)\n",
            "Downloading smart_open-7.1.0-py3-none-any.whl (61 kB)\n",
            "\u001b[2K   \u001b[90m━━━━━━━━━━━━━━━━━━━━━━━━━━━━━━━━━━━━━━━━\u001b[0m \u001b[32m61.7/61.7 kB\u001b[0m \u001b[31m2.7 MB/s\u001b[0m eta \u001b[36m0:00:00\u001b[0m\n",
            "\u001b[?25hDownloading wrapt-1.17.2-cp311-cp311-manylinux_2_5_x86_64.manylinux1_x86_64.manylinux_2_17_x86_64.manylinux2014_x86_64.whl (83 kB)\n",
            "\u001b[2K   \u001b[90m━━━━━━━━━━━━━━━━━━━━━━━━━━━━━━━━━━━━━━━━\u001b[0m \u001b[32m83.2/83.2 kB\u001b[0m \u001b[31m6.7 MB/s\u001b[0m eta \u001b[36m0:00:00\u001b[0m\n",
            "\u001b[?25hInstalling collected packages: wrapt, numpy, smart-open, scipy, gensim\n",
            "  Attempting uninstall: wrapt\n",
            "    Found existing installation: wrapt 1.17.2\n",
            "    Uninstalling wrapt-1.17.2:\n",
            "      Successfully uninstalled wrapt-1.17.2\n",
            "  Attempting uninstall: numpy\n",
            "    Found existing installation: numpy 1.26.0\n",
            "    Uninstalling numpy-1.26.0:\n",
            "      Successfully uninstalled numpy-1.26.0\n",
            "  Attempting uninstall: smart-open\n",
            "    Found existing installation: smart-open 7.1.0\n",
            "    Uninstalling smart-open-7.1.0:\n",
            "      Successfully uninstalled smart-open-7.1.0\n",
            "  Attempting uninstall: scipy\n",
            "    Found existing installation: scipy 1.13.1\n",
            "    Uninstalling scipy-1.13.1:\n",
            "      Successfully uninstalled scipy-1.13.1\n",
            "  Attempting uninstall: gensim\n",
            "    Found existing installation: gensim 4.3.3\n",
            "    Uninstalling gensim-4.3.3:\n",
            "      Successfully uninstalled gensim-4.3.3\n",
            "\u001b[31mERROR: pip's dependency resolver does not currently take into account all the packages that are installed. This behaviour is the source of the following dependency conflicts.\n",
            "tsfresh 0.21.0 requires scipy>=1.14.0; python_version >= \"3.10\", but you have scipy 1.13.1 which is incompatible.\n",
            "thinc 8.3.6 requires numpy<3.0.0,>=2.0.0, but you have numpy 1.26.4 which is incompatible.\u001b[0m\u001b[31m\n",
            "\u001b[0mSuccessfully installed gensim-4.3.3 numpy-1.26.4 scipy-1.13.1 smart-open-7.1.0 wrapt-1.17.2\n"
          ]
        }
      ],
      "source": [
        "\n",
        "#1) Downgrade NumPy to 1.26.x\n",
        "!pip install numpy==1.26.0 --upgrade\n",
        "\n",
        "# 2) Force-reinstall Gensim so it compiles against the new NumPy\n",
        "!pip install --upgrade --force-reinstall gensim\n",
        "\n",
        "# !pip install  gensim"
      ]
    },
    {
      "cell_type": "code",
      "execution_count": 24,
      "metadata": {
        "id": "TyVmX6-5vFlc"
      },
      "outputs": [],
      "source": [
        "## loading df that has data for the specific periods of interest     ('2020-01-01', '2020-05-31'),('2020-10-01', '2021-01-31'),('2021-11-01', '2022-01-31'),('2022-11-01','2023-01-31')"
      ]
    },
    {
      "cell_type": "code",
      "execution_count": 25,
      "metadata": {
        "id": "5A5UQYFZyu4a"
      },
      "outputs": [],
      "source": [
        "# Specify the path including the folder in your Google Drive\n",
        "path = '/content/drive/My Drive/Colab Notebooks/selected_df.csv'\n",
        "# Load the DataFrame from the CSV file\n",
        "df = pd.read_csv(path)"
      ]
    },
    {
      "cell_type": "code",
      "execution_count": 26,
      "metadata": {
        "colab": {
          "base_uri": "https://localhost:8080/",
          "height": 206
        },
        "id": "laiq0eWIoqv5",
        "outputId": "2b43a75a-2d1a-408a-f7c5-4ac49e3698db"
      },
      "outputs": [
        {
          "output_type": "execute_result",
          "data": {
            "text/plain": [
              "  created_utc     label     score  \\\n",
              "0  2020-05-31  mild neu  0.569819   \n",
              "1  2020-05-31  mild neu  0.617377   \n",
              "2  2020-05-31  mild neu  0.610706   \n",
              "3  2020-05-31  mild neu  0.576460   \n",
              "4  2020-05-31  mild neu  0.629136   \n",
              "\n",
              "                                        cleaned_text  \n",
              "0                                ill pay mosaic much  \n",
              "1  redemption november right riding shoe either m...  \n",
              "2  sure planning hilton redemption soon wouldnt s...  \n",
              "3                                             thanks  \n",
              "4                                           bigger w  "
            ],
            "text/html": [
              "\n",
              "  <div id=\"df-cdde19cc-7566-4de5-ac52-194217b6d611\" class=\"colab-df-container\">\n",
              "    <div>\n",
              "<style scoped>\n",
              "    .dataframe tbody tr th:only-of-type {\n",
              "        vertical-align: middle;\n",
              "    }\n",
              "\n",
              "    .dataframe tbody tr th {\n",
              "        vertical-align: top;\n",
              "    }\n",
              "\n",
              "    .dataframe thead th {\n",
              "        text-align: right;\n",
              "    }\n",
              "</style>\n",
              "<table border=\"1\" class=\"dataframe\">\n",
              "  <thead>\n",
              "    <tr style=\"text-align: right;\">\n",
              "      <th></th>\n",
              "      <th>created_utc</th>\n",
              "      <th>label</th>\n",
              "      <th>score</th>\n",
              "      <th>cleaned_text</th>\n",
              "    </tr>\n",
              "  </thead>\n",
              "  <tbody>\n",
              "    <tr>\n",
              "      <th>0</th>\n",
              "      <td>2020-05-31</td>\n",
              "      <td>mild neu</td>\n",
              "      <td>0.569819</td>\n",
              "      <td>ill pay mosaic much</td>\n",
              "    </tr>\n",
              "    <tr>\n",
              "      <th>1</th>\n",
              "      <td>2020-05-31</td>\n",
              "      <td>mild neu</td>\n",
              "      <td>0.617377</td>\n",
              "      <td>redemption november right riding shoe either m...</td>\n",
              "    </tr>\n",
              "    <tr>\n",
              "      <th>2</th>\n",
              "      <td>2020-05-31</td>\n",
              "      <td>mild neu</td>\n",
              "      <td>0.610706</td>\n",
              "      <td>sure planning hilton redemption soon wouldnt s...</td>\n",
              "    </tr>\n",
              "    <tr>\n",
              "      <th>3</th>\n",
              "      <td>2020-05-31</td>\n",
              "      <td>mild neu</td>\n",
              "      <td>0.576460</td>\n",
              "      <td>thanks</td>\n",
              "    </tr>\n",
              "    <tr>\n",
              "      <th>4</th>\n",
              "      <td>2020-05-31</td>\n",
              "      <td>mild neu</td>\n",
              "      <td>0.629136</td>\n",
              "      <td>bigger w</td>\n",
              "    </tr>\n",
              "  </tbody>\n",
              "</table>\n",
              "</div>\n",
              "    <div class=\"colab-df-buttons\">\n",
              "\n",
              "  <div class=\"colab-df-container\">\n",
              "    <button class=\"colab-df-convert\" onclick=\"convertToInteractive('df-cdde19cc-7566-4de5-ac52-194217b6d611')\"\n",
              "            title=\"Convert this dataframe to an interactive table.\"\n",
              "            style=\"display:none;\">\n",
              "\n",
              "  <svg xmlns=\"http://www.w3.org/2000/svg\" height=\"24px\" viewBox=\"0 -960 960 960\">\n",
              "    <path d=\"M120-120v-720h720v720H120Zm60-500h600v-160H180v160Zm220 220h160v-160H400v160Zm0 220h160v-160H400v160ZM180-400h160v-160H180v160Zm440 0h160v-160H620v160ZM180-180h160v-160H180v160Zm440 0h160v-160H620v160Z\"/>\n",
              "  </svg>\n",
              "    </button>\n",
              "\n",
              "  <style>\n",
              "    .colab-df-container {\n",
              "      display:flex;\n",
              "      gap: 12px;\n",
              "    }\n",
              "\n",
              "    .colab-df-convert {\n",
              "      background-color: #E8F0FE;\n",
              "      border: none;\n",
              "      border-radius: 50%;\n",
              "      cursor: pointer;\n",
              "      display: none;\n",
              "      fill: #1967D2;\n",
              "      height: 32px;\n",
              "      padding: 0 0 0 0;\n",
              "      width: 32px;\n",
              "    }\n",
              "\n",
              "    .colab-df-convert:hover {\n",
              "      background-color: #E2EBFA;\n",
              "      box-shadow: 0px 1px 2px rgba(60, 64, 67, 0.3), 0px 1px 3px 1px rgba(60, 64, 67, 0.15);\n",
              "      fill: #174EA6;\n",
              "    }\n",
              "\n",
              "    .colab-df-buttons div {\n",
              "      margin-bottom: 4px;\n",
              "    }\n",
              "\n",
              "    [theme=dark] .colab-df-convert {\n",
              "      background-color: #3B4455;\n",
              "      fill: #D2E3FC;\n",
              "    }\n",
              "\n",
              "    [theme=dark] .colab-df-convert:hover {\n",
              "      background-color: #434B5C;\n",
              "      box-shadow: 0px 1px 3px 1px rgba(0, 0, 0, 0.15);\n",
              "      filter: drop-shadow(0px 1px 2px rgba(0, 0, 0, 0.3));\n",
              "      fill: #FFFFFF;\n",
              "    }\n",
              "  </style>\n",
              "\n",
              "    <script>\n",
              "      const buttonEl =\n",
              "        document.querySelector('#df-cdde19cc-7566-4de5-ac52-194217b6d611 button.colab-df-convert');\n",
              "      buttonEl.style.display =\n",
              "        google.colab.kernel.accessAllowed ? 'block' : 'none';\n",
              "\n",
              "      async function convertToInteractive(key) {\n",
              "        const element = document.querySelector('#df-cdde19cc-7566-4de5-ac52-194217b6d611');\n",
              "        const dataTable =\n",
              "          await google.colab.kernel.invokeFunction('convertToInteractive',\n",
              "                                                    [key], {});\n",
              "        if (!dataTable) return;\n",
              "\n",
              "        const docLinkHtml = 'Like what you see? Visit the ' +\n",
              "          '<a target=\"_blank\" href=https://colab.research.google.com/notebooks/data_table.ipynb>data table notebook</a>'\n",
              "          + ' to learn more about interactive tables.';\n",
              "        element.innerHTML = '';\n",
              "        dataTable['output_type'] = 'display_data';\n",
              "        await google.colab.output.renderOutput(dataTable, element);\n",
              "        const docLink = document.createElement('div');\n",
              "        docLink.innerHTML = docLinkHtml;\n",
              "        element.appendChild(docLink);\n",
              "      }\n",
              "    </script>\n",
              "  </div>\n",
              "\n",
              "\n",
              "    <div id=\"df-3b5a8f25-8566-4c5c-b0ab-6120b78ad85c\">\n",
              "      <button class=\"colab-df-quickchart\" onclick=\"quickchart('df-3b5a8f25-8566-4c5c-b0ab-6120b78ad85c')\"\n",
              "                title=\"Suggest charts\"\n",
              "                style=\"display:none;\">\n",
              "\n",
              "<svg xmlns=\"http://www.w3.org/2000/svg\" height=\"24px\"viewBox=\"0 0 24 24\"\n",
              "     width=\"24px\">\n",
              "    <g>\n",
              "        <path d=\"M19 3H5c-1.1 0-2 .9-2 2v14c0 1.1.9 2 2 2h14c1.1 0 2-.9 2-2V5c0-1.1-.9-2-2-2zM9 17H7v-7h2v7zm4 0h-2V7h2v10zm4 0h-2v-4h2v4z\"/>\n",
              "    </g>\n",
              "</svg>\n",
              "      </button>\n",
              "\n",
              "<style>\n",
              "  .colab-df-quickchart {\n",
              "      --bg-color: #E8F0FE;\n",
              "      --fill-color: #1967D2;\n",
              "      --hover-bg-color: #E2EBFA;\n",
              "      --hover-fill-color: #174EA6;\n",
              "      --disabled-fill-color: #AAA;\n",
              "      --disabled-bg-color: #DDD;\n",
              "  }\n",
              "\n",
              "  [theme=dark] .colab-df-quickchart {\n",
              "      --bg-color: #3B4455;\n",
              "      --fill-color: #D2E3FC;\n",
              "      --hover-bg-color: #434B5C;\n",
              "      --hover-fill-color: #FFFFFF;\n",
              "      --disabled-bg-color: #3B4455;\n",
              "      --disabled-fill-color: #666;\n",
              "  }\n",
              "\n",
              "  .colab-df-quickchart {\n",
              "    background-color: var(--bg-color);\n",
              "    border: none;\n",
              "    border-radius: 50%;\n",
              "    cursor: pointer;\n",
              "    display: none;\n",
              "    fill: var(--fill-color);\n",
              "    height: 32px;\n",
              "    padding: 0;\n",
              "    width: 32px;\n",
              "  }\n",
              "\n",
              "  .colab-df-quickchart:hover {\n",
              "    background-color: var(--hover-bg-color);\n",
              "    box-shadow: 0 1px 2px rgba(60, 64, 67, 0.3), 0 1px 3px 1px rgba(60, 64, 67, 0.15);\n",
              "    fill: var(--button-hover-fill-color);\n",
              "  }\n",
              "\n",
              "  .colab-df-quickchart-complete:disabled,\n",
              "  .colab-df-quickchart-complete:disabled:hover {\n",
              "    background-color: var(--disabled-bg-color);\n",
              "    fill: var(--disabled-fill-color);\n",
              "    box-shadow: none;\n",
              "  }\n",
              "\n",
              "  .colab-df-spinner {\n",
              "    border: 2px solid var(--fill-color);\n",
              "    border-color: transparent;\n",
              "    border-bottom-color: var(--fill-color);\n",
              "    animation:\n",
              "      spin 1s steps(1) infinite;\n",
              "  }\n",
              "\n",
              "  @keyframes spin {\n",
              "    0% {\n",
              "      border-color: transparent;\n",
              "      border-bottom-color: var(--fill-color);\n",
              "      border-left-color: var(--fill-color);\n",
              "    }\n",
              "    20% {\n",
              "      border-color: transparent;\n",
              "      border-left-color: var(--fill-color);\n",
              "      border-top-color: var(--fill-color);\n",
              "    }\n",
              "    30% {\n",
              "      border-color: transparent;\n",
              "      border-left-color: var(--fill-color);\n",
              "      border-top-color: var(--fill-color);\n",
              "      border-right-color: var(--fill-color);\n",
              "    }\n",
              "    40% {\n",
              "      border-color: transparent;\n",
              "      border-right-color: var(--fill-color);\n",
              "      border-top-color: var(--fill-color);\n",
              "    }\n",
              "    60% {\n",
              "      border-color: transparent;\n",
              "      border-right-color: var(--fill-color);\n",
              "    }\n",
              "    80% {\n",
              "      border-color: transparent;\n",
              "      border-right-color: var(--fill-color);\n",
              "      border-bottom-color: var(--fill-color);\n",
              "    }\n",
              "    90% {\n",
              "      border-color: transparent;\n",
              "      border-bottom-color: var(--fill-color);\n",
              "    }\n",
              "  }\n",
              "</style>\n",
              "\n",
              "      <script>\n",
              "        async function quickchart(key) {\n",
              "          const quickchartButtonEl =\n",
              "            document.querySelector('#' + key + ' button');\n",
              "          quickchartButtonEl.disabled = true;  // To prevent multiple clicks.\n",
              "          quickchartButtonEl.classList.add('colab-df-spinner');\n",
              "          try {\n",
              "            const charts = await google.colab.kernel.invokeFunction(\n",
              "                'suggestCharts', [key], {});\n",
              "          } catch (error) {\n",
              "            console.error('Error during call to suggestCharts:', error);\n",
              "          }\n",
              "          quickchartButtonEl.classList.remove('colab-df-spinner');\n",
              "          quickchartButtonEl.classList.add('colab-df-quickchart-complete');\n",
              "        }\n",
              "        (() => {\n",
              "          let quickchartButtonEl =\n",
              "            document.querySelector('#df-3b5a8f25-8566-4c5c-b0ab-6120b78ad85c button');\n",
              "          quickchartButtonEl.style.display =\n",
              "            google.colab.kernel.accessAllowed ? 'block' : 'none';\n",
              "        })();\n",
              "      </script>\n",
              "    </div>\n",
              "\n",
              "    </div>\n",
              "  </div>\n"
            ],
            "application/vnd.google.colaboratory.intrinsic+json": {
              "type": "dataframe",
              "variable_name": "df",
              "summary": "{\n  \"name\": \"df\",\n  \"rows\": 87034,\n  \"fields\": [\n    {\n      \"column\": \"created_utc\",\n      \"properties\": {\n        \"dtype\": \"object\",\n        \"num_unique_values\": 422,\n        \"samples\": [\n          \"2021-01-30\",\n          \"2021-11-24\",\n          \"2020-12-31\"\n        ],\n        \"semantic_type\": \"\",\n        \"description\": \"\"\n      }\n    },\n    {\n      \"column\": \"label\",\n      \"properties\": {\n        \"dtype\": \"category\",\n        \"num_unique_values\": 6,\n        \"samples\": [\n          \"mild neu\",\n          \"high neu\",\n          \"high neg\"\n        ],\n        \"semantic_type\": \"\",\n        \"description\": \"\"\n      }\n    },\n    {\n      \"column\": \"score\",\n      \"properties\": {\n        \"dtype\": \"number\",\n        \"std\": 0.12152225759342901,\n        \"min\": 0.4403473436832428,\n        \"max\": 0.992438018321991,\n        \"num_unique_values\": 77047,\n        \"samples\": [\n          0.8842844367027283,\n          0.7468905448913574,\n          0.6949559450149536\n        ],\n        \"semantic_type\": \"\",\n        \"description\": \"\"\n      }\n    },\n    {\n      \"column\": \"cleaned_text\",\n      \"properties\": {\n        \"dtype\": \"string\",\n        \"num_unique_values\": 77616,\n        \"samples\": [\n          \"definitely day hilo fancy beautiful old hawaii feel\",\n          \"right thought aspire actually surpass card well worth annual fee stay night year\",\n          \"totally agree dont want run problem registration hotel american russian tourist visa need apologize thanks community kind\"\n        ],\n        \"semantic_type\": \"\",\n        \"description\": \"\"\n      }\n    }\n  ]\n}"
            }
          },
          "metadata": {},
          "execution_count": 26
        }
      ],
      "source": [
        "df.head()"
      ]
    },
    {
      "cell_type": "code",
      "execution_count": 27,
      "metadata": {
        "colab": {
          "base_uri": "https://localhost:8080/"
        },
        "id": "FS0uOK5LpFpY",
        "outputId": "4dd928d1-2499-4c09-b02a-a658d86a2788"
      },
      "outputs": [
        {
          "output_type": "stream",
          "name": "stdout",
          "text": [
            "Collecting contractions\n",
            "  Downloading contractions-0.1.73-py2.py3-none-any.whl.metadata (1.2 kB)\n",
            "Collecting textsearch>=0.0.21 (from contractions)\n",
            "  Downloading textsearch-0.0.24-py2.py3-none-any.whl.metadata (1.2 kB)\n",
            "Collecting anyascii (from textsearch>=0.0.21->contractions)\n",
            "  Downloading anyascii-0.3.2-py3-none-any.whl.metadata (1.5 kB)\n",
            "Collecting pyahocorasick (from textsearch>=0.0.21->contractions)\n",
            "  Downloading pyahocorasick-2.1.0-cp311-cp311-manylinux_2_17_x86_64.manylinux2014_x86_64.whl.metadata (13 kB)\n",
            "Downloading contractions-0.1.73-py2.py3-none-any.whl (8.7 kB)\n",
            "Downloading textsearch-0.0.24-py2.py3-none-any.whl (7.6 kB)\n",
            "Downloading anyascii-0.3.2-py3-none-any.whl (289 kB)\n",
            "\u001b[2K   \u001b[90m━━━━━━━━━━━━━━━━━━━━━━━━━━━━━━━━━━━━━━━━\u001b[0m \u001b[32m289.9/289.9 kB\u001b[0m \u001b[31m7.8 MB/s\u001b[0m eta \u001b[36m0:00:00\u001b[0m\n",
            "\u001b[?25hDownloading pyahocorasick-2.1.0-cp311-cp311-manylinux_2_17_x86_64.manylinux2014_x86_64.whl (118 kB)\n",
            "\u001b[2K   \u001b[90m━━━━━━━━━━━━━━━━━━━━━━━━━━━━━━━━━━━━━━━━\u001b[0m \u001b[32m118.3/118.3 kB\u001b[0m \u001b[31m8.0 MB/s\u001b[0m eta \u001b[36m0:00:00\u001b[0m\n",
            "\u001b[?25hInstalling collected packages: pyahocorasick, anyascii, textsearch, contractions\n",
            "Successfully installed anyascii-0.3.2 contractions-0.1.73 pyahocorasick-2.1.0 textsearch-0.0.24\n"
          ]
        }
      ],
      "source": [
        "!pip install contractions"
      ]
    },
    {
      "cell_type": "code",
      "execution_count": 28,
      "metadata": {
        "id": "DWqGfdx6prB_"
      },
      "outputs": [],
      "source": [
        "\n",
        "# import nltk\n",
        "# nltk.download('punkt_tab')\n",
        "# !pip install -U spacy torch transformers\n",
        "import spacy\n"
      ]
    },
    {
      "cell_type": "code",
      "execution_count": 29,
      "metadata": {
        "id": "p-n91NfcK6X-"
      },
      "outputs": [],
      "source": [
        "# !python -m spacy download en_core_web_trf\n"
      ]
    },
    {
      "cell_type": "code",
      "execution_count": 30,
      "metadata": {
        "colab": {
          "base_uri": "https://localhost:8080/"
        },
        "id": "15z4DtWGq2sb",
        "outputId": "8a8b5bf8-1353-428d-cf6a-c437e0d56d75"
      },
      "outputs": [
        {
          "output_type": "execute_result",
          "data": {
            "text/plain": [
              "87034"
            ]
          },
          "metadata": {},
          "execution_count": 30
        }
      ],
      "source": [
        "df.shape[0]"
      ]
    },
    {
      "cell_type": "code",
      "execution_count": 31,
      "metadata": {
        "colab": {
          "base_uri": "https://localhost:8080/"
        },
        "id": "VOAsdno1q0R6",
        "outputId": "0bfd977a-e3fa-4efe-a50d-2a94a01109d1"
      },
      "outputs": [
        {
          "output_type": "execute_result",
          "data": {
            "text/plain": [
              "86446"
            ]
          },
          "metadata": {},
          "execution_count": 31
        }
      ],
      "source": [
        "#drop NA\n",
        "# drop any rows where cleaned_text isn’t a real string\n",
        "df = df.dropna(subset=['cleaned_text'])\n",
        "df.shape[0]"
      ]
    },
    {
      "cell_type": "code",
      "execution_count": 32,
      "metadata": {
        "colab": {
          "base_uri": "https://localhost:8080/",
          "height": 206
        },
        "id": "OxBuDUtVoeDw",
        "outputId": "eaae8db8-0705-423a-bdb1-17930ea1cb00"
      },
      "outputs": [
        {
          "output_type": "execute_result",
          "data": {
            "text/plain": [
              "  created_utc     score                                         final_text  \\\n",
              "0  2020-05-31  0.569819                                     ill pay mosaic   \n",
              "1  2020-05-31  0.617377  redemption november right riding shoe move tri...   \n",
              "2  2020-05-31  0.610706  sure plan hilton redemption soon speculatively...   \n",
              "3  2020-05-31  0.576460                                              thank   \n",
              "4  2020-05-31  0.629136                                                big   \n",
              "\n",
              "                                              tokens  \n",
              "0                                 [ill, pay, mosaic]  \n",
              "1  [redemption, november, right, riding, shoe, mo...  \n",
              "2  [sure, plan, hilton, redemption, soon, specula...  \n",
              "3                                            [thank]  \n",
              "4                                              [big]  "
            ],
            "text/html": [
              "\n",
              "  <div id=\"df-076cd73c-0b8c-4eb2-a6b9-739beffc489b\" class=\"colab-df-container\">\n",
              "    <div>\n",
              "<style scoped>\n",
              "    .dataframe tbody tr th:only-of-type {\n",
              "        vertical-align: middle;\n",
              "    }\n",
              "\n",
              "    .dataframe tbody tr th {\n",
              "        vertical-align: top;\n",
              "    }\n",
              "\n",
              "    .dataframe thead th {\n",
              "        text-align: right;\n",
              "    }\n",
              "</style>\n",
              "<table border=\"1\" class=\"dataframe\">\n",
              "  <thead>\n",
              "    <tr style=\"text-align: right;\">\n",
              "      <th></th>\n",
              "      <th>created_utc</th>\n",
              "      <th>score</th>\n",
              "      <th>final_text</th>\n",
              "      <th>tokens</th>\n",
              "    </tr>\n",
              "  </thead>\n",
              "  <tbody>\n",
              "    <tr>\n",
              "      <th>0</th>\n",
              "      <td>2020-05-31</td>\n",
              "      <td>0.569819</td>\n",
              "      <td>ill pay mosaic</td>\n",
              "      <td>[ill, pay, mosaic]</td>\n",
              "    </tr>\n",
              "    <tr>\n",
              "      <th>1</th>\n",
              "      <td>2020-05-31</td>\n",
              "      <td>0.617377</td>\n",
              "      <td>redemption november right riding shoe move tri...</td>\n",
              "      <td>[redemption, november, right, riding, shoe, mo...</td>\n",
              "    </tr>\n",
              "    <tr>\n",
              "      <th>2</th>\n",
              "      <td>2020-05-31</td>\n",
              "      <td>0.610706</td>\n",
              "      <td>sure plan hilton redemption soon speculatively...</td>\n",
              "      <td>[sure, plan, hilton, redemption, soon, specula...</td>\n",
              "    </tr>\n",
              "    <tr>\n",
              "      <th>3</th>\n",
              "      <td>2020-05-31</td>\n",
              "      <td>0.576460</td>\n",
              "      <td>thank</td>\n",
              "      <td>[thank]</td>\n",
              "    </tr>\n",
              "    <tr>\n",
              "      <th>4</th>\n",
              "      <td>2020-05-31</td>\n",
              "      <td>0.629136</td>\n",
              "      <td>big</td>\n",
              "      <td>[big]</td>\n",
              "    </tr>\n",
              "  </tbody>\n",
              "</table>\n",
              "</div>\n",
              "    <div class=\"colab-df-buttons\">\n",
              "\n",
              "  <div class=\"colab-df-container\">\n",
              "    <button class=\"colab-df-convert\" onclick=\"convertToInteractive('df-076cd73c-0b8c-4eb2-a6b9-739beffc489b')\"\n",
              "            title=\"Convert this dataframe to an interactive table.\"\n",
              "            style=\"display:none;\">\n",
              "\n",
              "  <svg xmlns=\"http://www.w3.org/2000/svg\" height=\"24px\" viewBox=\"0 -960 960 960\">\n",
              "    <path d=\"M120-120v-720h720v720H120Zm60-500h600v-160H180v160Zm220 220h160v-160H400v160Zm0 220h160v-160H400v160ZM180-400h160v-160H180v160Zm440 0h160v-160H620v160ZM180-180h160v-160H180v160Zm440 0h160v-160H620v160Z\"/>\n",
              "  </svg>\n",
              "    </button>\n",
              "\n",
              "  <style>\n",
              "    .colab-df-container {\n",
              "      display:flex;\n",
              "      gap: 12px;\n",
              "    }\n",
              "\n",
              "    .colab-df-convert {\n",
              "      background-color: #E8F0FE;\n",
              "      border: none;\n",
              "      border-radius: 50%;\n",
              "      cursor: pointer;\n",
              "      display: none;\n",
              "      fill: #1967D2;\n",
              "      height: 32px;\n",
              "      padding: 0 0 0 0;\n",
              "      width: 32px;\n",
              "    }\n",
              "\n",
              "    .colab-df-convert:hover {\n",
              "      background-color: #E2EBFA;\n",
              "      box-shadow: 0px 1px 2px rgba(60, 64, 67, 0.3), 0px 1px 3px 1px rgba(60, 64, 67, 0.15);\n",
              "      fill: #174EA6;\n",
              "    }\n",
              "\n",
              "    .colab-df-buttons div {\n",
              "      margin-bottom: 4px;\n",
              "    }\n",
              "\n",
              "    [theme=dark] .colab-df-convert {\n",
              "      background-color: #3B4455;\n",
              "      fill: #D2E3FC;\n",
              "    }\n",
              "\n",
              "    [theme=dark] .colab-df-convert:hover {\n",
              "      background-color: #434B5C;\n",
              "      box-shadow: 0px 1px 3px 1px rgba(0, 0, 0, 0.15);\n",
              "      filter: drop-shadow(0px 1px 2px rgba(0, 0, 0, 0.3));\n",
              "      fill: #FFFFFF;\n",
              "    }\n",
              "  </style>\n",
              "\n",
              "    <script>\n",
              "      const buttonEl =\n",
              "        document.querySelector('#df-076cd73c-0b8c-4eb2-a6b9-739beffc489b button.colab-df-convert');\n",
              "      buttonEl.style.display =\n",
              "        google.colab.kernel.accessAllowed ? 'block' : 'none';\n",
              "\n",
              "      async function convertToInteractive(key) {\n",
              "        const element = document.querySelector('#df-076cd73c-0b8c-4eb2-a6b9-739beffc489b');\n",
              "        const dataTable =\n",
              "          await google.colab.kernel.invokeFunction('convertToInteractive',\n",
              "                                                    [key], {});\n",
              "        if (!dataTable) return;\n",
              "\n",
              "        const docLinkHtml = 'Like what you see? Visit the ' +\n",
              "          '<a target=\"_blank\" href=https://colab.research.google.com/notebooks/data_table.ipynb>data table notebook</a>'\n",
              "          + ' to learn more about interactive tables.';\n",
              "        element.innerHTML = '';\n",
              "        dataTable['output_type'] = 'display_data';\n",
              "        await google.colab.output.renderOutput(dataTable, element);\n",
              "        const docLink = document.createElement('div');\n",
              "        docLink.innerHTML = docLinkHtml;\n",
              "        element.appendChild(docLink);\n",
              "      }\n",
              "    </script>\n",
              "  </div>\n",
              "\n",
              "\n",
              "    <div id=\"df-3fe1c492-9014-4cbf-a448-5190a84dd63c\">\n",
              "      <button class=\"colab-df-quickchart\" onclick=\"quickchart('df-3fe1c492-9014-4cbf-a448-5190a84dd63c')\"\n",
              "                title=\"Suggest charts\"\n",
              "                style=\"display:none;\">\n",
              "\n",
              "<svg xmlns=\"http://www.w3.org/2000/svg\" height=\"24px\"viewBox=\"0 0 24 24\"\n",
              "     width=\"24px\">\n",
              "    <g>\n",
              "        <path d=\"M19 3H5c-1.1 0-2 .9-2 2v14c0 1.1.9 2 2 2h14c1.1 0 2-.9 2-2V5c0-1.1-.9-2-2-2zM9 17H7v-7h2v7zm4 0h-2V7h2v10zm4 0h-2v-4h2v4z\"/>\n",
              "    </g>\n",
              "</svg>\n",
              "      </button>\n",
              "\n",
              "<style>\n",
              "  .colab-df-quickchart {\n",
              "      --bg-color: #E8F0FE;\n",
              "      --fill-color: #1967D2;\n",
              "      --hover-bg-color: #E2EBFA;\n",
              "      --hover-fill-color: #174EA6;\n",
              "      --disabled-fill-color: #AAA;\n",
              "      --disabled-bg-color: #DDD;\n",
              "  }\n",
              "\n",
              "  [theme=dark] .colab-df-quickchart {\n",
              "      --bg-color: #3B4455;\n",
              "      --fill-color: #D2E3FC;\n",
              "      --hover-bg-color: #434B5C;\n",
              "      --hover-fill-color: #FFFFFF;\n",
              "      --disabled-bg-color: #3B4455;\n",
              "      --disabled-fill-color: #666;\n",
              "  }\n",
              "\n",
              "  .colab-df-quickchart {\n",
              "    background-color: var(--bg-color);\n",
              "    border: none;\n",
              "    border-radius: 50%;\n",
              "    cursor: pointer;\n",
              "    display: none;\n",
              "    fill: var(--fill-color);\n",
              "    height: 32px;\n",
              "    padding: 0;\n",
              "    width: 32px;\n",
              "  }\n",
              "\n",
              "  .colab-df-quickchart:hover {\n",
              "    background-color: var(--hover-bg-color);\n",
              "    box-shadow: 0 1px 2px rgba(60, 64, 67, 0.3), 0 1px 3px 1px rgba(60, 64, 67, 0.15);\n",
              "    fill: var(--button-hover-fill-color);\n",
              "  }\n",
              "\n",
              "  .colab-df-quickchart-complete:disabled,\n",
              "  .colab-df-quickchart-complete:disabled:hover {\n",
              "    background-color: var(--disabled-bg-color);\n",
              "    fill: var(--disabled-fill-color);\n",
              "    box-shadow: none;\n",
              "  }\n",
              "\n",
              "  .colab-df-spinner {\n",
              "    border: 2px solid var(--fill-color);\n",
              "    border-color: transparent;\n",
              "    border-bottom-color: var(--fill-color);\n",
              "    animation:\n",
              "      spin 1s steps(1) infinite;\n",
              "  }\n",
              "\n",
              "  @keyframes spin {\n",
              "    0% {\n",
              "      border-color: transparent;\n",
              "      border-bottom-color: var(--fill-color);\n",
              "      border-left-color: var(--fill-color);\n",
              "    }\n",
              "    20% {\n",
              "      border-color: transparent;\n",
              "      border-left-color: var(--fill-color);\n",
              "      border-top-color: var(--fill-color);\n",
              "    }\n",
              "    30% {\n",
              "      border-color: transparent;\n",
              "      border-left-color: var(--fill-color);\n",
              "      border-top-color: var(--fill-color);\n",
              "      border-right-color: var(--fill-color);\n",
              "    }\n",
              "    40% {\n",
              "      border-color: transparent;\n",
              "      border-right-color: var(--fill-color);\n",
              "      border-top-color: var(--fill-color);\n",
              "    }\n",
              "    60% {\n",
              "      border-color: transparent;\n",
              "      border-right-color: var(--fill-color);\n",
              "    }\n",
              "    80% {\n",
              "      border-color: transparent;\n",
              "      border-right-color: var(--fill-color);\n",
              "      border-bottom-color: var(--fill-color);\n",
              "    }\n",
              "    90% {\n",
              "      border-color: transparent;\n",
              "      border-bottom-color: var(--fill-color);\n",
              "    }\n",
              "  }\n",
              "</style>\n",
              "\n",
              "      <script>\n",
              "        async function quickchart(key) {\n",
              "          const quickchartButtonEl =\n",
              "            document.querySelector('#' + key + ' button');\n",
              "          quickchartButtonEl.disabled = true;  // To prevent multiple clicks.\n",
              "          quickchartButtonEl.classList.add('colab-df-spinner');\n",
              "          try {\n",
              "            const charts = await google.colab.kernel.invokeFunction(\n",
              "                'suggestCharts', [key], {});\n",
              "          } catch (error) {\n",
              "            console.error('Error during call to suggestCharts:', error);\n",
              "          }\n",
              "          quickchartButtonEl.classList.remove('colab-df-spinner');\n",
              "          quickchartButtonEl.classList.add('colab-df-quickchart-complete');\n",
              "        }\n",
              "        (() => {\n",
              "          let quickchartButtonEl =\n",
              "            document.querySelector('#df-3fe1c492-9014-4cbf-a448-5190a84dd63c button');\n",
              "          quickchartButtonEl.style.display =\n",
              "            google.colab.kernel.accessAllowed ? 'block' : 'none';\n",
              "        })();\n",
              "      </script>\n",
              "    </div>\n",
              "\n",
              "    </div>\n",
              "  </div>\n"
            ],
            "application/vnd.google.colaboratory.intrinsic+json": {
              "type": "dataframe",
              "summary": "{\n  \"name\": \"df[['created_utc','score','final_text','tokens']]\",\n  \"rows\": 5,\n  \"fields\": [\n    {\n      \"column\": \"created_utc\",\n      \"properties\": {\n        \"dtype\": \"date\",\n        \"min\": \"2020-05-31 00:00:00\",\n        \"max\": \"2020-05-31 00:00:00\",\n        \"num_unique_values\": 1,\n        \"samples\": [\n          \"2020-05-31 00:00:00\"\n        ],\n        \"semantic_type\": \"\",\n        \"description\": \"\"\n      }\n    },\n    {\n      \"column\": \"score\",\n      \"properties\": {\n        \"dtype\": \"number\",\n        \"std\": 0.026115351458423277,\n        \"min\": 0.5698192715644836,\n        \"max\": 0.6291364431381226,\n        \"num_unique_values\": 5,\n        \"samples\": [\n          0.6173766851425171\n        ],\n        \"semantic_type\": \"\",\n        \"description\": \"\"\n      }\n    },\n    {\n      \"column\": \"final_text\",\n      \"properties\": {\n        \"dtype\": \"string\",\n        \"num_unique_values\": 5,\n        \"samples\": [\n          \"redemption november right riding shoe move trip availability cancel let point sit cash transfer hilton come massive loss november roll dice rebook\"\n        ],\n        \"semantic_type\": \"\",\n        \"description\": \"\"\n      }\n    },\n    {\n      \"column\": \"tokens\",\n      \"properties\": {\n        \"dtype\": \"object\",\n        \"semantic_type\": \"\",\n        \"description\": \"\"\n      }\n    }\n  ]\n}"
            }
          },
          "metadata": {},
          "execution_count": 32
        }
      ],
      "source": [
        "## Data Cleaning with spaCy\n",
        "import re, string\n",
        "import pandas as pd\n",
        "import contractions\n",
        "import spacy\n",
        "\n",
        "# Load spaCy's English model\n",
        "nlp = spacy.load(\"en_core_web_sm\")\n",
        "# nlp = spacy.load(\"en_core_web_trf\")\n",
        "# Convert timestamp column\n",
        "df['created_utc'] = pd.to_datetime(df['created_utc'])\n",
        "\n",
        "# Define full-clean function using spaCy\n",
        "def full_clean_spacy(doc):\n",
        "    # Basic regex cleaning\n",
        "    doc = re.sub(r'\\s+', ' ', doc).strip()\n",
        "    doc = doc.lower()\n",
        "    doc = re.sub(r'http\\S+|www\\.\\S+', '', doc)\n",
        "    doc = re.sub(r'<.*?>',          '', doc)\n",
        "    doc = re.sub(r'@\\w+|#\\w+',      '', doc)\n",
        "    doc = contractions.fix(doc)\n",
        "    doc = doc.translate(str.maketrans('', '', string.punctuation))\n",
        "    doc = re.sub(r'\\d+', '', doc)\n",
        "\n",
        "    # Process with spaCy\n",
        "    spacy_doc = nlp(doc)\n",
        "\n",
        "    # Lemmatize, remove stopwords and short tokens\n",
        "    tokens = [\n",
        "        token.lemma_\n",
        "        for token in spacy_doc\n",
        "        if not token.is_stop and not token.is_punct and len(token) > 2\n",
        "    ]\n",
        "    return tokens\n",
        "\n",
        "# Apply to each row\n",
        "df['tokens']     = df['cleaned_text'].apply(full_clean_spacy)\n",
        "df['final_text'] = df['tokens'].str.join(' ')\n",
        "\n",
        "# Preview\n",
        "df[['created_utc','score','final_text','tokens']].head()\n"
      ]
    },
    {
      "cell_type": "code",
      "execution_count": 33,
      "metadata": {
        "colab": {
          "base_uri": "https://localhost:8080/"
        },
        "id": "c1Qd-mQhrDzG",
        "outputId": "b01e86e7-d713-4049-93bd-a54009f5c4e9"
      },
      "outputs": [
        {
          "output_type": "execute_result",
          "data": {
            "text/plain": [
              "86446"
            ]
          },
          "metadata": {},
          "execution_count": 33
        }
      ],
      "source": [
        "df.shape[0]"
      ]
    },
    {
      "cell_type": "code",
      "execution_count": 34,
      "metadata": {
        "colab": {
          "base_uri": "https://localhost:8080/",
          "height": 310
        },
        "id": "qtaS7KFiz2j9",
        "outputId": "7b93944d-66e8-4084-ac68-bc6317851a2f"
      },
      "outputs": [
        {
          "output_type": "stream",
          "name": "stderr",
          "text": [
            "<ipython-input-34-49ea9e575302>:5: SettingWithCopyWarning: \n",
            "A value is trying to be set on a copy of a slice from a DataFrame.\n",
            "Try using .loc[row_indexer,col_indexer] = value instead\n",
            "\n",
            "See the caveats in the documentation: https://pandas.pydata.org/pandas-docs/stable/user_guide/indexing.html#returning-a-view-versus-a-copy\n",
            "  high_pos_df['created_utc'] = pd.to_datetime(high_pos_df['created_utc'])\n"
          ]
        },
        {
          "output_type": "execute_result",
          "data": {
            "text/plain": [
              "      created_utc     label     score  \\\n",
              "63040  2023-01-02  mild pos  0.577042   \n",
              "63091  2023-01-02  mild pos  0.667171   \n",
              "63110  2023-01-01  mild pos  0.736473   \n",
              "63128  2023-01-01  mild pos  0.664399   \n",
              "63164  2023-01-01  mild pos  0.722994   \n",
              "\n",
              "                                            cleaned_text  \\\n",
              "63040  flown disagree supposed fall asleep right away...   \n",
              "63091  application approved global entry tried make a...   \n",
              "63110  dallas isnt walkable short uber almost everyth...   \n",
              "63128  really system designed weed thing considered x...   \n",
              "63164  able book eventually successful australian cal...   \n",
              "\n",
              "                                                  tokens  \\\n",
              "63040  [fly, disagree, suppose, fall, asleep, right, ...   \n",
              "63091  [application, approve, global, entry, try, app...   \n",
              "63110  [dallas, walkable, short, uber, restaurant, ho...   \n",
              "63128  [system, design, weed, thing, consider, value,...   \n",
              "63164  [able, book, eventually, successful, australia...   \n",
              "\n",
              "                                              final_text  \n",
              "63040  fly disagree suppose fall asleep right away ea...  \n",
              "63091  application approve global entry try appointme...  \n",
              "63110  dallas walkable short uber restaurant hotel ca...  \n",
              "63128  system design weed thing consider value chase ...  \n",
              "63164  able book eventually successful australian center  "
            ],
            "text/html": [
              "\n",
              "  <div id=\"df-4f0960a8-2569-40e3-bc08-bafe3fd9e868\" class=\"colab-df-container\">\n",
              "    <div>\n",
              "<style scoped>\n",
              "    .dataframe tbody tr th:only-of-type {\n",
              "        vertical-align: middle;\n",
              "    }\n",
              "\n",
              "    .dataframe tbody tr th {\n",
              "        vertical-align: top;\n",
              "    }\n",
              "\n",
              "    .dataframe thead th {\n",
              "        text-align: right;\n",
              "    }\n",
              "</style>\n",
              "<table border=\"1\" class=\"dataframe\">\n",
              "  <thead>\n",
              "    <tr style=\"text-align: right;\">\n",
              "      <th></th>\n",
              "      <th>created_utc</th>\n",
              "      <th>label</th>\n",
              "      <th>score</th>\n",
              "      <th>cleaned_text</th>\n",
              "      <th>tokens</th>\n",
              "      <th>final_text</th>\n",
              "    </tr>\n",
              "  </thead>\n",
              "  <tbody>\n",
              "    <tr>\n",
              "      <th>63040</th>\n",
              "      <td>2023-01-02</td>\n",
              "      <td>mild pos</td>\n",
              "      <td>0.577042</td>\n",
              "      <td>flown disagree supposed fall asleep right away...</td>\n",
              "      <td>[fly, disagree, suppose, fall, asleep, right, ...</td>\n",
              "      <td>fly disagree suppose fall asleep right away ea...</td>\n",
              "    </tr>\n",
              "    <tr>\n",
              "      <th>63091</th>\n",
              "      <td>2023-01-02</td>\n",
              "      <td>mild pos</td>\n",
              "      <td>0.667171</td>\n",
              "      <td>application approved global entry tried make a...</td>\n",
              "      <td>[application, approve, global, entry, try, app...</td>\n",
              "      <td>application approve global entry try appointme...</td>\n",
              "    </tr>\n",
              "    <tr>\n",
              "      <th>63110</th>\n",
              "      <td>2023-01-01</td>\n",
              "      <td>mild pos</td>\n",
              "      <td>0.736473</td>\n",
              "      <td>dallas isnt walkable short uber almost everyth...</td>\n",
              "      <td>[dallas, walkable, short, uber, restaurant, ho...</td>\n",
              "      <td>dallas walkable short uber restaurant hotel ca...</td>\n",
              "    </tr>\n",
              "    <tr>\n",
              "      <th>63128</th>\n",
              "      <td>2023-01-01</td>\n",
              "      <td>mild pos</td>\n",
              "      <td>0.664399</td>\n",
              "      <td>really system designed weed thing considered x...</td>\n",
              "      <td>[system, design, weed, thing, consider, value,...</td>\n",
              "      <td>system design weed thing consider value chase ...</td>\n",
              "    </tr>\n",
              "    <tr>\n",
              "      <th>63164</th>\n",
              "      <td>2023-01-01</td>\n",
              "      <td>mild pos</td>\n",
              "      <td>0.722994</td>\n",
              "      <td>able book eventually successful australian cal...</td>\n",
              "      <td>[able, book, eventually, successful, australia...</td>\n",
              "      <td>able book eventually successful australian center</td>\n",
              "    </tr>\n",
              "  </tbody>\n",
              "</table>\n",
              "</div>\n",
              "    <div class=\"colab-df-buttons\">\n",
              "\n",
              "  <div class=\"colab-df-container\">\n",
              "    <button class=\"colab-df-convert\" onclick=\"convertToInteractive('df-4f0960a8-2569-40e3-bc08-bafe3fd9e868')\"\n",
              "            title=\"Convert this dataframe to an interactive table.\"\n",
              "            style=\"display:none;\">\n",
              "\n",
              "  <svg xmlns=\"http://www.w3.org/2000/svg\" height=\"24px\" viewBox=\"0 -960 960 960\">\n",
              "    <path d=\"M120-120v-720h720v720H120Zm60-500h600v-160H180v160Zm220 220h160v-160H400v160Zm0 220h160v-160H400v160ZM180-400h160v-160H180v160Zm440 0h160v-160H620v160ZM180-180h160v-160H180v160Zm440 0h160v-160H620v160Z\"/>\n",
              "  </svg>\n",
              "    </button>\n",
              "\n",
              "  <style>\n",
              "    .colab-df-container {\n",
              "      display:flex;\n",
              "      gap: 12px;\n",
              "    }\n",
              "\n",
              "    .colab-df-convert {\n",
              "      background-color: #E8F0FE;\n",
              "      border: none;\n",
              "      border-radius: 50%;\n",
              "      cursor: pointer;\n",
              "      display: none;\n",
              "      fill: #1967D2;\n",
              "      height: 32px;\n",
              "      padding: 0 0 0 0;\n",
              "      width: 32px;\n",
              "    }\n",
              "\n",
              "    .colab-df-convert:hover {\n",
              "      background-color: #E2EBFA;\n",
              "      box-shadow: 0px 1px 2px rgba(60, 64, 67, 0.3), 0px 1px 3px 1px rgba(60, 64, 67, 0.15);\n",
              "      fill: #174EA6;\n",
              "    }\n",
              "\n",
              "    .colab-df-buttons div {\n",
              "      margin-bottom: 4px;\n",
              "    }\n",
              "\n",
              "    [theme=dark] .colab-df-convert {\n",
              "      background-color: #3B4455;\n",
              "      fill: #D2E3FC;\n",
              "    }\n",
              "\n",
              "    [theme=dark] .colab-df-convert:hover {\n",
              "      background-color: #434B5C;\n",
              "      box-shadow: 0px 1px 3px 1px rgba(0, 0, 0, 0.15);\n",
              "      filter: drop-shadow(0px 1px 2px rgba(0, 0, 0, 0.3));\n",
              "      fill: #FFFFFF;\n",
              "    }\n",
              "  </style>\n",
              "\n",
              "    <script>\n",
              "      const buttonEl =\n",
              "        document.querySelector('#df-4f0960a8-2569-40e3-bc08-bafe3fd9e868 button.colab-df-convert');\n",
              "      buttonEl.style.display =\n",
              "        google.colab.kernel.accessAllowed ? 'block' : 'none';\n",
              "\n",
              "      async function convertToInteractive(key) {\n",
              "        const element = document.querySelector('#df-4f0960a8-2569-40e3-bc08-bafe3fd9e868');\n",
              "        const dataTable =\n",
              "          await google.colab.kernel.invokeFunction('convertToInteractive',\n",
              "                                                    [key], {});\n",
              "        if (!dataTable) return;\n",
              "\n",
              "        const docLinkHtml = 'Like what you see? Visit the ' +\n",
              "          '<a target=\"_blank\" href=https://colab.research.google.com/notebooks/data_table.ipynb>data table notebook</a>'\n",
              "          + ' to learn more about interactive tables.';\n",
              "        element.innerHTML = '';\n",
              "        dataTable['output_type'] = 'display_data';\n",
              "        await google.colab.output.renderOutput(dataTable, element);\n",
              "        const docLink = document.createElement('div');\n",
              "        docLink.innerHTML = docLinkHtml;\n",
              "        element.appendChild(docLink);\n",
              "      }\n",
              "    </script>\n",
              "  </div>\n",
              "\n",
              "\n",
              "    <div id=\"df-2b221ed9-f62e-403a-a2a9-642ff4749c1f\">\n",
              "      <button class=\"colab-df-quickchart\" onclick=\"quickchart('df-2b221ed9-f62e-403a-a2a9-642ff4749c1f')\"\n",
              "                title=\"Suggest charts\"\n",
              "                style=\"display:none;\">\n",
              "\n",
              "<svg xmlns=\"http://www.w3.org/2000/svg\" height=\"24px\"viewBox=\"0 0 24 24\"\n",
              "     width=\"24px\">\n",
              "    <g>\n",
              "        <path d=\"M19 3H5c-1.1 0-2 .9-2 2v14c0 1.1.9 2 2 2h14c1.1 0 2-.9 2-2V5c0-1.1-.9-2-2-2zM9 17H7v-7h2v7zm4 0h-2V7h2v10zm4 0h-2v-4h2v4z\"/>\n",
              "    </g>\n",
              "</svg>\n",
              "      </button>\n",
              "\n",
              "<style>\n",
              "  .colab-df-quickchart {\n",
              "      --bg-color: #E8F0FE;\n",
              "      --fill-color: #1967D2;\n",
              "      --hover-bg-color: #E2EBFA;\n",
              "      --hover-fill-color: #174EA6;\n",
              "      --disabled-fill-color: #AAA;\n",
              "      --disabled-bg-color: #DDD;\n",
              "  }\n",
              "\n",
              "  [theme=dark] .colab-df-quickchart {\n",
              "      --bg-color: #3B4455;\n",
              "      --fill-color: #D2E3FC;\n",
              "      --hover-bg-color: #434B5C;\n",
              "      --hover-fill-color: #FFFFFF;\n",
              "      --disabled-bg-color: #3B4455;\n",
              "      --disabled-fill-color: #666;\n",
              "  }\n",
              "\n",
              "  .colab-df-quickchart {\n",
              "    background-color: var(--bg-color);\n",
              "    border: none;\n",
              "    border-radius: 50%;\n",
              "    cursor: pointer;\n",
              "    display: none;\n",
              "    fill: var(--fill-color);\n",
              "    height: 32px;\n",
              "    padding: 0;\n",
              "    width: 32px;\n",
              "  }\n",
              "\n",
              "  .colab-df-quickchart:hover {\n",
              "    background-color: var(--hover-bg-color);\n",
              "    box-shadow: 0 1px 2px rgba(60, 64, 67, 0.3), 0 1px 3px 1px rgba(60, 64, 67, 0.15);\n",
              "    fill: var(--button-hover-fill-color);\n",
              "  }\n",
              "\n",
              "  .colab-df-quickchart-complete:disabled,\n",
              "  .colab-df-quickchart-complete:disabled:hover {\n",
              "    background-color: var(--disabled-bg-color);\n",
              "    fill: var(--disabled-fill-color);\n",
              "    box-shadow: none;\n",
              "  }\n",
              "\n",
              "  .colab-df-spinner {\n",
              "    border: 2px solid var(--fill-color);\n",
              "    border-color: transparent;\n",
              "    border-bottom-color: var(--fill-color);\n",
              "    animation:\n",
              "      spin 1s steps(1) infinite;\n",
              "  }\n",
              "\n",
              "  @keyframes spin {\n",
              "    0% {\n",
              "      border-color: transparent;\n",
              "      border-bottom-color: var(--fill-color);\n",
              "      border-left-color: var(--fill-color);\n",
              "    }\n",
              "    20% {\n",
              "      border-color: transparent;\n",
              "      border-left-color: var(--fill-color);\n",
              "      border-top-color: var(--fill-color);\n",
              "    }\n",
              "    30% {\n",
              "      border-color: transparent;\n",
              "      border-left-color: var(--fill-color);\n",
              "      border-top-color: var(--fill-color);\n",
              "      border-right-color: var(--fill-color);\n",
              "    }\n",
              "    40% {\n",
              "      border-color: transparent;\n",
              "      border-right-color: var(--fill-color);\n",
              "      border-top-color: var(--fill-color);\n",
              "    }\n",
              "    60% {\n",
              "      border-color: transparent;\n",
              "      border-right-color: var(--fill-color);\n",
              "    }\n",
              "    80% {\n",
              "      border-color: transparent;\n",
              "      border-right-color: var(--fill-color);\n",
              "      border-bottom-color: var(--fill-color);\n",
              "    }\n",
              "    90% {\n",
              "      border-color: transparent;\n",
              "      border-bottom-color: var(--fill-color);\n",
              "    }\n",
              "  }\n",
              "</style>\n",
              "\n",
              "      <script>\n",
              "        async function quickchart(key) {\n",
              "          const quickchartButtonEl =\n",
              "            document.querySelector('#' + key + ' button');\n",
              "          quickchartButtonEl.disabled = true;  // To prevent multiple clicks.\n",
              "          quickchartButtonEl.classList.add('colab-df-spinner');\n",
              "          try {\n",
              "            const charts = await google.colab.kernel.invokeFunction(\n",
              "                'suggestCharts', [key], {});\n",
              "          } catch (error) {\n",
              "            console.error('Error during call to suggestCharts:', error);\n",
              "          }\n",
              "          quickchartButtonEl.classList.remove('colab-df-spinner');\n",
              "          quickchartButtonEl.classList.add('colab-df-quickchart-complete');\n",
              "        }\n",
              "        (() => {\n",
              "          let quickchartButtonEl =\n",
              "            document.querySelector('#df-2b221ed9-f62e-403a-a2a9-642ff4749c1f button');\n",
              "          quickchartButtonEl.style.display =\n",
              "            google.colab.kernel.accessAllowed ? 'block' : 'none';\n",
              "        })();\n",
              "      </script>\n",
              "    </div>\n",
              "\n",
              "    </div>\n",
              "  </div>\n"
            ],
            "application/vnd.google.colaboratory.intrinsic+json": {
              "type": "dataframe",
              "variable_name": "high_pos_df",
              "summary": "{\n  \"name\": \"high_pos_df\",\n  \"rows\": 1582,\n  \"fields\": [\n    {\n      \"column\": \"created_utc\",\n      \"properties\": {\n        \"dtype\": \"date\",\n        \"min\": \"2022-11-01 00:00:00\",\n        \"max\": \"2023-01-02 00:00:00\",\n        \"num_unique_values\": 63,\n        \"samples\": [\n          \"2022-11-02 00:00:00\",\n          \"2022-11-06 00:00:00\",\n          \"2023-01-02 00:00:00\"\n        ],\n        \"semantic_type\": \"\",\n        \"description\": \"\"\n      }\n    },\n    {\n      \"column\": \"label\",\n      \"properties\": {\n        \"dtype\": \"category\",\n        \"num_unique_values\": 1,\n        \"samples\": [\n          \"mild pos\"\n        ],\n        \"semantic_type\": \"\",\n        \"description\": \"\"\n      }\n    },\n    {\n      \"column\": \"score\",\n      \"properties\": {\n        \"dtype\": \"number\",\n        \"std\": 0.0566932920694335,\n        \"min\": 0.4522937536239624,\n        \"max\": 0.7499756217002869,\n        \"num_unique_values\": 1539,\n        \"samples\": [\n          0.7491581439971924\n        ],\n        \"semantic_type\": \"\",\n        \"description\": \"\"\n      }\n    },\n    {\n      \"column\": \"cleaned_text\",\n      \"properties\": {\n        \"dtype\": \"string\",\n        \"num_unique_values\": 1543,\n        \"samples\": [\n          \"ill absolutely wear mask one good thing come pandemic way normal put mask feeling well\"\n        ],\n        \"semantic_type\": \"\",\n        \"description\": \"\"\n      }\n    },\n    {\n      \"column\": \"tokens\",\n      \"properties\": {\n        \"dtype\": \"object\",\n        \"semantic_type\": \"\",\n        \"description\": \"\"\n      }\n    },\n    {\n      \"column\": \"final_text\",\n      \"properties\": {\n        \"dtype\": \"string\",\n        \"num_unique_values\": 1535,\n        \"samples\": [\n          \"good time book flight plan going begin july faq month prior mark maybe summer holiday month prior eye open price like\"\n        ],\n        \"semantic_type\": \"\",\n        \"description\": \"\"\n      }\n    }\n  ]\n}"
            }
          },
          "metadata": {},
          "execution_count": 34
        }
      ],
      "source": [
        "# Filter the DataFrame\n",
        "high_pos_df = df[df['label'] == 'mild pos']\n",
        "\n",
        "# Convert the 'created_utc' column to datetime\n",
        "high_pos_df['created_utc'] = pd.to_datetime(high_pos_df['created_utc'])\n",
        "\n",
        "# Define your date range\n",
        "# start_date = '2020-10-01'\n",
        "# end_date = '2021-01-31'\n",
        "# start_date = '2021-11-01'\n",
        "# end_date = '2022-01-31'\n",
        "\n",
        "start_date = '2022-11-01'\n",
        "end_date = '2023-01-31'\n",
        "# Filter the DataFrame for entries within the specified date range\n",
        "high_pos_df = high_pos_df[(high_pos_df['created_utc'] >= start_date) & (high_pos_df['created_utc'] <= end_date)]\n",
        "\n",
        "\n",
        "# Print the filtered DataFrame to check the result\n",
        "high_pos_df.head()"
      ]
    },
    {
      "cell_type": "code",
      "execution_count": 35,
      "metadata": {
        "colab": {
          "base_uri": "https://localhost:8080/"
        },
        "id": "WD7b88xcsjCs",
        "outputId": "3832bf6e-0e80-43e7-d88d-386e7ad57b45"
      },
      "outputs": [
        {
          "output_type": "execute_result",
          "data": {
            "text/plain": [
              "1582"
            ]
          },
          "metadata": {},
          "execution_count": 35
        }
      ],
      "source": [
        "high_pos_df.shape[0]"
      ]
    },
    {
      "cell_type": "code",
      "execution_count": 36,
      "metadata": {
        "colab": {
          "base_uri": "https://localhost:8080/",
          "height": 1000
        },
        "id": "iH7YFf16slT_",
        "outputId": "0e71f3c6-978f-4d1e-92e0-3c9155ac84f9"
      },
      "outputs": [
        {
          "output_type": "stream",
          "name": "stdout",
          "text": [
            "       token  count\n",
            "0       good    496\n",
            "1     flight    492\n",
            "2      point    408\n",
            "3       book    323\n",
            "4      thank    269\n",
            "5       like    266\n",
            "6        fly    257\n",
            "7       well    246\n",
            "8       time    236\n",
            "9       look    186\n",
            "10   airline    182\n",
            "11     think    180\n",
            "12    travel    178\n",
            "13      find    174\n",
            "14       day    167\n",
            "15       way    163\n",
            "16  business    162\n",
            "17      seat    156\n",
            "18     great    150\n",
            "19      trip    149\n",
            "20        go    148\n",
            "21       get    142\n",
            "22     hotel    137\n",
            "23      mile    135\n",
            "24      know    130\n",
            "25      year    129\n",
            "26      want    129\n",
            "27     class    125\n",
            "28     check    121\n",
            "29    ticket    120\n"
          ]
        },
        {
          "output_type": "display_data",
          "data": {
            "text/plain": [
              "<Figure size 640x480 with 1 Axes>"
            ],
            "image/png": "[encoded data removed]"
          },
          "metadata": {}
        }
      ],
      "source": [
        "from collections import Counter\n",
        "import pandas as pd\n",
        "import matplotlib.pyplot as plt\n",
        "\n",
        "# 1) Flatten your tokens into one long list\n",
        "all_tokens = [t for toks in high_pos_df['tokens'] for t in toks]\n",
        "\n",
        "# 2) Build a frequency distribution\n",
        "freq = Counter(all_tokens)\n",
        "common = freq.most_common(30)   # top 30\n",
        "\n",
        "# 3) Turn it into a DataFrame for easy inspection\n",
        "df_freq = pd.DataFrame(common, columns=['token','count'])\n",
        "print(df_freq)\n",
        "\n",
        "# 4) Plot a simple bar chart of the top tokens\n",
        "tokens, counts = zip(*common)\n",
        "plt.figure()\n",
        "plt.bar(tokens, counts)\n",
        "plt.xticks(rotation=45, ha='right')\n",
        "plt.xlabel('Token')\n",
        "plt.ylabel('Frequency')\n",
        "plt.title('Top 30 Tokens in high_pos_df')\n",
        "plt.tight_layout()\n",
        "plt.show()"
      ]
    },
    {
      "cell_type": "code",
      "execution_count": 37,
      "metadata": {
        "colab": {
          "base_uri": "https://localhost:8080/"
        },
        "id": "wrNou6iFoQTq",
        "outputId": "c74fe08a-bf5d-4a19-f36b-d1c303c0c345"
      },
      "outputs": [
        {
          "output_type": "stream",
          "name": "stdout",
          "text": [
            "30429 words total, with a vocabulary size of 4377\n",
            "Max reddit post length is 166 tokens\n",
            "Mean reddit post length is 19.23 tokens\n",
            "Median reddit post length is 13 tokens\n"
          ]
        }
      ],
      "source": [
        "# Flatten all tokens into one list\n",
        "all_words   = [word for tokens in high_pos_df['tokens'] for word in tokens]\n",
        "\n",
        "# Compute the length (in tokens) of each post\n",
        "post_length = [len(tokens) for tokens in high_pos_df['tokens']]\n",
        "\n",
        "# Build the vocabulary\n",
        "vocab       = sorted(set(all_words))\n",
        "\n",
        "# Print your summary stats\n",
        "print(f\"{len(all_words)} words total, with a vocabulary size of {len(vocab)}\")\n",
        "print(f\"Max reddit post length is {max(post_length)} tokens\")\n",
        "print(f\"Mean reddit post length is {sum(post_length)/len(post_length):.2f} tokens\")\n",
        "print(f\"Median reddit post length is {sorted(post_length)[len(post_length)//2]} tokens\")\n"
      ]
    },
    {
      "cell_type": "code",
      "execution_count": 38,
      "metadata": {
        "colab": {
          "base_uri": "https://localhost:8080/",
          "height": 727
        },
        "id": "JokXufzvpthU",
        "outputId": "5f1e6b4a-93d3-47ea-8c21-3e019cd8ef90"
      },
      "outputs": [
        {
          "output_type": "display_data",
          "data": {
            "text/plain": [
              "<Figure size 1500x800 with 1 Axes>"
            ],
            "image/png": "[encoded data removed]"
          },
          "metadata": {}
        }
      ],
      "source": [
        "plt.figure(figsize=(15, 8))\n",
        "sns.histplot(post_length, bins=60, kde=True)\n",
        "plt.title('Post Length Distribution', fontsize=18)\n",
        "plt.xlabel('Words per Post', fontsize=12)\n",
        "plt.ylabel('Number of Posts', fontsize=12)\n",
        "# Setting x-axis ticks and labels for more detail\n",
        "max_length = max(post_length)\n",
        "xticks = np.arange(0, max_length + 1, max_length // 60)\n",
        "plt.xticks(xticks)\n",
        "plt.show()"
      ]
    },
    {
      "cell_type": "code",
      "execution_count": 39,
      "metadata": {
        "id": "n1yeytbRvYKq",
        "colab": {
          "base_uri": "https://localhost:8080/"
        },
        "outputId": "a042359a-c660-4215-ece2-530e74e87e42"
      },
      "outputs": [
        {
          "output_type": "stream",
          "name": "stdout",
          "text": [
            "Requirement already satisfied: gensim in /usr/local/lib/python3.11/dist-packages (4.3.3)\n",
            "Requirement already satisfied: numpy<2.0,>=1.18.5 in /usr/local/lib/python3.11/dist-packages (from gensim) (1.26.4)\n",
            "Requirement already satisfied: scipy<1.14.0,>=1.7.0 in /usr/local/lib/python3.11/dist-packages (from gensim) (1.13.1)\n",
            "Requirement already satisfied: smart-open>=1.8.1 in /usr/local/lib/python3.11/dist-packages (from gensim) (7.1.0)\n",
            "Requirement already satisfied: wrapt in /usr/local/lib/python3.11/dist-packages (from smart-open>=1.8.1->gensim) (1.17.2)\n"
          ]
        }
      ],
      "source": [
        "\n",
        "#1) Downgrade NumPy to 1.26.x\n",
        "# !pip install numpy==1.26.0 --upgrade\n",
        "\n",
        "# # 2) Force-reinstall Gensim so it compiles against the new NumPy\n",
        "# !pip install --upgrade --force-reinstall gensim\n",
        "\n",
        "!pip install  gensim\n",
        "\n"
      ]
    },
    {
      "cell_type": "code",
      "execution_count": 40,
      "metadata": {
        "colab": {
          "base_uri": "https://localhost:8080/",
          "height": 269
        },
        "id": "QpM_ionbojQt",
        "outputId": "5e59f2a7-1540-4357-93ce-7491aa204ecb"
      },
      "outputs": [
        {
          "output_type": "error",
          "ename": "ValueError",
          "evalue": "numpy.dtype size changed, may indicate binary incompatibility. Expected 96 from C header, got 88 from PyObject",
          "traceback": [
            "\u001b[0;31m---------------------------------------------------------------------------\u001b[0m",
            "\u001b[0;31mValueError\u001b[0m                                Traceback (most recent call last)",
            "\u001b[0;32m<ipython-input-40-fd2a5484ab5b>\u001b[0m in \u001b[0;36m<cell line: 0>\u001b[0;34m()\u001b[0m\n\u001b[0;32m----> 1\u001b[0;31m \u001b[0;32mimport\u001b[0m \u001b[0mgensim\u001b[0m\u001b[0;34m\u001b[0m\u001b[0;34m\u001b[0m\u001b[0m\n\u001b[0m\u001b[1;32m      2\u001b[0m \u001b[0;32mfrom\u001b[0m \u001b[0mgensim\u001b[0m\u001b[0;34m.\u001b[0m\u001b[0mmodels\u001b[0m \u001b[0;32mimport\u001b[0m \u001b[0mPhrases\u001b[0m\u001b[0;34m\u001b[0m\u001b[0;34m\u001b[0m\u001b[0m\n\u001b[1;32m      3\u001b[0m \u001b[0;32mfrom\u001b[0m \u001b[0mgensim\u001b[0m\u001b[0;34m.\u001b[0m\u001b[0mmodels\u001b[0m\u001b[0;34m.\u001b[0m\u001b[0mphrases\u001b[0m \u001b[0;32mimport\u001b[0m \u001b[0mPhraser\u001b[0m\u001b[0;34m\u001b[0m\u001b[0;34m\u001b[0m\u001b[0m\n\u001b[1;32m      4\u001b[0m \u001b[0;34m\u001b[0m\u001b[0m\n\u001b[1;32m      5\u001b[0m \u001b[0;31m# 1) Prepare your list-of-lists from the `tokens` column\u001b[0m\u001b[0;34m\u001b[0m\u001b[0;34m\u001b[0m\u001b[0m\n",
            "\u001b[0;32m/usr/local/lib/python3.11/dist-packages/gensim/__init__.py\u001b[0m in \u001b[0;36m<module>\u001b[0;34m\u001b[0m\n\u001b[1;32m      9\u001b[0m \u001b[0;32mimport\u001b[0m \u001b[0mlogging\u001b[0m\u001b[0;34m\u001b[0m\u001b[0;34m\u001b[0m\u001b[0m\n\u001b[1;32m     10\u001b[0m \u001b[0;34m\u001b[0m\u001b[0m\n\u001b[0;32m---> 11\u001b[0;31m \u001b[0;32mfrom\u001b[0m \u001b[0mgensim\u001b[0m \u001b[0;32mimport\u001b[0m \u001b[0mparsing\u001b[0m\u001b[0;34m,\u001b[0m \u001b[0mcorpora\u001b[0m\u001b[0;34m,\u001b[0m \u001b[0mmatutils\u001b[0m\u001b[0;34m,\u001b[0m \u001b[0minterfaces\u001b[0m\u001b[0;34m,\u001b[0m \u001b[0mmodels\u001b[0m\u001b[0;34m,\u001b[0m \u001b[0msimilarities\u001b[0m\u001b[0;34m,\u001b[0m \u001b[0mutils\u001b[0m  \u001b[0;31m# noqa:F401\u001b[0m\u001b[0;34m\u001b[0m\u001b[0;34m\u001b[0m\u001b[0m\n\u001b[0m\u001b[1;32m     12\u001b[0m \u001b[0;34m\u001b[0m\u001b[0m\n\u001b[1;32m     13\u001b[0m \u001b[0;34m\u001b[0m\u001b[0m\n",
            "\u001b[0;32m/usr/local/lib/python3.11/dist-packages/gensim/corpora/__init__.py\u001b[0m in \u001b[0;36m<module>\u001b[0;34m\u001b[0m\n\u001b[1;32m      4\u001b[0m \u001b[0;34m\u001b[0m\u001b[0m\n\u001b[1;32m      5\u001b[0m \u001b[0;31m# bring corpus classes directly into package namespace, to save some typing\u001b[0m\u001b[0;34m\u001b[0m\u001b[0;34m\u001b[0m\u001b[0m\n\u001b[0;32m----> 6\u001b[0;31m \u001b[0;32mfrom\u001b[0m \u001b[0;34m.\u001b[0m\u001b[0mindexedcorpus\u001b[0m \u001b[0;32mimport\u001b[0m \u001b[0mIndexedCorpus\u001b[0m  \u001b[0;31m# noqa:F401 must appear before the other classes\u001b[0m\u001b[0;34m\u001b[0m\u001b[0;34m\u001b[0m\u001b[0m\n\u001b[0m\u001b[1;32m      7\u001b[0m \u001b[0;34m\u001b[0m\u001b[0m\n\u001b[1;32m      8\u001b[0m \u001b[0;32mfrom\u001b[0m \u001b[0;34m.\u001b[0m\u001b[0mmmcorpus\u001b[0m \u001b[0;32mimport\u001b[0m \u001b[0mMmCorpus\u001b[0m  \u001b[0;31m# noqa:F401\u001b[0m\u001b[0;34m\u001b[0m\u001b[0;34m\u001b[0m\u001b[0m\n",
            "\u001b[0;32m/usr/local/lib/python3.11/dist-packages/gensim/corpora/indexedcorpus.py\u001b[0m in \u001b[0;36m<module>\u001b[0;34m\u001b[0m\n\u001b[1;32m     12\u001b[0m \u001b[0;32mimport\u001b[0m \u001b[0mnumpy\u001b[0m\u001b[0;34m\u001b[0m\u001b[0;34m\u001b[0m\u001b[0m\n\u001b[1;32m     13\u001b[0m \u001b[0;34m\u001b[0m\u001b[0m\n\u001b[0;32m---> 14\u001b[0;31m \u001b[0;32mfrom\u001b[0m \u001b[0mgensim\u001b[0m \u001b[0;32mimport\u001b[0m \u001b[0minterfaces\u001b[0m\u001b[0;34m,\u001b[0m \u001b[0mutils\u001b[0m\u001b[0;34m\u001b[0m\u001b[0;34m\u001b[0m\u001b[0m\n\u001b[0m\u001b[1;32m     15\u001b[0m \u001b[0;34m\u001b[0m\u001b[0m\n\u001b[1;32m     16\u001b[0m \u001b[0mlogger\u001b[0m \u001b[0;34m=\u001b[0m \u001b[0mlogging\u001b[0m\u001b[0;34m.\u001b[0m\u001b[0mgetLogger\u001b[0m\u001b[0;34m(\u001b[0m\u001b[0m__name__\u001b[0m\u001b[0;34m)\u001b[0m\u001b[0;34m\u001b[0m\u001b[0;34m\u001b[0m\u001b[0m\n",
            "\u001b[0;32m/usr/local/lib/python3.11/dist-packages/gensim/interfaces.py\u001b[0m in \u001b[0;36m<module>\u001b[0;34m\u001b[0m\n\u001b[1;32m     17\u001b[0m \u001b[0;32mimport\u001b[0m \u001b[0mlogging\u001b[0m\u001b[0;34m\u001b[0m\u001b[0;34m\u001b[0m\u001b[0m\n\u001b[1;32m     18\u001b[0m \u001b[0;34m\u001b[0m\u001b[0m\n\u001b[0;32m---> 19\u001b[0;31m \u001b[0;32mfrom\u001b[0m \u001b[0mgensim\u001b[0m \u001b[0;32mimport\u001b[0m \u001b[0mutils\u001b[0m\u001b[0;34m,\u001b[0m \u001b[0mmatutils\u001b[0m\u001b[0;34m\u001b[0m\u001b[0;34m\u001b[0m\u001b[0m\n\u001b[0m\u001b[1;32m     20\u001b[0m \u001b[0;34m\u001b[0m\u001b[0m\n\u001b[1;32m     21\u001b[0m \u001b[0;34m\u001b[0m\u001b[0m\n",
            "\u001b[0;32m/usr/local/lib/python3.11/dist-packages/gensim/matutils.py\u001b[0m in \u001b[0;36m<module>\u001b[0;34m\u001b[0m\n\u001b[1;32m   1032\u001b[0m \u001b[0;32mtry\u001b[0m\u001b[0;34m:\u001b[0m\u001b[0;34m\u001b[0m\u001b[0;34m\u001b[0m\u001b[0m\n\u001b[1;32m   1033\u001b[0m     \u001b[0;31m# try to load fast, cythonized code if possible\u001b[0m\u001b[0;34m\u001b[0m\u001b[0;34m\u001b[0m\u001b[0m\n\u001b[0;32m-> 1034\u001b[0;31m     \u001b[0;32mfrom\u001b[0m \u001b[0mgensim\u001b[0m\u001b[0;34m.\u001b[0m\u001b[0m_matutils\u001b[0m \u001b[0;32mimport\u001b[0m \u001b[0mlogsumexp\u001b[0m\u001b[0;34m,\u001b[0m \u001b[0mmean_absolute_difference\u001b[0m\u001b[0;34m,\u001b[0m \u001b[0mdirichlet_expectation\u001b[0m\u001b[0;34m\u001b[0m\u001b[0;34m\u001b[0m\u001b[0m\n\u001b[0m\u001b[1;32m   1035\u001b[0m \u001b[0;34m\u001b[0m\u001b[0m\n\u001b[1;32m   1036\u001b[0m \u001b[0;32mexcept\u001b[0m \u001b[0mImportError\u001b[0m\u001b[0;34m:\u001b[0m\u001b[0;34m\u001b[0m\u001b[0;34m\u001b[0m\u001b[0m\n",
            "\u001b[0;32m/usr/local/lib/python3.11/dist-packages/gensim/_matutils.pyx\u001b[0m in \u001b[0;36minit gensim._matutils\u001b[0;34m()\u001b[0m\n",
            "\u001b[0;31mValueError\u001b[0m: numpy.dtype size changed, may indicate binary incompatibility. Expected 96 from C header, got 88 from PyObject"
          ]
        }
      ],
      "source": [
        "import gensim\n",
        "from gensim.models import Phrases\n",
        "from gensim.models.phrases import Phraser\n",
        "\n",
        "# 1) Prepare your list-of-lists from the `tokens` column\n",
        "texts = high_pos_df['tokens'].tolist()\n",
        "\n",
        "#    min_count=3 → only consider pairs that appear in ≥3 docs\n",
        "#    threshold=50 → higher threshold = fewer, more confident bigrams\n",
        "# 2) Train the bigram detector\n",
        "bigram = Phrases(texts, min_count=3, threshold=50)\n",
        "bigram_mod = Phraser(bigram)\n",
        "\n",
        "# 3) Train the trigram detector on the bigram-transformed texts\n",
        "trigram = Phrases(bigram[texts], min_count=2, threshold=150)\n",
        "trigram_mod = Phraser(trigram)\n",
        "\n",
        "# 4) Apply bigram and trigram transforms\n",
        "high_pos_df['bigram_tokens']   = high_pos_df['tokens'].apply(lambda doc: bigram_mod[doc])\n",
        "high_pos_df['trigram_tokens']  = high_pos_df['tokens'].apply(lambda doc: trigram_mod[bigram_mod[doc]])\n",
        "\n",
        "# # 5) (Optional) If you need back a single string for vectorizers:\n",
        "# high_pos_df['bigram_text']   = high_pos_df['bigram_tokens'].str.join(' ')\n",
        "# high_pos_df['trigram_text']  = high_pos_df['trigram_tokens'].str.join(' ')\n",
        "\n",
        "# 6) Inspect\n",
        "print(high_pos_df[['tokens','bigram_tokens','trigram_tokens']].head())\n"
      ]
    },
    {
      "cell_type": "code",
      "execution_count": null,
      "metadata": {
        "id": "nZQn2MSqp1f9"
      },
      "outputs": [],
      "source": [
        "# 1) Helper to detect n-grams in a token list\n",
        "def contains_ngram(tokenized_list, n):\n",
        "    return any(len(tok.split('_')) == n for tok in tokenized_list)\n",
        "\n",
        "# 2) Flag rows\n",
        "high_pos_df['has_bigrams']  = high_pos_df['bigram_tokens'].apply(lambda doc: contains_ngram(doc, 2))\n",
        "high_pos_df['has_trigrams'] = high_pos_df['trigram_tokens'].apply(lambda doc: contains_ngram(doc, 3))\n",
        "\n",
        "# 3) Count\n",
        "rows_with_bigrams  = high_pos_df['has_bigrams'].sum()\n",
        "rows_with_trigrams = high_pos_df['has_trigrams'].sum()\n",
        "rows_with_none     = (~high_pos_df['has_bigrams'] & ~high_pos_df['has_trigrams']).sum()\n",
        "\n",
        "# 4) Report\n",
        "print(f\"Rows with bigrams:   {rows_with_bigrams}\")\n",
        "print(f\"Rows with trigrams:  {rows_with_trigrams}\")\n",
        "print(f\"Rows with no n-grams: {rows_with_none}\")\n"
      ]
    },
    {
      "cell_type": "code",
      "execution_count": null,
      "metadata": {
        "id": "negWzwRYz_W-"
      },
      "outputs": [],
      "source": [
        "high_pos_df.head()"
      ]
    },
    {
      "cell_type": "code",
      "execution_count": null,
      "metadata": {
        "id": "f7ccUmhjy9yX"
      },
      "outputs": [],
      "source": [
        "# Print the total number of rows in the DataFrame\n",
        "total_rows = high_pos_df.shape[0]\n",
        "print(f\"Total number of rows in the DataFrame: {total_rows}\")\n",
        "\n",
        "# Check the number of rows in the 'trigram_tokenized' column\n",
        "print(f\"Number of rows in 'trigram_tokenized' column: {high_pos_df['trigram_tokens'].shape[0]}\")"
      ]
    },
    {
      "cell_type": "code",
      "execution_count": null,
      "metadata": {
        "id": "9CnA4ROfW6Oq"
      },
      "outputs": [],
      "source": [
        "import itertools\n",
        "from collections import Counter\n",
        "\n",
        "# 1) Flatten all trigram lists into one big sequence\n",
        "all_bigrams = itertools.chain.from_iterable(high_pos_df['bigram_tokens'])\n",
        "\n",
        "# 2) Filter for genuine trigrams (exactly two underscores → three words joined)\n",
        "bigram_counts = Counter(\n",
        "    token for token in all_bigrams\n",
        "    if isinstance(token, str) and token.count('_') == 1\n",
        ")\n",
        "\n",
        "# 3) How many unique trigrams?\n",
        "total_unique_bigrams = len(bigram_counts)\n",
        "print(f\"Total number of unique bigrams: {total_unique_bigrams}\")\n",
        "\n",
        "# 4) Show the 10 most common trigrams\n",
        "print(\"\\nMost common bigrams:\")\n",
        "for bigram, count in bigram_counts.most_common(10):\n",
        "    print(f\"{bigram}: {count:,}\")\n"
      ]
    },
    {
      "cell_type": "code",
      "execution_count": null,
      "metadata": {
        "id": "rT_nVWWxg2pW"
      },
      "outputs": [],
      "source": [
        "import itertools\n",
        "from collections import Counter\n",
        "\n",
        "# 1) Flatten all trigram lists into one big sequence\n",
        "all_trigrams = itertools.chain.from_iterable(high_pos_df['trigram_tokens'])\n",
        "\n",
        "# 2) Filter for genuine trigrams (exactly two underscores → three words joined)\n",
        "trigram_counts = Counter(\n",
        "    token for token in all_trigrams\n",
        "    if isinstance(token, str) and token.count('_') == 2\n",
        ")\n",
        "\n",
        "# 3) How many unique trigrams?\n",
        "total_unique_trigrams = len(trigram_counts)\n",
        "print(f\"Total number of unique trigrams: {total_unique_trigrams}\")\n",
        "\n",
        "# 4) Show the 10 most common trigrams\n",
        "print(\"\\nMost common trigrams:\")\n",
        "for trigram, count in trigram_counts.most_common(10):\n",
        "    print(f\"{trigram}: {count:,}\")\n"
      ]
    },
    {
      "cell_type": "code",
      "execution_count": null,
      "metadata": {
        "id": "eN3qkhQnHNv-"
      },
      "outputs": [],
      "source": [
        "# import gensim.corpora as corpora\n",
        "# # Create Dictionary\n",
        "# id2word = corpora.Dictionary(high_pos_df['trigram_tokens'].tolist())\n",
        "\n",
        "# ## pruning\n",
        "# #id2word.filter_extremes(no_below=5, no_above=0.5)\n",
        "\n",
        "# #    (Optional) Re-map the remaining token IDs to remove gaps\n",
        "# #id2word.compactify()\n",
        "\n",
        "# # 2. Convert each document to a Bag-of-Words\n",
        "# texts = high_pos_df['trigram_tokens'].tolist()\n",
        "\n",
        "# # Term Document Frequency\n",
        "# corpus = [id2word.doc2bow(text) for text in texts]\n",
        "\n",
        "\n",
        "# # View\n",
        "# print(corpus[:1][0][:30])"
      ]
    },
    {
      "cell_type": "code",
      "execution_count": null,
      "metadata": {
        "id": "xt9bnXIpIZJG"
      },
      "outputs": [],
      "source": [
        "# import gensim\n",
        "# from gensim import corpora\n",
        "# from gensim.models.ldamodel import LdaModel\n",
        "# from nltk.tokenize import word_tokenize\n",
        "# import nltk\n",
        "# ## Build the basic LDA model\n",
        "# lda_model = LdaModel(corpus=corpus,\n",
        "#                                        id2word=id2word,\n",
        "#                                        num_topics=4,\n",
        "#                                        random_state=100,\n",
        "#                                        chunksize=250,\n",
        "#                                        passes=200,\n",
        "#                                         iterations= 100,\n",
        "#                                        alpha='auto',\n",
        "#                                       eta='auto',\n",
        "#                                        per_word_topics=True)"
      ]
    },
    {
      "cell_type": "code",
      "execution_count": null,
      "metadata": {
        "id": "7xHfYsxAIxUH"
      },
      "outputs": [],
      "source": [
        "# from pprint import pprint\n",
        "\n",
        "# # Print the Keyword in the 3 topics\n",
        "# pprint(lda_model.print_topics())\n",
        "# doc_lda = lda_model[corpus]"
      ]
    },
    {
      "cell_type": "code",
      "execution_count": null,
      "metadata": {
        "id": "G_Hv9oB1I2Gn"
      },
      "outputs": [],
      "source": [
        "# from gensim.models import CoherenceModel\n",
        "# #\n",
        "# # Compute Coherence Score\n",
        "# coherence_model_lda = CoherenceModel(model=lda_model, texts=high_pos_df['trigram_tokenized'], dictionary=id2word, coherence='c_v')\n",
        "# coherence_lda = coherence_model_lda.get_coherence()\n",
        "# print('Coherence Score: ', coherence_lda)"
      ]
    },
    {
      "cell_type": "code",
      "execution_count": null,
      "metadata": {
        "id": "etcfCqmmJoUl"
      },
      "outputs": [],
      "source": [
        "# import pyLDAvis.gensim\n",
        "# import pickle\n",
        "# import pyLDAvis\n",
        "# import pyLDAvis.gensim_models as gensimvis\n",
        "# import pyLDAvis\n",
        "\n",
        "# # Assuming ldamodel, corpus, and dictionary are already defined\n",
        "# # Enable the automatic display of visualizations in Jupyter\n",
        "# pyLDAvis.enable_notebook()\n",
        "\n",
        "# # Prepare the LDA visualization directly\n",
        "# LDAvis_prepared = gensimvis.prepare(lda_model, corpus, id2word)\n",
        "\n",
        "# # Display the prepared visualization directly in the notebook\n",
        "# pyLDAvis.display(LDAvis_prepared)"
      ]
    },
    {
      "cell_type": "code",
      "execution_count": null,
      "metadata": {
        "id": "_8xgFgGI18N_"
      },
      "outputs": [],
      "source": [
        "# # Extracting and printing the top 30 salient terms for each topic\n",
        "# num_topics = lda_model.num_topics\n",
        "# num_words = 30\n",
        "\n",
        "# for idx, topic in lda_model.show_topics(num_topics=num_topics, num_words=num_words, formatted=False):\n",
        "#     print(f\"Topic {idx + 1}:\")\n",
        "#     for word, weight in topic:\n",
        "#         print(f\"  {word} ({weight:.4f})\")\n",
        "#     print()"
      ]
    },
    {
      "cell_type": "code",
      "execution_count": null,
      "metadata": {
        "id": "2WRpMdF23X-E"
      },
      "outputs": [],
      "source": [
        "import gensim\n",
        "from gensim import corpora\n",
        "from gensim.models import LdaModel\n",
        "from gensim.models.coherencemodel import CoherenceModel\n",
        "import pandas as pd\n",
        "import numpy as np\n",
        "import itertools\n",
        "\n",
        "\n",
        "texts = high_pos_df['trigram_tokens'].tolist()\n",
        "\n",
        "# Create a Dictionary and Corpus\n",
        "dictionary = corpora.Dictionary(texts)\n",
        "corpus = [dictionary.doc2bow(text) for text in texts]\n",
        "\n",
        "# Function to compute coherence and perplexity\n",
        "def compute_coherence_and_perplexity(corpus, dictionary, texts, num_topics, chunksize, passes, iterations,seed):\n",
        "    lda_model = LdaModel(corpus=corpus,\n",
        "                         id2word=dictionary,\n",
        "                         num_topics=num_topics,\n",
        "                         random_state=seed,\n",
        "                         chunksize=chunksize,\n",
        "                         passes=passes,\n",
        "                         iterations=iterations,\n",
        "                         alpha='auto',\n",
        "                         eta='auto',\n",
        "                         per_word_topics=True)\n",
        "\n",
        "    perplexity = lda_model.log_perplexity(corpus)\n",
        "    coherence_model_lda = CoherenceModel(model=lda_model, texts=texts, dictionary=dictionary, coherence='c_v')\n",
        "    coherence = coherence_model_lda.get_coherence()\n",
        "     # Extract alpha and eta\n",
        "    alpha = lda_model.alpha\n",
        "    eta = lda_model.eta\n",
        "    return perplexity, coherence, alpha, eta\n",
        "\n",
        "# Define the parameter grid with your specific values\n",
        "seeds = [0, 1, 2]\n",
        "num_topics_range = range(2, 5)\n",
        "chunksize_range = [1000]\n",
        "passes_range = [100, 200,260]\n",
        "iterations_range = [50, 100, 200]\n",
        "\n",
        "# Store results\n",
        "results = []\n",
        "\n",
        "# Grid search over all combinations of hyperparameters\n",
        "for seed in [0, 1, 2]:\n",
        "  for num_topics, chunksize, passes, iterations in itertools.product(num_topics_range, chunksize_range, passes_range, iterations_range):\n",
        "    perplexity, coherence, alpha, eta = compute_coherence_and_perplexity(corpus, dictionary, texts, num_topics, chunksize, passes, iterations, seed)\n",
        "    results.append((num_topics, chunksize, passes, iterations, perplexity, coherence, alpha, eta, seed))\n",
        "    # print(f\"Num Topics: {num_topics}, Chunksize: {chunksize}, Passes: {passes}, Iterations: {iterations}, Perplexity: {perplexity:.4f}, Coherence: {coherence:.4f}\"  f\"Alpha: {alpha}, Eta: {eta}\")\n",
        "\n",
        "print(f\"Num Topics: {num_topics}, Chunksize: {chunksize}, Passes: {passes}, Iterations: {iterations}, \"\n",
        "      f\"Perplexity: {perplexity:.4f}, Coherence: {coherence:.4f}, Alpha: {alpha}, Eta: {eta}\")\n",
        "\n",
        "# Convert results to a DataFrame for better analysis\n",
        "results_df = pd.DataFrame(results, columns=['num_topics', 'chunksize', 'passes', 'iterations', 'perplexity', 'coherence','alpha','eta','seed'])\n",
        "# Add exponentiated perplexity column\n",
        "results_df['perplexity_exp'] = np.exp(-results_df['perplexity'])\n",
        "\n",
        "\n",
        "# Display results\n",
        "print(\"\\nResults:\")\n",
        "print(results_df)\n",
        "\n",
        "# Find the optimal number of topics with the highest coherence\n",
        "optimal_result = results_df.sort_values(\n",
        "    by=['coherence', 'perplexity_exp'],\n",
        "    ascending=[False, True]\n",
        ").iloc[0]\n",
        "optimal_num_topics = optimal_result['num_topics']\n",
        "optimal_chunksize = optimal_result['chunksize']\n",
        "optimal_passes = optimal_result['passes']\n",
        "optimal_iterations = optimal_result['iterations']\n",
        "optimal_perplexity = optimal_result['perplexity_exp']\n",
        "optimal_coherence = optimal_result['coherence']\n",
        "optimal_alpha = optimal_result['alpha']\n",
        "optimal_eta   = optimal_result['eta']\n",
        "optimal_seed = optimal_result['seed']\n",
        "\n",
        "\n",
        "\n",
        "print(f\"\\nOptimal Parameters:\")\n",
        "print(f\"Number of Topics: {optimal_num_topics}\")\n",
        "print(f\"Chunksize: {optimal_chunksize}\")\n",
        "print(f\"Passes: {optimal_passes}\")\n",
        "print(f\"Iterations: {optimal_iterations}\")\n",
        "print(f\"Coherence: {optimal_coherence:.4f}\")\n",
        "print(f\"Perplexity: {optimal_perplexity:.4f}\")\n",
        "print(f\" Alpha (per topic): {optimal_alpha}\")\n",
        "print(f\" Eta   (per word):  {optimal_eta}\")\n",
        "print(f\" seed:  {optimal_seed}\")"
      ]
    },
    {
      "cell_type": "code",
      "execution_count": null,
      "metadata": {
        "id": "nzsWMTBAD87J"
      },
      "outputs": [],
      "source": [
        "# 1. Fit the model\n",
        "lda_opt = LdaModel(\n",
        "    corpus        = corpus,\n",
        "    id2word       = dictionary,\n",
        "    num_topics    = optimal_num_topics,\n",
        "    chunksize     = optimal_chunksize,\n",
        "    passes        = optimal_passes,\n",
        "    iterations    = optimal_iterations,\n",
        "    alpha         = 'auto',\n",
        "    eta           = 'auto',\n",
        "    random_state  = optimal_seed,\n",
        "    per_word_topics=True\n",
        ")\n",
        "\n",
        "# 2. Extract metrics and priors\n",
        "opt_perp  = lda_opt.log_perplexity(corpus)\n",
        "opt_coh   = CoherenceModel(model=lda_opt, texts=texts, dictionary=dictionary, coherence='c_v').get_coherence()\n",
        "opt_alpha = lda_opt.alpha\n",
        "opt_eta   = lda_opt.eta\n",
        "\n",
        "print(f\"Re-fitted Optimal Model:\")\n",
        "print(f\" Coherence: {opt_coh:.4f}\")\n",
        "print(f\" Perplexity: {opt_perp:.4f}\")\n",
        "print(f\" Alpha (per topic): {opt_alpha}\")\n",
        "print(f\" Eta   (per word):  {opt_eta}\")\n"
      ]
    },
    {
      "cell_type": "code",
      "execution_count": null,
      "metadata": {
        "id": "Ayc4j4Z4suf0"
      },
      "outputs": [],
      "source": [
        "import numpy as np\n",
        "from google.colab import files\n",
        "\n",
        "# 1. Grab your metrics & hyper‐params\n",
        "coherence_val  = opt_coh\n",
        "perplexity_val = opt_perp\n",
        "alpha_val      = opt_alpha\n",
        "eta_vals       = opt_eta  # full array\n",
        "\n",
        "# 2. Write them into a single text file\n",
        "with open('lda_model_full_summary_4th_mild_pos.txt', 'w') as f:\n",
        "    ...\n",
        "    f.write(\"Re-fitted Optimal Model:\\n\")\n",
        "    f.write(f\" Coherence:  {coherence_val:.4f}\\n\")\n",
        "    f.write(f\" Perplexity: {perplexity_val:.4f}\\n\")\n",
        "    f.write(f\" Alpha:      {alpha_val}\\n\")\n",
        "    f.write(\" Eta values:\\n\")\n",
        "    for eta in eta_vals:\n",
        "        f.write(f\"{eta}\\n\")\n",
        "\n",
        "\n",
        "files.download('lda_model_full_summary_4th_mild_pos.txt')\n",
        "\n"
      ]
    },
    {
      "cell_type": "code",
      "execution_count": null,
      "metadata": {
        "id": "XeudiTLnEiAw"
      },
      "outputs": [],
      "source": [
        "# Cell 3: verify that the refit recovered the same priors\n",
        "import numpy as np\n",
        "\n",
        "print(\"Alpha match:\", np.allclose(optimal_alpha, opt_alpha))\n",
        "print(\"Eta   match:\", np.allclose(optimal_eta,   opt_eta))\n"
      ]
    },
    {
      "cell_type": "code",
      "execution_count": null,
      "metadata": {
        "id": "KxdK7mI7n2AI"
      },
      "outputs": [],
      "source": [
        "# Cell 1: Imports\n",
        "from pprint import pprint\n",
        "import pyLDAvis.gensim_models as gensimvis\n",
        "import pyLDAvis\n",
        "\n",
        "# Cell 2: Print topics & sample document–topic distribution\n",
        "print(\"=== Topics ===\")\n",
        "pprint(lda_opt.print_topics())\n",
        "\n",
        "doc_topics = [lda_opt.get_document_topics(doc) for doc in corpus]\n",
        "print(\"\\nSample doc-topic distribution for doc 0:\")\n",
        "pprint(doc_topics[0])\n",
        "\n"
      ]
    },
    {
      "cell_type": "code",
      "execution_count": null,
      "metadata": {
        "id": "pCk_x4tCqxlH"
      },
      "outputs": [],
      "source": [
        "# Cell 3: pyLDAvis visualization\n",
        "# (make sure you’ve run `%matplotlib inline` or enabled notebook output)\n",
        "pyLDAvis.enable_notebook()\n",
        "vis_data = gensimvis.prepare(lda_opt, corpus, dictionary)\n",
        "pyLDAvis.display(vis_data)\n"
      ]
    },
    {
      "cell_type": "code",
      "execution_count": null,
      "metadata": {
        "id": "o8lMgF8Aq6U6"
      },
      "outputs": [],
      "source": [
        "# Cell 4: Print the top 30 terms per topic\n",
        "print(\"\\n=== Top 30 terms per topic ===\")\n",
        "for topic_id, term_weights in lda_opt.show_topics(\n",
        "        num_topics=lda_opt.num_topics,\n",
        "        num_words=30,\n",
        "        formatted=False):\n",
        "    print(f\"Topic {topic_id + 1}:\")\n",
        "    for word, weight in term_weights:\n",
        "        print(f\"  {word} ({weight:.4f})\")\n",
        "    print()\n"
      ]
    },
    {
      "cell_type": "code",
      "execution_count": null,
      "metadata": {
        "id": "mdoxZTZ20Fi-"
      },
      "outputs": [],
      "source": [
        "# import gensim.corpora as corpora\n",
        "# # # Create Dictionary\n",
        "# id2word = corpora.Dictionary(high_pos_df['trigram_tokens'].tolist())\n",
        "\n",
        "# # ## pruning\n",
        "# id2word.filter_extremes(no_below=5, no_above=0.7)\n",
        "\n",
        "# # #    (Optional) Re-map the remaining token IDs to remove gaps\n",
        "# id2word.compactify()\n",
        "\n",
        "# # # 2. Convert each document to a Bag-of-Words\n",
        "# texts = high_pos_df['trigram_tokens'].tolist()\n",
        "\n",
        "# # # Term Document Frequency\n",
        "# corpus = [id2word.doc2bow(text) for text in texts]\n",
        "\n",
        "\n",
        "# # # View\n",
        "# print(corpus[:1][0][:30])"
      ]
    },
    {
      "cell_type": "code",
      "execution_count": null,
      "metadata": {
        "id": "wg7M93m60KF8"
      },
      "outputs": [],
      "source": [
        "# import gensim\n",
        "# from gensim import corpora\n",
        "# from gensim.models import LdaModel\n",
        "# from gensim.models.coherencemodel import CoherenceModel\n",
        "# import pandas as pd\n",
        "# import numpy as np\n",
        "# import itertools\n",
        "\n",
        "\n",
        "# # Create a Dictionary and Corpus\n",
        "# dictionary = id2word\n",
        "\n",
        "\n",
        "# # Function to compute coherence and perplexity\n",
        "# def compute_coherence_and_perplexity(corpus, dictionary, texts, num_topics, chunksize, passes, iterations):\n",
        "#     lda_model = LdaModel(corpus=corpus,\n",
        "#                          id2word=dictionary,\n",
        "#                          num_topics=num_topics,\n",
        "#                          random_state=100,\n",
        "#                          chunksize=chunksize,\n",
        "#                          passes=passes,\n",
        "#                          iterations=iterations,\n",
        "#                          alpha='auto',\n",
        "#                          eta='auto',\n",
        "#                          per_word_topics=True)\n",
        "\n",
        "#     perplexity = lda_model.log_perplexity(corpus)\n",
        "#     coherence_model_lda = CoherenceModel(model=lda_model, texts=texts, dictionary=dictionary, coherence='c_v')\n",
        "#     coherence = coherence_model_lda.get_coherence()\n",
        "#      # Extract alpha and eta\n",
        "#     alpha = lda_model.alpha\n",
        "#     eta = lda_model.eta\n",
        "#     return perplexity, coherence, alpha, eta\n",
        "\n",
        "# # Define the parameter grid with your specific values\n",
        "# num_topics_range = range(2, 10)  # Adjust the range based on your needs\n",
        "# chunksize_range = [250]\n",
        "# passes_range = [100, 200,260]\n",
        "# iterations_range = [50, 100, 200]\n",
        "\n",
        "# # Store results\n",
        "# results = []\n",
        "\n",
        "# # Grid search over all combinations of hyperparameters\n",
        "# for num_topics, chunksize, passes, iterations in itertools.product(num_topics_range, chunksize_range, passes_range, iterations_range):\n",
        "#     perplexity, coherence, alpha, eta = compute_coherence_and_perplexity(corpus, dictionary, texts, num_topics, chunksize, passes, iterations)\n",
        "#     results.append((num_topics, chunksize, passes, iterations, perplexity, coherence, alpha, eta))\n",
        "#     # print(f\"Num Topics: {num_topics}, Chunksize: {chunksize}, Passes: {passes}, Iterations: {iterations}, Perplexity: {perplexity:.4f}, Coherence: {coherence:.4f}\"  f\"Alpha: {alpha}, Eta: {eta}\")\n",
        "\n",
        "# print(f\"Num Topics: {num_topics}, Chunksize: {chunksize}, Passes: {passes}, Iterations: {iterations}, \"\n",
        "#       f\"Perplexity: {perplexity:.4f}, Coherence: {coherence:.4f}, Alpha: {alpha}, Eta: {eta}\")\n",
        "\n",
        "# # Convert results to a DataFrame for better analysis\n",
        "# results_df = pd.DataFrame(results, columns=['num_topics', 'chunksize', 'passes', 'iterations', 'perplexity', 'coherence','alpha','eta'])\n",
        "# # Add exponentiated perplexity column\n",
        "# results_df['perplexity_exp'] = np.exp(-results_df['perplexity'])\n",
        "\n",
        "\n",
        "# # Display results\n",
        "# print(\"\\nResults:\")\n",
        "# print(results_df)\n",
        "\n",
        "# # Find the optimal number of topics with the highest coherence\n",
        "# optimal_result = results_df.sort_values(\n",
        "#     by=['coherence', 'perplexity_exp'],\n",
        "#     ascending=[False, True]\n",
        "# ).iloc[0]\n",
        "# optimal_num_topics = optimal_result['num_topics']\n",
        "# optimal_chunksize = optimal_result['chunksize']\n",
        "# optimal_passes = optimal_result['passes']\n",
        "# optimal_iterations = optimal_result['iterations']\n",
        "# optimal_perplexity = optimal_result['perplexity_exp']\n",
        "# optimal_coherence = optimal_result['coherence']\n",
        "# optimal_alpha = optimal_result['alpha']\n",
        "# optimal_eta   = optimal_result['eta']\n",
        "\n",
        "\n",
        "# print(f\"\\nOptimal Parameters:\")\n",
        "# print(f\"Number of Topics: {optimal_num_topics}\")\n",
        "# print(f\"Chunksize: {optimal_chunksize}\")\n",
        "# print(f\"Passes: {optimal_passes}\")\n",
        "# print(f\"Iterations: {optimal_iterations}\")\n",
        "# print(f\"Coherence: {optimal_coherence:.4f}\")\n",
        "# print(f\"Perplexity: {optimal_perplexity:.4f}\")\n",
        "# print(f\" Alpha (per topic): {optimal_alpha}\")\n",
        "# print(f\" Eta   (per word):  {optimal_eta}\")"
      ]
    },
    {
      "cell_type": "code",
      "execution_count": null,
      "metadata": {
        "id": "c6xlGOuk0fSH"
      },
      "outputs": [],
      "source": [
        "# # 1. Fit the model\n",
        "# lda_opt = LdaModel(\n",
        "#     corpus        = corpus,\n",
        "#     id2word       = dictionary,\n",
        "#     num_topics    = optimal_num_topics,\n",
        "#     chunksize     = optimal_chunksize,\n",
        "#     passes        = optimal_passes,\n",
        "#     iterations    = optimal_iterations,\n",
        "#     alpha         = 'auto',\n",
        "#     eta           = 'auto',\n",
        "#     random_state  = 100,\n",
        "#     per_word_topics=True\n",
        "# )\n",
        "\n",
        "# # 2. Extract metrics and priors\n",
        "# opt_perp  = lda_opt.log_perplexity(corpus)\n",
        "# opt_coh   = CoherenceModel(model=lda_opt, texts=texts, dictionary=dictionary, coherence='c_v').get_coherence()\n",
        "# opt_alpha = lda_opt.alpha\n",
        "# opt_eta   = lda_opt.eta\n",
        "\n",
        "# print(f\"Re-fitted Optimal Model:\")\n",
        "# print(f\" Coherence: {opt_coh:.4f}\")\n",
        "# print(f\" Perplexity: {opt_perp:.4f}\")\n",
        "# print(f\" Alpha (per topic): {opt_alpha}\")\n",
        "# print(f\" Eta   (per word):  {opt_eta}\")\n"
      ]
    },
    {
      "cell_type": "code",
      "execution_count": null,
      "metadata": {
        "id": "pf9JtspW0km7"
      },
      "outputs": [],
      "source": [
        "# import numpy as np\n",
        "# from google.colab import files\n",
        "\n",
        "# # 1. Grab your metrics & hyper‐params\n",
        "# coherence_val  = opt_coh\n",
        "# perplexity_val = opt_perp\n",
        "# alpha_val      = opt_alpha\n",
        "# eta_vals       = opt_eta  # full array\n",
        "\n",
        "# # 2. Write them into a single text file\n",
        "# with open('lda_model_full_summary.txt', 'w') as f:\n",
        "#     f.write(\"Re-fitted Optimal Model:\\n\")\n",
        "#     f.write(f\" Coherence:  {coherence_val:.4f}\\n\")\n",
        "#     f.write(f\" Perplexity: {perplexity_val:.4f}\\n\")\n",
        "#     f.write(f\" Alpha:      {alpha_val}\\n\")\n",
        "#     f.write(\" Eta values:\\n\")\n",
        "#     for eta in eta_vals:\n",
        "#         f.write(f\"{eta}\\n\")\n",
        "\n",
        "# # 3. Trigger the download\n",
        "# files.download('lda_model_full_summary.txt')\n"
      ]
    },
    {
      "cell_type": "code",
      "execution_count": null,
      "metadata": {
        "id": "6wh8BuUr0nbF"
      },
      "outputs": [],
      "source": [
        "# # Cell 3: verify that the refit recovered the same priors\n",
        "# import numpy as np\n",
        "\n",
        "# print(\"Alpha match:\", np.allclose(optimal_alpha, opt_alpha))\n",
        "# print(\"Eta   match:\", np.allclose(optimal_eta,   opt_eta))\n"
      ]
    },
    {
      "cell_type": "code",
      "execution_count": null,
      "metadata": {
        "id": "3iJ0eaGy0qmZ"
      },
      "outputs": [],
      "source": [
        "# # Cell 1: Imports\n",
        "# from pprint import pprint\n",
        "# import pyLDAvis.gensim_models as gensimvis\n",
        "# import pyLDAvis\n",
        "\n",
        "# # Cell 2: Print topics & sample document–topic distribution\n",
        "# print(\"=== Topics ===\")\n",
        "# pprint(lda_opt.print_topics())\n",
        "\n",
        "# doc_topics = [lda_opt.get_document_topics(doc) for doc in corpus]\n",
        "# print(\"\\nSample doc-topic distribution for doc 0:\")\n",
        "# pprint(doc_topics[0])\n",
        "\n"
      ]
    },
    {
      "cell_type": "code",
      "execution_count": null,
      "metadata": {
        "id": "HEcrpKzx0uIg"
      },
      "outputs": [],
      "source": [
        "# # Cell 3: pyLDAvis visualization\n",
        "# # (make sure you’ve run `%matplotlib inline` or enabled notebook output)\n",
        "# pyLDAvis.enable_notebook()\n",
        "# vis_data = gensimvis.prepare(lda_opt, corpus, dictionary)\n",
        "# pyLDAvis.display(vis_data)\n"
      ]
    },
    {
      "cell_type": "code",
      "execution_count": 3,
      "metadata": {
        "id": "UZbC_IiS0xhT"
      },
      "outputs": [],
      "source": [
        "# # Cell 4: Print the top 30 terms per topic\n",
        "# print(\"\\n=== Top 30 terms per topic ===\")\n",
        "# for topic_id, term_weights in lda_opt.show_topics(\n",
        "#         num_topics=lda_opt.num_topics,\n",
        "#         num_words=30,\n",
        "#         formatted=False):\n",
        "#     print(f\"Topic {topic_id + 1}:\")\n",
        "#     for word, weight in term_weights:\n",
        "#         print(f\"  {word} ({weight:.4f})\")\n",
        "#     print()\n"
      ]
    },
    {
      "cell_type": "code",
      "execution_count": 4,
      "metadata": {
        "colab": {
          "base_uri": "https://localhost:8080/",
          "height": 211
        },
        "id": "lTSpqyRRNeFB",
        "outputId": "2d750dd8-4e9f-478d-b90d-3c74f90a36b0"
      },
      "outputs": [
        {
          "output_type": "error",
          "ename": "NameError",
          "evalue": "name 'df' is not defined",
          "traceback": [
            "\u001b[0;31m---------------------------------------------------------------------------\u001b[0m",
            "\u001b[0;31mNameError\u001b[0m                                 Traceback (most recent call last)",
            "\u001b[0;32m<ipython-input-4-a5cd12c30f08>\u001b[0m in \u001b[0;36m<cell line: 0>\u001b[0;34m()\u001b[0m\n\u001b[1;32m      1\u001b[0m \u001b[0;31m####### HIGH NEGATIVE FOR FIRST COVID WAVE ########\u001b[0m\u001b[0;34m\u001b[0m\u001b[0;34m\u001b[0m\u001b[0m\n\u001b[1;32m      2\u001b[0m \u001b[0;31m# Filter the DataFrame\u001b[0m\u001b[0;34m\u001b[0m\u001b[0;34m\u001b[0m\u001b[0m\n\u001b[0;32m----> 3\u001b[0;31m \u001b[0mhigh_neg_first_wave_df\u001b[0m \u001b[0;34m=\u001b[0m \u001b[0mdf\u001b[0m\u001b[0;34m[\u001b[0m\u001b[0mdf\u001b[0m\u001b[0;34m[\u001b[0m\u001b[0;34m'label'\u001b[0m\u001b[0;34m]\u001b[0m \u001b[0;34m==\u001b[0m \u001b[0;34m'mild neg'\u001b[0m\u001b[0;34m]\u001b[0m\u001b[0;34m\u001b[0m\u001b[0;34m\u001b[0m\u001b[0m\n\u001b[0m\u001b[1;32m      4\u001b[0m \u001b[0;34m\u001b[0m\u001b[0m\n\u001b[1;32m      5\u001b[0m \u001b[0;31m# Convert the 'created_utc' column to datetime\u001b[0m\u001b[0;34m\u001b[0m\u001b[0;34m\u001b[0m\u001b[0m\n",
            "\u001b[0;31mNameError\u001b[0m: name 'df' is not defined"
          ]
        }
      ],
      "source": [
        "####### HIGH NEGATIVE FOR FIRST COVID WAVE ########\n",
        "# Filter the DataFrame\n",
        "high_neg_first_wave_df = df[df['label'] == 'mild neg']\n",
        "\n",
        "# Convert the 'created_utc' column to datetime\n",
        "high_neg_first_wave_df['created_utc'] = pd.to_datetime(high_neg_first_wave_df['created_utc'])\n",
        "\n",
        "# Define your date range\n",
        "# start_date = '2020-01-01'\n",
        "# end_date = '2020-05-31'\n",
        "# Define your date range\n",
        "# start_date = '2020-10-01'\n",
        "# end_date = '2021-01-31'\n",
        "# start_date = '2021-11-01'\n",
        "# end_date = '2022-01-31'\n",
        "start_date = '2022-11-01'\n",
        "end_date = '2023-01-31'\n",
        "\n",
        "# Filter the DataFrame for entries within the specified date range\n",
        "high_neg_first_wave_df = high_neg_first_wave_df[(high_neg_first_wave_df['created_utc'] >= start_date) & (high_neg_first_wave_df['created_utc'] <= end_date)]\n",
        "\n",
        "\n",
        "# Print the filtered DataFrame to check the result\n",
        "high_neg_first_wave_df.head()"
      ]
    },
    {
      "cell_type": "code",
      "execution_count": null,
      "metadata": {
        "id": "Pvuh8kxPZ8Yy"
      },
      "outputs": [],
      "source": [
        "high_neg_first_wave_df.shape[0]"
      ]
    },
    {
      "cell_type": "code",
      "execution_count": null,
      "metadata": {
        "id": "F1OTWZNQaXj8"
      },
      "outputs": [],
      "source": [
        "from collections import Counter\n",
        "import pandas as pd\n",
        "import matplotlib.pyplot as plt\n",
        "\n",
        "# 1) Flatten your tokens into one long list\n",
        "all_tokens = [t for toks in high_neg_first_wave_df['tokens'] for t in toks]\n",
        "\n",
        "# 2) Build a frequency distribution\n",
        "freq = Counter(all_tokens)\n",
        "common = freq.most_common(30)   # top 30\n",
        "\n",
        "# 3) Turn it into a DataFrame for easy inspection\n",
        "df_freq = pd.DataFrame(common, columns=['token','count'])\n",
        "print(df_freq)\n",
        "\n",
        "# 4) Plot a simple bar chart of the top tokens\n",
        "tokens, counts = zip(*common)\n",
        "plt.figure()\n",
        "plt.bar(tokens, counts)\n",
        "plt.xticks(rotation=45, ha='right')\n",
        "plt.xlabel('Token')\n",
        "plt.ylabel('Frequency')\n",
        "plt.title('Top 30 Tokens in high_negative_df')\n",
        "plt.tight_layout()\n",
        "plt.show()"
      ]
    },
    {
      "cell_type": "code",
      "execution_count": null,
      "metadata": {
        "id": "btQD7R99all4"
      },
      "outputs": [],
      "source": [
        "# Flatten all tokens into one list\n",
        "all_words   = [word for tokens in high_neg_first_wave_df['tokens'] for word in tokens]\n",
        "\n",
        "# Compute the length (in tokens) of each post\n",
        "post_length = [len(tokens) for tokens in high_neg_first_wave_df['tokens']]\n",
        "\n",
        "# Build the vocabulary\n",
        "vocab       = sorted(set(all_words))\n",
        "\n",
        "# Print your summary stats\n",
        "print(f\"{len(all_words)} words total, with a vocabulary size of {len(vocab)}\")\n",
        "print(f\"Max reddit post length is {max(post_length)} tokens\")\n",
        "print(f\"Mean reddit post length is {sum(post_length)/len(post_length):.2f} tokens\")\n",
        "print(f\"Median reddit post length is {sorted(post_length)[len(post_length)//2]} tokens\")\n"
      ]
    },
    {
      "cell_type": "code",
      "execution_count": null,
      "metadata": {
        "id": "rve3QhCUau2i"
      },
      "outputs": [],
      "source": [
        "plt.figure(figsize=(15, 8))\n",
        "sns.histplot(post_length, bins=60, kde=True)\n",
        "plt.title('Post Length Distribution', fontsize=18)\n",
        "plt.xlabel('Words per Post', fontsize=12)\n",
        "plt.ylabel('Number of Posts', fontsize=12)\n",
        "# Setting x-axis ticks and labels for more detail\n",
        "max_length = max(post_length)\n",
        "xticks = np.arange(0, max_length + 1, max_length // 60)  # Adjust the step size as needed\n",
        "plt.xticks(xticks)\n",
        "plt.show()"
      ]
    },
    {
      "cell_type": "code",
      "execution_count": null,
      "metadata": {
        "id": "JrkzaktPa0tn"
      },
      "outputs": [],
      "source": [
        "#!pip install  gensim\n"
      ]
    },
    {
      "cell_type": "code",
      "execution_count": null,
      "metadata": {
        "id": "dFMsom6Fb4XP"
      },
      "outputs": [],
      "source": [
        "import gensim\n",
        "from gensim.models import Phrases\n",
        "from gensim.models.phrases import Phraser\n",
        "\n",
        "# 1) Prepare your list-of-lists from the `tokens` column\n",
        "texts = high_neg_first_wave_df['tokens'].tolist()\n",
        "\n",
        "# 2) Train the bigram detector\n",
        "bigram = Phrases(texts, min_count=3, threshold=60)\n",
        "bigram_mod = Phraser(bigram)\n",
        "\n",
        "# 3) Train the trigram detector on the bigram-transformed texts\n",
        "trigram = Phrases(bigram[texts], min_count=2, threshold=150)\n",
        "trigram_mod = Phraser(trigram)\n",
        "\n",
        "# 4) Apply bigram and trigram transforms\n",
        "high_neg_first_wave_df['bigram_tokens']   = high_neg_first_wave_df['tokens'].apply(lambda doc: bigram_mod[doc])\n",
        "high_neg_first_wave_df['trigram_tokens']  = high_neg_first_wave_df['tokens'].apply(lambda doc: trigram_mod[bigram_mod[doc]])\n",
        "\n",
        "# # 5) (Optional) If you need back a single string for vectorizers:\n",
        "# high_neg_first_wave_df['bigram_text']   = high_neg_first_wave_df['bigram_tokens'].str.join(' ')\n",
        "# high_neg_first_wave_df['trigram_text']  = high_neg_first_wave_df['trigram_tokens'].str.join(' ')\n",
        "\n",
        "# 6) Inspect\n",
        "print(high_neg_first_wave_df[['tokens','bigram_tokens','trigram_tokens']].head())\n"
      ]
    },
    {
      "cell_type": "code",
      "execution_count": null,
      "metadata": {
        "id": "wLMqGnXScCM7"
      },
      "outputs": [],
      "source": [
        "# 1) Helper to detect n-grams in a token list\n",
        "def contains_ngram(tokenized_list, n):\n",
        "    return any(len(tok.split('_')) == n for tok in tokenized_list)\n",
        "\n",
        "# 2) Flag rows\n",
        "high_neg_first_wave_df['has_bigrams']  = high_neg_first_wave_df['bigram_tokens'].apply(lambda doc: contains_ngram(doc, 2))\n",
        "high_neg_first_wave_df['has_trigrams'] = high_neg_first_wave_df['trigram_tokens'].apply(lambda doc: contains_ngram(doc, 3))\n",
        "\n",
        "# 3) Count\n",
        "rows_with_bigrams  = high_neg_first_wave_df['has_bigrams'].sum()\n",
        "rows_with_trigrams = high_neg_first_wave_df['has_trigrams'].sum()\n",
        "rows_with_none     = (~high_neg_first_wave_df['has_bigrams'] & ~high_neg_first_wave_df['has_trigrams']).sum()\n",
        "\n",
        "# 4) Report\n",
        "print(f\"Rows with bigrams:   {rows_with_bigrams}\")\n",
        "print(f\"Rows with trigrams:  {rows_with_trigrams}\")\n",
        "print(f\"Rows with no n-grams: {rows_with_none}\")\n"
      ]
    },
    {
      "cell_type": "code",
      "execution_count": null,
      "metadata": {
        "id": "KKHQtNgCcIDm"
      },
      "outputs": [],
      "source": [
        "high_neg_first_wave_df.head()"
      ]
    },
    {
      "cell_type": "code",
      "execution_count": 5,
      "metadata": {
        "colab": {
          "base_uri": "https://localhost:8080/",
          "height": 211
        },
        "id": "ATF-4cSpcKxG",
        "outputId": "18578d6e-a558-4661-e94e-956db3bb8e80"
      },
      "outputs": [
        {
          "output_type": "error",
          "ename": "NameError",
          "evalue": "name 'high_neg_first_wave_df' is not defined",
          "traceback": [
            "\u001b[0;31m---------------------------------------------------------------------------\u001b[0m",
            "\u001b[0;31mNameError\u001b[0m                                 Traceback (most recent call last)",
            "\u001b[0;32m<ipython-input-5-2885d3d07135>\u001b[0m in \u001b[0;36m<cell line: 0>\u001b[0;34m()\u001b[0m\n\u001b[1;32m      1\u001b[0m \u001b[0;31m# Print the total number of rows in the DataFrame\u001b[0m\u001b[0;34m\u001b[0m\u001b[0;34m\u001b[0m\u001b[0m\n\u001b[0;32m----> 2\u001b[0;31m \u001b[0mtotal_rows\u001b[0m \u001b[0;34m=\u001b[0m \u001b[0mhigh_neg_first_wave_df\u001b[0m\u001b[0;34m.\u001b[0m\u001b[0mshape\u001b[0m\u001b[0;34m[\u001b[0m\u001b[0;36m0\u001b[0m\u001b[0;34m]\u001b[0m\u001b[0;34m\u001b[0m\u001b[0;34m\u001b[0m\u001b[0m\n\u001b[0m\u001b[1;32m      3\u001b[0m \u001b[0mprint\u001b[0m\u001b[0;34m(\u001b[0m\u001b[0;34mf\"Total number of rows in the DataFrame: {total_rows}\"\u001b[0m\u001b[0;34m)\u001b[0m\u001b[0;34m\u001b[0m\u001b[0;34m\u001b[0m\u001b[0m\n\u001b[1;32m      4\u001b[0m \u001b[0;34m\u001b[0m\u001b[0m\n\u001b[1;32m      5\u001b[0m \u001b[0;31m# Check the number of rows in the 'trigram_tokenized' column\u001b[0m\u001b[0;34m\u001b[0m\u001b[0;34m\u001b[0m\u001b[0m\n",
            "\u001b[0;31mNameError\u001b[0m: name 'high_neg_first_wave_df' is not defined"
          ]
        }
      ],
      "source": [
        "# Print the total number of rows in the DataFrame\n",
        "total_rows = high_neg_first_wave_df.shape[0]\n",
        "print(f\"Total number of rows in the DataFrame: {total_rows}\")\n",
        "\n",
        "# Check the number of rows in the 'trigram_tokenized' column\n",
        "print(f\"Number of rows in 'trigram_tokenized' column: {high_neg_first_wave_df['trigram_tokens'].shape[0]}\")"
      ]
    },
    {
      "cell_type": "code",
      "execution_count": null,
      "metadata": {
        "id": "pJypHxwXcPN2"
      },
      "outputs": [],
      "source": [
        "import itertools\n",
        "from collections import Counter\n",
        "\n",
        "# 1) Flatten all trigram lists into one big sequence\n",
        "all_trigrams = itertools.chain.from_iterable(high_neg_first_wave_df['trigram_tokens'])\n",
        "\n",
        "# 2) Filter for genuine trigrams (exactly two underscores → three words joined)\n",
        "trigram_counts = Counter(\n",
        "    token for token in all_trigrams\n",
        "    if isinstance(token, str) and token.count('_') == 2\n",
        ")\n",
        "\n",
        "# 3) How many unique trigrams?\n",
        "total_unique_trigrams = len(trigram_counts)\n",
        "print(f\"Total number of unique trigrams: {total_unique_trigrams}\")\n",
        "\n",
        "# 4) Show the 10 most common trigrams\n",
        "print(\"\\nMost common trigrams:\")\n",
        "for trigram, count in trigram_counts.most_common(10):\n",
        "    print(f\"{trigram}: {count:,}\")\n"
      ]
    },
    {
      "cell_type": "code",
      "execution_count": null,
      "metadata": {
        "id": "s1NHF9x_bYzm"
      },
      "outputs": [],
      "source": [
        "# import gensim.corpora as corpora\n",
        "# # Create Dictionary\n",
        "# id2word = corpora.Dictionary(high_neg_first_wave_df['trigram_tokens'].tolist())\n",
        "\n",
        "# ## pruning\n",
        "# #id2word.filter_extremes(no_below=5, no_above=0.5)\n",
        "\n",
        "# #    (Optional) Re-map the remaining token IDs to remove gaps\n",
        "# #id2word.compactify()\n",
        "\n",
        "# # 2. Convert each document to a Bag-of-Words\n",
        "# texts = high_neg_first_wave_df['trigram_tokens'].tolist()\n",
        "\n",
        "# # Term Document Frequency\n",
        "# corpus = [id2word.doc2bow(text) for text in texts]\n",
        "\n",
        "\n",
        "# # View\n",
        "# print(corpus[:1][0][:30])"
      ]
    },
    {
      "cell_type": "code",
      "execution_count": null,
      "metadata": {
        "id": "c3zzk3UlbrCu"
      },
      "outputs": [],
      "source": [
        "# import gensim\n",
        "# from gensim import corpora\n",
        "# from gensim.models.ldamodel import LdaModel\n",
        "# from nltk.tokenize import word_tokenize\n",
        "# import nltk\n",
        "# ## Build the basic LDA model\n",
        "# lda_model = LdaModel(corpus=corpus,\n",
        "#                                        id2word=id2word,\n",
        "#                                        num_topics=2,\n",
        "#                                        random_state=100,\n",
        "#                                           chunksize=250,\n",
        "#                                        passes=100,\n",
        "#                                         iterations= 200,\n",
        "#                                        alpha='auto',\n",
        "#                                       eta='auto',\n",
        "#                                        per_word_topics=True)"
      ]
    },
    {
      "cell_type": "code",
      "execution_count": null,
      "metadata": {
        "id": "EFZIK0RZbznf"
      },
      "outputs": [],
      "source": [
        "# from pprint import pprint\n",
        "\n",
        "# # Print the Keyword in the 3 topics\n",
        "# pprint(lda_model.print_topics())\n",
        "# doc_lda = lda_model[corpus]"
      ]
    },
    {
      "cell_type": "code",
      "execution_count": null,
      "metadata": {
        "id": "ezfm299-cSZE"
      },
      "outputs": [],
      "source": [
        "# import pyLDAvis.gensim\n",
        "# import pickle\n",
        "# import pyLDAvis\n",
        "# import pyLDAvis.gensim_models as gensimvis\n",
        "# import pyLDAvis\n",
        "\n",
        "# # Assuming ldamodel, corpus, and dictionary are already defined\n",
        "# # Enable the automatic display of visualizations in Jupyter\n",
        "# pyLDAvis.enable_notebook()\n",
        "\n",
        "# # Prepare the LDA visualization directly\n",
        "# LDAvis_prepared = gensimvis.prepare(lda_model, corpus, id2word)\n",
        "\n",
        "# # Display the prepared visualization directly in the notebook\n",
        "# pyLDAvis.display(LDAvis_prepared)"
      ]
    },
    {
      "cell_type": "code",
      "execution_count": null,
      "metadata": {
        "id": "aHJIO3s3cldR"
      },
      "outputs": [],
      "source": [
        "# # Extracting and printing the top 30 salient terms for each topic\n",
        "# num_topics = lda_model.num_topics\n",
        "# num_words = 30\n",
        "\n",
        "# for idx, topic in lda_model.show_topics(num_topics=num_topics, num_words=num_words, formatted=False):\n",
        "#     print(f\"Topic {idx + 1}:\")\n",
        "#     for word, weight in topic:\n",
        "#         print(f\"  {word} ({weight:.4f})\")\n",
        "#     print()"
      ]
    },
    {
      "cell_type": "code",
      "execution_count": null,
      "metadata": {
        "id": "LOWbF0k0cZXT"
      },
      "outputs": [],
      "source": [
        "import gensim\n",
        "from gensim import corpora\n",
        "from gensim.models import LdaModel\n",
        "from gensim.models.coherencemodel import CoherenceModel\n",
        "import pandas as pd\n",
        "import numpy as np\n",
        "import itertools\n",
        "\n",
        "# Assuming high_pos_df['trigram_tokenized'] contains lists of lemmatized trigram tokens\n",
        "texts = high_neg_first_wave_df['trigram_tokens'].tolist()\n",
        "\n",
        "# Create a Dictionary and Corpus\n",
        "dictionary = corpora.Dictionary(texts)\n",
        "corpus = [dictionary.doc2bow(text) for text in texts]\n",
        "\n",
        "# Function to compute coherence and perplexity\n",
        "def compute_coherence_and_perplexity(corpus, dictionary, texts, num_topics, chunksize, passes, iterations, seed):\n",
        "    lda_model = LdaModel(corpus=corpus,\n",
        "                         id2word=dictionary,\n",
        "                         num_topics=num_topics,\n",
        "                         random_state=seed,\n",
        "                         chunksize=chunksize,\n",
        "                         passes=passes,\n",
        "                         iterations=iterations,\n",
        "                         alpha='auto',\n",
        "                         eta='auto',\n",
        "                         per_word_topics=True)\n",
        "\n",
        "    perplexity = lda_model.log_perplexity(corpus)\n",
        "    coherence_model_lda = CoherenceModel(model=lda_model, texts=texts, dictionary=dictionary, coherence='c_v')\n",
        "    coherence = coherence_model_lda.get_coherence()\n",
        "     # Extract alpha and eta\n",
        "    alpha = lda_model.alpha\n",
        "    eta = lda_model.eta\n",
        "    return perplexity, coherence, alpha, eta\n",
        "\n",
        "# Define the parameter grid with your specific values\n",
        "num_topics_range = range(2, 10)  # Adjust the range based on your needs\n",
        "chunksize_range = [300]\n",
        "passes_range = [100, 200,260]\n",
        "iterations_range = [50,100, 200]\n",
        "\n",
        "# Store results\n",
        "results = []\n",
        "\n",
        "# Grid search over all combinations of hyperparameters\n",
        "for seed in [0, 1, 2]:\n",
        "  for num_topics, chunksize, passes, iterations in itertools.product(num_topics_range, chunksize_range, passes_range, iterations_range):\n",
        "    perplexity, coherence , alpha, eta = compute_coherence_and_perplexity(corpus, dictionary, texts, num_topics, chunksize, passes, iterations, seed)\n",
        "    results.append((num_topics, chunksize, passes, iterations, perplexity, coherence,alpha,eta, seed))\n",
        "    print(f\"Num Topics: {num_topics}, Chunksize: {chunksize}, Passes: {passes}, Iterations: {iterations}, Perplexity: {perplexity:.4f}, Coherence: {coherence:.4f}, Alpha: {alpha}, Eta: {eta}\")\n",
        "\n",
        "# Convert results to a DataFrame for better analysis\n",
        "results_df = pd.DataFrame(results, columns=['num_topics', 'chunksize', 'passes', 'iterations', 'perplexity', 'coherence','alpha','eta','seed'])\n",
        "\n",
        "# Add exponentiated perplexity column\n",
        "results_df['perplexity_exp'] = np.exp(-results_df['perplexity'])\n",
        "\n",
        "# Display results\n",
        "print(\"\\nResults:\")\n",
        "print(results_df)\n",
        "\n",
        "# Find the optimal number of topics with the highest coherence\n",
        "optimal_result = results_df.sort_values(\n",
        "    by=['coherence', 'perplexity_exp'],\n",
        "    ascending=[False, True]\n",
        ").iloc[0]\n",
        "optimal_num_topics = optimal_result['num_topics']\n",
        "optimal_chunksize = optimal_result['chunksize']\n",
        "optimal_passes = optimal_result['passes']\n",
        "optimal_iterations = optimal_result['iterations']\n",
        "optimal_perplexity = optimal_result['perplexity_exp']\n",
        "optimal_coherence = optimal_result['coherence']\n",
        "optimal_alpha = optimal_result['alpha']\n",
        "optimal_eta   = optimal_result['eta']\n",
        "optimal_seed = optimal_result['seed']\n",
        "\n",
        "print(f\"\\nOptimal Parameters:\")\n",
        "print(f\"Number of Topics: {optimal_num_topics}\")\n",
        "print(f\"Chunksize: {optimal_chunksize}\")\n",
        "print(f\"Passes: {optimal_passes}\")\n",
        "print(f\"Iterations: {optimal_iterations}\")\n",
        "print(f\"Coherence: {optimal_coherence:.4f}\")\n",
        "print(f\"Perplexity: {optimal_perplexity:.4f}\")\n",
        "print(f\" Alpha (per topic): {optimal_alpha}\")\n",
        "print(f\" Eta   (per word):  {optimal_eta}\")\n",
        "print(f\" seed:  {optimal_seed}\")"
      ]
    },
    {
      "cell_type": "code",
      "execution_count": 6,
      "metadata": {
        "colab": {
          "base_uri": "https://localhost:8080/",
          "height": 211
        },
        "id": "MRNtYBBcvN4G",
        "outputId": "243f510e-ce5a-4910-f015-15a1f739c6b2"
      },
      "outputs": [
        {
          "output_type": "error",
          "ename": "NameError",
          "evalue": "name 'LdaModel' is not defined",
          "traceback": [
            "\u001b[0;31m---------------------------------------------------------------------------\u001b[0m",
            "\u001b[0;31mNameError\u001b[0m                                 Traceback (most recent call last)",
            "\u001b[0;32m<ipython-input-6-24e201c615f9>\u001b[0m in \u001b[0;36m<cell line: 0>\u001b[0;34m()\u001b[0m\n\u001b[1;32m      1\u001b[0m \u001b[0;31m# 1. Fit the model\u001b[0m\u001b[0;34m\u001b[0m\u001b[0;34m\u001b[0m\u001b[0m\n\u001b[0;32m----> 2\u001b[0;31m lda_opt = LdaModel(\n\u001b[0m\u001b[1;32m      3\u001b[0m     \u001b[0mcorpus\u001b[0m        \u001b[0;34m=\u001b[0m \u001b[0mcorpus\u001b[0m\u001b[0;34m,\u001b[0m\u001b[0;34m\u001b[0m\u001b[0;34m\u001b[0m\u001b[0m\n\u001b[1;32m      4\u001b[0m     \u001b[0mid2word\u001b[0m       \u001b[0;34m=\u001b[0m \u001b[0mdictionary\u001b[0m\u001b[0;34m,\u001b[0m\u001b[0;34m\u001b[0m\u001b[0;34m\u001b[0m\u001b[0m\n\u001b[1;32m      5\u001b[0m     \u001b[0mnum_topics\u001b[0m    \u001b[0;34m=\u001b[0m \u001b[0moptimal_num_topics\u001b[0m\u001b[0;34m,\u001b[0m\u001b[0;34m\u001b[0m\u001b[0;34m\u001b[0m\u001b[0m\n",
            "\u001b[0;31mNameError\u001b[0m: name 'LdaModel' is not defined"
          ]
        }
      ],
      "source": [
        "# 1. Fit the model\n",
        "lda_opt = LdaModel(\n",
        "    corpus        = corpus,\n",
        "    id2word       = dictionary,\n",
        "    num_topics    = optimal_num_topics,\n",
        "    chunksize     = optimal_chunksize,\n",
        "    passes        = optimal_passes,\n",
        "    iterations    = optimal_iterations,\n",
        "    alpha         = 'auto',\n",
        "    eta           = 'auto',\n",
        "    random_state  = optimal_seed,\n",
        "    per_word_topics=True\n",
        ")\n",
        "\n",
        "# 2. Extract metrics and priors\n",
        "opt_perp  = lda_opt.log_perplexity(corpus)\n",
        "opt_coh   = CoherenceModel(model=lda_opt, texts=texts, dictionary=dictionary, coherence='c_v').get_coherence()\n",
        "opt_alpha = lda_opt.alpha\n",
        "opt_eta   = lda_opt.eta\n",
        "\n",
        "print(f\"Re-fitted Optimal Model:\")\n",
        "print(f\" Coherence: {opt_coh:.4f}\")\n",
        "print(f\" Perplexity: {opt_perp:.4f}\")\n",
        "print(f\" Alpha (per topic): {opt_alpha}\")\n",
        "print(f\" Eta   (per word):  {opt_eta}\")\n"
      ]
    },
    {
      "cell_type": "code",
      "execution_count": 7,
      "metadata": {
        "colab": {
          "base_uri": "https://localhost:8080/",
          "height": 211
        },
        "id": "SK9KveRnu-Su",
        "outputId": "0d573412-2448-442d-ef6a-5c2aaed1df11"
      },
      "outputs": [
        {
          "output_type": "error",
          "ename": "NameError",
          "evalue": "name 'opt_coh' is not defined",
          "traceback": [
            "\u001b[0;31m---------------------------------------------------------------------------\u001b[0m",
            "\u001b[0;31mNameError\u001b[0m                                 Traceback (most recent call last)",
            "\u001b[0;32m<ipython-input-7-de31eca1a94c>\u001b[0m in \u001b[0;36m<cell line: 0>\u001b[0;34m()\u001b[0m\n\u001b[1;32m      3\u001b[0m \u001b[0;34m\u001b[0m\u001b[0m\n\u001b[1;32m      4\u001b[0m \u001b[0;31m# 1. Grab your metrics & hyper‐params\u001b[0m\u001b[0;34m\u001b[0m\u001b[0;34m\u001b[0m\u001b[0m\n\u001b[0;32m----> 5\u001b[0;31m \u001b[0mcoherence_val\u001b[0m  \u001b[0;34m=\u001b[0m \u001b[0mopt_coh\u001b[0m\u001b[0;34m\u001b[0m\u001b[0;34m\u001b[0m\u001b[0m\n\u001b[0m\u001b[1;32m      6\u001b[0m \u001b[0mperplexity_val\u001b[0m \u001b[0;34m=\u001b[0m \u001b[0mopt_perp\u001b[0m\u001b[0;34m\u001b[0m\u001b[0;34m\u001b[0m\u001b[0m\n\u001b[1;32m      7\u001b[0m \u001b[0malpha_val\u001b[0m      \u001b[0;34m=\u001b[0m \u001b[0mopt_alpha\u001b[0m\u001b[0;34m\u001b[0m\u001b[0;34m\u001b[0m\u001b[0m\n",
            "\u001b[0;31mNameError\u001b[0m: name 'opt_coh' is not defined"
          ]
        }
      ],
      "source": [
        "import numpy as np\n",
        "from google.colab import files\n",
        "\n",
        "# 1. Grab your metrics & hyper‐params\n",
        "coherence_val  = opt_coh\n",
        "perplexity_val = opt_perp\n",
        "alpha_val      = opt_alpha\n",
        "eta_vals       = opt_eta  # full array\n",
        "\n",
        "# 2. Write them into a single text file\n",
        "with open('lda_model_full_summary_4th_mild_neg.txt', 'w') as f:\n",
        "    f.write(\"Re-fitted Optimal Model:\\n\")\n",
        "    f.write(f\" Coherence:  {coherence_val:.4f}\\n\")\n",
        "    f.write(f\" Perplexity: {perplexity_val:.4f}\\n\")\n",
        "    f.write(f\" Alpha:      {alpha_val}\\n\")\n",
        "    f.write(\" Eta values:\\n\")\n",
        "    for eta in eta_vals:\n",
        "        f.write(f\"{eta}\\n\")\n",
        "    f.flush()  # Ensure it's written to disk\n",
        "# 3. Trigger the download\n",
        "files.download('lda_model_full_summary_4th_mild_neg.txt')\n"
      ]
    },
    {
      "cell_type": "code",
      "execution_count": null,
      "metadata": {
        "id": "CbA-Oc5NvCxI"
      },
      "outputs": [],
      "source": [
        "# Cell 3: verify that the refit recovered the same priors\n",
        "import numpy as np\n",
        "\n",
        "print(\"Alpha match:\", np.allclose(optimal_alpha, opt_alpha))\n",
        "print(\"Eta   match:\", np.allclose(optimal_eta,   opt_eta))\n"
      ]
    },
    {
      "cell_type": "code",
      "execution_count": null,
      "metadata": {
        "id": "6H8vcUgrvER-"
      },
      "outputs": [],
      "source": [
        "# Cell 1: Imports\n",
        "from pprint import pprint\n",
        "import pyLDAvis.gensim_models as gensimvis\n",
        "import pyLDAvis\n",
        "\n",
        "# Cell 2: Print topics & sample document–topic distribution\n",
        "print(\"=== Topics ===\")\n",
        "pprint(lda_opt.print_topics())\n",
        "\n",
        "doc_topics = [lda_opt.get_document_topics(doc) for doc in corpus]\n",
        "print(\"\\nSample doc-topic distribution for doc 0:\")\n",
        "pprint(doc_topics[0])\n",
        "\n"
      ]
    },
    {
      "cell_type": "code",
      "execution_count": null,
      "metadata": {
        "id": "ZeDK0p3evF2J"
      },
      "outputs": [],
      "source": [
        "# Cell 3: pyLDAvis visualization\n",
        "# (make sure you’ve run `%matplotlib inline` or enabled notebook output)\n",
        "pyLDAvis.enable_notebook()\n",
        "vis_data = gensimvis.prepare(lda_opt, corpus, dictionary)\n",
        "pyLDAvis.display(vis_data)\n"
      ]
    },
    {
      "cell_type": "code",
      "execution_count": null,
      "metadata": {
        "id": "9lqX2mikvHhy"
      },
      "outputs": [],
      "source": [
        "# Cell 4: Print the top 30 terms per topic\n",
        "print(\"\\n=== Top 30 terms per topic ===\")\n",
        "for topic_id, term_weights in lda_opt.show_topics(\n",
        "        num_topics=lda_opt.num_topics,\n",
        "        num_words=30,\n",
        "        formatted=False):\n",
        "    print(f\"Topic {topic_id + 1}:\")\n",
        "    for word, weight in term_weights:\n",
        "        print(f\"  {word} ({weight:.4f})\")\n",
        "    print()\n"
      ]
    },
    {
      "cell_type": "code",
      "execution_count": 8,
      "metadata": {
        "id": "ukQLkeK6u8D7"
      },
      "outputs": [],
      "source": [
        "# import gensim.corpora as corpora\n",
        "# # Create Dictionary\n",
        "# id2word = corpora.Dictionary(high_neg_first_wave_df['trigram_tokens'].tolist())\n",
        "\n",
        "# ## pruning\n",
        "# id2word.filter_extremes(no_below=5, no_above=0.7)\n",
        "\n",
        "# #    (Optional) Re-map the remaining token IDs to remove gaps\n",
        "# id2word.compactify()\n",
        "\n",
        "# # 2. Convert each document to a Bag-of-Words\n",
        "# texts = high_neg_first_wave_df['trigram_tokens'].tolist()\n",
        "\n",
        "# # Term Document Frequency\n",
        "# corpus = [id2word.doc2bow(text) for text in texts]\n",
        "\n",
        "\n",
        "# # View\n",
        "# print(corpus[:1][0][:30])"
      ]
    },
    {
      "cell_type": "code",
      "execution_count": 9,
      "metadata": {
        "id": "bd-FL1UB1HE9"
      },
      "outputs": [],
      "source": [
        "# import gensim\n",
        "# from gensim import corpora\n",
        "# from gensim.models import LdaModel\n",
        "# from gensim.models.coherencemodel import CoherenceModel\n",
        "# import pandas as pd\n",
        "# import numpy as np\n",
        "# import itertools\n",
        "\n",
        "\n",
        "# # Create a Dictionary and Corpus\n",
        "# dictionary = id2word\n",
        "\n",
        "\n",
        "# # Function to compute coherence and perplexity\n",
        "# def compute_coherence_and_perplexity(corpus, dictionary, texts, num_topics, chunksize, passes, iterations):\n",
        "#     lda_model = LdaModel(corpus=corpus,\n",
        "#                          id2word=dictionary,\n",
        "#                          num_topics=num_topics,\n",
        "#                          random_state=100,\n",
        "#                          chunksize=chunksize,\n",
        "#                          passes=passes,\n",
        "#                          iterations=iterations,\n",
        "#                          alpha='auto',\n",
        "#                          eta='auto',\n",
        "#                          per_word_topics=True)\n",
        "\n",
        "#     perplexity = lda_model.log_perplexity(corpus)\n",
        "#     coherence_model_lda = CoherenceModel(model=lda_model, texts=texts, dictionary=dictionary, coherence='c_v')\n",
        "#     coherence = coherence_model_lda.get_coherence()\n",
        "#      # Extract alpha and eta\n",
        "#     alpha = lda_model.alpha\n",
        "#     eta = lda_model.eta\n",
        "#     return perplexity, coherence, alpha, eta\n",
        "\n",
        "# # Define the parameter grid with your specific values\n",
        "# num_topics_range = range(2, 10)  # Adjust the range based on your needs\n",
        "# chunksize_range = [250]\n",
        "# passes_range = [100, 200,260]\n",
        "# iterations_range = [50,100, 200]\n",
        "\n",
        "# # Store results\n",
        "# results = []\n",
        "\n",
        "# # Grid search over all combinations of hyperparameters\n",
        "# for num_topics, chunksize, passes, iterations in itertools.product(num_topics_range, chunksize_range, passes_range, iterations_range):\n",
        "#     perplexity, coherence , alpha, eta = compute_coherence_and_perplexity(corpus, dictionary, texts, num_topics, chunksize, passes, iterations)\n",
        "#     results.append((num_topics, chunksize, passes, iterations, perplexity, coherence,alpha,eta))\n",
        "#     print(f\"Num Topics: {num_topics}, Chunksize: {chunksize}, Passes: {passes}, Iterations: {iterations}, Perplexity: {perplexity:.4f}, Coherence: {coherence:.4f}, Alpha: {alpha}, Eta: {eta}\")\n",
        "\n",
        "# # Convert results to a DataFrame for better analysis\n",
        "# results_df = pd.DataFrame(results, columns=['num_topics', 'chunksize', 'passes', 'iterations', 'perplexity', 'coherence','alpha','eta'])\n",
        "\n",
        "# # Add exponentiated perplexity column\n",
        "# results_df['perplexity_exp'] = np.exp(-results_df['perplexity'])\n",
        "\n",
        "# # Display results\n",
        "# print(\"\\nResults:\")\n",
        "# print(results_df)\n",
        "\n",
        "# # Find the optimal number of topics with the highest coherence\n",
        "# optimal_result = results_df.sort_values(\n",
        "#     by=['coherence', 'perplexity_exp'],\n",
        "#     ascending=[False, True]\n",
        "# ).iloc[0]\n",
        "# optimal_num_topics = optimal_result['num_topics']\n",
        "# optimal_chunksize = optimal_result['chunksize']\n",
        "# optimal_passes = optimal_result['passes']\n",
        "# optimal_iterations = optimal_result['iterations']\n",
        "# optimal_perplexity = optimal_result['perplexity_exp']\n",
        "# optimal_coherence = optimal_result['coherence']\n",
        "# optimal_alpha = optimal_result['alpha']\n",
        "# optimal_eta   = optimal_result['eta']\n",
        "\n",
        "# print(f\"\\nOptimal Parameters:\")\n",
        "# print(f\"Number of Topics: {optimal_num_topics}\")\n",
        "# print(f\"Chunksize: {optimal_chunksize}\")\n",
        "# print(f\"Passes: {optimal_passes}\")\n",
        "# print(f\"Iterations: {optimal_iterations}\")\n",
        "# print(f\"Coherence: {optimal_coherence:.4f}\")\n",
        "# print(f\"Perplexity: {optimal_perplexity:.4f}\")\n",
        "# print(f\" Alpha (per topic): {optimal_alpha}\")\n",
        "# print(f\" Eta   (per word):  {optimal_eta}\")"
      ]
    },
    {
      "cell_type": "code",
      "execution_count": 10,
      "metadata": {
        "id": "k_-_UlAp1Vsy"
      },
      "outputs": [],
      "source": [
        "# import numpy as np\n",
        "# from google.colab import files\n",
        "\n",
        "# # 1. Grab your metrics & hyper‐params\n",
        "# coherence_val  = opt_coh\n",
        "# perplexity_val = opt_perp\n",
        "# alpha_val      = opt_alpha\n",
        "# eta_vals       = opt_eta  # full array\n",
        "\n",
        "# # 2. Write them into a single text file\n",
        "# with open('lda_model_full_summary.txt', 'w') as f:\n",
        "#     f.write(\"Re-fitted Optimal Model:\\n\")\n",
        "#     f.write(f\" Coherence:  {coherence_val:.4f}\\n\")\n",
        "#     f.write(f\" Perplexity: {perplexity_val:.4f}\\n\")\n",
        "#     f.write(f\" Alpha:      {alpha_val}\\n\")\n",
        "#     f.write(\" Eta values:\\n\")\n",
        "#     for eta in eta_vals:\n",
        "#         f.write(f\"{eta}\\n\")\n",
        "\n",
        "# # 3. Trigger the download\n",
        "# files.download('lda_model_full_summary.txt')\n"
      ]
    },
    {
      "cell_type": "code",
      "execution_count": 11,
      "metadata": {
        "id": "RNl3Uwjn1OGX"
      },
      "outputs": [],
      "source": [
        "# # 1. Fit the model\n",
        "# lda_opt = LdaModel(\n",
        "#     corpus        = corpus,\n",
        "#     id2word       = dictionary,\n",
        "#     num_topics    = optimal_num_topics,\n",
        "#     chunksize     = optimal_chunksize,\n",
        "#     passes        = optimal_passes,\n",
        "#     iterations    = optimal_iterations,\n",
        "#     alpha         = 'auto',\n",
        "#     eta           = 'auto',\n",
        "#     random_state  = 100,\n",
        "#     per_word_topics=True\n",
        "# )\n",
        "\n",
        "# # 2. Extract metrics and priors\n",
        "# opt_perp  = lda_opt.log_perplexity(corpus)\n",
        "# opt_coh   = CoherenceModel(model=lda_opt, texts=texts, dictionary=dictionary, coherence='c_v').get_coherence()\n",
        "# opt_alpha = lda_opt.alpha\n",
        "# opt_eta   = lda_opt.eta\n",
        "\n",
        "# print(f\"Re-fitted Optimal Model:\")\n",
        "# print(f\" Coherence: {opt_coh:.4f}\")\n",
        "# print(f\" Perplexity: {opt_perp:.4f}\")\n",
        "# print(f\" Alpha (per topic): {opt_alpha}\")\n",
        "# print(f\" Eta   (per word):  {opt_eta}\")\n"
      ]
    },
    {
      "cell_type": "code",
      "execution_count": 12,
      "metadata": {
        "id": "9A5V9QEA1ZWz"
      },
      "outputs": [],
      "source": [
        "# # Cell 3: verify that the refit recovered the same priors\n",
        "# import numpy as np\n",
        "\n",
        "# print(\"Alpha match:\", np.allclose(optimal_alpha, opt_alpha))\n",
        "# print(\"Eta   match:\", np.allclose(optimal_eta,   opt_eta))\n"
      ]
    },
    {
      "cell_type": "code",
      "execution_count": 13,
      "metadata": {
        "id": "GoSfR4v51c1M"
      },
      "outputs": [],
      "source": [
        "# # Cell 1: Imports\n",
        "# from pprint import pprint\n",
        "# import pyLDAvis.gensim_models as gensimvis\n",
        "# import pyLDAvis\n",
        "\n",
        "# # Cell 2: Print topics & sample document–topic distribution\n",
        "# print(\"=== Topics ===\")\n",
        "# pprint(lda_opt.print_topics())\n",
        "\n",
        "# doc_topics = [lda_opt.get_document_topics(doc) for doc in corpus]\n",
        "# print(\"\\nSample doc-topic distribution for doc 0:\")\n",
        "# pprint(doc_topics[0])\n",
        "\n"
      ]
    },
    {
      "cell_type": "code",
      "execution_count": 14,
      "metadata": {
        "id": "_zwhNJRD1gGl"
      },
      "outputs": [],
      "source": [
        "# # Cell 3: pyLDAvis visualization\n",
        "# # (make sure you’ve run `%matplotlib inline` or enabled notebook output)\n",
        "# pyLDAvis.enable_notebook()\n",
        "# vis_data = gensimvis.prepare(lda_opt, corpus, dictionary)\n",
        "# pyLDAvis.display(vis_data)\n"
      ]
    },
    {
      "cell_type": "code",
      "execution_count": 15,
      "metadata": {
        "id": "4l9OIY-I1jDN"
      },
      "outputs": [],
      "source": [
        "# # Cell 4: Print the top 30 terms per topic\n",
        "# print(\"\\n=== Top 30 terms per topic ===\")\n",
        "# for topic_id, term_weights in lda_opt.show_topics(\n",
        "#         num_topics=lda_opt.num_topics,\n",
        "#         num_words=30,\n",
        "#         formatted=False):\n",
        "#     print(f\"Topic {topic_id + 1}:\")\n",
        "#     for word, weight in term_weights:\n",
        "#         print(f\"  {word} ({weight:.4f})\")\n",
        "#     print()\n"
      ]
    },
    {
      "cell_type": "code",
      "execution_count": 16,
      "metadata": {
        "colab": {
          "base_uri": "https://localhost:8080/",
          "height": 211
        },
        "id": "Om8c7ENQCsFX",
        "outputId": "3f2d9137-6f90-4be8-94fb-8beacf827268"
      },
      "outputs": [
        {
          "output_type": "error",
          "ename": "NameError",
          "evalue": "name 'df' is not defined",
          "traceback": [
            "\u001b[0;31m---------------------------------------------------------------------------\u001b[0m",
            "\u001b[0;31mNameError\u001b[0m                                 Traceback (most recent call last)",
            "\u001b[0;32m<ipython-input-16-b2111c4ccf98>\u001b[0m in \u001b[0;36m<cell line: 0>\u001b[0;34m()\u001b[0m\n\u001b[1;32m      1\u001b[0m \u001b[0;31m####### HIGH neutral FOR FIRST COVID WAVE ########\u001b[0m\u001b[0;34m\u001b[0m\u001b[0;34m\u001b[0m\u001b[0m\n\u001b[1;32m      2\u001b[0m \u001b[0;31m# Filter the DataFrame\u001b[0m\u001b[0;34m\u001b[0m\u001b[0;34m\u001b[0m\u001b[0m\n\u001b[0;32m----> 3\u001b[0;31m \u001b[0mhigh_neu_first_wave_df\u001b[0m \u001b[0;34m=\u001b[0m \u001b[0mdf\u001b[0m\u001b[0;34m[\u001b[0m\u001b[0mdf\u001b[0m\u001b[0;34m[\u001b[0m\u001b[0;34m'label'\u001b[0m\u001b[0;34m]\u001b[0m \u001b[0;34m==\u001b[0m \u001b[0;34m'mild neu'\u001b[0m\u001b[0;34m]\u001b[0m\u001b[0;34m\u001b[0m\u001b[0;34m\u001b[0m\u001b[0m\n\u001b[0m\u001b[1;32m      4\u001b[0m \u001b[0;34m\u001b[0m\u001b[0m\n\u001b[1;32m      5\u001b[0m \u001b[0;31m# Convert the 'created_utc' column to datetime\u001b[0m\u001b[0;34m\u001b[0m\u001b[0;34m\u001b[0m\u001b[0m\n",
            "\u001b[0;31mNameError\u001b[0m: name 'df' is not defined"
          ]
        }
      ],
      "source": [
        "####### HIGH neutral FOR FIRST COVID WAVE ########\n",
        "# Filter the DataFrame\n",
        "high_neu_first_wave_df = df[df['label'] == 'mild neu']\n",
        "\n",
        "# Convert the 'created_utc' column to datetime\n",
        "high_neu_first_wave_df['created_utc'] = pd.to_datetime(high_neu_first_wave_df['created_utc'])\n",
        "\n",
        "# Define your date range\n",
        "# start_date = '2020-01-01'\n",
        "# end_date = '2020-05-31'\n",
        "# Define your date range\n",
        "# start_date = '2020-10-01'\n",
        "# end_date = '2021-01-31'\n",
        "# start_date = '2021-11-01'\n",
        "# end_date = '2022-01-31'\n",
        "\n",
        "start_date = '2022-11-01'\n",
        "end_date = '2023-01-31'\n",
        "\n",
        "# Filter the DataFrame for entries within the specified date range\n",
        "high_neu_first_wave_df = high_neu_first_wave_df[(high_neu_first_wave_df['created_utc'] >= start_date) & (high_neu_first_wave_df['created_utc'] <= end_date)]\n",
        "\n",
        "\n",
        "# Print the filtered DataFrame to check the result\n",
        "high_neu_first_wave_df.head()"
      ]
    },
    {
      "cell_type": "code",
      "execution_count": null,
      "metadata": {
        "id": "iuocvL5jeYcJ"
      },
      "outputs": [],
      "source": [
        "high_neu_first_wave_df.shape[0]"
      ]
    },
    {
      "cell_type": "code",
      "execution_count": null,
      "metadata": {
        "id": "TPT_Aq1Peii6"
      },
      "outputs": [],
      "source": [
        "from collections import Counter\n",
        "import pandas as pd\n",
        "import matplotlib.pyplot as plt\n",
        "\n",
        "# 1) Flatten your tokens into one long list\n",
        "all_tokens = [t for toks in high_neu_first_wave_df['tokens'] for t in toks]\n",
        "\n",
        "# 2) Build a frequency distribution\n",
        "freq = Counter(all_tokens)\n",
        "common = freq.most_common(30)   # top 30\n",
        "\n",
        "# 3) Turn it into a DataFrame for easy inspection\n",
        "df_freq = pd.DataFrame(common, columns=['token','count'])\n",
        "print(df_freq)\n",
        "\n",
        "# 4) Plot a simple bar chart of the top tokens\n",
        "tokens, counts = zip(*common)\n",
        "plt.figure()\n",
        "plt.bar(tokens, counts)\n",
        "plt.xticks(rotation=45, ha='right')\n",
        "plt.xlabel('Token')\n",
        "plt.ylabel('Frequency')\n",
        "plt.title('Top 30 Tokens in high_neu_first_wave_df')\n",
        "plt.tight_layout()\n",
        "plt.show()"
      ]
    },
    {
      "cell_type": "code",
      "execution_count": null,
      "metadata": {
        "id": "4DxUcpAFerdM"
      },
      "outputs": [],
      "source": [
        "# Flatten all tokens into one list\n",
        "all_words   = [word for tokens in high_neu_first_wave_df['tokens'] for word in tokens]\n",
        "\n",
        "# Compute the length (in tokens) of each post\n",
        "post_length = [len(tokens) for tokens in high_neu_first_wave_df['tokens']]\n",
        "\n",
        "# Build the vocabulary\n",
        "vocab       = sorted(set(all_words))\n",
        "\n",
        "# Print your summary stats\n",
        "print(f\"{len(all_words)} words total, with a vocabulary size of {len(vocab)}\")\n",
        "print(f\"Max reddit post length is {max(post_length)} tokens\")\n",
        "print(f\"Mean reddit post length is {sum(post_length)/len(post_length):.2f} tokens\")\n",
        "print(f\"Median reddit post length is {sorted(post_length)[len(post_length)//2]} tokens\")\n"
      ]
    },
    {
      "cell_type": "code",
      "execution_count": null,
      "metadata": {
        "id": "hKB-6zSwe2C1"
      },
      "outputs": [],
      "source": [
        "plt.figure(figsize=(15, 8))\n",
        "sns.histplot(post_length, bins=60, kde=True)\n",
        "plt.title('Post Length Distribution', fontsize=18)\n",
        "plt.xlabel('Words per Post', fontsize=12)\n",
        "plt.ylabel('Number of Posts', fontsize=12)\n",
        "# Setting x-axis ticks and labels for more detail\n",
        "max_length = max(post_length)\n",
        "xticks = np.arange(0, max_length + 1, max_length // 60)  # Adjust the step size as needed\n",
        "plt.xticks(xticks)\n",
        "plt.show()"
      ]
    },
    {
      "cell_type": "code",
      "execution_count": null,
      "metadata": {
        "id": "F-eN3u-cndFo"
      },
      "outputs": [],
      "source": [
        "plt.figure(figsize=(15, 8))\n",
        "sns.histplot(post_length, bins=60, kde=True)\n",
        "plt.title('Post Length Distribution', fontsize=18)\n",
        "plt.xlabel('Words per Post', fontsize=12)\n",
        "plt.ylabel('Number of Posts', fontsize=12)\n",
        "# Setting x-axis ticks and labels for more detail\n",
        "max_length = max(post_length)\n",
        "xticks = np.arange(0, max_length + 1, max_length // 60)  # Adjust the step size as needed\n",
        "plt.xticks(xticks)\n",
        "plt.show()"
      ]
    },
    {
      "cell_type": "code",
      "execution_count": null,
      "metadata": {
        "id": "_A1SjV6hfDrI"
      },
      "outputs": [],
      "source": [
        "!pip install  gensim\n",
        "\n",
        "# #1) Downgrade NumPy to 1.26.x\n",
        "# !pip install numpy==1.26.0 --upgrade\n",
        "\n",
        "# # 2) Force-reinstall Gensim so it compiles against the new NumPy\n",
        "# !pip install --upgrade --force-reinstall gensim\n"
      ]
    },
    {
      "cell_type": "code",
      "execution_count": null,
      "metadata": {
        "id": "0MSg17RifUo6"
      },
      "outputs": [],
      "source": [
        "import gensim\n",
        "from gensim.models import Phrases\n",
        "from gensim.models.phrases import Phraser\n",
        "\n",
        "# 1) Prepare your list-of-lists from the `tokens` column\n",
        "texts = high_neu_first_wave_df['tokens'].tolist()\n",
        "\n",
        "# 2) Train the bigram detector\n",
        "bigram = Phrases(texts, min_count=3, threshold=60)\n",
        "bigram_mod = Phraser(bigram)\n",
        "\n",
        "# 3) Train the trigram detector on the bigram-transformed texts\n",
        "trigram = Phrases(bigram[texts], min_count=2, threshold=150)\n",
        "trigram_mod = Phraser(trigram)\n",
        "\n",
        "# 4) Apply bigram and trigram transforms\n",
        "high_neu_first_wave_df['bigram_tokens']   = high_neu_first_wave_df['tokens'].apply(lambda doc: bigram_mod[doc])\n",
        "high_neu_first_wave_df['trigram_tokens']  = high_neu_first_wave_df['tokens'].apply(lambda doc: trigram_mod[bigram_mod[doc]])\n",
        "\n",
        "# # 5) (Optional) If you need back a single string for vectorizers:\n",
        "# high_neu_first_wave_df['bigram_text']   = high_neu_first_wave_df['bigram_tokens'].str.join(' ')\n",
        "# high_neu_first_wave_df['trigram_text']  = high_neu_first_wave_df['trigram_tokens'].str.join(' ')\n",
        "\n",
        "# 6) Inspect\n",
        "print(high_neu_first_wave_df[['tokens','bigram_tokens','trigram_tokens']].head())\n"
      ]
    },
    {
      "cell_type": "code",
      "execution_count": null,
      "metadata": {
        "id": "xOnEAqb7fdsv"
      },
      "outputs": [],
      "source": [
        "# 1) Helper to detect n-grams in a token list\n",
        "def contains_ngram(tokenized_list, n):\n",
        "    return any(len(tok.split('_')) == n for tok in tokenized_list)\n",
        "\n",
        "# 2) Flag rows\n",
        "high_neu_first_wave_df['has_bigrams']  = high_neu_first_wave_df['bigram_tokens'].apply(lambda doc: contains_ngram(doc, 2))\n",
        "high_neu_first_wave_df['has_trigrams'] = high_neu_first_wave_df['trigram_tokens'].apply(lambda doc: contains_ngram(doc, 3))\n",
        "\n",
        "# 3) Count\n",
        "rows_with_bigrams  = high_neu_first_wave_df['has_bigrams'].sum()\n",
        "rows_with_trigrams = high_neu_first_wave_df['has_trigrams'].sum()\n",
        "rows_with_none     = (~high_neu_first_wave_df['has_bigrams'] & ~high_neu_first_wave_df['has_trigrams']).sum()\n",
        "\n",
        "# 4) Report\n",
        "print(f\"Rows with bigrams:   {rows_with_bigrams}\")\n",
        "print(f\"Rows with trigrams:  {rows_with_trigrams}\")\n",
        "print(f\"Rows with no n-grams: {rows_with_none}\")\n"
      ]
    },
    {
      "cell_type": "code",
      "execution_count": null,
      "metadata": {
        "id": "h6rqtjqNfkRe"
      },
      "outputs": [],
      "source": [
        "high_neu_first_wave_df.head()"
      ]
    },
    {
      "cell_type": "code",
      "execution_count": null,
      "metadata": {
        "id": "vTX0kETnfo-o"
      },
      "outputs": [],
      "source": [
        "# Print the total number of rows in the DataFrame\n",
        "total_rows = high_neu_first_wave_df.shape[0]\n",
        "print(f\"Total number of rows in the DataFrame: {total_rows}\")\n",
        "\n",
        "# Check the number of rows in the 'trigram_tokenized' column\n",
        "print(f\"Number of rows in 'trigram_tokenized' column: {high_neu_first_wave_df['trigram_tokens'].shape[0]}\")"
      ]
    },
    {
      "cell_type": "code",
      "execution_count": null,
      "metadata": {
        "id": "f4r1QsDEn5JI"
      },
      "outputs": [],
      "source": [
        "import itertools\n",
        "from collections import Counter\n",
        "\n",
        "# 1) Flatten all trigram lists into one big sequence\n",
        "all_trigrams = itertools.chain.from_iterable(high_neu_first_wave_df['trigram_tokens'])\n",
        "\n",
        "# 2) Filter for genuine trigrams (exactly two underscores → three words joined)\n",
        "trigram_counts = Counter(\n",
        "    token for token in all_trigrams\n",
        "    if isinstance(token, str) and token.count('_') == 2\n",
        ")\n",
        "\n",
        "# 3) How many unique trigrams?\n",
        "total_unique_trigrams = len(trigram_counts)\n",
        "print(f\"Total number of unique trigrams: {total_unique_trigrams}\")\n",
        "\n",
        "# 4) Show the 10 most common trigrams\n",
        "print(\"\\nMost common trigrams:\")\n",
        "for trigram, count in trigram_counts.most_common(10):\n",
        "    print(f\"{trigram}: {count:,}\")\n"
      ]
    },
    {
      "cell_type": "code",
      "execution_count": null,
      "metadata": {
        "id": "SS1UskOufykm"
      },
      "outputs": [],
      "source": [
        "#import gensim.corpora as corpora\n",
        "# Create Dictionary\n",
        "#id2word = corpora.Dictionary(high_neu_first_wave_df['trigram_tokens'].tolist())\n",
        "\n",
        "## pruning\n",
        "#id2word.filter_extremes(no_below=5, no_above=0.5)\n",
        "\n",
        "#    (Optional) Re-map the remaining token IDs to remove gaps\n",
        "#id2word.compactify()\n",
        "\n",
        "# 2. Convert each document to a Bag-of-Words\n",
        "# texts = high_neu_first_wave_df['trigram_tokens'].tolist()\n",
        "\n",
        "# # Term Document Frequency\n",
        "# corpus = [id2word.doc2bow(text) for text in texts]\n",
        "\n",
        "\n",
        "# # View\n",
        "# print(corpus[:1][0][:30])"
      ]
    },
    {
      "cell_type": "code",
      "execution_count": 17,
      "metadata": {
        "id": "ZtXFSO7YotEU"
      },
      "outputs": [],
      "source": [
        "# import gensim\n",
        "# from gensim import corpora\n",
        "# from gensim.models.ldamodel import LdaModel\n",
        "# from nltk.tokenize import word_tokenize\n",
        "# import nltk\n",
        "# ## Build the basic LDA model\n",
        "# lda_model = LdaModel(corpus=corpus,\n",
        "#                                        id2word=id2word,\n",
        "#                                        num_topics=3,\n",
        "#                                        random_state=100,\n",
        "#                                           chunksize=200,\n",
        "#                                        passes=50,\n",
        "#                                         iterations= 100,\n",
        "#                                        alpha='auto',\n",
        "#                                       eta='auto',\n",
        "#                                        per_word_topics=True)"
      ]
    },
    {
      "cell_type": "code",
      "execution_count": 18,
      "metadata": {
        "id": "GO7Y_w3Eo6IW"
      },
      "outputs": [],
      "source": [
        "# from pprint import pprint\n",
        "\n",
        "# # Print the Keyword in the 3 topics\n",
        "# pprint(lda_model.print_topics())\n",
        "# doc_lda = lda_model[corpus]"
      ]
    },
    {
      "cell_type": "code",
      "execution_count": 19,
      "metadata": {
        "colab": {
          "base_uri": "https://localhost:8080/",
          "height": 141
        },
        "id": "_SPSr9cn5HtA",
        "outputId": "174f4685-d629-44b8-d3f5-820b8949609c"
      },
      "outputs": [
        {
          "output_type": "error",
          "ename": "NameError",
          "evalue": "name 'high_neu_first_wave_df' is not defined",
          "traceback": [
            "\u001b[0;31m---------------------------------------------------------------------------\u001b[0m",
            "\u001b[0;31mNameError\u001b[0m                                 Traceback (most recent call last)",
            "\u001b[0;32m<ipython-input-19-dfa24a8c749e>\u001b[0m in \u001b[0;36m<cell line: 0>\u001b[0;34m()\u001b[0m\n\u001b[0;32m----> 1\u001b[0;31m \u001b[0mhigh_neu_first_wave_df\u001b[0m\u001b[0;34m.\u001b[0m\u001b[0mhead\u001b[0m\u001b[0;34m(\u001b[0m\u001b[0;34m)\u001b[0m\u001b[0;34m\u001b[0m\u001b[0;34m\u001b[0m\u001b[0m\n\u001b[0m",
            "\u001b[0;31mNameError\u001b[0m: name 'high_neu_first_wave_df' is not defined"
          ]
        }
      ],
      "source": [
        "high_neu_first_wave_df.head()"
      ]
    },
    {
      "cell_type": "code",
      "execution_count": null,
      "metadata": {
        "id": "tsOdRORmpGnE"
      },
      "outputs": [],
      "source": [
        "# from gensim.models import CoherenceModel\n",
        "\n",
        "# # Compute Coherence Score\n",
        "# coherence_model_lda = CoherenceModel(model=lda_model, texts=high_neu_first_wave_df['trigram_tokenized'], dictionary=id2word, coherence='c_v')\n",
        "# coherence_lda = coherence_model_lda.get_coherence()\n",
        "# print('Coherence Score: ', coherence_lda)"
      ]
    },
    {
      "cell_type": "code",
      "execution_count": null,
      "metadata": {
        "id": "7ASa22sYpPkJ"
      },
      "outputs": [],
      "source": [
        "# import pyLDAvis.gensim\n",
        "# import pickle\n",
        "# import pyLDAvis\n",
        "# import pyLDAvis.gensim_models as gensimvis\n",
        "# import pyLDAvis\n",
        "\n",
        "# # Assuming ldamodel, corpus, and dictionary are already defined\n",
        "# # Enable the automatic display of visualizations in Jupyter\n",
        "# pyLDAvis.enable_notebook()\n",
        "\n",
        "# # Prepare the LDA visualization directly\n",
        "# LDAvis_prepared = gensimvis.prepare(lda_model, corpus, id2word)\n",
        "\n",
        "# # Display the prepared visualization directly in the notebook\n",
        "# pyLDAvis.display(LDAvis_prepared)"
      ]
    },
    {
      "cell_type": "code",
      "execution_count": null,
      "metadata": {
        "id": "6tMA-H8JduCO"
      },
      "outputs": [],
      "source": [
        "import gensim\n",
        "from gensim import corpora\n",
        "from gensim.models import LdaModel\n",
        "from gensim.models.coherencemodel import CoherenceModel\n",
        "import pandas as pd\n",
        "import numpy as np\n",
        "import itertools\n",
        "\n",
        "# Assuming high_pos_df['trigram_tokenized'] contains lists of lemmatized trigram tokens\n",
        "texts = high_neu_first_wave_df['trigram_tokens'].tolist()\n",
        "\n",
        "# Create a Dictionary and Corpus\n",
        "dictionary = corpora.Dictionary(texts)\n",
        "corpus = [dictionary.doc2bow(text) for text in texts]\n",
        "\n",
        "# Function to compute coherence and perplexity\n",
        "def compute_coherence_and_perplexity(corpus, dictionary, texts, num_topics, chunksize, passes, iterations, seed):\n",
        "    lda_model = LdaModel(corpus=corpus,\n",
        "                         id2word=dictionary,\n",
        "                         num_topics=num_topics,\n",
        "                         random_state=seed,\n",
        "                         chunksize=chunksize,\n",
        "                         passes=passes,\n",
        "                         iterations=iterations,\n",
        "                         alpha='auto',\n",
        "                         eta='auto',\n",
        "                         per_word_topics=True)\n",
        "\n",
        "    perplexity = lda_model.log_perplexity(corpus)\n",
        "    coherence_model_lda = CoherenceModel(model=lda_model, texts=texts, dictionary=dictionary, coherence='c_v')\n",
        "    coherence = coherence_model_lda.get_coherence()\n",
        "\n",
        "     # Extract alpha and eta\n",
        "    alpha = lda_model.alpha\n",
        "    eta = lda_model.eta\n",
        "    return perplexity, coherence, alpha, eta\n",
        "\n",
        "# Define the parameter grid with your specific values\n",
        "seeds = [0, 1, 2]\n",
        "num_topics_range = range(2, 10)  # Adjust the range based on your needs\n",
        "chunksize_range = [1000]\n",
        "passes_range = [100, 200,260]\n",
        "iterations_range = [50,100, 200]\n",
        "\n",
        "# Store results\n",
        "results = []\n",
        "\n",
        "# Grid search over all combinations of hyperparameters\n",
        "for seed in [0, 1, 2]:\n",
        " for num_topics, chunksize, passes, iterations in itertools.product(num_topics_range, chunksize_range, passes_range, iterations_range):\n",
        "    perplexity, coherence , alpha, eta = compute_coherence_and_perplexity(corpus, dictionary, texts, num_topics, chunksize, passes, iterations, seed)\n",
        "    results.append((num_topics, chunksize, passes, iterations, perplexity, coherence,alpha,eta,seed))\n",
        "    print(f\"Num Topics: {num_topics}, Chunksize: {chunksize}, Passes: {passes}, Iterations: {iterations}, Perplexity: {perplexity:.4f}, Coherence: {coherence:.4f} ,Alpha: {alpha}, Eta: {eta}\")\n",
        "\n",
        "# Convert results to a DataFrame for better analysis\n",
        "results_df = pd.DataFrame(results, columns=['num_topics', 'chunksize', 'passes', 'iterations', 'perplexity', 'coherence','alpha','eta', 'seed'])\n",
        "# Add exponentiated perplexity column\n",
        "results_df['perplexity_exp'] = np.exp(-results_df['perplexity'])\n",
        "\n",
        "# Display results\n",
        "print(\"\\nResults:\")\n",
        "print(results_df)\n",
        "\n",
        "# Find the optimal number of topics with the highest coherence\n",
        "optimal_result = results_df.sort_values(\n",
        "    by=['coherence', 'perplexity_exp'],\n",
        "    ascending=[False, True]\n",
        ").iloc[0]\n",
        "optimal_num_topics = optimal_result['num_topics']\n",
        "optimal_chunksize = optimal_result['chunksize']\n",
        "optimal_passes = optimal_result['passes']\n",
        "optimal_iterations = optimal_result['iterations']\n",
        "optimal_perplexity = optimal_result['perplexity_exp']\n",
        "optimal_coherence = optimal_result['coherence']\n",
        "optimal_alpha = optimal_result['alpha']\n",
        "optimal_eta   = optimal_result['eta']\n",
        "optimal_seed = optimal_result['seed']\n",
        "\n",
        "print(f\"\\nOptimal Parameters:\")\n",
        "print(f\"Number of Topics: {optimal_num_topics}\")\n",
        "print(f\"Chunksize: {optimal_chunksize}\")\n",
        "print(f\"Passes: {optimal_passes}\")\n",
        "print(f\"Iterations: {optimal_iterations}\")\n",
        "print(f\"Coherence: {optimal_coherence:.4f}\")\n",
        "print(f\"Perplexity: {optimal_perplexity:.4f}\")\n",
        "print(f\" Alpha (per topic): {optimal_alpha}\")\n",
        "print(f\" Eta   (per word):  {optimal_eta}\")\n",
        "print(f\" seed:  {optimal_seed}\")"
      ]
    },
    {
      "cell_type": "code",
      "execution_count": null,
      "metadata": {
        "id": "H7tC5hqNviVC"
      },
      "outputs": [],
      "source": [
        "# 1. Fit the model\n",
        "lda_opt = LdaModel(\n",
        "    corpus        = corpus,\n",
        "    id2word       = dictionary,\n",
        "    num_topics    = optimal_num_topics,\n",
        "    chunksize     = optimal_chunksize,\n",
        "    passes        = optimal_passes,\n",
        "    iterations    = optimal_iterations,\n",
        "    alpha         = 'auto',\n",
        "    eta           = 'auto',\n",
        "    random_state  = optimal_seed,\n",
        "    per_word_topics=True\n",
        ")\n",
        "\n",
        "# 2. Extract metrics and priors\n",
        "opt_perp  = lda_opt.log_perplexity(corpus)\n",
        "opt_coh   = CoherenceModel(model=lda_opt, texts=texts, dictionary=dictionary, coherence='c_v').get_coherence()\n",
        "opt_alpha = lda_opt.alpha\n",
        "opt_eta   = lda_opt.eta\n",
        "\n",
        "print(f\"Re-fitted Optimal Model:\")\n",
        "print(f\" Coherence: {opt_coh:.4f}\")\n",
        "print(f\" Perplexity: {opt_perp:.4f}\")\n",
        "print(f\" Alpha (per topic): {opt_alpha}\")\n",
        "print(f\" Eta   (per word):  {opt_eta}\")\n"
      ]
    },
    {
      "cell_type": "code",
      "execution_count": null,
      "metadata": {
        "id": "_lI4t6LJd6oV"
      },
      "outputs": [],
      "source": [
        "lda_opt.save('/content/drive/MyDrive/lda_model_neutral_4th_wave.gensim')\n"
      ]
    },
    {
      "cell_type": "code",
      "execution_count": null,
      "metadata": {
        "id": "TTw6J1MbvuyA"
      },
      "outputs": [],
      "source": [
        "import numpy as np\n",
        "from google.colab import files\n",
        "\n",
        "# 1. Grab your metrics & hyper‐params\n",
        "coherence_val  = opt_coh\n",
        "perplexity_val = opt_perp\n",
        "alpha_val      = opt_alpha\n",
        "eta_vals       = opt_eta  # full array\n",
        "\n",
        "# 2. Write them into a single text file\n",
        "with open('lda_model_full_summary.txt', 'w') as f:\n",
        "    f.write(\"Re-fitted Optimal Model:\\n\")\n",
        "    f.write(f\" Coherence:  {coherence_val:.4f}\\n\")\n",
        "    f.write(f\" Perplexity: {perplexity_val:.4f}\\n\")\n",
        "    f.write(f\" Alpha:      {alpha_val}\\n\")\n",
        "    f.write(\" Eta values:\\n\")\n",
        "    for eta in eta_vals:\n",
        "        f.write(f\"{eta}\\n\")\n",
        "\n",
        "# 3. Trigger the download\n",
        "files.download('lda_model_full_summary_1st_mild_neu.txt')\n"
      ]
    },
    {
      "cell_type": "code",
      "execution_count": null,
      "metadata": {
        "id": "TQffKNyfv1fy"
      },
      "outputs": [],
      "source": [
        "# Cell 3: verify that the refit recovered the same priors\n",
        "import numpy as np\n",
        "\n",
        "print(\"Alpha match:\", np.allclose(optimal_alpha, opt_alpha))\n",
        "print(\"Eta   match:\", np.allclose(optimal_eta,   opt_eta))\n"
      ]
    },
    {
      "cell_type": "code",
      "execution_count": null,
      "metadata": {
        "id": "a5zjHu4bv3LW"
      },
      "outputs": [],
      "source": [
        "# Cell 1: Imports\n",
        "from pprint import pprint\n",
        "import pyLDAvis.gensim_models as gensimvis\n",
        "import pyLDAvis\n",
        "\n",
        "# Cell 2: Print topics & sample document–topic distribution\n",
        "print(\"=== Topics ===\")\n",
        "pprint(lda_opt.print_topics())\n",
        "\n",
        "doc_topics = [lda_opt.get_document_topics(doc) for doc in corpus]\n",
        "print(\"\\nSample doc-topic distribution for doc 0:\")\n",
        "pprint(doc_topics[0])\n",
        "\n"
      ]
    },
    {
      "cell_type": "code",
      "execution_count": null,
      "metadata": {
        "id": "qBrSGFowv5x2"
      },
      "outputs": [],
      "source": [
        "# Cell 3: pyLDAvis visualization\n",
        "# (make sure you’ve run `%matplotlib inline` or enabled notebook output)\n",
        "pyLDAvis.enable_notebook()\n",
        "vis_data = gensimvis.prepare(lda_opt, corpus, dictionary)\n",
        "pyLDAvis.display(vis_data)\n"
      ]
    },
    {
      "cell_type": "code",
      "execution_count": null,
      "metadata": {
        "id": "0rQhophGv7l5"
      },
      "outputs": [],
      "source": [
        "# Cell 4: Print the top 30 terms per topic\n",
        "print(\"\\n=== Top 30 terms per topic ===\")\n",
        "for topic_id, term_weights in lda_opt.show_topics(\n",
        "        num_topics=lda_opt.num_topics,\n",
        "        num_words=30,\n",
        "        formatted=False):\n",
        "    print(f\"Topic {topic_id + 1}:\")\n",
        "    for word, weight in term_weights:\n",
        "        print(f\"  {word} ({weight:.4f})\")\n",
        "    print()\n"
      ]
    },
    {
      "cell_type": "code",
      "execution_count": null,
      "metadata": {
        "id": "dKJ2VqkT1z5O"
      },
      "outputs": [],
      "source": [
        "# import gensim.corpora as corpora\n",
        "# # Create Dictionary\n",
        "# id2word = corpora.Dictionary(high_neu_first_wave_df['trigram_tokens'].tolist())\n",
        "\n",
        "# ## pruning\n",
        "# id2word.filter_extremes(no_below=5, no_above=0.7)\n",
        "\n",
        "# #    (Optional) Re-map the remaining token IDs to remove gaps\n",
        "# id2word.compactify()\n",
        "\n",
        "# # 2. Convert each document to a Bag-of-Words\n",
        "# texts = high_neu_first_wave_df['trigram_tokens'].tolist()\n",
        "\n",
        "# # # Term Document Frequency\n",
        "# corpus = [id2word.doc2bow(text) for text in texts]\n",
        "\n",
        "\n",
        "# # # View\n",
        "# print(corpus[:1][0][:30])"
      ]
    },
    {
      "cell_type": "code",
      "execution_count": null,
      "metadata": {
        "id": "8hqcY9LQ13L0"
      },
      "outputs": [],
      "source": [
        "# import gensim\n",
        "# from gensim import corpora\n",
        "# from gensim.models import LdaModel\n",
        "# from gensim.models.coherencemodel import CoherenceModel\n",
        "# import pandas as pd\n",
        "# import numpy as np\n",
        "# import itertools\n",
        "\n",
        "\n",
        "# # Create a Dictionary and Corpus\n",
        "# dictionary = id2word\n",
        "\n",
        "\n",
        "# # Function to compute coherence and perplexity\n",
        "# def compute_coherence_and_perplexity(corpus, dictionary, texts, num_topics, chunksize, passes, iterations):\n",
        "#     lda_model = LdaModel(corpus=corpus,\n",
        "#                          id2word=dictionary,\n",
        "#                          num_topics=num_topics,\n",
        "#                          random_state=100,\n",
        "#                          chunksize=chunksize,\n",
        "#                          passes=passes,\n",
        "#                          iterations=iterations,\n",
        "#                          alpha='auto',\n",
        "#                          eta='auto',\n",
        "#                          per_word_topics=True)\n",
        "\n",
        "#     perplexity = lda_model.log_perplexity(corpus)\n",
        "#     coherence_model_lda = CoherenceModel(model=lda_model, texts=texts, dictionary=dictionary, coherence='c_v')\n",
        "#     coherence = coherence_model_lda.get_coherence()\n",
        "\n",
        "#      # Extract alpha and eta\n",
        "#     alpha = lda_model.alpha\n",
        "#     eta = lda_model.eta\n",
        "#     return perplexity, coherence, alpha, eta\n",
        "\n",
        "# # Define the parameter grid with your specific values\n",
        "# num_topics_range = range(2, 10)  # Adjust the range based on your needs\n",
        "# chunksize_range = [250]\n",
        "# passes_range = [100, 200,260]\n",
        "# iterations_range = [50,100, 200]\n",
        "\n",
        "# # Store results\n",
        "# results = []\n",
        "\n",
        "# # Grid search over all combinations of hyperparameters\n",
        "# for num_topics, chunksize, passes, iterations in itertools.product(num_topics_range, chunksize_range, passes_range, iterations_range):\n",
        "#     perplexity, coherence , alpha, eta = compute_coherence_and_perplexity(corpus, dictionary, texts, num_topics, chunksize, passes, iterations)\n",
        "#     results.append((num_topics, chunksize, passes, iterations, perplexity, coherence,alpha,eta))\n",
        "#     print(f\"Num Topics: {num_topics}, Chunksize: {chunksize}, Passes: {passes}, Iterations: {iterations}, Perplexity: {perplexity:.4f}, Coherence: {coherence:.4f} ,Alpha: {alpha}, Eta: {eta}\")\n",
        "\n",
        "# # Convert results to a DataFrame for better analysis\n",
        "# results_df = pd.DataFrame(results, columns=['num_topics', 'chunksize', 'passes', 'iterations', 'perplexity', 'coherence','alpha','eta'])\n",
        "# # Add exponentiated perplexity column\n",
        "# results_df['perplexity_exp'] = np.exp(-results_df['perplexity'])\n",
        "\n",
        "# # Display results\n",
        "# print(\"\\nResults:\")\n",
        "# print(results_df)\n",
        "\n",
        "# # Find the optimal number of topics with the highest coherence\n",
        "# optimal_result = results_df.sort_values(\n",
        "#     by=['coherence', 'perplexity_exp'],\n",
        "#     ascending=[False, True]\n",
        "# ).iloc[0]\n",
        "# optimal_num_topics = optimal_result['num_topics']\n",
        "# optimal_chunksize = optimal_result['chunksize']\n",
        "# optimal_passes = optimal_result['passes']\n",
        "# optimal_iterations = optimal_result['iterations']\n",
        "# optimal_perplexity = optimal_result['perplexity_exp']\n",
        "# optimal_coherence = optimal_result['coherence']\n",
        "# optimal_alpha = optimal_result['alpha']\n",
        "# optimal_eta   = optimal_result['eta']\n",
        "\n",
        "# print(f\"\\nOptimal Parameters:\")\n",
        "# print(f\"Number of Topics: {optimal_num_topics}\")\n",
        "# print(f\"Chunksize: {optimal_chunksize}\")\n",
        "# print(f\"Passes: {optimal_passes}\")\n",
        "# print(f\"Iterations: {optimal_iterations}\")\n",
        "# print(f\"Coherence: {optimal_coherence:.4f}\")\n",
        "# print(f\"Perplexity: {optimal_perplexity:.4f}\")\n",
        "# print(f\" Alpha (per topic): {optimal_alpha}\")\n",
        "# print(f\" Eta   (per word):  {optimal_eta}\")"
      ]
    },
    {
      "cell_type": "code",
      "execution_count": null,
      "metadata": {
        "id": "TMRIIaY72Exz"
      },
      "outputs": [],
      "source": [
        "# # 1. Fit the model\n",
        "# lda_opt = LdaModel(\n",
        "#     corpus        = corpus,\n",
        "#     id2word       = dictionary,\n",
        "#     num_topics    = optimal_num_topics,\n",
        "#     chunksize     = optimal_chunksize,\n",
        "#     passes        = optimal_passes,\n",
        "#     iterations    = optimal_iterations,\n",
        "#     alpha         = 'auto',\n",
        "#     eta           = 'auto',\n",
        "#     random_state  = 100,\n",
        "#     per_word_topics=True\n",
        "# )\n",
        "\n",
        "# # 2. Extract metrics and priors\n",
        "# opt_perp  = lda_opt.log_perplexity(corpus)\n",
        "# opt_coh   = CoherenceModel(model=lda_opt, texts=texts, dictionary=dictionary, coherence='c_v').get_coherence()\n",
        "# opt_alpha = lda_opt.alpha\n",
        "# opt_eta   = lda_opt.eta\n",
        "\n",
        "# print(f\"Re-fitted Optimal Model:\")\n",
        "# print(f\" Coherence: {opt_coh:.4f}\")\n",
        "# print(f\" Perplexity: {opt_perp:.4f}\")\n",
        "# print(f\" Alpha (per topic): {opt_alpha}\")\n",
        "# print(f\" Eta   (per word):  {opt_eta}\")\n"
      ]
    },
    {
      "cell_type": "code",
      "execution_count": null,
      "metadata": {
        "id": "VCZB6st-2Pso"
      },
      "outputs": [],
      "source": [
        "# import numpy as np\n",
        "# from google.colab import files\n",
        "\n",
        "# # 1. Grab your metrics & hyper‐params\n",
        "# coherence_val  = opt_coh\n",
        "# perplexity_val = opt_perp\n",
        "# alpha_val      = opt_alpha\n",
        "# eta_vals       = opt_eta  # full array\n",
        "\n",
        "# # 2. Write them into a single text file\n",
        "# with open('lda_model_full_summary.txt', 'w') as f:\n",
        "#     f.write(\"Re-fitted Optimal Model:\\n\")\n",
        "#     f.write(f\" Coherence:  {coherence_val:.4f}\\n\")\n",
        "#     f.write(f\" Perplexity: {perplexity_val:.4f}\\n\")\n",
        "#     f.write(f\" Alpha:      {alpha_val}\\n\")\n",
        "#     f.write(\" Eta values:\\n\")\n",
        "#     for eta in eta_vals:\n",
        "#         f.write(f\"{eta}\\n\")\n",
        "\n",
        "# # 3. Trigger the download\n",
        "# files.download('lda_model_full_summary.txt')\n"
      ]
    },
    {
      "cell_type": "code",
      "execution_count": null,
      "metadata": {
        "id": "XKF22tx32Tvi"
      },
      "outputs": [],
      "source": [
        "# # Cell 3: verify that the refit recovered the same priors\n",
        "# import numpy as np\n",
        "\n",
        "# print(\"Alpha match:\", np.allclose(optimal_alpha, opt_alpha))\n",
        "# print(\"Eta   match:\", np.allclose(optimal_eta,   opt_eta))\n"
      ]
    },
    {
      "cell_type": "code",
      "execution_count": null,
      "metadata": {
        "id": "8yM3g2mS2WqE"
      },
      "outputs": [],
      "source": [
        "# # Cell 1: Imports\n",
        "# from pprint import pprint\n",
        "# import pyLDAvis.gensim_models as gensimvis\n",
        "# import pyLDAvis\n",
        "\n",
        "# # Cell 2: Print topics & sample document–topic distribution\n",
        "# print(\"=== Topics ===\")\n",
        "# pprint(lda_opt.print_topics())\n",
        "\n",
        "# doc_topics = [lda_opt.get_document_topics(doc) for doc in corpus]\n",
        "# print(\"\\nSample doc-topic distribution for doc 0:\")\n",
        "# pprint(doc_topics[0])\n",
        "\n"
      ]
    },
    {
      "cell_type": "code",
      "execution_count": null,
      "metadata": {
        "id": "FuAAM3vw2cwT"
      },
      "outputs": [],
      "source": [
        "# # Cell 3: pyLDAvis visualization\n",
        "# # (make sure you’ve run `%matplotlib inline` or enabled notebook output)\n",
        "# pyLDAvis.enable_notebook()\n",
        "# vis_data = gensimvis.prepare(lda_opt, corpus, dictionary)\n",
        "# pyLDAvis.display(vis_data)\n"
      ]
    },
    {
      "cell_type": "code",
      "execution_count": null,
      "metadata": {
        "id": "GEyIlD872h33"
      },
      "outputs": [],
      "source": [
        "# # Cell 4: Print the top 30 terms per topic\n",
        "# print(\"\\n=== Top 30 terms per topic ===\")\n",
        "# for topic_id, term_weights in lda_opt.show_topics(\n",
        "#         num_topics=lda_opt.num_topics,\n",
        "#         num_words=30,\n",
        "#         formatted=False):\n",
        "#     print(f\"Topic {topic_id + 1}:\")\n",
        "#     for word, weight in term_weights:\n",
        "#         print(f\"  {word} ({weight:.4f})\")\n",
        "#     print()\n"
      ]
    },
    {
      "cell_type": "code",
      "execution_count": null,
      "metadata": {
        "id": "Sph7uTgnpd0Z"
      },
      "outputs": [],
      "source": [
        "# ## FIND THE OPTIMAL TOPIC\n",
        "\n",
        "# import gensim\n",
        "# from gensim import corpora\n",
        "# from gensim.models import LdaModel\n",
        "# from gensim.models.coherencemodel import CoherenceModel\n",
        "# import pandas as pd\n",
        "\n",
        "# # Assuming high_neu_first_wave_df['lemmatized_bigrams'] contains lists of lemmatized bigram tokens\n",
        "# texts = high_neu_first_wave_df['trigram_tokens'].tolist()\n",
        "\n",
        "# # Create a Dictionary and Corpus\n",
        "# dictionary = corpora.Dictionary(texts)\n",
        "# corpus = [dictionary.doc2bow(text) for text in texts]\n",
        "\n",
        "# # Function to compute coherence and perplexity\n",
        "# def compute_coherence_and_perplexity(corpus, dictionary, texts, num_topics):\n",
        "#     lda_model = LdaModel(corpus=corpus,\n",
        "#                                        id2word=dictionary,\n",
        "#                                        num_topics=num_topics,\n",
        "#                                        random_state=100,\n",
        "#                                           chunksize=200,\n",
        "#                                        passes=50,\n",
        "#                                         iterations= 100,\n",
        "#                                        alpha='auto',\n",
        "#                                       eta='auto',\n",
        "#                                        per_word_topics=True)\n",
        "#     perplexity = lda_model.log_perplexity(corpus)\n",
        "#     coherence_model_lda = CoherenceModel(model=lda_model, texts=texts, dictionary=dictionary, coherence='c_v')\n",
        "#     coherence = coherence_model_lda.get_coherence()\n",
        "#     return perplexity, coherence\n",
        "\n",
        "# # Testing different numbers of topics\n",
        "# results = []\n",
        "# for num_topics in range(2, 12):  # You can adjust the range based on your needs\n",
        "#     perplexity, coherence = compute_coherence_and_perplexity(corpus, dictionary, texts, num_topics)\n",
        "#     results.append((num_topics, perplexity, coherence))\n",
        "\n",
        "# # Display results\n",
        "# print(\"Num Topics | Perplexity | Coherence\")\n",
        "# for result in results:\n",
        "#     print(f\"{result[0]:10d} | {result[1]:10.4f} | {result[2]:10.4f}\")\n",
        "\n",
        "# # Optional: find the number of topics with the highest coherence\n",
        "# optimal_num_topics = sorted(results, key=lambda x: x[2], reverse=True)[0][0]\n",
        "# print(f\"Optimal Number of Topics: {optimal_num_topics}\")\n"
      ]
    },
    {
      "cell_type": "code",
      "execution_count": null,
      "metadata": {
        "id": "VN73PLy9GAEe"
      },
      "outputs": [],
      "source": [
        "# # Extracting and printing the top 30 salient terms for each topic\n",
        "# num_topics = lda_model.num_topics\n",
        "# num_words = 30\n",
        "\n",
        "# for idx, topic in lda_model.show_topics(num_topics=num_topics, num_words=num_words, formatted=False):\n",
        "#     print(f\"Topic {idx + 1}:\")\n",
        "#     for word, weight in topic:\n",
        "#         print(f\"  {word} ({weight:.4f})\")\n",
        "#     print()"
      ]
    }
  ],
  "metadata": {
    "colab": {
      "machine_shape": "hm",
      "provenance": []
    },
    "kernelspec": {
      "display_name": "Python 3",
      "name": "python3"
    },
    "language_info": {
      "name": "python"
    }
  },
  "nbformat": 4,
  "nbformat_minor": 0
}