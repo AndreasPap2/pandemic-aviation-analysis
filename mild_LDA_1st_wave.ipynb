{
  "cells": [
    {
      "cell_type": "code",
      "execution_count": 1,
      "metadata": {
        "colab": {
          "base_uri": "https://localhost:8080/"
        },
        "id": "wwpd0FlyuMUV",
        "outputId": "2fadbeb9-f46d-4d21-a5cf-8e6879ff1e9a"
      },
      "outputs": [
        {
          "output_type": "stream",
          "name": "stdout",
          "text": [
            "Drive already mounted at /content/drive; to attempt to forcibly remount, call drive.mount(\"/content/drive\", force_remount=True).\n",
            "Requirement already satisfied: pyLDAvis in /usr/local/lib/python3.11/dist-packages (3.4.1)\n",
            "Requirement already satisfied: numpy>=1.24.2 in /usr/local/lib/python3.11/dist-packages (from pyLDAvis) (1.26.4)\n",
            "Requirement already satisfied: scipy in /usr/local/lib/python3.11/dist-packages (from pyLDAvis) (1.13.1)\n",
            "Requirement already satisfied: pandas>=2.0.0 in /usr/local/lib/python3.11/dist-packages (from pyLDAvis) (2.2.2)\n",
            "Requirement already satisfied: joblib>=1.2.0 in /usr/local/lib/python3.11/dist-packages (from pyLDAvis) (1.5.0)\n",
            "Requirement already satisfied: jinja2 in /usr/local/lib/python3.11/dist-packages (from pyLDAvis) (3.1.6)\n",
            "Requirement already satisfied: numexpr in /usr/local/lib/python3.11/dist-packages (from pyLDAvis) (2.10.2)\n",
            "Requirement already satisfied: funcy in /usr/local/lib/python3.11/dist-packages (from pyLDAvis) (2.0)\n",
            "Requirement already satisfied: scikit-learn>=1.0.0 in /usr/local/lib/python3.11/dist-packages (from pyLDAvis) (1.6.1)\n",
            "Requirement already satisfied: gensim in /usr/local/lib/python3.11/dist-packages (from pyLDAvis) (4.3.3)\n",
            "Requirement already satisfied: setuptools in /usr/local/lib/python3.11/dist-packages (from pyLDAvis) (75.2.0)\n",
            "Requirement already satisfied: python-dateutil>=2.8.2 in /usr/local/lib/python3.11/dist-packages (from pandas>=2.0.0->pyLDAvis) (2.9.0.post0)\n",
            "Requirement already satisfied: pytz>=2020.1 in /usr/local/lib/python3.11/dist-packages (from pandas>=2.0.0->pyLDAvis) (2025.2)\n",
            "Requirement already satisfied: tzdata>=2022.7 in /usr/local/lib/python3.11/dist-packages (from pandas>=2.0.0->pyLDAvis) (2025.2)\n",
            "Requirement already satisfied: threadpoolctl>=3.1.0 in /usr/local/lib/python3.11/dist-packages (from scikit-learn>=1.0.0->pyLDAvis) (3.6.0)\n",
            "Requirement already satisfied: smart-open>=1.8.1 in /usr/local/lib/python3.11/dist-packages (from gensim->pyLDAvis) (7.1.0)\n",
            "Requirement already satisfied: MarkupSafe>=2.0 in /usr/local/lib/python3.11/dist-packages (from jinja2->pyLDAvis) (3.0.2)\n",
            "Requirement already satisfied: six>=1.5 in /usr/local/lib/python3.11/dist-packages (from python-dateutil>=2.8.2->pandas>=2.0.0->pyLDAvis) (1.17.0)\n",
            "Requirement already satisfied: wrapt in /usr/local/lib/python3.11/dist-packages (from smart-open>=1.8.1->gensim->pyLDAvis) (1.17.2)\n",
            "/content\n"
          ]
        }
      ],
      "source": [
        "import pandas as pd\n",
        "from google.colab import drive\n",
        "from datetime import datetime\n",
        "import os\n",
        "import re\n",
        "import nltk\n",
        "from nltk.corpus import stopwords\n",
        "from nltk.stem import WordNetLemmatizer\n",
        "from collections import Counter\n",
        "import matplotlib.pyplot as plt\n",
        "from nltk.util import ngrams\n",
        "import transformers\n",
        "from datetime import datetime\n",
        "import json\n",
        "import numpy as np\n",
        "import seaborn as sns\n",
        "from wordcloud import WordCloud\n",
        "from collections import Counter\n",
        "#import spacy\n",
        "\n",
        "drive.mount('/content/drive')\n",
        "ts= datetime.now().strftime('%Y-%m-%d_%H-%M')\n",
        "output_dir = f'/content/drive/My Drive/Colab Notebooks/output/{ts}'\n",
        "os.makedirs(f\"{output_dir}\",exist_ok=True)\n",
        "\n",
        "!pip install pyLDAvis\n",
        "!pwd"
      ]
    },
    {
      "cell_type": "code",
      "source": [
        "\n",
        "# #1) Downgrade NumPy to 1.26.x\n",
        "# !pip install numpy==1.26.0 --upgrade\n",
        "\n",
        "# # 2) Force-reinstall Gensim so it compiles against the new NumPy\n",
        "# !pip install --upgrade --force-reinstall gensim\n",
        "\n",
        "!pip install  gensim"
      ],
      "metadata": {
        "colab": {
          "base_uri": "https://localhost:8080/"
        },
        "id": "zPnqvpTDUTpb",
        "outputId": "a3bb81d8-c3d2-4062-9ff2-402ed5c4024a"
      },
      "execution_count": 2,
      "outputs": [
        {
          "output_type": "stream",
          "name": "stdout",
          "text": [
            "Requirement already satisfied: gensim in /usr/local/lib/python3.11/dist-packages (4.3.3)\n",
            "Requirement already satisfied: numpy<2.0,>=1.18.5 in /usr/local/lib/python3.11/dist-packages (from gensim) (1.26.4)\n",
            "Requirement already satisfied: scipy<1.14.0,>=1.7.0 in /usr/local/lib/python3.11/dist-packages (from gensim) (1.13.1)\n",
            "Requirement already satisfied: smart-open>=1.8.1 in /usr/local/lib/python3.11/dist-packages (from gensim) (7.1.0)\n",
            "Requirement already satisfied: wrapt in /usr/local/lib/python3.11/dist-packages (from smart-open>=1.8.1->gensim) (1.17.2)\n"
          ]
        }
      ]
    },
    {
      "cell_type": "code",
      "execution_count": 3,
      "metadata": {
        "id": "TyVmX6-5vFlc"
      },
      "outputs": [],
      "source": [
        "## loading df that has data for the specific periods of interest     ('2020-01-01', '2020-05-31'),('2020-10-01', '2021-01-31'),('2021-11-01', '2022-01-31'),('2022-11-01','2023-01-31')"
      ]
    },
    {
      "cell_type": "code",
      "execution_count": 4,
      "metadata": {
        "id": "5A5UQYFZyu4a"
      },
      "outputs": [],
      "source": [
        "# Specify the path including the folder in your Google Drive\n",
        "path = '/content/drive/My Drive/Colab Notebooks/selected_df.csv'\n",
        "# Load the DataFrame from the CSV file\n",
        "df = pd.read_csv(path)"
      ]
    },
    {
      "cell_type": "code",
      "execution_count": 5,
      "metadata": {
        "colab": {
          "base_uri": "https://localhost:8080/",
          "height": 206
        },
        "id": "laiq0eWIoqv5",
        "outputId": "8577daf6-179a-49c6-f139-2e495760a8d5"
      },
      "outputs": [
        {
          "output_type": "execute_result",
          "data": {
            "text/plain": [
              "  created_utc     label     score  \\\n",
              "0  2020-05-31  mild neu  0.569819   \n",
              "1  2020-05-31  mild neu  0.617377   \n",
              "2  2020-05-31  mild neu  0.610706   \n",
              "3  2020-05-31  mild neu  0.576460   \n",
              "4  2020-05-31  mild neu  0.629136   \n",
              "\n",
              "                                        cleaned_text  \n",
              "0                                ill pay mosaic much  \n",
              "1  redemption november right riding shoe either m...  \n",
              "2  sure planning hilton redemption soon wouldnt s...  \n",
              "3                                             thanks  \n",
              "4                                           bigger w  "
            ],
            "text/html": [
              "\n",
              "  <div id=\"df-bd823f9c-5e15-46a3-878c-79020c343997\" class=\"colab-df-container\">\n",
              "    <div>\n",
              "<style scoped>\n",
              "    .dataframe tbody tr th:only-of-type {\n",
              "        vertical-align: middle;\n",
              "    }\n",
              "\n",
              "    .dataframe tbody tr th {\n",
              "        vertical-align: top;\n",
              "    }\n",
              "\n",
              "    .dataframe thead th {\n",
              "        text-align: right;\n",
              "    }\n",
              "</style>\n",
              "<table border=\"1\" class=\"dataframe\">\n",
              "  <thead>\n",
              "    <tr style=\"text-align: right;\">\n",
              "      <th></th>\n",
              "      <th>created_utc</th>\n",
              "      <th>label</th>\n",
              "      <th>score</th>\n",
              "      <th>cleaned_text</th>\n",
              "    </tr>\n",
              "  </thead>\n",
              "  <tbody>\n",
              "    <tr>\n",
              "      <th>0</th>\n",
              "      <td>2020-05-31</td>\n",
              "      <td>mild neu</td>\n",
              "      <td>0.569819</td>\n",
              "      <td>ill pay mosaic much</td>\n",
              "    </tr>\n",
              "    <tr>\n",
              "      <th>1</th>\n",
              "      <td>2020-05-31</td>\n",
              "      <td>mild neu</td>\n",
              "      <td>0.617377</td>\n",
              "      <td>redemption november right riding shoe either m...</td>\n",
              "    </tr>\n",
              "    <tr>\n",
              "      <th>2</th>\n",
              "      <td>2020-05-31</td>\n",
              "      <td>mild neu</td>\n",
              "      <td>0.610706</td>\n",
              "      <td>sure planning hilton redemption soon wouldnt s...</td>\n",
              "    </tr>\n",
              "    <tr>\n",
              "      <th>3</th>\n",
              "      <td>2020-05-31</td>\n",
              "      <td>mild neu</td>\n",
              "      <td>0.576460</td>\n",
              "      <td>thanks</td>\n",
              "    </tr>\n",
              "    <tr>\n",
              "      <th>4</th>\n",
              "      <td>2020-05-31</td>\n",
              "      <td>mild neu</td>\n",
              "      <td>0.629136</td>\n",
              "      <td>bigger w</td>\n",
              "    </tr>\n",
              "  </tbody>\n",
              "</table>\n",
              "</div>\n",
              "    <div class=\"colab-df-buttons\">\n",
              "\n",
              "  <div class=\"colab-df-container\">\n",
              "    <button class=\"colab-df-convert\" onclick=\"convertToInteractive('df-bd823f9c-5e15-46a3-878c-79020c343997')\"\n",
              "            title=\"Convert this dataframe to an interactive table.\"\n",
              "            style=\"display:none;\">\n",
              "\n",
              "  <svg xmlns=\"http://www.w3.org/2000/svg\" height=\"24px\" viewBox=\"0 -960 960 960\">\n",
              "    <path d=\"M120-120v-720h720v720H120Zm60-500h600v-160H180v160Zm220 220h160v-160H400v160Zm0 220h160v-160H400v160ZM180-400h160v-160H180v160Zm440 0h160v-160H620v160ZM180-180h160v-160H180v160Zm440 0h160v-160H620v160Z\"/>\n",
              "  </svg>\n",
              "    </button>\n",
              "\n",
              "  <style>\n",
              "    .colab-df-container {\n",
              "      display:flex;\n",
              "      gap: 12px;\n",
              "    }\n",
              "\n",
              "    .colab-df-convert {\n",
              "      background-color: #E8F0FE;\n",
              "      border: none;\n",
              "      border-radius: 50%;\n",
              "      cursor: pointer;\n",
              "      display: none;\n",
              "      fill: #1967D2;\n",
              "      height: 32px;\n",
              "      padding: 0 0 0 0;\n",
              "      width: 32px;\n",
              "    }\n",
              "\n",
              "    .colab-df-convert:hover {\n",
              "      background-color: #E2EBFA;\n",
              "      box-shadow: 0px 1px 2px rgba(60, 64, 67, 0.3), 0px 1px 3px 1px rgba(60, 64, 67, 0.15);\n",
              "      fill: #174EA6;\n",
              "    }\n",
              "\n",
              "    .colab-df-buttons div {\n",
              "      margin-bottom: 4px;\n",
              "    }\n",
              "\n",
              "    [theme=dark] .colab-df-convert {\n",
              "      background-color: #3B4455;\n",
              "      fill: #D2E3FC;\n",
              "    }\n",
              "\n",
              "    [theme=dark] .colab-df-convert:hover {\n",
              "      background-color: #434B5C;\n",
              "      box-shadow: 0px 1px 3px 1px rgba(0, 0, 0, 0.15);\n",
              "      filter: drop-shadow(0px 1px 2px rgba(0, 0, 0, 0.3));\n",
              "      fill: #FFFFFF;\n",
              "    }\n",
              "  </style>\n",
              "\n",
              "    <script>\n",
              "      const buttonEl =\n",
              "        document.querySelector('#df-bd823f9c-5e15-46a3-878c-79020c343997 button.colab-df-convert');\n",
              "      buttonEl.style.display =\n",
              "        google.colab.kernel.accessAllowed ? 'block' : 'none';\n",
              "\n",
              "      async function convertToInteractive(key) {\n",
              "        const element = document.querySelector('#df-bd823f9c-5e15-46a3-878c-79020c343997');\n",
              "        const dataTable =\n",
              "          await google.colab.kernel.invokeFunction('convertToInteractive',\n",
              "                                                    [key], {});\n",
              "        if (!dataTable) return;\n",
              "\n",
              "        const docLinkHtml = 'Like what you see? Visit the ' +\n",
              "          '<a target=\"_blank\" href=https://colab.research.google.com/notebooks/data_table.ipynb>data table notebook</a>'\n",
              "          + ' to learn more about interactive tables.';\n",
              "        element.innerHTML = '';\n",
              "        dataTable['output_type'] = 'display_data';\n",
              "        await google.colab.output.renderOutput(dataTable, element);\n",
              "        const docLink = document.createElement('div');\n",
              "        docLink.innerHTML = docLinkHtml;\n",
              "        element.appendChild(docLink);\n",
              "      }\n",
              "    </script>\n",
              "  </div>\n",
              "\n",
              "\n",
              "    <div id=\"df-142c50e6-b8cd-4d72-a497-0cc105a4a421\">\n",
              "      <button class=\"colab-df-quickchart\" onclick=\"quickchart('df-142c50e6-b8cd-4d72-a497-0cc105a4a421')\"\n",
              "                title=\"Suggest charts\"\n",
              "                style=\"display:none;\">\n",
              "\n",
              "<svg xmlns=\"http://www.w3.org/2000/svg\" height=\"24px\"viewBox=\"0 0 24 24\"\n",
              "     width=\"24px\">\n",
              "    <g>\n",
              "        <path d=\"M19 3H5c-1.1 0-2 .9-2 2v14c0 1.1.9 2 2 2h14c1.1 0 2-.9 2-2V5c0-1.1-.9-2-2-2zM9 17H7v-7h2v7zm4 0h-2V7h2v10zm4 0h-2v-4h2v4z\"/>\n",
              "    </g>\n",
              "</svg>\n",
              "      </button>\n",
              "\n",
              "<style>\n",
              "  .colab-df-quickchart {\n",
              "      --bg-color: #E8F0FE;\n",
              "      --fill-color: #1967D2;\n",
              "      --hover-bg-color: #E2EBFA;\n",
              "      --hover-fill-color: #174EA6;\n",
              "      --disabled-fill-color: #AAA;\n",
              "      --disabled-bg-color: #DDD;\n",
              "  }\n",
              "\n",
              "  [theme=dark] .colab-df-quickchart {\n",
              "      --bg-color: #3B4455;\n",
              "      --fill-color: #D2E3FC;\n",
              "      --hover-bg-color: #434B5C;\n",
              "      --hover-fill-color: #FFFFFF;\n",
              "      --disabled-bg-color: #3B4455;\n",
              "      --disabled-fill-color: #666;\n",
              "  }\n",
              "\n",
              "  .colab-df-quickchart {\n",
              "    background-color: var(--bg-color);\n",
              "    border: none;\n",
              "    border-radius: 50%;\n",
              "    cursor: pointer;\n",
              "    display: none;\n",
              "    fill: var(--fill-color);\n",
              "    height: 32px;\n",
              "    padding: 0;\n",
              "    width: 32px;\n",
              "  }\n",
              "\n",
              "  .colab-df-quickchart:hover {\n",
              "    background-color: var(--hover-bg-color);\n",
              "    box-shadow: 0 1px 2px rgba(60, 64, 67, 0.3), 0 1px 3px 1px rgba(60, 64, 67, 0.15);\n",
              "    fill: var(--button-hover-fill-color);\n",
              "  }\n",
              "\n",
              "  .colab-df-quickchart-complete:disabled,\n",
              "  .colab-df-quickchart-complete:disabled:hover {\n",
              "    background-color: var(--disabled-bg-color);\n",
              "    fill: var(--disabled-fill-color);\n",
              "    box-shadow: none;\n",
              "  }\n",
              "\n",
              "  .colab-df-spinner {\n",
              "    border: 2px solid var(--fill-color);\n",
              "    border-color: transparent;\n",
              "    border-bottom-color: var(--fill-color);\n",
              "    animation:\n",
              "      spin 1s steps(1) infinite;\n",
              "  }\n",
              "\n",
              "  @keyframes spin {\n",
              "    0% {\n",
              "      border-color: transparent;\n",
              "      border-bottom-color: var(--fill-color);\n",
              "      border-left-color: var(--fill-color);\n",
              "    }\n",
              "    20% {\n",
              "      border-color: transparent;\n",
              "      border-left-color: var(--fill-color);\n",
              "      border-top-color: var(--fill-color);\n",
              "    }\n",
              "    30% {\n",
              "      border-color: transparent;\n",
              "      border-left-color: var(--fill-color);\n",
              "      border-top-color: var(--fill-color);\n",
              "      border-right-color: var(--fill-color);\n",
              "    }\n",
              "    40% {\n",
              "      border-color: transparent;\n",
              "      border-right-color: var(--fill-color);\n",
              "      border-top-color: var(--fill-color);\n",
              "    }\n",
              "    60% {\n",
              "      border-color: transparent;\n",
              "      border-right-color: var(--fill-color);\n",
              "    }\n",
              "    80% {\n",
              "      border-color: transparent;\n",
              "      border-right-color: var(--fill-color);\n",
              "      border-bottom-color: var(--fill-color);\n",
              "    }\n",
              "    90% {\n",
              "      border-color: transparent;\n",
              "      border-bottom-color: var(--fill-color);\n",
              "    }\n",
              "  }\n",
              "</style>\n",
              "\n",
              "      <script>\n",
              "        async function quickchart(key) {\n",
              "          const quickchartButtonEl =\n",
              "            document.querySelector('#' + key + ' button');\n",
              "          quickchartButtonEl.disabled = true;  // To prevent multiple clicks.\n",
              "          quickchartButtonEl.classList.add('colab-df-spinner');\n",
              "          try {\n",
              "            const charts = await google.colab.kernel.invokeFunction(\n",
              "                'suggestCharts', [key], {});\n",
              "          } catch (error) {\n",
              "            console.error('Error during call to suggestCharts:', error);\n",
              "          }\n",
              "          quickchartButtonEl.classList.remove('colab-df-spinner');\n",
              "          quickchartButtonEl.classList.add('colab-df-quickchart-complete');\n",
              "        }\n",
              "        (() => {\n",
              "          let quickchartButtonEl =\n",
              "            document.querySelector('#df-142c50e6-b8cd-4d72-a497-0cc105a4a421 button');\n",
              "          quickchartButtonEl.style.display =\n",
              "            google.colab.kernel.accessAllowed ? 'block' : 'none';\n",
              "        })();\n",
              "      </script>\n",
              "    </div>\n",
              "\n",
              "    </div>\n",
              "  </div>\n"
            ],
            "application/vnd.google.colaboratory.intrinsic+json": {
              "type": "dataframe",
              "variable_name": "df",
              "summary": "{\n  \"name\": \"df\",\n  \"rows\": 87034,\n  \"fields\": [\n    {\n      \"column\": \"created_utc\",\n      \"properties\": {\n        \"dtype\": \"object\",\n        \"num_unique_values\": 422,\n        \"samples\": [\n          \"2021-01-30\",\n          \"2021-11-24\",\n          \"2020-12-31\"\n        ],\n        \"semantic_type\": \"\",\n        \"description\": \"\"\n      }\n    },\n    {\n      \"column\": \"label\",\n      \"properties\": {\n        \"dtype\": \"category\",\n        \"num_unique_values\": 6,\n        \"samples\": [\n          \"mild neu\",\n          \"high neu\",\n          \"high neg\"\n        ],\n        \"semantic_type\": \"\",\n        \"description\": \"\"\n      }\n    },\n    {\n      \"column\": \"score\",\n      \"properties\": {\n        \"dtype\": \"number\",\n        \"std\": 0.12152225759342901,\n        \"min\": 0.4403473436832428,\n        \"max\": 0.992438018321991,\n        \"num_unique_values\": 77047,\n        \"samples\": [\n          0.8842844367027283,\n          0.7468905448913574,\n          0.6949559450149536\n        ],\n        \"semantic_type\": \"\",\n        \"description\": \"\"\n      }\n    },\n    {\n      \"column\": \"cleaned_text\",\n      \"properties\": {\n        \"dtype\": \"string\",\n        \"num_unique_values\": 77616,\n        \"samples\": [\n          \"definitely day hilo fancy beautiful old hawaii feel\",\n          \"right thought aspire actually surpass card well worth annual fee stay night year\",\n          \"totally agree dont want run problem registration hotel american russian tourist visa need apologize thanks community kind\"\n        ],\n        \"semantic_type\": \"\",\n        \"description\": \"\"\n      }\n    }\n  ]\n}"
            }
          },
          "metadata": {},
          "execution_count": 5
        }
      ],
      "source": [
        "df.head()"
      ]
    },
    {
      "cell_type": "code",
      "execution_count": 6,
      "metadata": {
        "colab": {
          "base_uri": "https://localhost:8080/"
        },
        "id": "FS0uOK5LpFpY",
        "outputId": "158b85e0-4361-4f94-9a31-045ad5585d0e"
      },
      "outputs": [
        {
          "output_type": "stream",
          "name": "stdout",
          "text": [
            "Requirement already satisfied: contractions in /usr/local/lib/python3.11/dist-packages (0.1.73)\n",
            "Requirement already satisfied: textsearch>=0.0.21 in /usr/local/lib/python3.11/dist-packages (from contractions) (0.0.24)\n",
            "Requirement already satisfied: anyascii in /usr/local/lib/python3.11/dist-packages (from textsearch>=0.0.21->contractions) (0.3.2)\n",
            "Requirement already satisfied: pyahocorasick in /usr/local/lib/python3.11/dist-packages (from textsearch>=0.0.21->contractions) (2.1.0)\n"
          ]
        }
      ],
      "source": [
        "!pip install contractions"
      ]
    },
    {
      "cell_type": "code",
      "execution_count": 7,
      "metadata": {
        "id": "DWqGfdx6prB_"
      },
      "outputs": [],
      "source": [
        "\n",
        "# import nltk\n",
        "# nltk.download('punkt_tab')\n",
        "# !pip install -U spacy torch transformers\n",
        "import spacy\n"
      ]
    },
    {
      "cell_type": "code",
      "source": [
        "# !python -m spacy download en_core_web_trf\n"
      ],
      "metadata": {
        "id": "p-n91NfcK6X-"
      },
      "execution_count": 8,
      "outputs": []
    },
    {
      "cell_type": "code",
      "execution_count": 9,
      "metadata": {
        "colab": {
          "base_uri": "https://localhost:8080/"
        },
        "id": "15z4DtWGq2sb",
        "outputId": "01eac9d9-79e5-4a25-a37c-fd93e9891645"
      },
      "outputs": [
        {
          "output_type": "execute_result",
          "data": {
            "text/plain": [
              "87034"
            ]
          },
          "metadata": {},
          "execution_count": 9
        }
      ],
      "source": [
        "df.shape[0]"
      ]
    },
    {
      "cell_type": "code",
      "execution_count": 10,
      "metadata": {
        "colab": {
          "base_uri": "https://localhost:8080/"
        },
        "id": "VOAsdno1q0R6",
        "outputId": "6c36c57c-45bb-43d8-ad37-b6a4f9770c3d"
      },
      "outputs": [
        {
          "output_type": "execute_result",
          "data": {
            "text/plain": [
              "86446"
            ]
          },
          "metadata": {},
          "execution_count": 10
        }
      ],
      "source": [
        "#drop NA\n",
        "# drop any rows where cleaned_text isn’t a real string\n",
        "df = df.dropna(subset=['cleaned_text'])\n",
        "df.shape[0]"
      ]
    },
    {
      "cell_type": "code",
      "execution_count": 11,
      "metadata": {
        "colab": {
          "base_uri": "https://localhost:8080/",
          "height": 206
        },
        "id": "OxBuDUtVoeDw",
        "outputId": "a30827fd-2bfb-4cfb-bdf6-a6bad09a71b9"
      },
      "outputs": [
        {
          "output_type": "execute_result",
          "data": {
            "text/plain": [
              "  created_utc     score                                         final_text  \\\n",
              "0  2020-05-31  0.569819                                     ill pay mosaic   \n",
              "1  2020-05-31  0.617377  redemption november right riding shoe move tri...   \n",
              "2  2020-05-31  0.610706  sure plan hilton redemption soon speculatively...   \n",
              "3  2020-05-31  0.576460                                              thank   \n",
              "4  2020-05-31  0.629136                                                big   \n",
              "\n",
              "                                              tokens  \n",
              "0                                 [ill, pay, mosaic]  \n",
              "1  [redemption, november, right, riding, shoe, mo...  \n",
              "2  [sure, plan, hilton, redemption, soon, specula...  \n",
              "3                                            [thank]  \n",
              "4                                              [big]  "
            ],
            "text/html": [
              "\n",
              "  <div id=\"df-1992ccf5-ef9a-4ace-8b94-49fd25a35e01\" class=\"colab-df-container\">\n",
              "    <div>\n",
              "<style scoped>\n",
              "    .dataframe tbody tr th:only-of-type {\n",
              "        vertical-align: middle;\n",
              "    }\n",
              "\n",
              "    .dataframe tbody tr th {\n",
              "        vertical-align: top;\n",
              "    }\n",
              "\n",
              "    .dataframe thead th {\n",
              "        text-align: right;\n",
              "    }\n",
              "</style>\n",
              "<table border=\"1\" class=\"dataframe\">\n",
              "  <thead>\n",
              "    <tr style=\"text-align: right;\">\n",
              "      <th></th>\n",
              "      <th>created_utc</th>\n",
              "      <th>score</th>\n",
              "      <th>final_text</th>\n",
              "      <th>tokens</th>\n",
              "    </tr>\n",
              "  </thead>\n",
              "  <tbody>\n",
              "    <tr>\n",
              "      <th>0</th>\n",
              "      <td>2020-05-31</td>\n",
              "      <td>0.569819</td>\n",
              "      <td>ill pay mosaic</td>\n",
              "      <td>[ill, pay, mosaic]</td>\n",
              "    </tr>\n",
              "    <tr>\n",
              "      <th>1</th>\n",
              "      <td>2020-05-31</td>\n",
              "      <td>0.617377</td>\n",
              "      <td>redemption november right riding shoe move tri...</td>\n",
              "      <td>[redemption, november, right, riding, shoe, mo...</td>\n",
              "    </tr>\n",
              "    <tr>\n",
              "      <th>2</th>\n",
              "      <td>2020-05-31</td>\n",
              "      <td>0.610706</td>\n",
              "      <td>sure plan hilton redemption soon speculatively...</td>\n",
              "      <td>[sure, plan, hilton, redemption, soon, specula...</td>\n",
              "    </tr>\n",
              "    <tr>\n",
              "      <th>3</th>\n",
              "      <td>2020-05-31</td>\n",
              "      <td>0.576460</td>\n",
              "      <td>thank</td>\n",
              "      <td>[thank]</td>\n",
              "    </tr>\n",
              "    <tr>\n",
              "      <th>4</th>\n",
              "      <td>2020-05-31</td>\n",
              "      <td>0.629136</td>\n",
              "      <td>big</td>\n",
              "      <td>[big]</td>\n",
              "    </tr>\n",
              "  </tbody>\n",
              "</table>\n",
              "</div>\n",
              "    <div class=\"colab-df-buttons\">\n",
              "\n",
              "  <div class=\"colab-df-container\">\n",
              "    <button class=\"colab-df-convert\" onclick=\"convertToInteractive('df-1992ccf5-ef9a-4ace-8b94-49fd25a35e01')\"\n",
              "            title=\"Convert this dataframe to an interactive table.\"\n",
              "            style=\"display:none;\">\n",
              "\n",
              "  <svg xmlns=\"http://www.w3.org/2000/svg\" height=\"24px\" viewBox=\"0 -960 960 960\">\n",
              "    <path d=\"M120-120v-720h720v720H120Zm60-500h600v-160H180v160Zm220 220h160v-160H400v160Zm0 220h160v-160H400v160ZM180-400h160v-160H180v160Zm440 0h160v-160H620v160ZM180-180h160v-160H180v160Zm440 0h160v-160H620v160Z\"/>\n",
              "  </svg>\n",
              "    </button>\n",
              "\n",
              "  <style>\n",
              "    .colab-df-container {\n",
              "      display:flex;\n",
              "      gap: 12px;\n",
              "    }\n",
              "\n",
              "    .colab-df-convert {\n",
              "      background-color: #E8F0FE;\n",
              "      border: none;\n",
              "      border-radius: 50%;\n",
              "      cursor: pointer;\n",
              "      display: none;\n",
              "      fill: #1967D2;\n",
              "      height: 32px;\n",
              "      padding: 0 0 0 0;\n",
              "      width: 32px;\n",
              "    }\n",
              "\n",
              "    .colab-df-convert:hover {\n",
              "      background-color: #E2EBFA;\n",
              "      box-shadow: 0px 1px 2px rgba(60, 64, 67, 0.3), 0px 1px 3px 1px rgba(60, 64, 67, 0.15);\n",
              "      fill: #174EA6;\n",
              "    }\n",
              "\n",
              "    .colab-df-buttons div {\n",
              "      margin-bottom: 4px;\n",
              "    }\n",
              "\n",
              "    [theme=dark] .colab-df-convert {\n",
              "      background-color: #3B4455;\n",
              "      fill: #D2E3FC;\n",
              "    }\n",
              "\n",
              "    [theme=dark] .colab-df-convert:hover {\n",
              "      background-color: #434B5C;\n",
              "      box-shadow: 0px 1px 3px 1px rgba(0, 0, 0, 0.15);\n",
              "      filter: drop-shadow(0px 1px 2px rgba(0, 0, 0, 0.3));\n",
              "      fill: #FFFFFF;\n",
              "    }\n",
              "  </style>\n",
              "\n",
              "    <script>\n",
              "      const buttonEl =\n",
              "        document.querySelector('#df-1992ccf5-ef9a-4ace-8b94-49fd25a35e01 button.colab-df-convert');\n",
              "      buttonEl.style.display =\n",
              "        google.colab.kernel.accessAllowed ? 'block' : 'none';\n",
              "\n",
              "      async function convertToInteractive(key) {\n",
              "        const element = document.querySelector('#df-1992ccf5-ef9a-4ace-8b94-49fd25a35e01');\n",
              "        const dataTable =\n",
              "          await google.colab.kernel.invokeFunction('convertToInteractive',\n",
              "                                                    [key], {});\n",
              "        if (!dataTable) return;\n",
              "\n",
              "        const docLinkHtml = 'Like what you see? Visit the ' +\n",
              "          '<a target=\"_blank\" href=https://colab.research.google.com/notebooks/data_table.ipynb>data table notebook</a>'\n",
              "          + ' to learn more about interactive tables.';\n",
              "        element.innerHTML = '';\n",
              "        dataTable['output_type'] = 'display_data';\n",
              "        await google.colab.output.renderOutput(dataTable, element);\n",
              "        const docLink = document.createElement('div');\n",
              "        docLink.innerHTML = docLinkHtml;\n",
              "        element.appendChild(docLink);\n",
              "      }\n",
              "    </script>\n",
              "  </div>\n",
              "\n",
              "\n",
              "    <div id=\"df-b250af6c-2ef8-41de-ba94-d0d8e23317aa\">\n",
              "      <button class=\"colab-df-quickchart\" onclick=\"quickchart('df-b250af6c-2ef8-41de-ba94-d0d8e23317aa')\"\n",
              "                title=\"Suggest charts\"\n",
              "                style=\"display:none;\">\n",
              "\n",
              "<svg xmlns=\"http://www.w3.org/2000/svg\" height=\"24px\"viewBox=\"0 0 24 24\"\n",
              "     width=\"24px\">\n",
              "    <g>\n",
              "        <path d=\"M19 3H5c-1.1 0-2 .9-2 2v14c0 1.1.9 2 2 2h14c1.1 0 2-.9 2-2V5c0-1.1-.9-2-2-2zM9 17H7v-7h2v7zm4 0h-2V7h2v10zm4 0h-2v-4h2v4z\"/>\n",
              "    </g>\n",
              "</svg>\n",
              "      </button>\n",
              "\n",
              "<style>\n",
              "  .colab-df-quickchart {\n",
              "      --bg-color: #E8F0FE;\n",
              "      --fill-color: #1967D2;\n",
              "      --hover-bg-color: #E2EBFA;\n",
              "      --hover-fill-color: #174EA6;\n",
              "      --disabled-fill-color: #AAA;\n",
              "      --disabled-bg-color: #DDD;\n",
              "  }\n",
              "\n",
              "  [theme=dark] .colab-df-quickchart {\n",
              "      --bg-color: #3B4455;\n",
              "      --fill-color: #D2E3FC;\n",
              "      --hover-bg-color: #434B5C;\n",
              "      --hover-fill-color: #FFFFFF;\n",
              "      --disabled-bg-color: #3B4455;\n",
              "      --disabled-fill-color: #666;\n",
              "  }\n",
              "\n",
              "  .colab-df-quickchart {\n",
              "    background-color: var(--bg-color);\n",
              "    border: none;\n",
              "    border-radius: 50%;\n",
              "    cursor: pointer;\n",
              "    display: none;\n",
              "    fill: var(--fill-color);\n",
              "    height: 32px;\n",
              "    padding: 0;\n",
              "    width: 32px;\n",
              "  }\n",
              "\n",
              "  .colab-df-quickchart:hover {\n",
              "    background-color: var(--hover-bg-color);\n",
              "    box-shadow: 0 1px 2px rgba(60, 64, 67, 0.3), 0 1px 3px 1px rgba(60, 64, 67, 0.15);\n",
              "    fill: var(--button-hover-fill-color);\n",
              "  }\n",
              "\n",
              "  .colab-df-quickchart-complete:disabled,\n",
              "  .colab-df-quickchart-complete:disabled:hover {\n",
              "    background-color: var(--disabled-bg-color);\n",
              "    fill: var(--disabled-fill-color);\n",
              "    box-shadow: none;\n",
              "  }\n",
              "\n",
              "  .colab-df-spinner {\n",
              "    border: 2px solid var(--fill-color);\n",
              "    border-color: transparent;\n",
              "    border-bottom-color: var(--fill-color);\n",
              "    animation:\n",
              "      spin 1s steps(1) infinite;\n",
              "  }\n",
              "\n",
              "  @keyframes spin {\n",
              "    0% {\n",
              "      border-color: transparent;\n",
              "      border-bottom-color: var(--fill-color);\n",
              "      border-left-color: var(--fill-color);\n",
              "    }\n",
              "    20% {\n",
              "      border-color: transparent;\n",
              "      border-left-color: var(--fill-color);\n",
              "      border-top-color: var(--fill-color);\n",
              "    }\n",
              "    30% {\n",
              "      border-color: transparent;\n",
              "      border-left-color: var(--fill-color);\n",
              "      border-top-color: var(--fill-color);\n",
              "      border-right-color: var(--fill-color);\n",
              "    }\n",
              "    40% {\n",
              "      border-color: transparent;\n",
              "      border-right-color: var(--fill-color);\n",
              "      border-top-color: var(--fill-color);\n",
              "    }\n",
              "    60% {\n",
              "      border-color: transparent;\n",
              "      border-right-color: var(--fill-color);\n",
              "    }\n",
              "    80% {\n",
              "      border-color: transparent;\n",
              "      border-right-color: var(--fill-color);\n",
              "      border-bottom-color: var(--fill-color);\n",
              "    }\n",
              "    90% {\n",
              "      border-color: transparent;\n",
              "      border-bottom-color: var(--fill-color);\n",
              "    }\n",
              "  }\n",
              "</style>\n",
              "\n",
              "      <script>\n",
              "        async function quickchart(key) {\n",
              "          const quickchartButtonEl =\n",
              "            document.querySelector('#' + key + ' button');\n",
              "          quickchartButtonEl.disabled = true;  // To prevent multiple clicks.\n",
              "          quickchartButtonEl.classList.add('colab-df-spinner');\n",
              "          try {\n",
              "            const charts = await google.colab.kernel.invokeFunction(\n",
              "                'suggestCharts', [key], {});\n",
              "          } catch (error) {\n",
              "            console.error('Error during call to suggestCharts:', error);\n",
              "          }\n",
              "          quickchartButtonEl.classList.remove('colab-df-spinner');\n",
              "          quickchartButtonEl.classList.add('colab-df-quickchart-complete');\n",
              "        }\n",
              "        (() => {\n",
              "          let quickchartButtonEl =\n",
              "            document.querySelector('#df-b250af6c-2ef8-41de-ba94-d0d8e23317aa button');\n",
              "          quickchartButtonEl.style.display =\n",
              "            google.colab.kernel.accessAllowed ? 'block' : 'none';\n",
              "        })();\n",
              "      </script>\n",
              "    </div>\n",
              "\n",
              "    </div>\n",
              "  </div>\n"
            ],
            "application/vnd.google.colaboratory.intrinsic+json": {
              "type": "dataframe",
              "summary": "{\n  \"name\": \"df[['created_utc','score','final_text','tokens']]\",\n  \"rows\": 5,\n  \"fields\": [\n    {\n      \"column\": \"created_utc\",\n      \"properties\": {\n        \"dtype\": \"date\",\n        \"min\": \"2020-05-31 00:00:00\",\n        \"max\": \"2020-05-31 00:00:00\",\n        \"num_unique_values\": 1,\n        \"samples\": [\n          \"2020-05-31 00:00:00\"\n        ],\n        \"semantic_type\": \"\",\n        \"description\": \"\"\n      }\n    },\n    {\n      \"column\": \"score\",\n      \"properties\": {\n        \"dtype\": \"number\",\n        \"std\": 0.026115351458423277,\n        \"min\": 0.5698192715644836,\n        \"max\": 0.6291364431381226,\n        \"num_unique_values\": 5,\n        \"samples\": [\n          0.6173766851425171\n        ],\n        \"semantic_type\": \"\",\n        \"description\": \"\"\n      }\n    },\n    {\n      \"column\": \"final_text\",\n      \"properties\": {\n        \"dtype\": \"string\",\n        \"num_unique_values\": 5,\n        \"samples\": [\n          \"redemption november right riding shoe move trip availability cancel let point sit cash transfer hilton come massive loss november roll dice rebook\"\n        ],\n        \"semantic_type\": \"\",\n        \"description\": \"\"\n      }\n    },\n    {\n      \"column\": \"tokens\",\n      \"properties\": {\n        \"dtype\": \"object\",\n        \"semantic_type\": \"\",\n        \"description\": \"\"\n      }\n    }\n  ]\n}"
            }
          },
          "metadata": {},
          "execution_count": 11
        }
      ],
      "source": [
        "## Data Cleaning with spaCy\n",
        "import re, string\n",
        "import pandas as pd\n",
        "import contractions\n",
        "import spacy\n",
        "\n",
        "# Load spaCy's English model\n",
        "nlp = spacy.load(\"en_core_web_sm\")\n",
        "# nlp = spacy.load(\"en_core_web_trf\")\n",
        "# Convert timestamp column\n",
        "df['created_utc'] = pd.to_datetime(df['created_utc'])\n",
        "\n",
        "# Define full-clean function using spaCy\n",
        "def full_clean_spacy(doc):\n",
        "    # Basic regex cleaning\n",
        "    doc = re.sub(r'\\s+', ' ', doc).strip()\n",
        "    doc = doc.lower()\n",
        "    doc = re.sub(r'http\\S+|www\\.\\S+', '', doc)\n",
        "    doc = re.sub(r'<.*?>',          '', doc)\n",
        "    doc = re.sub(r'@\\w+|#\\w+',      '', doc)\n",
        "    doc = contractions.fix(doc)\n",
        "    doc = doc.translate(str.maketrans('', '', string.punctuation))\n",
        "    doc = re.sub(r'\\d+', '', doc)\n",
        "\n",
        "    # Process with spaCy\n",
        "    spacy_doc = nlp(doc)\n",
        "\n",
        "    # Lemmatize, remove stopwords and short tokens\n",
        "    tokens = [\n",
        "        token.lemma_\n",
        "        for token in spacy_doc\n",
        "        if not token.is_stop and not token.is_punct and len(token) > 2\n",
        "    ]\n",
        "    return tokens\n",
        "\n",
        "# Apply to each row\n",
        "df['tokens']     = df['cleaned_text'].apply(full_clean_spacy)\n",
        "df['final_text'] = df['tokens'].str.join(' ')\n",
        "\n",
        "# Preview\n",
        "df[['created_utc','score','final_text','tokens']].head()\n"
      ]
    },
    {
      "cell_type": "code",
      "execution_count": 12,
      "metadata": {
        "colab": {
          "base_uri": "https://localhost:8080/"
        },
        "id": "c1Qd-mQhrDzG",
        "outputId": "f5099846-0e46-44f8-e5a4-93f0683e9935"
      },
      "outputs": [
        {
          "output_type": "execute_result",
          "data": {
            "text/plain": [
              "86446"
            ]
          },
          "metadata": {},
          "execution_count": 12
        }
      ],
      "source": [
        "df.shape[0]"
      ]
    },
    {
      "cell_type": "code",
      "execution_count": 13,
      "metadata": {
        "colab": {
          "base_uri": "https://localhost:8080/",
          "height": 310
        },
        "id": "qtaS7KFiz2j9",
        "outputId": "b611916c-31ea-4dbd-c0b4-41683487e1b2"
      },
      "outputs": [
        {
          "output_type": "stream",
          "name": "stderr",
          "text": [
            "<ipython-input-13-4052be87efef>:5: SettingWithCopyWarning: \n",
            "A value is trying to be set on a copy of a slice from a DataFrame.\n",
            "Try using .loc[row_indexer,col_indexer] = value instead\n",
            "\n",
            "See the caveats in the documentation: https://pandas.pydata.org/pandas-docs/stable/user_guide/indexing.html#returning-a-view-versus-a-copy\n",
            "  high_pos_df['created_utc'] = pd.to_datetime(high_pos_df['created_utc'])\n"
          ]
        },
        {
          "output_type": "execute_result",
          "data": {
            "text/plain": [
              "   created_utc     label     score  \\\n",
              "7   2020-05-31  mild pos  0.598285   \n",
              "24  2020-05-31  mild pos  0.588926   \n",
              "36  2020-05-30  mild pos  0.729096   \n",
              "69  2020-05-29  mild pos  0.687201   \n",
              "81  2020-05-29  mild pos  0.741639   \n",
              "\n",
              "                                         cleaned_text  \\\n",
              "7   good luck booked one discount point fare trip ...   \n",
              "24  thanks pointing gambling right using point sin...   \n",
              "36                    course feel free spent ton time   \n",
              "69  kind shocked able find singapore award availab...   \n",
              "81  nice saved point night previously booked reser...   \n",
              "\n",
              "                                               tokens  \\\n",
              "7   [good, luck, book, discount, point, fare, trip...   \n",
              "24  [thank, point, gambling, right, point, fare, c...   \n",
              "36             [course, feel, free, spend, ton, time]   \n",
              "69  [kind, shocked, able, find, singapore, award, ...   \n",
              "81  [nice, save, point, night, previously, book, r...   \n",
              "\n",
              "                                           final_text  \n",
              "7   good luck book discount point fare trip europe...  \n",
              "24  thank point gambling right point fare cashchea...  \n",
              "36                    course feel free spend ton time  \n",
              "69  kind shocked able find singapore award availab...  \n",
              "81  nice save point night previously book reservation  "
            ],
            "text/html": [
              "\n",
              "  <div id=\"df-50d45f3b-e135-4f23-a895-12f937e42a3a\" class=\"colab-df-container\">\n",
              "    <div>\n",
              "<style scoped>\n",
              "    .dataframe tbody tr th:only-of-type {\n",
              "        vertical-align: middle;\n",
              "    }\n",
              "\n",
              "    .dataframe tbody tr th {\n",
              "        vertical-align: top;\n",
              "    }\n",
              "\n",
              "    .dataframe thead th {\n",
              "        text-align: right;\n",
              "    }\n",
              "</style>\n",
              "<table border=\"1\" class=\"dataframe\">\n",
              "  <thead>\n",
              "    <tr style=\"text-align: right;\">\n",
              "      <th></th>\n",
              "      <th>created_utc</th>\n",
              "      <th>label</th>\n",
              "      <th>score</th>\n",
              "      <th>cleaned_text</th>\n",
              "      <th>tokens</th>\n",
              "      <th>final_text</th>\n",
              "    </tr>\n",
              "  </thead>\n",
              "  <tbody>\n",
              "    <tr>\n",
              "      <th>7</th>\n",
              "      <td>2020-05-31</td>\n",
              "      <td>mild pos</td>\n",
              "      <td>0.598285</td>\n",
              "      <td>good luck booked one discount point fare trip ...</td>\n",
              "      <td>[good, luck, book, discount, point, fare, trip...</td>\n",
              "      <td>good luck book discount point fare trip europe...</td>\n",
              "    </tr>\n",
              "    <tr>\n",
              "      <th>24</th>\n",
              "      <td>2020-05-31</td>\n",
              "      <td>mild pos</td>\n",
              "      <td>0.588926</td>\n",
              "      <td>thanks pointing gambling right using point sin...</td>\n",
              "      <td>[thank, point, gambling, right, point, fare, c...</td>\n",
              "      <td>thank point gambling right point fare cashchea...</td>\n",
              "    </tr>\n",
              "    <tr>\n",
              "      <th>36</th>\n",
              "      <td>2020-05-30</td>\n",
              "      <td>mild pos</td>\n",
              "      <td>0.729096</td>\n",
              "      <td>course feel free spent ton time</td>\n",
              "      <td>[course, feel, free, spend, ton, time]</td>\n",
              "      <td>course feel free spend ton time</td>\n",
              "    </tr>\n",
              "    <tr>\n",
              "      <th>69</th>\n",
              "      <td>2020-05-29</td>\n",
              "      <td>mild pos</td>\n",
              "      <td>0.687201</td>\n",
              "      <td>kind shocked able find singapore award availab...</td>\n",
              "      <td>[kind, shocked, able, find, singapore, award, ...</td>\n",
              "      <td>kind shocked able find singapore award availab...</td>\n",
              "    </tr>\n",
              "    <tr>\n",
              "      <th>81</th>\n",
              "      <td>2020-05-29</td>\n",
              "      <td>mild pos</td>\n",
              "      <td>0.741639</td>\n",
              "      <td>nice saved point night previously booked reser...</td>\n",
              "      <td>[nice, save, point, night, previously, book, r...</td>\n",
              "      <td>nice save point night previously book reservation</td>\n",
              "    </tr>\n",
              "  </tbody>\n",
              "</table>\n",
              "</div>\n",
              "    <div class=\"colab-df-buttons\">\n",
              "\n",
              "  <div class=\"colab-df-container\">\n",
              "    <button class=\"colab-df-convert\" onclick=\"convertToInteractive('df-50d45f3b-e135-4f23-a895-12f937e42a3a')\"\n",
              "            title=\"Convert this dataframe to an interactive table.\"\n",
              "            style=\"display:none;\">\n",
              "\n",
              "  <svg xmlns=\"http://www.w3.org/2000/svg\" height=\"24px\" viewBox=\"0 -960 960 960\">\n",
              "    <path d=\"M120-120v-720h720v720H120Zm60-500h600v-160H180v160Zm220 220h160v-160H400v160Zm0 220h160v-160H400v160ZM180-400h160v-160H180v160Zm440 0h160v-160H620v160ZM180-180h160v-160H180v160Zm440 0h160v-160H620v160Z\"/>\n",
              "  </svg>\n",
              "    </button>\n",
              "\n",
              "  <style>\n",
              "    .colab-df-container {\n",
              "      display:flex;\n",
              "      gap: 12px;\n",
              "    }\n",
              "\n",
              "    .colab-df-convert {\n",
              "      background-color: #E8F0FE;\n",
              "      border: none;\n",
              "      border-radius: 50%;\n",
              "      cursor: pointer;\n",
              "      display: none;\n",
              "      fill: #1967D2;\n",
              "      height: 32px;\n",
              "      padding: 0 0 0 0;\n",
              "      width: 32px;\n",
              "    }\n",
              "\n",
              "    .colab-df-convert:hover {\n",
              "      background-color: #E2EBFA;\n",
              "      box-shadow: 0px 1px 2px rgba(60, 64, 67, 0.3), 0px 1px 3px 1px rgba(60, 64, 67, 0.15);\n",
              "      fill: #174EA6;\n",
              "    }\n",
              "\n",
              "    .colab-df-buttons div {\n",
              "      margin-bottom: 4px;\n",
              "    }\n",
              "\n",
              "    [theme=dark] .colab-df-convert {\n",
              "      background-color: #3B4455;\n",
              "      fill: #D2E3FC;\n",
              "    }\n",
              "\n",
              "    [theme=dark] .colab-df-convert:hover {\n",
              "      background-color: #434B5C;\n",
              "      box-shadow: 0px 1px 3px 1px rgba(0, 0, 0, 0.15);\n",
              "      filter: drop-shadow(0px 1px 2px rgba(0, 0, 0, 0.3));\n",
              "      fill: #FFFFFF;\n",
              "    }\n",
              "  </style>\n",
              "\n",
              "    <script>\n",
              "      const buttonEl =\n",
              "        document.querySelector('#df-50d45f3b-e135-4f23-a895-12f937e42a3a button.colab-df-convert');\n",
              "      buttonEl.style.display =\n",
              "        google.colab.kernel.accessAllowed ? 'block' : 'none';\n",
              "\n",
              "      async function convertToInteractive(key) {\n",
              "        const element = document.querySelector('#df-50d45f3b-e135-4f23-a895-12f937e42a3a');\n",
              "        const dataTable =\n",
              "          await google.colab.kernel.invokeFunction('convertToInteractive',\n",
              "                                                    [key], {});\n",
              "        if (!dataTable) return;\n",
              "\n",
              "        const docLinkHtml = 'Like what you see? Visit the ' +\n",
              "          '<a target=\"_blank\" href=https://colab.research.google.com/notebooks/data_table.ipynb>data table notebook</a>'\n",
              "          + ' to learn more about interactive tables.';\n",
              "        element.innerHTML = '';\n",
              "        dataTable['output_type'] = 'display_data';\n",
              "        await google.colab.output.renderOutput(dataTable, element);\n",
              "        const docLink = document.createElement('div');\n",
              "        docLink.innerHTML = docLinkHtml;\n",
              "        element.appendChild(docLink);\n",
              "      }\n",
              "    </script>\n",
              "  </div>\n",
              "\n",
              "\n",
              "    <div id=\"df-725c7c2f-5678-4502-9a52-bc77b416a39d\">\n",
              "      <button class=\"colab-df-quickchart\" onclick=\"quickchart('df-725c7c2f-5678-4502-9a52-bc77b416a39d')\"\n",
              "                title=\"Suggest charts\"\n",
              "                style=\"display:none;\">\n",
              "\n",
              "<svg xmlns=\"http://www.w3.org/2000/svg\" height=\"24px\"viewBox=\"0 0 24 24\"\n",
              "     width=\"24px\">\n",
              "    <g>\n",
              "        <path d=\"M19 3H5c-1.1 0-2 .9-2 2v14c0 1.1.9 2 2 2h14c1.1 0 2-.9 2-2V5c0-1.1-.9-2-2-2zM9 17H7v-7h2v7zm4 0h-2V7h2v10zm4 0h-2v-4h2v4z\"/>\n",
              "    </g>\n",
              "</svg>\n",
              "      </button>\n",
              "\n",
              "<style>\n",
              "  .colab-df-quickchart {\n",
              "      --bg-color: #E8F0FE;\n",
              "      --fill-color: #1967D2;\n",
              "      --hover-bg-color: #E2EBFA;\n",
              "      --hover-fill-color: #174EA6;\n",
              "      --disabled-fill-color: #AAA;\n",
              "      --disabled-bg-color: #DDD;\n",
              "  }\n",
              "\n",
              "  [theme=dark] .colab-df-quickchart {\n",
              "      --bg-color: #3B4455;\n",
              "      --fill-color: #D2E3FC;\n",
              "      --hover-bg-color: #434B5C;\n",
              "      --hover-fill-color: #FFFFFF;\n",
              "      --disabled-bg-color: #3B4455;\n",
              "      --disabled-fill-color: #666;\n",
              "  }\n",
              "\n",
              "  .colab-df-quickchart {\n",
              "    background-color: var(--bg-color);\n",
              "    border: none;\n",
              "    border-radius: 50%;\n",
              "    cursor: pointer;\n",
              "    display: none;\n",
              "    fill: var(--fill-color);\n",
              "    height: 32px;\n",
              "    padding: 0;\n",
              "    width: 32px;\n",
              "  }\n",
              "\n",
              "  .colab-df-quickchart:hover {\n",
              "    background-color: var(--hover-bg-color);\n",
              "    box-shadow: 0 1px 2px rgba(60, 64, 67, 0.3), 0 1px 3px 1px rgba(60, 64, 67, 0.15);\n",
              "    fill: var(--button-hover-fill-color);\n",
              "  }\n",
              "\n",
              "  .colab-df-quickchart-complete:disabled,\n",
              "  .colab-df-quickchart-complete:disabled:hover {\n",
              "    background-color: var(--disabled-bg-color);\n",
              "    fill: var(--disabled-fill-color);\n",
              "    box-shadow: none;\n",
              "  }\n",
              "\n",
              "  .colab-df-spinner {\n",
              "    border: 2px solid var(--fill-color);\n",
              "    border-color: transparent;\n",
              "    border-bottom-color: var(--fill-color);\n",
              "    animation:\n",
              "      spin 1s steps(1) infinite;\n",
              "  }\n",
              "\n",
              "  @keyframes spin {\n",
              "    0% {\n",
              "      border-color: transparent;\n",
              "      border-bottom-color: var(--fill-color);\n",
              "      border-left-color: var(--fill-color);\n",
              "    }\n",
              "    20% {\n",
              "      border-color: transparent;\n",
              "      border-left-color: var(--fill-color);\n",
              "      border-top-color: var(--fill-color);\n",
              "    }\n",
              "    30% {\n",
              "      border-color: transparent;\n",
              "      border-left-color: var(--fill-color);\n",
              "      border-top-color: var(--fill-color);\n",
              "      border-right-color: var(--fill-color);\n",
              "    }\n",
              "    40% {\n",
              "      border-color: transparent;\n",
              "      border-right-color: var(--fill-color);\n",
              "      border-top-color: var(--fill-color);\n",
              "    }\n",
              "    60% {\n",
              "      border-color: transparent;\n",
              "      border-right-color: var(--fill-color);\n",
              "    }\n",
              "    80% {\n",
              "      border-color: transparent;\n",
              "      border-right-color: var(--fill-color);\n",
              "      border-bottom-color: var(--fill-color);\n",
              "    }\n",
              "    90% {\n",
              "      border-color: transparent;\n",
              "      border-bottom-color: var(--fill-color);\n",
              "    }\n",
              "  }\n",
              "</style>\n",
              "\n",
              "      <script>\n",
              "        async function quickchart(key) {\n",
              "          const quickchartButtonEl =\n",
              "            document.querySelector('#' + key + ' button');\n",
              "          quickchartButtonEl.disabled = true;  // To prevent multiple clicks.\n",
              "          quickchartButtonEl.classList.add('colab-df-spinner');\n",
              "          try {\n",
              "            const charts = await google.colab.kernel.invokeFunction(\n",
              "                'suggestCharts', [key], {});\n",
              "          } catch (error) {\n",
              "            console.error('Error during call to suggestCharts:', error);\n",
              "          }\n",
              "          quickchartButtonEl.classList.remove('colab-df-spinner');\n",
              "          quickchartButtonEl.classList.add('colab-df-quickchart-complete');\n",
              "        }\n",
              "        (() => {\n",
              "          let quickchartButtonEl =\n",
              "            document.querySelector('#df-725c7c2f-5678-4502-9a52-bc77b416a39d button');\n",
              "          quickchartButtonEl.style.display =\n",
              "            google.colab.kernel.accessAllowed ? 'block' : 'none';\n",
              "        })();\n",
              "      </script>\n",
              "    </div>\n",
              "\n",
              "    </div>\n",
              "  </div>\n"
            ],
            "application/vnd.google.colaboratory.intrinsic+json": {
              "type": "dataframe",
              "variable_name": "high_pos_df",
              "summary": "{\n  \"name\": \"high_pos_df\",\n  \"rows\": 1800,\n  \"fields\": [\n    {\n      \"column\": \"created_utc\",\n      \"properties\": {\n        \"dtype\": \"date\",\n        \"min\": \"2020-01-09 00:00:00\",\n        \"max\": \"2020-05-31 00:00:00\",\n        \"num_unique_values\": 144,\n        \"samples\": [\n          \"2020-02-04 00:00:00\",\n          \"2020-05-12 00:00:00\",\n          \"2020-03-10 00:00:00\"\n        ],\n        \"semantic_type\": \"\",\n        \"description\": \"\"\n      }\n    },\n    {\n      \"column\": \"label\",\n      \"properties\": {\n        \"dtype\": \"category\",\n        \"num_unique_values\": 1,\n        \"samples\": [\n          \"mild pos\"\n        ],\n        \"semantic_type\": \"\",\n        \"description\": \"\"\n      }\n    },\n    {\n      \"column\": \"score\",\n      \"properties\": {\n        \"dtype\": \"number\",\n        \"std\": 0.05639089986829108,\n        \"min\": 0.513521671295166,\n        \"max\": 0.7499582171440125,\n        \"num_unique_values\": 1748,\n        \"samples\": [\n          0.6101744771003723\n        ],\n        \"semantic_type\": \"\",\n        \"description\": \"\"\n      }\n    },\n    {\n      \"column\": \"cleaned_text\",\n      \"properties\": {\n        \"dtype\": \"string\",\n        \"num_unique_values\": 1755,\n        \"samples\": [\n          \"ugh nothing covid july hot full sweaty european vacation gon na packed enjoy trip italian economy sure use tourism money\"\n        ],\n        \"semantic_type\": \"\",\n        \"description\": \"\"\n      }\n    },\n    {\n      \"column\": \"tokens\",\n      \"properties\": {\n        \"dtype\": \"object\",\n        \"semantic_type\": \"\",\n        \"description\": \"\"\n      }\n    },\n    {\n      \"column\": \"final_text\",\n      \"properties\": {\n        \"dtype\": \"string\",\n        \"num_unique_values\": 1740,\n        \"samples\": [\n          \"highly value international travel especially asia fact long term vision transfer point redemption find slightly tpgs valuation thank advice\"\n        ],\n        \"semantic_type\": \"\",\n        \"description\": \"\"\n      }\n    }\n  ]\n}"
            }
          },
          "metadata": {},
          "execution_count": 13
        }
      ],
      "source": [
        "# Filter the DataFrame\n",
        "high_pos_df = df[df['label'] == 'mild pos']\n",
        "\n",
        "# Convert the 'created_utc' column to datetime\n",
        "high_pos_df['created_utc'] = pd.to_datetime(high_pos_df['created_utc'])\n",
        "\n",
        "# Define your date range\n",
        "start_date = '2020-01-01'\n",
        "end_date = '2020-05-31'\n",
        "\n",
        "# Filter the DataFrame for entries within the specified date range\n",
        "high_pos_df = high_pos_df[(high_pos_df['created_utc'] >= start_date) & (high_pos_df['created_utc'] <= end_date)]\n",
        "\n",
        "\n",
        "# Print the filtered DataFrame to check the result\n",
        "high_pos_df.head()"
      ]
    },
    {
      "cell_type": "code",
      "execution_count": 14,
      "metadata": {
        "colab": {
          "base_uri": "https://localhost:8080/"
        },
        "id": "WD7b88xcsjCs",
        "outputId": "0ca8d627-0bec-407e-ba71-56634f1c43e9"
      },
      "outputs": [
        {
          "output_type": "execute_result",
          "data": {
            "text/plain": [
              "1800"
            ]
          },
          "metadata": {},
          "execution_count": 14
        }
      ],
      "source": [
        "high_pos_df.shape[0]"
      ]
    },
    {
      "cell_type": "code",
      "execution_count": 15,
      "metadata": {
        "colab": {
          "base_uri": "https://localhost:8080/",
          "height": 1000
        },
        "id": "iH7YFf16slT_",
        "outputId": "7718d61f-2ccc-4b43-f0b9-45c3c62c4936"
      },
      "outputs": [
        {
          "output_type": "stream",
          "name": "stdout",
          "text": [
            "      token  count\n",
            "0      good    537\n",
            "1    flight    525\n",
            "2     point    371\n",
            "3     thank    327\n",
            "4      book    323\n",
            "5      time    265\n",
            "6       fly    256\n",
            "7      well    249\n",
            "8      like    241\n",
            "9       get    240\n",
            "10     mile    225\n",
            "11     look    209\n",
            "12      day    205\n",
            "13   travel    201\n",
            "14     trip    199\n",
            "15     nice    196\n",
            "16     find    192\n",
            "17  airline    188\n",
            "18       go    186\n",
            "19    hotel    183\n",
            "20     year    178\n",
            "21    think    170\n",
            "22      way    170\n",
            "23     want    169\n",
            "24     stay    166\n",
            "25   ticket    163\n",
            "26    award    155\n",
            "27     know    149\n",
            "28    great    149\n",
            "29    night    144\n"
          ]
        },
        {
          "output_type": "display_data",
          "data": {
            "text/plain": [
              "<Figure size 640x480 with 1 Axes>"
            ],
            "image/png": "[encoded data removed]"
          },
          "metadata": {}
        }
      ],
      "source": [
        "from collections import Counter\n",
        "import pandas as pd\n",
        "import matplotlib.pyplot as plt\n",
        "\n",
        "# 1) Flatten your tokens into one long list\n",
        "all_tokens = [t for toks in high_pos_df['tokens'] for t in toks]\n",
        "\n",
        "# 2) Build a frequency distribution\n",
        "freq = Counter(all_tokens)\n",
        "common = freq.most_common(30)   # top 30\n",
        "\n",
        "# 3) Turn it into a DataFrame for easy inspection\n",
        "df_freq = pd.DataFrame(common, columns=['token','count'])\n",
        "print(df_freq)\n",
        "\n",
        "# 4) Plot a simple bar chart of the top tokens\n",
        "tokens, counts = zip(*common)\n",
        "plt.figure()\n",
        "plt.bar(tokens, counts)\n",
        "plt.xticks(rotation=45, ha='right')\n",
        "plt.xlabel('Token')\n",
        "plt.ylabel('Frequency')\n",
        "plt.title('Top 30 Tokens in high_pos_df')\n",
        "plt.tight_layout()\n",
        "plt.show()"
      ]
    },
    {
      "cell_type": "code",
      "execution_count": 16,
      "metadata": {
        "colab": {
          "base_uri": "https://localhost:8080/"
        },
        "id": "wrNou6iFoQTq",
        "outputId": "23a1068b-a5ed-4035-8b83-52f4117dd443"
      },
      "outputs": [
        {
          "output_type": "stream",
          "name": "stdout",
          "text": [
            "35696 words total, with a vocabulary size of 5142\n",
            "Max reddit post length is 223 tokens\n",
            "Mean reddit post length is 19.83 tokens\n",
            "Median reddit post length is 13 tokens\n"
          ]
        }
      ],
      "source": [
        "# Flatten all tokens into one list\n",
        "all_words   = [word for tokens in high_pos_df['tokens'] for word in tokens]\n",
        "\n",
        "# Compute the length (in tokens) of each post\n",
        "post_length = [len(tokens) for tokens in high_pos_df['tokens']]\n",
        "\n",
        "# Build the vocabulary\n",
        "vocab       = sorted(set(all_words))\n",
        "\n",
        "# Print your summary stats\n",
        "print(f\"{len(all_words)} words total, with a vocabulary size of {len(vocab)}\")\n",
        "print(f\"Max reddit post length is {max(post_length)} tokens\")\n",
        "print(f\"Mean reddit post length is {sum(post_length)/len(post_length):.2f} tokens\")\n",
        "print(f\"Median reddit post length is {sorted(post_length)[len(post_length)//2]} tokens\")\n"
      ]
    },
    {
      "cell_type": "code",
      "execution_count": 17,
      "metadata": {
        "colab": {
          "base_uri": "https://localhost:8080/",
          "height": 727
        },
        "id": "JokXufzvpthU",
        "outputId": "9bdab032-2c60-41dc-ace7-2473fa3e269d"
      },
      "outputs": [
        {
          "output_type": "display_data",
          "data": {
            "text/plain": [
              "<Figure size 1500x800 with 1 Axes>"
            ],
            "image/png": "[encoded data removed]"
          },
          "metadata": {}
        }
      ],
      "source": [
        "plt.figure(figsize=(15, 8))\n",
        "sns.histplot(post_length, bins=60, kde=True)\n",
        "plt.title('Post Length Distribution', fontsize=18)\n",
        "plt.xlabel('Words per Post', fontsize=12)\n",
        "plt.ylabel('Number of Posts', fontsize=12)\n",
        "# Setting x-axis ticks and labels for more detail\n",
        "max_length = max(post_length)\n",
        "xticks = np.arange(0, max_length + 1, max_length // 60)  # Adjust the step size as needed\n",
        "plt.xticks(xticks)\n",
        "plt.show()"
      ]
    },
    {
      "cell_type": "code",
      "execution_count": 18,
      "metadata": {
        "colab": {
          "base_uri": "https://localhost:8080/"
        },
        "id": "n1yeytbRvYKq",
        "outputId": "93141384-17f7-4919-9325-e3ecf1388781"
      },
      "outputs": [
        {
          "output_type": "stream",
          "name": "stdout",
          "text": [
            "Requirement already satisfied: gensim in /usr/local/lib/python3.11/dist-packages (4.3.3)\n",
            "Requirement already satisfied: numpy<2.0,>=1.18.5 in /usr/local/lib/python3.11/dist-packages (from gensim) (1.26.4)\n",
            "Requirement already satisfied: scipy<1.14.0,>=1.7.0 in /usr/local/lib/python3.11/dist-packages (from gensim) (1.13.1)\n",
            "Requirement already satisfied: smart-open>=1.8.1 in /usr/local/lib/python3.11/dist-packages (from gensim) (7.1.0)\n",
            "Requirement already satisfied: wrapt in /usr/local/lib/python3.11/dist-packages (from smart-open>=1.8.1->gensim) (1.17.2)\n"
          ]
        }
      ],
      "source": [
        "\n",
        "#1) Downgrade NumPy to 1.26.x\n",
        "# !pip install numpy==1.26.0 --upgrade\n",
        "\n",
        "# # 2) Force-reinstall Gensim so it compiles against the new NumPy\n",
        "# !pip install --upgrade --force-reinstall gensim\n",
        "\n",
        "!pip install  gensim\n",
        "\n"
      ]
    },
    {
      "cell_type": "code",
      "execution_count": 19,
      "metadata": {
        "colab": {
          "base_uri": "https://localhost:8080/"
        },
        "id": "QpM_ionbojQt",
        "outputId": "5719ffb4-f7c1-4dae-8eab-5214bc79ef2d"
      },
      "outputs": [
        {
          "output_type": "stream",
          "name": "stdout",
          "text": [
            "                                               tokens  \\\n",
            "7   [good, luck, book, discount, point, fare, trip...   \n",
            "24  [thank, point, gambling, right, point, fare, c...   \n",
            "36             [course, feel, free, spend, ton, time]   \n",
            "69  [kind, shocked, able, find, singapore, award, ...   \n",
            "81  [nice, save, point, night, previously, book, r...   \n",
            "\n",
            "                                        bigram_tokens  \\\n",
            "7   [good, luck, book, discount, point, fare, trip...   \n",
            "24  [thank, point, gambling, right, point, fare, c...   \n",
            "36             [course, feel, free, spend, ton, time]   \n",
            "69  [kind, shocked, able, find, singapore, award, ...   \n",
            "81  [nice, save, point, night, previously, book, r...   \n",
            "\n",
            "                                       trigram_tokens  \n",
            "7   [good, luck, book, discount, point, fare, trip...  \n",
            "24  [thank, point, gambling, right, point, fare, c...  \n",
            "36             [course, feel, free, spend, ton, time]  \n",
            "69  [kind, shocked, able, find, singapore, award, ...  \n",
            "81  [nice, save, point, night, previously, book, r...  \n"
          ]
        }
      ],
      "source": [
        "import gensim\n",
        "from gensim.models import Phrases\n",
        "from gensim.models.phrases import Phraser\n",
        "\n",
        "# 1) Prepare your list-of-lists from the `tokens` column\n",
        "texts = high_pos_df['tokens'].tolist()\n",
        "\n",
        "#    min_count=3 → only consider pairs that appear in ≥3 docs\n",
        "#    threshold=50 → higher threshold = fewer, more confident bigrams\n",
        "# 2) Train the bigram detector\n",
        "bigram = Phrases(texts, min_count=3, threshold=50)\n",
        "bigram_mod = Phraser(bigram)\n",
        "\n",
        "# 3) Train the trigram detector on the bigram-transformed texts\n",
        "trigram = Phrases(bigram[texts], min_count=2, threshold=150)\n",
        "trigram_mod = Phraser(trigram)\n",
        "\n",
        "# 4) Apply bigram and trigram transforms\n",
        "high_pos_df['bigram_tokens']   = high_pos_df['tokens'].apply(lambda doc: bigram_mod[doc])\n",
        "high_pos_df['trigram_tokens']  = high_pos_df['tokens'].apply(lambda doc: trigram_mod[bigram_mod[doc]])\n",
        "\n",
        "# # 5) (Optional) If you need back a single string for vectorizers:\n",
        "# high_pos_df['bigram_text']   = high_pos_df['bigram_tokens'].str.join(' ')\n",
        "# high_pos_df['trigram_text']  = high_pos_df['trigram_tokens'].str.join(' ')\n",
        "\n",
        "# 6) Inspect\n",
        "print(high_pos_df[['tokens','bigram_tokens','trigram_tokens']].head())\n"
      ]
    },
    {
      "cell_type": "code",
      "execution_count": 20,
      "metadata": {
        "colab": {
          "base_uri": "https://localhost:8080/"
        },
        "id": "nZQn2MSqp1f9",
        "outputId": "05093ac3-9790-4af3-d753-fca75f88cb33"
      },
      "outputs": [
        {
          "output_type": "stream",
          "name": "stdout",
          "text": [
            "Rows with bigrams:   397\n",
            "Rows with trigrams:  14\n",
            "Rows with no n-grams: 1403\n"
          ]
        }
      ],
      "source": [
        "# 1) Helper to detect n-grams in a token list\n",
        "def contains_ngram(tokenized_list, n):\n",
        "    return any(len(tok.split('_')) == n for tok in tokenized_list)\n",
        "\n",
        "# 2) Flag rows\n",
        "high_pos_df['has_bigrams']  = high_pos_df['bigram_tokens'].apply(lambda doc: contains_ngram(doc, 2))\n",
        "high_pos_df['has_trigrams'] = high_pos_df['trigram_tokens'].apply(lambda doc: contains_ngram(doc, 3))\n",
        "\n",
        "# 3) Count\n",
        "rows_with_bigrams  = high_pos_df['has_bigrams'].sum()\n",
        "rows_with_trigrams = high_pos_df['has_trigrams'].sum()\n",
        "rows_with_none     = (~high_pos_df['has_bigrams'] & ~high_pos_df['has_trigrams']).sum()\n",
        "\n",
        "# 4) Report\n",
        "print(f\"Rows with bigrams:   {rows_with_bigrams}\")\n",
        "print(f\"Rows with trigrams:  {rows_with_trigrams}\")\n",
        "print(f\"Rows with no n-grams: {rows_with_none}\")\n"
      ]
    },
    {
      "cell_type": "code",
      "execution_count": 21,
      "metadata": {
        "colab": {
          "base_uri": "https://localhost:8080/",
          "height": 293
        },
        "id": "negWzwRYz_W-",
        "outputId": "3c15588c-06b6-406b-cf9a-a2ba2c0c45bf"
      },
      "outputs": [
        {
          "output_type": "execute_result",
          "data": {
            "text/plain": [
              "   created_utc     label     score  \\\n",
              "7   2020-05-31  mild pos  0.598285   \n",
              "24  2020-05-31  mild pos  0.588926   \n",
              "36  2020-05-30  mild pos  0.729096   \n",
              "69  2020-05-29  mild pos  0.687201   \n",
              "81  2020-05-29  mild pos  0.741639   \n",
              "\n",
              "                                         cleaned_text  \\\n",
              "7   good luck booked one discount point fare trip ...   \n",
              "24  thanks pointing gambling right using point sin...   \n",
              "36                    course feel free spent ton time   \n",
              "69  kind shocked able find singapore award availab...   \n",
              "81  nice saved point night previously booked reser...   \n",
              "\n",
              "                                               tokens  \\\n",
              "7   [good, luck, book, discount, point, fare, trip...   \n",
              "24  [thank, point, gambling, right, point, fare, c...   \n",
              "36             [course, feel, free, spend, ton, time]   \n",
              "69  [kind, shocked, able, find, singapore, award, ...   \n",
              "81  [nice, save, point, night, previously, book, r...   \n",
              "\n",
              "                                           final_text  \\\n",
              "7   good luck book discount point fare trip europe...   \n",
              "24  thank point gambling right point fare cashchea...   \n",
              "36                    course feel free spend ton time   \n",
              "69  kind shocked able find singapore award availab...   \n",
              "81  nice save point night previously book reservation   \n",
              "\n",
              "                                        bigram_tokens  \\\n",
              "7   [good, luck, book, discount, point, fare, trip...   \n",
              "24  [thank, point, gambling, right, point, fare, c...   \n",
              "36             [course, feel, free, spend, ton, time]   \n",
              "69  [kind, shocked, able, find, singapore, award, ...   \n",
              "81  [nice, save, point, night, previously, book, r...   \n",
              "\n",
              "                                       trigram_tokens  has_bigrams  \\\n",
              "7   [good, luck, book, discount, point, fare, trip...        False   \n",
              "24  [thank, point, gambling, right, point, fare, c...        False   \n",
              "36             [course, feel, free, spend, ton, time]        False   \n",
              "69  [kind, shocked, able, find, singapore, award, ...         True   \n",
              "81  [nice, save, point, night, previously, book, r...        False   \n",
              "\n",
              "    has_trigrams  \n",
              "7          False  \n",
              "24         False  \n",
              "36         False  \n",
              "69         False  \n",
              "81         False  "
            ],
            "text/html": [
              "\n",
              "  <div id=\"df-c2d61dad-c2ec-4573-9376-a7ead9a6c569\" class=\"colab-df-container\">\n",
              "    <div>\n",
              "<style scoped>\n",
              "    .dataframe tbody tr th:only-of-type {\n",
              "        vertical-align: middle;\n",
              "    }\n",
              "\n",
              "    .dataframe tbody tr th {\n",
              "        vertical-align: top;\n",
              "    }\n",
              "\n",
              "    .dataframe thead th {\n",
              "        text-align: right;\n",
              "    }\n",
              "</style>\n",
              "<table border=\"1\" class=\"dataframe\">\n",
              "  <thead>\n",
              "    <tr style=\"text-align: right;\">\n",
              "      <th></th>\n",
              "      <th>created_utc</th>\n",
              "      <th>label</th>\n",
              "      <th>score</th>\n",
              "      <th>cleaned_text</th>\n",
              "      <th>tokens</th>\n",
              "      <th>final_text</th>\n",
              "      <th>bigram_tokens</th>\n",
              "      <th>trigram_tokens</th>\n",
              "      <th>has_bigrams</th>\n",
              "      <th>has_trigrams</th>\n",
              "    </tr>\n",
              "  </thead>\n",
              "  <tbody>\n",
              "    <tr>\n",
              "      <th>7</th>\n",
              "      <td>2020-05-31</td>\n",
              "      <td>mild pos</td>\n",
              "      <td>0.598285</td>\n",
              "      <td>good luck booked one discount point fare trip ...</td>\n",
              "      <td>[good, luck, book, discount, point, fare, trip...</td>\n",
              "      <td>good luck book discount point fare trip europe...</td>\n",
              "      <td>[good, luck, book, discount, point, fare, trip...</td>\n",
              "      <td>[good, luck, book, discount, point, fare, trip...</td>\n",
              "      <td>False</td>\n",
              "      <td>False</td>\n",
              "    </tr>\n",
              "    <tr>\n",
              "      <th>24</th>\n",
              "      <td>2020-05-31</td>\n",
              "      <td>mild pos</td>\n",
              "      <td>0.588926</td>\n",
              "      <td>thanks pointing gambling right using point sin...</td>\n",
              "      <td>[thank, point, gambling, right, point, fare, c...</td>\n",
              "      <td>thank point gambling right point fare cashchea...</td>\n",
              "      <td>[thank, point, gambling, right, point, fare, c...</td>\n",
              "      <td>[thank, point, gambling, right, point, fare, c...</td>\n",
              "      <td>False</td>\n",
              "      <td>False</td>\n",
              "    </tr>\n",
              "    <tr>\n",
              "      <th>36</th>\n",
              "      <td>2020-05-30</td>\n",
              "      <td>mild pos</td>\n",
              "      <td>0.729096</td>\n",
              "      <td>course feel free spent ton time</td>\n",
              "      <td>[course, feel, free, spend, ton, time]</td>\n",
              "      <td>course feel free spend ton time</td>\n",
              "      <td>[course, feel, free, spend, ton, time]</td>\n",
              "      <td>[course, feel, free, spend, ton, time]</td>\n",
              "      <td>False</td>\n",
              "      <td>False</td>\n",
              "    </tr>\n",
              "    <tr>\n",
              "      <th>69</th>\n",
              "      <td>2020-05-29</td>\n",
              "      <td>mild pos</td>\n",
              "      <td>0.687201</td>\n",
              "      <td>kind shocked able find singapore award availab...</td>\n",
              "      <td>[kind, shocked, able, find, singapore, award, ...</td>\n",
              "      <td>kind shocked able find singapore award availab...</td>\n",
              "      <td>[kind, shocked, able, find, singapore, award, ...</td>\n",
              "      <td>[kind, shocked, able, find, singapore, award, ...</td>\n",
              "      <td>True</td>\n",
              "      <td>False</td>\n",
              "    </tr>\n",
              "    <tr>\n",
              "      <th>81</th>\n",
              "      <td>2020-05-29</td>\n",
              "      <td>mild pos</td>\n",
              "      <td>0.741639</td>\n",
              "      <td>nice saved point night previously booked reser...</td>\n",
              "      <td>[nice, save, point, night, previously, book, r...</td>\n",
              "      <td>nice save point night previously book reservation</td>\n",
              "      <td>[nice, save, point, night, previously, book, r...</td>\n",
              "      <td>[nice, save, point, night, previously, book, r...</td>\n",
              "      <td>False</td>\n",
              "      <td>False</td>\n",
              "    </tr>\n",
              "  </tbody>\n",
              "</table>\n",
              "</div>\n",
              "    <div class=\"colab-df-buttons\">\n",
              "\n",
              "  <div class=\"colab-df-container\">\n",
              "    <button class=\"colab-df-convert\" onclick=\"convertToInteractive('df-c2d61dad-c2ec-4573-9376-a7ead9a6c569')\"\n",
              "            title=\"Convert this dataframe to an interactive table.\"\n",
              "            style=\"display:none;\">\n",
              "\n",
              "  <svg xmlns=\"http://www.w3.org/2000/svg\" height=\"24px\" viewBox=\"0 -960 960 960\">\n",
              "    <path d=\"M120-120v-720h720v720H120Zm60-500h600v-160H180v160Zm220 220h160v-160H400v160Zm0 220h160v-160H400v160ZM180-400h160v-160H180v160Zm440 0h160v-160H620v160ZM180-180h160v-160H180v160Zm440 0h160v-160H620v160Z\"/>\n",
              "  </svg>\n",
              "    </button>\n",
              "\n",
              "  <style>\n",
              "    .colab-df-container {\n",
              "      display:flex;\n",
              "      gap: 12px;\n",
              "    }\n",
              "\n",
              "    .colab-df-convert {\n",
              "      background-color: #E8F0FE;\n",
              "      border: none;\n",
              "      border-radius: 50%;\n",
              "      cursor: pointer;\n",
              "      display: none;\n",
              "      fill: #1967D2;\n",
              "      height: 32px;\n",
              "      padding: 0 0 0 0;\n",
              "      width: 32px;\n",
              "    }\n",
              "\n",
              "    .colab-df-convert:hover {\n",
              "      background-color: #E2EBFA;\n",
              "      box-shadow: 0px 1px 2px rgba(60, 64, 67, 0.3), 0px 1px 3px 1px rgba(60, 64, 67, 0.15);\n",
              "      fill: #174EA6;\n",
              "    }\n",
              "\n",
              "    .colab-df-buttons div {\n",
              "      margin-bottom: 4px;\n",
              "    }\n",
              "\n",
              "    [theme=dark] .colab-df-convert {\n",
              "      background-color: #3B4455;\n",
              "      fill: #D2E3FC;\n",
              "    }\n",
              "\n",
              "    [theme=dark] .colab-df-convert:hover {\n",
              "      background-color: #434B5C;\n",
              "      box-shadow: 0px 1px 3px 1px rgba(0, 0, 0, 0.15);\n",
              "      filter: drop-shadow(0px 1px 2px rgba(0, 0, 0, 0.3));\n",
              "      fill: #FFFFFF;\n",
              "    }\n",
              "  </style>\n",
              "\n",
              "    <script>\n",
              "      const buttonEl =\n",
              "        document.querySelector('#df-c2d61dad-c2ec-4573-9376-a7ead9a6c569 button.colab-df-convert');\n",
              "      buttonEl.style.display =\n",
              "        google.colab.kernel.accessAllowed ? 'block' : 'none';\n",
              "\n",
              "      async function convertToInteractive(key) {\n",
              "        const element = document.querySelector('#df-c2d61dad-c2ec-4573-9376-a7ead9a6c569');\n",
              "        const dataTable =\n",
              "          await google.colab.kernel.invokeFunction('convertToInteractive',\n",
              "                                                    [key], {});\n",
              "        if (!dataTable) return;\n",
              "\n",
              "        const docLinkHtml = 'Like what you see? Visit the ' +\n",
              "          '<a target=\"_blank\" href=https://colab.research.google.com/notebooks/data_table.ipynb>data table notebook</a>'\n",
              "          + ' to learn more about interactive tables.';\n",
              "        element.innerHTML = '';\n",
              "        dataTable['output_type'] = 'display_data';\n",
              "        await google.colab.output.renderOutput(dataTable, element);\n",
              "        const docLink = document.createElement('div');\n",
              "        docLink.innerHTML = docLinkHtml;\n",
              "        element.appendChild(docLink);\n",
              "      }\n",
              "    </script>\n",
              "  </div>\n",
              "\n",
              "\n",
              "    <div id=\"df-81f01393-50d1-49bf-a153-0101bffe93e8\">\n",
              "      <button class=\"colab-df-quickchart\" onclick=\"quickchart('df-81f01393-50d1-49bf-a153-0101bffe93e8')\"\n",
              "                title=\"Suggest charts\"\n",
              "                style=\"display:none;\">\n",
              "\n",
              "<svg xmlns=\"http://www.w3.org/2000/svg\" height=\"24px\"viewBox=\"0 0 24 24\"\n",
              "     width=\"24px\">\n",
              "    <g>\n",
              "        <path d=\"M19 3H5c-1.1 0-2 .9-2 2v14c0 1.1.9 2 2 2h14c1.1 0 2-.9 2-2V5c0-1.1-.9-2-2-2zM9 17H7v-7h2v7zm4 0h-2V7h2v10zm4 0h-2v-4h2v4z\"/>\n",
              "    </g>\n",
              "</svg>\n",
              "      </button>\n",
              "\n",
              "<style>\n",
              "  .colab-df-quickchart {\n",
              "      --bg-color: #E8F0FE;\n",
              "      --fill-color: #1967D2;\n",
              "      --hover-bg-color: #E2EBFA;\n",
              "      --hover-fill-color: #174EA6;\n",
              "      --disabled-fill-color: #AAA;\n",
              "      --disabled-bg-color: #DDD;\n",
              "  }\n",
              "\n",
              "  [theme=dark] .colab-df-quickchart {\n",
              "      --bg-color: #3B4455;\n",
              "      --fill-color: #D2E3FC;\n",
              "      --hover-bg-color: #434B5C;\n",
              "      --hover-fill-color: #FFFFFF;\n",
              "      --disabled-bg-color: #3B4455;\n",
              "      --disabled-fill-color: #666;\n",
              "  }\n",
              "\n",
              "  .colab-df-quickchart {\n",
              "    background-color: var(--bg-color);\n",
              "    border: none;\n",
              "    border-radius: 50%;\n",
              "    cursor: pointer;\n",
              "    display: none;\n",
              "    fill: var(--fill-color);\n",
              "    height: 32px;\n",
              "    padding: 0;\n",
              "    width: 32px;\n",
              "  }\n",
              "\n",
              "  .colab-df-quickchart:hover {\n",
              "    background-color: var(--hover-bg-color);\n",
              "    box-shadow: 0 1px 2px rgba(60, 64, 67, 0.3), 0 1px 3px 1px rgba(60, 64, 67, 0.15);\n",
              "    fill: var(--button-hover-fill-color);\n",
              "  }\n",
              "\n",
              "  .colab-df-quickchart-complete:disabled,\n",
              "  .colab-df-quickchart-complete:disabled:hover {\n",
              "    background-color: var(--disabled-bg-color);\n",
              "    fill: var(--disabled-fill-color);\n",
              "    box-shadow: none;\n",
              "  }\n",
              "\n",
              "  .colab-df-spinner {\n",
              "    border: 2px solid var(--fill-color);\n",
              "    border-color: transparent;\n",
              "    border-bottom-color: var(--fill-color);\n",
              "    animation:\n",
              "      spin 1s steps(1) infinite;\n",
              "  }\n",
              "\n",
              "  @keyframes spin {\n",
              "    0% {\n",
              "      border-color: transparent;\n",
              "      border-bottom-color: var(--fill-color);\n",
              "      border-left-color: var(--fill-color);\n",
              "    }\n",
              "    20% {\n",
              "      border-color: transparent;\n",
              "      border-left-color: var(--fill-color);\n",
              "      border-top-color: var(--fill-color);\n",
              "    }\n",
              "    30% {\n",
              "      border-color: transparent;\n",
              "      border-left-color: var(--fill-color);\n",
              "      border-top-color: var(--fill-color);\n",
              "      border-right-color: var(--fill-color);\n",
              "    }\n",
              "    40% {\n",
              "      border-color: transparent;\n",
              "      border-right-color: var(--fill-color);\n",
              "      border-top-color: var(--fill-color);\n",
              "    }\n",
              "    60% {\n",
              "      border-color: transparent;\n",
              "      border-right-color: var(--fill-color);\n",
              "    }\n",
              "    80% {\n",
              "      border-color: transparent;\n",
              "      border-right-color: var(--fill-color);\n",
              "      border-bottom-color: var(--fill-color);\n",
              "    }\n",
              "    90% {\n",
              "      border-color: transparent;\n",
              "      border-bottom-color: var(--fill-color);\n",
              "    }\n",
              "  }\n",
              "</style>\n",
              "\n",
              "      <script>\n",
              "        async function quickchart(key) {\n",
              "          const quickchartButtonEl =\n",
              "            document.querySelector('#' + key + ' button');\n",
              "          quickchartButtonEl.disabled = true;  // To prevent multiple clicks.\n",
              "          quickchartButtonEl.classList.add('colab-df-spinner');\n",
              "          try {\n",
              "            const charts = await google.colab.kernel.invokeFunction(\n",
              "                'suggestCharts', [key], {});\n",
              "          } catch (error) {\n",
              "            console.error('Error during call to suggestCharts:', error);\n",
              "          }\n",
              "          quickchartButtonEl.classList.remove('colab-df-spinner');\n",
              "          quickchartButtonEl.classList.add('colab-df-quickchart-complete');\n",
              "        }\n",
              "        (() => {\n",
              "          let quickchartButtonEl =\n",
              "            document.querySelector('#df-81f01393-50d1-49bf-a153-0101bffe93e8 button');\n",
              "          quickchartButtonEl.style.display =\n",
              "            google.colab.kernel.accessAllowed ? 'block' : 'none';\n",
              "        })();\n",
              "      </script>\n",
              "    </div>\n",
              "\n",
              "    </div>\n",
              "  </div>\n"
            ],
            "application/vnd.google.colaboratory.intrinsic+json": {
              "type": "dataframe",
              "variable_name": "high_pos_df",
              "summary": "{\n  \"name\": \"high_pos_df\",\n  \"rows\": 1800,\n  \"fields\": [\n    {\n      \"column\": \"created_utc\",\n      \"properties\": {\n        \"dtype\": \"date\",\n        \"min\": \"2020-01-09 00:00:00\",\n        \"max\": \"2020-05-31 00:00:00\",\n        \"num_unique_values\": 144,\n        \"samples\": [\n          \"2020-02-04 00:00:00\",\n          \"2020-05-12 00:00:00\",\n          \"2020-03-10 00:00:00\"\n        ],\n        \"semantic_type\": \"\",\n        \"description\": \"\"\n      }\n    },\n    {\n      \"column\": \"label\",\n      \"properties\": {\n        \"dtype\": \"category\",\n        \"num_unique_values\": 1,\n        \"samples\": [\n          \"mild pos\"\n        ],\n        \"semantic_type\": \"\",\n        \"description\": \"\"\n      }\n    },\n    {\n      \"column\": \"score\",\n      \"properties\": {\n        \"dtype\": \"number\",\n        \"std\": 0.05639089986829108,\n        \"min\": 0.513521671295166,\n        \"max\": 0.7499582171440125,\n        \"num_unique_values\": 1748,\n        \"samples\": [\n          0.6101744771003723\n        ],\n        \"semantic_type\": \"\",\n        \"description\": \"\"\n      }\n    },\n    {\n      \"column\": \"cleaned_text\",\n      \"properties\": {\n        \"dtype\": \"string\",\n        \"num_unique_values\": 1755,\n        \"samples\": [\n          \"ugh nothing covid july hot full sweaty european vacation gon na packed enjoy trip italian economy sure use tourism money\"\n        ],\n        \"semantic_type\": \"\",\n        \"description\": \"\"\n      }\n    },\n    {\n      \"column\": \"tokens\",\n      \"properties\": {\n        \"dtype\": \"object\",\n        \"semantic_type\": \"\",\n        \"description\": \"\"\n      }\n    },\n    {\n      \"column\": \"final_text\",\n      \"properties\": {\n        \"dtype\": \"string\",\n        \"num_unique_values\": 1740,\n        \"samples\": [\n          \"highly value international travel especially asia fact long term vision transfer point redemption find slightly tpgs valuation thank advice\"\n        ],\n        \"semantic_type\": \"\",\n        \"description\": \"\"\n      }\n    },\n    {\n      \"column\": \"bigram_tokens\",\n      \"properties\": {\n        \"dtype\": \"object\",\n        \"semantic_type\": \"\",\n        \"description\": \"\"\n      }\n    },\n    {\n      \"column\": \"trigram_tokens\",\n      \"properties\": {\n        \"dtype\": \"object\",\n        \"semantic_type\": \"\",\n        \"description\": \"\"\n      }\n    },\n    {\n      \"column\": \"has_bigrams\",\n      \"properties\": {\n        \"dtype\": \"boolean\",\n        \"num_unique_values\": 2,\n        \"samples\": [\n          true\n        ],\n        \"semantic_type\": \"\",\n        \"description\": \"\"\n      }\n    },\n    {\n      \"column\": \"has_trigrams\",\n      \"properties\": {\n        \"dtype\": \"boolean\",\n        \"num_unique_values\": 2,\n        \"samples\": [\n          true\n        ],\n        \"semantic_type\": \"\",\n        \"description\": \"\"\n      }\n    }\n  ]\n}"
            }
          },
          "metadata": {},
          "execution_count": 21
        }
      ],
      "source": [
        "high_pos_df.head()"
      ]
    },
    {
      "cell_type": "code",
      "execution_count": 22,
      "metadata": {
        "colab": {
          "base_uri": "https://localhost:8080/"
        },
        "id": "f7ccUmhjy9yX",
        "outputId": "d9559386-4c7c-4b1f-99c1-4db0677172ee"
      },
      "outputs": [
        {
          "output_type": "stream",
          "name": "stdout",
          "text": [
            "Total number of rows in the DataFrame: 1800\n",
            "Number of rows in 'trigram_tokenized' column: 1800\n"
          ]
        }
      ],
      "source": [
        "# Print the total number of rows in the DataFrame\n",
        "total_rows = high_pos_df.shape[0]\n",
        "print(f\"Total number of rows in the DataFrame: {total_rows}\")\n",
        "\n",
        "# Check the number of rows in the 'trigram_tokenized' column\n",
        "print(f\"Number of rows in 'trigram_tokenized' column: {high_pos_df['trigram_tokens'].shape[0]}\")"
      ]
    },
    {
      "cell_type": "code",
      "source": [
        "import itertools\n",
        "from collections import Counter\n",
        "\n",
        "# 1) Flatten all trigram lists into one big sequence\n",
        "all_bigrams = itertools.chain.from_iterable(high_pos_df['bigram_tokens'])\n",
        "\n",
        "# 2) Filter for genuine trigrams (exactly two underscores → three words joined)\n",
        "bigram_counts = Counter(\n",
        "    token for token in all_bigrams\n",
        "    if isinstance(token, str) and token.count('_') == 1\n",
        ")\n",
        "\n",
        "# 3) How many unique trigrams?\n",
        "total_unique_bigrams = len(bigram_counts)\n",
        "print(f\"Total number of unique bigrams: {total_unique_bigrams}\")\n",
        "\n",
        "# 4) Show the 10 most common trigrams\n",
        "print(\"\\nMost common bigrams:\")\n",
        "for bigram, count in bigram_counts.most_common(10):\n",
        "    print(f\"{bigram}: {count:,}\")\n"
      ],
      "metadata": {
        "colab": {
          "base_uri": "https://localhost:8080/"
        },
        "id": "9CnA4ROfW6Oq",
        "outputId": "79db7c1b-9b05-4fdc-a398-f3d59b821723"
      },
      "execution_count": 23,
      "outputs": [
        {
          "output_type": "stream",
          "name": "stdout",
          "text": [
            "Total number of unique bigrams: 86\n",
            "\n",
            "Most common bigrams:\n",
            "business_class: 37\n",
            "credit_card: 28\n",
            "park_hyatt: 18\n",
            "award_space: 17\n",
            "chase_portal: 17\n",
            "premium_cabin: 16\n",
            "year_ago: 15\n",
            "round_trip: 15\n",
            "sound_like: 14\n",
            "air_france: 13\n"
          ]
        }
      ]
    },
    {
      "cell_type": "code",
      "execution_count": 24,
      "metadata": {
        "colab": {
          "base_uri": "https://localhost:8080/"
        },
        "id": "rT_nVWWxg2pW",
        "outputId": "0c606841-c96f-4680-db3a-44531ebed228"
      },
      "outputs": [
        {
          "output_type": "stream",
          "name": "stdout",
          "text": [
            "Total number of unique trigrams: 2\n",
            "\n",
            "Most common trigrams:\n",
            "stop_reply_comment: 9\n",
            "free_night_cert: 6\n"
          ]
        }
      ],
      "source": [
        "import itertools\n",
        "from collections import Counter\n",
        "\n",
        "# 1) Flatten all trigram lists into one big sequence\n",
        "all_trigrams = itertools.chain.from_iterable(high_pos_df['trigram_tokens'])\n",
        "\n",
        "# 2) Filter for genuine trigrams (exactly two underscores → three words joined)\n",
        "trigram_counts = Counter(\n",
        "    token for token in all_trigrams\n",
        "    if isinstance(token, str) and token.count('_') == 2\n",
        ")\n",
        "\n",
        "# 3) How many unique trigrams?\n",
        "total_unique_trigrams = len(trigram_counts)\n",
        "print(f\"Total number of unique trigrams: {total_unique_trigrams}\")\n",
        "\n",
        "# 4) Show the 10 most common trigrams\n",
        "print(\"\\nMost common trigrams:\")\n",
        "for trigram, count in trigram_counts.most_common(10):\n",
        "    print(f\"{trigram}: {count:,}\")\n"
      ]
    },
    {
      "cell_type": "code",
      "execution_count": 25,
      "metadata": {
        "id": "eN3qkhQnHNv-"
      },
      "outputs": [],
      "source": [
        "# import gensim.corpora as corpora\n",
        "# # Create Dictionary\n",
        "# id2word = corpora.Dictionary(high_pos_df['trigram_tokens'].tolist())\n",
        "\n",
        "# ## pruning\n",
        "# #id2word.filter_extremes(no_below=5, no_above=0.5)\n",
        "\n",
        "# #    (Optional) Re-map the remaining token IDs to remove gaps\n",
        "# #id2word.compactify()\n",
        "\n",
        "# # 2. Convert each document to a Bag-of-Words\n",
        "# texts = high_pos_df['trigram_tokens'].tolist()\n",
        "\n",
        "# # Term Document Frequency\n",
        "# corpus = [id2word.doc2bow(text) for text in texts]\n",
        "\n",
        "\n",
        "# # View\n",
        "# print(corpus[:1][0][:30])"
      ]
    },
    {
      "cell_type": "code",
      "execution_count": 26,
      "metadata": {
        "id": "xt9bnXIpIZJG"
      },
      "outputs": [],
      "source": [
        "# import gensim\n",
        "# from gensim import corpora\n",
        "# from gensim.models.ldamodel import LdaModel\n",
        "# from nltk.tokenize import word_tokenize\n",
        "# import nltk\n",
        "# ## Build the basic LDA model\n",
        "# lda_model = LdaModel(corpus=corpus,\n",
        "#                                        id2word=id2word,\n",
        "#                                        num_topics=4,\n",
        "#                                        random_state=100,\n",
        "#                                        chunksize=250,\n",
        "#                                        passes=200,\n",
        "#                                         iterations= 100,\n",
        "#                                        alpha='auto',\n",
        "#                                       eta='auto',\n",
        "#                                        per_word_topics=True)"
      ]
    },
    {
      "cell_type": "code",
      "execution_count": 27,
      "metadata": {
        "id": "7xHfYsxAIxUH"
      },
      "outputs": [],
      "source": [
        "# from pprint import pprint\n",
        "\n",
        "# # Print the Keyword in the 3 topics\n",
        "# pprint(lda_model.print_topics())\n",
        "# doc_lda = lda_model[corpus]"
      ]
    },
    {
      "cell_type": "code",
      "execution_count": 28,
      "metadata": {
        "id": "G_Hv9oB1I2Gn"
      },
      "outputs": [],
      "source": [
        "# from gensim.models import CoherenceModel\n",
        "# #\n",
        "# # Compute Coherence Score\n",
        "# coherence_model_lda = CoherenceModel(model=lda_model, texts=high_pos_df['trigram_tokenized'], dictionary=id2word, coherence='c_v')\n",
        "# coherence_lda = coherence_model_lda.get_coherence()\n",
        "# print('Coherence Score: ', coherence_lda)"
      ]
    },
    {
      "cell_type": "code",
      "execution_count": 29,
      "metadata": {
        "id": "etcfCqmmJoUl"
      },
      "outputs": [],
      "source": [
        "# import pyLDAvis.gensim\n",
        "# import pickle\n",
        "# import pyLDAvis\n",
        "# import pyLDAvis.gensim_models as gensimvis\n",
        "# import pyLDAvis\n",
        "\n",
        "# # Assuming ldamodel, corpus, and dictionary are already defined\n",
        "# # Enable the automatic display of visualizations in Jupyter\n",
        "# pyLDAvis.enable_notebook()\n",
        "\n",
        "# # Prepare the LDA visualization directly\n",
        "# LDAvis_prepared = gensimvis.prepare(lda_model, corpus, id2word)\n",
        "\n",
        "# # Display the prepared visualization directly in the notebook\n",
        "# pyLDAvis.display(LDAvis_prepared)"
      ]
    },
    {
      "cell_type": "code",
      "execution_count": 30,
      "metadata": {
        "id": "_8xgFgGI18N_"
      },
      "outputs": [],
      "source": [
        "# # Extracting and printing the top 30 salient terms for each topic\n",
        "# num_topics = lda_model.num_topics\n",
        "# num_words = 30\n",
        "\n",
        "# for idx, topic in lda_model.show_topics(num_topics=num_topics, num_words=num_words, formatted=False):\n",
        "#     print(f\"Topic {idx + 1}:\")\n",
        "#     for word, weight in topic:\n",
        "#         print(f\"  {word} ({weight:.4f})\")\n",
        "#     print()"
      ]
    },
    {
      "cell_type": "code",
      "execution_count": 31,
      "metadata": {
        "colab": {
          "base_uri": "https://localhost:8080/"
        },
        "id": "2WRpMdF23X-E",
        "outputId": "bc801779-c87e-476b-ec1a-81ee75d586f0"
      },
      "outputs": [
        {
          "output_type": "stream",
          "name": "stdout",
          "text": [
            "Num Topics: 9, Chunksize: 1000, Passes: 260, Iterations: 200, Perplexity: -7.5827, Coherence: 0.4660, Alpha: [0.02960799 0.10186667 0.10609742 0.8037992  0.12750857 0.0511378\n",
            " 0.0458743  0.06344463 0.13017115], Eta: [0.10470013 0.10656158 0.12168806 ... 0.10398371 0.10398435 0.10398263]\n",
            "\n",
            "Results:\n",
            "     num_topics  chunksize  passes  iterations  perplexity  coherence  \\\n",
            "0             2       1000     100          50   -7.297122   0.545094   \n",
            "1             2       1000     100         100   -7.294078   0.527432   \n",
            "2             2       1000     100         200   -7.295213   0.519969   \n",
            "3             2       1000     200          50   -7.294145   0.543978   \n",
            "4             2       1000     200         100   -7.290879   0.531529   \n",
            "..          ...        ...     ...         ...         ...        ...   \n",
            "211           9       1000     200         100   -7.592870   0.475494   \n",
            "212           9       1000     200         200   -7.589571   0.456995   \n",
            "213           9       1000     260          50   -7.580422   0.464763   \n",
            "214           9       1000     260         100   -7.587856   0.476051   \n",
            "215           9       1000     260         200   -7.582737   0.465982   \n",
            "\n",
            "                                                 alpha  \\\n",
            "0                           [0.046350982, 0.054981988]   \n",
            "1                            [0.043494716, 0.04913837]   \n",
            "2                           [0.044861592, 0.050588608]   \n",
            "3                           [0.038100265, 0.045496322]   \n",
            "4                           [0.034355957, 0.039633743]   \n",
            "..                                                 ...   \n",
            "211  [0.022458354, 0.09489685, 0.0850935, 0.4350578...   \n",
            "212  [0.028057717, 0.09647547, 0.0981997, 0.6200310...   \n",
            "213  [0.0225208, 0.09154508, 0.107088454, 0.5867241...   \n",
            "214  [0.023160944, 0.105183, 0.092265226, 0.584118,...   \n",
            "215  [0.029607989, 0.10186667, 0.10609742, 0.803799...   \n",
            "\n",
            "                                                   eta  seed  perplexity_exp  \n",
            "0    [0.540176, 1.5761828, 4.4656844, 52.495903, 8....     0     1476.045704  \n",
            "1    [0.54449517, 1.5919578, 4.532531, 53.907867, 8...     0     1471.558939  \n",
            "2    [0.5441022, 1.5680122, 4.523882, 54.08714, 8.8...     0     1473.230720  \n",
            "3    [0.54236484, 1.5877178, 4.5054584, 52.760387, ...     0     1471.658432  \n",
            "4    [0.5461019, 1.6044632, 4.5624084, 54.102806, 8...     0     1466.859080  \n",
            "..                                                 ...   ...             ...  \n",
            "211  [0.10399366, 0.10584469, 0.16816632, 0.1900235...     2     1984.000127  \n",
            "212  [0.10433013, 0.10618246, 0.14934598, 0.1695224...     2     1977.465211  \n",
            "213  [0.10423688, 0.11812705, 0.16764715, 0.1570325...     2     1959.455063  \n",
            "214  [0.10429573, 0.1061453, 0.16468836, 0.1569014,...     2     1974.075667  \n",
            "215  [0.104700126, 0.10656158, 0.12168806, 0.146355...     2     1963.996938  \n",
            "\n",
            "[216 rows x 10 columns]\n",
            "\n",
            "Optimal Parameters:\n",
            "Number of Topics: 3\n",
            "Chunksize: 1000\n",
            "Passes: 260\n",
            "Iterations: 100\n",
            "Coherence: 0.5856\n",
            "Perplexity: 1500.4665\n",
            " Alpha (per topic): [0.04267415 0.04885703 0.01976112]\n",
            " Eta   (per word):  [0.31782386 0.82589906 1.2129632  ... 0.30315584 0.30315536 0.30318114]\n",
            " seed:  1\n"
          ]
        }
      ],
      "source": [
        "import gensim\n",
        "from gensim import corpora\n",
        "from gensim.models import LdaModel\n",
        "from gensim.models.coherencemodel import CoherenceModel\n",
        "import pandas as pd\n",
        "import numpy as np\n",
        "import itertools\n",
        "\n",
        "#\n",
        "texts = high_pos_df['trigram_tokens'].tolist()\n",
        "\n",
        "# Create a Dictionary and Corpus\n",
        "dictionary = corpora.Dictionary(texts)\n",
        "corpus = [dictionary.doc2bow(text) for text in texts]\n",
        "\n",
        "# Function to compute coherence and perplexity\n",
        "def compute_coherence_and_perplexity(corpus, dictionary, texts, num_topics, chunksize, passes, iterations,seed):\n",
        "    lda_model = LdaModel(corpus=corpus,\n",
        "                         id2word=dictionary,\n",
        "                         num_topics=num_topics,\n",
        "                         random_state=seed,\n",
        "                         chunksize=chunksize,\n",
        "                         passes=passes,\n",
        "                         iterations=iterations,\n",
        "                         alpha='auto',\n",
        "                         eta='auto',\n",
        "                         per_word_topics=True)\n",
        "\n",
        "    perplexity = lda_model.log_perplexity(corpus)\n",
        "    coherence_model_lda = CoherenceModel(model=lda_model, texts=texts, dictionary=dictionary, coherence='c_v')\n",
        "    coherence = coherence_model_lda.get_coherence()\n",
        "     # Extract alpha and eta\n",
        "    alpha = lda_model.alpha\n",
        "    eta = lda_model.eta\n",
        "    return perplexity, coherence, alpha, eta\n",
        "\n",
        "# Define the parameter grid with your specific values\n",
        "seeds = [0, 1, 2]\n",
        "num_topics_range = range(2, 10)  # Adjust the range based on your needs\n",
        "chunksize_range = [1000]\n",
        "passes_range = [100, 200,260]\n",
        "iterations_range = [50, 100, 200]\n",
        "\n",
        "# Store results\n",
        "results = []\n",
        "\n",
        "# Grid search over all combinations of hyperparameters\n",
        "for seed in [0, 1, 2]:\n",
        "  for num_topics, chunksize, passes, iterations in itertools.product(num_topics_range, chunksize_range, passes_range, iterations_range):\n",
        "    perplexity, coherence, alpha, eta = compute_coherence_and_perplexity(corpus, dictionary, texts, num_topics, chunksize, passes, iterations, seed)\n",
        "    results.append((num_topics, chunksize, passes, iterations, perplexity, coherence, alpha, eta, seed))\n",
        "    # print(f\"Num Topics: {num_topics}, Chunksize: {chunksize}, Passes: {passes}, Iterations: {iterations}, Perplexity: {perplexity:.4f}, Coherence: {coherence:.4f}\"  f\"Alpha: {alpha}, Eta: {eta}\")\n",
        "\n",
        "print(f\"Num Topics: {num_topics}, Chunksize: {chunksize}, Passes: {passes}, Iterations: {iterations}, \"\n",
        "      f\"Perplexity: {perplexity:.4f}, Coherence: {coherence:.4f}, Alpha: {alpha}, Eta: {eta}\")\n",
        "\n",
        "# Convert results to a DataFrame for better analysis\n",
        "results_df = pd.DataFrame(results, columns=['num_topics', 'chunksize', 'passes', 'iterations', 'perplexity', 'coherence','alpha','eta','seed'])\n",
        "# Add exponentiated perplexity column\n",
        "results_df['perplexity_exp'] = np.exp(-results_df['perplexity'])\n",
        "\n",
        "\n",
        "# Display results\n",
        "print(\"\\nResults:\")\n",
        "print(results_df)\n",
        "\n",
        "# Find the optimal number of topics with the highest coherence\n",
        "optimal_result = results_df.sort_values(\n",
        "    by=['coherence', 'perplexity_exp'],\n",
        "    ascending=[False, True]\n",
        ").iloc[0]\n",
        "optimal_num_topics = optimal_result['num_topics']\n",
        "optimal_chunksize = optimal_result['chunksize']\n",
        "optimal_passes = optimal_result['passes']\n",
        "optimal_iterations = optimal_result['iterations']\n",
        "optimal_perplexity = optimal_result['perplexity_exp']\n",
        "optimal_coherence = optimal_result['coherence']\n",
        "optimal_alpha = optimal_result['alpha']\n",
        "optimal_eta   = optimal_result['eta']\n",
        "optimal_seed = optimal_result['seed']\n",
        "\n",
        "\n",
        "\n",
        "print(f\"\\nOptimal Parameters:\")\n",
        "print(f\"Number of Topics: {optimal_num_topics}\")\n",
        "print(f\"Chunksize: {optimal_chunksize}\")\n",
        "print(f\"Passes: {optimal_passes}\")\n",
        "print(f\"Iterations: {optimal_iterations}\")\n",
        "print(f\"Coherence: {optimal_coherence:.4f}\")\n",
        "print(f\"Perplexity: {optimal_perplexity:.4f}\")\n",
        "print(f\" Alpha (per topic): {optimal_alpha}\")\n",
        "print(f\" Eta   (per word):  {optimal_eta}\")\n",
        "print(f\" seed:  {optimal_seed}\")"
      ]
    },
    {
      "cell_type": "code",
      "execution_count": 32,
      "metadata": {
        "id": "nzsWMTBAD87J",
        "colab": {
          "base_uri": "https://localhost:8080/"
        },
        "outputId": "839e85f3-7902-4f56-959d-ee9e0975bef2"
      },
      "outputs": [
        {
          "output_type": "stream",
          "name": "stdout",
          "text": [
            "Re-fitted Optimal Model:\n",
            " Coherence: 0.5856\n",
            " Perplexity: -7.3135\n",
            " Alpha (per topic): [0.04267415 0.04885703 0.01976112]\n",
            " Eta   (per word):  [0.31782386 0.82589906 1.2129632  ... 0.30315584 0.30315536 0.30318114]\n"
          ]
        }
      ],
      "source": [
        "# 1. Fit the model\n",
        "lda_opt = LdaModel(\n",
        "    corpus        = corpus,\n",
        "    id2word       = dictionary,\n",
        "    num_topics    = optimal_num_topics,\n",
        "    chunksize     = optimal_chunksize,\n",
        "    passes        = optimal_passes,\n",
        "    iterations    = optimal_iterations,\n",
        "    alpha         = 'auto',\n",
        "    eta           = 'auto',\n",
        "    random_state  = optimal_seed,\n",
        "    per_word_topics=True\n",
        ")\n",
        "\n",
        "# 2. Extract metrics and priors\n",
        "opt_perp  = lda_opt.log_perplexity(corpus)\n",
        "opt_coh   = CoherenceModel(model=lda_opt, texts=texts, dictionary=dictionary, coherence='c_v').get_coherence()\n",
        "opt_alpha = lda_opt.alpha\n",
        "opt_eta   = lda_opt.eta\n",
        "\n",
        "print(f\"Re-fitted Optimal Model:\")\n",
        "print(f\" Coherence: {opt_coh:.4f}\")\n",
        "print(f\" Perplexity: {opt_perp:.4f}\")\n",
        "print(f\" Alpha (per topic): {opt_alpha}\")\n",
        "print(f\" Eta   (per word):  {opt_eta}\")\n"
      ]
    },
    {
      "cell_type": "code",
      "execution_count": 34,
      "metadata": {
        "id": "Ayc4j4Z4suf0"
      },
      "outputs": [],
      "source": [
        "import numpy as np\n",
        "from google.colab import files\n",
        "\n",
        "# 1. Grab your metrics & hyper‐params\n",
        "coherence_val  = opt_coh\n",
        "perplexity_val = opt_perp\n",
        "alpha_val      = opt_alpha\n",
        "eta_vals       = opt_eta  # full array\n",
        "\n",
        "# 2. Write them into a single text file\n",
        "with open('lda_model_full_summary.txt', 'w') as f:\n",
        "    f.write(\"Re-fitted Optimal Model:\\n\")\n",
        "    f.write(f\" Coherence:  {coherence_val:.4f}\\n\")\n",
        "    f.write(f\" Perplexity: {perplexity_val:.4f}\\n\")\n",
        "    f.write(f\" Alpha:      {alpha_val}\\n\")\n",
        "    f.write(\" Eta values:\\n\")\n",
        "    for eta in eta_vals:\n",
        "        f.write(f\"{eta}\\n\")\n",
        "\n",
        "# # 3. Trigger the download\n",
        "# files.download('lda_model_full_summary_1st_mild_pos.txt')\n"
      ]
    },
    {
      "cell_type": "code",
      "execution_count": 35,
      "metadata": {
        "id": "XeudiTLnEiAw",
        "colab": {
          "base_uri": "https://localhost:8080/"
        },
        "outputId": "2abeb178-7a23-4046-8166-8bce6e523a47"
      },
      "outputs": [
        {
          "output_type": "stream",
          "name": "stdout",
          "text": [
            "Alpha match: True\n",
            "Eta   match: True\n"
          ]
        }
      ],
      "source": [
        "# verify that the refit recovered the same priors\n",
        "import numpy as np\n",
        "\n",
        "print(\"Alpha match:\", np.allclose(optimal_alpha, opt_alpha))\n",
        "print(\"Eta   match:\", np.allclose(optimal_eta,   opt_eta))\n"
      ]
    },
    {
      "cell_type": "code",
      "execution_count": 36,
      "metadata": {
        "id": "KxdK7mI7n2AI",
        "colab": {
          "base_uri": "https://localhost:8080/"
        },
        "outputId": "9a294e33-b13e-4ea8-bcbf-4d71868683ed"
      },
      "outputs": [
        {
          "output_type": "stream",
          "name": "stdout",
          "text": [
            "=== Topics ===\n",
            "[(0,\n",
            "  '0.022*\"flight\" + 0.017*\"good\" + 0.012*\"fly\" + 0.009*\"airline\" + '\n",
            "  '0.008*\"point\" + 0.008*\"book\" + 0.008*\"mile\" + 0.007*\"well\" + 0.007*\"seat\" + '\n",
            "  '0.007*\"way\"'),\n",
            " (1,\n",
            "  '0.018*\"thank\" + 0.014*\"point\" + 0.012*\"good\" + 0.011*\"flight\" + '\n",
            "  '0.011*\"book\" + 0.010*\"get\" + 0.007*\"year\" + 0.007*\"time\" + 0.006*\"hotel\" + '\n",
            "  '0.006*\"night\"'),\n",
            " (2,\n",
            "  '0.008*\"time\" + 0.008*\"good\" + 0.008*\"stay\" + 0.007*\"well\" + 0.007*\"hotel\" + '\n",
            "  '0.007*\"nice\" + 0.007*\"day\" + 0.006*\"room\" + 0.006*\"like\" + 0.005*\"want\"')]\n",
            "\n",
            "Sample doc-topic distribution for doc 0:\n",
            "[(1, 0.99884534)]\n"
          ]
        }
      ],
      "source": [
        "# Cell 1: Imports\n",
        "from pprint import pprint\n",
        "import pyLDAvis.gensim_models as gensimvis\n",
        "import pyLDAvis\n",
        "\n",
        "# Cell 2: Print topics & sample document–topic distribution\n",
        "print(\"=== Topics ===\")\n",
        "pprint(lda_opt.print_topics())\n",
        "\n",
        "doc_topics = [lda_opt.get_document_topics(doc) for doc in corpus]\n",
        "print(\"\\nSample doc-topic distribution for doc 0:\")\n",
        "pprint(doc_topics[0])\n",
        "\n"
      ]
    },
    {
      "cell_type": "code",
      "execution_count": 37,
      "metadata": {
        "id": "pCk_x4tCqxlH",
        "colab": {
          "base_uri": "https://localhost:8080/",
          "height": 861
        },
        "outputId": "34cd1c89-bab0-4fa2-e390-e9ff1440c78b"
      },
      "outputs": [
        {
          "output_type": "execute_result",
          "data": {
            "text/plain": [
              "<IPython.core.display.HTML object>"
            ],
            "text/html": [
              "\n",
              "<link rel=\"stylesheet\" type=\"text/css\" href=\"https://cdn.jsdelivr.net/gh/bmabey/pyLDAvis@3.4.0/pyLDAvis/js/ldavis.v1.0.0.css\">\n",
              "\n",
              "\n",
              "<div id=\"ldavis_el87391402540498150084167727412\" style=\"background-color:white;\"></div>\n",
              "<script type=\"text/javascript\">\n",
              "\n",
              "var ldavis_el87391402540498150084167727412_data = {\"mdsDat\": {\"x\": [-0.08422820275117378, -0.04280359740679397, 0.12703180015796775], \"y\": [0.06962279283116754, -0.08660451017254134, 0.016981717341373825], \"topics\": [1, 2, 3], \"cluster\": [1, 1, 1], \"Freq\": [41.06137390997685, 39.589074343759805, 19.34955174626334]}, \"tinfo\": {\"Term\": [\"thank\", \"flight\", \"seat\", \"stay\", \"refund\", \"hotel\", \"economy\", \"night\", \"room\", \"tokyo\", \"ana\", \"cancel\", \"nice\", \"fly\", \"airline\", \"mile\", \"route\", \"train\", \"availability\", \"place\", \"point\", \"hilton\", \"kyoto\", \"get\", \"upgrade\", \"hyatt\", \"view\", \"marriott\", \"transfer\", \"award\", \"seat\", \"ana\", \"economy\", \"business_class\", \"saver\", \"product\", \"hub\", \"sfo\", \"nonstop\", \"jal\", \"qatar\", \"cabin\", \"premium_cabin\", \"sale\", \"round_trip\", \"routing\", \"star_alliance\", \"iad\", \"polaris\", \"qsuite\", \"aircraft\", \"calendar\", \"ord\", \"cdg\", \"nice_bot_reply_ignore\", \"nice_leaderboard\", \"stop_reply_comment\", \"urepliesnice_nice\", \"uspiro_nice\", \"hkg\", \"plane\", \"space\", \"route\", \"availability\", \"search\", \"leg\", \"business\", \"layover\", \"fly\", \"flight\", \"fare\", \"europe\", \"airline\", \"transfer\", \"united\", \"pretty\", \"itinerary\", \"way\", \"cheap\", \"good\", \"award\", \"mile\", \"find\", \"delta\", \"cash\", \"well\", \"look\", \"book\", \"price\", \"point\", \"travel\", \"people\", \"ticket\", \"time\", \"option\", \"trip\", \"like\", \"go\", \"want\", \"refund\", \"cancellation\", \"rep\", \"maui\", \"getting\", \"contact\", \"confirmation\", \"parking\", \"lifemile\", \"resort_fee\", \"refundable\", \"send_email\", \"extend\", \"feb\", \"austin\", \"reply\", \"till\", \"pre\", \"wailea\", \"eventually\", \"june\", \"husband\", \"certificate\", \"budget\", \"redeposit_fee\", \"car_rental\", \"online\", \"jan\", \"yep\", \"academy\", \"call\", \"play\", \"elite\", \"email\", \"marriott\", \"cancel\", \"thank\", \"chain\", \"hyatt\", \"credit\", \"charge\", \"reservation\", \"hilton\", \"confirm\", \"issue\", \"hold\", \"night\", \"year\", \"status\", \"ill\", \"get\", \"point\", \"card\", \"hope\", \"read\", \"book\", \"offer\", \"end\", \"wait\", \"hotel\", \"stay\", \"month\", \"work\", \"good\", \"week\", \"flight\", \"time\", \"ticket\", \"right\", \"like\", \"look\", \"travel\", \"day\", \"mile\", \"know\", \"go\", \"think\", \"nice\", \"trip\", \"use\", \"well\", \"taxi\", \"osaka\", \"national\", \"thailand\", \"cusco\", \"conrad\", \"kyoto\", \"guest\", \"tokyo\", \"mgm\", \"chinese\", \"museum\", \"park_hyatt\", \"hiroshima\", \"morocco\", \"road\", \"ollantaytambo\", \"crowd\", \"salerno\", \"positano\", \"tour\", \"tdi\", \"nicer\", \"french\", \"sacred_valley\", \"ocean_view\", \"sun\", \"neighborhood\", \"subway\", \"train_station\", \"nrt\", \"restaurant\", \"luggage\", \"art\", \"train\", \"park\", \"relax\", \"view\", \"station\", \"airbnb\", \"room\", \"town\", \"location\", \"visit\", \"area\", \"place\", \"stay\", \"nice\", \"property\", \"hotel\", \"upgrade\", \"city\", \"beach\", \"time\", \"day\", \"well\", \"want\", \"like\", \"love\", \"suite\", \"night\", \"good\", \"great\", \"trip\", \"get\", \"feel\", \"definitely\", \"think\", \"go\", \"thing\", \"fly\", \"lot\", \"travel\", \"way\", \"pretty\"], \"Freq\": [299.0, 477.0, 104.0, 138.0, 73.0, 152.0, 75.0, 118.0, 78.0, 37.0, 57.0, 90.0, 127.0, 229.0, 172.0, 192.0, 77.0, 31.0, 74.0, 76.0, 321.0, 62.0, 21.0, 210.0, 85.0, 55.0, 25.0, 61.0, 92.0, 111.0, 104.21407173755294, 56.474273271183726, 74.28427656115062, 33.53513730804721, 24.917625805184883, 23.901131835930308, 21.071352889367166, 16.97237709320948, 16.710230168042475, 16.445219489399026, 15.936654588083357, 16.147454213155264, 13.89506036945881, 13.107911165431716, 13.342652170091645, 12.60385133550862, 11.316975480988258, 10.55678327574029, 10.045334594700092, 10.02244542756364, 9.529638680211438, 9.50895740692658, 9.267625263365012, 9.265910515872562, 9.019568472581229, 9.019568472581229, 9.019568472581229, 9.019568472581229, 9.019568472581229, 9.01672641420688, 32.21228680211954, 26.890429861630544, 70.57751149606905, 64.81210820638688, 41.30919664481281, 25.962658846817458, 50.09292600679734, 17.998368510619322, 172.10079646190675, 321.1821149910599, 42.55662496273678, 34.712513810162804, 124.02952353720133, 69.13783119650977, 64.80858358672357, 87.1190121797084, 30.897653733323576, 100.02883955317647, 75.57112988614189, 246.41975180932806, 75.51217928718975, 115.04780467350454, 96.91941074061828, 45.103800171712024, 61.076131520762395, 107.21949756837924, 95.38772318193124, 118.55743135241757, 58.338443276027384, 120.35438659326518, 78.85276440600029, 56.951865910978825, 69.77734272750439, 81.90026538405742, 59.50541947996979, 66.99596388485955, 70.56815923821242, 65.78460283974029, 58.90953846814074, 73.31532998857895, 26.731043641961048, 18.86819217795125, 16.244642593644276, 11.536638422793944, 11.033603070467246, 11.01619030517706, 9.186176573630995, 8.881299520076492, 8.394167676540054, 9.593539866804637, 6.835118584240732, 15.992416548425393, 6.582276688355167, 6.573075533456634, 18.09398864592233, 6.796791031515279, 6.320863969376875, 6.058287529968336, 6.058283909683555, 19.69453585590777, 6.054896932143744, 6.05300191418768, 6.03914306179111, 5.796269016669978, 5.7858329424071675, 14.576602012227736, 5.781458833883663, 6.007025101973267, 5.5354741596276895, 45.782993430332326, 12.71752222093444, 15.824387064110665, 28.650499324805466, 53.56583981870695, 77.69689790774845, 247.4232499248444, 14.655625588433322, 47.36202649462427, 41.97651981628368, 26.28321280550236, 20.296087202210142, 52.69443888087046, 16.499357785777217, 27.532761338327628, 24.78334330176088, 87.32514986954364, 101.14963047789276, 59.57829615235985, 47.64255190372448, 134.12773456142583, 191.23344378682677, 44.09631079581543, 66.39606150488235, 29.02167344679779, 151.45166932618628, 40.83563453342212, 44.53575866173615, 46.46704382623031, 89.57190182283138, 77.19075956911034, 49.617711701736724, 62.6341190026588, 170.1003258259858, 47.889008019509745, 155.72998994142486, 96.5002194094657, 72.36496822613975, 55.62069737040182, 81.26591945651671, 78.82364638079301, 76.5839032988418, 76.33318651012284, 76.69029140094743, 62.45031151275956, 68.68097930484198, 64.95352765798346, 57.524896368670234, 60.60374101214715, 55.259698662168056, 58.239929966234065, 12.912800468341747, 10.376964707376, 10.376471620641867, 10.580194297639629, 9.232378278515792, 9.21282703561735, 20.223593005578977, 8.060645340922575, 34.756219570975524, 6.704494032651859, 6.878535562090271, 6.011434675892149, 14.884443556990552, 5.77488594886326, 5.547537575427102, 5.541201764783471, 5.091730793586313, 5.079793690655801, 4.8641248668719586, 4.864121327971953, 4.6322907410729535, 4.403209879478424, 5.017566066165779, 4.403329022445284, 4.402354252099255, 4.401256406675249, 4.395158881965339, 4.381039457364614, 4.170351831944422, 4.169682586632223, 9.718770986684067, 17.78909718517793, 9.61245535271128, 8.076093819081015, 24.39965229681045, 12.584436946719194, 8.014682107647875, 18.94417370007741, 6.915638176172793, 11.626526706740153, 42.96104756235465, 10.387122923236955, 15.76956648807352, 19.5889534169031, 19.101661041711143, 34.15205856199363, 51.97348399193521, 46.270397212444195, 17.651534636998807, 49.46142177478588, 33.560492891343316, 23.244339855243922, 16.245855243514264, 53.53264783793587, 45.57589201842658, 49.73259588589327, 36.686231826378894, 41.41618716375502, 22.0973870819132, 16.30513889641061, 29.304014063536695, 53.49647241565485, 29.7658483785095, 32.41115568583094, 35.96658314103153, 19.0250934011867, 21.808016733398464, 26.033066983465115, 26.629272545234084, 22.455138415605738, 25.404379038176693, 20.75736136133536, 21.31593347402094, 20.18772114227623, 19.747079333382313], \"Total\": [299.0, 477.0, 104.0, 138.0, 73.0, 152.0, 75.0, 118.0, 78.0, 37.0, 57.0, 90.0, 127.0, 229.0, 172.0, 192.0, 77.0, 31.0, 74.0, 76.0, 321.0, 62.0, 21.0, 210.0, 85.0, 55.0, 25.0, 61.0, 92.0, 111.0, 104.80298374385114, 57.06226157496767, 75.71398591116491, 34.2135602518662, 25.495777018584104, 24.46797013141041, 21.645374542012867, 17.539614775825797, 17.282859895255967, 17.02433892765726, 16.512973065056126, 16.769636736089687, 14.459754413689314, 13.690118771590585, 13.946245613362661, 13.176064773032044, 11.892132349461667, 11.123382369132607, 10.610344166272082, 10.60929486589785, 10.09696625586289, 10.095553568621561, 9.839571050367901, 9.840886118600144, 9.584262516811734, 9.584262516811734, 9.584262516811734, 9.584262516811734, 9.584262516811734, 9.583401234837133, 34.763263099214434, 28.919961681862038, 77.67581841073864, 74.16943653344376, 47.57010118164453, 29.398613283579248, 59.278895559129545, 19.946670287772253, 229.29745771703438, 477.41729352500585, 52.106894186699, 41.5599825249876, 172.0483647278019, 92.93092481557906, 86.37210181641215, 126.01489276894603, 37.398980576763556, 149.51745303079855, 109.62672959295392, 470.01655005096876, 111.39248170481429, 192.01707201010606, 165.13552372203412, 62.78577881574783, 95.07307388903432, 215.19202342050656, 186.10155061127068, 282.1974835972349, 97.46172937043485, 321.4843445856204, 176.75260117886302, 99.52593064261526, 147.697901885851, 231.933132631459, 115.09029717445989, 160.01086058283764, 193.25026585848414, 161.09485468981634, 146.23046987079462, 73.9004328609479, 27.299621251688585, 19.444602612327476, 16.82435050828381, 12.11403725056068, 11.592375792583208, 11.591057154345537, 9.75718040373239, 9.491656275019865, 8.971326826221105, 10.278353935155364, 7.401734172313192, 17.33052243691856, 7.141049410471131, 7.141009299266182, 19.664092249583508, 7.396616025877129, 6.879636691492839, 6.6170602520843, 6.617056631799518, 21.512894285634374, 6.616856539593304, 6.616740546084814, 6.616540481462278, 6.355041738785942, 6.355050760996076, 16.02199459945327, 6.354806831457924, 6.613387335388635, 6.094246881743653, 50.62220448529732, 14.096953583099229, 17.58267028680756, 32.23183997080795, 61.365781250063954, 90.6655024751176, 299.58829635166893, 16.4003790389487, 55.10533677283198, 48.875230839001865, 30.10574251619601, 23.067036144930835, 62.881988047132616, 18.69778298407676, 32.43393752547178, 29.050119087307834, 118.80502663528526, 142.4832728869308, 80.84874998179565, 62.74119606129087, 210.83805320628528, 321.4843445856204, 58.95118422302068, 95.83085393736528, 36.90311827199384, 282.1974835972349, 56.333148214909706, 62.850443218838386, 66.5338905998161, 152.95772575823156, 138.82160631384795, 76.62957411008529, 108.92730450125813, 470.01655005096876, 75.81514666061797, 477.41729352500585, 231.933132631459, 147.697901885851, 98.19616066108023, 193.25026585848414, 186.10155061127068, 176.75260117886302, 176.5049631587477, 192.01707201010606, 124.96069585908262, 161.09485468981634, 147.48834392500768, 127.54575293300007, 160.01086058283764, 111.3576640683877, 215.19202342050656, 13.509250932602678, 10.979925959610885, 10.980004518403657, 11.21319819022709, 9.828476052249098, 9.83157957856398, 21.65979583338102, 8.681482601076679, 37.45430450192011, 7.299762229488499, 7.533606369649548, 6.6094125726879644, 16.37795499069574, 6.380261351388064, 6.14992810614541, 6.150360328963494, 5.688571181277002, 5.690087743765512, 5.459393063708598, 5.459389524808592, 5.22934273695768, 4.998478076315063, 5.695992642314397, 4.99907743202251, 4.998536302959927, 4.998653909203206, 4.999871144752988, 5.0006690154231626, 4.7690971643327, 4.769236044170026, 11.310530170648676, 21.44296142513829, 11.343506964860003, 9.464368904846634, 31.170042172143738, 15.362456074437986, 9.470531398507688, 25.50184814470364, 8.298722232522053, 15.779183726595745, 78.88686682750438, 13.852985789821254, 24.565377065658026, 33.44749303693612, 32.78624706535374, 76.21104755696544, 138.82160631384795, 127.54575293300007, 31.965501418247715, 152.95772575823156, 85.5326709991896, 50.177282056548485, 29.258013761042022, 231.933132631459, 176.5049631587477, 215.19202342050656, 146.23046987079462, 193.25026585848414, 58.764440584637, 32.75988985812965, 118.80502663528526, 470.01655005096876, 129.0329107467161, 160.01086058283764, 210.83805320628528, 47.78354557897176, 75.39179215589066, 147.48834392500768, 161.09485468981634, 89.82084018326609, 229.29745771703438, 101.737973640812, 176.75260117886302, 149.51745303079855, 126.01489276894603], \"Category\": [\"Default\", \"Default\", \"Default\", \"Default\", \"Default\", \"Default\", \"Default\", \"Default\", \"Default\", \"Default\", \"Default\", \"Default\", \"Default\", \"Default\", \"Default\", \"Default\", \"Default\", \"Default\", \"Default\", \"Default\", \"Default\", \"Default\", \"Default\", \"Default\", \"Default\", \"Default\", \"Default\", \"Default\", \"Default\", \"Default\", \"Topic1\", \"Topic1\", \"Topic1\", \"Topic1\", \"Topic1\", \"Topic1\", \"Topic1\", \"Topic1\", \"Topic1\", \"Topic1\", \"Topic1\", \"Topic1\", \"Topic1\", \"Topic1\", \"Topic1\", \"Topic1\", \"Topic1\", \"Topic1\", \"Topic1\", \"Topic1\", \"Topic1\", \"Topic1\", \"Topic1\", \"Topic1\", \"Topic1\", \"Topic1\", \"Topic1\", \"Topic1\", \"Topic1\", \"Topic1\", \"Topic1\", \"Topic1\", \"Topic1\", \"Topic1\", \"Topic1\", \"Topic1\", \"Topic1\", \"Topic1\", \"Topic1\", \"Topic1\", \"Topic1\", \"Topic1\", \"Topic1\", \"Topic1\", \"Topic1\", \"Topic1\", \"Topic1\", \"Topic1\", \"Topic1\", \"Topic1\", \"Topic1\", \"Topic1\", \"Topic1\", \"Topic1\", \"Topic1\", \"Topic1\", \"Topic1\", \"Topic1\", \"Topic1\", \"Topic1\", \"Topic1\", \"Topic1\", \"Topic1\", \"Topic1\", \"Topic1\", \"Topic1\", \"Topic1\", \"Topic1\", \"Topic1\", \"Topic2\", \"Topic2\", \"Topic2\", \"Topic2\", \"Topic2\", \"Topic2\", \"Topic2\", \"Topic2\", \"Topic2\", \"Topic2\", \"Topic2\", \"Topic2\", \"Topic2\", \"Topic2\", \"Topic2\", \"Topic2\", \"Topic2\", \"Topic2\", \"Topic2\", \"Topic2\", \"Topic2\", \"Topic2\", \"Topic2\", \"Topic2\", \"Topic2\", \"Topic2\", \"Topic2\", \"Topic2\", \"Topic2\", \"Topic2\", \"Topic2\", \"Topic2\", \"Topic2\", \"Topic2\", \"Topic2\", \"Topic2\", \"Topic2\", \"Topic2\", \"Topic2\", \"Topic2\", \"Topic2\", \"Topic2\", \"Topic2\", \"Topic2\", \"Topic2\", \"Topic2\", \"Topic2\", \"Topic2\", \"Topic2\", \"Topic2\", \"Topic2\", \"Topic2\", \"Topic2\", \"Topic2\", \"Topic2\", \"Topic2\", \"Topic2\", \"Topic2\", \"Topic2\", \"Topic2\", \"Topic2\", \"Topic2\", \"Topic2\", \"Topic2\", \"Topic2\", \"Topic2\", \"Topic2\", \"Topic2\", \"Topic2\", \"Topic2\", \"Topic2\", \"Topic2\", \"Topic2\", \"Topic2\", \"Topic2\", \"Topic2\", \"Topic2\", \"Topic2\", \"Topic2\", \"Topic2\", \"Topic2\", \"Topic3\", \"Topic3\", \"Topic3\", \"Topic3\", \"Topic3\", \"Topic3\", \"Topic3\", \"Topic3\", \"Topic3\", \"Topic3\", \"Topic3\", \"Topic3\", \"Topic3\", \"Topic3\", \"Topic3\", \"Topic3\", \"Topic3\", \"Topic3\", \"Topic3\", \"Topic3\", \"Topic3\", \"Topic3\", \"Topic3\", \"Topic3\", \"Topic3\", \"Topic3\", \"Topic3\", \"Topic3\", \"Topic3\", \"Topic3\", \"Topic3\", \"Topic3\", \"Topic3\", \"Topic3\", \"Topic3\", \"Topic3\", \"Topic3\", \"Topic3\", \"Topic3\", \"Topic3\", \"Topic3\", \"Topic3\", \"Topic3\", \"Topic3\", \"Topic3\", \"Topic3\", \"Topic3\", \"Topic3\", \"Topic3\", \"Topic3\", \"Topic3\", \"Topic3\", \"Topic3\", \"Topic3\", \"Topic3\", \"Topic3\", \"Topic3\", \"Topic3\", \"Topic3\", \"Topic3\", \"Topic3\", \"Topic3\", \"Topic3\", \"Topic3\", \"Topic3\", \"Topic3\", \"Topic3\", \"Topic3\", \"Topic3\", \"Topic3\", \"Topic3\", \"Topic3\", \"Topic3\", \"Topic3\", \"Topic3\"], \"logprob\": [30.0, 29.0, 28.0, 27.0, 26.0, 25.0, 24.0, 23.0, 22.0, 21.0, 20.0, 19.0, 18.0, 17.0, 16.0, 15.0, 14.0, 13.0, 12.0, 11.0, 10.0, 9.0, 8.0, 7.0, 6.0, 5.0, 4.0, 3.0, 2.0, 1.0, -4.924, -5.5367, -5.2626, -6.0579, -6.3549, -6.3966, -6.5226, -6.7389, -6.7545, -6.7704, -6.8019, -6.7887, -6.939, -6.9973, -6.9795, -7.0365, -7.1442, -7.2137, -7.2634, -7.2657, -7.3161, -7.3182, -7.344, -7.3441, -7.3711, -7.3711, -7.3711, -7.3711, -7.3711, -7.3714, -6.0981, -6.2787, -5.3138, -5.399, -5.8494, -6.3138, -5.6566, -6.6802, -4.4224, -3.7985, -5.8196, -6.0234, -4.75, -5.3344, -5.399, -5.1032, -6.1398, -4.965, -5.2454, -4.0634, -5.2462, -4.8251, -4.9966, -5.7615, -5.4584, -4.8956, -5.0125, -4.7951, -5.5042, -4.78, -5.2029, -5.5283, -5.3252, -5.165, -5.4844, -5.3659, -5.3139, -5.3841, -5.4945, -5.2392, -6.2481, -6.5965, -6.7462, -7.0884, -7.133, -7.1346, -7.3163, -7.35, -7.4064, -7.2729, -7.6119, -6.7619, -7.6496, -7.651, -6.6384, -7.6175, -7.6901, -7.7325, -7.7325, -6.5536, -7.7331, -7.7334, -7.7357, -7.7768, -7.7786, -6.8546, -7.7793, -7.741, -7.8228, -5.7101, -6.991, -6.7724, -6.1788, -5.5531, -5.1812, -4.0229, -6.8491, -5.6761, -5.7969, -6.265, -6.5235, -5.5695, -6.7306, -6.2186, -6.3238, -5.0643, -4.9174, -5.4467, -5.6702, -4.6352, -4.2805, -5.7476, -5.3383, -6.1659, -4.5137, -5.8244, -5.7377, -5.6952, -5.0389, -5.1877, -5.6296, -5.3967, -4.3976, -5.6651, -4.4858, -4.9644, -5.2522, -5.5154, -5.1362, -5.1668, -5.1956, -5.1989, -5.1942, -5.3996, -5.3045, -5.3603, -5.4818, -5.4296, -5.5219, -5.4694, -6.2599, -6.4785, -6.4785, -6.4591, -6.5954, -6.5975, -5.8112, -6.7311, -5.2697, -6.9153, -6.8897, -7.0244, -6.1178, -7.0646, -7.1047, -7.1059, -7.1905, -7.1928, -7.2362, -7.2362, -7.285, -7.3358, -7.2051, -7.3357, -7.3359, -7.3362, -7.3376, -7.3408, -7.3901, -7.3902, -6.544, -5.9395, -6.555, -6.7292, -5.6235, -6.2856, -6.7368, -5.8766, -6.8843, -6.3648, -5.0578, -6.4775, -6.06, -5.8431, -5.8683, -5.2873, -4.8674, -4.9836, -5.9473, -4.9169, -5.3047, -5.672, -6.0302, -4.8378, -4.9987, -4.9114, -5.2157, -5.0944, -5.7226, -6.0266, -5.4404, -4.8385, -5.4247, -5.3396, -5.2355, -5.8723, -5.7358, -5.5587, -5.5361, -5.7066, -5.5832, -5.7852, -5.7586, -5.813, -5.8351], \"loglift\": [30.0, 29.0, 28.0, 27.0, 26.0, 25.0, 24.0, 23.0, 22.0, 21.0, 20.0, 19.0, 18.0, 17.0, 16.0, 15.0, 14.0, 13.0, 12.0, 11.0, 10.0, 9.0, 8.0, 7.0, 6.0, 5.0, 4.0, 3.0, 2.0, 1.0, 0.8845, 0.8797, 0.871, 0.8701, 0.8672, 0.8667, 0.8632, 0.8572, 0.8564, 0.8555, 0.8546, 0.8523, 0.8503, 0.8466, 0.8459, 0.8457, 0.8405, 0.8378, 0.8354, 0.8332, 0.8323, 0.8302, 0.8302, 0.8299, 0.8294, 0.8294, 0.8294, 0.8294, 0.8294, 0.8292, 0.8139, 0.8173, 0.7943, 0.7552, 0.749, 0.7658, 0.7217, 0.7873, 0.6032, 0.4937, 0.6876, 0.7101, 0.5628, 0.5943, 0.6029, 0.521, 0.6991, 0.4881, 0.5181, 0.2444, 0.5013, 0.3779, 0.3572, 0.5593, 0.4476, 0.1934, 0.2218, 0.0229, 0.3769, -0.0924, 0.0829, 0.3319, 0.1402, -0.1508, 0.2305, 0.0195, -0.1173, -0.0055, -0.0191, 0.9187, 0.9056, 0.8965, 0.8916, 0.8778, 0.8772, 0.8757, 0.8663, 0.8602, 0.8601, 0.8577, 0.847, 0.8463, 0.8451, 0.8437, 0.8434, 0.842, 0.8419, 0.8384, 0.8384, 0.8383, 0.8379, 0.8376, 0.8353, 0.8346, 0.8328, 0.8321, 0.8321, 0.8305, 0.8304, 0.8261, 0.8236, 0.8213, 0.8088, 0.7907, 0.7723, 0.7353, 0.8141, 0.7752, 0.7745, 0.7908, 0.7986, 0.7499, 0.8015, 0.7628, 0.7678, 0.6188, 0.584, 0.6213, 0.6513, 0.4743, 0.4072, 0.6363, 0.5597, 0.6864, 0.3043, 0.6049, 0.5822, 0.5676, 0.3915, 0.3397, 0.492, 0.3732, -0.0898, 0.4672, -0.1937, 0.0497, 0.2132, 0.3582, 0.0604, 0.0675, 0.0903, 0.0884, 0.0088, 0.233, 0.0741, 0.1065, 0.1304, -0.0443, 0.2259, -0.3803, 1.5973, 1.586, 1.586, 1.5844, 1.5799, 1.5775, 1.5739, 1.5683, 1.5677, 1.5574, 1.5515, 1.5477, 1.5469, 1.5428, 1.5394, 1.5382, 1.5317, 1.529, 1.5271, 1.5271, 1.5213, 1.5157, 1.5157, 1.5156, 1.5155, 1.5152, 1.5136, 1.5102, 1.5083, 1.5082, 1.4908, 1.4557, 1.4769, 1.4839, 1.3976, 1.443, 1.4756, 1.3452, 1.4602, 1.3371, 1.0348, 1.3546, 1.1992, 1.1075, 1.1023, 0.8398, 0.66, 0.6285, 1.0487, 0.5135, 0.707, 0.873, 1.0542, 0.1763, 0.2885, 0.1776, 0.2597, 0.1022, 0.6644, 0.9448, 0.2427, -0.5307, 0.1758, 0.0458, -0.126, 0.7216, 0.4021, -0.0919, -0.1575, 0.2562, -0.5576, 0.053, -0.4728, -0.3598, -0.2109]}, \"token.table\": {\"Topic\": [2, 2, 3, 1, 1, 2, 3, 1, 1, 2, 3, 2, 3, 2, 1, 2, 1, 2, 1, 2, 3, 1, 2, 3, 2, 1, 2, 1, 1, 1, 1, 2, 3, 1, 2, 2, 2, 1, 2, 1, 2, 3, 1, 2, 2, 3, 1, 2, 1, 2, 3, 3, 1, 2, 3, 2, 3, 2, 3, 2, 1, 2, 3, 3, 3, 1, 2, 3, 1, 2, 3, 1, 2, 1, 3, 1, 2, 1, 2, 3, 1, 2, 3, 1, 2, 3, 2, 1, 2, 1, 2, 2, 1, 2, 3, 1, 2, 3, 1, 2, 3, 1, 2, 3, 3, 1, 2, 3, 2, 1, 2, 3, 1, 2, 3, 1, 2, 3, 3, 2, 3, 3, 1, 1, 2, 1, 2, 1, 2, 3, 1, 2, 2, 3, 1, 1, 2, 3, 1, 2, 1, 2, 1, 2, 1, 2, 1, 2, 3, 2, 3, 1, 3, 1, 2, 2, 1, 2, 3, 1, 2, 3, 1, 2, 3, 1, 2, 3, 1, 2, 3, 2, 3, 1, 2, 3, 2, 3, 1, 2, 1, 2, 3, 3, 3, 3, 3, 1, 2, 3, 1, 1, 3, 1, 2, 3, 1, 1, 3, 3, 1, 2, 3, 3, 1, 2, 1, 2, 3, 1, 3, 1, 2, 3, 2, 3, 2, 1, 2, 3, 1, 2, 3, 1, 3, 2, 3, 1, 2, 3, 1, 3, 2, 1, 1, 2, 3, 1, 2, 3, 1, 2, 3, 1, 1, 1, 2, 3, 2, 2, 2, 2, 3, 2, 1, 2, 2, 3, 2, 1, 2, 3, 1, 2, 3, 3, 1, 2, 3, 1, 1, 2, 3, 1, 3, 1, 3, 1, 1, 2, 3, 1, 2, 1, 1, 3, 1, 1, 3, 1, 2, 3, 1, 2, 3, 1, 3, 1, 2, 3, 3, 3, 3, 3, 1, 2, 1, 2, 3, 1, 2, 3, 1, 2, 3, 2, 1, 2, 3, 2, 3, 3, 2, 3, 1, 3, 3, 1, 2, 1, 2, 3, 1, 2, 3, 1, 2, 3, 1, 2, 3, 1, 1, 2, 3, 1, 2, 3, 1, 2, 3, 2, 1, 2, 3, 1, 2, 3, 1, 2, 3, 1, 2, 3, 1, 2, 3, 1, 2, 3, 1, 2, 3, 2], \"Freq\": [0.9845351060479703, 0.253498537649829, 0.7604956129494869, 0.9903964959963508, 0.7207275709721547, 0.2731789986749296, 0.0058123191207431835, 0.9813841662484393, 0.03050059367901035, 0.3660071241481242, 0.5795112799011967, 0.10565944861763656, 0.8452755889410924, 0.9802535897438654, 0.8763717649478278, 0.12134378283892999, 0.6822722578476798, 0.32318159582258515, 0.03417867009590145, 0.4101440411508174, 0.5468587215344232, 0.4216905072401078, 0.53508627389291, 0.04252341249480079, 0.9068183013177877, 0.843470505453766, 0.15182469098167786, 0.9937580231260923, 0.9541053423993757, 0.9905350837899017, 0.05926253173884038, 0.9086921533288858, 0.03950835449256025, 0.14338419404412106, 0.8603051642647263, 0.9890247103091201, 0.9441309323325646, 0.2544478147080621, 0.7463802564769821, 0.6416117361598814, 0.3471014310373129, 0.010518225182948876, 0.9145517884806333, 0.9067908826423994, 0.9146130076857988, 0.060974200512386584, 0.13286501729190425, 0.8636226123973777, 0.6932615821176953, 0.17331539552942382, 0.1368279438390188, 0.9291698632146119, 0.39858675440930663, 0.13950536404325733, 0.45837476757070267, 0.8557164244352273, 0.10696455305440342, 0.9490074851262427, 0.9154175001159435, 0.9488995350752681, 0.04092052284291255, 0.8593309797011637, 0.10230130710728139, 0.8787210716527835, 0.9157065604225069, 0.3116059685558715, 0.43058279291356794, 0.26061590097400167, 0.331601083952302, 0.3713932140265782, 0.29180895387802575, 0.7167228128531739, 0.27076195152231014, 0.9773623605924547, 0.013207599467465605, 0.05687418257227455, 0.9099869211563928, 0.031025222292791536, 0.8997314464909545, 0.06205044458558307, 0.22275101467866387, 0.7159854043242767, 0.06364314705104682, 0.8421562732601375, 0.1203080390371625, 0.048123215614865, 0.9067475667604028, 0.05770166500403575, 0.923226640064572, 0.8252266935337002, 0.17272186608844886, 0.9802480836690045, 0.23020476749303428, 0.3557710043074166, 0.3976264165788774, 0.5873963264456419, 0.32094850826411364, 0.09689011570237392, 0.6723677678910617, 0.32675816757322623, 0.002094603638289912, 0.750117344136704, 0.139556715188224, 0.10902868374079999, 0.8001476381176383, 0.19446204978892184, 0.635558894432086, 0.17074716566832163, 0.9905863546394987, 0.4096965115805912, 0.4283190802887999, 0.16760311837387823, 0.5233858253998156, 0.3616893915364579, 0.112761986773131, 0.3874980399236828, 0.37974807912520914, 0.23249882395420968, 0.9215015876444697, 0.8428486701195633, 0.15902805096595535, 0.9404003487560371, 0.9391237807390992, 0.13769306721181818, 0.8605816700738637, 0.3026165249341752, 0.688713470539847, 0.09152855751875336, 0.5883978697634145, 0.32034995131563676, 0.9701841822713569, 0.906774986596397, 0.8529119456025523, 0.12702943870676311, 0.9889078371094217, 0.19126189415129083, 0.7650475766051633, 0.06375396471709695, 0.1541595125807122, 0.8632932704519883, 0.8288995989174283, 0.16043218043563126, 0.9398309131408827, 0.9441671728396938, 0.09296750002325518, 0.9296750002325519, 0.352110715273373, 0.4961560078852074, 0.1440452926118344, 0.04616848689122217, 0.9233697378244433, 0.9024062532900238, 0.10026736147666931, 0.8843954559762327, 0.10204562953571915, 0.9482012137003101, 0.36739923582818157, 0.41914560707158743, 0.212160122097964, 0.16283080000395886, 0.20353850000494858, 0.6513232000158354, 0.5104739841659687, 0.42449941841170025, 0.06448092431570131, 0.5012877510226078, 0.2948751476603575, 0.20641260336225026, 0.28929059531359463, 0.3403418768395231, 0.37437606452347544, 0.08815615868159707, 0.8815615868159707, 0.03259145340055319, 0.8799692418149361, 0.08147863350138297, 0.9510025360041136, 0.9589353433626148, 0.5989050806583877, 0.40100601052779, 0.300145215043978, 0.6524895979216914, 0.05219916783373531, 0.9756211611651863, 0.907796257838974, 0.9107464376029113, 0.7998929718529902, 0.1881677707654227, 0.4547387793497716, 0.3606548939670602, 0.9390393871425287, 0.9390393871425287, 0.8778101226564083, 0.01683430454621856, 0.7322922477605075, 0.24409741592016915, 0.983633501806399, 0.0884131853160203, 0.8841318531602029, 0.800215432525835, 0.19526691386100498, 0.7278130425728367, 0.08875768811863863, 0.8789553370548793, 0.06241420153980852, 0.9362130230971278, 0.5213297860292155, 0.38230850975475805, 0.1042659572058431, 0.914674019215857, 0.9107529537798803, 0.06509375813050672, 0.06509375813050672, 0.8462188556965874, 0.061057683976302075, 0.9158652596445311, 0.9223976218126758, 0.5727150666360471, 0.2411431859520198, 0.1909050222120157, 0.2230647726931324, 0.32803643043107705, 0.4461295453862648, 0.9205119757794866, 0.057531998486217914, 0.9221850610039348, 0.07093731238491807, 0.37326856508261663, 0.5941191327564981, 0.031105713756884718, 0.9424764968310614, 0.9158533160674777, 0.8721390778410476, 0.9682045489476602, 0.6903945881977491, 0.15077582960640498, 0.15871139958568944, 0.5951053852076873, 0.32833400563182746, 0.07182306373196226, 0.9808741743227134, 0.4379721693340311, 0.56310707485804, 0.9689351479569931, 0.9425697114087812, 0.10839192424114581, 0.7858414507483071, 0.10839192424114581, 0.9441322727089172, 0.9878155942247028, 0.972918432570871, 0.1055906958037829, 0.8447255664302632, 0.9771349087872021, 0.05085411456108178, 0.915374062099472, 0.8670381350399522, 0.08670381350399523, 0.8917298583547149, 0.0932706989648983, 0.0932706989648983, 0.8394362906840847, 0.3869805066122223, 0.5702870623759065, 0.05091848771213451, 0.9755525983972985, 0.07605828753624759, 0.38029143768123796, 0.5450843940097744, 0.9321505127906243, 0.9140553836788965, 0.06437009744217581, 0.03862205846530548, 0.9866375297886815, 0.8002342601035757, 0.9495900084502771, 0.9158527223909887, 0.9805545436711842, 0.8618859111407633, 0.10510803794399554, 0.021021607588799104, 0.9923381595144876, 0.9457243177124743, 0.9692345138292587, 0.9336111955132294, 0.0691563848528318, 0.9249812966047211, 0.1205004785051218, 0.8435033495358526, 0.1855316254534236, 0.7421265018136944, 0.08658142521159769, 0.07203489619182186, 0.5546687006770283, 0.3745814601974737, 0.9390393871425287, 0.8387331736319712, 0.2747261983778182, 0.21367593207163638, 0.4884021304494546, 0.8000206173708532, 0.9623035403559148, 0.8002435819322122, 0.9809868525811928, 0.1735715334452194, 0.824464783864792, 0.35626475921076617, 0.3896645803867755, 0.2449320219574017, 0.386471218559362, 0.44071279309400935, 0.17628511723760373, 0.4739403817266126, 0.48748153549023016, 0.04062346129085251, 0.9463787190669944, 0.35355017659463833, 0.4182239893863405, 0.2328257260501277, 0.053398401775087534, 0.9344720310640319, 0.9561431046894612, 0.21655981212399042, 0.7218660404133015, 0.1924925210836616, 0.7699700843346464, 0.838708749777577, 0.7424869615462253, 0.24749565384874175, 0.4469524039425974, 0.4356371532098734, 0.11881013269360184, 0.41872157774761853, 0.3812241230239512, 0.19998642519289245, 0.7525578124538461, 0.24313406248508876, 0.01157781249928994, 0.3039774123299194, 0.3039774123299194, 0.39750892381604847, 0.9390393871425287, 0.4310435244988789, 0.4939040384882987, 0.0718405874164798, 0.9390393871425287, 0.2352770656445977, 0.7450440412078927, 0.1195904277663738, 0.2989760694159345, 0.597952138831869, 0.9067470706663231, 0.24047894773260445, 0.6913769747312378, 0.06011973693315111, 0.40347268289660043, 0.34876452250384105, 0.25302524181651215, 0.6688182414356763, 0.1939572900163461, 0.13376364828713525, 0.19784964694649493, 0.6331188702287838, 0.1714696940202956, 0.49723032619527624, 0.2695267188722058, 0.2323506197174188, 0.36721738578905155, 0.5783673826177562, 0.05508260786835773, 0.16844082476295635, 0.708855137544108, 0.12633061857221728, 0.9072506562399025], \"Term\": [\"academy\", \"airbnb\", \"airbnb\", \"aircraft\", \"airline\", \"airline\", \"airline\", \"ana\", \"area\", \"area\", \"area\", \"art\", \"art\", \"austin\", \"availability\", \"availability\", \"award\", \"award\", \"beach\", \"beach\", \"beach\", \"book\", \"book\", \"book\", \"budget\", \"business\", \"business\", \"business_class\", \"cabin\", \"calendar\", \"call\", \"call\", \"call\", \"cancel\", \"cancel\", \"cancellation\", \"car_rental\", \"card\", \"card\", \"cash\", \"cash\", \"cash\", \"cdg\", \"certificate\", \"chain\", \"chain\", \"charge\", \"charge\", \"cheap\", \"cheap\", \"cheap\", \"chinese\", \"city\", \"city\", \"city\", \"confirm\", \"confirm\", \"confirmation\", \"conrad\", \"contact\", \"credit\", \"credit\", \"credit\", \"crowd\", \"cusco\", \"day\", \"day\", \"day\", \"definitely\", \"definitely\", \"definitely\", \"delta\", \"delta\", \"economy\", \"economy\", \"elite\", \"elite\", \"email\", \"email\", \"email\", \"end\", \"end\", \"end\", \"europe\", \"europe\", \"europe\", \"eventually\", \"extend\", \"extend\", \"fare\", \"fare\", \"feb\", \"feel\", \"feel\", \"feel\", \"find\", \"find\", \"find\", \"flight\", \"flight\", \"flight\", \"fly\", \"fly\", \"fly\", \"french\", \"get\", \"get\", \"get\", \"getting\", \"go\", \"go\", \"go\", \"good\", \"good\", \"good\", \"great\", \"great\", \"great\", \"guest\", \"hilton\", \"hilton\", \"hiroshima\", \"hkg\", \"hold\", \"hold\", \"hope\", \"hope\", \"hotel\", \"hotel\", \"hotel\", \"hub\", \"husband\", \"hyatt\", \"hyatt\", \"iad\", \"ill\", \"ill\", \"ill\", \"issue\", \"issue\", \"itinerary\", \"itinerary\", \"jal\", \"jan\", \"june\", \"june\", \"know\", \"know\", \"know\", \"kyoto\", \"kyoto\", \"layover\", \"layover\", \"leg\", \"leg\", \"lifemile\", \"like\", \"like\", \"like\", \"location\", \"location\", \"location\", \"look\", \"look\", \"look\", \"lot\", \"lot\", \"lot\", \"love\", \"love\", \"love\", \"luggage\", \"luggage\", \"marriott\", \"marriott\", \"marriott\", \"maui\", \"mgm\", \"mile\", \"mile\", \"month\", \"month\", \"month\", \"morocco\", \"museum\", \"national\", \"neighborhood\", \"nice\", \"nice\", \"nice\", \"nice_bot_reply_ignore\", \"nice_leaderboard\", \"nicer\", \"night\", \"night\", \"night\", \"nonstop\", \"nrt\", \"nrt\", \"ocean_view\", \"offer\", \"offer\", \"offer\", \"ollantaytambo\", \"online\", \"online\", \"option\", \"option\", \"option\", \"ord\", \"osaka\", \"park\", \"park\", \"park\", \"park_hyatt\", \"park_hyatt\", \"parking\", \"people\", \"people\", \"people\", \"place\", \"place\", \"place\", \"plane\", \"plane\", \"play\", \"play\", \"point\", \"point\", \"point\", \"polaris\", \"positano\", \"pre\", \"premium_cabin\", \"pretty\", \"pretty\", \"pretty\", \"price\", \"price\", \"price\", \"product\", \"property\", \"property\", \"qatar\", \"qsuite\", \"read\", \"read\", \"read\", \"redeposit_fee\", \"refund\", \"refundable\", \"relax\", \"relax\", \"rep\", \"reply\", \"reply\", \"reservation\", \"reservation\", \"resort_fee\", \"restaurant\", \"restaurant\", \"restaurant\", \"right\", \"right\", \"right\", \"road\", \"room\", \"room\", \"room\", \"round_trip\", \"route\", \"route\", \"route\", \"routing\", \"sacred_valley\", \"sale\", \"salerno\", \"saver\", \"search\", \"search\", \"search\", \"seat\", \"send_email\", \"sfo\", \"space\", \"space\", \"star_alliance\", \"station\", \"station\", \"status\", \"status\", \"status\", \"stay\", \"stay\", \"stay\", \"stop_reply_comment\", \"subway\", \"suite\", \"suite\", \"suite\", \"sun\", \"taxi\", \"tdi\", \"thailand\", \"thank\", \"thank\", \"thing\", \"thing\", \"thing\", \"think\", \"think\", \"think\", \"ticket\", \"ticket\", \"ticket\", \"till\", \"time\", \"time\", \"time\", \"tokyo\", \"tokyo\", \"tour\", \"town\", \"town\", \"train\", \"train\", \"train_station\", \"transfer\", \"transfer\", \"travel\", \"travel\", \"travel\", \"trip\", \"trip\", \"trip\", \"united\", \"united\", \"united\", \"upgrade\", \"upgrade\", \"upgrade\", \"urepliesnice_nice\", \"use\", \"use\", \"use\", \"uspiro_nice\", \"view\", \"view\", \"visit\", \"visit\", \"visit\", \"wailea\", \"wait\", \"wait\", \"wait\", \"want\", \"want\", \"want\", \"way\", \"way\", \"way\", \"week\", \"week\", \"week\", \"well\", \"well\", \"well\", \"work\", \"work\", \"work\", \"year\", \"year\", \"year\", \"yep\"]}, \"R\": 30, \"lambda.step\": 0.01, \"plot.opts\": {\"xlab\": \"PC1\", \"ylab\": \"PC2\"}, \"topic.order\": [1, 2, 3]};\n",
              "\n",
              "function LDAvis_load_lib(url, callback){\n",
              "  var s = document.createElement('script');\n",
              "  s.src = url;\n",
              "  s.async = true;\n",
              "  s.onreadystatechange = s.onload = callback;\n",
              "  s.onerror = function(){console.warn(\"failed to load library \" + url);};\n",
              "  document.getElementsByTagName(\"head\")[0].appendChild(s);\n",
              "}\n",
              "\n",
              "if(typeof(LDAvis) !== \"undefined\"){\n",
              "   // already loaded: just create the visualization\n",
              "   !function(LDAvis){\n",
              "       new LDAvis(\"#\" + \"ldavis_el87391402540498150084167727412\", ldavis_el87391402540498150084167727412_data);\n",
              "   }(LDAvis);\n",
              "}else if(typeof define === \"function\" && define.amd){\n",
              "   // require.js is available: use it to load d3/LDAvis\n",
              "   require.config({paths: {d3: \"https://d3js.org/d3.v5\"}});\n",
              "   require([\"d3\"], function(d3){\n",
              "      window.d3 = d3;\n",
              "      LDAvis_load_lib(\"https://cdn.jsdelivr.net/gh/bmabey/pyLDAvis@3.4.0/pyLDAvis/js/ldavis.v3.0.0.js\", function(){\n",
              "        new LDAvis(\"#\" + \"ldavis_el87391402540498150084167727412\", ldavis_el87391402540498150084167727412_data);\n",
              "      });\n",
              "    });\n",
              "}else{\n",
              "    // require.js not available: dynamically load d3 & LDAvis\n",
              "    LDAvis_load_lib(\"https://d3js.org/d3.v5.js\", function(){\n",
              "         LDAvis_load_lib(\"https://cdn.jsdelivr.net/gh/bmabey/pyLDAvis@3.4.0/pyLDAvis/js/ldavis.v3.0.0.js\", function(){\n",
              "                 new LDAvis(\"#\" + \"ldavis_el87391402540498150084167727412\", ldavis_el87391402540498150084167727412_data);\n",
              "            })\n",
              "         });\n",
              "}\n",
              "</script>"
            ]
          },
          "metadata": {},
          "execution_count": 37
        }
      ],
      "source": [
        "\n",
        "pyLDAvis.enable_notebook()\n",
        "vis_data = gensimvis.prepare(lda_opt, corpus, dictionary)\n",
        "pyLDAvis.display(vis_data)\n"
      ]
    },
    {
      "cell_type": "code",
      "execution_count": 38,
      "metadata": {
        "id": "o8lMgF8Aq6U6",
        "colab": {
          "base_uri": "https://localhost:8080/"
        },
        "outputId": "5f564bcf-0751-4529-c110-fb14d239c979"
      },
      "outputs": [
        {
          "output_type": "stream",
          "name": "stdout",
          "text": [
            "\n",
            "=== Top 30 terms per topic ===\n",
            "Topic 1:\n",
            "  flight (0.0224)\n",
            "  good (0.0172)\n",
            "  fly (0.0120)\n",
            "  airline (0.0087)\n",
            "  point (0.0084)\n",
            "  book (0.0083)\n",
            "  mile (0.0080)\n",
            "  well (0.0075)\n",
            "  seat (0.0073)\n",
            "  way (0.0070)\n",
            "  find (0.0068)\n",
            "  look (0.0067)\n",
            "  pretty (0.0061)\n",
            "  time (0.0057)\n",
            "  travel (0.0055)\n",
            "  cheap (0.0053)\n",
            "  award (0.0053)\n",
            "  economy (0.0052)\n",
            "  route (0.0049)\n",
            "  like (0.0049)\n",
            "  ticket (0.0049)\n",
            "  transfer (0.0048)\n",
            "  trip (0.0047)\n",
            "  go (0.0046)\n",
            "  availability (0.0045)\n",
            "  united (0.0045)\n",
            "  cash (0.0043)\n",
            "  option (0.0042)\n",
            "  want (0.0041)\n",
            "  price (0.0041)\n",
            "\n",
            "Topic 2:\n",
            "  thank (0.0179)\n",
            "  point (0.0138)\n",
            "  good (0.0123)\n",
            "  flight (0.0113)\n",
            "  book (0.0110)\n",
            "  get (0.0097)\n",
            "  year (0.0073)\n",
            "  time (0.0070)\n",
            "  hotel (0.0065)\n",
            "  night (0.0063)\n",
            "  like (0.0059)\n",
            "  look (0.0057)\n",
            "  cancel (0.0056)\n",
            "  stay (0.0056)\n",
            "  mile (0.0055)\n",
            "  travel (0.0055)\n",
            "  day (0.0055)\n",
            "  refund (0.0053)\n",
            "  ticket (0.0052)\n",
            "  go (0.0050)\n",
            "  hope (0.0048)\n",
            "  think (0.0047)\n",
            "  work (0.0045)\n",
            "  know (0.0045)\n",
            "  trip (0.0044)\n",
            "  status (0.0043)\n",
            "  well (0.0042)\n",
            "  nice (0.0042)\n",
            "  right (0.0040)\n",
            "  use (0.0040)\n",
            "\n",
            "Topic 3:\n",
            "  time (0.0079)\n",
            "  good (0.0079)\n",
            "  stay (0.0077)\n",
            "  well (0.0074)\n",
            "  hotel (0.0073)\n",
            "  nice (0.0068)\n",
            "  day (0.0067)\n",
            "  room (0.0064)\n",
            "  like (0.0061)\n",
            "  want (0.0054)\n",
            "  get (0.0053)\n",
            "  tokyo (0.0051)\n",
            "  place (0.0051)\n",
            "  upgrade (0.0050)\n",
            "  trip (0.0048)\n",
            "  great (0.0044)\n",
            "  night (0.0043)\n",
            "  go (0.0039)\n",
            "  think (0.0039)\n",
            "  fly (0.0038)\n",
            "  train (0.0036)\n",
            "  city (0.0034)\n",
            "  thing (0.0033)\n",
            "  love (0.0033)\n",
            "  definitely (0.0032)\n",
            "  travel (0.0032)\n",
            "  lot (0.0031)\n",
            "  kyoto (0.0030)\n",
            "  way (0.0030)\n",
            "  pretty (0.0029)\n",
            "\n"
          ]
        }
      ],
      "source": [
        "# Cell 4: Print the top 30 terms per topic\n",
        "print(\"\\n=== Top 30 terms per topic ===\")\n",
        "for topic_id, term_weights in lda_opt.show_topics(\n",
        "        num_topics=lda_opt.num_topics,\n",
        "        num_words=30,\n",
        "        formatted=False):\n",
        "    print(f\"Topic {topic_id + 1}:\")\n",
        "    for word, weight in term_weights:\n",
        "        print(f\"  {word} ({weight:.4f})\")\n",
        "    print()\n"
      ]
    },
    {
      "cell_type": "code",
      "execution_count": 39,
      "metadata": {
        "id": "mdoxZTZ20Fi-"
      },
      "outputs": [],
      "source": [
        "# import gensim.corpora as corpora\n",
        "# # # Create Dictionary\n",
        "# id2word = corpora.Dictionary(high_pos_df['trigram_tokens'].tolist())\n",
        "\n",
        "# # ## pruning\n",
        "# id2word.filter_extremes(no_below=5, no_above=0.7)\n",
        "\n",
        "# # #    (Optional) Re-map the remaining token IDs to remove gaps\n",
        "# id2word.compactify()\n",
        "\n",
        "# # # 2. Convert each document to a Bag-of-Words\n",
        "# texts = high_pos_df['trigram_tokens'].tolist()\n",
        "\n",
        "# # # Term Document Frequency\n",
        "# corpus = [id2word.doc2bow(text) for text in texts]\n",
        "\n",
        "\n",
        "# # # View\n",
        "# print(corpus[:1][0][:30])"
      ]
    },
    {
      "cell_type": "code",
      "execution_count": 40,
      "metadata": {
        "id": "wg7M93m60KF8"
      },
      "outputs": [],
      "source": [
        "# import gensim\n",
        "# from gensim import corpora\n",
        "# from gensim.models import LdaModel\n",
        "# from gensim.models.coherencemodel import CoherenceModel\n",
        "# import pandas as pd\n",
        "# import numpy as np\n",
        "# import itertools\n",
        "\n",
        "\n",
        "# # Create a Dictionary and Corpus\n",
        "# dictionary = id2word\n",
        "\n",
        "\n",
        "# # Function to compute coherence and perplexity\n",
        "# def compute_coherence_and_perplexity(corpus, dictionary, texts, num_topics, chunksize, passes, iterations):\n",
        "#     lda_model = LdaModel(corpus=corpus,\n",
        "#                          id2word=dictionary,\n",
        "#                          num_topics=num_topics,\n",
        "#                          random_state=100,\n",
        "#                          chunksize=chunksize,\n",
        "#                          passes=passes,\n",
        "#                          iterations=iterations,\n",
        "#                          alpha='auto',\n",
        "#                          eta='auto',\n",
        "#                          per_word_topics=True)\n",
        "\n",
        "#     perplexity = lda_model.log_perplexity(corpus)\n",
        "#     coherence_model_lda = CoherenceModel(model=lda_model, texts=texts, dictionary=dictionary, coherence='c_v')\n",
        "#     coherence = coherence_model_lda.get_coherence()\n",
        "#      # Extract alpha and eta\n",
        "#     alpha = lda_model.alpha\n",
        "#     eta = lda_model.eta\n",
        "#     return perplexity, coherence, alpha, eta\n",
        "\n",
        "# # Define the parameter grid with your specific values\n",
        "# num_topics_range = range(2, 10)  # Adjust the range based on your needs\n",
        "# chunksize_range = [250]\n",
        "# passes_range = [100, 200,260]\n",
        "# iterations_range = [50, 100, 200]\n",
        "\n",
        "# # Store results\n",
        "# results = []\n",
        "\n",
        "# # Grid search over all combinations of hyperparameters\n",
        "# for num_topics, chunksize, passes, iterations in itertools.product(num_topics_range, chunksize_range, passes_range, iterations_range):\n",
        "#     perplexity, coherence, alpha, eta = compute_coherence_and_perplexity(corpus, dictionary, texts, num_topics, chunksize, passes, iterations)\n",
        "#     results.append((num_topics, chunksize, passes, iterations, perplexity, coherence, alpha, eta))\n",
        "#     # print(f\"Num Topics: {num_topics}, Chunksize: {chunksize}, Passes: {passes}, Iterations: {iterations}, Perplexity: {perplexity:.4f}, Coherence: {coherence:.4f}\"  f\"Alpha: {alpha}, Eta: {eta}\")\n",
        "\n",
        "# print(f\"Num Topics: {num_topics}, Chunksize: {chunksize}, Passes: {passes}, Iterations: {iterations}, \"\n",
        "#       f\"Perplexity: {perplexity:.4f}, Coherence: {coherence:.4f}, Alpha: {alpha}, Eta: {eta}\")\n",
        "\n",
        "# # Convert results to a DataFrame for better analysis\n",
        "# results_df = pd.DataFrame(results, columns=['num_topics', 'chunksize', 'passes', 'iterations', 'perplexity', 'coherence','alpha','eta'])\n",
        "# # Add exponentiated perplexity column\n",
        "# results_df['perplexity_exp'] = np.exp(-results_df['perplexity'])\n",
        "\n",
        "\n",
        "# # Display results\n",
        "# print(\"\\nResults:\")\n",
        "# print(results_df)\n",
        "\n",
        "# # Find the optimal number of topics with the highest coherence\n",
        "# optimal_result = results_df.sort_values(\n",
        "#     by=['coherence', 'perplexity_exp'],\n",
        "#     ascending=[False, True]\n",
        "# ).iloc[0]\n",
        "# optimal_num_topics = optimal_result['num_topics']\n",
        "# optimal_chunksize = optimal_result['chunksize']\n",
        "# optimal_passes = optimal_result['passes']\n",
        "# optimal_iterations = optimal_result['iterations']\n",
        "# optimal_perplexity = optimal_result['perplexity_exp']\n",
        "# optimal_coherence = optimal_result['coherence']\n",
        "# optimal_alpha = optimal_result['alpha']\n",
        "# optimal_eta   = optimal_result['eta']\n",
        "\n",
        "\n",
        "# print(f\"\\nOptimal Parameters:\")\n",
        "# print(f\"Number of Topics: {optimal_num_topics}\")\n",
        "# print(f\"Chunksize: {optimal_chunksize}\")\n",
        "# print(f\"Passes: {optimal_passes}\")\n",
        "# print(f\"Iterations: {optimal_iterations}\")\n",
        "# print(f\"Coherence: {optimal_coherence:.4f}\")\n",
        "# print(f\"Perplexity: {optimal_perplexity:.4f}\")\n",
        "# print(f\" Alpha (per topic): {optimal_alpha}\")\n",
        "# print(f\" Eta   (per word):  {optimal_eta}\")"
      ]
    },
    {
      "cell_type": "code",
      "execution_count": 41,
      "metadata": {
        "id": "c6xlGOuk0fSH"
      },
      "outputs": [],
      "source": [
        "# # 1. Fit the model\n",
        "# lda_opt = LdaModel(\n",
        "#     corpus        = corpus,\n",
        "#     id2word       = dictionary,\n",
        "#     num_topics    = optimal_num_topics,\n",
        "#     chunksize     = optimal_chunksize,\n",
        "#     passes        = optimal_passes,\n",
        "#     iterations    = optimal_iterations,\n",
        "#     alpha         = 'auto',\n",
        "#     eta           = 'auto',\n",
        "#     random_state  = 100,\n",
        "#     per_word_topics=True\n",
        "# )\n",
        "\n",
        "# # 2. Extract metrics and priors\n",
        "# opt_perp  = lda_opt.log_perplexity(corpus)\n",
        "# opt_coh   = CoherenceModel(model=lda_opt, texts=texts, dictionary=dictionary, coherence='c_v').get_coherence()\n",
        "# opt_alpha = lda_opt.alpha\n",
        "# opt_eta   = lda_opt.eta\n",
        "\n",
        "# print(f\"Re-fitted Optimal Model:\")\n",
        "# print(f\" Coherence: {opt_coh:.4f}\")\n",
        "# print(f\" Perplexity: {opt_perp:.4f}\")\n",
        "# print(f\" Alpha (per topic): {opt_alpha}\")\n",
        "# print(f\" Eta   (per word):  {opt_eta}\")\n"
      ]
    },
    {
      "cell_type": "code",
      "execution_count": 42,
      "metadata": {
        "id": "pf9JtspW0km7"
      },
      "outputs": [],
      "source": [
        "# import numpy as np\n",
        "# from google.colab import files\n",
        "\n",
        "# # 1. Grab your metrics & hyper‐params\n",
        "# coherence_val  = opt_coh\n",
        "# perplexity_val = opt_perp\n",
        "# alpha_val      = opt_alpha\n",
        "# eta_vals       = opt_eta  # full array\n",
        "\n",
        "# # 2. Write them into a single text file\n",
        "# with open('lda_model_full_summary.txt', 'w') as f:\n",
        "#     f.write(\"Re-fitted Optimal Model:\\n\")\n",
        "#     f.write(f\" Coherence:  {coherence_val:.4f}\\n\")\n",
        "#     f.write(f\" Perplexity: {perplexity_val:.4f}\\n\")\n",
        "#     f.write(f\" Alpha:      {alpha_val}\\n\")\n",
        "#     f.write(\" Eta values:\\n\")\n",
        "#     for eta in eta_vals:\n",
        "#         f.write(f\"{eta}\\n\")\n",
        "\n",
        "# # 3. Trigger the download\n",
        "# files.download('lda_model_full_summary.txt')\n"
      ]
    },
    {
      "cell_type": "code",
      "execution_count": 43,
      "metadata": {
        "id": "6wh8BuUr0nbF"
      },
      "outputs": [],
      "source": [
        "# # Cell 3: verify that the refit recovered the same priors\n",
        "# import numpy as np\n",
        "\n",
        "# print(\"Alpha match:\", np.allclose(optimal_alpha, opt_alpha))\n",
        "# print(\"Eta   match:\", np.allclose(optimal_eta,   opt_eta))\n"
      ]
    },
    {
      "cell_type": "code",
      "execution_count": 44,
      "metadata": {
        "id": "3iJ0eaGy0qmZ"
      },
      "outputs": [],
      "source": [
        "# # Cell 1: Imports\n",
        "# from pprint import pprint\n",
        "# import pyLDAvis.gensim_models as gensimvis\n",
        "# import pyLDAvis\n",
        "\n",
        "# # Cell 2: Print topics & sample document–topic distribution\n",
        "# print(\"=== Topics ===\")\n",
        "# pprint(lda_opt.print_topics())\n",
        "\n",
        "# doc_topics = [lda_opt.get_document_topics(doc) for doc in corpus]\n",
        "# print(\"\\nSample doc-topic distribution for doc 0:\")\n",
        "# pprint(doc_topics[0])\n",
        "\n"
      ]
    },
    {
      "cell_type": "code",
      "execution_count": 45,
      "metadata": {
        "id": "HEcrpKzx0uIg"
      },
      "outputs": [],
      "source": [
        "# # Cell 3: pyLDAvis visualization\n",
        "# # (make sure you’ve run `%matplotlib inline` or enabled notebook output)\n",
        "# pyLDAvis.enable_notebook()\n",
        "# vis_data = gensimvis.prepare(lda_opt, corpus, dictionary)\n",
        "# pyLDAvis.display(vis_data)\n"
      ]
    },
    {
      "cell_type": "code",
      "execution_count": 46,
      "metadata": {
        "id": "UZbC_IiS0xhT"
      },
      "outputs": [],
      "source": [
        "# # Cell 4: Print the top 30 terms per topic\n",
        "# print(\"\\n=== Top 30 terms per topic ===\")\n",
        "# for topic_id, term_weights in lda_opt.show_topics(\n",
        "#         num_topics=lda_opt.num_topics,\n",
        "#         num_words=30,\n",
        "#         formatted=False):\n",
        "#     print(f\"Topic {topic_id + 1}:\")\n",
        "#     for word, weight in term_weights:\n",
        "#         print(f\"  {word} ({weight:.4f})\")\n",
        "#     print()\n"
      ]
    },
    {
      "cell_type": "code",
      "execution_count": 47,
      "metadata": {
        "id": "lTSpqyRRNeFB",
        "colab": {
          "base_uri": "https://localhost:8080/",
          "height": 310
        },
        "outputId": "e6b7f041-aea6-419b-e39b-451d928a26c5"
      },
      "outputs": [
        {
          "output_type": "stream",
          "name": "stderr",
          "text": [
            "<ipython-input-47-9c5104ab297f>:6: SettingWithCopyWarning: \n",
            "A value is trying to be set on a copy of a slice from a DataFrame.\n",
            "Try using .loc[row_indexer,col_indexer] = value instead\n",
            "\n",
            "See the caveats in the documentation: https://pandas.pydata.org/pandas-docs/stable/user_guide/indexing.html#returning-a-view-versus-a-copy\n",
            "  high_neg_first_wave_df['created_utc'] = pd.to_datetime(high_neg_first_wave_df['created_utc'])\n"
          ]
        },
        {
          "output_type": "execute_result",
          "data": {
            "text/plain": [
              "   created_utc     label     score  \\\n",
              "27  2020-05-31  mild neg  0.604601   \n",
              "40  2020-05-30  mild neg  0.583620   \n",
              "53  2020-05-29  mild neg  0.559274   \n",
              "54  2020-05-29  mild neg  0.641406   \n",
              "58  2020-05-29  mild neg  0.581786   \n",
              "\n",
              "                                         cleaned_text  \\\n",
              "27        moot point hawaii doesnt ai like op wanting   \n",
              "40  gt time square hotel nyeat crowne plaza seriou...   \n",
              "53  really depends goal using point merchandise ne...   \n",
              "54                                    obviously silly   \n",
              "58                                          got error   \n",
              "\n",
              "                                               tokens  \\\n",
              "27                  [moot, point, hawaii, like, want]   \n",
              "40  [time, square, hotel, nyeat, crowne, plaza, se...   \n",
              "53  [depend, goal, point, merchandise, great, deal...   \n",
              "54                                 [obviously, silly]   \n",
              "58                                       [get, error]   \n",
              "\n",
              "                                           final_text  \n",
              "27                        moot point hawaii like want  \n",
              "40  time square hotel nyeat crowne plaza seriously...  \n",
              "53  depend goal point merchandise great deal trave...  \n",
              "54                                    obviously silly  \n",
              "58                                          get error  "
            ],
            "text/html": [
              "\n",
              "  <div id=\"df-14612d6c-e94f-4a88-b3f8-eb8c5e76b5cc\" class=\"colab-df-container\">\n",
              "    <div>\n",
              "<style scoped>\n",
              "    .dataframe tbody tr th:only-of-type {\n",
              "        vertical-align: middle;\n",
              "    }\n",
              "\n",
              "    .dataframe tbody tr th {\n",
              "        vertical-align: top;\n",
              "    }\n",
              "\n",
              "    .dataframe thead th {\n",
              "        text-align: right;\n",
              "    }\n",
              "</style>\n",
              "<table border=\"1\" class=\"dataframe\">\n",
              "  <thead>\n",
              "    <tr style=\"text-align: right;\">\n",
              "      <th></th>\n",
              "      <th>created_utc</th>\n",
              "      <th>label</th>\n",
              "      <th>score</th>\n",
              "      <th>cleaned_text</th>\n",
              "      <th>tokens</th>\n",
              "      <th>final_text</th>\n",
              "    </tr>\n",
              "  </thead>\n",
              "  <tbody>\n",
              "    <tr>\n",
              "      <th>27</th>\n",
              "      <td>2020-05-31</td>\n",
              "      <td>mild neg</td>\n",
              "      <td>0.604601</td>\n",
              "      <td>moot point hawaii doesnt ai like op wanting</td>\n",
              "      <td>[moot, point, hawaii, like, want]</td>\n",
              "      <td>moot point hawaii like want</td>\n",
              "    </tr>\n",
              "    <tr>\n",
              "      <th>40</th>\n",
              "      <td>2020-05-30</td>\n",
              "      <td>mild neg</td>\n",
              "      <td>0.583620</td>\n",
              "      <td>gt time square hotel nyeat crowne plaza seriou...</td>\n",
              "      <td>[time, square, hotel, nyeat, crowne, plaza, se...</td>\n",
              "      <td>time square hotel nyeat crowne plaza seriously...</td>\n",
              "    </tr>\n",
              "    <tr>\n",
              "      <th>53</th>\n",
              "      <td>2020-05-29</td>\n",
              "      <td>mild neg</td>\n",
              "      <td>0.559274</td>\n",
              "      <td>really depends goal using point merchandise ne...</td>\n",
              "      <td>[depend, goal, point, merchandise, great, deal...</td>\n",
              "      <td>depend goal point merchandise great deal trave...</td>\n",
              "    </tr>\n",
              "    <tr>\n",
              "      <th>54</th>\n",
              "      <td>2020-05-29</td>\n",
              "      <td>mild neg</td>\n",
              "      <td>0.641406</td>\n",
              "      <td>obviously silly</td>\n",
              "      <td>[obviously, silly]</td>\n",
              "      <td>obviously silly</td>\n",
              "    </tr>\n",
              "    <tr>\n",
              "      <th>58</th>\n",
              "      <td>2020-05-29</td>\n",
              "      <td>mild neg</td>\n",
              "      <td>0.581786</td>\n",
              "      <td>got error</td>\n",
              "      <td>[get, error]</td>\n",
              "      <td>get error</td>\n",
              "    </tr>\n",
              "  </tbody>\n",
              "</table>\n",
              "</div>\n",
              "    <div class=\"colab-df-buttons\">\n",
              "\n",
              "  <div class=\"colab-df-container\">\n",
              "    <button class=\"colab-df-convert\" onclick=\"convertToInteractive('df-14612d6c-e94f-4a88-b3f8-eb8c5e76b5cc')\"\n",
              "            title=\"Convert this dataframe to an interactive table.\"\n",
              "            style=\"display:none;\">\n",
              "\n",
              "  <svg xmlns=\"http://www.w3.org/2000/svg\" height=\"24px\" viewBox=\"0 -960 960 960\">\n",
              "    <path d=\"M120-120v-720h720v720H120Zm60-500h600v-160H180v160Zm220 220h160v-160H400v160Zm0 220h160v-160H400v160ZM180-400h160v-160H180v160Zm440 0h160v-160H620v160ZM180-180h160v-160H180v160Zm440 0h160v-160H620v160Z\"/>\n",
              "  </svg>\n",
              "    </button>\n",
              "\n",
              "  <style>\n",
              "    .colab-df-container {\n",
              "      display:flex;\n",
              "      gap: 12px;\n",
              "    }\n",
              "\n",
              "    .colab-df-convert {\n",
              "      background-color: #E8F0FE;\n",
              "      border: none;\n",
              "      border-radius: 50%;\n",
              "      cursor: pointer;\n",
              "      display: none;\n",
              "      fill: #1967D2;\n",
              "      height: 32px;\n",
              "      padding: 0 0 0 0;\n",
              "      width: 32px;\n",
              "    }\n",
              "\n",
              "    .colab-df-convert:hover {\n",
              "      background-color: #E2EBFA;\n",
              "      box-shadow: 0px 1px 2px rgba(60, 64, 67, 0.3), 0px 1px 3px 1px rgba(60, 64, 67, 0.15);\n",
              "      fill: #174EA6;\n",
              "    }\n",
              "\n",
              "    .colab-df-buttons div {\n",
              "      margin-bottom: 4px;\n",
              "    }\n",
              "\n",
              "    [theme=dark] .colab-df-convert {\n",
              "      background-color: #3B4455;\n",
              "      fill: #D2E3FC;\n",
              "    }\n",
              "\n",
              "    [theme=dark] .colab-df-convert:hover {\n",
              "      background-color: #434B5C;\n",
              "      box-shadow: 0px 1px 3px 1px rgba(0, 0, 0, 0.15);\n",
              "      filter: drop-shadow(0px 1px 2px rgba(0, 0, 0, 0.3));\n",
              "      fill: #FFFFFF;\n",
              "    }\n",
              "  </style>\n",
              "\n",
              "    <script>\n",
              "      const buttonEl =\n",
              "        document.querySelector('#df-14612d6c-e94f-4a88-b3f8-eb8c5e76b5cc button.colab-df-convert');\n",
              "      buttonEl.style.display =\n",
              "        google.colab.kernel.accessAllowed ? 'block' : 'none';\n",
              "\n",
              "      async function convertToInteractive(key) {\n",
              "        const element = document.querySelector('#df-14612d6c-e94f-4a88-b3f8-eb8c5e76b5cc');\n",
              "        const dataTable =\n",
              "          await google.colab.kernel.invokeFunction('convertToInteractive',\n",
              "                                                    [key], {});\n",
              "        if (!dataTable) return;\n",
              "\n",
              "        const docLinkHtml = 'Like what you see? Visit the ' +\n",
              "          '<a target=\"_blank\" href=https://colab.research.google.com/notebooks/data_table.ipynb>data table notebook</a>'\n",
              "          + ' to learn more about interactive tables.';\n",
              "        element.innerHTML = '';\n",
              "        dataTable['output_type'] = 'display_data';\n",
              "        await google.colab.output.renderOutput(dataTable, element);\n",
              "        const docLink = document.createElement('div');\n",
              "        docLink.innerHTML = docLinkHtml;\n",
              "        element.appendChild(docLink);\n",
              "      }\n",
              "    </script>\n",
              "  </div>\n",
              "\n",
              "\n",
              "    <div id=\"df-09dbdbc4-0c1b-46cd-a2d0-33cb05212ab8\">\n",
              "      <button class=\"colab-df-quickchart\" onclick=\"quickchart('df-09dbdbc4-0c1b-46cd-a2d0-33cb05212ab8')\"\n",
              "                title=\"Suggest charts\"\n",
              "                style=\"display:none;\">\n",
              "\n",
              "<svg xmlns=\"http://www.w3.org/2000/svg\" height=\"24px\"viewBox=\"0 0 24 24\"\n",
              "     width=\"24px\">\n",
              "    <g>\n",
              "        <path d=\"M19 3H5c-1.1 0-2 .9-2 2v14c0 1.1.9 2 2 2h14c1.1 0 2-.9 2-2V5c0-1.1-.9-2-2-2zM9 17H7v-7h2v7zm4 0h-2V7h2v10zm4 0h-2v-4h2v4z\"/>\n",
              "    </g>\n",
              "</svg>\n",
              "      </button>\n",
              "\n",
              "<style>\n",
              "  .colab-df-quickchart {\n",
              "      --bg-color: #E8F0FE;\n",
              "      --fill-color: #1967D2;\n",
              "      --hover-bg-color: #E2EBFA;\n",
              "      --hover-fill-color: #174EA6;\n",
              "      --disabled-fill-color: #AAA;\n",
              "      --disabled-bg-color: #DDD;\n",
              "  }\n",
              "\n",
              "  [theme=dark] .colab-df-quickchart {\n",
              "      --bg-color: #3B4455;\n",
              "      --fill-color: #D2E3FC;\n",
              "      --hover-bg-color: #434B5C;\n",
              "      --hover-fill-color: #FFFFFF;\n",
              "      --disabled-bg-color: #3B4455;\n",
              "      --disabled-fill-color: #666;\n",
              "  }\n",
              "\n",
              "  .colab-df-quickchart {\n",
              "    background-color: var(--bg-color);\n",
              "    border: none;\n",
              "    border-radius: 50%;\n",
              "    cursor: pointer;\n",
              "    display: none;\n",
              "    fill: var(--fill-color);\n",
              "    height: 32px;\n",
              "    padding: 0;\n",
              "    width: 32px;\n",
              "  }\n",
              "\n",
              "  .colab-df-quickchart:hover {\n",
              "    background-color: var(--hover-bg-color);\n",
              "    box-shadow: 0 1px 2px rgba(60, 64, 67, 0.3), 0 1px 3px 1px rgba(60, 64, 67, 0.15);\n",
              "    fill: var(--button-hover-fill-color);\n",
              "  }\n",
              "\n",
              "  .colab-df-quickchart-complete:disabled,\n",
              "  .colab-df-quickchart-complete:disabled:hover {\n",
              "    background-color: var(--disabled-bg-color);\n",
              "    fill: var(--disabled-fill-color);\n",
              "    box-shadow: none;\n",
              "  }\n",
              "\n",
              "  .colab-df-spinner {\n",
              "    border: 2px solid var(--fill-color);\n",
              "    border-color: transparent;\n",
              "    border-bottom-color: var(--fill-color);\n",
              "    animation:\n",
              "      spin 1s steps(1) infinite;\n",
              "  }\n",
              "\n",
              "  @keyframes spin {\n",
              "    0% {\n",
              "      border-color: transparent;\n",
              "      border-bottom-color: var(--fill-color);\n",
              "      border-left-color: var(--fill-color);\n",
              "    }\n",
              "    20% {\n",
              "      border-color: transparent;\n",
              "      border-left-color: var(--fill-color);\n",
              "      border-top-color: var(--fill-color);\n",
              "    }\n",
              "    30% {\n",
              "      border-color: transparent;\n",
              "      border-left-color: var(--fill-color);\n",
              "      border-top-color: var(--fill-color);\n",
              "      border-right-color: var(--fill-color);\n",
              "    }\n",
              "    40% {\n",
              "      border-color: transparent;\n",
              "      border-right-color: var(--fill-color);\n",
              "      border-top-color: var(--fill-color);\n",
              "    }\n",
              "    60% {\n",
              "      border-color: transparent;\n",
              "      border-right-color: var(--fill-color);\n",
              "    }\n",
              "    80% {\n",
              "      border-color: transparent;\n",
              "      border-right-color: var(--fill-color);\n",
              "      border-bottom-color: var(--fill-color);\n",
              "    }\n",
              "    90% {\n",
              "      border-color: transparent;\n",
              "      border-bottom-color: var(--fill-color);\n",
              "    }\n",
              "  }\n",
              "</style>\n",
              "\n",
              "      <script>\n",
              "        async function quickchart(key) {\n",
              "          const quickchartButtonEl =\n",
              "            document.querySelector('#' + key + ' button');\n",
              "          quickchartButtonEl.disabled = true;  // To prevent multiple clicks.\n",
              "          quickchartButtonEl.classList.add('colab-df-spinner');\n",
              "          try {\n",
              "            const charts = await google.colab.kernel.invokeFunction(\n",
              "                'suggestCharts', [key], {});\n",
              "          } catch (error) {\n",
              "            console.error('Error during call to suggestCharts:', error);\n",
              "          }\n",
              "          quickchartButtonEl.classList.remove('colab-df-spinner');\n",
              "          quickchartButtonEl.classList.add('colab-df-quickchart-complete');\n",
              "        }\n",
              "        (() => {\n",
              "          let quickchartButtonEl =\n",
              "            document.querySelector('#df-09dbdbc4-0c1b-46cd-a2d0-33cb05212ab8 button');\n",
              "          quickchartButtonEl.style.display =\n",
              "            google.colab.kernel.accessAllowed ? 'block' : 'none';\n",
              "        })();\n",
              "      </script>\n",
              "    </div>\n",
              "\n",
              "    </div>\n",
              "  </div>\n"
            ],
            "application/vnd.google.colaboratory.intrinsic+json": {
              "type": "dataframe",
              "variable_name": "high_neg_first_wave_df",
              "summary": "{\n  \"name\": \"high_neg_first_wave_df\",\n  \"rows\": 2146,\n  \"fields\": [\n    {\n      \"column\": \"created_utc\",\n      \"properties\": {\n        \"dtype\": \"date\",\n        \"min\": \"2020-01-09 00:00:00\",\n        \"max\": \"2020-05-31 00:00:00\",\n        \"num_unique_values\": 144,\n        \"samples\": [\n          \"2020-02-03 00:00:00\",\n          \"2020-05-12 00:00:00\",\n          \"2020-03-09 00:00:00\"\n        ],\n        \"semantic_type\": \"\",\n        \"description\": \"\"\n      }\n    },\n    {\n      \"column\": \"label\",\n      \"properties\": {\n        \"dtype\": \"category\",\n        \"num_unique_values\": 1,\n        \"samples\": [\n          \"mild neg\"\n        ],\n        \"semantic_type\": \"\",\n        \"description\": \"\"\n      }\n    },\n    {\n      \"column\": \"score\",\n      \"properties\": {\n        \"dtype\": \"number\",\n        \"std\": 0.05502515729331873,\n        \"min\": 0.4907307922840118,\n        \"max\": 0.7498793005943298,\n        \"num_unique_values\": 2124,\n        \"samples\": [\n          0.7049512267112732\n        ],\n        \"semantic_type\": \"\",\n        \"description\": \"\"\n      }\n    },\n    {\n      \"column\": \"cleaned_text\",\n      \"properties\": {\n        \"dtype\": \"string\",\n        \"num_unique_values\": 2131,\n        \"samples\": [\n          \"shikoku temple pilgrimage everything booked cancel need rebook next year sadly\"\n        ],\n        \"semantic_type\": \"\",\n        \"description\": \"\"\n      }\n    },\n    {\n      \"column\": \"tokens\",\n      \"properties\": {\n        \"dtype\": \"object\",\n        \"semantic_type\": \"\",\n        \"description\": \"\"\n      }\n    },\n    {\n      \"column\": \"final_text\",\n      \"properties\": {\n        \"dtype\": \"string\",\n        \"num_unique_values\": 2128,\n        \"samples\": [\n          \"shikoku temple pilgrimage book cancel need rebook year sadly\"\n        ],\n        \"semantic_type\": \"\",\n        \"description\": \"\"\n      }\n    }\n  ]\n}"
            }
          },
          "metadata": {},
          "execution_count": 47
        }
      ],
      "source": [
        "####### HIGH NEGATIVE FOR FIRST COVID WAVE ########\n",
        "# Filter the DataFrame\n",
        "high_neg_first_wave_df = df[df['label'] == 'mild neg']\n",
        "\n",
        "# Convert the 'created_utc' column to datetime\n",
        "high_neg_first_wave_df['created_utc'] = pd.to_datetime(high_neg_first_wave_df['created_utc'])\n",
        "\n",
        "# Define your date range\n",
        "start_date = '2020-01-01'\n",
        "end_date = '2020-05-31'\n",
        "\n",
        "# Filter the DataFrame for entries within the specified date range\n",
        "high_neg_first_wave_df = high_neg_first_wave_df[(high_neg_first_wave_df['created_utc'] >= start_date) & (high_neg_first_wave_df['created_utc'] <= end_date)]\n",
        "\n",
        "\n",
        "# Print the filtered DataFrame to check the result\n",
        "high_neg_first_wave_df.head()"
      ]
    },
    {
      "cell_type": "code",
      "execution_count": 48,
      "metadata": {
        "id": "Pvuh8kxPZ8Yy",
        "colab": {
          "base_uri": "https://localhost:8080/"
        },
        "outputId": "f14f7446-8484-4a9e-8fbf-58cc0d416525"
      },
      "outputs": [
        {
          "output_type": "execute_result",
          "data": {
            "text/plain": [
              "2146"
            ]
          },
          "metadata": {},
          "execution_count": 48
        }
      ],
      "source": [
        "high_neg_first_wave_df.shape[0]"
      ]
    },
    {
      "cell_type": "code",
      "execution_count": 49,
      "metadata": {
        "id": "F1OTWZNQaXj8",
        "colab": {
          "base_uri": "https://localhost:8080/",
          "height": 1000
        },
        "outputId": "4eae9b38-25c6-4913-e106-d11df2dddfbe"
      },
      "outputs": [
        {
          "output_type": "stream",
          "name": "stdout",
          "text": [
            "      token  count\n",
            "0    flight    879\n",
            "1    cancel    558\n",
            "2   airline    473\n",
            "3    refund    378\n",
            "4      book    330\n",
            "5    travel    303\n",
            "6      like    296\n",
            "7     point    288\n",
            "8    ticket    288\n",
            "9    people    276\n",
            "10     time    272\n",
            "11       go    245\n",
            "12      get    230\n",
            "13      fly    220\n",
            "14      try    219\n",
            "15    think    209\n",
            "16      day    196\n",
            "17      pay    196\n",
            "18      bad    196\n",
            "19     know    195\n",
            "20     want    190\n",
            "21      say    180\n",
            "22     mile    173\n",
            "23      way    168\n",
            "24   change    166\n",
            "25     year    159\n",
            "26     need    159\n",
            "27     find    157\n",
            "28     look    155\n",
            "29     work    155\n"
          ]
        },
        {
          "output_type": "display_data",
          "data": {
            "text/plain": [
              "<Figure size 640x480 with 1 Axes>"
            ],
            "image/png": "[encoded data removed]"
          },
          "metadata": {}
        }
      ],
      "source": [
        "from collections import Counter\n",
        "import pandas as pd\n",
        "import matplotlib.pyplot as plt\n",
        "\n",
        "# 1) Flatten your tokens into one long list\n",
        "all_tokens = [t for toks in high_neg_first_wave_df['tokens'] for t in toks]\n",
        "\n",
        "# 2) Build a frequency distribution\n",
        "freq = Counter(all_tokens)\n",
        "common = freq.most_common(30)   # top 30\n",
        "\n",
        "# 3) Turn it into a DataFrame for easy inspection\n",
        "df_freq = pd.DataFrame(common, columns=['token','count'])\n",
        "print(df_freq)\n",
        "\n",
        "# 4) Plot a simple bar chart of the top tokens\n",
        "tokens, counts = zip(*common)\n",
        "plt.figure()\n",
        "plt.bar(tokens, counts)\n",
        "plt.xticks(rotation=45, ha='right')\n",
        "plt.xlabel('Token')\n",
        "plt.ylabel('Frequency')\n",
        "plt.title('Top 30 Tokens in high_negative_df')\n",
        "plt.tight_layout()\n",
        "plt.show()"
      ]
    },
    {
      "cell_type": "code",
      "execution_count": 50,
      "metadata": {
        "id": "btQD7R99all4",
        "colab": {
          "base_uri": "https://localhost:8080/"
        },
        "outputId": "e68fe6d3-33b6-4016-c58e-2f95f219e3fa"
      },
      "outputs": [
        {
          "output_type": "stream",
          "name": "stdout",
          "text": [
            "39452 words total, with a vocabulary size of 5454\n",
            "Max reddit post length is 195 tokens\n",
            "Mean reddit post length is 18.38 tokens\n",
            "Median reddit post length is 13 tokens\n"
          ]
        }
      ],
      "source": [
        "# Flatten all tokens into one list\n",
        "all_words   = [word for tokens in high_neg_first_wave_df['tokens'] for word in tokens]\n",
        "\n",
        "# Compute the length (in tokens) of each post\n",
        "post_length = [len(tokens) for tokens in high_neg_first_wave_df['tokens']]\n",
        "\n",
        "# Build the vocabulary\n",
        "vocab       = sorted(set(all_words))\n",
        "\n",
        "# Print your summary stats\n",
        "print(f\"{len(all_words)} words total, with a vocabulary size of {len(vocab)}\")\n",
        "print(f\"Max reddit post length is {max(post_length)} tokens\")\n",
        "print(f\"Mean reddit post length is {sum(post_length)/len(post_length):.2f} tokens\")\n",
        "print(f\"Median reddit post length is {sorted(post_length)[len(post_length)//2]} tokens\")\n"
      ]
    },
    {
      "cell_type": "code",
      "execution_count": 51,
      "metadata": {
        "id": "rve3QhCUau2i",
        "colab": {
          "base_uri": "https://localhost:8080/",
          "height": 727
        },
        "outputId": "c985016c-052c-47e3-8d76-d84b1f3fa068"
      },
      "outputs": [
        {
          "output_type": "display_data",
          "data": {
            "text/plain": [
              "<Figure size 1500x800 with 1 Axes>"
            ],
            "image/png": "[encoded data removed]"
          },
          "metadata": {}
        }
      ],
      "source": [
        "plt.figure(figsize=(15, 8))\n",
        "sns.histplot(post_length, bins=60, kde=True)\n",
        "plt.title('Post Length Distribution', fontsize=18)\n",
        "plt.xlabel('Words per Post', fontsize=12)\n",
        "plt.ylabel('Number of Posts', fontsize=12)\n",
        "# Setting x-axis ticks and labels for more detail\n",
        "max_length = max(post_length)\n",
        "xticks = np.arange(0, max_length + 1, max_length // 60)  # Adjust the step size as needed\n",
        "plt.xticks(xticks)\n",
        "plt.show()"
      ]
    },
    {
      "cell_type": "code",
      "execution_count": 52,
      "metadata": {
        "id": "JrkzaktPa0tn"
      },
      "outputs": [],
      "source": [
        "#!pip install  gensim\n"
      ]
    },
    {
      "cell_type": "code",
      "execution_count": 53,
      "metadata": {
        "id": "dFMsom6Fb4XP",
        "colab": {
          "base_uri": "https://localhost:8080/"
        },
        "outputId": "dcac06a3-8f6f-40c6-c586-d197c82348d1"
      },
      "outputs": [
        {
          "output_type": "stream",
          "name": "stdout",
          "text": [
            "                                               tokens  \\\n",
            "27                  [moot, point, hawaii, like, want]   \n",
            "40  [time, square, hotel, nyeat, crowne, plaza, se...   \n",
            "53  [depend, goal, point, merchandise, great, deal...   \n",
            "54                                 [obviously, silly]   \n",
            "58                                       [get, error]   \n",
            "\n",
            "                                        bigram_tokens  \\\n",
            "27                  [moot, point, hawaii, like, want]   \n",
            "40  [time, square, hotel, nyeat, crowne, plaza, se...   \n",
            "53  [depend, goal, point, merchandise, great, deal...   \n",
            "54                                 [obviously, silly]   \n",
            "58                                       [get, error]   \n",
            "\n",
            "                                       trigram_tokens  \n",
            "27                  [moot, point, hawaii, like, want]  \n",
            "40  [time, square, hotel, nyeat, crowne, plaza, se...  \n",
            "53  [depend, goal, point, merchandise, great, deal...  \n",
            "54                                 [obviously, silly]  \n",
            "58                                       [get, error]  \n"
          ]
        }
      ],
      "source": [
        "import gensim\n",
        "from gensim.models import Phrases\n",
        "from gensim.models.phrases import Phraser\n",
        "\n",
        "# 1) Prepare your list-of-lists from the `tokens` column\n",
        "texts = high_neg_first_wave_df['tokens'].tolist()\n",
        "\n",
        "# 2) Train the bigram detector\n",
        "bigram = Phrases(texts, min_count=3, threshold=60)\n",
        "bigram_mod = Phraser(bigram)\n",
        "\n",
        "# 3) Train the trigram detector on the bigram-transformed texts\n",
        "trigram = Phrases(bigram[texts], min_count=2, threshold=150)\n",
        "trigram_mod = Phraser(trigram)\n",
        "\n",
        "# 4) Apply bigram and trigram transforms\n",
        "high_neg_first_wave_df['bigram_tokens']   = high_neg_first_wave_df['tokens'].apply(lambda doc: bigram_mod[doc])\n",
        "high_neg_first_wave_df['trigram_tokens']  = high_neg_first_wave_df['tokens'].apply(lambda doc: trigram_mod[bigram_mod[doc]])\n",
        "\n",
        "# #\n",
        "# high_neg_first_wave_df['bigram_text']   = high_neg_first_wave_df['bigram_tokens'].str.join(' ')\n",
        "# high_neg_first_wave_df['trigram_text']  = high_neg_first_wave_df['trigram_tokens'].str.join(' ')\n",
        "\n",
        "# 6) Inspect\n",
        "print(high_neg_first_wave_df[['tokens','bigram_tokens','trigram_tokens']].head())\n"
      ]
    },
    {
      "cell_type": "code",
      "execution_count": 54,
      "metadata": {
        "id": "wLMqGnXScCM7",
        "colab": {
          "base_uri": "https://localhost:8080/"
        },
        "outputId": "c7b00afa-408c-49e1-fd8e-980f305f6d91"
      },
      "outputs": [
        {
          "output_type": "stream",
          "name": "stdout",
          "text": [
            "Rows with bigrams:   411\n",
            "Rows with trigrams:  6\n",
            "Rows with no n-grams: 1735\n"
          ]
        }
      ],
      "source": [
        "# 1) Helper to detect n-grams in a token list\n",
        "def contains_ngram(tokenized_list, n):\n",
        "    return any(len(tok.split('_')) == n for tok in tokenized_list)\n",
        "\n",
        "# 2) Flag rows\n",
        "high_neg_first_wave_df['has_bigrams']  = high_neg_first_wave_df['bigram_tokens'].apply(lambda doc: contains_ngram(doc, 2))\n",
        "high_neg_first_wave_df['has_trigrams'] = high_neg_first_wave_df['trigram_tokens'].apply(lambda doc: contains_ngram(doc, 3))\n",
        "\n",
        "# 3) Count\n",
        "rows_with_bigrams  = high_neg_first_wave_df['has_bigrams'].sum()\n",
        "rows_with_trigrams = high_neg_first_wave_df['has_trigrams'].sum()\n",
        "rows_with_none     = (~high_neg_first_wave_df['has_bigrams'] & ~high_neg_first_wave_df['has_trigrams']).sum()\n",
        "\n",
        "# 4) Report\n",
        "print(f\"Rows with bigrams:   {rows_with_bigrams}\")\n",
        "print(f\"Rows with trigrams:  {rows_with_trigrams}\")\n",
        "print(f\"Rows with no n-grams: {rows_with_none}\")\n"
      ]
    },
    {
      "cell_type": "code",
      "execution_count": 55,
      "metadata": {
        "id": "KKHQtNgCcIDm",
        "colab": {
          "base_uri": "https://localhost:8080/",
          "height": 293
        },
        "outputId": "f7cee731-c7a8-445f-9713-56361e682b17"
      },
      "outputs": [
        {
          "output_type": "execute_result",
          "data": {
            "text/plain": [
              "   created_utc     label     score  \\\n",
              "27  2020-05-31  mild neg  0.604601   \n",
              "40  2020-05-30  mild neg  0.583620   \n",
              "53  2020-05-29  mild neg  0.559274   \n",
              "54  2020-05-29  mild neg  0.641406   \n",
              "58  2020-05-29  mild neg  0.581786   \n",
              "\n",
              "                                         cleaned_text  \\\n",
              "27        moot point hawaii doesnt ai like op wanting   \n",
              "40  gt time square hotel nyeat crowne plaza seriou...   \n",
              "53  really depends goal using point merchandise ne...   \n",
              "54                                    obviously silly   \n",
              "58                                          got error   \n",
              "\n",
              "                                               tokens  \\\n",
              "27                  [moot, point, hawaii, like, want]   \n",
              "40  [time, square, hotel, nyeat, crowne, plaza, se...   \n",
              "53  [depend, goal, point, merchandise, great, deal...   \n",
              "54                                 [obviously, silly]   \n",
              "58                                       [get, error]   \n",
              "\n",
              "                                           final_text  \\\n",
              "27                        moot point hawaii like want   \n",
              "40  time square hotel nyeat crowne plaza seriously...   \n",
              "53  depend goal point merchandise great deal trave...   \n",
              "54                                    obviously silly   \n",
              "58                                          get error   \n",
              "\n",
              "                                        bigram_tokens  \\\n",
              "27                  [moot, point, hawaii, like, want]   \n",
              "40  [time, square, hotel, nyeat, crowne, plaza, se...   \n",
              "53  [depend, goal, point, merchandise, great, deal...   \n",
              "54                                 [obviously, silly]   \n",
              "58                                       [get, error]   \n",
              "\n",
              "                                       trigram_tokens  has_bigrams  \\\n",
              "27                  [moot, point, hawaii, like, want]        False   \n",
              "40  [time, square, hotel, nyeat, crowne, plaza, se...        False   \n",
              "53  [depend, goal, point, merchandise, great, deal...        False   \n",
              "54                                 [obviously, silly]        False   \n",
              "58                                       [get, error]        False   \n",
              "\n",
              "    has_trigrams  \n",
              "27         False  \n",
              "40         False  \n",
              "53         False  \n",
              "54         False  \n",
              "58         False  "
            ],
            "text/html": [
              "\n",
              "  <div id=\"df-c0a6f600-4546-4dc7-8fdb-2d0ddefb2ded\" class=\"colab-df-container\">\n",
              "    <div>\n",
              "<style scoped>\n",
              "    .dataframe tbody tr th:only-of-type {\n",
              "        vertical-align: middle;\n",
              "    }\n",
              "\n",
              "    .dataframe tbody tr th {\n",
              "        vertical-align: top;\n",
              "    }\n",
              "\n",
              "    .dataframe thead th {\n",
              "        text-align: right;\n",
              "    }\n",
              "</style>\n",
              "<table border=\"1\" class=\"dataframe\">\n",
              "  <thead>\n",
              "    <tr style=\"text-align: right;\">\n",
              "      <th></th>\n",
              "      <th>created_utc</th>\n",
              "      <th>label</th>\n",
              "      <th>score</th>\n",
              "      <th>cleaned_text</th>\n",
              "      <th>tokens</th>\n",
              "      <th>final_text</th>\n",
              "      <th>bigram_tokens</th>\n",
              "      <th>trigram_tokens</th>\n",
              "      <th>has_bigrams</th>\n",
              "      <th>has_trigrams</th>\n",
              "    </tr>\n",
              "  </thead>\n",
              "  <tbody>\n",
              "    <tr>\n",
              "      <th>27</th>\n",
              "      <td>2020-05-31</td>\n",
              "      <td>mild neg</td>\n",
              "      <td>0.604601</td>\n",
              "      <td>moot point hawaii doesnt ai like op wanting</td>\n",
              "      <td>[moot, point, hawaii, like, want]</td>\n",
              "      <td>moot point hawaii like want</td>\n",
              "      <td>[moot, point, hawaii, like, want]</td>\n",
              "      <td>[moot, point, hawaii, like, want]</td>\n",
              "      <td>False</td>\n",
              "      <td>False</td>\n",
              "    </tr>\n",
              "    <tr>\n",
              "      <th>40</th>\n",
              "      <td>2020-05-30</td>\n",
              "      <td>mild neg</td>\n",
              "      <td>0.583620</td>\n",
              "      <td>gt time square hotel nyeat crowne plaza seriou...</td>\n",
              "      <td>[time, square, hotel, nyeat, crowne, plaza, se...</td>\n",
              "      <td>time square hotel nyeat crowne plaza seriously...</td>\n",
              "      <td>[time, square, hotel, nyeat, crowne, plaza, se...</td>\n",
              "      <td>[time, square, hotel, nyeat, crowne, plaza, se...</td>\n",
              "      <td>False</td>\n",
              "      <td>False</td>\n",
              "    </tr>\n",
              "    <tr>\n",
              "      <th>53</th>\n",
              "      <td>2020-05-29</td>\n",
              "      <td>mild neg</td>\n",
              "      <td>0.559274</td>\n",
              "      <td>really depends goal using point merchandise ne...</td>\n",
              "      <td>[depend, goal, point, merchandise, great, deal...</td>\n",
              "      <td>depend goal point merchandise great deal trave...</td>\n",
              "      <td>[depend, goal, point, merchandise, great, deal...</td>\n",
              "      <td>[depend, goal, point, merchandise, great, deal...</td>\n",
              "      <td>False</td>\n",
              "      <td>False</td>\n",
              "    </tr>\n",
              "    <tr>\n",
              "      <th>54</th>\n",
              "      <td>2020-05-29</td>\n",
              "      <td>mild neg</td>\n",
              "      <td>0.641406</td>\n",
              "      <td>obviously silly</td>\n",
              "      <td>[obviously, silly]</td>\n",
              "      <td>obviously silly</td>\n",
              "      <td>[obviously, silly]</td>\n",
              "      <td>[obviously, silly]</td>\n",
              "      <td>False</td>\n",
              "      <td>False</td>\n",
              "    </tr>\n",
              "    <tr>\n",
              "      <th>58</th>\n",
              "      <td>2020-05-29</td>\n",
              "      <td>mild neg</td>\n",
              "      <td>0.581786</td>\n",
              "      <td>got error</td>\n",
              "      <td>[get, error]</td>\n",
              "      <td>get error</td>\n",
              "      <td>[get, error]</td>\n",
              "      <td>[get, error]</td>\n",
              "      <td>False</td>\n",
              "      <td>False</td>\n",
              "    </tr>\n",
              "  </tbody>\n",
              "</table>\n",
              "</div>\n",
              "    <div class=\"colab-df-buttons\">\n",
              "\n",
              "  <div class=\"colab-df-container\">\n",
              "    <button class=\"colab-df-convert\" onclick=\"convertToInteractive('df-c0a6f600-4546-4dc7-8fdb-2d0ddefb2ded')\"\n",
              "            title=\"Convert this dataframe to an interactive table.\"\n",
              "            style=\"display:none;\">\n",
              "\n",
              "  <svg xmlns=\"http://www.w3.org/2000/svg\" height=\"24px\" viewBox=\"0 -960 960 960\">\n",
              "    <path d=\"M120-120v-720h720v720H120Zm60-500h600v-160H180v160Zm220 220h160v-160H400v160Zm0 220h160v-160H400v160ZM180-400h160v-160H180v160Zm440 0h160v-160H620v160ZM180-180h160v-160H180v160Zm440 0h160v-160H620v160Z\"/>\n",
              "  </svg>\n",
              "    </button>\n",
              "\n",
              "  <style>\n",
              "    .colab-df-container {\n",
              "      display:flex;\n",
              "      gap: 12px;\n",
              "    }\n",
              "\n",
              "    .colab-df-convert {\n",
              "      background-color: #E8F0FE;\n",
              "      border: none;\n",
              "      border-radius: 50%;\n",
              "      cursor: pointer;\n",
              "      display: none;\n",
              "      fill: #1967D2;\n",
              "      height: 32px;\n",
              "      padding: 0 0 0 0;\n",
              "      width: 32px;\n",
              "    }\n",
              "\n",
              "    .colab-df-convert:hover {\n",
              "      background-color: #E2EBFA;\n",
              "      box-shadow: 0px 1px 2px rgba(60, 64, 67, 0.3), 0px 1px 3px 1px rgba(60, 64, 67, 0.15);\n",
              "      fill: #174EA6;\n",
              "    }\n",
              "\n",
              "    .colab-df-buttons div {\n",
              "      margin-bottom: 4px;\n",
              "    }\n",
              "\n",
              "    [theme=dark] .colab-df-convert {\n",
              "      background-color: #3B4455;\n",
              "      fill: #D2E3FC;\n",
              "    }\n",
              "\n",
              "    [theme=dark] .colab-df-convert:hover {\n",
              "      background-color: #434B5C;\n",
              "      box-shadow: 0px 1px 3px 1px rgba(0, 0, 0, 0.15);\n",
              "      filter: drop-shadow(0px 1px 2px rgba(0, 0, 0, 0.3));\n",
              "      fill: #FFFFFF;\n",
              "    }\n",
              "  </style>\n",
              "\n",
              "    <script>\n",
              "      const buttonEl =\n",
              "        document.querySelector('#df-c0a6f600-4546-4dc7-8fdb-2d0ddefb2ded button.colab-df-convert');\n",
              "      buttonEl.style.display =\n",
              "        google.colab.kernel.accessAllowed ? 'block' : 'none';\n",
              "\n",
              "      async function convertToInteractive(key) {\n",
              "        const element = document.querySelector('#df-c0a6f600-4546-4dc7-8fdb-2d0ddefb2ded');\n",
              "        const dataTable =\n",
              "          await google.colab.kernel.invokeFunction('convertToInteractive',\n",
              "                                                    [key], {});\n",
              "        if (!dataTable) return;\n",
              "\n",
              "        const docLinkHtml = 'Like what you see? Visit the ' +\n",
              "          '<a target=\"_blank\" href=https://colab.research.google.com/notebooks/data_table.ipynb>data table notebook</a>'\n",
              "          + ' to learn more about interactive tables.';\n",
              "        element.innerHTML = '';\n",
              "        dataTable['output_type'] = 'display_data';\n",
              "        await google.colab.output.renderOutput(dataTable, element);\n",
              "        const docLink = document.createElement('div');\n",
              "        docLink.innerHTML = docLinkHtml;\n",
              "        element.appendChild(docLink);\n",
              "      }\n",
              "    </script>\n",
              "  </div>\n",
              "\n",
              "\n",
              "    <div id=\"df-4520908a-0e41-468f-ab93-e691972ab7bf\">\n",
              "      <button class=\"colab-df-quickchart\" onclick=\"quickchart('df-4520908a-0e41-468f-ab93-e691972ab7bf')\"\n",
              "                title=\"Suggest charts\"\n",
              "                style=\"display:none;\">\n",
              "\n",
              "<svg xmlns=\"http://www.w3.org/2000/svg\" height=\"24px\"viewBox=\"0 0 24 24\"\n",
              "     width=\"24px\">\n",
              "    <g>\n",
              "        <path d=\"M19 3H5c-1.1 0-2 .9-2 2v14c0 1.1.9 2 2 2h14c1.1 0 2-.9 2-2V5c0-1.1-.9-2-2-2zM9 17H7v-7h2v7zm4 0h-2V7h2v10zm4 0h-2v-4h2v4z\"/>\n",
              "    </g>\n",
              "</svg>\n",
              "      </button>\n",
              "\n",
              "<style>\n",
              "  .colab-df-quickchart {\n",
              "      --bg-color: #E8F0FE;\n",
              "      --fill-color: #1967D2;\n",
              "      --hover-bg-color: #E2EBFA;\n",
              "      --hover-fill-color: #174EA6;\n",
              "      --disabled-fill-color: #AAA;\n",
              "      --disabled-bg-color: #DDD;\n",
              "  }\n",
              "\n",
              "  [theme=dark] .colab-df-quickchart {\n",
              "      --bg-color: #3B4455;\n",
              "      --fill-color: #D2E3FC;\n",
              "      --hover-bg-color: #434B5C;\n",
              "      --hover-fill-color: #FFFFFF;\n",
              "      --disabled-bg-color: #3B4455;\n",
              "      --disabled-fill-color: #666;\n",
              "  }\n",
              "\n",
              "  .colab-df-quickchart {\n",
              "    background-color: var(--bg-color);\n",
              "    border: none;\n",
              "    border-radius: 50%;\n",
              "    cursor: pointer;\n",
              "    display: none;\n",
              "    fill: var(--fill-color);\n",
              "    height: 32px;\n",
              "    padding: 0;\n",
              "    width: 32px;\n",
              "  }\n",
              "\n",
              "  .colab-df-quickchart:hover {\n",
              "    background-color: var(--hover-bg-color);\n",
              "    box-shadow: 0 1px 2px rgba(60, 64, 67, 0.3), 0 1px 3px 1px rgba(60, 64, 67, 0.15);\n",
              "    fill: var(--button-hover-fill-color);\n",
              "  }\n",
              "\n",
              "  .colab-df-quickchart-complete:disabled,\n",
              "  .colab-df-quickchart-complete:disabled:hover {\n",
              "    background-color: var(--disabled-bg-color);\n",
              "    fill: var(--disabled-fill-color);\n",
              "    box-shadow: none;\n",
              "  }\n",
              "\n",
              "  .colab-df-spinner {\n",
              "    border: 2px solid var(--fill-color);\n",
              "    border-color: transparent;\n",
              "    border-bottom-color: var(--fill-color);\n",
              "    animation:\n",
              "      spin 1s steps(1) infinite;\n",
              "  }\n",
              "\n",
              "  @keyframes spin {\n",
              "    0% {\n",
              "      border-color: transparent;\n",
              "      border-bottom-color: var(--fill-color);\n",
              "      border-left-color: var(--fill-color);\n",
              "    }\n",
              "    20% {\n",
              "      border-color: transparent;\n",
              "      border-left-color: var(--fill-color);\n",
              "      border-top-color: var(--fill-color);\n",
              "    }\n",
              "    30% {\n",
              "      border-color: transparent;\n",
              "      border-left-color: var(--fill-color);\n",
              "      border-top-color: var(--fill-color);\n",
              "      border-right-color: var(--fill-color);\n",
              "    }\n",
              "    40% {\n",
              "      border-color: transparent;\n",
              "      border-right-color: var(--fill-color);\n",
              "      border-top-color: var(--fill-color);\n",
              "    }\n",
              "    60% {\n",
              "      border-color: transparent;\n",
              "      border-right-color: var(--fill-color);\n",
              "    }\n",
              "    80% {\n",
              "      border-color: transparent;\n",
              "      border-right-color: var(--fill-color);\n",
              "      border-bottom-color: var(--fill-color);\n",
              "    }\n",
              "    90% {\n",
              "      border-color: transparent;\n",
              "      border-bottom-color: var(--fill-color);\n",
              "    }\n",
              "  }\n",
              "</style>\n",
              "\n",
              "      <script>\n",
              "        async function quickchart(key) {\n",
              "          const quickchartButtonEl =\n",
              "            document.querySelector('#' + key + ' button');\n",
              "          quickchartButtonEl.disabled = true;  // To prevent multiple clicks.\n",
              "          quickchartButtonEl.classList.add('colab-df-spinner');\n",
              "          try {\n",
              "            const charts = await google.colab.kernel.invokeFunction(\n",
              "                'suggestCharts', [key], {});\n",
              "          } catch (error) {\n",
              "            console.error('Error during call to suggestCharts:', error);\n",
              "          }\n",
              "          quickchartButtonEl.classList.remove('colab-df-spinner');\n",
              "          quickchartButtonEl.classList.add('colab-df-quickchart-complete');\n",
              "        }\n",
              "        (() => {\n",
              "          let quickchartButtonEl =\n",
              "            document.querySelector('#df-4520908a-0e41-468f-ab93-e691972ab7bf button');\n",
              "          quickchartButtonEl.style.display =\n",
              "            google.colab.kernel.accessAllowed ? 'block' : 'none';\n",
              "        })();\n",
              "      </script>\n",
              "    </div>\n",
              "\n",
              "    </div>\n",
              "  </div>\n"
            ],
            "application/vnd.google.colaboratory.intrinsic+json": {
              "type": "dataframe",
              "variable_name": "high_neg_first_wave_df",
              "summary": "{\n  \"name\": \"high_neg_first_wave_df\",\n  \"rows\": 2146,\n  \"fields\": [\n    {\n      \"column\": \"created_utc\",\n      \"properties\": {\n        \"dtype\": \"date\",\n        \"min\": \"2020-01-09 00:00:00\",\n        \"max\": \"2020-05-31 00:00:00\",\n        \"num_unique_values\": 144,\n        \"samples\": [\n          \"2020-02-03 00:00:00\",\n          \"2020-05-12 00:00:00\",\n          \"2020-03-09 00:00:00\"\n        ],\n        \"semantic_type\": \"\",\n        \"description\": \"\"\n      }\n    },\n    {\n      \"column\": \"label\",\n      \"properties\": {\n        \"dtype\": \"category\",\n        \"num_unique_values\": 1,\n        \"samples\": [\n          \"mild neg\"\n        ],\n        \"semantic_type\": \"\",\n        \"description\": \"\"\n      }\n    },\n    {\n      \"column\": \"score\",\n      \"properties\": {\n        \"dtype\": \"number\",\n        \"std\": 0.05502515729331873,\n        \"min\": 0.4907307922840118,\n        \"max\": 0.7498793005943298,\n        \"num_unique_values\": 2124,\n        \"samples\": [\n          0.7049512267112732\n        ],\n        \"semantic_type\": \"\",\n        \"description\": \"\"\n      }\n    },\n    {\n      \"column\": \"cleaned_text\",\n      \"properties\": {\n        \"dtype\": \"string\",\n        \"num_unique_values\": 2131,\n        \"samples\": [\n          \"shikoku temple pilgrimage everything booked cancel need rebook next year sadly\"\n        ],\n        \"semantic_type\": \"\",\n        \"description\": \"\"\n      }\n    },\n    {\n      \"column\": \"tokens\",\n      \"properties\": {\n        \"dtype\": \"object\",\n        \"semantic_type\": \"\",\n        \"description\": \"\"\n      }\n    },\n    {\n      \"column\": \"final_text\",\n      \"properties\": {\n        \"dtype\": \"string\",\n        \"num_unique_values\": 2128,\n        \"samples\": [\n          \"shikoku temple pilgrimage book cancel need rebook year sadly\"\n        ],\n        \"semantic_type\": \"\",\n        \"description\": \"\"\n      }\n    },\n    {\n      \"column\": \"bigram_tokens\",\n      \"properties\": {\n        \"dtype\": \"object\",\n        \"semantic_type\": \"\",\n        \"description\": \"\"\n      }\n    },\n    {\n      \"column\": \"trigram_tokens\",\n      \"properties\": {\n        \"dtype\": \"object\",\n        \"semantic_type\": \"\",\n        \"description\": \"\"\n      }\n    },\n    {\n      \"column\": \"has_bigrams\",\n      \"properties\": {\n        \"dtype\": \"boolean\",\n        \"num_unique_values\": 2,\n        \"samples\": [\n          true\n        ],\n        \"semantic_type\": \"\",\n        \"description\": \"\"\n      }\n    },\n    {\n      \"column\": \"has_trigrams\",\n      \"properties\": {\n        \"dtype\": \"boolean\",\n        \"num_unique_values\": 2,\n        \"samples\": [\n          true\n        ],\n        \"semantic_type\": \"\",\n        \"description\": \"\"\n      }\n    }\n  ]\n}"
            }
          },
          "metadata": {},
          "execution_count": 55
        }
      ],
      "source": [
        "high_neg_first_wave_df.head()"
      ]
    },
    {
      "cell_type": "code",
      "execution_count": 56,
      "metadata": {
        "id": "ATF-4cSpcKxG",
        "colab": {
          "base_uri": "https://localhost:8080/"
        },
        "outputId": "3e91eaad-ea2f-4c5d-b58e-54df66f54b33"
      },
      "outputs": [
        {
          "output_type": "stream",
          "name": "stdout",
          "text": [
            "Total number of rows in the DataFrame: 2146\n",
            "Number of rows in 'trigram_tokenized' column: 2146\n"
          ]
        }
      ],
      "source": [
        "# Print the total number of rows in the DataFrame\n",
        "total_rows = high_neg_first_wave_df.shape[0]\n",
        "print(f\"Total number of rows in the DataFrame: {total_rows}\")\n",
        "\n",
        "# Check the number of rows in the 'trigram_tokenized' column\n",
        "print(f\"Number of rows in 'trigram_tokenized' column: {high_neg_first_wave_df['trigram_tokens'].shape[0]}\")"
      ]
    },
    {
      "cell_type": "code",
      "execution_count": 57,
      "metadata": {
        "id": "pJypHxwXcPN2",
        "colab": {
          "base_uri": "https://localhost:8080/"
        },
        "outputId": "f14b881e-2529-4c37-e1e4-2276591596d4"
      },
      "outputs": [
        {
          "output_type": "stream",
          "name": "stdout",
          "text": [
            "Total number of unique trigrams: 2\n",
            "\n",
            "Most common trigrams:\n",
            "avoid_iranian_airspace: 4\n",
            "redeposit_fee_waive: 3\n"
          ]
        }
      ],
      "source": [
        "import itertools\n",
        "from collections import Counter\n",
        "\n",
        "# 1) Flatten all trigram lists into one big sequence\n",
        "all_trigrams = itertools.chain.from_iterable(high_neg_first_wave_df['trigram_tokens'])\n",
        "\n",
        "# 2) Filter for genuine trigrams (exactly two underscores → three words joined)\n",
        "trigram_counts = Counter(\n",
        "    token for token in all_trigrams\n",
        "    if isinstance(token, str) and token.count('_') == 2\n",
        ")\n",
        "\n",
        "# 3) How many unique trigrams?\n",
        "total_unique_trigrams = len(trigram_counts)\n",
        "print(f\"Total number of unique trigrams: {total_unique_trigrams}\")\n",
        "\n",
        "# 4) Show the 10 most common trigrams\n",
        "print(\"\\nMost common trigrams:\")\n",
        "for trigram, count in trigram_counts.most_common(10):\n",
        "    print(f\"{trigram}: {count:,}\")\n"
      ]
    },
    {
      "cell_type": "code",
      "execution_count": 58,
      "metadata": {
        "id": "s1NHF9x_bYzm"
      },
      "outputs": [],
      "source": [
        "# import gensim.corpora as corpora\n",
        "# # Create Dictionary\n",
        "# id2word = corpora.Dictionary(high_neg_first_wave_df['trigram_tokens'].tolist())\n",
        "\n",
        "# ## pruning\n",
        "# #id2word.filter_extremes(no_below=5, no_above=0.5)\n",
        "\n",
        "# #    (Optional) Re-map the remaining token IDs to remove gaps\n",
        "# #id2word.compactify()\n",
        "\n",
        "# # 2. Convert each document to a Bag-of-Words\n",
        "# texts = high_neg_first_wave_df['trigram_tokens'].tolist()\n",
        "\n",
        "# # Term Document Frequency\n",
        "# corpus = [id2word.doc2bow(text) for text in texts]\n",
        "\n",
        "\n",
        "# # View\n",
        "# print(corpus[:1][0][:30])"
      ]
    },
    {
      "cell_type": "code",
      "execution_count": 59,
      "metadata": {
        "id": "c3zzk3UlbrCu"
      },
      "outputs": [],
      "source": [
        "# import gensim\n",
        "# from gensim import corpora\n",
        "# from gensim.models.ldamodel import LdaModel\n",
        "# from nltk.tokenize import word_tokenize\n",
        "# import nltk\n",
        "# ## Build the basic LDA model\n",
        "# lda_model = LdaModel(corpus=corpus,\n",
        "#                                        id2word=id2word,\n",
        "#                                        num_topics=2,\n",
        "#                                        random_state=100,\n",
        "#                                           chunksize=250,\n",
        "#                                        passes=100,\n",
        "#                                         iterations= 200,\n",
        "#                                        alpha='auto',\n",
        "#                                       eta='auto',\n",
        "#                                        per_word_topics=True)"
      ]
    },
    {
      "cell_type": "code",
      "execution_count": 60,
      "metadata": {
        "id": "EFZIK0RZbznf"
      },
      "outputs": [],
      "source": [
        "# from pprint import pprint\n",
        "\n",
        "# # Print the Keyword in the 3 topics\n",
        "# pprint(lda_model.print_topics())\n",
        "# doc_lda = lda_model[corpus]"
      ]
    },
    {
      "cell_type": "code",
      "execution_count": 61,
      "metadata": {
        "id": "ezfm299-cSZE"
      },
      "outputs": [],
      "source": [
        "# import pyLDAvis.gensim\n",
        "# import pickle\n",
        "# import pyLDAvis\n",
        "# import pyLDAvis.gensim_models as gensimvis\n",
        "# import pyLDAvis\n",
        "\n",
        "# # Assuming ldamodel, corpus, and dictionary are already defined\n",
        "# # Enable the automatic display of visualizations in Jupyter\n",
        "# pyLDAvis.enable_notebook()\n",
        "\n",
        "# # Prepare the LDA visualization directly\n",
        "# LDAvis_prepared = gensimvis.prepare(lda_model, corpus, id2word)\n",
        "\n",
        "# # Display the prepared visualization directly in the notebook\n",
        "# pyLDAvis.display(LDAvis_prepared)"
      ]
    },
    {
      "cell_type": "code",
      "execution_count": 62,
      "metadata": {
        "id": "aHJIO3s3cldR"
      },
      "outputs": [],
      "source": [
        "# # Extracting and printing the top 30 salient terms for each topic\n",
        "# num_topics = lda_model.num_topics\n",
        "# num_words = 30\n",
        "\n",
        "# for idx, topic in lda_model.show_topics(num_topics=num_topics, num_words=num_words, formatted=False):\n",
        "#     print(f\"Topic {idx + 1}:\")\n",
        "#     for word, weight in topic:\n",
        "#         print(f\"  {word} ({weight:.4f})\")\n",
        "#     print()"
      ]
    },
    {
      "cell_type": "code",
      "execution_count": 63,
      "metadata": {
        "colab": {
          "base_uri": "https://localhost:8080/"
        },
        "id": "LOWbF0k0cZXT",
        "outputId": "90604479-bfde-4fce-aa62-f0d349e49cef"
      },
      "outputs": [
        {
          "output_type": "stream",
          "name": "stderr",
          "text": [
            "WARNING:gensim.models.ldamodel:updated prior is not positive\n",
            "WARNING:gensim.models.ldamodel:updated prior is not positive\n"
          ]
        },
        {
          "output_type": "stream",
          "name": "stdout",
          "text": [
            "Num Topics: 2, Chunksize: 300, Passes: 100, Iterations: 50, Perplexity: -7.3766, Coherence: 0.5120, Alpha: [0.06227028 0.1275893 ], Eta: [ 1.9233229  32.62804     0.4700469  ...  0.60307443  0.60307443\n",
            "  0.7131934 ]\n",
            "Num Topics: 2, Chunksize: 300, Passes: 100, Iterations: 100, Perplexity: -7.3768, Coherence: 0.5173, Alpha: [0.06230905 0.1278424 ], Eta: [ 1.9223727  32.564194    0.4699134  ...  0.60264343  0.60264343\n",
            "  0.7126225 ]\n"
          ]
        },
        {
          "output_type": "stream",
          "name": "stderr",
          "text": [
            "WARNING:gensim.models.ldamodel:updated prior is not positive\n",
            "WARNING:gensim.models.ldamodel:updated prior is not positive\n"
          ]
        },
        {
          "output_type": "stream",
          "name": "stdout",
          "text": [
            "Num Topics: 2, Chunksize: 300, Passes: 100, Iterations: 200, Perplexity: -7.3805, Coherence: 0.4962, Alpha: [0.06324609 0.1400986 ], Eta: [ 1.907035   32.07243     0.46821508 ...  0.5999443   0.5999443\n",
            "  0.7090809 ]\n"
          ]
        },
        {
          "output_type": "stream",
          "name": "stderr",
          "text": [
            "WARNING:gensim.models.ldamodel:updated prior is not positive\n"
          ]
        },
        {
          "output_type": "stream",
          "name": "stdout",
          "text": [
            "Num Topics: 2, Chunksize: 300, Passes: 200, Iterations: 50, Perplexity: -7.3654, Coherence: 0.5220, Alpha: [0.05444568 0.11196075], Eta: [ 1.9889296  33.358696    0.47575003 ...  0.6118798   0.6118798\n",
            "  0.7247476 ]\n",
            "Num Topics: 2, Chunksize: 300, Passes: 200, Iterations: 100, Perplexity: -7.3663, Coherence: 0.5220, Alpha: [0.05595165 0.11481941], Eta: [ 1.9815164  33.200893    0.47496203 ...  0.61058134  0.61058134\n",
            "  0.723041  ]\n"
          ]
        },
        {
          "output_type": "stream",
          "name": "stderr",
          "text": [
            "WARNING:gensim.models.ldamodel:updated prior is not positive\n",
            "WARNING:gensim.models.ldamodel:updated prior is not positive\n"
          ]
        },
        {
          "output_type": "stream",
          "name": "stdout",
          "text": [
            "Num Topics: 2, Chunksize: 300, Passes: 200, Iterations: 200, Perplexity: -7.3678, Coherence: 0.5092, Alpha: [0.05618742 0.1226557 ], Eta: [ 1.9808967  33.09445     0.47487044 ...  0.610387    0.610387\n",
            "  0.72278297]\n"
          ]
        },
        {
          "output_type": "stream",
          "name": "stderr",
          "text": [
            "WARNING:gensim.models.ldamodel:updated prior is not positive\n"
          ]
        },
        {
          "output_type": "stream",
          "name": "stdout",
          "text": [
            "Num Topics: 2, Chunksize: 300, Passes: 260, Iterations: 50, Perplexity: -7.3620, Coherence: 0.5220, Alpha: [0.0519831  0.10796075], Eta: [ 2.0078363  33.616318    0.47752467 ...  0.6145151   0.6145151\n",
            "  0.7282045 ]\n",
            "Num Topics: 2, Chunksize: 300, Passes: 260, Iterations: 100, Perplexity: -7.3632, Coherence: 0.5220, Alpha: [0.05501853 0.11276618], Eta: [ 1.9961593  33.390934    0.47618717 ...  0.61247313  0.61247313\n",
            "  0.72552365]\n"
          ]
        },
        {
          "output_type": "stream",
          "name": "stderr",
          "text": [
            "WARNING:gensim.models.ldamodel:updated prior is not positive\n"
          ]
        },
        {
          "output_type": "stream",
          "name": "stdout",
          "text": [
            "Num Topics: 2, Chunksize: 300, Passes: 260, Iterations: 200, Perplexity: -7.3647, Coherence: 0.5092, Alpha: [0.05400539 0.11797848], Eta: [ 1.997862   33.313248    0.47644868 ...  0.61283433  0.61283433\n",
            "  0.725995  ]\n",
            "Num Topics: 3, Chunksize: 300, Passes: 100, Iterations: 50, Perplexity: -7.4536, Coherence: 0.4884, Alpha: [0.05072817 0.3558998  0.19892229], Eta: [0.58586437 2.3311749  0.28768507 ... 0.32277405 0.32277405 0.34626406]\n",
            "Num Topics: 3, Chunksize: 300, Passes: 100, Iterations: 100, Perplexity: -7.4560, Coherence: 0.4795, Alpha: [0.0476903  0.37124872 0.21959394], Eta: [0.5984407  3.043885   0.28772488 ... 0.32266378 0.32266378 0.34614083]\n",
            "Num Topics: 3, Chunksize: 300, Passes: 100, Iterations: 200, Perplexity: -7.4519, Coherence: 0.4824, Alpha: [0.04429324 0.35569805 0.2247929 ], Eta: [0.5822876  3.1571138  0.28759906 ... 0.32202092 0.32202092 0.34540957]\n",
            "Num Topics: 3, Chunksize: 300, Passes: 200, Iterations: 50, Perplexity: -7.4382, Coherence: 0.4858, Alpha: [0.04154907 0.282538   0.15181182], Eta: [0.5955141  2.415431   0.28989068 ... 0.32543433 0.32543433 0.34927526]\n",
            "Num Topics: 3, Chunksize: 300, Passes: 200, Iterations: 100, Perplexity: -7.4425, Coherence: 0.4795, Alpha: [0.04052245 0.30461183 0.17122233], Eta: [0.605965   8.524341   0.28979895 ... 0.3252286  0.3252286  0.34904233]\n",
            "Num Topics: 3, Chunksize: 300, Passes: 200, Iterations: 200, Perplexity: -7.4356, Coherence: 0.4792, Alpha: [0.03413132 0.2685966  0.16863987], Eta: [ 0.5980458  11.283789    0.29051664 ...  0.32564625  0.32564625\n",
            "  0.34951603]\n",
            "Num Topics: 3, Chunksize: 300, Passes: 260, Iterations: 50, Perplexity: -7.4341, Coherence: 0.4806, Alpha: [0.03951957 0.26442605 0.13732141], Eta: [0.5995754  2.4322195  0.29065558 ... 0.3263588  0.3263588  0.3503235 ]\n",
            "Num Topics: 3, Chunksize: 300, Passes: 260, Iterations: 100, Perplexity: -7.4372, Coherence: 0.4792, Alpha: [0.03823766 0.27882296 0.1540728 ], Eta: [ 0.60928625 11.735199    0.290809   ...  0.32647732  0.32647732\n",
            "  0.35045922]\n",
            "Num Topics: 3, Chunksize: 300, Passes: 260, Iterations: 200, Perplexity: -7.4311, Coherence: 0.4785, Alpha: [0.03170275 0.2486797  0.1499397 ], Eta: [ 0.60206825 11.476818    0.29137176 ...  0.32674372  0.32674372\n",
            "  0.3507607 ]\n",
            "Num Topics: 4, Chunksize: 300, Passes: 100, Iterations: 50, Perplexity: -7.5542, Coherence: 0.4335, Alpha: [0.15804091 0.97641814 0.24270748 1.047477  ], Eta: [0.36332756 0.58452684 0.21681754 ... 0.22472711 0.22472711 0.23354554]\n",
            "Num Topics: 4, Chunksize: 300, Passes: 100, Iterations: 100, Perplexity: -7.5656, Coherence: 0.4226, Alpha: [0.16517223 1.1499026  0.28969634 1.1836678 ], Eta: [0.34256732 0.51427215 0.21632394 ... 0.22394003 0.22394003 0.23269667]\n",
            "Num Topics: 4, Chunksize: 300, Passes: 100, Iterations: 200, Perplexity: -7.5832, Coherence: 0.5079, Alpha: [0.17535877 1.1089725  0.5677456  1.3934693 ], Eta: [0.33768865 1.8344375  0.21739312 ... 0.22181965 0.22181965 0.23041275]\n",
            "Num Topics: 4, Chunksize: 300, Passes: 200, Iterations: 50, Perplexity: -7.5441, Coherence: 0.4390, Alpha: [0.14839037 0.949347   0.2262255  1.0003735 ], Eta: [0.3614825  0.58874416 0.21731532 ... 0.22503008 0.22503008 0.23386356]\n",
            "Num Topics: 4, Chunksize: 300, Passes: 200, Iterations: 100, Perplexity: -7.5538, Coherence: 0.4238, Alpha: [0.15245456 1.0975361  0.274192   1.1498395 ], Eta: [0.3435439  0.49527073 0.21640824 ... 0.22426058 0.22426058 0.233034  ]\n",
            "Num Topics: 4, Chunksize: 300, Passes: 200, Iterations: 200, Perplexity: -7.5719, Coherence: 0.4952, Alpha: [0.16630676 1.0683445  0.5304732  1.3720733 ], Eta: [0.33965063 1.8364971  0.21713834 ... 0.22204368 0.22204368 0.2306484 ]\n",
            "Num Topics: 4, Chunksize: 300, Passes: 260, Iterations: 50, Perplexity: -7.5411, Coherence: 0.4390, Alpha: [0.14704736 0.9446261  0.2216727  0.9883702 ], Eta: [0.36144796 0.5897679  0.21739441 ... 0.22514471 0.22514471 0.23398514]\n",
            "Num Topics: 4, Chunksize: 300, Passes: 260, Iterations: 100, Perplexity: -7.5506, Coherence: 0.4220, Alpha: [0.15074839 1.0899587  0.26788986 1.1431271 ], Eta: [0.34385678 0.4877111  0.21644643 ... 0.22435698 0.22435698 0.23313607]\n",
            "Num Topics: 4, Chunksize: 300, Passes: 260, Iterations: 200, Perplexity: -7.5689, Coherence: 0.4952, Alpha: [0.1637114  1.0589626  0.52455115 1.3659995 ], Eta: [0.32833436 1.8368014  0.21990842 ... 0.2220758  0.2220758  0.23068225]\n",
            "Num Topics: 5, Chunksize: 300, Passes: 100, Iterations: 50, Perplexity: -7.6123, Coherence: 0.4580, Alpha: [0.22549804 1.2971333  0.35780075 0.53929    1.6482389 ], Eta: [0.1855278  0.2103226  0.17419387 ... 0.17908014 0.17908014 0.1836218 ]\n",
            "Num Topics: 5, Chunksize: 300, Passes: 100, Iterations: 100, Perplexity: -7.6262, Coherence: 0.4827, Alpha: [0.2726161 0.9331077 0.4077595 1.1093956 2.2025785], Eta: [0.18520541 0.20943096 0.17994654 ... 0.17892636 0.17892636 0.18343899]\n",
            "Num Topics: 5, Chunksize: 300, Passes: 100, Iterations: 200, Perplexity: -7.6264, Coherence: 0.4537, Alpha: [0.28679118 0.7174728  0.43947196 1.2564481  2.3475628 ], Eta: [0.18617079 0.21034417 0.17913297 ... 0.17956084 0.17956084 0.18410751]\n",
            "Num Topics: 5, Chunksize: 300, Passes: 200, Iterations: 50, Perplexity: -7.6027, Coherence: 0.4621, Alpha: [0.21673927 1.2857242  0.34825942 0.5318852  1.6306273 ], Eta: [0.18567598 0.21035245 0.17420955 ... 0.17923427 0.17923427 0.18377867]\n",
            "Num Topics: 5, Chunksize: 300, Passes: 200, Iterations: 100, Perplexity: -7.6177, Coherence: 0.4986, Alpha: [0.26582292 0.9278421  0.40399247 1.0990523  2.1956344 ], Eta: [0.18533094 0.20940943 0.18048678 ... 0.17896087 0.17896087 0.18347523]\n",
            "Num Topics: 5, Chunksize: 300, Passes: 200, Iterations: 200, Perplexity: -7.6183, Coherence: 0.4537, Alpha: [0.28230223 0.71740305 0.43713653 1.2584453  2.3492718 ], Eta: [0.18628575 0.21031861 0.1790384  ... 0.17959401 0.17959401 0.1841418 ]\n",
            "Num Topics: 5, Chunksize: 300, Passes: 260, Iterations: 50, Perplexity: -7.6002, Coherence: 0.4658, Alpha: [0.21465096 1.2894351  0.3404963  0.5330997  1.6284311 ], Eta: [0.18574408 0.21038932 0.17422853 ... 0.17930108 0.17930108 0.1838477 ]\n",
            "Num Topics: 5, Chunksize: 300, Passes: 260, Iterations: 100, Perplexity: -7.6155, Coherence: 0.4938, Alpha: [0.2635177  0.92701054 0.4037532  1.0966955  2.1936502 ], Eta: [0.18535753 0.20940344 0.1807906  ... 0.1789641  0.1789641  0.18347873]\n",
            "Num Topics: 5, Chunksize: 300, Passes: 260, Iterations: 200, Perplexity: -7.6160, Coherence: 0.4505, Alpha: [0.2806746  0.7165573  0.43652216 1.257473   2.3473456 ], Eta: [0.18630992 0.21031007 0.17901291 ... 0.1795983  0.1795983  0.18414631]\n",
            "Num Topics: 6, Chunksize: 300, Passes: 100, Iterations: 50, Perplexity: -7.6359, Coherence: 0.4932, Alpha: [0.20034541 1.4316086  0.45822316 0.39633223 2.2737045  0.49130732], Eta: [0.15571515 0.16889825 0.14848669 ... 0.15216866 0.15216866 0.1549031 ]\n",
            "Num Topics: 6, Chunksize: 300, Passes: 100, Iterations: 100, Perplexity: -7.6379, Coherence: 0.4721, Alpha: [0.2162371  1.4007661  0.5514065  0.36519605 2.6660142  0.49609244], Eta: [0.1556512  0.16923796 0.14876977 ... 0.15248103 0.15248103 0.15522654]\n",
            "Num Topics: 6, Chunksize: 300, Passes: 100, Iterations: 200, Perplexity: -7.6418, Coherence: 0.4542, Alpha: [0.2144107  1.539028   0.64197    0.36840445 2.640457   0.5108798 ], Eta: [0.15549769 0.16898455 0.14849155 ... 0.15212314 0.15212314 0.15486191]\n",
            "Num Topics: 6, Chunksize: 300, Passes: 200, Iterations: 50, Perplexity: -7.6276, Coherence: 0.4965, Alpha: [0.19806139 1.4394343  0.4566943  0.39471066 2.2687252  0.49055624], Eta: [0.1557599  0.16889185 0.14849421 ... 0.15217763 0.15217763 0.15491347]\n",
            "Num Topics: 6, Chunksize: 300, Passes: 200, Iterations: 100, Perplexity: -7.6300, Coherence: 0.4727, Alpha: [0.21559896 1.4105226  0.54995215 0.3645707  2.6708047  0.4943788 ], Eta: [0.1557312  0.16923963 0.14878166 ... 0.15249705 0.15249705 0.15524434]\n",
            "Num Topics: 6, Chunksize: 300, Passes: 200, Iterations: 200, Perplexity: -7.6339, Coherence: 0.4543, Alpha: [0.21449423 1.5349339  0.6380639  0.3662658  2.634305   0.50735235], Eta: [0.15556732 0.16897525 0.14849919 ... 0.15214767 0.15214767 0.15488712]\n",
            "Num Topics: 6, Chunksize: 300, Passes: 260, Iterations: 50, Perplexity: -7.6255, Coherence: 0.4956, Alpha: [0.19767469 1.4411646  0.45646375 0.39438248 2.2693543  0.49027655], Eta: [0.15576816 0.16889073 0.14849289 ... 0.15217833 0.15217833 0.15491451]\n",
            "Num Topics: 6, Chunksize: 300, Passes: 260, Iterations: 100, Perplexity: -7.6277, Coherence: 0.4777, Alpha: [0.2152987  1.4109669  0.5491677  0.3645404  2.671281   0.49307662], Eta: [0.15574816 0.16923904 0.14877968 ... 0.15249747 0.15249747 0.15524516]\n",
            "Num Topics: 6, Chunksize: 300, Passes: 260, Iterations: 200, Perplexity: -7.6319, Coherence: 0.4613, Alpha: [0.2142702 1.5353193 0.6374965 0.3659506 2.6356382 0.5067937], Eta: [0.1555855  0.16897586 0.14849894 ... 0.15215491 0.15215491 0.15489464]\n",
            "Num Topics: 7, Chunksize: 300, Passes: 100, Iterations: 50, Perplexity: -7.6489, Coherence: 0.4397, Alpha: [0.2261526  0.41814277 0.36080998 0.5092804  0.58818775 0.54960555\n",
            " 3.7995682 ], Eta: [0.16051489 0.14420167 0.1304447  ... 0.13335504 0.13335504 0.135177  ]\n",
            "Num Topics: 7, Chunksize: 300, Passes: 100, Iterations: 100, Perplexity: -7.6452, Coherence: 0.4956, Alpha: [0.22436436 0.38979873 0.32692066 0.54009515 0.55294305 0.6381975\n",
            " 4.0086827 ], Eta: [0.1360617  0.14473924 0.1309273  ... 0.13391416 0.13391416 0.13574792]\n",
            "Num Topics: 7, Chunksize: 300, Passes: 100, Iterations: 200, Perplexity: -7.6492, Coherence: 0.4678, Alpha: [0.18865678 0.42533678 0.35249987 0.52235776 0.5288899  0.65657866\n",
            " 4.1344447 ], Eta: [0.13640848 0.1450391  0.13117191 ... 0.13415843 0.13415843 0.13599995]\n",
            "Num Topics: 7, Chunksize: 300, Passes: 200, Iterations: 50, Perplexity: -7.6408, Coherence: 0.4383, Alpha: [0.22556639 0.41557103 0.36063337 0.5103492  0.5884051  0.54743403\n",
            " 3.8071852 ], Eta: [0.1607043  0.14422384 0.13049619 ... 0.13342024 0.13342024 0.1352419 ]\n",
            "Num Topics: 7, Chunksize: 300, Passes: 200, Iterations: 100, Perplexity: -7.6371, Coherence: 0.4969, Alpha: [0.22335891 0.38908127 0.32634494 0.53968394 0.55265176 0.6339875\n",
            " 4.0116496 ], Eta: [0.13612434 0.14475177 0.13096716 ... 0.1339629  0.1339629  0.13579659]\n",
            "Num Topics: 7, Chunksize: 300, Passes: 200, Iterations: 200, Perplexity: -7.6412, Coherence: 0.4669, Alpha: [0.18777916 0.42443547 0.35129556 0.5208437  0.52693486 0.6517061\n",
            " 4.1320057 ], Eta: [0.13646944 0.1450539  0.13121472 ... 0.13420987 0.13420987 0.13605118]\n",
            "Num Topics: 7, Chunksize: 300, Passes: 260, Iterations: 50, Perplexity: -7.6387, Coherence: 0.4379, Alpha: [0.22526675 0.41522032 0.3602434  0.51035345 0.58818126 0.54656506\n",
            " 3.8058093 ], Eta: [0.1607436  0.1442245  0.13050318 ... 0.13343139 0.13343139 0.13525286]\n",
            "Num Topics: 7, Chunksize: 300, Passes: 260, Iterations: 100, Perplexity: -7.6350, Coherence: 0.4949, Alpha: [0.22300652 0.38878438 0.32609594 0.53940445 0.552438   0.63278013\n",
            " 4.0110626 ], Eta: [0.13613784 0.14475405 0.1309746  ... 0.13397297 0.13397297 0.13580664]\n",
            "Num Topics: 7, Chunksize: 300, Passes: 260, Iterations: 200, Perplexity: -7.6390, Coherence: 0.4669, Alpha: [0.18752147 0.4241739  0.35053295 0.52042    0.5267439  0.65054995\n",
            " 4.131321  ], Eta: [0.13648334 0.14505711 0.13122325 ... 0.13422157 0.13422157 0.13606282]\n",
            "Num Topics: 8, Chunksize: 300, Passes: 100, Iterations: 50, Perplexity: -7.6629, Coherence: 0.4492, Alpha: [0.13991694 0.5473267  0.459171   0.5195286  0.85805315 0.36266387\n",
            " 3.5753865  0.28245747], Eta: [0.13725483 0.14814492 0.11499468 ... 0.11713092 0.11713092 0.11836795]\n",
            "Num Topics: 8, Chunksize: 300, Passes: 100, Iterations: 100, Perplexity: -7.6665, Coherence: 0.4640, Alpha: [0.14831434 0.51592964 0.5642968  0.5343347  0.8042692  0.37066302\n",
            " 3.7823918  0.25379303], Eta: [0.13722515 0.12440202 0.11510446 ... 0.11725109 0.11725109 0.11849058]\n",
            "Num Topics: 8, Chunksize: 300, Passes: 100, Iterations: 200, Perplexity: -7.6647, Coherence: 0.4498, Alpha: [0.15047461 0.44165105 0.5963096  0.46616724 1.1548524  0.41185525\n",
            " 3.752784   0.29282436], Eta: [0.11856816 0.14639252 0.11499226 ... 0.11712617 0.11712617 0.11836295]\n",
            "Num Topics: 8, Chunksize: 300, Passes: 200, Iterations: 50, Perplexity: -7.6543, Coherence: 0.4409, Alpha: [0.14009492 0.55354387 0.454361   0.5245466  0.84932756 0.36384052\n",
            " 3.611926   0.28268647], Eta: [0.13735601 0.12429965 0.11504438 ... 0.11718731 0.11718731 0.11842365]\n",
            "Num Topics: 8, Chunksize: 300, Passes: 200, Iterations: 100, Perplexity: -7.6583, Coherence: 0.4619, Alpha: [0.14814474 0.51579356 0.56183654 0.53002226 0.8017135  0.37038225\n",
            " 3.7878184  0.25308004], Eta: [0.1373454  0.12442163 0.11515025 ... 0.1173027  0.1173027  0.11854145]\n",
            "Num Topics: 8, Chunksize: 300, Passes: 200, Iterations: 200, Perplexity: -7.6565, Coherence: 0.4468, Alpha: [0.15056342 0.44113514 0.5922974  0.46539965 1.1570148  0.41304174\n",
            " 3.7729666  0.29216364], Eta: [0.11862358 0.12428597 0.11504234 ... 0.11718322 0.11718322 0.11841937]\n",
            "Num Topics: 8, Chunksize: 300, Passes: 260, Iterations: 50, Perplexity: -7.6520, Coherence: 0.4358, Alpha: [0.14017566 0.555107   0.45365685 0.5250762  0.8476023  0.3641158\n",
            " 3.6217365  0.28270328], Eta: [0.13738027 0.12430588 0.11505614 ... 0.11720116 0.11720116 0.11843739]\n",
            "Num Topics: 8, Chunksize: 300, Passes: 260, Iterations: 100, Perplexity: -7.6561, Coherence: 0.4619, Alpha: [0.14805041 0.5155294  0.56106573 0.5292882  0.8014351  0.37019724\n",
            " 3.7865484  0.25276783], Eta: [0.13736884 0.12442321 0.11515796 ... 0.11731222 0.11731222 0.11855074]\n",
            "Num Topics: 8, Chunksize: 300, Passes: 260, Iterations: 200, Perplexity: -7.6543, Coherence: 0.4454, Alpha: [0.15051465 0.44079238 0.5911817  0.46514162 1.157353   0.41336572\n",
            " 3.7743008  0.2918038 ], Eta: [0.11863346 0.12428869 0.11505085 ... 0.11719378 0.11719378 0.11842976]\n",
            "Num Topics: 9, Chunksize: 300, Passes: 100, Iterations: 50, Perplexity: -7.6601, Coherence: 0.5053, Alpha: [0.11311499 0.37503615 0.25926277 0.35567006 0.76481485 0.26024777\n",
            " 3.7666512  0.1229324  1.2907165 ], Eta: [0.12122859 0.13268523 0.1042833  ... 0.10588092 0.10588092 0.10678271]\n",
            "Num Topics: 9, Chunksize: 300, Passes: 100, Iterations: 100, Perplexity: -7.6644, Coherence: 0.5200, Alpha: [0.1375585  0.2869876  0.2788051  0.33889297 0.8097614  0.3135625\n",
            " 3.8597896  0.14245145 1.3032075 ], Eta: [0.1069668  0.132629   0.10432138 ... 0.10592305 0.10592305 0.10682551]\n",
            "Num Topics: 9, Chunksize: 300, Passes: 100, Iterations: 200, Perplexity: -7.6628, Coherence: 0.5165, Alpha: [0.13192101 0.28630042 0.2860097  0.33075637 0.7940659  0.30118567\n",
            " 3.9653862  0.13368894 1.3012787 ], Eta: [0.12185868 0.13285668 0.10446084 ... 0.1060651  0.1060651  0.10697001]\n",
            "Num Topics: 9, Chunksize: 300, Passes: 200, Iterations: 50, Perplexity: -7.6519, Coherence: 0.5076, Alpha: [0.11306708 0.37497544 0.25904447 0.3551759  0.7642253  0.25961852\n",
            " 3.7754195  0.1225267  1.2849188 ], Eta: [0.12134034 0.1326998  0.1043175  ... 0.1059192  0.1059192  0.10682014]\n",
            "Num Topics: 9, Chunksize: 300, Passes: 200, Iterations: 100, Perplexity: -7.6563, Coherence: 0.5185, Alpha: [0.13719304 0.2865825  0.27809408 0.33795828 0.8087354  0.31179768\n",
            " 3.854498   0.142063   1.2971188 ], Eta: [0.10699698 0.13263424 0.10435167 ... 0.10595679 0.10595679 0.10685835]\n",
            "Num Topics: 9, Chunksize: 300, Passes: 200, Iterations: 200, Perplexity: -7.6546, Coherence: 0.5164, Alpha: [0.1317206  0.2863217  0.28547636 0.3303964  0.79291934 0.30016714\n",
            " 3.979055   0.13378772 1.2907457 ], Eta: [0.1219627  0.13286069 0.10449791 ... 0.10610635 0.10610635 0.10701045]\n",
            "Num Topics: 9, Chunksize: 300, Passes: 260, Iterations: 50, Perplexity: -7.6497, Coherence: 0.5106, Alpha: [0.11306806 0.37496686 0.25897613 0.3550272  0.7644192  0.2594476\n",
            " 3.7768548  0.12254465 1.2837442 ], Eta: [0.12136824 0.13269962 0.10432403 ... 0.10592698 0.10592698 0.10682771]\n",
            "Num Topics: 9, Chunksize: 300, Passes: 260, Iterations: 100, Perplexity: -7.6541, Coherence: 0.5212, Alpha: [0.13708265 0.28621593 0.27777916 0.3376757  0.80867106 0.3115347\n",
            " 3.8527117  0.14201158 1.2951561 ], Eta: [0.10700323 0.13263649 0.104358   ... 0.10596422 0.10596422 0.10686557]\n"
          ]
        },
        {
          "output_type": "stream",
          "name": "stderr",
          "text": [
            "WARNING:gensim.models.ldamodel:updated prior is not positive\n"
          ]
        },
        {
          "output_type": "stream",
          "name": "stdout",
          "text": [
            "Num Topics: 9, Chunksize: 300, Passes: 260, Iterations: 200, Perplexity: -7.6524, Coherence: 0.5166, Alpha: [0.13162392 0.28625414 0.28522825 0.33018723 0.7924892  0.2997724\n",
            " 3.9801538  0.13377991 1.2881172 ], Eta: [0.12198377 0.13286315 0.10450606 ... 0.1061158  0.1061158  0.10701973]\n"
          ]
        },
        {
          "output_type": "stream",
          "name": "stderr",
          "text": [
            "WARNING:gensim.models.ldamodel:updated prior is not positive\n"
          ]
        },
        {
          "output_type": "stream",
          "name": "stdout",
          "text": [
            "Num Topics: 2, Chunksize: 300, Passes: 100, Iterations: 50, Perplexity: -7.3760, Coherence: 0.5261, Alpha: [0.06121721 0.1161207 ], Eta: [ 1.9299152  32.90531     0.47117943 ...  0.6046294   0.6046294\n",
            "  0.71522874]\n",
            "Num Topics: 2, Chunksize: 300, Passes: 100, Iterations: 100, Perplexity: -7.3756, Coherence: 0.5268, Alpha: [0.06037561 0.11914695], Eta: [ 1.9291037  32.83637     0.47087708 ...  0.6042978   0.6042978\n",
            "  0.71479684]\n"
          ]
        },
        {
          "output_type": "stream",
          "name": "stderr",
          "text": [
            "WARNING:gensim.models.ldamodel:updated prior is not positive\n",
            "WARNING:gensim.models.ldamodel:updated prior is not positive\n"
          ]
        },
        {
          "output_type": "stream",
          "name": "stdout",
          "text": [
            "Num Topics: 2, Chunksize: 300, Passes: 100, Iterations: 200, Perplexity: -7.3760, Coherence: 0.5261, Alpha: [0.0603408 0.1215039], Eta: [ 1.9305029  32.847073    0.47103918 ...  0.6044838   0.6044838\n",
            "  0.71503854]\n"
          ]
        },
        {
          "output_type": "stream",
          "name": "stderr",
          "text": [
            "WARNING:gensim.models.ldamodel:updated prior is not positive\n"
          ]
        },
        {
          "output_type": "stream",
          "name": "stdout",
          "text": [
            "Num Topics: 2, Chunksize: 300, Passes: 200, Iterations: 50, Perplexity: -7.3651, Coherence: 0.5237, Alpha: [0.05582773 0.1085293 ], Eta: [ 1.99035   33.55994    0.4762516 ...  0.6123296  0.6123296  0.7253308]\n",
            "Num Topics: 2, Chunksize: 300, Passes: 200, Iterations: 100, Perplexity: -7.3652, Coherence: 0.5237, Alpha: [0.05435975 0.10860676], Eta: [ 1.9882827  33.46166     0.4758468  ...  0.6120246   0.6120246\n",
            "  0.72493833]\n"
          ]
        },
        {
          "output_type": "stream",
          "name": "stderr",
          "text": [
            "WARNING:gensim.models.ldamodel:updated prior is not positive\n",
            "WARNING:gensim.models.ldamodel:updated prior is not positive\n"
          ]
        },
        {
          "output_type": "stream",
          "name": "stdout",
          "text": [
            "Num Topics: 2, Chunksize: 300, Passes: 200, Iterations: 200, Perplexity: -7.3653, Coherence: 0.5237, Alpha: [0.05397478 0.10902671], Eta: [ 1.990785   33.519764    0.47615522 ...  0.61247736  0.61247736\n",
            "  0.72553223]\n"
          ]
        },
        {
          "output_type": "stream",
          "name": "stderr",
          "text": [
            "WARNING:gensim.models.ldamodel:updated prior is not positive\n"
          ]
        },
        {
          "output_type": "stream",
          "name": "stdout",
          "text": [
            "Num Topics: 2, Chunksize: 300, Passes: 260, Iterations: 50, Perplexity: -7.3604, Coherence: 0.5368, Alpha: [0.05218879 0.10088081], Eta: [ 2.0267172  34.18627     0.48012674 ...  0.61654687  0.61654687\n",
            "  0.7308231 ]\n",
            "Num Topics: 2, Chunksize: 300, Passes: 260, Iterations: 100, Perplexity: -7.3621, Coherence: 0.5237, Alpha: [0.05300476 0.10647369], Eta: [ 2.0063076  33.696835    0.47744092 ...  0.614373    0.614373\n",
            "  0.7280183 ]\n"
          ]
        },
        {
          "output_type": "stream",
          "name": "stderr",
          "text": [
            "WARNING:gensim.models.ldamodel:updated prior is not positive\n"
          ]
        },
        {
          "output_type": "stream",
          "name": "stdout",
          "text": [
            "Num Topics: 2, Chunksize: 300, Passes: 260, Iterations: 200, Perplexity: -7.3621, Coherence: 0.5368, Alpha: [0.05242823 0.10667409], Eta: [ 2.0094829  33.76213     0.47782937 ...  0.61496043  0.61496043\n",
            "  0.72878945]\n",
            "Num Topics: 3, Chunksize: 300, Passes: 100, Iterations: 50, Perplexity: -7.4562, Coherence: 0.4823, Alpha: [0.15421735 0.30360213 0.06179932], Eta: [ 0.61654955 12.149766    0.28929308 ...  0.32420358  0.32420358\n",
            "  0.34789014]\n",
            "Num Topics: 3, Chunksize: 300, Passes: 100, Iterations: 100, Perplexity: -7.4529, Coherence: 0.5095, Alpha: [0.14549723 0.34168229 0.06662823], Eta: [ 0.62265587 15.449892    0.29100654 ...  0.32636133  0.32636133\n",
            "  0.35034382]\n",
            "Num Topics: 3, Chunksize: 300, Passes: 100, Iterations: 200, Perplexity: -7.4577, Coherence: 0.5178, Alpha: [0.16711833 0.3651646  0.0702116 ], Eta: [ 0.61240226 15.158637    0.28889725 ...  0.32377374  0.32377374\n",
            "  0.34740123]\n",
            "Num Topics: 3, Chunksize: 300, Passes: 200, Iterations: 50, Perplexity: -7.4387, Coherence: 0.4894, Alpha: [0.12301688 0.24779023 0.05205678], Eta: [ 0.63188106 13.476128    0.29235402 ...  0.32808313  0.32808313\n",
            "  0.35228762]\n",
            "Num Topics: 3, Chunksize: 300, Passes: 200, Iterations: 100, Perplexity: -7.4363, Coherence: 0.5196, Alpha: [0.12081525 0.2897606  0.05812774], Eta: [ 0.63353485 16.050371    0.29353103 ...  0.32956326  0.32956326\n",
            "  0.35397246]\n",
            "Num Topics: 3, Chunksize: 300, Passes: 200, Iterations: 200, Perplexity: -7.4413, Coherence: 0.5355, Alpha: [0.1424021 0.3119144 0.0626249], Eta: [ 0.6257156  15.898404    0.29155666 ...  0.32713193  0.32713193\n",
            "  0.3512054 ]\n",
            "Num Topics: 3, Chunksize: 300, Passes: 260, Iterations: 50, Perplexity: -7.4339, Coherence: 0.4955, Alpha: [0.11749367 0.23924871 0.05013632], Eta: [ 0.6355147  13.873896    0.29309857 ...  0.3290347   0.3290347\n",
            "  0.35336703]\n",
            "Num Topics: 3, Chunksize: 300, Passes: 260, Iterations: 100, Perplexity: -7.4305, Coherence: 0.5196, Alpha: [0.11352959 0.27471137 0.0559147 ], Eta: [ 0.64053804 16.343153    0.29474014 ...  0.33108905  0.33108905\n",
            "  0.35570616]\n",
            "Num Topics: 3, Chunksize: 300, Passes: 260, Iterations: 200, Perplexity: -7.4354, Coherence: 0.5346, Alpha: [0.13482058 0.29418147 0.05972389], Eta: [ 0.62883484 16.250702    0.29280356 ...  0.3287005   0.3287005\n",
            "  0.35298678]\n",
            "Num Topics: 4, Chunksize: 300, Passes: 100, Iterations: 50, Perplexity: -7.5558, Coherence: 0.4534, Alpha: [0.4905447  1.0359309  0.1390695  0.41278395], Eta: [0.24337552 2.001874   0.21103035 ... 0.22369647 0.22369647 0.23243095]\n",
            "Num Topics: 4, Chunksize: 300, Passes: 100, Iterations: 100, Perplexity: -7.5644, Coherence: 0.4362, Alpha: [0.5063878  1.2767526  0.21111247 0.5161746 ], Eta: [0.24210782 8.423929   0.21038508 ... 0.22304349 0.22304349 0.2317377 ]\n",
            "Num Topics: 4, Chunksize: 300, Passes: 100, Iterations: 200, Perplexity: -7.5690, Coherence: 0.4460, Alpha: [0.5152298  1.3448734  0.24267077 0.49381283], Eta: [0.24231772 8.062025   0.20997001 ... 0.22256362 0.22256362 0.23122162]\n",
            "Num Topics: 4, Chunksize: 300, Passes: 200, Iterations: 50, Perplexity: -7.5437, Coherence: 0.4479, Alpha: [0.45613402 1.0099144  0.13216595 0.38573092], Eta: [0.2435608  2.1066961  0.21133934 ... 0.2241436  0.2241436  0.23290506]\n",
            "Num Topics: 4, Chunksize: 300, Passes: 200, Iterations: 100, Perplexity: -7.5524, Coherence: 0.4493, Alpha: [0.4614565 1.2262849 0.1959614 0.4835596], Eta: [0.24367015 8.392388   0.2104702  ... 0.22326866 0.22326866 0.23197164]\n",
            "Num Topics: 4, Chunksize: 300, Passes: 200, Iterations: 200, Perplexity: -7.5592, Coherence: 0.4531, Alpha: [0.4891539  1.3197292  0.23402469 0.47270367], Eta: [0.24270085 8.151751   0.21012175 ... 0.22284162 0.22284162 0.23151241]\n",
            "Num Topics: 4, Chunksize: 300, Passes: 260, Iterations: 50, Perplexity: -7.5401, Coherence: 0.4528, Alpha: [0.4397895  0.99501884 0.12657605 0.37405378], Eta: [0.2456554  2.1473396  0.21147847 ... 0.22435664 0.22435664 0.23313284]\n",
            "Num Topics: 4, Chunksize: 300, Passes: 260, Iterations: 100, Perplexity: -7.5491, Coherence: 0.4710, Alpha: [0.45056605 1.2069547  0.19188622 0.4663205 ], Eta: [0.24418429 8.432041   0.21057205 ... 0.22342435 0.22342435 0.2321371 ]\n",
            "Num Topics: 4, Chunksize: 300, Passes: 260, Iterations: 200, Perplexity: -7.5561, Coherence: 0.4363, Alpha: [0.47319278 1.2932484  0.22935794 0.45234925], Eta: [0.24278682 8.131326   0.2101431  ... 0.2229389  0.2229389  0.23161507]\n",
            "Num Topics: 5, Chunksize: 300, Passes: 100, Iterations: 50, Perplexity: -7.6160, Coherence: 0.4171, Alpha: [0.65025157 2.2548337  0.29331484 0.8095006  0.30698353], Eta: [0.23654003 0.60455084 0.17516772 ... 0.18074283 0.18074283 0.18536045]\n",
            "Num Topics: 5, Chunksize: 300, Passes: 100, Iterations: 100, Perplexity: -7.6248, Coherence: 0.4294, Alpha: [1.007837   2.1015127  0.44340894 0.7275795  0.28799495], Eta: [0.18655317 1.698968   0.17373091 ... 0.17922981 0.17922981 0.1837679 ]\n",
            "Num Topics: 5, Chunksize: 300, Passes: 100, Iterations: 200, Perplexity: -7.6259, Coherence: 0.4454, Alpha: [0.95125705 2.4003723  0.47425538 0.72417647 0.3194088 ], Eta: [0.1872096  1.5941098  0.17425792 ... 0.17984444 0.17984444 0.18440811]\n",
            "Num Topics: 5, Chunksize: 300, Passes: 200, Iterations: 50, Perplexity: -7.6080, Coherence: 0.4221, Alpha: [0.6474201  2.2936375  0.29449236 0.8065711  0.30462694], Eta: [0.23581867 0.6028806  0.17518039 ... 0.18087327 0.18087327 0.1854939 ]\n",
            "Num Topics: 5, Chunksize: 300, Passes: 200, Iterations: 100, Perplexity: -7.6167, Coherence: 0.4323, Alpha: [1.0144979  2.0810719  0.43913162 0.71440107 0.28427684], Eta: [0.18659845 1.6835079  0.17366461 ... 0.17925334 0.17925334 0.18379028]\n",
            "Num Topics: 5, Chunksize: 300, Passes: 200, Iterations: 200, Perplexity: -7.6177, Coherence: 0.4498, Alpha: [0.934197  2.4373078 0.4722704 0.7224576 0.3191257], Eta: [0.18738271 1.5752549  0.17428182 ... 0.17995419 0.17995419 0.18452188]\n",
            "Num Topics: 5, Chunksize: 300, Passes: 260, Iterations: 50, Perplexity: -7.6058, Coherence: 0.4221, Alpha: [0.64761627 2.300555   0.29488462 0.80571485 0.30361345], Eta: [0.23621385 0.60273486 0.17516436 ... 0.18089324 0.18089324 0.1855141 ]\n",
            "Num Topics: 5, Chunksize: 300, Passes: 260, Iterations: 100, Perplexity: -7.6143, Coherence: 0.4207, Alpha: [1.0184199  2.0721943  0.435614   0.7105711  0.28267175], Eta: [0.18660034 1.6841187  0.17362896 ... 0.17925194 0.17925194 0.18378831]\n",
            "Num Topics: 5, Chunksize: 300, Passes: 260, Iterations: 200, Perplexity: -7.6153, Coherence: 0.4533, Alpha: [0.9223812 2.4317572 0.4713269 0.720112  0.3156546], Eta: [0.18742563 1.5705651  0.17427424 ... 0.17997919 0.17997919 0.18454784]\n",
            "Num Topics: 6, Chunksize: 300, Passes: 100, Iterations: 50, Perplexity: -7.6416, Coherence: 0.4956, Alpha: [0.82413244 2.4886684  0.31365722 1.4313864  0.27934694 0.32117775], Eta: [0.15653194 0.2315088  0.14823255 ... 0.15260792 0.15260792 0.15537651]\n",
            "Num Topics: 6, Chunksize: 300, Passes: 100, Iterations: 100, Perplexity: -7.6445, Coherence: 0.5018, Alpha: [0.8224563  2.4310174  0.377993   1.5834869  0.29424897 0.3046001 ], Eta: [0.15596072 0.16949674 0.14769101 ... 0.15210637 0.15210637 0.15485705]\n",
            "Num Topics: 6, Chunksize: 300, Passes: 100, Iterations: 200, Perplexity: -7.6469, Coherence: 0.4812, Alpha: [0.9259804  2.3713548  0.31563437 1.5973251  0.29990405 0.3396492 ], Eta: [0.15588933 0.16937491 0.1476276  ... 0.15200487 0.15200487 0.15475403]\n",
            "Num Topics: 6, Chunksize: 300, Passes: 200, Iterations: 50, Perplexity: -7.6335, Coherence: 0.5007, Alpha: [0.81212354 2.527858   0.31613645 1.4857904  0.28169096 0.3244694 ], Eta: [0.15661594 0.22967392 0.14832252 ... 0.1527146  0.1527146  0.1554841 ]\n",
            "Num Topics: 6, Chunksize: 300, Passes: 200, Iterations: 100, Perplexity: -7.6366, Coherence: 0.4964, Alpha: [0.8140493  2.432211   0.38040966 1.5972011  0.29324526 0.30565628], Eta: [0.15603417 0.16948454 0.14773414 ... 0.15215905 0.15215905 0.15490904]\n",
            "Num Topics: 6, Chunksize: 300, Passes: 200, Iterations: 200, Perplexity: -7.6383, Coherence: 0.4861, Alpha: [0.91637653 2.3731208  0.31658438 1.6253351  0.29733402 0.33942655], Eta: [0.1559432  0.16934158 0.14765716 ... 0.15205197 0.15205197 0.15479971]\n",
            "Num Topics: 6, Chunksize: 300, Passes: 260, Iterations: 50, Perplexity: -7.6313, Coherence: 0.5034, Alpha: [0.8109392  2.5307703  0.31652433 1.496403   0.28191546 0.32513562], Eta: [0.1566205  0.22863375 0.14833076 ... 0.15272766 0.15272766 0.15549694]\n",
            "Num Topics: 6, Chunksize: 300, Passes: 260, Iterations: 100, Perplexity: -7.6345, Coherence: 0.4954, Alpha: [0.8117677  2.4343174  0.37988442 1.5989889  0.29296088 0.30597064], Eta: [0.15604994 0.16948287 0.14774323 ... 0.15217446 0.15217446 0.15492429]\n",
            "Num Topics: 6, Chunksize: 300, Passes: 260, Iterations: 200, Perplexity: -7.6363, Coherence: 0.4878, Alpha: [0.91351086 2.368894   0.31740525 1.6247855  0.29704383 0.33899248], Eta: [0.15594059 0.16931711 0.14764935 ... 0.15204714 0.15204714 0.15479407]\n",
            "Num Topics: 7, Chunksize: 300, Passes: 100, Iterations: 50, Perplexity: -7.6514, Coherence: 0.4735, Alpha: [0.79682577 2.637552   0.28890312 1.3880215  0.26988286 0.33739763\n",
            " 0.44703463], Eta: [0.157338   0.17891696 0.12881532 ... 0.13155133 0.13155133 0.13332565]\n",
            "Num Topics: 7, Chunksize: 300, Passes: 100, Iterations: 100, Perplexity: -7.6557, Coherence: 0.4684, Alpha: [0.8373079  2.80932    0.313911   1.4383075  0.2936663  0.32842863\n",
            " 0.49912545], Eta: [0.15766157 0.14220475 0.12886451 ... 0.13160121 0.13160121 0.13337696]\n",
            "Num Topics: 7, Chunksize: 300, Passes: 100, Iterations: 200, Perplexity: -7.6586, Coherence: 0.4476, Alpha: [0.8800435  3.0435674  0.35934532 1.3456548  0.29177722 0.35706732\n",
            " 0.505855  ], Eta: [0.13389158 0.14214206 0.12879492 ... 0.13153754 0.13153754 0.13331167]\n",
            "Num Topics: 7, Chunksize: 300, Passes: 200, Iterations: 50, Perplexity: -7.6430, Coherence: 0.4687, Alpha: [0.78584194 2.619437   0.2896545  1.4531436  0.27035543 0.34328553\n",
            " 0.44781828], Eta: [0.15743892 0.1759044  0.12881626 ... 0.13156484 0.13156484 0.13333741]\n",
            "Num Topics: 7, Chunksize: 300, Passes: 200, Iterations: 100, Perplexity: -7.6473, Coherence: 0.4742, Alpha: [0.8312424  2.808409   0.3142724  1.4930778  0.29415837 0.33139473\n",
            " 0.50249267], Eta: [0.15788355 0.14218664 0.12888326 ... 0.13163367 0.13163367 0.13340811]\n",
            "Num Topics: 7, Chunksize: 300, Passes: 200, Iterations: 200, Perplexity: -7.6504, Coherence: 0.4452, Alpha: [0.8741771  3.0501137  0.3587947  1.3614018  0.29126543 0.35875246\n",
            " 0.5043626 ], Eta: [0.13394056 0.14214414 0.12882647 ... 0.13158621 0.13158621 0.13335943]\n",
            "Num Topics: 7, Chunksize: 300, Passes: 260, Iterations: 50, Perplexity: -7.6409, Coherence: 0.4697, Alpha: [0.7836553  2.6153104  0.289549   1.4634424  0.27022147 0.3438286\n",
            " 0.44767416], Eta: [0.1574668  0.1733876  0.12881896 ... 0.13157193 0.13157193 0.13334422]\n",
            "Num Topics: 7, Chunksize: 300, Passes: 260, Iterations: 100, Perplexity: -7.6449, Coherence: 0.4742, Alpha: [0.8281448  2.8113275  0.31456485 1.5109103  0.2944492  0.33248624\n",
            " 0.5034022 ], Eta: [0.15790707 0.14218193 0.12888663 ... 0.13164139 0.13164139 0.13341556]\n",
            "Num Topics: 7, Chunksize: 300, Passes: 260, Iterations: 200, Perplexity: -7.6482, Coherence: 0.4435, Alpha: [0.8731794 3.0466642 0.3584087 1.3657155 0.290888  0.3589684 0.5037653], Eta: [0.13394591 0.14213966 0.12882835 ... 0.13159294 0.13159294 0.13336588]\n",
            "Num Topics: 8, Chunksize: 300, Passes: 100, Iterations: 50, Perplexity: -7.6661, Coherence: 0.4734, Alpha: [2.1276317  2.3124073  0.2994736  0.52986467 0.29377785 0.34419298\n",
            " 0.32784235 0.50206625], Eta: [0.11759079 0.12314504 0.11407327 ... 0.11615778 0.11615778 0.11737355]\n",
            "Num Topics: 8, Chunksize: 300, Passes: 100, Iterations: 100, Perplexity: -7.6666, Coherence: 0.4668, Alpha: [2.1413074  2.2991133  0.38702112 0.5805519  0.25517973 0.3288151\n",
            " 0.30230525 0.4804971 ], Eta: [0.11759452 0.12318236 0.11412523 ... 0.11617699 0.11617699 0.11739381]\n",
            "Num Topics: 8, Chunksize: 300, Passes: 100, Iterations: 200, Perplexity: -7.6696, Coherence: 0.4845, Alpha: [2.117665   2.5703146  0.41226768 0.5999354  0.27801257 0.31108427\n",
            " 0.3143988  0.41057473], Eta: [0.1178556  0.12347541 0.11437021 ... 0.11643828 0.11643828 0.11766024]\n",
            "Num Topics: 8, Chunksize: 300, Passes: 200, Iterations: 50, Perplexity: -7.6580, Coherence: 0.4645, Alpha: [2.1279318  2.33445    0.29939187 0.52783906 0.29287934 0.3455753\n",
            " 0.32761627 0.50178057], Eta: [0.11763869 0.12316423 0.11411642 ... 0.11620593 0.11620593 0.11742114]\n",
            "Num Topics: 8, Chunksize: 300, Passes: 200, Iterations: 100, Perplexity: -7.6583, Coherence: 0.4615, Alpha: [2.1575966  2.3058147  0.38700154 0.5784273  0.25486612 0.33098587\n",
            " 0.3022095  0.4800349 ], Eta: [0.11763866 0.12319735 0.11416355 ... 0.11622235 0.11622235 0.11743841]\n",
            "Num Topics: 8, Chunksize: 300, Passes: 200, Iterations: 200, Perplexity: -7.6615, Coherence: 0.4853, Alpha: [2.1421225  2.55491    0.4118288  0.5965187  0.27693594 0.31214362\n",
            " 0.31320256 0.41075343], Eta: [0.1178955  0.12348358 0.11440361 ... 0.11647814 0.11647814 0.11769928]\n",
            "Num Topics: 8, Chunksize: 300, Passes: 260, Iterations: 50, Perplexity: -7.6558, Coherence: 0.4656, Alpha: [2.128086   2.3394318  0.2993369  0.52732384 0.29264474 0.34607586\n",
            " 0.32738256 0.5019877 ], Eta: [0.11764796 0.12316697 0.1141245  ... 0.11621568 0.11621568 0.11743073]\n",
            "Num Topics: 8, Chunksize: 300, Passes: 260, Iterations: 100, Perplexity: -7.6560, Coherence: 0.4632, Alpha: [2.1627307  2.3074353  0.38701403 0.57697535 0.2547642  0.33165422\n",
            " 0.3022055  0.4800897 ], Eta: [0.11764909 0.12320106 0.11417226 ... 0.11623335 0.11623335 0.11744925]\n",
            "Num Topics: 8, Chunksize: 300, Passes: 260, Iterations: 200, Perplexity: -7.6594, Coherence: 0.4942, Alpha: [2.1471906  2.5541677  0.4117614  0.59566545 0.2768116  0.31251082\n",
            " 0.31296793 0.41094616], Eta: [0.11790364 0.12348454 0.11441006 ... 0.11648676 0.11648676 0.11770769]\n",
            "Num Topics: 9, Chunksize: 300, Passes: 100, Iterations: 50, Perplexity: -7.6771, Coherence: 0.4860, Alpha: [2.212996   2.6637926  0.2381056  0.5758062  0.18172567 0.27474108\n",
            " 0.5486684  0.67413825 0.1989212 ], Eta: [0.10552166 0.12692106 0.10300815 ... 0.10451503 0.10451503 0.10539404]\n",
            "Num Topics: 9, Chunksize: 300, Passes: 100, Iterations: 100, Perplexity: -7.6822, Coherence: 0.4756, Alpha: [2.285652   2.7793105  0.30532172 0.67947114 0.185768   0.26283452\n",
            " 0.6716398  0.5817916  0.25396565], Eta: [0.1053744  0.10933183 0.10286304 ... 0.10437505 0.10437505 0.1052517 ]\n",
            "Num Topics: 9, Chunksize: 300, Passes: 100, Iterations: 200, Perplexity: -7.6831, Coherence: 0.4767, Alpha: [1.9481146  3.005333   0.353026   0.74570984 0.18810745 0.23419249\n",
            " 0.5823709  0.4281487  0.25505635], Eta: [0.10550129 0.10947184 0.10299718 ... 0.10450196 0.10450196 0.10538074]\n",
            "Num Topics: 9, Chunksize: 300, Passes: 200, Iterations: 50, Perplexity: -7.6685, Coherence: 0.4901, Alpha: [2.246104   2.6665812  0.23868959 0.57222193 0.18234904 0.2756874\n",
            " 0.5484497  0.67764425 0.19951025], Eta: [0.10555778 0.10950047 0.10304161 ... 0.10455456 0.10455456 0.10543279]\n",
            "Num Topics: 9, Chunksize: 300, Passes: 200, Iterations: 100, Perplexity: -7.6738, Coherence: 0.4691, Alpha: [2.2722464  2.7951937  0.30511087 0.67983645 0.18577385 0.2630646\n",
            " 0.6691199  0.58753586 0.25376734], Eta: [0.10539835 0.10933358 0.10288458 ... 0.10440203 0.10440203 0.10527767]\n",
            "Num Topics: 9, Chunksize: 300, Passes: 200, Iterations: 200, Perplexity: -7.6744, Coherence: 0.4811, Alpha: [1.9422901  3.0212512  0.35294154 0.7485384  0.18828222 0.23460485\n",
            " 0.5808122  0.42893323 0.25626957], Eta: [0.10552571 0.10947327 0.1030188  ... 0.1045295  0.1045295  0.10540728]\n",
            "Num Topics: 9, Chunksize: 300, Passes: 260, Iterations: 50, Perplexity: -7.6663, Coherence: 0.4813, Alpha: [2.2542336  2.6623244  0.23870893 0.5719309  0.18239908 0.2757783\n",
            " 0.54822445 0.6789353  0.19954416], Eta: [0.10556381 0.10950124 0.10304675 ... 0.1045615  0.1045615  0.10543947]\n",
            "Num Topics: 9, Chunksize: 300, Passes: 260, Iterations: 100, Perplexity: -7.6716, Coherence: 0.4644, Alpha: [2.2679117  2.7970119  0.30489394 0.6795058  0.18568774 0.26299578\n",
            " 0.6683056  0.587695   0.25358596], Eta: [0.10540453 0.1093348  0.10289006 ... 0.10440924 0.10440924 0.10528465]\n"
          ]
        },
        {
          "output_type": "stream",
          "name": "stderr",
          "text": [
            "WARNING:gensim.models.ldamodel:updated prior is not positive\n"
          ]
        },
        {
          "output_type": "stream",
          "name": "stdout",
          "text": [
            "Num Topics: 9, Chunksize: 300, Passes: 260, Iterations: 200, Perplexity: -7.6722, Coherence: 0.4811, Alpha: [1.9370147  3.0220497  0.35256222 0.7485167  0.18815282 0.23449543\n",
            " 0.57987124 0.42882448 0.25622398], Eta: [0.10553188 0.10947444 0.10302418 ... 0.1045367  0.1045367  0.10541427]\n"
          ]
        },
        {
          "output_type": "stream",
          "name": "stderr",
          "text": [
            "WARNING:gensim.models.ldamodel:updated prior is not positive\n"
          ]
        },
        {
          "output_type": "stream",
          "name": "stdout",
          "text": [
            "Num Topics: 2, Chunksize: 300, Passes: 100, Iterations: 50, Perplexity: -7.3822, Coherence: 0.5719, Alpha: [0.12224834 0.08599984], Eta: [ 1.9185512  33.82419     0.61005634 ...  0.6072296   0.6072296\n",
            "  0.71859354]\n",
            "Num Topics: 2, Chunksize: 300, Passes: 100, Iterations: 100, Perplexity: -7.4242, Coherence: 0.4825, Alpha: [0.03729287 0.24401954], Eta: [0.7104193  2.9701488  0.46291217 ... 0.58974016 0.58974016 0.695649  ]\n"
          ]
        },
        {
          "output_type": "stream",
          "name": "stderr",
          "text": [
            "WARNING:gensim.models.ldamodel:updated prior is not positive\n",
            "WARNING:gensim.models.ldamodel:updated prior is not positive\n"
          ]
        },
        {
          "output_type": "stream",
          "name": "stdout",
          "text": [
            "Num Topics: 2, Chunksize: 300, Passes: 100, Iterations: 200, Perplexity: -7.4097, Coherence: 0.4927, Alpha: [0.03980837 0.2056062 ], Eta: [ 0.745972   19.307339    0.46741933 ...  0.5964882   0.5964882\n",
            "  0.7044768 ]\n"
          ]
        },
        {
          "output_type": "stream",
          "name": "stderr",
          "text": [
            "WARNING:gensim.models.ldamodel:updated prior is not positive\n"
          ]
        },
        {
          "output_type": "stream",
          "name": "stdout",
          "text": [
            "Num Topics: 2, Chunksize: 300, Passes: 200, Iterations: 50, Perplexity: -7.3700, Coherence: 0.5742, Alpha: [0.10850409 0.07459117], Eta: [ 2.0008824 34.63538    0.6227664 ...  0.616937   0.616937   0.7313566]\n",
            "Num Topics: 2, Chunksize: 300, Passes: 200, Iterations: 100, Perplexity: -7.4144, Coherence: 0.4900, Alpha: [0.03356441 0.22894299], Eta: [ 0.7205772  13.855475    0.46819487 ...  0.5983921   0.5983921\n",
            "  0.7069894 ]\n"
          ]
        },
        {
          "output_type": "stream",
          "name": "stderr",
          "text": [
            "WARNING:gensim.models.ldamodel:updated prior is not positive\n",
            "WARNING:gensim.models.ldamodel:updated prior is not positive\n"
          ]
        },
        {
          "output_type": "stream",
          "name": "stdout",
          "text": [
            "Num Topics: 2, Chunksize: 300, Passes: 200, Iterations: 200, Perplexity: -7.3959, Coherence: 0.4960, Alpha: [0.03192398 0.15810883], Eta: [ 0.77118695 23.283089    0.47579157 ...  0.6098611   0.6098611\n",
            "  0.7220248 ]\n"
          ]
        },
        {
          "output_type": "stream",
          "name": "stderr",
          "text": [
            "WARNING:gensim.models.ldamodel:updated prior is not positive\n"
          ]
        },
        {
          "output_type": "stream",
          "name": "stdout",
          "text": [
            "Num Topics: 2, Chunksize: 300, Passes: 260, Iterations: 50, Perplexity: -7.3671, Coherence: 0.5742, Alpha: [0.10678727 0.07335933], Eta: [ 2.0131693  34.77525     0.6253537  ...  0.6188254   0.6188254\n",
            "  0.73384166]\n",
            "Num Topics: 2, Chunksize: 300, Passes: 260, Iterations: 100, Perplexity: -7.4119, Coherence: 0.4900, Alpha: [0.03301169 0.22903517], Eta: [ 0.7228699  14.059312    0.46925372 ...  0.6001868   0.6001868\n",
            "  0.7093442 ]\n"
          ]
        },
        {
          "output_type": "stream",
          "name": "stderr",
          "text": [
            "WARNING:gensim.models.ldamodel:updated prior is not positive\n"
          ]
        },
        {
          "output_type": "stream",
          "name": "stdout",
          "text": [
            "Num Topics: 2, Chunksize: 300, Passes: 260, Iterations: 200, Perplexity: -7.3922, Coherence: 0.4960, Alpha: [0.03138306 0.15653105], Eta: [ 0.77790123 23.725958    0.47748458 ...  0.6126334   0.6126334\n",
            "  0.725668  ]\n",
            "Num Topics: 3, Chunksize: 300, Passes: 100, Iterations: 50, Perplexity: -7.4560, Coherence: 0.4863, Alpha: [0.0632927  0.15839185 0.33422765], Eta: [ 0.58219624 10.685931    0.2860125  ...  0.32009262  0.32009262\n",
            "  0.34322023]\n",
            "Num Topics: 3, Chunksize: 300, Passes: 100, Iterations: 100, Perplexity: -7.4575, Coherence: 0.4994, Alpha: [0.064132  0.1798    0.3533004], Eta: [0.5733775  2.5176592  0.28485408 ... 0.3186699  0.3186699  0.34160483]\n",
            "Num Topics: 3, Chunksize: 300, Passes: 100, Iterations: 200, Perplexity: -7.4575, Coherence: 0.5078, Alpha: [0.06958453 0.17005402 0.3776054 ], Eta: [ 0.5784693  11.570208    0.28554335 ...  0.31952944  0.31952944\n",
            "  0.34258065]\n",
            "Num Topics: 3, Chunksize: 300, Passes: 200, Iterations: 50, Perplexity: -7.4456, Coherence: 0.4863, Alpha: [0.05891104 0.1445729  0.30499506], Eta: [ 0.5876838  11.07169     0.28709075 ...  0.32143304  0.32143304\n",
            "  0.34472838]\n",
            "Num Topics: 3, Chunksize: 300, Passes: 200, Iterations: 100, Perplexity: -7.4439, Coherence: 0.4983, Alpha: [0.05328602 0.14562736 0.29039618], Eta: [0.58566064 2.5957377  0.2871002  ... 0.32144293 0.32144293 0.34473962]\n",
            "Num Topics: 3, Chunksize: 300, Passes: 200, Iterations: 200, Perplexity: -7.4435, Coherence: 0.4930, Alpha: [0.05671071 0.13889408 0.31430086], Eta: [ 0.5884754  11.776307    0.28759953 ...  0.3221667   0.3221667\n",
            "  0.34556085]\n",
            "Num Topics: 3, Chunksize: 300, Passes: 260, Iterations: 50, Perplexity: -7.4424, Coherence: 0.4888, Alpha: [0.05785037 0.13925661 0.29705888], Eta: [ 0.5895158  11.169843    0.2874887  ...  0.32196105  0.32196105\n",
            "  0.34532458]\n",
            "Num Topics: 3, Chunksize: 300, Passes: 260, Iterations: 100, Perplexity: -7.4399, Coherence: 0.5017, Alpha: [0.05108556 0.1379025  0.2755031 ], Eta: [0.58878934 2.8288085  0.28786343 ... 0.32242122 0.32242122 0.34584725]\n",
            "Num Topics: 3, Chunksize: 300, Passes: 260, Iterations: 200, Perplexity: -7.4405, Coherence: 0.4928, Alpha: [0.0549463  0.13449383 0.30453137], Eta: [ 0.59003276 11.831966    0.28800747 ...  0.32268015  0.32268015\n",
            "  0.34614086]\n",
            "Num Topics: 4, Chunksize: 300, Passes: 100, Iterations: 50, Perplexity: -7.5666, Coherence: 0.3871, Alpha: [0.26373556 0.34323096 1.3195187  0.36038512], Eta: [0.32575616 1.7927959  0.21134412 ... 0.22608158 0.22608158 0.23498341]\n",
            "Num Topics: 4, Chunksize: 300, Passes: 100, Iterations: 100, Perplexity: -7.5800, Coherence: 0.3908, Alpha: [0.38977885 0.38890868 1.4587164  0.31441474], Eta: [0.24235725 1.6546777  0.2119945  ... 0.22386448 0.22386448 0.23262094]\n",
            "Num Topics: 4, Chunksize: 300, Passes: 100, Iterations: 200, Perplexity: -7.5828, Coherence: 0.3998, Alpha: [0.41948786 0.4259094  1.4894322  0.2736641 ], Eta: [0.23900913 1.6306777  0.21215498 ... 0.22399771 0.22399771 0.23276159]\n",
            "Num Topics: 4, Chunksize: 300, Passes: 200, Iterations: 50, Perplexity: -7.5552, Coherence: 0.3894, Alpha: [0.24422482 0.32293192 1.2617784  0.33773994], Eta: [0.32243055 1.8254156  0.21194193 ... 0.22642133 0.22642133 0.23534606]\n",
            "Num Topics: 4, Chunksize: 300, Passes: 200, Iterations: 100, Perplexity: -7.5688, Coherence: 0.4052, Alpha: [0.35112563 0.35191095 1.3811187  0.29698578], Eta: [0.24317521 1.6428059  0.21234913 ... 0.22444952 0.22444952 0.23324174]\n",
            "Num Topics: 4, Chunksize: 300, Passes: 200, Iterations: 200, Perplexity: -7.5711, Coherence: 0.4056, Alpha: [0.3721447  0.38719565 1.4062804  0.25684395], Eta: [0.23941185 1.6344867  0.21250494 ... 0.22452222 0.22452222 0.2333182 ]\n",
            "Num Topics: 4, Chunksize: 300, Passes: 260, Iterations: 50, Perplexity: -7.5516, Coherence: 0.3869, Alpha: [0.2353418  0.31372803 1.2393152  0.33331078], Eta: [0.32199857 1.8391664  0.21207961 ... 0.22654761 0.22654761 0.23548105]\n",
            "Num Topics: 4, Chunksize: 300, Passes: 260, Iterations: 100, Perplexity: -7.5656, Coherence: 0.4025, Alpha: [0.34414664 0.34562927 1.3599155  0.28748295], Eta: [0.24343921 1.651      0.21240343 ... 0.22456774 0.22456774 0.23336692]\n",
            "Num Topics: 4, Chunksize: 300, Passes: 260, Iterations: 200, Perplexity: -7.5678, Coherence: 0.4030, Alpha: [0.36077952 0.37760085 1.3792496  0.24860749], Eta: [0.23945689 1.6391101  0.21257704 ... 0.22465155 0.22465155 0.2334555 ]\n",
            "Num Topics: 5, Chunksize: 300, Passes: 100, Iterations: 50, Perplexity: -7.6133, Coherence: 0.5006, Alpha: [0.35088372 0.39025438 0.9651487  0.39275974 2.3918495 ], Eta: [0.19074653 0.21217446 0.17443223 ... 0.18051532 0.18051532 0.18512589]\n",
            "Num Topics: 5, Chunksize: 300, Passes: 100, Iterations: 100, Perplexity: -7.6213, Coherence: 0.4762, Alpha: [0.4385071  0.5360267  0.9228614  0.33997095 2.8258123 ], Eta: [0.18945248 0.21272886 0.1751314  ... 0.18098941 0.18098941 0.18562423]\n",
            "Num Topics: 5, Chunksize: 300, Passes: 100, Iterations: 200, Perplexity: -7.6228, Coherence: 0.4602, Alpha: [0.453442   0.4628935  0.9790929  0.30223182 2.5677881 ], Eta: [0.189284   0.21268593 0.17467403 ... 0.18092147 0.18092147 0.18555225]\n",
            "Num Topics: 5, Chunksize: 300, Passes: 200, Iterations: 50, Perplexity: -7.6045, Coherence: 0.5043, Alpha: [0.34362546 0.38651597 0.9480869  0.39162928 2.3887756 ], Eta: [0.19092615 0.21219087 0.17445941 ... 0.18059418 0.18059418 0.18520464]\n",
            "Num Topics: 5, Chunksize: 300, Passes: 200, Iterations: 100, Perplexity: -7.6124, Coherence: 0.4813, Alpha: [0.42405802 0.5254462  0.90990484 0.3352175  2.7946815 ], Eta: [0.18956394 0.21276104 0.17519127 ... 0.18112682 0.18112682 0.18576401]\n",
            "Num Topics: 5, Chunksize: 300, Passes: 200, Iterations: 200, Perplexity: -7.6145, Coherence: 0.4683, Alpha: [0.44500774 0.4617918  0.97037435 0.2953089  2.5774777 ], Eta: [0.18943207 0.2127449  0.17474382 ... 0.18107416 0.18107416 0.1857084 ]\n",
            "Num Topics: 5, Chunksize: 300, Passes: 260, Iterations: 50, Perplexity: -7.6020, Coherence: 0.5043, Alpha: [0.34212333 0.38335648 0.94180596 0.39054987 2.3869247 ], Eta: [0.19094448 0.21221189 0.17434777 ... 0.18063451 0.18063451 0.18524598]\n",
            "Num Topics: 5, Chunksize: 300, Passes: 260, Iterations: 100, Perplexity: -7.6104, Coherence: 0.4802, Alpha: [0.42416576 0.522036   0.88878554 0.3331119  2.7791023 ], Eta: [0.18955873 0.2127497  0.17516874 ... 0.1810929  0.1810929  0.1857289 ]\n",
            "Num Topics: 5, Chunksize: 300, Passes: 260, Iterations: 200, Perplexity: -7.6121, Coherence: 0.4753, Alpha: [0.44372368 0.46121266 0.96632236 0.29135475 2.5755355 ], Eta: [0.18946742 0.21276255 0.17475538 ... 0.18111393 0.18111393 0.18574922]\n",
            "Num Topics: 6, Chunksize: 300, Passes: 100, Iterations: 50, Perplexity: -7.6421, Coherence: 0.4482, Alpha: [0.31855494 0.62587565 1.3576404  0.31881347 2.3347425  0.40231672], Eta: [0.15628837 0.16858539 0.14725353 ... 0.15160787 0.15160787 0.15433483]\n",
            "Num Topics: 6, Chunksize: 300, Passes: 100, Iterations: 100, Perplexity: -7.6478, Coherence: 0.4686, Alpha: [0.38473448 0.69273376 1.2844939  0.30393422 2.6985035  0.42968503], Eta: [0.15603128 0.1687888  0.14781892 ... 0.15168428 0.15168428 0.15441741]\n",
            "Num Topics: 6, Chunksize: 300, Passes: 100, Iterations: 200, Perplexity: -7.6513, Coherence: 0.4721, Alpha: [0.44077972 0.6528301  1.2389382  0.3476779  2.9123087  0.41411433], Eta: [0.15624562 0.16907455 0.14812702 ... 0.15178205 0.15178205 0.15452407]\n",
            "Num Topics: 6, Chunksize: 300, Passes: 200, Iterations: 50, Perplexity: -7.6340, Coherence: 0.4489, Alpha: [0.31736618 0.62515587 1.3501894  0.31810498 2.350536   0.4004772 ], Eta: [0.1563233  0.16859642 0.14730278 ... 0.15166986 0.15166986 0.15439734]\n",
            "Num Topics: 6, Chunksize: 300, Passes: 200, Iterations: 100, Perplexity: -7.6396, Coherence: 0.4645, Alpha: [0.38368765 0.6918561  1.2857813  0.30493757 2.7485206  0.4323324 ], Eta: [0.1561099  0.16884395 0.14790416 ... 0.15179145 0.15179145 0.15452597]\n",
            "Num Topics: 6, Chunksize: 300, Passes: 200, Iterations: 200, Perplexity: -7.6433, Coherence: 0.4592, Alpha: [0.44086644 0.6525181  1.2365726  0.34655413 2.9313805  0.41363558], Eta: [0.15629674 0.16907729 0.14814214 ... 0.1518594  0.1518594  0.15460075]\n",
            "Num Topics: 6, Chunksize: 300, Passes: 260, Iterations: 50, Perplexity: -7.6319, Coherence: 0.4509, Alpha: [0.31699127 0.6246431  1.3480095  0.31791976 2.3548717  0.40002158], Eta: [0.15632921 0.16860017 0.14731565 ... 0.15168484 0.15168484 0.15441254]\n",
            "Num Topics: 6, Chunksize: 300, Passes: 260, Iterations: 100, Perplexity: -7.6374, Coherence: 0.4643, Alpha: [0.3832208  0.6919851  1.2841735  0.30508074 2.7602432  0.43230304], Eta: [0.15612188 0.16885439 0.14791988 ... 0.15181418 0.15181418 0.15454899]\n",
            "Num Topics: 6, Chunksize: 300, Passes: 260, Iterations: 200, Perplexity: -7.6412, Coherence: 0.4604, Alpha: [0.44037372 0.6524661  1.2369586  0.34605488 2.9335024  0.41328216], Eta: [0.15630351 0.1690785  0.1481453  ... 0.15187916 0.15187916 0.15462036]\n",
            "Num Topics: 7, Chunksize: 300, Passes: 100, Iterations: 50, Perplexity: -7.6480, Coherence: 0.4785, Alpha: [0.2867137  0.38508987 1.2689954  0.32184604 2.8352568  0.381044\n",
            " 0.38819712], Eta: [0.15856539 0.14275785 0.12927203 ... 0.13211647 0.13211647 0.13390629]\n",
            "Num Topics: 7, Chunksize: 300, Passes: 100, Iterations: 100, Perplexity: -7.6553, Coherence: 0.4874, Alpha: [0.34529528 0.4212991  1.1967374  0.37186432 2.9061387  0.40942854\n",
            " 0.33465263], Eta: [0.15857317 0.14255817 0.12914598 ... 0.13195337 0.13195337 0.13373825]\n",
            "Num Topics: 7, Chunksize: 300, Passes: 100, Iterations: 200, Perplexity: -7.6576, Coherence: 0.5058, Alpha: [0.38393432 0.42102712 1.4108953  0.3759743  2.971103   0.43483338\n",
            " 0.35613006], Eta: [0.15711719 0.14246085 0.12905286 ... 0.13188167 0.13188167 0.1336639 ]\n",
            "Num Topics: 7, Chunksize: 300, Passes: 200, Iterations: 50, Perplexity: -7.6399, Coherence: 0.4751, Alpha: [0.2858304  0.38565972 1.2717346  0.32352436 2.8459916  0.38016516\n",
            " 0.38633972], Eta: [0.15879714 0.14276561 0.12930667 ... 0.13217041 0.13217041 0.13395938]\n",
            "Num Topics: 7, Chunksize: 300, Passes: 200, Iterations: 100, Perplexity: -7.6472, Coherence: 0.4767, Alpha: [0.34388453 0.4192009  1.1990603  0.37119192 2.9093218  0.4088017\n",
            " 0.3360494 ], Eta: [0.15869586 0.14256038 0.12917873 ... 0.13199943 0.13199943 0.13378341]\n",
            "Num Topics: 7, Chunksize: 300, Passes: 200, Iterations: 200, Perplexity: -7.6495, Coherence: 0.4944, Alpha: [0.3812646  0.41962382 1.4110404  0.3748243  2.973599   0.43512154\n",
            " 0.35532227], Eta: [0.1573836  0.14247668 0.1290967  ... 0.13193795 0.13193795 0.13371974]\n",
            "Num Topics: 7, Chunksize: 300, Passes: 260, Iterations: 50, Perplexity: -7.6378, Coherence: 0.4751, Alpha: [0.2853901  0.38557675 1.2716205  0.32343256 2.8468213  0.379851\n",
            " 0.3859297 ], Eta: [0.15884812 0.14276756 0.12931381 ... 0.13218327 0.13218327 0.13397208]\n",
            "Num Topics: 7, Chunksize: 300, Passes: 260, Iterations: 100, Perplexity: -7.6450, Coherence: 0.4778, Alpha: [0.344183   0.41930303 1.202793   0.3721615  2.9181018  0.40941137\n",
            " 0.33721063], Eta: [0.1587186  0.14255941 0.12918425 ... 0.13200903 0.13200903 0.13379282]\n",
            "Num Topics: 7, Chunksize: 300, Passes: 260, Iterations: 200, Perplexity: -7.6472, Coherence: 0.4929, Alpha: [0.3807848  0.41957638 1.4121225  0.3743708  2.9776087  0.43540975\n",
            " 0.35529765], Eta: [0.15744472 0.14248215 0.12910886 ... 0.13195299 0.13195299 0.13373472]\n",
            "Num Topics: 8, Chunksize: 300, Passes: 100, Iterations: 50, Perplexity: -7.6668, Coherence: 0.4543, Alpha: [0.2844995  0.5181308  1.3044932  0.35570976 3.0178683  0.33590293\n",
            " 0.27190316 0.53616303], Eta: [0.11779576 0.12332238 0.11422081 ... 0.11628384 0.11628384 0.11750354]\n",
            "Num Topics: 8, Chunksize: 300, Passes: 100, Iterations: 100, Perplexity: -7.6732, Coherence: 0.4592, Alpha: [0.308256   0.6002761  1.3748198  0.39264318 2.9848819  0.35852683\n",
            " 0.22792105 0.64634436], Eta: [0.11750831 0.12303009 0.11397015 ... 0.11602718 0.11602718 0.1172414 ]\n",
            "Num Topics: 8, Chunksize: 300, Passes: 100, Iterations: 200, Perplexity: -7.6760, Coherence: 0.4505, Alpha: [0.37596744 0.56902    1.4709752  0.39124322 3.0270019  0.38159102\n",
            " 0.24188977 0.65375966], Eta: [0.1174044  0.12293286 0.113877   ... 0.11593751 0.11593751 0.1171499 ]\n",
            "Num Topics: 8, Chunksize: 300, Passes: 200, Iterations: 50, Perplexity: -7.6584, Coherence: 0.4383, Alpha: [0.28437552 0.52004826 1.30252    0.35505208 3.0374887  0.33547547\n",
            " 0.2715786  0.5371868 ], Eta: [0.11783541 0.12333421 0.11425766 ... 0.11632889 0.11632889 0.11754764]\n",
            "Num Topics: 8, Chunksize: 300, Passes: 200, Iterations: 100, Perplexity: -7.6650, Coherence: 0.4500, Alpha: [0.30807745 0.5998193  1.3747097  0.39168748 3.0004933  0.35857043\n",
            " 0.22796388 0.64584726], Eta: [0.11754908 0.12304274 0.11400673 ... 0.11607223 0.11607223 0.11728556]\n",
            "Num Topics: 8, Chunksize: 300, Passes: 200, Iterations: 200, Perplexity: -7.6679, Coherence: 0.4437, Alpha: [0.37384352 0.5685192  1.4595941  0.38942224 3.043841   0.38165417\n",
            " 0.24194765 0.6522388 ], Eta: [0.11744753 0.12294831 0.11391897 ... 0.11598507 0.11598507 0.11719663]\n",
            "Num Topics: 8, Chunksize: 300, Passes: 260, Iterations: 50, Perplexity: -7.6562, Coherence: 0.4302, Alpha: [0.2842141  0.5199578  1.301168   0.35471514 3.0413415  0.33546123\n",
            " 0.27151966 0.5369706 ], Eta: [0.11784364 0.12333617 0.11426498 ... 0.11633883 0.11633883 0.11755739]\n",
            "Num Topics: 8, Chunksize: 300, Passes: 260, Iterations: 100, Perplexity: -7.6629, Coherence: 0.4500, Alpha: [0.308017   0.5997432  1.3761858  0.39133906 3.0036094  0.3584603\n",
            " 0.22796442 0.6459739 ], Eta: [0.11755715 0.1230447  0.11401406 ... 0.11608209 0.11608209 0.11729521]\n",
            "Num Topics: 8, Chunksize: 300, Passes: 260, Iterations: 200, Perplexity: -7.6657, Coherence: 0.4447, Alpha: [0.37324056 0.5681794  1.4568075  0.38879737 3.0467572  0.38160068\n",
            " 0.2419173  0.6519952 ], Eta: [0.11745524 0.12294982 0.11392616 ... 0.11599447 0.11599447 0.11720581]\n",
            "Num Topics: 9, Chunksize: 300, Passes: 100, Iterations: 50, Perplexity: -7.6802, Coherence: 0.5000, Alpha: [0.30330056 0.7890461  2.22633    0.2123847  2.318412   0.3528728\n",
            " 0.2820603  0.43903756 0.27098575], Eta: [0.10522696 0.10915428 0.10267215 ... 0.10420717 0.10420717 0.10508116]\n",
            "Num Topics: 9, Chunksize: 300, Passes: 100, Iterations: 100, Perplexity: -7.6813, Coherence: 0.4945, Alpha: [0.27219465 0.63445944 2.1770597  0.2271326  2.3254526  0.3405651\n",
            " 0.32810238 0.4634535  0.25250068], Eta: [0.10514762 0.10906911 0.1025964  ... 0.10412801 0.10412801 0.10500079]\n",
            "Num Topics: 9, Chunksize: 300, Passes: 100, Iterations: 200, Perplexity: -7.6806, Coherence: 0.5003, Alpha: [0.28366116 0.80513185 2.5642219  0.20954868 2.2172992  0.3753283\n",
            " 0.33608645 0.4940708  0.23850456], Eta: [0.10532768 0.10926592 0.10278173 ... 0.10430922 0.10430922 0.10518487]\n",
            "Num Topics: 9, Chunksize: 300, Passes: 200, Iterations: 50, Perplexity: -7.6717, Coherence: 0.4951, Alpha: [0.30332825 0.7729935  2.2216938  0.2123313  2.3726623  0.35481006\n",
            " 0.28213528 0.4390127  0.2714132 ], Eta: [0.10527341 0.10917985 0.10271562 ... 0.10425682 0.10425682 0.10513016]\n",
            "Num Topics: 9, Chunksize: 300, Passes: 200, Iterations: 100, Perplexity: -7.6730, Coherence: 0.4894, Alpha: [0.27163476 0.63184875 2.1667254  0.22735427 2.3506243  0.33935994\n",
            " 0.3281646  0.46306467 0.2525252 ], Eta: [0.10517806 0.10907889 0.10262608 ... 0.10416315 0.10416315 0.10503501]\n",
            "Num Topics: 9, Chunksize: 300, Passes: 200, Iterations: 200, Perplexity: -7.6723, Coherence: 0.5010, Alpha: [0.28473592 0.80319685 2.5546567  0.2101608  2.2646952  0.37651333\n",
            " 0.33746123 0.49493834 0.23864853], Eta: [0.10535525 0.10927236 0.10280904 ... 0.10434099 0.10434099 0.10521571]\n",
            "Num Topics: 9, Chunksize: 300, Passes: 260, Iterations: 50, Perplexity: -7.6694, Coherence: 0.4951, Alpha: [0.30353284 0.769041   2.2205856  0.21258406 2.3928308  0.35558578\n",
            " 0.2823325  0.4394305  0.27168146], Eta: [0.10528458 0.10918632 0.10272595 ... 0.10426909 0.10426909 0.10514227]\n",
            "Num Topics: 9, Chunksize: 300, Passes: 260, Iterations: 100, Perplexity: -7.6708, Coherence: 0.4921, Alpha: [0.27143833 0.6313712  2.164325   0.22727002 2.357653   0.3392683\n",
            " 0.32810712 0.4629415  0.25249872], Eta: [0.10518404 0.10908014 0.10263179 ... 0.10417065 0.10417065 0.10504228]\n",
            "Num Topics: 9, Chunksize: 300, Passes: 260, Iterations: 200, Perplexity: -7.6700, Coherence: 0.5017, Alpha: [0.28471124 0.8020164  2.5506504  0.21025121 2.2779264  0.3767859\n",
            " 0.3365072  0.49570566 0.23858604], Eta: [0.10536189 0.10927431 0.10281555 ... 0.10434901 0.10434901 0.10522351]\n",
            "\n",
            "Results:\n",
            "     num_topics  chunksize  passes  iterations  perplexity  coherence  \\\n",
            "0             2        300     100          50   -7.376644   0.511991   \n",
            "1             2        300     100         100   -7.376831   0.517273   \n",
            "2             2        300     100         200   -7.380512   0.496205   \n",
            "3             2        300     200          50   -7.365444   0.521974   \n",
            "4             2        300     200         100   -7.366336   0.521974   \n",
            "..          ...        ...     ...         ...         ...        ...   \n",
            "211           9        300     200         100   -7.673034   0.489409   \n",
            "212           9        300     200         200   -7.672301   0.501012   \n",
            "213           9        300     260          50   -7.669368   0.495092   \n",
            "214           9        300     260         100   -7.670827   0.492093   \n",
            "215           9        300     260         200   -7.669973   0.501654   \n",
            "\n",
            "                                                 alpha  \\\n",
            "0                              [0.06227028, 0.1275893]   \n",
            "1                              [0.06230905, 0.1278424]   \n",
            "2                              [0.06324609, 0.1400986]   \n",
            "3                           [0.054445684, 0.111960754]   \n",
            "4                            [0.055951647, 0.11481941]   \n",
            "..                                                 ...   \n",
            "211  [0.27163476, 0.63184875, 2.1667254, 0.22735427...   \n",
            "212  [0.28473592, 0.80319685, 2.5546567, 0.2101608,...   \n",
            "213  [0.30353284, 0.769041, 2.2205856, 0.21258406, ...   \n",
            "214  [0.27143833, 0.6313712, 2.164325, 0.22727002, ...   \n",
            "215  [0.28471124, 0.8020164, 2.5506504, 0.21025121,...   \n",
            "\n",
            "                                                   eta  seed  perplexity_exp  \n",
            "0    [1.9233229, 32.62804, 0.4700469, 19.106262, 19...     0     1598.217670  \n",
            "1    [1.9223727, 32.564194, 0.4699134, 19.248955, 1...     0     1598.515972  \n",
            "2    [1.907035, 32.07243, 0.46821508, 18.057194, 19...     0     1604.410305  \n",
            "3    [1.9889296, 33.358696, 0.47575003, 19.181648, ...     0     1580.416832  \n",
            "4    [1.9815164, 33.200893, 0.47496203, 19.979223, ...     0     1581.826789  \n",
            "..                                                 ...   ...             ...  \n",
            "211  [0.10517806, 0.10907889, 0.10262608, 0.1299674...     2     2149.594224  \n",
            "212  [0.10535525, 0.10927236, 0.10280904, 0.1299617...     2     2148.017564  \n",
            "213  [0.10528458, 0.10918632, 0.10272595, 0.1091411...     2     2141.728436  \n",
            "214  [0.10518404, 0.10908014, 0.10263179, 0.1299759...     2     2144.855389  \n",
            "215  [0.105361894, 0.10927431, 0.102815546, 0.12979...     2     2143.023377  \n",
            "\n",
            "[216 rows x 10 columns]\n",
            "\n",
            "Optimal Parameters:\n",
            "Number of Topics: 2\n",
            "Chunksize: 300\n",
            "Passes: 260\n",
            "Iterations: 50\n",
            "Coherence: 0.5742\n",
            "Perplexity: 1583.0485\n",
            " Alpha (per topic): [0.10678727 0.07335933]\n",
            " Eta   (per word):  [ 2.0131693  34.77525     0.6253537  ...  0.6188254   0.6188254\n",
            "  0.73384166]\n",
            " seed:  2\n"
          ]
        }
      ],
      "source": [
        "import gensim\n",
        "from gensim import corpora\n",
        "from gensim.models import LdaModel\n",
        "from gensim.models.coherencemodel import CoherenceModel\n",
        "import pandas as pd\n",
        "import numpy as np\n",
        "import itertools\n",
        "\n",
        "# Assuming high_pos_df['trigram_tokenized'] contains lists of lemmatized trigram tokens\n",
        "texts = high_neg_first_wave_df['trigram_tokens'].tolist()\n",
        "\n",
        "# Create a Dictionary and Corpus\n",
        "dictionary = corpora.Dictionary(texts)\n",
        "corpus = [dictionary.doc2bow(text) for text in texts]\n",
        "\n",
        "# Function to compute coherence and perplexity\n",
        "def compute_coherence_and_perplexity(corpus, dictionary, texts, num_topics, chunksize, passes, iterations, seed):\n",
        "    lda_model = LdaModel(corpus=corpus,\n",
        "                         id2word=dictionary,\n",
        "                         num_topics=num_topics,\n",
        "                         random_state=seed,\n",
        "                         chunksize=chunksize,\n",
        "                         passes=passes,\n",
        "                         iterations=iterations,\n",
        "                         alpha='auto',\n",
        "                         eta='auto',\n",
        "                         per_word_topics=True)\n",
        "\n",
        "    perplexity = lda_model.log_perplexity(corpus)\n",
        "    coherence_model_lda = CoherenceModel(model=lda_model, texts=texts, dictionary=dictionary, coherence='c_v')\n",
        "    coherence = coherence_model_lda.get_coherence()\n",
        "     # Extract alpha and eta\n",
        "    alpha = lda_model.alpha\n",
        "    eta = lda_model.eta\n",
        "    return perplexity, coherence, alpha, eta\n",
        "\n",
        "# Define the parameter grid with your specific values\n",
        "num_topics_range = range(2, 10)  # Adjust the range based on your needs\n",
        "chunksize_range = [300]\n",
        "passes_range = [100, 200,260]\n",
        "iterations_range = [50,100, 200]\n",
        "\n",
        "# Store results\n",
        "results = []\n",
        "\n",
        "# Grid search over all combinations of hyperparameters\n",
        "for seed in [0, 1, 2]:\n",
        "  for num_topics, chunksize, passes, iterations in itertools.product(num_topics_range, chunksize_range, passes_range, iterations_range):\n",
        "    perplexity, coherence , alpha, eta = compute_coherence_and_perplexity(corpus, dictionary, texts, num_topics, chunksize, passes, iterations, seed)\n",
        "    results.append((num_topics, chunksize, passes, iterations, perplexity, coherence,alpha,eta, seed))\n",
        "    print(f\"Num Topics: {num_topics}, Chunksize: {chunksize}, Passes: {passes}, Iterations: {iterations}, Perplexity: {perplexity:.4f}, Coherence: {coherence:.4f}, Alpha: {alpha}, Eta: {eta}\")\n",
        "\n",
        "# Convert results to a DataFrame for better analysis\n",
        "results_df = pd.DataFrame(results, columns=['num_topics', 'chunksize', 'passes', 'iterations', 'perplexity', 'coherence','alpha','eta','seed'])\n",
        "\n",
        "# Add exponentiated perplexity column\n",
        "results_df['perplexity_exp'] = np.exp(-results_df['perplexity'])\n",
        "\n",
        "# Display results\n",
        "print(\"\\nResults:\")\n",
        "print(results_df)\n",
        "\n",
        "# Find the optimal number of topics with the highest coherence\n",
        "optimal_result = results_df.sort_values(\n",
        "    by=['coherence', 'perplexity_exp'],\n",
        "    ascending=[False, True]\n",
        ").iloc[0]\n",
        "optimal_num_topics = optimal_result['num_topics']\n",
        "optimal_chunksize = optimal_result['chunksize']\n",
        "optimal_passes = optimal_result['passes']\n",
        "optimal_iterations = optimal_result['iterations']\n",
        "optimal_perplexity = optimal_result['perplexity_exp']\n",
        "optimal_coherence = optimal_result['coherence']\n",
        "optimal_alpha = optimal_result['alpha']\n",
        "optimal_eta   = optimal_result['eta']\n",
        "optimal_seed = optimal_result['seed']\n",
        "\n",
        "print(f\"\\nOptimal Parameters:\")\n",
        "print(f\"Number of Topics: {optimal_num_topics}\")\n",
        "print(f\"Chunksize: {optimal_chunksize}\")\n",
        "print(f\"Passes: {optimal_passes}\")\n",
        "print(f\"Iterations: {optimal_iterations}\")\n",
        "print(f\"Coherence: {optimal_coherence:.4f}\")\n",
        "print(f\"Perplexity: {optimal_perplexity:.4f}\")\n",
        "print(f\" Alpha (per topic): {optimal_alpha}\")\n",
        "print(f\" Eta   (per word):  {optimal_eta}\")\n",
        "print(f\" seed:  {optimal_seed}\")"
      ]
    },
    {
      "cell_type": "code",
      "execution_count": 64,
      "metadata": {
        "colab": {
          "base_uri": "https://localhost:8080/"
        },
        "id": "MRNtYBBcvN4G",
        "outputId": "95707521-9c65-459b-c8d6-6f7ad8cbe0d9"
      },
      "outputs": [
        {
          "output_type": "stream",
          "name": "stderr",
          "text": [
            "WARNING:gensim.models.ldamodel:updated prior is not positive\n"
          ]
        },
        {
          "output_type": "stream",
          "name": "stdout",
          "text": [
            "Re-fitted Optimal Model:\n",
            " Coherence: 0.5742\n",
            " Perplexity: -7.3671\n",
            " Alpha (per topic): [0.10678727 0.07335933]\n",
            " Eta   (per word):  [ 2.0131693  34.77525     0.6253537  ...  0.6188254   0.6188254\n",
            "  0.73384166]\n"
          ]
        }
      ],
      "source": [
        "# 1. Fit the model\n",
        "lda_opt = LdaModel(\n",
        "    corpus        = corpus,\n",
        "    id2word       = dictionary,\n",
        "    num_topics    = optimal_num_topics,\n",
        "    chunksize     = optimal_chunksize,\n",
        "    passes        = optimal_passes,\n",
        "    iterations    = optimal_iterations,\n",
        "    alpha         = 'auto',\n",
        "    eta           = 'auto',\n",
        "    random_state  = optimal_seed,\n",
        "    per_word_topics=True\n",
        ")\n",
        "\n",
        "# 2. Extract metrics and priors\n",
        "opt_perp  = lda_opt.log_perplexity(corpus)\n",
        "opt_coh   = CoherenceModel(model=lda_opt, texts=texts, dictionary=dictionary, coherence='c_v').get_coherence()\n",
        "opt_alpha = lda_opt.alpha\n",
        "opt_eta   = lda_opt.eta\n",
        "\n",
        "print(f\"Re-fitted Optimal Model:\")\n",
        "print(f\" Coherence: {opt_coh:.4f}\")\n",
        "print(f\" Perplexity: {opt_perp:.4f}\")\n",
        "print(f\" Alpha (per topic): {opt_alpha}\")\n",
        "print(f\" Eta   (per word):  {opt_eta}\")\n"
      ]
    },
    {
      "cell_type": "code",
      "execution_count": 66,
      "metadata": {
        "colab": {
          "base_uri": "https://localhost:8080/",
          "height": 34
        },
        "id": "SK9KveRnu-Su",
        "outputId": "c77b8d08-33e4-42ff-e89d-76449422c66d"
      },
      "outputs": [
        {
          "output_type": "display_data",
          "data": {
            "text/plain": [
              "<IPython.core.display.Javascript object>"
            ],
            "application/javascript": [
              "\n",
              "    async function download(id, filename, size) {\n",
              "      if (!google.colab.kernel.accessAllowed) {\n",
              "        return;\n",
              "      }\n",
              "      const div = document.createElement('div');\n",
              "      const label = document.createElement('label');\n",
              "      label.textContent = `Downloading \"${filename}\": `;\n",
              "      div.appendChild(label);\n",
              "      const progress = document.createElement('progress');\n",
              "      progress.max = size;\n",
              "      div.appendChild(progress);\n",
              "      document.body.appendChild(div);\n",
              "\n",
              "      const buffers = [];\n",
              "      let downloaded = 0;\n",
              "\n",
              "      const channel = await google.colab.kernel.comms.open(id);\n",
              "      // Send a message to notify the kernel that we're ready.\n",
              "      channel.send({})\n",
              "\n",
              "      for await (const message of channel.messages) {\n",
              "        // Send a message to notify the kernel that we're ready.\n",
              "        channel.send({})\n",
              "        if (message.buffers) {\n",
              "          for (const buffer of message.buffers) {\n",
              "            buffers.push(buffer);\n",
              "            downloaded += buffer.byteLength;\n",
              "            progress.value = downloaded;\n",
              "          }\n",
              "        }\n",
              "      }\n",
              "      const blob = new Blob(buffers, {type: 'application/binary'});\n",
              "      const a = document.createElement('a');\n",
              "      a.href = window.URL.createObjectURL(blob);\n",
              "      a.download = filename;\n",
              "      div.appendChild(a);\n",
              "      a.click();\n",
              "      div.remove();\n",
              "    }\n",
              "  "
            ]
          },
          "metadata": {}
        },
        {
          "output_type": "display_data",
          "data": {
            "text/plain": [
              "<IPython.core.display.Javascript object>"
            ],
            "application/javascript": [
              "download(\"download_487085fb-ac0b-4654-a6c4-747ca51c8f70\", \"lda_model_full_summary_1st_mild_neg.txt\", 105787)"
            ]
          },
          "metadata": {}
        }
      ],
      "source": [
        "import numpy as np\n",
        "from google.colab import files\n",
        "\n",
        "# 1. Grab your metrics & hyper‐params\n",
        "coherence_val  = opt_coh\n",
        "perplexity_val = opt_perp\n",
        "alpha_val      = opt_alpha\n",
        "eta_vals       = opt_eta  # full array\n",
        "\n",
        "# 2. Write them into a single text file\n",
        "with open('lda_model_full_summary_1st_mild_neg.txt', 'w') as f:\n",
        "    f.write(\"Re-fitted Optimal Model:\\n\")\n",
        "    f.write(f\" Coherence:  {coherence_val:.4f}\\n\")\n",
        "    f.write(f\" Perplexity: {perplexity_val:.4f}\\n\")\n",
        "    f.write(f\" Alpha:      {alpha_val}\\n\")\n",
        "    f.write(\" Eta values:\\n\")\n",
        "    for eta in eta_vals:\n",
        "        f.write(f\"{eta}\\n\")\n",
        "    f.flush()  # Ensure it's written to disk\n",
        "\n",
        "# 3. Trigger the download\n",
        "files.download('lda_model_full_summary_1st_mild_neg.txt')\n"
      ]
    },
    {
      "cell_type": "code",
      "execution_count": 67,
      "metadata": {
        "colab": {
          "base_uri": "https://localhost:8080/"
        },
        "id": "CbA-Oc5NvCxI",
        "outputId": "39bb3e20-21df-4230-b226-56da4bb63def"
      },
      "outputs": [
        {
          "output_type": "stream",
          "name": "stdout",
          "text": [
            "Alpha match: True\n",
            "Eta   match: True\n"
          ]
        }
      ],
      "source": [
        "# Cell 3: verify that the refit recovered the same priors\n",
        "import numpy as np\n",
        "\n",
        "print(\"Alpha match:\", np.allclose(optimal_alpha, opt_alpha))\n",
        "print(\"Eta   match:\", np.allclose(optimal_eta,   opt_eta))\n"
      ]
    },
    {
      "cell_type": "code",
      "execution_count": 68,
      "metadata": {
        "colab": {
          "base_uri": "https://localhost:8080/"
        },
        "id": "6H8vcUgrvER-",
        "outputId": "e5956389-07a1-40dc-b5b2-ec82c526cbd2"
      },
      "outputs": [
        {
          "output_type": "stream",
          "name": "stdout",
          "text": [
            "=== Topics ===\n",
            "[(0,\n",
            "  '0.033*\"flight\" + 0.020*\"cancel\" + 0.018*\"airline\" + 0.014*\"refund\" + '\n",
            "  '0.012*\"book\" + 0.012*\"ticket\" + 0.007*\"try\" + 0.006*\"change\" + '\n",
            "  '0.006*\"point\" + 0.006*\"fly\"'),\n",
            " (1,\n",
            "  '0.010*\"travel\" + 0.010*\"people\" + 0.009*\"time\" + 0.008*\"like\" + '\n",
            "  '0.007*\"think\" + 0.006*\"bad\" + 0.006*\"go\" + 0.006*\"country\" + 0.005*\"know\" + '\n",
            "  '0.005*\"year\"')]\n",
            "\n",
            "Sample doc-topic distribution for doc 0:\n",
            "[(0, 0.020639865), (1, 0.97936016)]\n"
          ]
        }
      ],
      "source": [
        "# Cell 1: Imports\n",
        "from pprint import pprint\n",
        "import pyLDAvis.gensim_models as gensimvis\n",
        "import pyLDAvis\n",
        "\n",
        "# Cell 2: Print topics & sample document–topic distribution\n",
        "print(\"=== Topics ===\")\n",
        "pprint(lda_opt.print_topics())\n",
        "\n",
        "doc_topics = [lda_opt.get_document_topics(doc) for doc in corpus]\n",
        "print(\"\\nSample doc-topic distribution for doc 0:\")\n",
        "pprint(doc_topics[0])\n",
        "\n"
      ]
    },
    {
      "cell_type": "code",
      "execution_count": 69,
      "metadata": {
        "colab": {
          "base_uri": "https://localhost:8080/",
          "height": 861
        },
        "id": "ZeDK0p3evF2J",
        "outputId": "c140da4b-bc0a-4a96-cc45-2592c1ca58ff"
      },
      "outputs": [
        {
          "output_type": "execute_result",
          "data": {
            "text/plain": [
              "<IPython.core.display.HTML object>"
            ],
            "text/html": [
              "\n",
              "<link rel=\"stylesheet\" type=\"text/css\" href=\"https://cdn.jsdelivr.net/gh/bmabey/pyLDAvis@3.4.0/pyLDAvis/js/ldavis.v1.0.0.css\">\n",
              "\n",
              "\n",
              "<div id=\"ldavis_el87391402540484220323515365655\" style=\"background-color:white;\"></div>\n",
              "<script type=\"text/javascript\">\n",
              "\n",
              "var ldavis_el87391402540484220323515365655_data = {\"mdsDat\": {\"x\": [0.10112820934820159, -0.10112820934820159], \"y\": [0.0, 0.0], \"topics\": [1, 2], \"cluster\": [1, 1], \"Freq\": [60.29145098206169, 39.7085490179383]}, \"tinfo\": {\"Term\": [\"flight\", \"cancel\", \"refund\", \"book\", \"ticket\", \"airline\", \"country\", \"insurance\", \"people\", \"united\", \"travel\", \"mile\", \"virus\", \"award\", \"cash\", \"fee\", \"voucher\", \"chase\", \"change\", \"credit\", \"access\", \"passport\", \"hour\", \"route\", \"website\", \"cancellation\", \"try\", \"time\", \"stay\", \"charge\", \"flight\", \"cancel\", \"refund\", \"ticket\", \"book\", \"united\", \"voucher\", \"fee\", \"award\", \"chase\", \"cancellation\", \"route\", \"credit\", \"website\", \"cash\", \"email\", \"fare\", \"delta\", \"bunch\", \"booking\", \"charge\", \"request\", \"itinerary\", \"availability\", \"date\", \"available\", \"receive\", \"rebook\", \"online\", \"bank\", \"mile\", \"call\", \"airline\", \"change\", \"hour\", \"try\", \"cost\", \"use\", \"pay\", \"find\", \"seat\", \"say\", \"money\", \"want\", \"fly\", \"get\", \"point\", \"issue\", \"go\", \"trip\", \"happen\", \"time\", \"think\", \"day\", \"know\", \"like\", \"work\", \"need\", \"travel\", \"way\", \"insurance\", \"virus\", \"passport\", \"security\", \"area\", \"nice\", \"access\", \"stay\", \"water\", \"flu\", \"spread\", \"quarantine\", \"carry\", \"job\", \"health\", \"citizen\", \"damn\", \"house\", \"visit\", \"marriott\", \"block\", \"life\", \"visa\", \"hilton\", \"infect\", \"chinese\", \"public\", \"family\", \"nervous\", \"symptom\", \"custom\", \"country\", \"level\", \"china\", \"government\", \"people\", \"travel\", \"lot\", \"room\", \"well\", \"yeah\", \"hotel\", \"time\", \"sure\", \"like\", \"year\", \"bad\", \"mean\", \"risk\", \"think\", \"thing\", \"card\", \"know\", \"go\", \"sorry\", \"pretty\", \"problem\", \"point\", \"fly\", \"right\", \"work\", \"day\", \"case\", \"need\", \"get\", \"way\", \"airline\"], \"Freq\": [765.0, 460.0, 320.0, 272.0, 270.0, 467.0, 93.0, 66.0, 236.0, 102.0, 261.0, 124.0, 44.0, 84.0, 81.0, 76.0, 75.0, 74.0, 160.0, 68.0, 34.0, 33.0, 139.0, 63.0, 63.0, 61.0, 185.0, 266.0, 30.0, 60.0, 764.9331370849719, 460.20207506798175, 319.99400919070183, 269.645617698135, 271.50404073407816, 102.41840428788787, 75.50119428566465, 75.56041119880611, 84.18553631826485, 73.73241272904149, 61.25077253941877, 62.91856325244293, 67.44218263820898, 62.73350767851053, 80.80536266324673, 47.641257990364814, 44.675026009880696, 54.93145086143382, 39.38215530963584, 41.003416893554366, 59.97053051621259, 33.771320145098784, 34.93523390481016, 44.36589729227554, 46.90890843198505, 39.2974186490587, 29.669964031500864, 29.811556328087573, 27.12387887893533, 31.772080116696333, 121.24553062952137, 67.3615401274976, 415.3986151687573, 148.28662607020755, 128.4500809583486, 165.74040316384713, 64.08475123759469, 99.8647864436424, 124.88687024049466, 110.57600741669563, 82.74075571666617, 118.02769749768541, 97.59936410556222, 116.5777318797119, 140.3188173917881, 126.26227608470022, 142.4252833411931, 85.64680777467164, 131.61802258949479, 83.90132886771632, 86.77824037199287, 129.93640153898392, 118.10297544790824, 100.09094673815397, 107.89496765902011, 115.65945623048475, 98.17461256444184, 93.96533683667475, 105.17661537007629, 90.21049814218034, 65.15330259583587, 43.749673920605616, 32.86531992075329, 25.260038158771057, 23.742611708867592, 23.054528395627177, 33.549397082969854, 29.63672590244749, 21.54139297063521, 20.26159434286616, 24.808530963438308, 22.75536243878078, 17.926307503129625, 18.024456411554155, 17.586667954320504, 19.793062797341744, 19.026388332642938, 15.394962928939918, 15.407334338966594, 16.75002022117972, 16.202166527051244, 17.321753155400245, 18.304412193410542, 14.052493837546955, 13.441331848951766, 16.97760579085946, 13.652640190522545, 16.542202032647605, 13.624957256949457, 11.987365984587028, 14.376895320856166, 84.6529381222567, 24.733381590207472, 33.2496094202177, 40.082440406722554, 152.3571627575048, 156.5036795665966, 53.10916787458045, 22.86182643973736, 42.13331381534183, 55.6553384325458, 46.050505353213545, 136.91484805512607, 50.40069086703993, 120.48862552794651, 75.04978561969563, 94.35469640645834, 64.73932171230743, 48.93533183882876, 104.0611918388295, 72.4131505816337, 39.313083827496605, 82.51763812663134, 89.35833808241023, 45.676969395093096, 37.64298109874836, 46.22124335319938, 74.80797606388964, 68.15841752842734, 53.33549390751164, 56.407720828050856, 55.936371001864316, 46.13529027215379, 51.85527127067174, 54.787866986429066, 50.90588872772668, 51.89983701332251], \"Total\": [765.0, 460.0, 320.0, 272.0, 270.0, 467.0, 93.0, 66.0, 236.0, 102.0, 261.0, 124.0, 44.0, 84.0, 81.0, 76.0, 75.0, 74.0, 160.0, 68.0, 34.0, 33.0, 139.0, 63.0, 63.0, 61.0, 185.0, 266.0, 30.0, 60.0, 765.6669397457337, 460.86329737152306, 320.4554973301349, 270.1812713656822, 272.1524093911945, 102.8665941973455, 75.97589087612683, 76.03698645641182, 84.76292972126835, 74.27631223027657, 61.76804534644605, 63.459132898190525, 68.03009196369261, 63.28432343398971, 81.52994102018283, 48.086605711701594, 45.151373054835844, 55.54167334848914, 39.845608871733056, 41.515924109814854, 60.726498526623146, 34.22811410819974, 35.41131304065516, 44.99298097651377, 47.5982516179102, 39.906647660826586, 30.13543013131264, 30.285370638140623, 27.56953535362381, 32.29706232330822, 124.56852764379502, 69.03554408320022, 467.2984521820798, 160.51050815210328, 139.07743750336581, 185.5414818465559, 68.23452394022317, 118.20181938467867, 159.21942326547475, 139.98420533647655, 97.9406552822702, 155.61031758212548, 122.33135895118451, 159.74326741453658, 208.47723492021544, 181.0501430711293, 217.23325940508275, 106.00122979674015, 220.976360671905, 104.76049366891519, 114.41337246506566, 266.85124959410996, 222.16416728673772, 156.0273177400183, 190.41260578565146, 236.14808175843126, 154.5823333924927, 145.8206081073465, 261.6802949366729, 141.11638686990702, 66.01102852291834, 44.33240436185465, 33.424630014026974, 25.74905851676531, 24.218667825696382, 23.52752427144958, 34.24484441768779, 30.27230262872927, 22.00576647842845, 20.70739655393702, 25.375455954432628, 23.297084264858103, 18.377384247597934, 18.491930413259954, 18.046371614928816, 20.32585217624465, 19.570231746160562, 15.839856580486476, 15.863175718350316, 17.253631726341425, 16.70628635798376, 17.863840573078434, 18.880484540442666, 14.52151513206228, 13.901030578897862, 17.565517252946716, 14.128308570276218, 17.127115652108902, 14.113970303961805, 12.43326081559723, 14.93234938124445, 93.86952235777119, 26.312135765158434, 38.528673246127056, 48.01473131491952, 236.44406406857178, 261.6802949366729, 72.56923482345115, 25.694109160134584, 55.71690872325228, 80.35373683675523, 64.11504391531588, 266.85124959410996, 73.3553241944704, 236.14808175843126, 129.15292331433466, 177.770940604764, 106.39599354141963, 74.30979272176849, 222.16416728673772, 132.21275510159015, 57.36746046479924, 190.41260578565146, 220.976360671905, 75.61483228681342, 54.91989091818707, 84.47136214440422, 217.23325940508275, 208.47723492021544, 126.64247957947211, 154.5823333924927, 156.0273177400183, 95.64352412715142, 145.8206081073465, 181.0501430711293, 141.11638686990702, 467.2984521820798], \"Category\": [\"Default\", \"Default\", \"Default\", \"Default\", \"Default\", \"Default\", \"Default\", \"Default\", \"Default\", \"Default\", \"Default\", \"Default\", \"Default\", \"Default\", \"Default\", \"Default\", \"Default\", \"Default\", \"Default\", \"Default\", \"Default\", \"Default\", \"Default\", \"Default\", \"Default\", \"Default\", \"Default\", \"Default\", \"Default\", \"Default\", \"Topic1\", \"Topic1\", \"Topic1\", \"Topic1\", \"Topic1\", \"Topic1\", \"Topic1\", \"Topic1\", \"Topic1\", \"Topic1\", \"Topic1\", \"Topic1\", \"Topic1\", \"Topic1\", \"Topic1\", \"Topic1\", \"Topic1\", \"Topic1\", \"Topic1\", \"Topic1\", \"Topic1\", \"Topic1\", \"Topic1\", \"Topic1\", \"Topic1\", \"Topic1\", \"Topic1\", \"Topic1\", \"Topic1\", \"Topic1\", \"Topic1\", \"Topic1\", \"Topic1\", \"Topic1\", \"Topic1\", \"Topic1\", \"Topic1\", \"Topic1\", \"Topic1\", \"Topic1\", \"Topic1\", \"Topic1\", \"Topic1\", \"Topic1\", \"Topic1\", \"Topic1\", \"Topic1\", \"Topic1\", \"Topic1\", \"Topic1\", \"Topic1\", \"Topic1\", \"Topic1\", \"Topic1\", \"Topic1\", \"Topic1\", \"Topic1\", \"Topic1\", \"Topic1\", \"Topic1\", \"Topic2\", \"Topic2\", \"Topic2\", \"Topic2\", \"Topic2\", \"Topic2\", \"Topic2\", \"Topic2\", \"Topic2\", \"Topic2\", \"Topic2\", \"Topic2\", \"Topic2\", \"Topic2\", \"Topic2\", \"Topic2\", \"Topic2\", \"Topic2\", \"Topic2\", \"Topic2\", \"Topic2\", \"Topic2\", \"Topic2\", \"Topic2\", \"Topic2\", \"Topic2\", \"Topic2\", \"Topic2\", \"Topic2\", \"Topic2\", \"Topic2\", \"Topic2\", \"Topic2\", \"Topic2\", \"Topic2\", \"Topic2\", \"Topic2\", \"Topic2\", \"Topic2\", \"Topic2\", \"Topic2\", \"Topic2\", \"Topic2\", \"Topic2\", \"Topic2\", \"Topic2\", \"Topic2\", \"Topic2\", \"Topic2\", \"Topic2\", \"Topic2\", \"Topic2\", \"Topic2\", \"Topic2\", \"Topic2\", \"Topic2\", \"Topic2\", \"Topic2\", \"Topic2\", \"Topic2\", \"Topic2\", \"Topic2\", \"Topic2\", \"Topic2\", \"Topic2\", \"Topic2\", \"Topic2\"], \"logprob\": [30.0, 29.0, 28.0, 27.0, 26.0, 25.0, 24.0, 23.0, 22.0, 21.0, 20.0, 19.0, 18.0, 17.0, 16.0, 15.0, 14.0, 13.0, 12.0, 11.0, 10.0, 9.0, 8.0, 7.0, 6.0, 5.0, 4.0, 3.0, 2.0, 1.0, -3.4193, -3.9274, -4.2908, -4.462, -4.4551, -5.43, -5.735, -5.7342, -5.6261, -5.7587, -5.9441, -5.9173, -5.8478, -5.9202, -5.6671, -6.1954, -6.2597, -6.053, -6.3858, -6.3455, -5.9653, -6.5395, -6.5056, -6.2666, -6.2109, -6.388, -6.669, -6.6642, -6.7587, -6.6005, -5.2613, -5.849, -4.0299, -5.06, -5.2036, -4.9487, -5.8989, -5.4553, -5.2317, -5.3534, -5.6434, -5.2882, -5.4782, -5.3006, -5.1152, -5.2208, -5.1003, -5.6089, -5.1792, -5.6295, -5.5958, -5.1921, -5.2876, -5.453, -5.378, -5.3085, -5.4724, -5.5162, -5.4035, -5.557, -5.4647, -5.863, -6.1491, -6.4123, -6.4742, -6.5036, -6.1285, -6.2525, -6.5715, -6.6328, -6.4303, -6.5167, -6.7552, -6.7498, -6.7743, -6.6562, -6.6957, -6.9074, -6.9066, -6.8231, -6.8563, -6.7895, -6.7343, -6.9987, -7.0432, -6.8096, -7.0276, -6.8356, -7.0296, -7.1576, -6.9759, -5.2029, -6.4333, -6.1374, -5.9506, -4.6153, -4.5884, -5.6691, -6.512, -5.9007, -5.6223, -5.8118, -4.7221, -5.7215, -4.8499, -5.3233, -5.0944, -5.4711, -5.751, -4.9965, -5.3591, -5.9699, -5.2285, -5.1488, -5.8199, -6.0133, -5.808, -5.3266, -5.4197, -5.6649, -5.6089, -5.6173, -5.8099, -5.693, -5.638, -5.7115, -5.6922], \"loglift\": [30.0, 29.0, 28.0, 27.0, 26.0, 25.0, 24.0, 23.0, 22.0, 21.0, 20.0, 19.0, 18.0, 17.0, 16.0, 15.0, 14.0, 13.0, 12.0, 11.0, 10.0, 9.0, 8.0, 7.0, 6.0, 5.0, 4.0, 3.0, 2.0, 1.0, 0.505, 0.5045, 0.5045, 0.504, 0.5036, 0.5016, 0.4997, 0.4997, 0.4991, 0.4986, 0.4976, 0.4974, 0.4973, 0.4972, 0.4971, 0.4967, 0.4954, 0.4949, 0.4943, 0.4936, 0.4935, 0.4925, 0.4924, 0.4919, 0.4914, 0.4906, 0.4904, 0.4902, 0.4897, 0.4896, 0.4789, 0.4814, 0.3883, 0.4268, 0.4265, 0.3931, 0.4432, 0.3374, 0.2631, 0.2702, 0.3373, 0.2295, 0.2801, 0.191, 0.1101, 0.1456, 0.0838, 0.2928, -0.0122, 0.2839, 0.2295, -0.2137, -0.1259, 0.062, -0.0621, -0.2078, 0.052, 0.0665, -0.4055, 0.0585, 0.9105, 0.9104, 0.9067, 0.9044, 0.9038, 0.9033, 0.9031, 0.9024, 0.9023, 0.9018, 0.901, 0.9001, 0.8988, 0.898, 0.8978, 0.897, 0.8954, 0.8951, 0.8944, 0.894, 0.893, 0.8928, 0.8926, 0.8908, 0.89, 0.8896, 0.8894, 0.8889, 0.8883, 0.8871, 0.8857, 0.8203, 0.8617, 0.7762, 0.743, 0.4841, 0.4096, 0.6114, 0.8068, 0.6442, 0.5563, 0.5927, 0.2563, 0.5483, 0.2507, 0.3808, 0.2902, 0.4268, 0.5059, 0.1652, 0.3216, 0.5457, 0.0874, 0.0182, 0.4195, 0.5459, 0.3206, -0.1424, -0.1944, 0.0588, -0.0845, -0.1022, 0.1946, -0.1103, -0.2717, -0.096, -1.274]}, \"token.table\": {\"Topic\": [1, 2, 1, 2, 2, 1, 2, 1, 2, 1, 2, 1, 2, 1, 2, 1, 2, 1, 2, 1, 2, 1, 1, 2, 1, 2, 1, 2, 1, 2, 2, 1, 2, 1, 2, 1, 2, 1, 2, 1, 2, 1, 2, 1, 2, 1, 2, 1, 2, 1, 2, 1, 2, 1, 2, 1, 2, 1, 2, 1, 2, 1, 2, 1, 1, 2, 1, 1, 1, 2, 1, 2, 2, 1, 2, 1, 2, 1, 2, 1, 2, 1, 2, 2, 2, 1, 2, 1, 2, 2, 2, 1, 2, 1, 2, 1, 2, 1, 2, 1, 2, 1, 2, 1, 2, 1, 2, 1, 2, 1, 2, 1, 2, 1, 2, 1, 2, 2, 2, 1, 1, 2, 1, 2, 1, 2, 1, 2, 1, 2, 1, 2, 2, 1, 2, 1, 1, 1, 1, 1, 2, 1, 2, 1, 2, 1, 2, 1, 2, 1, 2, 2, 1, 2, 1, 2, 1, 2, 1, 2, 2, 1, 2, 1, 2, 1, 2, 1, 2, 1, 2, 1, 2, 1, 2, 1, 1, 2, 1, 2, 1, 2, 2, 1, 1, 2, 2, 1, 2, 1, 2, 1, 2, 1, 2, 1, 2, 1, 2], \"Freq\": [0.029201475930300636, 0.9928501816302217, 0.8880834037907276, 0.11127792047498274, 0.9909711043039133, 0.9779303136853256, 0.022225688947393765, 0.9772807861854912, 0.025058481697063876, 0.9909992525768382, 0.011797610149724264, 0.4668929562820557, 0.5287703360302799, 0.9908021875075049, 0.03096256835960953, 0.059857707366671016, 0.9577233178667363, 0.999439985148265, 0.0036744117101039156, 0.9875728621998111, 0.024087142980483197, 0.9787778654743323, 0.9705145500012714, 0.028970583582127507, 0.9981267821142479, 0.0021698408306831474, 0.9875656523994207, 0.0161896008590069, 0.31376672166000497, 0.6798278969300107, 0.9794647463146307, 0.5227745470098788, 0.4809525832490885, 0.9935000441119951, 0.012265432643357964, 0.922058011677042, 0.07476146040624665, 0.9880365483890917, 0.01646727580648486, 0.9962799414513213, 0.013463242452044881, 0.12977347982006116, 0.8565049668124037, 0.05692972120318542, 0.9678052604541522, 0.049198429238244974, 0.9839685847648996, 0.9379416211076255, 0.05862135131922659, 0.09587776494374498, 0.9055122244687026, 0.9848582894134207, 0.01469937745393165, 0.06696869825829516, 0.9375617756161323, 0.051098015239200614, 0.9708622895448116, 0.9874312270393333, 0.02100917504339007, 0.6409134082957559, 0.3589115086456233, 0.9902474427608531, 0.018004498959288236, 0.9981989639231176, 0.05838694735951454, 0.9925781051117472, 0.996647431858783, 0.9995135728263899, 0.7929466023198265, 0.20716622943490962, 0.9991289427411413, 0.0013060509055439755, 0.9658384600838426, 0.6715361514343675, 0.3261747021252642, 0.6959397980177143, 0.3037832451664626, 0.5973489634757231, 0.4027580132525709, 0.16661553196100415, 0.8330776598050207, 0.7604006256048793, 0.24472663812570827, 0.9974304189275114, 0.9640867273614708, 0.2807453430707257, 0.7174603211807434, 0.9203505780504639, 0.07909262780121175, 0.9469782711592782, 0.9351824619200788, 0.01514898377401907, 0.9846839453112396, 0.8113113419995883, 0.18867705627897402, 0.9883846995398635, 0.9733975630306716, 0.5671893389326136, 0.43589551047599007, 0.07601055337546285, 0.9501319171932855, 0.055979003837900485, 0.9516430652443082, 0.4912172020887416, 0.5081557262986982, 0.26181893809716794, 0.7303370378499947, 0.05795881214233189, 0.985299806419642, 0.39475170635677675, 0.6109252598378688, 0.9713528953798084, 0.02408312963751591, 0.8011028475462798, 0.2043629713128265, 0.6446276779397428, 0.35660254524326196, 0.9919250004423055, 0.9775784198386855, 0.9793418588192148, 0.029918057419942724, 0.9872958948581099, 0.7850800953573426, 0.21354178593719716, 0.35526372941906015, 0.6428581770440136, 0.6536752262930763, 0.3452509998026811, 0.309541765574963, 0.6919168877557995, 0.4498566027032784, 0.5445632559039686, 0.9909183346585337, 0.04292382637377608, 0.9872480065968499, 0.9905772776714433, 0.9955059499491956, 0.9985785941139101, 0.9933354754083547, 0.5764258583881423, 0.41850096567906225, 0.3364294137329284, 0.6594016509165396, 0.11675828032421601, 0.8951468158189894, 0.9927649043215399, 0.015758173084468887, 0.7583044738516383, 0.2441997458166293, 0.8474519571141276, 0.1531539681531556, 0.9709092852355128, 0.39674755722802474, 0.6083462544163045, 0.03940815888375469, 0.9852039720938672, 0.03303349640311047, 0.9910048920933141, 0.31354234000827663, 0.6816137826266884, 0.9651530823632595, 0.45381400572052955, 0.5445768068646354, 0.531138758518616, 0.468122295643526, 0.9993290750140972, 0.003701218796348508, 0.4871627927459007, 0.5133946354322184, 0.4012529870673303, 0.5999687520911511, 0.8018289820728929, 0.20045724551822322, 0.8946786365395267, 0.10779260681199118, 0.9915755527427789, 0.8460106665072366, 0.15228191997130258, 0.02255686363946548, 0.9925020001364812, 0.052964742396200935, 0.9533653631316168, 0.9455861970089756, 1.0003173259779536, 0.7324252338997358, 0.2691819235699884, 0.9997379560292026, 0.6377714310597364, 0.36140381093385066, 0.9955072059151223, 0.01580170168119242, 0.25127022156843737, 0.753810664705312, 0.6339663650384474, 0.3622664943076842, 0.31112429843542205, 0.6969184284953454, 0.41810900298844844, 0.5807069485950672], \"Term\": [\"access\", \"access\", \"airline\", \"airline\", \"area\", \"availability\", \"availability\", \"available\", \"available\", \"award\", \"award\", \"bad\", \"bad\", \"bank\", \"bank\", \"block\", \"block\", \"book\", \"book\", \"booking\", \"booking\", \"bunch\", \"call\", \"call\", \"cancel\", \"cancel\", \"cancellation\", \"cancellation\", \"card\", \"card\", \"carry\", \"case\", \"case\", \"cash\", \"cash\", \"change\", \"change\", \"charge\", \"charge\", \"chase\", \"chase\", \"china\", \"china\", \"chinese\", \"chinese\", \"citizen\", \"citizen\", \"cost\", \"cost\", \"country\", \"country\", \"credit\", \"credit\", \"custom\", \"custom\", \"damn\", \"damn\", \"date\", \"date\", \"day\", \"day\", \"delta\", \"delta\", \"email\", \"family\", \"family\", \"fare\", \"fee\", \"find\", \"find\", \"flight\", \"flight\", \"flu\", \"fly\", \"fly\", \"get\", \"get\", \"go\", \"go\", \"government\", \"government\", \"happen\", \"happen\", \"health\", \"hilton\", \"hotel\", \"hotel\", \"hour\", \"hour\", \"house\", \"infect\", \"insurance\", \"insurance\", \"issue\", \"issue\", \"itinerary\", \"job\", \"know\", \"know\", \"level\", \"level\", \"life\", \"life\", \"like\", \"like\", \"lot\", \"lot\", \"marriott\", \"marriott\", \"mean\", \"mean\", \"mile\", \"mile\", \"money\", \"money\", \"need\", \"need\", \"nervous\", \"nice\", \"online\", \"passport\", \"passport\", \"pay\", \"pay\", \"people\", \"people\", \"point\", \"point\", \"pretty\", \"pretty\", \"problem\", \"problem\", \"public\", \"quarantine\", \"quarantine\", \"rebook\", \"receive\", \"refund\", \"request\", \"right\", \"right\", \"risk\", \"risk\", \"room\", \"room\", \"route\", \"route\", \"say\", \"say\", \"seat\", \"seat\", \"security\", \"sorry\", \"sorry\", \"spread\", \"spread\", \"stay\", \"stay\", \"sure\", \"sure\", \"symptom\", \"thing\", \"thing\", \"think\", \"think\", \"ticket\", \"ticket\", \"time\", \"time\", \"travel\", \"travel\", \"trip\", \"trip\", \"try\", \"try\", \"united\", \"use\", \"use\", \"virus\", \"virus\", \"visa\", \"visa\", \"visit\", \"voucher\", \"want\", \"want\", \"water\", \"way\", \"way\", \"website\", \"website\", \"well\", \"well\", \"work\", \"work\", \"yeah\", \"yeah\", \"year\", \"year\"]}, \"R\": 30, \"lambda.step\": 0.01, \"plot.opts\": {\"xlab\": \"PC1\", \"ylab\": \"PC2\"}, \"topic.order\": [1, 2]};\n",
              "\n",
              "function LDAvis_load_lib(url, callback){\n",
              "  var s = document.createElement('script');\n",
              "  s.src = url;\n",
              "  s.async = true;\n",
              "  s.onreadystatechange = s.onload = callback;\n",
              "  s.onerror = function(){console.warn(\"failed to load library \" + url);};\n",
              "  document.getElementsByTagName(\"head\")[0].appendChild(s);\n",
              "}\n",
              "\n",
              "if(typeof(LDAvis) !== \"undefined\"){\n",
              "   // already loaded: just create the visualization\n",
              "   !function(LDAvis){\n",
              "       new LDAvis(\"#\" + \"ldavis_el87391402540484220323515365655\", ldavis_el87391402540484220323515365655_data);\n",
              "   }(LDAvis);\n",
              "}else if(typeof define === \"function\" && define.amd){\n",
              "   // require.js is available: use it to load d3/LDAvis\n",
              "   require.config({paths: {d3: \"https://d3js.org/d3.v5\"}});\n",
              "   require([\"d3\"], function(d3){\n",
              "      window.d3 = d3;\n",
              "      LDAvis_load_lib(\"https://cdn.jsdelivr.net/gh/bmabey/pyLDAvis@3.4.0/pyLDAvis/js/ldavis.v3.0.0.js\", function(){\n",
              "        new LDAvis(\"#\" + \"ldavis_el87391402540484220323515365655\", ldavis_el87391402540484220323515365655_data);\n",
              "      });\n",
              "    });\n",
              "}else{\n",
              "    // require.js not available: dynamically load d3 & LDAvis\n",
              "    LDAvis_load_lib(\"https://d3js.org/d3.v5.js\", function(){\n",
              "         LDAvis_load_lib(\"https://cdn.jsdelivr.net/gh/bmabey/pyLDAvis@3.4.0/pyLDAvis/js/ldavis.v3.0.0.js\", function(){\n",
              "                 new LDAvis(\"#\" + \"ldavis_el87391402540484220323515365655\", ldavis_el87391402540484220323515365655_data);\n",
              "            })\n",
              "         });\n",
              "}\n",
              "</script>"
            ]
          },
          "metadata": {},
          "execution_count": 69
        }
      ],
      "source": [
        "# Cell 3: pyLDAvis visualization\n",
        "# (make sure you’ve run `%matplotlib inline` or enabled notebook output)\n",
        "pyLDAvis.enable_notebook()\n",
        "vis_data = gensimvis.prepare(lda_opt, corpus, dictionary)\n",
        "pyLDAvis.display(vis_data)\n"
      ]
    },
    {
      "cell_type": "code",
      "execution_count": 70,
      "metadata": {
        "colab": {
          "base_uri": "https://localhost:8080/"
        },
        "id": "9lqX2mikvHhy",
        "outputId": "7762115b-9a60-4d38-d039-08f412d49d03"
      },
      "outputs": [
        {
          "output_type": "stream",
          "name": "stdout",
          "text": [
            "\n",
            "=== Top 30 terms per topic ===\n",
            "Topic 1:\n",
            "  flight (0.0327)\n",
            "  cancel (0.0197)\n",
            "  airline (0.0178)\n",
            "  refund (0.0137)\n",
            "  book (0.0116)\n",
            "  ticket (0.0115)\n",
            "  try (0.0071)\n",
            "  change (0.0063)\n",
            "  point (0.0061)\n",
            "  fly (0.0060)\n",
            "  go (0.0056)\n",
            "  time (0.0056)\n",
            "  hour (0.0055)\n",
            "  get (0.0054)\n",
            "  pay (0.0053)\n",
            "  mile (0.0052)\n",
            "  think (0.0051)\n",
            "  say (0.0051)\n",
            "  want (0.0050)\n",
            "  like (0.0049)\n",
            "  find (0.0047)\n",
            "  know (0.0046)\n",
            "  travel (0.0045)\n",
            "  united (0.0044)\n",
            "  day (0.0043)\n",
            "  use (0.0043)\n",
            "  work (0.0042)\n",
            "  money (0.0042)\n",
            "  need (0.0040)\n",
            "  way (0.0039)\n",
            "\n",
            "Topic 2:\n",
            "  travel (0.0102)\n",
            "  people (0.0099)\n",
            "  time (0.0089)\n",
            "  like (0.0078)\n",
            "  think (0.0068)\n",
            "  bad (0.0061)\n",
            "  go (0.0058)\n",
            "  country (0.0055)\n",
            "  know (0.0054)\n",
            "  year (0.0049)\n",
            "  point (0.0049)\n",
            "  thing (0.0047)\n",
            "  fly (0.0044)\n",
            "  insurance (0.0042)\n",
            "  mean (0.0042)\n",
            "  work (0.0037)\n",
            "  day (0.0036)\n",
            "  yeah (0.0036)\n",
            "  get (0.0036)\n",
            "  right (0.0035)\n",
            "  lot (0.0035)\n",
            "  airline (0.0034)\n",
            "  need (0.0034)\n",
            "  way (0.0033)\n",
            "  sure (0.0033)\n",
            "  risk (0.0032)\n",
            "  problem (0.0030)\n",
            "  case (0.0030)\n",
            "  hotel (0.0030)\n",
            "  sorry (0.0030)\n",
            "\n"
          ]
        }
      ],
      "source": [
        "# Cell 4: Print the top 30 terms per topic\n",
        "print(\"\\n=== Top 30 terms per topic ===\")\n",
        "for topic_id, term_weights in lda_opt.show_topics(\n",
        "        num_topics=lda_opt.num_topics,\n",
        "        num_words=30,\n",
        "        formatted=False):\n",
        "    print(f\"Topic {topic_id + 1}:\")\n",
        "    for word, weight in term_weights:\n",
        "        print(f\"  {word} ({weight:.4f})\")\n",
        "    print()\n"
      ]
    },
    {
      "cell_type": "code",
      "execution_count": 71,
      "metadata": {
        "id": "ukQLkeK6u8D7"
      },
      "outputs": [],
      "source": [
        "# import gensim.corpora as corpora\n",
        "# # Create Dictionary\n",
        "# id2word = corpora.Dictionary(high_neg_first_wave_df['trigram_tokens'].tolist())\n",
        "\n",
        "# ## pruning\n",
        "# id2word.filter_extremes(no_below=5, no_above=0.7)\n",
        "\n",
        "# #    (Optional) Re-map the remaining token IDs to remove gaps\n",
        "# id2word.compactify()\n",
        "\n",
        "# # 2. Convert each document to a Bag-of-Words\n",
        "# texts = high_neg_first_wave_df['trigram_tokens'].tolist()\n",
        "\n",
        "# # Term Document Frequency\n",
        "# corpus = [id2word.doc2bow(text) for text in texts]\n",
        "\n",
        "\n",
        "# # View\n",
        "# print(corpus[:1][0][:30])"
      ]
    },
    {
      "cell_type": "code",
      "execution_count": 72,
      "metadata": {
        "id": "bd-FL1UB1HE9"
      },
      "outputs": [],
      "source": [
        "# import gensim\n",
        "# from gensim import corpora\n",
        "# from gensim.models import LdaModel\n",
        "# from gensim.models.coherencemodel import CoherenceModel\n",
        "# import pandas as pd\n",
        "# import numpy as np\n",
        "# import itertools\n",
        "\n",
        "\n",
        "# # Create a Dictionary and Corpus\n",
        "# dictionary = id2word\n",
        "\n",
        "\n",
        "# # Function to compute coherence and perplexity\n",
        "# def compute_coherence_and_perplexity(corpus, dictionary, texts, num_topics, chunksize, passes, iterations):\n",
        "#     lda_model = LdaModel(corpus=corpus,\n",
        "#                          id2word=dictionary,\n",
        "#                          num_topics=num_topics,\n",
        "#                          random_state=100,\n",
        "#                          chunksize=chunksize,\n",
        "#                          passes=passes,\n",
        "#                          iterations=iterations,\n",
        "#                          alpha='auto',\n",
        "#                          eta='auto',\n",
        "#                          per_word_topics=True)\n",
        "\n",
        "#     perplexity = lda_model.log_perplexity(corpus)\n",
        "#     coherence_model_lda = CoherenceModel(model=lda_model, texts=texts, dictionary=dictionary, coherence='c_v')\n",
        "#     coherence = coherence_model_lda.get_coherence()\n",
        "#      # Extract alpha and eta\n",
        "#     alpha = lda_model.alpha\n",
        "#     eta = lda_model.eta\n",
        "#     return perplexity, coherence, alpha, eta\n",
        "\n",
        "# # Define the parameter grid with your specific values\n",
        "# num_topics_range = range(2, 10)  # Adjust the range based on your needs\n",
        "# chunksize_range = [250]\n",
        "# passes_range = [100, 200,260]\n",
        "# iterations_range = [50,100, 200]\n",
        "\n",
        "# # Store results\n",
        "# results = []\n",
        "\n",
        "# # Grid search over all combinations of hyperparameters\n",
        "# for num_topics, chunksize, passes, iterations in itertools.product(num_topics_range, chunksize_range, passes_range, iterations_range):\n",
        "#     perplexity, coherence , alpha, eta = compute_coherence_and_perplexity(corpus, dictionary, texts, num_topics, chunksize, passes, iterations)\n",
        "#     results.append((num_topics, chunksize, passes, iterations, perplexity, coherence,alpha,eta))\n",
        "#     print(f\"Num Topics: {num_topics}, Chunksize: {chunksize}, Passes: {passes}, Iterations: {iterations}, Perplexity: {perplexity:.4f}, Coherence: {coherence:.4f}, Alpha: {alpha}, Eta: {eta}\")\n",
        "\n",
        "# # Convert results to a DataFrame for better analysis\n",
        "# results_df = pd.DataFrame(results, columns=['num_topics', 'chunksize', 'passes', 'iterations', 'perplexity', 'coherence','alpha','eta'])\n",
        "\n",
        "# # Add exponentiated perplexity column\n",
        "# results_df['perplexity_exp'] = np.exp(-results_df['perplexity'])\n",
        "\n",
        "# # Display results\n",
        "# print(\"\\nResults:\")\n",
        "# print(results_df)\n",
        "\n",
        "# # Find the optimal number of topics with the highest coherence\n",
        "# optimal_result = results_df.sort_values(\n",
        "#     by=['coherence', 'perplexity_exp'],\n",
        "#     ascending=[False, True]\n",
        "# ).iloc[0]\n",
        "# optimal_num_topics = optimal_result['num_topics']\n",
        "# optimal_chunksize = optimal_result['chunksize']\n",
        "# optimal_passes = optimal_result['passes']\n",
        "# optimal_iterations = optimal_result['iterations']\n",
        "# optimal_perplexity = optimal_result['perplexity_exp']\n",
        "# optimal_coherence = optimal_result['coherence']\n",
        "# optimal_alpha = optimal_result['alpha']\n",
        "# optimal_eta   = optimal_result['eta']\n",
        "\n",
        "# print(f\"\\nOptimal Parameters:\")\n",
        "# print(f\"Number of Topics: {optimal_num_topics}\")\n",
        "# print(f\"Chunksize: {optimal_chunksize}\")\n",
        "# print(f\"Passes: {optimal_passes}\")\n",
        "# print(f\"Iterations: {optimal_iterations}\")\n",
        "# print(f\"Coherence: {optimal_coherence:.4f}\")\n",
        "# print(f\"Perplexity: {optimal_perplexity:.4f}\")\n",
        "# print(f\" Alpha (per topic): {optimal_alpha}\")\n",
        "# print(f\" Eta   (per word):  {optimal_eta}\")"
      ]
    },
    {
      "cell_type": "code",
      "execution_count": 73,
      "metadata": {
        "id": "k_-_UlAp1Vsy"
      },
      "outputs": [],
      "source": [
        "# import numpy as np\n",
        "# from google.colab import files\n",
        "\n",
        "# # 1. Grab your metrics & hyper‐params\n",
        "# coherence_val  = opt_coh\n",
        "# perplexity_val = opt_perp\n",
        "# alpha_val      = opt_alpha\n",
        "# eta_vals       = opt_eta  # full array\n",
        "\n",
        "# # 2. Write them into a single text file\n",
        "# with open('lda_model_full_summary.txt', 'w') as f:\n",
        "#     f.write(\"Re-fitted Optimal Model:\\n\")\n",
        "#     f.write(f\" Coherence:  {coherence_val:.4f}\\n\")\n",
        "#     f.write(f\" Perplexity: {perplexity_val:.4f}\\n\")\n",
        "#     f.write(f\" Alpha:      {alpha_val}\\n\")\n",
        "#     f.write(\" Eta values:\\n\")\n",
        "#     for eta in eta_vals:\n",
        "#         f.write(f\"{eta}\\n\")\n",
        "\n",
        "# # 3. Trigger the download\n",
        "# files.download('lda_model_full_summary.txt')\n"
      ]
    },
    {
      "cell_type": "code",
      "execution_count": 74,
      "metadata": {
        "id": "RNl3Uwjn1OGX"
      },
      "outputs": [],
      "source": [
        "# # 1. Fit the model\n",
        "# lda_opt = LdaModel(\n",
        "#     corpus        = corpus,\n",
        "#     id2word       = dictionary,\n",
        "#     num_topics    = optimal_num_topics,\n",
        "#     chunksize     = optimal_chunksize,\n",
        "#     passes        = optimal_passes,\n",
        "#     iterations    = optimal_iterations,\n",
        "#     alpha         = 'auto',\n",
        "#     eta           = 'auto',\n",
        "#     random_state  = 100,\n",
        "#     per_word_topics=True\n",
        "# )\n",
        "\n",
        "# # 2. Extract metrics and priors\n",
        "# opt_perp  = lda_opt.log_perplexity(corpus)\n",
        "# opt_coh   = CoherenceModel(model=lda_opt, texts=texts, dictionary=dictionary, coherence='c_v').get_coherence()\n",
        "# opt_alpha = lda_opt.alpha\n",
        "# opt_eta   = lda_opt.eta\n",
        "\n",
        "# print(f\"Re-fitted Optimal Model:\")\n",
        "# print(f\" Coherence: {opt_coh:.4f}\")\n",
        "# print(f\" Perplexity: {opt_perp:.4f}\")\n",
        "# print(f\" Alpha (per topic): {opt_alpha}\")\n",
        "# print(f\" Eta   (per word):  {opt_eta}\")\n"
      ]
    },
    {
      "cell_type": "code",
      "execution_count": 75,
      "metadata": {
        "id": "9A5V9QEA1ZWz"
      },
      "outputs": [],
      "source": [
        "# # Cell 3: verify that the refit recovered the same priors\n",
        "# import numpy as np\n",
        "\n",
        "# print(\"Alpha match:\", np.allclose(optimal_alpha, opt_alpha))\n",
        "# print(\"Eta   match:\", np.allclose(optimal_eta,   opt_eta))\n"
      ]
    },
    {
      "cell_type": "code",
      "execution_count": 76,
      "metadata": {
        "id": "GoSfR4v51c1M"
      },
      "outputs": [],
      "source": [
        "# # Cell 1: Imports\n",
        "# from pprint import pprint\n",
        "# import pyLDAvis.gensim_models as gensimvis\n",
        "# import pyLDAvis\n",
        "\n",
        "# # Cell 2: Print topics & sample document–topic distribution\n",
        "# print(\"=== Topics ===\")\n",
        "# pprint(lda_opt.print_topics())\n",
        "\n",
        "# doc_topics = [lda_opt.get_document_topics(doc) for doc in corpus]\n",
        "# print(\"\\nSample doc-topic distribution for doc 0:\")\n",
        "# pprint(doc_topics[0])\n",
        "\n"
      ]
    },
    {
      "cell_type": "code",
      "execution_count": 77,
      "metadata": {
        "id": "_zwhNJRD1gGl"
      },
      "outputs": [],
      "source": [
        "# # Cell 3: pyLDAvis visualization\n",
        "# # (make sure you’ve run `%matplotlib inline` or enabled notebook output)\n",
        "# pyLDAvis.enable_notebook()\n",
        "# vis_data = gensimvis.prepare(lda_opt, corpus, dictionary)\n",
        "# pyLDAvis.display(vis_data)\n"
      ]
    },
    {
      "cell_type": "code",
      "execution_count": 78,
      "metadata": {
        "id": "4l9OIY-I1jDN"
      },
      "outputs": [],
      "source": [
        "# # Cell 4: Print the top 30 terms per topic\n",
        "# print(\"\\n=== Top 30 terms per topic ===\")\n",
        "# for topic_id, term_weights in lda_opt.show_topics(\n",
        "#         num_topics=lda_opt.num_topics,\n",
        "#         num_words=30,\n",
        "#         formatted=False):\n",
        "#     print(f\"Topic {topic_id + 1}:\")\n",
        "#     for word, weight in term_weights:\n",
        "#         print(f\"  {word} ({weight:.4f})\")\n",
        "#     print()\n"
      ]
    },
    {
      "cell_type": "code",
      "execution_count": 79,
      "metadata": {
        "colab": {
          "base_uri": "https://localhost:8080/",
          "height": 310
        },
        "id": "Om8c7ENQCsFX",
        "outputId": "314ff032-35b9-4daf-e075-e5b8cc7d7913"
      },
      "outputs": [
        {
          "output_type": "stream",
          "name": "stderr",
          "text": [
            "<ipython-input-79-3ee9a4414cfd>:6: SettingWithCopyWarning: \n",
            "A value is trying to be set on a copy of a slice from a DataFrame.\n",
            "Try using .loc[row_indexer,col_indexer] = value instead\n",
            "\n",
            "See the caveats in the documentation: https://pandas.pydata.org/pandas-docs/stable/user_guide/indexing.html#returning-a-view-versus-a-copy\n",
            "  high_neu_first_wave_df['created_utc'] = pd.to_datetime(high_neu_first_wave_df['created_utc'])\n"
          ]
        },
        {
          "output_type": "execute_result",
          "data": {
            "text/plain": [
              "  created_utc     label     score  \\\n",
              "0  2020-05-31  mild neu  0.569819   \n",
              "1  2020-05-31  mild neu  0.617377   \n",
              "2  2020-05-31  mild neu  0.610706   \n",
              "3  2020-05-31  mild neu  0.576460   \n",
              "4  2020-05-31  mild neu  0.629136   \n",
              "\n",
              "                                        cleaned_text  \\\n",
              "0                                ill pay mosaic much   \n",
              "1  redemption november right riding shoe either m...   \n",
              "2  sure planning hilton redemption soon wouldnt s...   \n",
              "3                                             thanks   \n",
              "4                                           bigger w   \n",
              "\n",
              "                                              tokens  \\\n",
              "0                                 [ill, pay, mosaic]   \n",
              "1  [redemption, november, right, riding, shoe, mo...   \n",
              "2  [sure, plan, hilton, redemption, soon, specula...   \n",
              "3                                            [thank]   \n",
              "4                                              [big]   \n",
              "\n",
              "                                          final_text  \n",
              "0                                     ill pay mosaic  \n",
              "1  redemption november right riding shoe move tri...  \n",
              "2  sure plan hilton redemption soon speculatively...  \n",
              "3                                              thank  \n",
              "4                                                big  "
            ],
            "text/html": [
              "\n",
              "  <div id=\"df-1084f480-f6d8-4586-bb4b-157be6dfef4b\" class=\"colab-df-container\">\n",
              "    <div>\n",
              "<style scoped>\n",
              "    .dataframe tbody tr th:only-of-type {\n",
              "        vertical-align: middle;\n",
              "    }\n",
              "\n",
              "    .dataframe tbody tr th {\n",
              "        vertical-align: top;\n",
              "    }\n",
              "\n",
              "    .dataframe thead th {\n",
              "        text-align: right;\n",
              "    }\n",
              "</style>\n",
              "<table border=\"1\" class=\"dataframe\">\n",
              "  <thead>\n",
              "    <tr style=\"text-align: right;\">\n",
              "      <th></th>\n",
              "      <th>created_utc</th>\n",
              "      <th>label</th>\n",
              "      <th>score</th>\n",
              "      <th>cleaned_text</th>\n",
              "      <th>tokens</th>\n",
              "      <th>final_text</th>\n",
              "    </tr>\n",
              "  </thead>\n",
              "  <tbody>\n",
              "    <tr>\n",
              "      <th>0</th>\n",
              "      <td>2020-05-31</td>\n",
              "      <td>mild neu</td>\n",
              "      <td>0.569819</td>\n",
              "      <td>ill pay mosaic much</td>\n",
              "      <td>[ill, pay, mosaic]</td>\n",
              "      <td>ill pay mosaic</td>\n",
              "    </tr>\n",
              "    <tr>\n",
              "      <th>1</th>\n",
              "      <td>2020-05-31</td>\n",
              "      <td>mild neu</td>\n",
              "      <td>0.617377</td>\n",
              "      <td>redemption november right riding shoe either m...</td>\n",
              "      <td>[redemption, november, right, riding, shoe, mo...</td>\n",
              "      <td>redemption november right riding shoe move tri...</td>\n",
              "    </tr>\n",
              "    <tr>\n",
              "      <th>2</th>\n",
              "      <td>2020-05-31</td>\n",
              "      <td>mild neu</td>\n",
              "      <td>0.610706</td>\n",
              "      <td>sure planning hilton redemption soon wouldnt s...</td>\n",
              "      <td>[sure, plan, hilton, redemption, soon, specula...</td>\n",
              "      <td>sure plan hilton redemption soon speculatively...</td>\n",
              "    </tr>\n",
              "    <tr>\n",
              "      <th>3</th>\n",
              "      <td>2020-05-31</td>\n",
              "      <td>mild neu</td>\n",
              "      <td>0.576460</td>\n",
              "      <td>thanks</td>\n",
              "      <td>[thank]</td>\n",
              "      <td>thank</td>\n",
              "    </tr>\n",
              "    <tr>\n",
              "      <th>4</th>\n",
              "      <td>2020-05-31</td>\n",
              "      <td>mild neu</td>\n",
              "      <td>0.629136</td>\n",
              "      <td>bigger w</td>\n",
              "      <td>[big]</td>\n",
              "      <td>big</td>\n",
              "    </tr>\n",
              "  </tbody>\n",
              "</table>\n",
              "</div>\n",
              "    <div class=\"colab-df-buttons\">\n",
              "\n",
              "  <div class=\"colab-df-container\">\n",
              "    <button class=\"colab-df-convert\" onclick=\"convertToInteractive('df-1084f480-f6d8-4586-bb4b-157be6dfef4b')\"\n",
              "            title=\"Convert this dataframe to an interactive table.\"\n",
              "            style=\"display:none;\">\n",
              "\n",
              "  <svg xmlns=\"http://www.w3.org/2000/svg\" height=\"24px\" viewBox=\"0 -960 960 960\">\n",
              "    <path d=\"M120-120v-720h720v720H120Zm60-500h600v-160H180v160Zm220 220h160v-160H400v160Zm0 220h160v-160H400v160ZM180-400h160v-160H180v160Zm440 0h160v-160H620v160ZM180-180h160v-160H180v160Zm440 0h160v-160H620v160Z\"/>\n",
              "  </svg>\n",
              "    </button>\n",
              "\n",
              "  <style>\n",
              "    .colab-df-container {\n",
              "      display:flex;\n",
              "      gap: 12px;\n",
              "    }\n",
              "\n",
              "    .colab-df-convert {\n",
              "      background-color: #E8F0FE;\n",
              "      border: none;\n",
              "      border-radius: 50%;\n",
              "      cursor: pointer;\n",
              "      display: none;\n",
              "      fill: #1967D2;\n",
              "      height: 32px;\n",
              "      padding: 0 0 0 0;\n",
              "      width: 32px;\n",
              "    }\n",
              "\n",
              "    .colab-df-convert:hover {\n",
              "      background-color: #E2EBFA;\n",
              "      box-shadow: 0px 1px 2px rgba(60, 64, 67, 0.3), 0px 1px 3px 1px rgba(60, 64, 67, 0.15);\n",
              "      fill: #174EA6;\n",
              "    }\n",
              "\n",
              "    .colab-df-buttons div {\n",
              "      margin-bottom: 4px;\n",
              "    }\n",
              "\n",
              "    [theme=dark] .colab-df-convert {\n",
              "      background-color: #3B4455;\n",
              "      fill: #D2E3FC;\n",
              "    }\n",
              "\n",
              "    [theme=dark] .colab-df-convert:hover {\n",
              "      background-color: #434B5C;\n",
              "      box-shadow: 0px 1px 3px 1px rgba(0, 0, 0, 0.15);\n",
              "      filter: drop-shadow(0px 1px 2px rgba(0, 0, 0, 0.3));\n",
              "      fill: #FFFFFF;\n",
              "    }\n",
              "  </style>\n",
              "\n",
              "    <script>\n",
              "      const buttonEl =\n",
              "        document.querySelector('#df-1084f480-f6d8-4586-bb4b-157be6dfef4b button.colab-df-convert');\n",
              "      buttonEl.style.display =\n",
              "        google.colab.kernel.accessAllowed ? 'block' : 'none';\n",
              "\n",
              "      async function convertToInteractive(key) {\n",
              "        const element = document.querySelector('#df-1084f480-f6d8-4586-bb4b-157be6dfef4b');\n",
              "        const dataTable =\n",
              "          await google.colab.kernel.invokeFunction('convertToInteractive',\n",
              "                                                    [key], {});\n",
              "        if (!dataTable) return;\n",
              "\n",
              "        const docLinkHtml = 'Like what you see? Visit the ' +\n",
              "          '<a target=\"_blank\" href=https://colab.research.google.com/notebooks/data_table.ipynb>data table notebook</a>'\n",
              "          + ' to learn more about interactive tables.';\n",
              "        element.innerHTML = '';\n",
              "        dataTable['output_type'] = 'display_data';\n",
              "        await google.colab.output.renderOutput(dataTable, element);\n",
              "        const docLink = document.createElement('div');\n",
              "        docLink.innerHTML = docLinkHtml;\n",
              "        element.appendChild(docLink);\n",
              "      }\n",
              "    </script>\n",
              "  </div>\n",
              "\n",
              "\n",
              "    <div id=\"df-e1f94297-7338-4da1-a257-96309ab93b29\">\n",
              "      <button class=\"colab-df-quickchart\" onclick=\"quickchart('df-e1f94297-7338-4da1-a257-96309ab93b29')\"\n",
              "                title=\"Suggest charts\"\n",
              "                style=\"display:none;\">\n",
              "\n",
              "<svg xmlns=\"http://www.w3.org/2000/svg\" height=\"24px\"viewBox=\"0 0 24 24\"\n",
              "     width=\"24px\">\n",
              "    <g>\n",
              "        <path d=\"M19 3H5c-1.1 0-2 .9-2 2v14c0 1.1.9 2 2 2h14c1.1 0 2-.9 2-2V5c0-1.1-.9-2-2-2zM9 17H7v-7h2v7zm4 0h-2V7h2v10zm4 0h-2v-4h2v4z\"/>\n",
              "    </g>\n",
              "</svg>\n",
              "      </button>\n",
              "\n",
              "<style>\n",
              "  .colab-df-quickchart {\n",
              "      --bg-color: #E8F0FE;\n",
              "      --fill-color: #1967D2;\n",
              "      --hover-bg-color: #E2EBFA;\n",
              "      --hover-fill-color: #174EA6;\n",
              "      --disabled-fill-color: #AAA;\n",
              "      --disabled-bg-color: #DDD;\n",
              "  }\n",
              "\n",
              "  [theme=dark] .colab-df-quickchart {\n",
              "      --bg-color: #3B4455;\n",
              "      --fill-color: #D2E3FC;\n",
              "      --hover-bg-color: #434B5C;\n",
              "      --hover-fill-color: #FFFFFF;\n",
              "      --disabled-bg-color: #3B4455;\n",
              "      --disabled-fill-color: #666;\n",
              "  }\n",
              "\n",
              "  .colab-df-quickchart {\n",
              "    background-color: var(--bg-color);\n",
              "    border: none;\n",
              "    border-radius: 50%;\n",
              "    cursor: pointer;\n",
              "    display: none;\n",
              "    fill: var(--fill-color);\n",
              "    height: 32px;\n",
              "    padding: 0;\n",
              "    width: 32px;\n",
              "  }\n",
              "\n",
              "  .colab-df-quickchart:hover {\n",
              "    background-color: var(--hover-bg-color);\n",
              "    box-shadow: 0 1px 2px rgba(60, 64, 67, 0.3), 0 1px 3px 1px rgba(60, 64, 67, 0.15);\n",
              "    fill: var(--button-hover-fill-color);\n",
              "  }\n",
              "\n",
              "  .colab-df-quickchart-complete:disabled,\n",
              "  .colab-df-quickchart-complete:disabled:hover {\n",
              "    background-color: var(--disabled-bg-color);\n",
              "    fill: var(--disabled-fill-color);\n",
              "    box-shadow: none;\n",
              "  }\n",
              "\n",
              "  .colab-df-spinner {\n",
              "    border: 2px solid var(--fill-color);\n",
              "    border-color: transparent;\n",
              "    border-bottom-color: var(--fill-color);\n",
              "    animation:\n",
              "      spin 1s steps(1) infinite;\n",
              "  }\n",
              "\n",
              "  @keyframes spin {\n",
              "    0% {\n",
              "      border-color: transparent;\n",
              "      border-bottom-color: var(--fill-color);\n",
              "      border-left-color: var(--fill-color);\n",
              "    }\n",
              "    20% {\n",
              "      border-color: transparent;\n",
              "      border-left-color: var(--fill-color);\n",
              "      border-top-color: var(--fill-color);\n",
              "    }\n",
              "    30% {\n",
              "      border-color: transparent;\n",
              "      border-left-color: var(--fill-color);\n",
              "      border-top-color: var(--fill-color);\n",
              "      border-right-color: var(--fill-color);\n",
              "    }\n",
              "    40% {\n",
              "      border-color: transparent;\n",
              "      border-right-color: var(--fill-color);\n",
              "      border-top-color: var(--fill-color);\n",
              "    }\n",
              "    60% {\n",
              "      border-color: transparent;\n",
              "      border-right-color: var(--fill-color);\n",
              "    }\n",
              "    80% {\n",
              "      border-color: transparent;\n",
              "      border-right-color: var(--fill-color);\n",
              "      border-bottom-color: var(--fill-color);\n",
              "    }\n",
              "    90% {\n",
              "      border-color: transparent;\n",
              "      border-bottom-color: var(--fill-color);\n",
              "    }\n",
              "  }\n",
              "</style>\n",
              "\n",
              "      <script>\n",
              "        async function quickchart(key) {\n",
              "          const quickchartButtonEl =\n",
              "            document.querySelector('#' + key + ' button');\n",
              "          quickchartButtonEl.disabled = true;  // To prevent multiple clicks.\n",
              "          quickchartButtonEl.classList.add('colab-df-spinner');\n",
              "          try {\n",
              "            const charts = await google.colab.kernel.invokeFunction(\n",
              "                'suggestCharts', [key], {});\n",
              "          } catch (error) {\n",
              "            console.error('Error during call to suggestCharts:', error);\n",
              "          }\n",
              "          quickchartButtonEl.classList.remove('colab-df-spinner');\n",
              "          quickchartButtonEl.classList.add('colab-df-quickchart-complete');\n",
              "        }\n",
              "        (() => {\n",
              "          let quickchartButtonEl =\n",
              "            document.querySelector('#df-e1f94297-7338-4da1-a257-96309ab93b29 button');\n",
              "          quickchartButtonEl.style.display =\n",
              "            google.colab.kernel.accessAllowed ? 'block' : 'none';\n",
              "        })();\n",
              "      </script>\n",
              "    </div>\n",
              "\n",
              "    </div>\n",
              "  </div>\n"
            ],
            "application/vnd.google.colaboratory.intrinsic+json": {
              "type": "dataframe",
              "variable_name": "high_neu_first_wave_df",
              "summary": "{\n  \"name\": \"high_neu_first_wave_df\",\n  \"rows\": 11350,\n  \"fields\": [\n    {\n      \"column\": \"created_utc\",\n      \"properties\": {\n        \"dtype\": \"date\",\n        \"min\": \"2020-01-09 00:00:00\",\n        \"max\": \"2020-05-31 00:00:00\",\n        \"num_unique_values\": 144,\n        \"samples\": [\n          \"2020-02-04 00:00:00\",\n          \"2020-05-12 00:00:00\",\n          \"2020-03-10 00:00:00\"\n        ],\n        \"semantic_type\": \"\",\n        \"description\": \"\"\n      }\n    },\n    {\n      \"column\": \"label\",\n      \"properties\": {\n        \"dtype\": \"category\",\n        \"num_unique_values\": 1,\n        \"samples\": [\n          \"mild neu\"\n        ],\n        \"semantic_type\": \"\",\n        \"description\": \"\"\n      }\n    },\n    {\n      \"column\": \"score\",\n      \"properties\": {\n        \"dtype\": \"number\",\n        \"std\": 0.06151787161564391,\n        \"min\": 0.4416102766990661,\n        \"max\": 0.7499948740005493,\n        \"num_unique_values\": 9291,\n        \"samples\": [\n          0.582245409488678\n        ],\n        \"semantic_type\": \"\",\n        \"description\": \"\"\n      }\n    },\n    {\n      \"column\": \"cleaned_text\",\n      \"properties\": {\n        \"dtype\": \"string\",\n        \"num_unique_values\": 9310,\n        \"samples\": [\n          \"never flew planning trip south really considering aeromexico fare cheaper guess ill look alternative\"\n        ],\n        \"semantic_type\": \"\",\n        \"description\": \"\"\n      }\n    },\n    {\n      \"column\": \"tokens\",\n      \"properties\": {\n        \"dtype\": \"object\",\n        \"semantic_type\": \"\",\n        \"description\": \"\"\n      }\n    },\n    {\n      \"column\": \"final_text\",\n      \"properties\": {\n        \"dtype\": \"string\",\n        \"num_unique_values\": 9084,\n        \"samples\": [\n          \"sure maybe use exchange rate day travel form conversion fee honestly point free money come home day later post cover accommodation probably worth time look euro get compensation turkish airline actually wad cash kazakhstani tenge base rate little bit near worth time complain\"\n        ],\n        \"semantic_type\": \"\",\n        \"description\": \"\"\n      }\n    }\n  ]\n}"
            }
          },
          "metadata": {},
          "execution_count": 79
        }
      ],
      "source": [
        "####### HIGH neutral FOR FIRST COVID WAVE ########\n",
        "# Filter the DataFrame\n",
        "high_neu_first_wave_df = df[df['label'] == 'mild neu']\n",
        "\n",
        "# Convert the 'created_utc' column to datetime\n",
        "high_neu_first_wave_df['created_utc'] = pd.to_datetime(high_neu_first_wave_df['created_utc'])\n",
        "\n",
        "# Define your date range\n",
        "start_date = '2020-01-01'\n",
        "end_date = '2020-05-31'\n",
        "\n",
        "# Filter the DataFrame for entries within the specified date range\n",
        "high_neu_first_wave_df = high_neu_first_wave_df[(high_neu_first_wave_df['created_utc'] >= start_date) & (high_neu_first_wave_df['created_utc'] <= end_date)]\n",
        "\n",
        "\n",
        "# Print the filtered DataFrame to check the result\n",
        "high_neu_first_wave_df.head()"
      ]
    },
    {
      "cell_type": "code",
      "execution_count": 80,
      "metadata": {
        "colab": {
          "base_uri": "https://localhost:8080/"
        },
        "id": "iuocvL5jeYcJ",
        "outputId": "efedbf6f-bff8-4dc6-9f92-1f2b33d51ee9"
      },
      "outputs": [
        {
          "output_type": "execute_result",
          "data": {
            "text/plain": [
              "11350"
            ]
          },
          "metadata": {},
          "execution_count": 80
        }
      ],
      "source": [
        "high_neu_first_wave_df.shape[0]"
      ]
    },
    {
      "cell_type": "code",
      "execution_count": 81,
      "metadata": {
        "colab": {
          "base_uri": "https://localhost:8080/",
          "height": 1000
        },
        "id": "TPT_Aq1Peii6",
        "outputId": "236276eb-56a1-44d2-a2bb-eafe2fa25a88"
      },
      "outputs": [
        {
          "output_type": "stream",
          "name": "stdout",
          "text": [
            "      token  count\n",
            "0    flight   3554\n",
            "1      book   1792\n",
            "2   airline   1724\n",
            "3    cancel   1575\n",
            "4     point   1544\n",
            "5    delete   1292\n",
            "6    ticket   1278\n",
            "7    travel   1263\n",
            "8    refund   1203\n",
            "9      time   1174\n",
            "10     like   1113\n",
            "11     mile   1059\n",
            "12      fly   1034\n",
            "13      day    999\n",
            "14    think    991\n",
            "15      get    944\n",
            "16       go    903\n",
            "17      way    902\n",
            "18    award    878\n",
            "19     know    845\n",
            "20     want    837\n",
            "21   credit    816\n",
            "22   change    814\n",
            "23      try    808\n",
            "24     trip    787\n",
            "25     look    769\n",
            "26     good    765\n",
            "27    thank    762\n",
            "28     need    755\n",
            "29      pay    743\n"
          ]
        },
        {
          "output_type": "display_data",
          "data": {
            "text/plain": [
              "<Figure size 640x480 with 1 Axes>"
            ],
            "image/png": "[encoded data removed]"
          },
          "metadata": {}
        }
      ],
      "source": [
        "from collections import Counter\n",
        "import pandas as pd\n",
        "import matplotlib.pyplot as plt\n",
        "\n",
        "# 1) Flatten your tokens into one long list\n",
        "all_tokens = [t for toks in high_neu_first_wave_df['tokens'] for t in toks]\n",
        "\n",
        "# 2) Build a frequency distribution\n",
        "freq = Counter(all_tokens)\n",
        "common = freq.most_common(30)   # top 30\n",
        "\n",
        "# 3) Turn it into a DataFrame for easy inspection\n",
        "df_freq = pd.DataFrame(common, columns=['token','count'])\n",
        "print(df_freq)\n",
        "\n",
        "# 4) Plot a simple bar chart of the top tokens\n",
        "tokens, counts = zip(*common)\n",
        "plt.figure()\n",
        "plt.bar(tokens, counts)\n",
        "plt.xticks(rotation=45, ha='right')\n",
        "plt.xlabel('Token')\n",
        "plt.ylabel('Frequency')\n",
        "plt.title('Top 30 Tokens in high_neu_first_wave_df')\n",
        "plt.tight_layout()\n",
        "plt.show()"
      ]
    },
    {
      "cell_type": "code",
      "execution_count": 82,
      "metadata": {
        "colab": {
          "base_uri": "https://localhost:8080/"
        },
        "id": "4DxUcpAFerdM",
        "outputId": "255b3521-1782-479f-ce89-a0fab6180ad0"
      },
      "outputs": [
        {
          "output_type": "stream",
          "name": "stdout",
          "text": [
            "171869 words total, with a vocabulary size of 11220\n",
            "Max reddit post length is 326 tokens\n",
            "Mean reddit post length is 15.14 tokens\n",
            "Median reddit post length is 9 tokens\n"
          ]
        }
      ],
      "source": [
        "# Flatten all tokens into one list\n",
        "all_words   = [word for tokens in high_neu_first_wave_df['tokens'] for word in tokens]\n",
        "\n",
        "# Compute the length (in tokens) of each post\n",
        "post_length = [len(tokens) for tokens in high_neu_first_wave_df['tokens']]\n",
        "\n",
        "# Build the vocabulary\n",
        "vocab       = sorted(set(all_words))\n",
        "\n",
        "# Print your summary stats\n",
        "print(f\"{len(all_words)} words total, with a vocabulary size of {len(vocab)}\")\n",
        "print(f\"Max reddit post length is {max(post_length)} tokens\")\n",
        "print(f\"Mean reddit post length is {sum(post_length)/len(post_length):.2f} tokens\")\n",
        "print(f\"Median reddit post length is {sorted(post_length)[len(post_length)//2]} tokens\")\n"
      ]
    },
    {
      "cell_type": "code",
      "execution_count": 83,
      "metadata": {
        "colab": {
          "base_uri": "https://localhost:8080/",
          "height": 727
        },
        "id": "hKB-6zSwe2C1",
        "outputId": "9073e003-7590-4af1-95a1-b386aa135d22"
      },
      "outputs": [
        {
          "output_type": "display_data",
          "data": {
            "text/plain": [
              "<Figure size 1500x800 with 1 Axes>"
            ],
            "image/png": "[encoded data removed]"
          },
          "metadata": {}
        }
      ],
      "source": [
        "plt.figure(figsize=(15, 8))\n",
        "sns.histplot(post_length, bins=60, kde=True)\n",
        "plt.title('Post Length Distribution', fontsize=18)\n",
        "plt.xlabel('Words per Post', fontsize=12)\n",
        "plt.ylabel('Number of Posts', fontsize=12)\n",
        "# Setting x-axis ticks and labels for more detail\n",
        "max_length = max(post_length)\n",
        "xticks = np.arange(0, max_length + 1, max_length // 60)\n",
        "plt.xticks(xticks)\n",
        "plt.show()"
      ]
    },
    {
      "cell_type": "code",
      "execution_count": 84,
      "metadata": {
        "colab": {
          "base_uri": "https://localhost:8080/",
          "height": 727
        },
        "id": "F-eN3u-cndFo",
        "outputId": "929545d5-760d-41c2-9976-528066d1e546"
      },
      "outputs": [
        {
          "output_type": "display_data",
          "data": {
            "text/plain": [
              "<Figure size 1500x800 with 1 Axes>"
            ],
            "image/png": "[encoded data removed]"
          },
          "metadata": {}
        }
      ],
      "source": [
        "plt.figure(figsize=(15, 8))\n",
        "sns.histplot(post_length, bins=60, kde=True)\n",
        "plt.title('Post Length Distribution', fontsize=18)\n",
        "plt.xlabel('Words per Post', fontsize=12)\n",
        "plt.ylabel('Number of Posts', fontsize=12)\n",
        "# Setting x-axis ticks and labels for more detail\n",
        "max_length = max(post_length)\n",
        "xticks = np.arange(0, max_length + 1, max_length // 60)\n",
        "plt.xticks(xticks)\n",
        "plt.show()"
      ]
    },
    {
      "cell_type": "code",
      "execution_count": 85,
      "metadata": {
        "id": "_A1SjV6hfDrI",
        "colab": {
          "base_uri": "https://localhost:8080/"
        },
        "outputId": "174e68d0-4382-45f7-8ad5-24a3454ae36b"
      },
      "outputs": [
        {
          "output_type": "stream",
          "name": "stdout",
          "text": [
            "Requirement already satisfied: gensim in /usr/local/lib/python3.11/dist-packages (4.3.3)\n",
            "Requirement already satisfied: numpy<2.0,>=1.18.5 in /usr/local/lib/python3.11/dist-packages (from gensim) (1.26.4)\n",
            "Requirement already satisfied: scipy<1.14.0,>=1.7.0 in /usr/local/lib/python3.11/dist-packages (from gensim) (1.13.1)\n",
            "Requirement already satisfied: smart-open>=1.8.1 in /usr/local/lib/python3.11/dist-packages (from gensim) (7.1.0)\n",
            "Requirement already satisfied: wrapt in /usr/local/lib/python3.11/dist-packages (from smart-open>=1.8.1->gensim) (1.17.2)\n"
          ]
        }
      ],
      "source": [
        "!pip install  gensim\n",
        "\n",
        "# #1) Downgrade NumPy to 1.26.x\n",
        "# !pip install numpy==1.26.0 --upgrade\n",
        "\n",
        "# # 2) Force-reinstall Gensim so it compiles against the new NumPy\n",
        "# !pip install --upgrade --force-reinstall gensim\n"
      ]
    },
    {
      "cell_type": "code",
      "execution_count": 86,
      "metadata": {
        "colab": {
          "base_uri": "https://localhost:8080/"
        },
        "id": "0MSg17RifUo6",
        "outputId": "1105c52c-89b4-4e6d-f1bc-c25ed1352812"
      },
      "outputs": [
        {
          "output_type": "stream",
          "name": "stdout",
          "text": [
            "                                              tokens  \\\n",
            "0                                 [ill, pay, mosaic]   \n",
            "1  [redemption, november, right, riding, shoe, mo...   \n",
            "2  [sure, plan, hilton, redemption, soon, specula...   \n",
            "3                                            [thank]   \n",
            "4                                              [big]   \n",
            "\n",
            "                                       bigram_tokens  \\\n",
            "0                                 [ill, pay, mosaic]   \n",
            "1  [redemption, november, right, riding, shoe, mo...   \n",
            "2  [sure, plan, hilton, redemption, soon, specula...   \n",
            "3                                            [thank]   \n",
            "4                                              [big]   \n",
            "\n",
            "                                      trigram_tokens  \n",
            "0                                 [ill, pay, mosaic]  \n",
            "1  [redemption, november, right, riding, shoe, mo...  \n",
            "2  [sure, plan, hilton, redemption, soon, specula...  \n",
            "3                                            [thank]  \n",
            "4                                              [big]  \n"
          ]
        }
      ],
      "source": [
        "import gensim\n",
        "from gensim.models import Phrases\n",
        "from gensim.models.phrases import Phraser\n",
        "\n",
        "# 1) Prepare your list-of-lists from the `tokens` column\n",
        "texts = high_neu_first_wave_df['tokens'].tolist()\n",
        "\n",
        "# 2) Train the bigram detector\n",
        "bigram = Phrases(texts, min_count=3, threshold=60)\n",
        "bigram_mod = Phraser(bigram)\n",
        "\n",
        "# 3) Train the trigram detector on the bigram-transformed texts\n",
        "trigram = Phrases(bigram[texts], min_count=2, threshold=150)\n",
        "trigram_mod = Phraser(trigram)\n",
        "\n",
        "# 4) Apply bigram and trigram transforms\n",
        "high_neu_first_wave_df['bigram_tokens']   = high_neu_first_wave_df['tokens'].apply(lambda doc: bigram_mod[doc])\n",
        "high_neu_first_wave_df['trigram_tokens']  = high_neu_first_wave_df['tokens'].apply(lambda doc: trigram_mod[bigram_mod[doc]])\n",
        "\n",
        "# # 5) (Optional) If you need back a single string for vectorizers:\n",
        "# high_neu_first_wave_df['bigram_text']   = high_neu_first_wave_df['bigram_tokens'].str.join(' ')\n",
        "# high_neu_first_wave_df['trigram_text']  = high_neu_first_wave_df['trigram_tokens'].str.join(' ')\n",
        "\n",
        "# 6) Inspect\n",
        "print(high_neu_first_wave_df[['tokens','bigram_tokens','trigram_tokens']].head())\n"
      ]
    },
    {
      "cell_type": "code",
      "execution_count": 87,
      "metadata": {
        "colab": {
          "base_uri": "https://localhost:8080/"
        },
        "id": "xOnEAqb7fdsv",
        "outputId": "2af601c4-a989-4813-adef-59a0d59e119d"
      },
      "outputs": [
        {
          "output_type": "stream",
          "name": "stdout",
          "text": [
            "Rows with bigrams:   2428\n",
            "Rows with trigrams:  131\n",
            "Rows with no n-grams: 8922\n"
          ]
        }
      ],
      "source": [
        "# 1) Helper to detect n-grams in a token list\n",
        "def contains_ngram(tokenized_list, n):\n",
        "    return any(len(tok.split('_')) == n for tok in tokenized_list)\n",
        "\n",
        "# 2) Flag rows\n",
        "high_neu_first_wave_df['has_bigrams']  = high_neu_first_wave_df['bigram_tokens'].apply(lambda doc: contains_ngram(doc, 2))\n",
        "high_neu_first_wave_df['has_trigrams'] = high_neu_first_wave_df['trigram_tokens'].apply(lambda doc: contains_ngram(doc, 3))\n",
        "\n",
        "# 3) Count\n",
        "rows_with_bigrams  = high_neu_first_wave_df['has_bigrams'].sum()\n",
        "rows_with_trigrams = high_neu_first_wave_df['has_trigrams'].sum()\n",
        "rows_with_none     = (~high_neu_first_wave_df['has_bigrams'] & ~high_neu_first_wave_df['has_trigrams']).sum()\n",
        "\n",
        "# 4) Report\n",
        "print(f\"Rows with bigrams:   {rows_with_bigrams}\")\n",
        "print(f\"Rows with trigrams:  {rows_with_trigrams}\")\n",
        "print(f\"Rows with no n-grams: {rows_with_none}\")\n"
      ]
    },
    {
      "cell_type": "code",
      "execution_count": 88,
      "metadata": {
        "colab": {
          "base_uri": "https://localhost:8080/",
          "height": 293
        },
        "id": "h6rqtjqNfkRe",
        "outputId": "97621168-afb8-4aea-92f5-bb49a7efead7"
      },
      "outputs": [
        {
          "output_type": "execute_result",
          "data": {
            "text/plain": [
              "  created_utc     label     score  \\\n",
              "0  2020-05-31  mild neu  0.569819   \n",
              "1  2020-05-31  mild neu  0.617377   \n",
              "2  2020-05-31  mild neu  0.610706   \n",
              "3  2020-05-31  mild neu  0.576460   \n",
              "4  2020-05-31  mild neu  0.629136   \n",
              "\n",
              "                                        cleaned_text  \\\n",
              "0                                ill pay mosaic much   \n",
              "1  redemption november right riding shoe either m...   \n",
              "2  sure planning hilton redemption soon wouldnt s...   \n",
              "3                                             thanks   \n",
              "4                                           bigger w   \n",
              "\n",
              "                                              tokens  \\\n",
              "0                                 [ill, pay, mosaic]   \n",
              "1  [redemption, november, right, riding, shoe, mo...   \n",
              "2  [sure, plan, hilton, redemption, soon, specula...   \n",
              "3                                            [thank]   \n",
              "4                                              [big]   \n",
              "\n",
              "                                          final_text  \\\n",
              "0                                     ill pay mosaic   \n",
              "1  redemption november right riding shoe move tri...   \n",
              "2  sure plan hilton redemption soon speculatively...   \n",
              "3                                              thank   \n",
              "4                                                big   \n",
              "\n",
              "                                       bigram_tokens  \\\n",
              "0                                 [ill, pay, mosaic]   \n",
              "1  [redemption, november, right, riding, shoe, mo...   \n",
              "2  [sure, plan, hilton, redemption, soon, specula...   \n",
              "3                                            [thank]   \n",
              "4                                              [big]   \n",
              "\n",
              "                                      trigram_tokens  has_bigrams  \\\n",
              "0                                 [ill, pay, mosaic]        False   \n",
              "1  [redemption, november, right, riding, shoe, mo...        False   \n",
              "2  [sure, plan, hilton, redemption, soon, specula...        False   \n",
              "3                                            [thank]        False   \n",
              "4                                              [big]        False   \n",
              "\n",
              "   has_trigrams  \n",
              "0         False  \n",
              "1         False  \n",
              "2         False  \n",
              "3         False  \n",
              "4         False  "
            ],
            "text/html": [
              "\n",
              "  <div id=\"df-43ad2e15-578b-4be6-9b83-a636ddc0e80b\" class=\"colab-df-container\">\n",
              "    <div>\n",
              "<style scoped>\n",
              "    .dataframe tbody tr th:only-of-type {\n",
              "        vertical-align: middle;\n",
              "    }\n",
              "\n",
              "    .dataframe tbody tr th {\n",
              "        vertical-align: top;\n",
              "    }\n",
              "\n",
              "    .dataframe thead th {\n",
              "        text-align: right;\n",
              "    }\n",
              "</style>\n",
              "<table border=\"1\" class=\"dataframe\">\n",
              "  <thead>\n",
              "    <tr style=\"text-align: right;\">\n",
              "      <th></th>\n",
              "      <th>created_utc</th>\n",
              "      <th>label</th>\n",
              "      <th>score</th>\n",
              "      <th>cleaned_text</th>\n",
              "      <th>tokens</th>\n",
              "      <th>final_text</th>\n",
              "      <th>bigram_tokens</th>\n",
              "      <th>trigram_tokens</th>\n",
              "      <th>has_bigrams</th>\n",
              "      <th>has_trigrams</th>\n",
              "    </tr>\n",
              "  </thead>\n",
              "  <tbody>\n",
              "    <tr>\n",
              "      <th>0</th>\n",
              "      <td>2020-05-31</td>\n",
              "      <td>mild neu</td>\n",
              "      <td>0.569819</td>\n",
              "      <td>ill pay mosaic much</td>\n",
              "      <td>[ill, pay, mosaic]</td>\n",
              "      <td>ill pay mosaic</td>\n",
              "      <td>[ill, pay, mosaic]</td>\n",
              "      <td>[ill, pay, mosaic]</td>\n",
              "      <td>False</td>\n",
              "      <td>False</td>\n",
              "    </tr>\n",
              "    <tr>\n",
              "      <th>1</th>\n",
              "      <td>2020-05-31</td>\n",
              "      <td>mild neu</td>\n",
              "      <td>0.617377</td>\n",
              "      <td>redemption november right riding shoe either m...</td>\n",
              "      <td>[redemption, november, right, riding, shoe, mo...</td>\n",
              "      <td>redemption november right riding shoe move tri...</td>\n",
              "      <td>[redemption, november, right, riding, shoe, mo...</td>\n",
              "      <td>[redemption, november, right, riding, shoe, mo...</td>\n",
              "      <td>False</td>\n",
              "      <td>False</td>\n",
              "    </tr>\n",
              "    <tr>\n",
              "      <th>2</th>\n",
              "      <td>2020-05-31</td>\n",
              "      <td>mild neu</td>\n",
              "      <td>0.610706</td>\n",
              "      <td>sure planning hilton redemption soon wouldnt s...</td>\n",
              "      <td>[sure, plan, hilton, redemption, soon, specula...</td>\n",
              "      <td>sure plan hilton redemption soon speculatively...</td>\n",
              "      <td>[sure, plan, hilton, redemption, soon, specula...</td>\n",
              "      <td>[sure, plan, hilton, redemption, soon, specula...</td>\n",
              "      <td>False</td>\n",
              "      <td>False</td>\n",
              "    </tr>\n",
              "    <tr>\n",
              "      <th>3</th>\n",
              "      <td>2020-05-31</td>\n",
              "      <td>mild neu</td>\n",
              "      <td>0.576460</td>\n",
              "      <td>thanks</td>\n",
              "      <td>[thank]</td>\n",
              "      <td>thank</td>\n",
              "      <td>[thank]</td>\n",
              "      <td>[thank]</td>\n",
              "      <td>False</td>\n",
              "      <td>False</td>\n",
              "    </tr>\n",
              "    <tr>\n",
              "      <th>4</th>\n",
              "      <td>2020-05-31</td>\n",
              "      <td>mild neu</td>\n",
              "      <td>0.629136</td>\n",
              "      <td>bigger w</td>\n",
              "      <td>[big]</td>\n",
              "      <td>big</td>\n",
              "      <td>[big]</td>\n",
              "      <td>[big]</td>\n",
              "      <td>False</td>\n",
              "      <td>False</td>\n",
              "    </tr>\n",
              "  </tbody>\n",
              "</table>\n",
              "</div>\n",
              "    <div class=\"colab-df-buttons\">\n",
              "\n",
              "  <div class=\"colab-df-container\">\n",
              "    <button class=\"colab-df-convert\" onclick=\"convertToInteractive('df-43ad2e15-578b-4be6-9b83-a636ddc0e80b')\"\n",
              "            title=\"Convert this dataframe to an interactive table.\"\n",
              "            style=\"display:none;\">\n",
              "\n",
              "  <svg xmlns=\"http://www.w3.org/2000/svg\" height=\"24px\" viewBox=\"0 -960 960 960\">\n",
              "    <path d=\"M120-120v-720h720v720H120Zm60-500h600v-160H180v160Zm220 220h160v-160H400v160Zm0 220h160v-160H400v160ZM180-400h160v-160H180v160Zm440 0h160v-160H620v160ZM180-180h160v-160H180v160Zm440 0h160v-160H620v160Z\"/>\n",
              "  </svg>\n",
              "    </button>\n",
              "\n",
              "  <style>\n",
              "    .colab-df-container {\n",
              "      display:flex;\n",
              "      gap: 12px;\n",
              "    }\n",
              "\n",
              "    .colab-df-convert {\n",
              "      background-color: #E8F0FE;\n",
              "      border: none;\n",
              "      border-radius: 50%;\n",
              "      cursor: pointer;\n",
              "      display: none;\n",
              "      fill: #1967D2;\n",
              "      height: 32px;\n",
              "      padding: 0 0 0 0;\n",
              "      width: 32px;\n",
              "    }\n",
              "\n",
              "    .colab-df-convert:hover {\n",
              "      background-color: #E2EBFA;\n",
              "      box-shadow: 0px 1px 2px rgba(60, 64, 67, 0.3), 0px 1px 3px 1px rgba(60, 64, 67, 0.15);\n",
              "      fill: #174EA6;\n",
              "    }\n",
              "\n",
              "    .colab-df-buttons div {\n",
              "      margin-bottom: 4px;\n",
              "    }\n",
              "\n",
              "    [theme=dark] .colab-df-convert {\n",
              "      background-color: #3B4455;\n",
              "      fill: #D2E3FC;\n",
              "    }\n",
              "\n",
              "    [theme=dark] .colab-df-convert:hover {\n",
              "      background-color: #434B5C;\n",
              "      box-shadow: 0px 1px 3px 1px rgba(0, 0, 0, 0.15);\n",
              "      filter: drop-shadow(0px 1px 2px rgba(0, 0, 0, 0.3));\n",
              "      fill: #FFFFFF;\n",
              "    }\n",
              "  </style>\n",
              "\n",
              "    <script>\n",
              "      const buttonEl =\n",
              "        document.querySelector('#df-43ad2e15-578b-4be6-9b83-a636ddc0e80b button.colab-df-convert');\n",
              "      buttonEl.style.display =\n",
              "        google.colab.kernel.accessAllowed ? 'block' : 'none';\n",
              "\n",
              "      async function convertToInteractive(key) {\n",
              "        const element = document.querySelector('#df-43ad2e15-578b-4be6-9b83-a636ddc0e80b');\n",
              "        const dataTable =\n",
              "          await google.colab.kernel.invokeFunction('convertToInteractive',\n",
              "                                                    [key], {});\n",
              "        if (!dataTable) return;\n",
              "\n",
              "        const docLinkHtml = 'Like what you see? Visit the ' +\n",
              "          '<a target=\"_blank\" href=https://colab.research.google.com/notebooks/data_table.ipynb>data table notebook</a>'\n",
              "          + ' to learn more about interactive tables.';\n",
              "        element.innerHTML = '';\n",
              "        dataTable['output_type'] = 'display_data';\n",
              "        await google.colab.output.renderOutput(dataTable, element);\n",
              "        const docLink = document.createElement('div');\n",
              "        docLink.innerHTML = docLinkHtml;\n",
              "        element.appendChild(docLink);\n",
              "      }\n",
              "    </script>\n",
              "  </div>\n",
              "\n",
              "\n",
              "    <div id=\"df-ab5527d1-3652-4697-84ef-40fac2ed6699\">\n",
              "      <button class=\"colab-df-quickchart\" onclick=\"quickchart('df-ab5527d1-3652-4697-84ef-40fac2ed6699')\"\n",
              "                title=\"Suggest charts\"\n",
              "                style=\"display:none;\">\n",
              "\n",
              "<svg xmlns=\"http://www.w3.org/2000/svg\" height=\"24px\"viewBox=\"0 0 24 24\"\n",
              "     width=\"24px\">\n",
              "    <g>\n",
              "        <path d=\"M19 3H5c-1.1 0-2 .9-2 2v14c0 1.1.9 2 2 2h14c1.1 0 2-.9 2-2V5c0-1.1-.9-2-2-2zM9 17H7v-7h2v7zm4 0h-2V7h2v10zm4 0h-2v-4h2v4z\"/>\n",
              "    </g>\n",
              "</svg>\n",
              "      </button>\n",
              "\n",
              "<style>\n",
              "  .colab-df-quickchart {\n",
              "      --bg-color: #E8F0FE;\n",
              "      --fill-color: #1967D2;\n",
              "      --hover-bg-color: #E2EBFA;\n",
              "      --hover-fill-color: #174EA6;\n",
              "      --disabled-fill-color: #AAA;\n",
              "      --disabled-bg-color: #DDD;\n",
              "  }\n",
              "\n",
              "  [theme=dark] .colab-df-quickchart {\n",
              "      --bg-color: #3B4455;\n",
              "      --fill-color: #D2E3FC;\n",
              "      --hover-bg-color: #434B5C;\n",
              "      --hover-fill-color: #FFFFFF;\n",
              "      --disabled-bg-color: #3B4455;\n",
              "      --disabled-fill-color: #666;\n",
              "  }\n",
              "\n",
              "  .colab-df-quickchart {\n",
              "    background-color: var(--bg-color);\n",
              "    border: none;\n",
              "    border-radius: 50%;\n",
              "    cursor: pointer;\n",
              "    display: none;\n",
              "    fill: var(--fill-color);\n",
              "    height: 32px;\n",
              "    padding: 0;\n",
              "    width: 32px;\n",
              "  }\n",
              "\n",
              "  .colab-df-quickchart:hover {\n",
              "    background-color: var(--hover-bg-color);\n",
              "    box-shadow: 0 1px 2px rgba(60, 64, 67, 0.3), 0 1px 3px 1px rgba(60, 64, 67, 0.15);\n",
              "    fill: var(--button-hover-fill-color);\n",
              "  }\n",
              "\n",
              "  .colab-df-quickchart-complete:disabled,\n",
              "  .colab-df-quickchart-complete:disabled:hover {\n",
              "    background-color: var(--disabled-bg-color);\n",
              "    fill: var(--disabled-fill-color);\n",
              "    box-shadow: none;\n",
              "  }\n",
              "\n",
              "  .colab-df-spinner {\n",
              "    border: 2px solid var(--fill-color);\n",
              "    border-color: transparent;\n",
              "    border-bottom-color: var(--fill-color);\n",
              "    animation:\n",
              "      spin 1s steps(1) infinite;\n",
              "  }\n",
              "\n",
              "  @keyframes spin {\n",
              "    0% {\n",
              "      border-color: transparent;\n",
              "      border-bottom-color: var(--fill-color);\n",
              "      border-left-color: var(--fill-color);\n",
              "    }\n",
              "    20% {\n",
              "      border-color: transparent;\n",
              "      border-left-color: var(--fill-color);\n",
              "      border-top-color: var(--fill-color);\n",
              "    }\n",
              "    30% {\n",
              "      border-color: transparent;\n",
              "      border-left-color: var(--fill-color);\n",
              "      border-top-color: var(--fill-color);\n",
              "      border-right-color: var(--fill-color);\n",
              "    }\n",
              "    40% {\n",
              "      border-color: transparent;\n",
              "      border-right-color: var(--fill-color);\n",
              "      border-top-color: var(--fill-color);\n",
              "    }\n",
              "    60% {\n",
              "      border-color: transparent;\n",
              "      border-right-color: var(--fill-color);\n",
              "    }\n",
              "    80% {\n",
              "      border-color: transparent;\n",
              "      border-right-color: var(--fill-color);\n",
              "      border-bottom-color: var(--fill-color);\n",
              "    }\n",
              "    90% {\n",
              "      border-color: transparent;\n",
              "      border-bottom-color: var(--fill-color);\n",
              "    }\n",
              "  }\n",
              "</style>\n",
              "\n",
              "      <script>\n",
              "        async function quickchart(key) {\n",
              "          const quickchartButtonEl =\n",
              "            document.querySelector('#' + key + ' button');\n",
              "          quickchartButtonEl.disabled = true;  // To prevent multiple clicks.\n",
              "          quickchartButtonEl.classList.add('colab-df-spinner');\n",
              "          try {\n",
              "            const charts = await google.colab.kernel.invokeFunction(\n",
              "                'suggestCharts', [key], {});\n",
              "          } catch (error) {\n",
              "            console.error('Error during call to suggestCharts:', error);\n",
              "          }\n",
              "          quickchartButtonEl.classList.remove('colab-df-spinner');\n",
              "          quickchartButtonEl.classList.add('colab-df-quickchart-complete');\n",
              "        }\n",
              "        (() => {\n",
              "          let quickchartButtonEl =\n",
              "            document.querySelector('#df-ab5527d1-3652-4697-84ef-40fac2ed6699 button');\n",
              "          quickchartButtonEl.style.display =\n",
              "            google.colab.kernel.accessAllowed ? 'block' : 'none';\n",
              "        })();\n",
              "      </script>\n",
              "    </div>\n",
              "\n",
              "    </div>\n",
              "  </div>\n"
            ],
            "application/vnd.google.colaboratory.intrinsic+json": {
              "type": "dataframe",
              "variable_name": "high_neu_first_wave_df",
              "summary": "{\n  \"name\": \"high_neu_first_wave_df\",\n  \"rows\": 11350,\n  \"fields\": [\n    {\n      \"column\": \"created_utc\",\n      \"properties\": {\n        \"dtype\": \"date\",\n        \"min\": \"2020-01-09 00:00:00\",\n        \"max\": \"2020-05-31 00:00:00\",\n        \"num_unique_values\": 144,\n        \"samples\": [\n          \"2020-02-04 00:00:00\",\n          \"2020-05-12 00:00:00\",\n          \"2020-03-10 00:00:00\"\n        ],\n        \"semantic_type\": \"\",\n        \"description\": \"\"\n      }\n    },\n    {\n      \"column\": \"label\",\n      \"properties\": {\n        \"dtype\": \"category\",\n        \"num_unique_values\": 1,\n        \"samples\": [\n          \"mild neu\"\n        ],\n        \"semantic_type\": \"\",\n        \"description\": \"\"\n      }\n    },\n    {\n      \"column\": \"score\",\n      \"properties\": {\n        \"dtype\": \"number\",\n        \"std\": 0.06151787161564391,\n        \"min\": 0.4416102766990661,\n        \"max\": 0.7499948740005493,\n        \"num_unique_values\": 9291,\n        \"samples\": [\n          0.582245409488678\n        ],\n        \"semantic_type\": \"\",\n        \"description\": \"\"\n      }\n    },\n    {\n      \"column\": \"cleaned_text\",\n      \"properties\": {\n        \"dtype\": \"string\",\n        \"num_unique_values\": 9310,\n        \"samples\": [\n          \"never flew planning trip south really considering aeromexico fare cheaper guess ill look alternative\"\n        ],\n        \"semantic_type\": \"\",\n        \"description\": \"\"\n      }\n    },\n    {\n      \"column\": \"tokens\",\n      \"properties\": {\n        \"dtype\": \"object\",\n        \"semantic_type\": \"\",\n        \"description\": \"\"\n      }\n    },\n    {\n      \"column\": \"final_text\",\n      \"properties\": {\n        \"dtype\": \"string\",\n        \"num_unique_values\": 9084,\n        \"samples\": [\n          \"sure maybe use exchange rate day travel form conversion fee honestly point free money come home day later post cover accommodation probably worth time look euro get compensation turkish airline actually wad cash kazakhstani tenge base rate little bit near worth time complain\"\n        ],\n        \"semantic_type\": \"\",\n        \"description\": \"\"\n      }\n    },\n    {\n      \"column\": \"bigram_tokens\",\n      \"properties\": {\n        \"dtype\": \"object\",\n        \"semantic_type\": \"\",\n        \"description\": \"\"\n      }\n    },\n    {\n      \"column\": \"trigram_tokens\",\n      \"properties\": {\n        \"dtype\": \"object\",\n        \"semantic_type\": \"\",\n        \"description\": \"\"\n      }\n    },\n    {\n      \"column\": \"has_bigrams\",\n      \"properties\": {\n        \"dtype\": \"boolean\",\n        \"num_unique_values\": 2,\n        \"samples\": [\n          true\n        ],\n        \"semantic_type\": \"\",\n        \"description\": \"\"\n      }\n    },\n    {\n      \"column\": \"has_trigrams\",\n      \"properties\": {\n        \"dtype\": \"boolean\",\n        \"num_unique_values\": 2,\n        \"samples\": [\n          true\n        ],\n        \"semantic_type\": \"\",\n        \"description\": \"\"\n      }\n    }\n  ]\n}"
            }
          },
          "metadata": {},
          "execution_count": 88
        }
      ],
      "source": [
        "high_neu_first_wave_df.head()"
      ]
    },
    {
      "cell_type": "code",
      "execution_count": 89,
      "metadata": {
        "colab": {
          "base_uri": "https://localhost:8080/"
        },
        "id": "vTX0kETnfo-o",
        "outputId": "979e2311-92a9-4f91-fbf0-ccc22d9e8ecf"
      },
      "outputs": [
        {
          "output_type": "stream",
          "name": "stdout",
          "text": [
            "Total number of rows in the DataFrame: 11350\n",
            "Number of rows in 'trigram_tokenized' column: 11350\n"
          ]
        }
      ],
      "source": [
        "# Print the total number of rows in the DataFrame\n",
        "total_rows = high_neu_first_wave_df.shape[0]\n",
        "print(f\"Total number of rows in the DataFrame: {total_rows}\")\n",
        "\n",
        "# Check the number of rows in the 'trigram_tokenized' column\n",
        "print(f\"Number of rows in 'trigram_tokenized' column: {high_neu_first_wave_df['trigram_tokens'].shape[0]}\")"
      ]
    },
    {
      "cell_type": "code",
      "execution_count": 90,
      "metadata": {
        "colab": {
          "base_uri": "https://localhost:8080/"
        },
        "id": "f4r1QsDEn5JI",
        "outputId": "b82eef19-c212-451f-8b91-873b426403e1"
      },
      "outputs": [
        {
          "output_type": "stream",
          "name": "stdout",
          "text": [
            "Total number of unique trigrams: 32\n",
            "\n",
            "Most common trigrams:\n",
            "remove_contact_mod: 29\n",
            "bad_case_scenario: 12\n",
            "credit_card_issuer: 12\n",
            "star_alliance_partner: 9\n",
            "original_form_payment: 8\n",
            "frequent_flyer_number: 8\n",
            "file_dot_complaint: 5\n",
            "travel_good_faith: 5\n",
            "issuer_write_letter: 5\n",
            "legally_protect_law: 5\n"
          ]
        }
      ],
      "source": [
        "import itertools\n",
        "from collections import Counter\n",
        "\n",
        "# 1) Flatten all trigram lists into one big sequence\n",
        "all_trigrams = itertools.chain.from_iterable(high_neu_first_wave_df['trigram_tokens'])\n",
        "\n",
        "# 2) Filter for genuine trigrams (exactly two underscores → three words joined)\n",
        "trigram_counts = Counter(\n",
        "    token for token in all_trigrams\n",
        "    if isinstance(token, str) and token.count('_') == 2\n",
        ")\n",
        "\n",
        "# 3) How many unique trigrams?\n",
        "total_unique_trigrams = len(trigram_counts)\n",
        "print(f\"Total number of unique trigrams: {total_unique_trigrams}\")\n",
        "\n",
        "# 4) Show the 10 most common trigrams\n",
        "print(\"\\nMost common trigrams:\")\n",
        "for trigram, count in trigram_counts.most_common(10):\n",
        "    print(f\"{trigram}: {count:,}\")\n"
      ]
    },
    {
      "cell_type": "code",
      "execution_count": 91,
      "metadata": {
        "id": "SS1UskOufykm"
      },
      "outputs": [],
      "source": [
        "#import gensim.corpora as corpora\n",
        "# Create Dictionary\n",
        "#id2word = corpora.Dictionary(high_neu_first_wave_df['trigram_tokens'].tolist())\n",
        "\n",
        "## pruning\n",
        "#id2word.filter_extremes(no_below=5, no_above=0.5)\n",
        "\n",
        "#    (Optional) Re-map the remaining token IDs to remove gaps\n",
        "#id2word.compactify()\n",
        "\n",
        "# 2. Convert each document to a Bag-of-Words\n",
        "# texts = high_neu_first_wave_df['trigram_tokens'].tolist()\n",
        "\n",
        "# # Term Document Frequency\n",
        "# corpus = [id2word.doc2bow(text) for text in texts]\n",
        "\n",
        "\n",
        "# # View\n",
        "# print(corpus[:1][0][:30])"
      ]
    },
    {
      "cell_type": "code",
      "execution_count": 92,
      "metadata": {
        "id": "ZtXFSO7YotEU"
      },
      "outputs": [],
      "source": [
        "# import gensim\n",
        "# from gensim import corpora\n",
        "# from gensim.models.ldamodel import LdaModel\n",
        "# from nltk.tokenize import word_tokenize\n",
        "# import nltk\n",
        "# ## Build the basic LDA model\n",
        "# lda_model = LdaModel(corpus=corpus,\n",
        "#                                        id2word=id2word,\n",
        "#                                        num_topics=3,\n",
        "#                                        random_state=100,\n",
        "#                                           chunksize=200,\n",
        "#                                        passes=50,\n",
        "#                                         iterations= 100,\n",
        "#                                        alpha='auto',\n",
        "#                                       eta='auto',\n",
        "#                                        per_word_topics=True)"
      ]
    },
    {
      "cell_type": "code",
      "execution_count": 93,
      "metadata": {
        "id": "GO7Y_w3Eo6IW"
      },
      "outputs": [],
      "source": [
        "# from pprint import pprint\n",
        "\n",
        "# # Print the Keyword in the 3 topics\n",
        "# pprint(lda_model.print_topics())\n",
        "# doc_lda = lda_model[corpus]"
      ]
    },
    {
      "cell_type": "code",
      "execution_count": 94,
      "metadata": {
        "colab": {
          "base_uri": "https://localhost:8080/",
          "height": 293
        },
        "id": "_SPSr9cn5HtA",
        "outputId": "f3545666-b72b-4f3a-de0d-40ecdcca2820"
      },
      "outputs": [
        {
          "output_type": "execute_result",
          "data": {
            "text/plain": [
              "  created_utc     label     score  \\\n",
              "0  2020-05-31  mild neu  0.569819   \n",
              "1  2020-05-31  mild neu  0.617377   \n",
              "2  2020-05-31  mild neu  0.610706   \n",
              "3  2020-05-31  mild neu  0.576460   \n",
              "4  2020-05-31  mild neu  0.629136   \n",
              "\n",
              "                                        cleaned_text  \\\n",
              "0                                ill pay mosaic much   \n",
              "1  redemption november right riding shoe either m...   \n",
              "2  sure planning hilton redemption soon wouldnt s...   \n",
              "3                                             thanks   \n",
              "4                                           bigger w   \n",
              "\n",
              "                                              tokens  \\\n",
              "0                                 [ill, pay, mosaic]   \n",
              "1  [redemption, november, right, riding, shoe, mo...   \n",
              "2  [sure, plan, hilton, redemption, soon, specula...   \n",
              "3                                            [thank]   \n",
              "4                                              [big]   \n",
              "\n",
              "                                          final_text  \\\n",
              "0                                     ill pay mosaic   \n",
              "1  redemption november right riding shoe move tri...   \n",
              "2  sure plan hilton redemption soon speculatively...   \n",
              "3                                              thank   \n",
              "4                                                big   \n",
              "\n",
              "                                       bigram_tokens  \\\n",
              "0                                 [ill, pay, mosaic]   \n",
              "1  [redemption, november, right, riding, shoe, mo...   \n",
              "2  [sure, plan, hilton, redemption, soon, specula...   \n",
              "3                                            [thank]   \n",
              "4                                              [big]   \n",
              "\n",
              "                                      trigram_tokens  has_bigrams  \\\n",
              "0                                 [ill, pay, mosaic]        False   \n",
              "1  [redemption, november, right, riding, shoe, mo...        False   \n",
              "2  [sure, plan, hilton, redemption, soon, specula...        False   \n",
              "3                                            [thank]        False   \n",
              "4                                              [big]        False   \n",
              "\n",
              "   has_trigrams  \n",
              "0         False  \n",
              "1         False  \n",
              "2         False  \n",
              "3         False  \n",
              "4         False  "
            ],
            "text/html": [
              "\n",
              "  <div id=\"df-1d3125b3-5235-41ab-bf5b-80ad5df0e5c6\" class=\"colab-df-container\">\n",
              "    <div>\n",
              "<style scoped>\n",
              "    .dataframe tbody tr th:only-of-type {\n",
              "        vertical-align: middle;\n",
              "    }\n",
              "\n",
              "    .dataframe tbody tr th {\n",
              "        vertical-align: top;\n",
              "    }\n",
              "\n",
              "    .dataframe thead th {\n",
              "        text-align: right;\n",
              "    }\n",
              "</style>\n",
              "<table border=\"1\" class=\"dataframe\">\n",
              "  <thead>\n",
              "    <tr style=\"text-align: right;\">\n",
              "      <th></th>\n",
              "      <th>created_utc</th>\n",
              "      <th>label</th>\n",
              "      <th>score</th>\n",
              "      <th>cleaned_text</th>\n",
              "      <th>tokens</th>\n",
              "      <th>final_text</th>\n",
              "      <th>bigram_tokens</th>\n",
              "      <th>trigram_tokens</th>\n",
              "      <th>has_bigrams</th>\n",
              "      <th>has_trigrams</th>\n",
              "    </tr>\n",
              "  </thead>\n",
              "  <tbody>\n",
              "    <tr>\n",
              "      <th>0</th>\n",
              "      <td>2020-05-31</td>\n",
              "      <td>mild neu</td>\n",
              "      <td>0.569819</td>\n",
              "      <td>ill pay mosaic much</td>\n",
              "      <td>[ill, pay, mosaic]</td>\n",
              "      <td>ill pay mosaic</td>\n",
              "      <td>[ill, pay, mosaic]</td>\n",
              "      <td>[ill, pay, mosaic]</td>\n",
              "      <td>False</td>\n",
              "      <td>False</td>\n",
              "    </tr>\n",
              "    <tr>\n",
              "      <th>1</th>\n",
              "      <td>2020-05-31</td>\n",
              "      <td>mild neu</td>\n",
              "      <td>0.617377</td>\n",
              "      <td>redemption november right riding shoe either m...</td>\n",
              "      <td>[redemption, november, right, riding, shoe, mo...</td>\n",
              "      <td>redemption november right riding shoe move tri...</td>\n",
              "      <td>[redemption, november, right, riding, shoe, mo...</td>\n",
              "      <td>[redemption, november, right, riding, shoe, mo...</td>\n",
              "      <td>False</td>\n",
              "      <td>False</td>\n",
              "    </tr>\n",
              "    <tr>\n",
              "      <th>2</th>\n",
              "      <td>2020-05-31</td>\n",
              "      <td>mild neu</td>\n",
              "      <td>0.610706</td>\n",
              "      <td>sure planning hilton redemption soon wouldnt s...</td>\n",
              "      <td>[sure, plan, hilton, redemption, soon, specula...</td>\n",
              "      <td>sure plan hilton redemption soon speculatively...</td>\n",
              "      <td>[sure, plan, hilton, redemption, soon, specula...</td>\n",
              "      <td>[sure, plan, hilton, redemption, soon, specula...</td>\n",
              "      <td>False</td>\n",
              "      <td>False</td>\n",
              "    </tr>\n",
              "    <tr>\n",
              "      <th>3</th>\n",
              "      <td>2020-05-31</td>\n",
              "      <td>mild neu</td>\n",
              "      <td>0.576460</td>\n",
              "      <td>thanks</td>\n",
              "      <td>[thank]</td>\n",
              "      <td>thank</td>\n",
              "      <td>[thank]</td>\n",
              "      <td>[thank]</td>\n",
              "      <td>False</td>\n",
              "      <td>False</td>\n",
              "    </tr>\n",
              "    <tr>\n",
              "      <th>4</th>\n",
              "      <td>2020-05-31</td>\n",
              "      <td>mild neu</td>\n",
              "      <td>0.629136</td>\n",
              "      <td>bigger w</td>\n",
              "      <td>[big]</td>\n",
              "      <td>big</td>\n",
              "      <td>[big]</td>\n",
              "      <td>[big]</td>\n",
              "      <td>False</td>\n",
              "      <td>False</td>\n",
              "    </tr>\n",
              "  </tbody>\n",
              "</table>\n",
              "</div>\n",
              "    <div class=\"colab-df-buttons\">\n",
              "\n",
              "  <div class=\"colab-df-container\">\n",
              "    <button class=\"colab-df-convert\" onclick=\"convertToInteractive('df-1d3125b3-5235-41ab-bf5b-80ad5df0e5c6')\"\n",
              "            title=\"Convert this dataframe to an interactive table.\"\n",
              "            style=\"display:none;\">\n",
              "\n",
              "  <svg xmlns=\"http://www.w3.org/2000/svg\" height=\"24px\" viewBox=\"0 -960 960 960\">\n",
              "    <path d=\"M120-120v-720h720v720H120Zm60-500h600v-160H180v160Zm220 220h160v-160H400v160Zm0 220h160v-160H400v160ZM180-400h160v-160H180v160Zm440 0h160v-160H620v160ZM180-180h160v-160H180v160Zm440 0h160v-160H620v160Z\"/>\n",
              "  </svg>\n",
              "    </button>\n",
              "\n",
              "  <style>\n",
              "    .colab-df-container {\n",
              "      display:flex;\n",
              "      gap: 12px;\n",
              "    }\n",
              "\n",
              "    .colab-df-convert {\n",
              "      background-color: #E8F0FE;\n",
              "      border: none;\n",
              "      border-radius: 50%;\n",
              "      cursor: pointer;\n",
              "      display: none;\n",
              "      fill: #1967D2;\n",
              "      height: 32px;\n",
              "      padding: 0 0 0 0;\n",
              "      width: 32px;\n",
              "    }\n",
              "\n",
              "    .colab-df-convert:hover {\n",
              "      background-color: #E2EBFA;\n",
              "      box-shadow: 0px 1px 2px rgba(60, 64, 67, 0.3), 0px 1px 3px 1px rgba(60, 64, 67, 0.15);\n",
              "      fill: #174EA6;\n",
              "    }\n",
              "\n",
              "    .colab-df-buttons div {\n",
              "      margin-bottom: 4px;\n",
              "    }\n",
              "\n",
              "    [theme=dark] .colab-df-convert {\n",
              "      background-color: #3B4455;\n",
              "      fill: #D2E3FC;\n",
              "    }\n",
              "\n",
              "    [theme=dark] .colab-df-convert:hover {\n",
              "      background-color: #434B5C;\n",
              "      box-shadow: 0px 1px 3px 1px rgba(0, 0, 0, 0.15);\n",
              "      filter: drop-shadow(0px 1px 2px rgba(0, 0, 0, 0.3));\n",
              "      fill: #FFFFFF;\n",
              "    }\n",
              "  </style>\n",
              "\n",
              "    <script>\n",
              "      const buttonEl =\n",
              "        document.querySelector('#df-1d3125b3-5235-41ab-bf5b-80ad5df0e5c6 button.colab-df-convert');\n",
              "      buttonEl.style.display =\n",
              "        google.colab.kernel.accessAllowed ? 'block' : 'none';\n",
              "\n",
              "      async function convertToInteractive(key) {\n",
              "        const element = document.querySelector('#df-1d3125b3-5235-41ab-bf5b-80ad5df0e5c6');\n",
              "        const dataTable =\n",
              "          await google.colab.kernel.invokeFunction('convertToInteractive',\n",
              "                                                    [key], {});\n",
              "        if (!dataTable) return;\n",
              "\n",
              "        const docLinkHtml = 'Like what you see? Visit the ' +\n",
              "          '<a target=\"_blank\" href=https://colab.research.google.com/notebooks/data_table.ipynb>data table notebook</a>'\n",
              "          + ' to learn more about interactive tables.';\n",
              "        element.innerHTML = '';\n",
              "        dataTable['output_type'] = 'display_data';\n",
              "        await google.colab.output.renderOutput(dataTable, element);\n",
              "        const docLink = document.createElement('div');\n",
              "        docLink.innerHTML = docLinkHtml;\n",
              "        element.appendChild(docLink);\n",
              "      }\n",
              "    </script>\n",
              "  </div>\n",
              "\n",
              "\n",
              "    <div id=\"df-1f4e09f5-b1b6-4806-a933-66ff4e11cc4e\">\n",
              "      <button class=\"colab-df-quickchart\" onclick=\"quickchart('df-1f4e09f5-b1b6-4806-a933-66ff4e11cc4e')\"\n",
              "                title=\"Suggest charts\"\n",
              "                style=\"display:none;\">\n",
              "\n",
              "<svg xmlns=\"http://www.w3.org/2000/svg\" height=\"24px\"viewBox=\"0 0 24 24\"\n",
              "     width=\"24px\">\n",
              "    <g>\n",
              "        <path d=\"M19 3H5c-1.1 0-2 .9-2 2v14c0 1.1.9 2 2 2h14c1.1 0 2-.9 2-2V5c0-1.1-.9-2-2-2zM9 17H7v-7h2v7zm4 0h-2V7h2v10zm4 0h-2v-4h2v4z\"/>\n",
              "    </g>\n",
              "</svg>\n",
              "      </button>\n",
              "\n",
              "<style>\n",
              "  .colab-df-quickchart {\n",
              "      --bg-color: #E8F0FE;\n",
              "      --fill-color: #1967D2;\n",
              "      --hover-bg-color: #E2EBFA;\n",
              "      --hover-fill-color: #174EA6;\n",
              "      --disabled-fill-color: #AAA;\n",
              "      --disabled-bg-color: #DDD;\n",
              "  }\n",
              "\n",
              "  [theme=dark] .colab-df-quickchart {\n",
              "      --bg-color: #3B4455;\n",
              "      --fill-color: #D2E3FC;\n",
              "      --hover-bg-color: #434B5C;\n",
              "      --hover-fill-color: #FFFFFF;\n",
              "      --disabled-bg-color: #3B4455;\n",
              "      --disabled-fill-color: #666;\n",
              "  }\n",
              "\n",
              "  .colab-df-quickchart {\n",
              "    background-color: var(--bg-color);\n",
              "    border: none;\n",
              "    border-radius: 50%;\n",
              "    cursor: pointer;\n",
              "    display: none;\n",
              "    fill: var(--fill-color);\n",
              "    height: 32px;\n",
              "    padding: 0;\n",
              "    width: 32px;\n",
              "  }\n",
              "\n",
              "  .colab-df-quickchart:hover {\n",
              "    background-color: var(--hover-bg-color);\n",
              "    box-shadow: 0 1px 2px rgba(60, 64, 67, 0.3), 0 1px 3px 1px rgba(60, 64, 67, 0.15);\n",
              "    fill: var(--button-hover-fill-color);\n",
              "  }\n",
              "\n",
              "  .colab-df-quickchart-complete:disabled,\n",
              "  .colab-df-quickchart-complete:disabled:hover {\n",
              "    background-color: var(--disabled-bg-color);\n",
              "    fill: var(--disabled-fill-color);\n",
              "    box-shadow: none;\n",
              "  }\n",
              "\n",
              "  .colab-df-spinner {\n",
              "    border: 2px solid var(--fill-color);\n",
              "    border-color: transparent;\n",
              "    border-bottom-color: var(--fill-color);\n",
              "    animation:\n",
              "      spin 1s steps(1) infinite;\n",
              "  }\n",
              "\n",
              "  @keyframes spin {\n",
              "    0% {\n",
              "      border-color: transparent;\n",
              "      border-bottom-color: var(--fill-color);\n",
              "      border-left-color: var(--fill-color);\n",
              "    }\n",
              "    20% {\n",
              "      border-color: transparent;\n",
              "      border-left-color: var(--fill-color);\n",
              "      border-top-color: var(--fill-color);\n",
              "    }\n",
              "    30% {\n",
              "      border-color: transparent;\n",
              "      border-left-color: var(--fill-color);\n",
              "      border-top-color: var(--fill-color);\n",
              "      border-right-color: var(--fill-color);\n",
              "    }\n",
              "    40% {\n",
              "      border-color: transparent;\n",
              "      border-right-color: var(--fill-color);\n",
              "      border-top-color: var(--fill-color);\n",
              "    }\n",
              "    60% {\n",
              "      border-color: transparent;\n",
              "      border-right-color: var(--fill-color);\n",
              "    }\n",
              "    80% {\n",
              "      border-color: transparent;\n",
              "      border-right-color: var(--fill-color);\n",
              "      border-bottom-color: var(--fill-color);\n",
              "    }\n",
              "    90% {\n",
              "      border-color: transparent;\n",
              "      border-bottom-color: var(--fill-color);\n",
              "    }\n",
              "  }\n",
              "</style>\n",
              "\n",
              "      <script>\n",
              "        async function quickchart(key) {\n",
              "          const quickchartButtonEl =\n",
              "            document.querySelector('#' + key + ' button');\n",
              "          quickchartButtonEl.disabled = true;  // To prevent multiple clicks.\n",
              "          quickchartButtonEl.classList.add('colab-df-spinner');\n",
              "          try {\n",
              "            const charts = await google.colab.kernel.invokeFunction(\n",
              "                'suggestCharts', [key], {});\n",
              "          } catch (error) {\n",
              "            console.error('Error during call to suggestCharts:', error);\n",
              "          }\n",
              "          quickchartButtonEl.classList.remove('colab-df-spinner');\n",
              "          quickchartButtonEl.classList.add('colab-df-quickchart-complete');\n",
              "        }\n",
              "        (() => {\n",
              "          let quickchartButtonEl =\n",
              "            document.querySelector('#df-1f4e09f5-b1b6-4806-a933-66ff4e11cc4e button');\n",
              "          quickchartButtonEl.style.display =\n",
              "            google.colab.kernel.accessAllowed ? 'block' : 'none';\n",
              "        })();\n",
              "      </script>\n",
              "    </div>\n",
              "\n",
              "    </div>\n",
              "  </div>\n"
            ],
            "application/vnd.google.colaboratory.intrinsic+json": {
              "type": "dataframe",
              "variable_name": "high_neu_first_wave_df",
              "summary": "{\n  \"name\": \"high_neu_first_wave_df\",\n  \"rows\": 11350,\n  \"fields\": [\n    {\n      \"column\": \"created_utc\",\n      \"properties\": {\n        \"dtype\": \"date\",\n        \"min\": \"2020-01-09 00:00:00\",\n        \"max\": \"2020-05-31 00:00:00\",\n        \"num_unique_values\": 144,\n        \"samples\": [\n          \"2020-02-04 00:00:00\",\n          \"2020-05-12 00:00:00\",\n          \"2020-03-10 00:00:00\"\n        ],\n        \"semantic_type\": \"\",\n        \"description\": \"\"\n      }\n    },\n    {\n      \"column\": \"label\",\n      \"properties\": {\n        \"dtype\": \"category\",\n        \"num_unique_values\": 1,\n        \"samples\": [\n          \"mild neu\"\n        ],\n        \"semantic_type\": \"\",\n        \"description\": \"\"\n      }\n    },\n    {\n      \"column\": \"score\",\n      \"properties\": {\n        \"dtype\": \"number\",\n        \"std\": 0.06151787161564391,\n        \"min\": 0.4416102766990661,\n        \"max\": 0.7499948740005493,\n        \"num_unique_values\": 9291,\n        \"samples\": [\n          0.582245409488678\n        ],\n        \"semantic_type\": \"\",\n        \"description\": \"\"\n      }\n    },\n    {\n      \"column\": \"cleaned_text\",\n      \"properties\": {\n        \"dtype\": \"string\",\n        \"num_unique_values\": 9310,\n        \"samples\": [\n          \"never flew planning trip south really considering aeromexico fare cheaper guess ill look alternative\"\n        ],\n        \"semantic_type\": \"\",\n        \"description\": \"\"\n      }\n    },\n    {\n      \"column\": \"tokens\",\n      \"properties\": {\n        \"dtype\": \"object\",\n        \"semantic_type\": \"\",\n        \"description\": \"\"\n      }\n    },\n    {\n      \"column\": \"final_text\",\n      \"properties\": {\n        \"dtype\": \"string\",\n        \"num_unique_values\": 9084,\n        \"samples\": [\n          \"sure maybe use exchange rate day travel form conversion fee honestly point free money come home day later post cover accommodation probably worth time look euro get compensation turkish airline actually wad cash kazakhstani tenge base rate little bit near worth time complain\"\n        ],\n        \"semantic_type\": \"\",\n        \"description\": \"\"\n      }\n    },\n    {\n      \"column\": \"bigram_tokens\",\n      \"properties\": {\n        \"dtype\": \"object\",\n        \"semantic_type\": \"\",\n        \"description\": \"\"\n      }\n    },\n    {\n      \"column\": \"trigram_tokens\",\n      \"properties\": {\n        \"dtype\": \"object\",\n        \"semantic_type\": \"\",\n        \"description\": \"\"\n      }\n    },\n    {\n      \"column\": \"has_bigrams\",\n      \"properties\": {\n        \"dtype\": \"boolean\",\n        \"num_unique_values\": 2,\n        \"samples\": [\n          true\n        ],\n        \"semantic_type\": \"\",\n        \"description\": \"\"\n      }\n    },\n    {\n      \"column\": \"has_trigrams\",\n      \"properties\": {\n        \"dtype\": \"boolean\",\n        \"num_unique_values\": 2,\n        \"samples\": [\n          true\n        ],\n        \"semantic_type\": \"\",\n        \"description\": \"\"\n      }\n    }\n  ]\n}"
            }
          },
          "metadata": {},
          "execution_count": 94
        }
      ],
      "source": [
        "high_neu_first_wave_df.head()"
      ]
    },
    {
      "cell_type": "code",
      "execution_count": 95,
      "metadata": {
        "id": "tsOdRORmpGnE"
      },
      "outputs": [],
      "source": [
        "# from gensim.models import CoherenceModel\n",
        "\n",
        "# # Compute Coherence Score\n",
        "# coherence_model_lda = CoherenceModel(model=lda_model, texts=high_neu_first_wave_df['trigram_tokenized'], dictionary=id2word, coherence='c_v')\n",
        "# coherence_lda = coherence_model_lda.get_coherence()\n",
        "# print('Coherence Score: ', coherence_lda)"
      ]
    },
    {
      "cell_type": "code",
      "execution_count": 96,
      "metadata": {
        "id": "7ASa22sYpPkJ"
      },
      "outputs": [],
      "source": [
        "# import pyLDAvis.gensim\n",
        "# import pickle\n",
        "# import pyLDAvis\n",
        "# import pyLDAvis.gensim_models as gensimvis\n",
        "# import pyLDAvis\n",
        "\n",
        "# # Assuming ldamodel, corpus, and dictionary are already defined\n",
        "# # Enable the automatic display of visualizations in Jupyter\n",
        "# pyLDAvis.enable_notebook()\n",
        "\n",
        "# # Prepare the LDA visualization directly\n",
        "# LDAvis_prepared = gensimvis.prepare(lda_model, corpus, id2word)\n",
        "\n",
        "# # Display the prepared visualization directly in the notebook\n",
        "# pyLDAvis.display(LDAvis_prepared)"
      ]
    },
    {
      "cell_type": "code",
      "execution_count": 97,
      "metadata": {
        "colab": {
          "base_uri": "https://localhost:8080/"
        },
        "id": "6tMA-H8JduCO",
        "outputId": "0a6ef7ac-aaae-42c6-92d6-3e4370d9d420"
      },
      "outputs": [
        {
          "metadata": {
            "tags": null
          },
          "name": "stderr",
          "output_type": "stream",
          "text": [
            "WARNING:gensim.models.ldamodel:updated prior is not positive\n",
            "WARNING:gensim.models.ldamodel:updated prior is not positive\n"
          ]
        },
        {
          "metadata": {
            "tags": null
          },
          "name": "stdout",
          "output_type": "stream",
          "text": [
            "Num Topics: 2, Chunksize: 1000, Passes: 100, Iterations: 50, Perplexity: -7.3942, Coherence: 0.7260 ,Alpha: [1.0359843  0.36709943], Eta: [ 1.739629    0.35566548 39.863552   ...  0.38229218  0.43118072\n",
            "  0.38229218]\n"
          ]
        },
        {
          "metadata": {
            "tags": null
          },
          "name": "stderr",
          "output_type": "stream",
          "text": [
            "WARNING:gensim.models.ldamodel:updated prior is not positive\n",
            "WARNING:gensim.models.ldamodel:updated prior is not positive\n"
          ]
        },
        {
          "metadata": {
            "tags": null
          },
          "name": "stdout",
          "output_type": "stream",
          "text": [
            "Num Topics: 2, Chunksize: 1000, Passes: 100, Iterations: 100, Perplexity: -7.3983, Coherence: 0.7196 ,Alpha: [1.2394559 0.6004952], Eta: [ 1.7702157  0.3531874 39.314194  ...  0.3755715  0.4229995  0.3755715]\n"
          ]
        },
        {
          "metadata": {
            "tags": null
          },
          "name": "stderr",
          "output_type": "stream",
          "text": [
            "WARNING:gensim.models.ldamodel:updated prior is not positive\n",
            "WARNING:gensim.models.ldamodel:updated prior is not positive\n"
          ]
        },
        {
          "metadata": {
            "tags": null
          },
          "name": "stdout",
          "output_type": "stream",
          "text": [
            "Num Topics: 2, Chunksize: 1000, Passes: 100, Iterations: 200, Perplexity: -7.3990, Coherence: 0.7186 ,Alpha: [1.2444407 0.6192747], Eta: [ 1.7559315   0.35219216 38.847042   ...  0.37410164  0.42119274\n",
            "  0.37410164]\n"
          ]
        },
        {
          "metadata": {
            "tags": null
          },
          "name": "stderr",
          "output_type": "stream",
          "text": [
            "WARNING:gensim.models.ldamodel:updated prior is not positive\n",
            "WARNING:gensim.models.ldamodel:updated prior is not positive\n"
          ]
        },
        {
          "metadata": {
            "tags": null
          },
          "name": "stdout",
          "output_type": "stream",
          "text": [
            "Num Topics: 2, Chunksize: 1000, Passes: 200, Iterations: 50, Perplexity: -7.3757, Coherence: 0.7326 ,Alpha: [0.42167205 0.14722379], Eta: [ 4.663677    0.37952274 48.57549    ...  0.405695    0.46002072\n",
            "  0.405695  ]\n"
          ]
        },
        {
          "metadata": {
            "tags": null
          },
          "name": "stderr",
          "output_type": "stream",
          "text": [
            "WARNING:gensim.models.ldamodel:updated prior is not positive\n",
            "WARNING:gensim.models.ldamodel:updated prior is not positive\n"
          ]
        },
        {
          "metadata": {
            "tags": null
          },
          "name": "stdout",
          "output_type": "stream",
          "text": [
            "Num Topics: 2, Chunksize: 1000, Passes: 200, Iterations: 100, Perplexity: -7.3773, Coherence: 0.7326 ,Alpha: [0.5030984  0.15740843], Eta: [ 3.3303046   0.37670243 47.061813   ...  0.402806    0.45642963\n",
            "  0.402806  ]\n"
          ]
        },
        {
          "metadata": {
            "tags": null
          },
          "name": "stderr",
          "output_type": "stream",
          "text": [
            "WARNING:gensim.models.ldamodel:updated prior is not positive\n",
            "WARNING:gensim.models.ldamodel:updated prior is not positive\n"
          ]
        },
        {
          "metadata": {
            "tags": null
          },
          "name": "stdout",
          "output_type": "stream",
          "text": [
            "Num Topics: 2, Chunksize: 1000, Passes: 200, Iterations: 200, Perplexity: -7.3776, Coherence: 0.7326 ,Alpha: [0.5167281  0.15930863], Eta: [ 3.1558406   0.37621292 46.774117   ...  0.40230528  0.4558083\n",
            "  0.40230528]\n"
          ]
        },
        {
          "metadata": {
            "tags": null
          },
          "name": "stderr",
          "output_type": "stream",
          "text": [
            "WARNING:gensim.models.ldamodel:updated prior is not positive\n",
            "WARNING:gensim.models.ldamodel:updated prior is not positive\n"
          ]
        },
        {
          "metadata": {
            "tags": null
          },
          "name": "stdout",
          "output_type": "stream",
          "text": [
            "Num Topics: 2, Chunksize: 1000, Passes: 260, Iterations: 50, Perplexity: -7.3669, Coherence: 0.7221 ,Alpha: [0.21873909 0.09828795], Eta: [17.306278    0.39469042 54.920506   ...  0.42180747  0.48016316\n",
            "  0.42180747]\n"
          ]
        },
        {
          "metadata": {
            "tags": null
          },
          "name": "stderr",
          "output_type": "stream",
          "text": [
            "WARNING:gensim.models.ldamodel:updated prior is not positive\n",
            "WARNING:gensim.models.ldamodel:updated prior is not positive\n"
          ]
        },
        {
          "metadata": {
            "tags": null
          },
          "name": "stdout",
          "output_type": "stream",
          "text": [
            "Num Topics: 2, Chunksize: 1000, Passes: 260, Iterations: 100, Perplexity: -7.3678, Coherence: 0.7213 ,Alpha: [0.24928765 0.10302905], Eta: [17.073723    0.39250302 53.84864    ...  0.419416    0.47715992\n",
            "  0.419416  ]\n"
          ]
        },
        {
          "metadata": {
            "tags": null
          },
          "name": "stderr",
          "output_type": "stream",
          "text": [
            "WARNING:gensim.models.ldamodel:updated prior is not positive\n",
            "WARNING:gensim.models.ldamodel:updated prior is not positive\n"
          ]
        },
        {
          "metadata": {
            "tags": null
          },
          "name": "stdout",
          "output_type": "stream",
          "text": [
            "Num Topics: 2, Chunksize: 1000, Passes: 260, Iterations: 200, Perplexity: -7.3681, Coherence: 0.7213 ,Alpha: [0.25773644 0.10499723], Eta: [16.786016    0.39189583 53.554024   ...  0.41874772  0.47632283\n",
            "  0.41874772]\n",
            "Num Topics: 3, Chunksize: 1000, Passes: 100, Iterations: 50, Perplexity: -7.4054, Coherence: 0.7219 ,Alpha: [0.4340832  0.45448035 0.83082914], Eta: [ 0.42316404  0.22906458 16.924345   ...  0.24465351  0.2586374\n",
            "  0.24465351]\n"
          ]
        },
        {
          "metadata": {
            "tags": null
          },
          "name": "stderr",
          "output_type": "stream",
          "text": [
            "WARNING:gensim.models.ldamodel:updated prior is not positive\n"
          ]
        },
        {
          "metadata": {
            "tags": null
          },
          "name": "stdout",
          "output_type": "stream",
          "text": [
            "Num Topics: 3, Chunksize: 1000, Passes: 100, Iterations: 100, Perplexity: -7.4126, Coherence: 0.7032 ,Alpha: [0.31505302 0.61747116 0.85975814], Eta: [ 0.41996711  0.22926931 12.019853   ...  0.24350843  0.2573879\n",
            "  0.24350843]\n"
          ]
        },
        {
          "metadata": {
            "tags": null
          },
          "name": "stderr",
          "output_type": "stream",
          "text": [
            "WARNING:gensim.models.ldamodel:updated prior is not positive\n"
          ]
        },
        {
          "metadata": {
            "tags": null
          },
          "name": "stdout",
          "output_type": "stream",
          "text": [
            "Num Topics: 3, Chunksize: 1000, Passes: 100, Iterations: 200, Perplexity: -7.4103, Coherence: 0.7140 ,Alpha: [0.379217  0.5989333 0.8821667], Eta: [ 0.41871944  0.2287151  13.856254   ...  0.24452476  0.2584463\n",
            "  0.24452476]\n",
            "Num Topics: 3, Chunksize: 1000, Passes: 200, Iterations: 50, Perplexity: -7.3935, Coherence: 0.7180 ,Alpha: [0.31812644 0.29483047 0.613145  ], Eta: [ 0.4496959   0.23166735 17.718218   ...  0.24636866  0.26059029\n",
            "  0.24636866]\n"
          ]
        },
        {
          "metadata": {
            "tags": null
          },
          "name": "stderr",
          "output_type": "stream",
          "text": [
            "WARNING:gensim.models.ldamodel:updated prior is not positive\n"
          ]
        },
        {
          "metadata": {
            "tags": null
          },
          "name": "stdout",
          "output_type": "stream",
          "text": [
            "Num Topics: 3, Chunksize: 1000, Passes: 200, Iterations: 100, Perplexity: -7.4022, Coherence: 0.7026 ,Alpha: [0.27790567 0.5240173  0.7384238 ], Eta: [ 0.4330799   0.23105687 13.254422   ...  0.24426015  0.25825942\n",
            "  0.24426015]\n"
          ]
        },
        {
          "metadata": {
            "tags": null
          },
          "name": "stderr",
          "output_type": "stream",
          "text": [
            "WARNING:gensim.models.ldamodel:updated prior is not positive\n"
          ]
        },
        {
          "metadata": {
            "tags": null
          },
          "name": "stdout",
          "output_type": "stream",
          "text": [
            "Num Topics: 3, Chunksize: 1000, Passes: 200, Iterations: 200, Perplexity: -7.3992, Coherence: 0.7187 ,Alpha: [0.3456929  0.49517047 0.7702018 ], Eta: [ 0.42914474  0.23043905 14.865652   ...  0.24501234  0.2590482\n",
            "  0.24501234]\n",
            "Num Topics: 3, Chunksize: 1000, Passes: 260, Iterations: 50, Perplexity: -7.3893, Coherence: 0.7180 ,Alpha: [0.2826433  0.25768876 0.5278554 ], Eta: [ 0.47046465  0.23304042 18.138014   ...  0.2467895   0.26108998\n",
            "  0.2467895 ]\n"
          ]
        },
        {
          "metadata": {
            "tags": null
          },
          "name": "stderr",
          "output_type": "stream",
          "text": [
            "WARNING:gensim.models.ldamodel:updated prior is not positive\n"
          ]
        },
        {
          "metadata": {
            "tags": null
          },
          "name": "stdout",
          "output_type": "stream",
          "text": [
            "Num Topics: 3, Chunksize: 1000, Passes: 260, Iterations: 100, Perplexity: -7.3987, Coherence: 0.7016 ,Alpha: [0.26054955 0.47626242 0.6743412 ], Eta: [ 0.44410232  0.23190142 13.704338   ...  0.24420162  0.2582258\n",
            "  0.24420162]\n"
          ]
        },
        {
          "metadata": {
            "tags": null
          },
          "name": "stderr",
          "output_type": "stream",
          "text": [
            "WARNING:gensim.models.ldamodel:updated prior is not positive\n"
          ]
        },
        {
          "metadata": {
            "tags": null
          },
          "name": "stdout",
          "output_type": "stream",
          "text": [
            "Num Topics: 3, Chunksize: 1000, Passes: 260, Iterations: 200, Perplexity: -7.3957, Coherence: 0.7187 ,Alpha: [0.3229351 0.4488593 0.7143051], Eta: [ 0.43790802  0.2311096  15.323586   ...  0.24409957  0.25808904\n",
            "  0.24409957]\n",
            "Num Topics: 4, Chunksize: 1000, Passes: 100, Iterations: 50, Perplexity: -7.4484, Coherence: 0.6398 ,Alpha: [0.6524559 1.0022848 1.9364842 0.4078536], Eta: [0.23773521 0.1798039  1.456278   ... 0.1862387  0.19230141 0.1862387 ]\n",
            "Num Topics: 4, Chunksize: 1000, Passes: 100, Iterations: 100, Perplexity: -7.4559, Coherence: 0.6443 ,Alpha: [0.68832505 1.1395856  2.2183847  0.44178584], Eta: [0.23799162 0.18065608 0.52788866 ... 0.18581063 0.19193023 0.18581063]\n",
            "Num Topics: 4, Chunksize: 1000, Passes: 100, Iterations: 200, Perplexity: -7.4636, Coherence: 0.6337 ,Alpha: [0.68714494 1.3898851  2.2622533  0.46467066], Eta: [0.23831916 0.18103419 0.5217026  ... 0.18640174 0.19251344 0.18640174]\n",
            "Num Topics: 4, Chunksize: 1000, Passes: 200, Iterations: 50, Perplexity: -7.4397, Coherence: 0.6435 ,Alpha: [0.6369611  0.98068607 1.8821265  0.39125195], Eta: [0.23767187 0.18015872 1.4766893  ... 0.18578324 0.19189052 0.18578324]\n",
            "Num Topics: 4, Chunksize: 1000, Passes: 200, Iterations: 100, Perplexity: -7.4459, Coherence: 0.6435 ,Alpha: [0.669714  1.0854726 2.1342912 0.4118758], Eta: [0.23790973 0.18087572 0.527246   ... 0.18551429 0.19166249 0.18551429]\n",
            "Num Topics: 4, Chunksize: 1000, Passes: 200, Iterations: 200, Perplexity: -7.4551, Coherence: 0.6324 ,Alpha: [0.6804389 1.3522158 2.2373035 0.4558831], Eta: [0.2380542  0.1812235  0.52047205 ... 0.18592557 0.19206882 0.18592557]\n",
            "Num Topics: 4, Chunksize: 1000, Passes: 260, Iterations: 50, Perplexity: -7.4373, Coherence: 0.6435 ,Alpha: [0.6295407  0.97413355 1.8638525  0.38168824], Eta: [0.23772709 0.18029241 1.4886148  ... 0.18572368 0.19184443 0.18572368]\n",
            "Num Topics: 4, Chunksize: 1000, Passes: 260, Iterations: 100, Perplexity: -7.4433, Coherence: 0.6435 ,Alpha: [0.657677  1.0754591 2.1104193 0.4049809], Eta: [0.2379581  0.18096977 0.5272007  ... 0.18545333 0.1916099  0.18545333]\n",
            "Num Topics: 4, Chunksize: 1000, Passes: 260, Iterations: 200, Perplexity: -7.4527, Coherence: 0.6336 ,Alpha: [0.6732858  1.3428956  2.2258444  0.45253512], Eta: [0.23805965 0.18128166 0.5203503  ... 0.18581378 0.19196539 0.18581378]\n",
            "Num Topics: 5, Chunksize: 1000, Passes: 100, Iterations: 50, Perplexity: -7.4775, Coherence: 0.5472 ,Alpha: [1.0428364  0.39147124 0.74967456 0.5735592  3.8749855 ], Eta: [0.18628854 0.1555986  0.29074374 ... 0.1570924  0.16075887 0.1570924 ]\n",
            "Num Topics: 5, Chunksize: 1000, Passes: 100, Iterations: 100, Perplexity: -7.4825, Coherence: 0.5542 ,Alpha: [1.2158257  0.4467404  0.79555184 0.4799704  4.436417  ], Eta: [0.1873561  0.15627135 0.28666285 ... 0.15814713 0.161842   0.15814713]\n",
            "Num Topics: 5, Chunksize: 1000, Passes: 100, Iterations: 200, Perplexity: -7.4834, Coherence: 0.5127 ,Alpha: [1.2510998  0.4367851  0.78130186 0.485008   4.475412  ], Eta: [0.18747912 0.15634693 0.2940925  ... 0.15773357 0.161448   0.15773357]\n",
            "Num Topics: 5, Chunksize: 1000, Passes: 200, Iterations: 50, Perplexity: -7.4702, Coherence: 0.5432 ,Alpha: [1.0398806  0.38683286 0.7457152  0.56907135 3.850787  ], Eta: [0.18625855 0.15577891 0.2909116  ... 0.15722786 0.16088994 0.15722786]\n",
            "Num Topics: 5, Chunksize: 1000, Passes: 200, Iterations: 100, Perplexity: -7.4752, Coherence: 0.5555 ,Alpha: [1.2087151  0.44301617 0.79094887 0.4743456  4.412108  ], Eta: [0.1873708  0.15652066 0.28728476 ... 0.15827961 0.16197631 0.15827961]\n",
            "Num Topics: 5, Chunksize: 1000, Passes: 200, Iterations: 200, Perplexity: -7.4759, Coherence: 0.5167 ,Alpha: [1.2443253  0.43028063 0.7748331  0.47748134 4.4156456 ], Eta: [0.18744802 0.15655954 0.29515305 ... 0.157909   0.16161492 0.157909  ]\n",
            "Num Topics: 5, Chunksize: 1000, Passes: 260, Iterations: 50, Perplexity: -7.4683, Coherence: 0.5527 ,Alpha: [1.0349118  0.38567102 0.7449953  0.5676332  3.8402338 ], Eta: [0.18624017 0.1558098  0.2909047  ... 0.15725362 0.1609143  0.15725362]\n",
            "Num Topics: 5, Chunksize: 1000, Passes: 260, Iterations: 100, Perplexity: -7.4733, Coherence: 0.5555 ,Alpha: [1.2049534  0.44274563 0.7898091  0.47307026 4.406625  ], Eta: [0.18735878 0.15656282 0.28748843 ... 0.15830025 0.16199675 0.15830025]\n",
            "Num Topics: 5, Chunksize: 1000, Passes: 260, Iterations: 200, Perplexity: -7.4741, Coherence: 0.5166 ,Alpha: [1.2433299  0.42942557 0.774538   0.47583535 4.4059334 ], Eta: [0.18743533 0.15660316 0.29523772 ... 0.15794924 0.16165297 0.15794924]\n",
            "Num Topics: 6, Chunksize: 1000, Passes: 100, Iterations: 50, Perplexity: -7.4972, Coherence: 0.5569 ,Alpha: [0.4113299  0.4021361  0.8398857  0.62128663 4.007669   2.1058679 ], Eta: [0.15300198 0.13470855 0.20964023 ... 0.13615415 0.13846199 0.13615415]\n",
            "Num Topics: 6, Chunksize: 1000, Passes: 100, Iterations: 100, Perplexity: -7.5051, Coherence: 0.4967 ,Alpha: [0.6686082  0.5398796  0.84645194 0.5195292  5.0295057  1.698515  ], Eta: [0.15275235 0.13459215 0.19991148 ... 0.13583218 0.13813984 0.13583218]\n",
            "Num Topics: 6, Chunksize: 1000, Passes: 100, Iterations: 200, Perplexity: -7.5040, Coherence: 0.4795 ,Alpha: [0.76740366 0.54263514 0.86550134 0.4934258  5.048643   1.6480368 ], Eta: [0.15247005 0.1345165  0.20932898 ... 0.13568038 0.13797587 0.13568038]\n",
            "Num Topics: 6, Chunksize: 1000, Passes: 200, Iterations: 50, Perplexity: -7.4899, Coherence: 0.5654 ,Alpha: [0.41174743 0.40090224 0.84090966 0.6171651  4.053002   2.0710168 ], Eta: [0.15305199 0.13495809 0.20933409 ... 0.13627526 0.13858405 0.13627526]\n",
            "Num Topics: 6, Chunksize: 1000, Passes: 200, Iterations: 100, Perplexity: -7.4978, Coherence: 0.5108 ,Alpha: [0.6675624  0.53609735 0.84797716 0.5148615  5.0080295  1.7002746 ], Eta: [0.15276696 0.13479564 0.15660052 ... 0.13594396 0.13824864 0.13594396]\n",
            "Num Topics: 6, Chunksize: 1000, Passes: 200, Iterations: 200, Perplexity: -7.4968, Coherence: 0.4862 ,Alpha: [0.776353   0.53958684 0.8567736  0.49040464 5.0300455  1.6523256 ], Eta: [0.152473   0.13467571 0.20961678 ... 0.13577603 0.13806976 0.13577603]\n",
            "Num Topics: 6, Chunksize: 1000, Passes: 260, Iterations: 50, Perplexity: -7.4881, Coherence: 0.5499 ,Alpha: [0.41183183 0.40066808 0.8410745  0.6159653  4.0614524  2.0640967 ], Eta: [0.1530575  0.13501066 0.20919107 ... 0.13629939 0.1386081  0.13629939]\n",
            "Num Topics: 6, Chunksize: 1000, Passes: 260, Iterations: 100, Perplexity: -7.4959, Coherence: 0.5113 ,Alpha: [0.6671635  0.5342775  0.84733945 0.51502115 5.000782   1.7007142 ], Eta: [0.15276657 0.13483867 0.15658979 ... 0.13596816 0.13827197 0.13596816]\n",
            "Num Topics: 6, Chunksize: 1000, Passes: 260, Iterations: 200, Perplexity: -7.4950, Coherence: 0.4825 ,Alpha: [0.7864102  0.53811663 0.8552421  0.48942012 5.0184984  1.6538055 ], Eta: [0.15244211 0.1346707  0.20983903 ... 0.1357761  0.13806844 0.1357761 ]\n",
            "Num Topics: 7, Chunksize: 1000, Passes: 100, Iterations: 50, Perplexity: -7.5018, Coherence: 0.5076 ,Alpha: [0.45331228 0.34416896 1.0905905  0.4334975  3.9335017  1.7964826\n",
            " 0.72407305], Eta: [0.12970719 0.11806514 0.16541836 ... 0.11892044 0.12046731 0.11892044]\n",
            "Num Topics: 7, Chunksize: 1000, Passes: 100, Iterations: 100, Perplexity: -7.5148, Coherence: 0.4714 ,Alpha: [0.6372716  0.45401517 1.2928007  0.57692707 6.081796   1.2347873\n",
            " 0.68723834], Eta: [0.16329989 0.11873041 0.1661447  ... 0.11976496 0.12132496 0.11976496]\n",
            "Num Topics: 7, Chunksize: 1000, Passes: 100, Iterations: 200, Perplexity: -7.5183, Coherence: 0.4268 ,Alpha: [0.69935673 0.5546124  1.3141025  0.56617266 6.0776486  1.343139\n",
            " 0.6668654 ], Eta: [0.16440406 0.11845652 0.16419247 ... 0.1193807  0.12093758 0.1193807 ]\n",
            "Num Topics: 7, Chunksize: 1000, Passes: 200, Iterations: 50, Perplexity: -7.4948, Coherence: 0.5042 ,Alpha: [0.45544204 0.34330958 1.0867665  0.43256643 3.9599552  1.7855343\n",
            " 0.7181032 ], Eta: [0.12974337 0.11826358 0.16553201 ... 0.11904945 0.1205888  0.11904945]\n",
            "Num Topics: 7, Chunksize: 1000, Passes: 200, Iterations: 100, Perplexity: -7.5075, Coherence: 0.4813 ,Alpha: [0.639101  0.4523431 1.2788459 0.5750904 6.0842366 1.2496451 0.6837698], Eta: [0.1618054  0.11892539 0.16618411 ... 0.11986224 0.1214171  0.11986224]\n",
            "Num Topics: 7, Chunksize: 1000, Passes: 200, Iterations: 200, Perplexity: -7.5110, Coherence: 0.4306 ,Alpha: [0.6980172 0.5513873 1.292411  0.5627798 6.0664105 1.352078  0.6622351], Eta: [0.16213618 0.11867318 0.1638114  ... 0.11950532 0.12105519 0.11950532]\n",
            "Num Topics: 7, Chunksize: 1000, Passes: 260, Iterations: 50, Perplexity: -7.4930, Coherence: 0.5042 ,Alpha: [0.45601994 0.34301582 1.0865742  0.4321867  3.9653916  1.7824309\n",
            " 0.71647704], Eta: [0.12974815 0.1183068  0.16555963 ... 0.11907773 0.12061527 0.11907773]\n",
            "Num Topics: 7, Chunksize: 1000, Passes: 260, Iterations: 100, Perplexity: -7.5057, Coherence: 0.4844 ,Alpha: [0.6395423  0.45165035 1.2765144  0.5743745  6.0823255  1.2504601\n",
            " 0.6822814 ], Eta: [0.16156434 0.11897172 0.16623676 ... 0.11988614 0.12143974 0.11988614]\n",
            "Num Topics: 7, Chunksize: 1000, Passes: 260, Iterations: 200, Perplexity: -7.5092, Coherence: 0.4278 ,Alpha: [0.6981035  0.55036324 1.2897742  0.56203234 6.0620003  1.353921\n",
            " 0.66078204], Eta: [0.16196775 0.11871792 0.16383503 ... 0.11953284 0.12108101 0.11953284]\n",
            "Num Topics: 8, Chunksize: 1000, Passes: 100, Iterations: 50, Perplexity: -7.5203, Coherence: 0.5772 ,Alpha: [0.35093352 0.24710956 1.0270082  0.46776837 3.3990717  2.158129\n",
            " 0.77869433 0.29120427], Eta: [0.11517721 0.10688253 0.1399735  ... 0.10760225 0.1087224  0.10760225]\n",
            "Num Topics: 8, Chunksize: 1000, Passes: 100, Iterations: 100, Perplexity: -7.5365, Coherence: 0.5300 ,Alpha: [0.48176655 0.30907777 1.1268071  0.48333585 4.8638277  1.7171702\n",
            " 0.7293114  0.35770276], Eta: [0.11531838 0.10701302 0.11692305 ... 0.10773312 0.10885548 0.10773312]\n",
            "Num Topics: 8, Chunksize: 1000, Passes: 100, Iterations: 200, Perplexity: -7.5394, Coherence: 0.5265 ,Alpha: [0.621182   0.38008296 1.2749792  0.4643902  4.893087   1.6744908\n",
            " 0.7449468  0.3674206 ], Eta: [0.11464967 0.10644342 0.11623774 ... 0.10713426 0.10824519 0.10713426]\n",
            "Num Topics: 8, Chunksize: 1000, Passes: 200, Iterations: 50, Perplexity: -7.4996, Coherence: 0.5816 ,Alpha: [0.34482968 0.24282457 0.98128253 0.45811662 3.407501   2.0807211\n",
            " 0.7618197  0.28675282], Eta: [0.11522691 0.10706823 0.14047942 ... 0.10772332 0.10883623 0.10772332]\n",
            "Num Topics: 8, Chunksize: 1000, Passes: 200, Iterations: 100, Perplexity: -7.5093, Coherence: 0.5312 ,Alpha: [0.47072643 0.30178115 1.1106243  0.46934578 4.7416787  1.6690542\n",
            " 0.70873237 0.35000092], Eta: [0.11532436 0.10716077 0.1169145  ... 0.10781622 0.10893068 0.10781622]\n",
            "Num Topics: 8, Chunksize: 1000, Passes: 200, Iterations: 200, Perplexity: -7.5118, Coherence: 0.5143 ,Alpha: [0.6109453  0.37096483 1.2231277  0.45255855 4.785372   1.6461521\n",
            " 0.72485185 0.35947713], Eta: [0.11467016 0.10660027 0.11624329 ... 0.10723174 0.10833481 0.10723174]\n",
            "Num Topics: 8, Chunksize: 1000, Passes: 260, Iterations: 50, Perplexity: -7.4970, Coherence: 0.5816 ,Alpha: [0.34448838 0.24258834 0.9787552  0.45774502 3.4248986  2.068599\n",
            " 0.75967616 0.28663072], Eta: [0.11523635 0.10711076 0.14052716 ... 0.10775092 0.10886209 0.10775092]\n",
            "Num Topics: 8, Chunksize: 1000, Passes: 260, Iterations: 100, Perplexity: -7.5058, Coherence: 0.5331 ,Alpha: [0.46952075 0.30105475 1.1099339  0.46755177 4.7339272  1.6644506\n",
            " 0.706181   0.34921438], Eta: [0.1153277  0.10719786 0.1169144  ... 0.10783839 0.10895108 0.10783839]\n",
            "Num Topics: 8, Chunksize: 1000, Passes: 260, Iterations: 200, Perplexity: -7.5083, Coherence: 0.5211 ,Alpha: [0.6112256  0.37024274 1.2165766  0.4513236  4.788331   1.6452385\n",
            " 0.72259986 0.3589405 ], Eta: [0.11468058 0.10664272 0.11625036 ... 0.10726057 0.10836191 0.10726057]\n",
            "Num Topics: 9, Chunksize: 1000, Passes: 100, Iterations: 50, Perplexity: -7.6581, Coherence: 0.4863 ,Alpha: [0.6797872  0.60151565 0.8621708  0.45770052 6.643036   1.660421\n",
            " 0.7162457  0.3830993  0.67055476], Eta: [0.10265098 0.09043033 0.10377091 ... 0.09721977 0.09803808 0.09721977]\n",
            "Num Topics: 9, Chunksize: 1000, Passes: 100, Iterations: 100, Perplexity: -7.6655, Coherence: 0.4902 ,Alpha: [0.61098    0.5202672  0.93184996 0.46490678 6.7229104  1.9087898\n",
            " 1.0497024  0.39337397 0.6113519 ], Eta: [0.10267457 0.09032366 0.10385346 ... 0.0972401  0.09805883 0.0972401 ]\n",
            "Num Topics: 9, Chunksize: 1000, Passes: 100, Iterations: 200, Perplexity: -7.6650, Coherence: 0.5195 ,Alpha: [0.69862    0.5660892  0.8616359  0.28058717 6.334      2.0712943\n",
            " 1.1695017  0.42665687 0.6256763 ], Eta: [0.10266168 0.09030981 0.11884751 ... 0.0972308  0.09804949 0.0972308 ]\n",
            "Num Topics: 9, Chunksize: 1000, Passes: 200, Iterations: 50, Perplexity: -7.6161, Coherence: 0.4961 ,Alpha: [0.6526935  0.5802269  0.83370966 0.4401977  6.3324275  1.6009995\n",
            " 0.6858257  0.3706604  0.646595  ], Eta: [0.10259815 0.09095757 0.10370653 ... 0.09723378 0.09804443 0.09723378]\n",
            "Num Topics: 9, Chunksize: 1000, Passes: 200, Iterations: 100, Perplexity: -7.6251, Coherence: 0.4938 ,Alpha: [0.58755183 0.5048653  0.89844865 0.44769156 6.4161806  1.847577\n",
            " 0.9836814  0.38059294 0.5904626 ], Eta: [0.1026321  0.0908155  0.10374095 ... 0.09726362 0.09807482 0.09726362]\n",
            "Num Topics: 9, Chunksize: 1000, Passes: 200, Iterations: 200, Perplexity: -7.6263, Coherence: 0.5182 ,Alpha: [0.6760449  0.54782254 0.8320915  0.2717595  6.05106    2.0177763\n",
            " 1.1160976  0.41354787 0.60637665], Eta: [0.10261815 0.09083667 0.10372709 ... 0.09725277 0.09806392 0.09725277]\n",
            "Num Topics: 9, Chunksize: 1000, Passes: 260, Iterations: 50, Perplexity: -7.6031, Coherence: 0.4959 ,Alpha: [0.6451953  0.57391554 0.8258017  0.43566915 6.2442026  1.5836238\n",
            " 0.6772579  0.36698043 0.63997954], Eta: [0.10257809 0.09143494 0.10368355 ... 0.09723083 0.0980396  0.09723083]\n",
            "Num Topics: 9, Chunksize: 1000, Passes: 260, Iterations: 100, Perplexity: -7.6130, Coherence: 0.4944 ,Alpha: [0.58164006 0.5005256  0.8894278  0.44325984 6.333076   1.829846\n",
            " 0.9686292  0.37707895 0.58459973], Eta: [0.10261468 0.09141421 0.10372076 ... 0.09726313 0.09807247 0.09726313]\n",
            "Num Topics: 9, Chunksize: 1000, Passes: 260, Iterations: 200, Perplexity: -7.6136, Coherence: 0.5160 ,Alpha: [0.6686819  0.54268926 0.82240534 0.26890957 5.965855   1.990169\n",
            " 1.0998193  0.40923035 0.6001242 ], Eta: [0.10260274 0.093039   0.10370894 ... 0.09725395 0.0980633  0.09725395]\n"
          ]
        },
        {
          "metadata": {
            "tags": null
          },
          "name": "stderr",
          "output_type": "stream",
          "text": [
            "WARNING:gensim.models.ldamodel:updated prior is not positive\n",
            "WARNING:gensim.models.ldamodel:updated prior is not positive\n"
          ]
        },
        {
          "metadata": {
            "tags": null
          },
          "name": "stdout",
          "output_type": "stream",
          "text": [
            "Num Topics: 2, Chunksize: 1000, Passes: 100, Iterations: 50, Perplexity: -7.3809, Coherence: 0.7096 ,Alpha: [0.504172   0.63329035], Eta: [16.496292    0.36603287 40.947754   ...  0.39976043  0.4544376\n",
            "  0.39976043]\n"
          ]
        },
        {
          "metadata": {
            "tags": null
          },
          "name": "stderr",
          "output_type": "stream",
          "text": [
            "WARNING:gensim.models.ldamodel:updated prior is not positive\n",
            "WARNING:gensim.models.ldamodel:updated prior is not positive\n"
          ]
        },
        {
          "metadata": {
            "tags": null
          },
          "name": "stdout",
          "output_type": "stream",
          "text": [
            "Num Topics: 2, Chunksize: 1000, Passes: 100, Iterations: 100, Perplexity: -7.3810, Coherence: 0.7096 ,Alpha: [0.52619016 0.6385469 ], Eta: [16.531837    0.3684294  40.76031    ...  0.40021408  0.45508114\n",
            "  0.40021408]\n"
          ]
        },
        {
          "metadata": {
            "tags": null
          },
          "name": "stderr",
          "output_type": "stream",
          "text": [
            "WARNING:gensim.models.ldamodel:updated prior is not positive\n",
            "WARNING:gensim.models.ldamodel:updated prior is not positive\n"
          ]
        },
        {
          "metadata": {
            "tags": null
          },
          "name": "stdout",
          "output_type": "stream",
          "text": [
            "Num Topics: 2, Chunksize: 1000, Passes: 100, Iterations: 200, Perplexity: -7.3811, Coherence: 0.7096 ,Alpha: [0.53882617 0.6417816 ], Eta: [16.51927     0.36980143 40.62428    ...  0.40029734  0.45522112\n",
            "  0.40029734]\n"
          ]
        },
        {
          "metadata": {
            "tags": null
          },
          "name": "stderr",
          "output_type": "stream",
          "text": [
            "WARNING:gensim.models.ldamodel:updated prior is not positive\n",
            "WARNING:gensim.models.ldamodel:updated prior is not positive\n"
          ]
        },
        {
          "metadata": {
            "tags": null
          },
          "name": "stdout",
          "output_type": "stream",
          "text": [
            "Num Topics: 2, Chunksize: 1000, Passes: 200, Iterations: 50, Perplexity: -7.3576, Coherence: 0.6974 ,Alpha: [0.12711121 0.13243699], Eta: [21.01609     0.3885099  52.151264   ...  0.41524607  0.4719785\n",
            "  0.41524607]\n"
          ]
        },
        {
          "metadata": {
            "tags": null
          },
          "name": "stderr",
          "output_type": "stream",
          "text": [
            "WARNING:gensim.models.ldamodel:updated prior is not positive\n",
            "WARNING:gensim.models.ldamodel:updated prior is not positive\n"
          ]
        },
        {
          "metadata": {
            "tags": null
          },
          "name": "stdout",
          "output_type": "stream",
          "text": [
            "Num Topics: 2, Chunksize: 1000, Passes: 200, Iterations: 100, Perplexity: -7.3571, Coherence: 0.7009 ,Alpha: [0.1234251 0.1277058], Eta: [21.093594    0.38900495 52.374767   ...  0.4158004   0.47267225\n",
            "  0.4158004 ]\n"
          ]
        },
        {
          "metadata": {
            "tags": null
          },
          "name": "stderr",
          "output_type": "stream",
          "text": [
            "WARNING:gensim.models.ldamodel:updated prior is not positive\n",
            "WARNING:gensim.models.ldamodel:updated prior is not positive\n"
          ]
        },
        {
          "metadata": {
            "tags": null
          },
          "name": "stdout",
          "output_type": "stream",
          "text": [
            "Num Topics: 2, Chunksize: 1000, Passes: 200, Iterations: 200, Perplexity: -7.3570, Coherence: 0.7009 ,Alpha: [0.12360067 0.12751362], Eta: [21.089436    0.38899842 52.371807   ...  0.41579202  0.47266206\n",
            "  0.41579202]\n"
          ]
        },
        {
          "metadata": {
            "tags": null
          },
          "name": "stderr",
          "output_type": "stream",
          "text": [
            "WARNING:gensim.models.ldamodel:updated prior is not positive\n",
            "WARNING:gensim.models.ldamodel:updated prior is not positive\n"
          ]
        },
        {
          "metadata": {
            "tags": null
          },
          "name": "stdout",
          "output_type": "stream",
          "text": [
            "Num Topics: 2, Chunksize: 1000, Passes: 260, Iterations: 50, Perplexity: -7.3537, Coherence: 0.7009 ,Alpha: [0.11100089 0.11344285], Eta: [21.58756     0.3933218  53.583214   ...  0.42008772  0.4780507\n",
            "  0.42008772]\n"
          ]
        },
        {
          "metadata": {
            "tags": null
          },
          "name": "stderr",
          "output_type": "stream",
          "text": [
            "WARNING:gensim.models.ldamodel:updated prior is not positive\n",
            "WARNING:gensim.models.ldamodel:updated prior is not positive\n"
          ]
        },
        {
          "metadata": {
            "tags": null
          },
          "name": "stdout",
          "output_type": "stream",
          "text": [
            "Num Topics: 2, Chunksize: 1000, Passes: 260, Iterations: 100, Perplexity: -7.3531, Coherence: 0.7009 ,Alpha: [0.10789904 0.10995823], Eta: [21.661621    0.39380702 53.778748   ...  0.42063138  0.47873172\n",
            "  0.42063138]\n"
          ]
        },
        {
          "metadata": {
            "tags": null
          },
          "name": "stderr",
          "output_type": "stream",
          "text": [
            "WARNING:gensim.models.ldamodel:updated prior is not positive\n",
            "WARNING:gensim.models.ldamodel:updated prior is not positive\n"
          ]
        },
        {
          "metadata": {
            "tags": null
          },
          "name": "stdout",
          "output_type": "stream",
          "text": [
            "Num Topics: 2, Chunksize: 1000, Passes: 260, Iterations: 200, Perplexity: -7.3531, Coherence: 0.7009 ,Alpha: [0.10770739 0.10925246], Eta: [21.658613    0.3938412  53.788124   ...  0.42066815  0.47877812\n",
            "  0.42066815]\n",
            "Num Topics: 3, Chunksize: 1000, Passes: 100, Iterations: 50, Perplexity: -7.3899, Coherence: 0.6966 ,Alpha: [0.8561214  0.36074147 0.1793657 ], Eta: [0.43466634 0.239253   1.786537   ... 0.23937668 0.25310615 0.23937668]\n",
            "Num Topics: 3, Chunksize: 1000, Passes: 100, Iterations: 100, Perplexity: -7.3917, Coherence: 0.6649 ,Alpha: [0.9505571  0.3422705  0.15719049], Eta: [0.42108423 0.23209642 1.7157158  ... 0.23976369 0.2535442  0.23976369]\n",
            "Num Topics: 3, Chunksize: 1000, Passes: 100, Iterations: 200, Perplexity: -7.3951, Coherence: 0.6192 ,Alpha: [1.0479512  0.3751055  0.14917263], Eta: [0.41521192 0.23115918 1.6665877  ... 0.23867    0.2523316  0.23867   ]\n",
            "Num Topics: 3, Chunksize: 1000, Passes: 200, Iterations: 50, Perplexity: -7.3791, Coherence: 0.6943 ,Alpha: [0.7422251  0.29859892 0.15776516], Eta: [0.451724   0.2436599  1.8902215  ... 0.24327238 0.2573809  0.24327238]\n",
            "Num Topics: 3, Chunksize: 1000, Passes: 200, Iterations: 100, Perplexity: -7.3820, Coherence: 0.6931 ,Alpha: [0.824627   0.29037458 0.14157857], Eta: [0.43105727 0.23490877 1.7839957  ... 0.24220666 0.256202   0.24220666]\n",
            "Num Topics: 3, Chunksize: 1000, Passes: 200, Iterations: 200, Perplexity: -7.3855, Coherence: 0.6306 ,Alpha: [0.92011166 0.31761602 0.13611081], Eta: [0.42188284 0.23376985 1.7215093  ... 0.24094178 0.25479904 0.24094178]\n",
            "Num Topics: 3, Chunksize: 1000, Passes: 260, Iterations: 50, Perplexity: -7.3749, Coherence: 0.6943 ,Alpha: [0.66075134 0.26344293 0.14635652], Eta: [0.46838942 0.24544808 1.9604462  ... 0.24497148 0.2592556  0.24497148]\n",
            "Num Topics: 3, Chunksize: 1000, Passes: 260, Iterations: 100, Perplexity: -7.3784, Coherence: 0.6913 ,Alpha: [0.76857823 0.27334553 0.13589746], Eta: [0.43776318 0.23625034 1.8292261  ... 0.24350064 0.25762534 0.24350064]\n",
            "Num Topics: 3, Chunksize: 1000, Passes: 260, Iterations: 200, Perplexity: -7.3821, Coherence: 0.6617 ,Alpha: [0.86123645 0.29694298 0.13101903], Eta: [0.42655438 0.23487595 1.7559538  ... 0.24200214 0.2559625  0.24200214]\n",
            "Num Topics: 4, Chunksize: 1000, Passes: 100, Iterations: 50, Perplexity: -7.4328, Coherence: 0.6259 ,Alpha: [1.5459558  0.9910519  0.26142207 0.67792845], Eta: [0.37491554 0.18060167 0.47533745 ... 0.18253522 0.18868782 0.18253522]\n",
            "Num Topics: 4, Chunksize: 1000, Passes: 100, Iterations: 100, Perplexity: -7.4406, Coherence: 0.6238 ,Alpha: [1.7106441  0.9404132  0.23541841 0.8627824 ], Eta: [0.2406091  0.18030405 0.4787754  ... 0.18411937 0.19029851 0.18411937]\n",
            "Num Topics: 4, Chunksize: 1000, Passes: 100, Iterations: 200, Perplexity: -7.4510, Coherence: 0.5836 ,Alpha: [2.1900768  0.9457908  0.25058904 0.7206399 ], Eta: [0.24224393 0.18320104 0.47827232 ... 0.190162   0.19640033 0.190162  ]\n",
            "Num Topics: 4, Chunksize: 1000, Passes: 200, Iterations: 50, Perplexity: -7.4236, Coherence: 0.6220 ,Alpha: [1.5058527  0.9465464  0.24782819 0.6402942 ], Eta: [0.37276632 0.18100367 0.47590294 ... 0.18290101 0.18905075 0.18290101]\n",
            "Num Topics: 4, Chunksize: 1000, Passes: 200, Iterations: 100, Perplexity: -7.4317, Coherence: 0.6270 ,Alpha: [1.6836343 0.9027815 0.2234415 0.8309582], Eta: [0.24061708 0.18078929 0.478134   ... 0.18421727 0.1904029  0.18421727]\n",
            "Num Topics: 4, Chunksize: 1000, Passes: 200, Iterations: 200, Perplexity: -7.4430, Coherence: 0.5897 ,Alpha: [2.155818   0.92770916 0.24269284 0.6967446 ], Eta: [0.24230026 0.18355542 0.4799377  ... 0.18965639 0.19595863 0.18965639]\n",
            "Num Topics: 4, Chunksize: 1000, Passes: 260, Iterations: 50, Perplexity: -7.4214, Coherence: 0.6220 ,Alpha: [1.4962248  0.9358778  0.24359955 0.63035107], Eta: [0.37830254 0.18111056 0.47616747 ... 0.18300787 0.18915792 0.18300787]\n",
            "Num Topics: 4, Chunksize: 1000, Passes: 260, Iterations: 100, Perplexity: -7.4297, Coherence: 0.6272 ,Alpha: [1.6790235  0.8944368  0.22044389 0.8239941 ], Eta: [0.24063814 0.18090159 0.47817135 ... 0.1834523  0.18962908 0.1834523 ]\n",
            "Num Topics: 4, Chunksize: 1000, Passes: 260, Iterations: 200, Perplexity: -7.4400, Coherence: 0.5822 ,Alpha: [2.137023   0.9214745  0.23792036 0.68418777], Eta: [0.24236017 0.18365276 0.4804025  ... 0.18955475 0.19587353 0.18955475]\n",
            "Num Topics: 5, Chunksize: 1000, Passes: 100, Iterations: 50, Perplexity: -7.4773, Coherence: 0.6372 ,Alpha: [2.6443307  1.0508922  0.33180386 0.9002487  0.958236  ], Eta: [0.1816101  0.15440837 0.2787673  ... 0.15384902 0.1573669  0.15384902]\n",
            "Num Topics: 5, Chunksize: 1000, Passes: 100, Iterations: 100, Perplexity: -7.4909, Coherence: 0.6125 ,Alpha: [3.1745815  1.1938986  0.39434102 0.7377248  1.1601434 ], Eta: [0.18391572 0.15537766 0.28598714 ... 0.15547022 0.15905097 0.15547022]\n",
            "Num Topics: 5, Chunksize: 1000, Passes: 100, Iterations: 200, Perplexity: -7.4936, Coherence: 0.5909 ,Alpha: [3.4276385  1.1746169  0.38982543 0.5671968  1.1463346 ], Eta: [0.1865292  0.15591373 0.2916859  ... 0.15725262 0.1609224  0.15725262]\n",
            "Num Topics: 5, Chunksize: 1000, Passes: 200, Iterations: 50, Perplexity: -7.4697, Coherence: 0.6284 ,Alpha: [2.6676135  1.0508523  0.3310339  0.92295206 0.9198597 ], Eta: [0.18162403 0.15428628 0.27938423 ... 0.15400665 0.15752287 0.15400665]\n",
            "Num Topics: 5, Chunksize: 1000, Passes: 200, Iterations: 100, Perplexity: -7.4836, Coherence: 0.6267 ,Alpha: [3.2070224  1.1881369  0.39273584 0.7368152  1.1208849 ], Eta: [0.18402731 0.15542439 0.28635773 ... 0.15567221 0.15925704 0.15567221]\n",
            "Num Topics: 5, Chunksize: 1000, Passes: 200, Iterations: 200, Perplexity: -7.4865, Coherence: 0.5850 ,Alpha: [3.4607763  1.1755702  0.38876048 0.5651     1.1152878 ], Eta: [0.186622   0.15616809 0.2920708  ... 0.15745293 0.16112423 0.15745293]\n",
            "Num Topics: 5, Chunksize: 1000, Passes: 260, Iterations: 50, Perplexity: -7.4678, Coherence: 0.6312 ,Alpha: [2.6694267  1.0508398  0.3311649  0.93169874 0.9146063 ], Eta: [0.18159415 0.15421319 0.2794347  ... 0.1540189  0.1575335  0.1540189 ]\n",
            "Num Topics: 5, Chunksize: 1000, Passes: 260, Iterations: 100, Perplexity: -7.4817, Coherence: 0.6254 ,Alpha: [3.2180123  1.1851333  0.39249283 0.73657393 1.111757  ], Eta: [0.18406305 0.155431   0.28637084 ... 0.15573132 0.15931721 0.15573132]\n",
            "Num Topics: 5, Chunksize: 1000, Passes: 260, Iterations: 200, Perplexity: -7.4846, Coherence: 0.5850 ,Alpha: [3.4671538  1.1738776  0.38850558 0.5644218  1.1093094 ], Eta: [0.18663219 0.15621307 0.2920999  ... 0.15749158 0.16116272 0.15749158]\n",
            "Num Topics: 6, Chunksize: 1000, Passes: 100, Iterations: 50, Perplexity: -7.4972, Coherence: 0.5787 ,Alpha: [3.4867103  1.3847979  0.3697721  0.87128127 0.684995   0.6424683 ], Eta: [0.15111649 0.13318233 0.20709    ... 0.13473438 0.13698441 0.13473438]\n",
            "Num Topics: 6, Chunksize: 1000, Passes: 100, Iterations: 100, Perplexity: -7.5038, Coherence: 0.5814 ,Alpha: [3.547921   1.428589   0.38626486 1.3915101  0.86793655 0.61738   ], Eta: [0.15031685 0.13293351 0.15413268 ... 0.13369039 0.13594677 0.13369039]\n",
            "Num Topics: 6, Chunksize: 1000, Passes: 100, Iterations: 200, Perplexity: -7.5102, Coherence: 0.5901 ,Alpha: [4.091157   1.6064221  0.41948348 1.0118934  0.9957081  0.58606607], Eta: [0.15116796 0.1334495  0.15482172 ... 0.13436036 0.13664162 0.13436036]\n",
            "Num Topics: 6, Chunksize: 1000, Passes: 200, Iterations: 50, Perplexity: -7.4901, Coherence: 0.5727 ,Alpha: [3.4794533  1.3870076  0.3687371  0.8880345  0.67958075 0.6381787 ], Eta: [0.15110393 0.13338286 0.20747261 ... 0.13479233 0.13704412 0.13479233]\n",
            "Num Topics: 6, Chunksize: 1000, Passes: 200, Iterations: 100, Perplexity: -7.4967, Coherence: 0.5844 ,Alpha: [3.5638907  1.4270858  0.38531357 1.399883   0.85763043 0.6145833 ], Eta: [0.15036488 0.13311341 0.15396385 ... 0.13386166 0.13611068 0.13386166]\n",
            "Num Topics: 6, Chunksize: 1000, Passes: 200, Iterations: 200, Perplexity: -7.5030, Coherence: 0.5998 ,Alpha: [4.089667   1.6097528  0.41855192 1.0462141  0.975688   0.5842522 ], Eta: [0.1511508  0.13360907 0.15475799 ... 0.13448438 0.13675568 0.13448438]\n",
            "Num Topics: 6, Chunksize: 1000, Passes: 260, Iterations: 50, Perplexity: -7.4882, Coherence: 0.5727 ,Alpha: [3.477389   1.3877847  0.36842063 0.89486617 0.6770429  0.6377189 ], Eta: [0.15109338 0.13342331 0.20757236 ... 0.13479955 0.13705148 0.13479955]\n",
            "Num Topics: 6, Chunksize: 1000, Passes: 260, Iterations: 100, Perplexity: -7.4949, Coherence: 0.5888 ,Alpha: [3.565887   1.42635    0.38490045 1.4002534  0.85544115 0.6135943 ], Eta: [0.15037449 0.133151   0.15396428 ... 0.133902   0.13614927 0.133902  ]\n",
            "Num Topics: 6, Chunksize: 1000, Passes: 260, Iterations: 200, Perplexity: -7.5011, Coherence: 0.5954 ,Alpha: [4.095158   1.6120538  0.41858426 1.0569237  0.9702268  0.58403635], Eta: [0.15115014 0.13364775 0.15474695 ... 0.134518   0.13678709 0.134518  ]\n",
            "Num Topics: 7, Chunksize: 1000, Passes: 100, Iterations: 50, Perplexity: -7.4975, Coherence: 0.5367 ,Alpha: [0.61906636 1.1860708  0.34533978 0.36966527 0.3924375  0.56026274\n",
            " 4.743776  ], Eta: [0.13282241 0.1207113  0.13521306 ... 0.12149043 0.12310766 0.12149043]\n",
            "Num Topics: 7, Chunksize: 1000, Passes: 100, Iterations: 100, Perplexity: -7.5031, Coherence: 0.5421 ,Alpha: [0.60823065 1.1588874  0.3420395  0.3616387  0.4690629  0.62086105\n",
            " 5.124053  ], Eta: [0.13304989 0.12075581 0.13542964 ... 0.12168142 0.12330299 0.12168142]\n",
            "Num Topics: 7, Chunksize: 1000, Passes: 100, Iterations: 200, Perplexity: -7.5087, Coherence: 0.5015 ,Alpha: [0.5745157  1.3434184  0.34362838 0.39276236 0.51028335 0.8175111\n",
            " 5.3482122 ], Eta: [0.13280061 0.12055518 0.1351619  ... 0.1214608  0.12307727 0.1214608 ]\n",
            "Num Topics: 7, Chunksize: 1000, Passes: 200, Iterations: 50, Perplexity: -7.4903, Coherence: 0.5436 ,Alpha: [0.62563133 1.180345   0.34368974 0.36847198 0.39084294 0.5572983\n",
            " 4.7270174 ], Eta: [0.13283388 0.12088425 0.13520063 ... 0.12161057 0.12321838 0.12161057]\n",
            "Num Topics: 7, Chunksize: 1000, Passes: 200, Iterations: 100, Perplexity: -7.4958, Coherence: 0.5421 ,Alpha: [0.6097002  1.1556578  0.34044346 0.36042672 0.46664977 0.6174311\n",
            " 5.1085954 ], Eta: [0.1330708  0.12095916 0.13542663 ... 0.12180835 0.12342089 0.12180835]\n",
            "Num Topics: 7, Chunksize: 1000, Passes: 200, Iterations: 200, Perplexity: -7.5013, Coherence: 0.5019 ,Alpha: [0.5737681  1.3410524  0.34235355 0.39150426 0.5084086  0.81466955\n",
            " 5.335301  ], Eta: [0.13282171 0.12075644 0.13515916 ... 0.12158885 0.12319608 0.12158885]\n",
            "Num Topics: 7, Chunksize: 1000, Passes: 260, Iterations: 50, Perplexity: -7.4884, Coherence: 0.5436 ,Alpha: [0.6278303  1.178795   0.3431662  0.36812773 0.3903159  0.55638677\n",
            " 4.7219815 ], Eta: [0.13283524 0.12092306 0.1351964  ... 0.12163892 0.12324454 0.12163892]\n",
            "Num Topics: 7, Chunksize: 1000, Passes: 260, Iterations: 100, Perplexity: -7.4939, Coherence: 0.5481 ,Alpha: [0.6100988  1.1546336  0.34003565 0.36014134 0.46609908 0.6165756\n",
            " 5.106038  ], Eta: [0.1330755  0.12100688 0.13542587 ... 0.12183934 0.12344977 0.12183934]\n",
            "Num Topics: 7, Chunksize: 1000, Passes: 260, Iterations: 200, Perplexity: -7.4994, Coherence: 0.5019 ,Alpha: [0.5736349  1.3396326  0.34198028 0.391136   0.50765276 0.8137876\n",
            " 5.332443  ], Eta: [0.13282754 0.12080438 0.13515943 ... 0.12162094 0.12322605 0.12162094]\n",
            "Num Topics: 8, Chunksize: 1000, Passes: 100, Iterations: 50, Perplexity: -7.5220, Coherence: 0.6028 ,Alpha: [0.97117966 1.1870282  0.28215718 0.3606728  0.5411312  0.4274681\n",
            " 4.550945   0.477613  ], Eta: [0.11537258 0.10703924 0.14315856 ... 0.10775011 0.10887507 0.10775011]\n",
            "Num Topics: 8, Chunksize: 1000, Passes: 100, Iterations: 100, Perplexity: -7.5331, Coherence: 0.5616 ,Alpha: [0.9942401  1.2129918  0.3014575  0.4318193  0.6748297  0.467504\n",
            " 5.173831   0.36666906], Eta: [0.11572338 0.10734589 0.11731186 ... 0.10809913 0.10922939 0.10809913]\n",
            "Num Topics: 8, Chunksize: 1000, Passes: 100, Iterations: 200, Perplexity: -7.5362, Coherence: 0.5256 ,Alpha: [1.0202255  1.296945   0.31546453 0.47942555 0.64371026 0.5639371\n",
            " 5.444158   0.46179077], Eta: [0.11536331 0.10704115 0.11694489 ... 0.10774631 0.10887026 0.10774631]\n",
            "Num Topics: 8, Chunksize: 1000, Passes: 200, Iterations: 50, Perplexity: -7.4973, Coherence: 0.6054 ,Alpha: [0.95591366 1.1688064  0.2760501  0.35299265 0.5278685  0.4178061\n",
            " 4.411053   0.4720146 ], Eta: [0.11535951 0.10717244 0.14323424 ... 0.10782042 0.1089365  0.10782042]\n",
            "Num Topics: 8, Chunksize: 1000, Passes: 200, Iterations: 100, Perplexity: -7.5049, Coherence: 0.5556 ,Alpha: [0.9749811  1.1898602  0.2948078  0.42221028 0.65661    0.45530048\n",
            " 5.0300508  0.359644  ], Eta: [0.11571698 0.10748503 0.11728963 ... 0.10816779 0.10929008 0.10816779]\n",
            "Num Topics: 8, Chunksize: 1000, Passes: 200, Iterations: 200, Perplexity: -7.5082, Coherence: 0.5413 ,Alpha: [0.99896646 1.268917   0.30820382 0.46800175 0.6261591  0.5489426\n",
            " 5.2911344  0.45242596], Eta: [0.11536452 0.1071847  0.11693069 ... 0.10782801 0.10894354 0.10782801]\n",
            "Num Topics: 8, Chunksize: 1000, Passes: 260, Iterations: 50, Perplexity: -7.4945, Coherence: 0.6122 ,Alpha: [0.9558637  1.1676129  0.27550068 0.35220295 0.5264246  0.41672048\n",
            " 4.396703   0.4722786 ], Eta: [0.11535998 0.10720768 0.14323853 ... 0.10784116 0.10895524 0.10784116]\n",
            "Num Topics: 8, Chunksize: 1000, Passes: 260, Iterations: 100, Perplexity: -7.5016, Coherence: 0.5556 ,Alpha: [0.9738557  1.1878607  0.29418802 0.42118937 0.6546462  0.45413\n",
            " 5.020997   0.35920087], Eta: [0.11572134 0.10752369 0.11729061 ... 0.10819012 0.10931066 0.10819012]\n",
            "Num Topics: 8, Chunksize: 1000, Passes: 260, Iterations: 200, Perplexity: -7.5047, Coherence: 0.5377 ,Alpha: [0.9976682  1.2666306  0.3074955  0.46664372 0.6239878  0.5472109\n",
            " 5.280054   0.45165408], Eta: [0.11536848 0.10722245 0.11693124 ... 0.10785151 0.10896518 0.10785151]\n",
            "Num Topics: 9, Chunksize: 1000, Passes: 100, Iterations: 50, Perplexity: -7.6581, Coherence: 0.5335 ,Alpha: [0.8324486  1.590491   0.3288048  0.3894541  0.44374844 1.0812262\n",
            " 5.5376863  0.41180435 1.2528096 ], Eta: [0.10234075 0.09072827 0.10344619 ... 0.09694389 0.0977593  0.09694389]\n",
            "Num Topics: 9, Chunksize: 1000, Passes: 100, Iterations: 100, Perplexity: -7.6652, Coherence: 0.5587 ,Alpha: [0.9124707  1.7113352  0.37091786 0.42364344 0.46299043 1.0525326\n",
            " 5.677954   0.3296913  1.550806  ], Eta: [0.10242169 0.09028935 0.10352629 ... 0.09701166 0.09782795 0.09701166]\n",
            "Num Topics: 9, Chunksize: 1000, Passes: 100, Iterations: 200, Perplexity: -7.6690, Coherence: 0.6044 ,Alpha: [0.98114264 1.508172   0.36149025 0.4578105  0.49675167 2.031699\n",
            " 4.697093   0.3014711  1.6883678 ], Eta: [0.10179874 0.09038699 0.10289121 ... 0.09645646 0.09726401 0.09645646]\n",
            "Num Topics: 9, Chunksize: 1000, Passes: 200, Iterations: 50, Perplexity: -7.6203, Coherence: 0.5366 ,Alpha: [0.8103963  1.5298932  0.32075822 0.38003573 0.437893   1.0460969\n",
            " 5.342272   0.40124303 1.2140006 ], Eta: [0.10229902 0.09648223 0.10339295 ... 0.09696563 0.09777331 0.09696563]\n",
            "Num Topics: 9, Chunksize: 1000, Passes: 200, Iterations: 100, Perplexity: -7.6283, Coherence: 0.5623 ,Alpha: [0.8868542  1.6591238  0.36365768 0.4136109  0.4495234  1.0141094\n",
            " 5.4775896  0.3213697  1.5149525 ], Eta: [0.10238983 0.0909022  0.1034832  ... 0.09704366 0.09785233 0.09704366]\n",
            "Num Topics: 9, Chunksize: 1000, Passes: 200, Iterations: 200, Perplexity: -7.6324, Coherence: 0.6080 ,Alpha: [0.95627517 1.455989   0.35576767 0.44919536 0.48495737 1.9406322\n",
            " 4.6085744  0.29530796 1.6694976 ], Eta: [0.10177618 0.09601918 0.10285781 ... 0.09649549 0.09729563 0.09649549]\n",
            "Num Topics: 9, Chunksize: 1000, Passes: 260, Iterations: 50, Perplexity: -7.6094, Coherence: 0.5366 ,Alpha: [0.8034581  1.5124012  0.31821555 0.37724254 0.4343261  1.0351479\n",
            " 5.2811527  0.39795688 1.2056856 ], Eta: [0.10228851 0.09649896 0.10337983 ... 0.09697085 0.09777675 0.09697085]\n",
            "Num Topics: 9, Chunksize: 1000, Passes: 260, Iterations: 100, Perplexity: -7.6162, Coherence: 0.5626 ,Alpha: [0.8782711  1.639493   0.36513743 0.4102009  0.4450835  0.99965817\n",
            " 5.412374   0.3185227  1.498783  ], Eta: [0.10236942 0.09187255 0.10345989 ... 0.09704012 0.09784685 0.09704012]\n",
            "Num Topics: 9, Chunksize: 1000, Passes: 260, Iterations: 200, Perplexity: -7.6200, Coherence: 0.6080 ,Alpha: [0.94695735 1.4389237  0.353351   0.4460549  0.4809326  1.9136896\n",
            " 4.5741754  0.29307365 1.6598786 ], Eta: [0.10177347 0.09604249 0.10285271 ... 0.09650754 0.09730602 0.09650754]\n"
          ]
        },
        {
          "metadata": {
            "tags": null
          },
          "name": "stderr",
          "output_type": "stream",
          "text": [
            "WARNING:gensim.models.ldamodel:updated prior is not positive\n",
            "WARNING:gensim.models.ldamodel:updated prior is not positive\n"
          ]
        },
        {
          "metadata": {
            "tags": null
          },
          "name": "stdout",
          "output_type": "stream",
          "text": [
            "Num Topics: 2, Chunksize: 1000, Passes: 100, Iterations: 50, Perplexity: -7.3748, Coherence: 0.6490 ,Alpha: [0.13890672 0.56787026], Eta: [ 9.712731    0.35811344 17.585613   ...  0.3871525   0.4371301\n",
            "  0.3871525 ]\n"
          ]
        },
        {
          "metadata": {
            "tags": null
          },
          "name": "stderr",
          "output_type": "stream",
          "text": [
            "WARNING:gensim.models.ldamodel:updated prior is not positive\n",
            "WARNING:gensim.models.ldamodel:updated prior is not positive\n"
          ]
        },
        {
          "metadata": {
            "tags": null
          },
          "name": "stdout",
          "output_type": "stream",
          "text": [
            "Num Topics: 2, Chunksize: 1000, Passes: 100, Iterations: 100, Perplexity: -7.3749, Coherence: 0.6490 ,Alpha: [0.13743617 0.5700917 ], Eta: [ 9.458433    0.3579376  16.76156    ...  0.3869763   0.43691197\n",
            "  0.3869763 ]\n"
          ]
        },
        {
          "metadata": {
            "tags": null
          },
          "name": "stderr",
          "output_type": "stream",
          "text": [
            "WARNING:gensim.models.ldamodel:updated prior is not positive\n",
            "WARNING:gensim.models.ldamodel:updated prior is not positive\n"
          ]
        },
        {
          "metadata": {
            "tags": null
          },
          "name": "stdout",
          "output_type": "stream",
          "text": [
            "Num Topics: 2, Chunksize: 1000, Passes: 100, Iterations: 200, Perplexity: -7.3745, Coherence: 0.6490 ,Alpha: [0.13500205 0.5621028 ], Eta: [ 9.445168    0.35856286 16.760614   ...  0.38763     0.4377163\n",
            "  0.38763   ]\n"
          ]
        },
        {
          "metadata": {
            "tags": null
          },
          "name": "stderr",
          "output_type": "stream",
          "text": [
            "WARNING:gensim.models.ldamodel:updated prior is not positive\n",
            "WARNING:gensim.models.ldamodel:updated prior is not positive\n"
          ]
        },
        {
          "metadata": {
            "tags": null
          },
          "name": "stdout",
          "output_type": "stream",
          "text": [
            "Num Topics: 2, Chunksize: 1000, Passes: 200, Iterations: 50, Perplexity: -7.3552, Coherence: 0.6889 ,Alpha: [0.07997342 0.2170315 ], Eta: [16.580294    0.3867253  37.354904   ...  0.41649297  0.47368866\n",
            "  0.41649297]\n"
          ]
        },
        {
          "metadata": {
            "tags": null
          },
          "name": "stderr",
          "output_type": "stream",
          "text": [
            "WARNING:gensim.models.ldamodel:updated prior is not positive\n",
            "WARNING:gensim.models.ldamodel:updated prior is not positive\n"
          ]
        },
        {
          "metadata": {
            "tags": null
          },
          "name": "stdout",
          "output_type": "stream",
          "text": [
            "Num Topics: 2, Chunksize: 1000, Passes: 200, Iterations: 100, Perplexity: -7.3550, Coherence: 0.6946 ,Alpha: [0.07777463 0.21378942], Eta: [16.56428     0.38705778 37.282528   ...  0.41690502  0.4742044\n",
            "  0.41690502]\n"
          ]
        },
        {
          "metadata": {
            "tags": null
          },
          "name": "stderr",
          "output_type": "stream",
          "text": [
            "WARNING:gensim.models.ldamodel:updated prior is not positive\n",
            "WARNING:gensim.models.ldamodel:updated prior is not positive\n"
          ]
        },
        {
          "metadata": {
            "tags": null
          },
          "name": "stdout",
          "output_type": "stream",
          "text": [
            "Num Topics: 2, Chunksize: 1000, Passes: 200, Iterations: 200, Perplexity: -7.3539, Coherence: 0.6946 ,Alpha: [0.07393777 0.19988266], Eta: [16.675488    0.38862395 37.903244   ...  0.41865748  0.47639757\n",
            "  0.41865748]\n"
          ]
        },
        {
          "metadata": {
            "tags": null
          },
          "name": "stderr",
          "output_type": "stream",
          "text": [
            "WARNING:gensim.models.ldamodel:updated prior is not positive\n",
            "WARNING:gensim.models.ldamodel:updated prior is not positive\n"
          ]
        },
        {
          "metadata": {
            "tags": null
          },
          "name": "stdout",
          "output_type": "stream",
          "text": [
            "Num Topics: 2, Chunksize: 1000, Passes: 260, Iterations: 50, Perplexity: -7.3514, Coherence: 0.6945 ,Alpha: [0.06993004 0.17495437], Eta: [17.42224     0.39215514 41.192738   ...  0.4219136   0.48048633\n",
            "  0.4219136 ]\n"
          ]
        },
        {
          "metadata": {
            "tags": null
          },
          "name": "stderr",
          "output_type": "stream",
          "text": [
            "WARNING:gensim.models.ldamodel:updated prior is not positive\n",
            "WARNING:gensim.models.ldamodel:updated prior is not positive\n"
          ]
        },
        {
          "metadata": {
            "tags": null
          },
          "name": "stdout",
          "output_type": "stream",
          "text": [
            "Num Topics: 2, Chunksize: 1000, Passes: 260, Iterations: 100, Perplexity: -7.3508, Coherence: 0.6945 ,Alpha: [0.06672994 0.1699119 ], Eta: [17.526012    0.39296088 41.344048   ...  0.42288148  0.4817009\n",
            "  0.42288148]\n"
          ]
        },
        {
          "metadata": {
            "tags": null
          },
          "name": "stderr",
          "output_type": "stream",
          "text": [
            "WARNING:gensim.models.ldamodel:updated prior is not positive\n",
            "WARNING:gensim.models.ldamodel:updated prior is not positive\n"
          ]
        },
        {
          "output_type": "stream",
          "name": "stdout",
          "text": [
            "Num Topics: 2, Chunksize: 1000, Passes: 260, Iterations: 200, Perplexity: -7.3502, Coherence: 0.6931 ,Alpha: [0.06462238 0.1639608 ], Eta: [17.531801    0.39375597 41.958607   ...  0.42373338  0.48276672\n",
            "  0.42373338]\n",
            "Num Topics: 3, Chunksize: 1000, Passes: 100, Iterations: 50, Perplexity: -7.3923, Coherence: 0.6910 ,Alpha: [0.1791659 0.5811082 0.7800649], Eta: [1.2915906  0.23357324 1.7883285  ... 0.23950106 0.25315738 0.23950106]\n",
            "Num Topics: 3, Chunksize: 1000, Passes: 100, Iterations: 100, Perplexity: -7.3970, Coherence: 0.5983 ,Alpha: [0.16795069 0.538338   0.92402685], Eta: [1.158109   0.25500682 1.7033944  ... 0.23951492 0.25316432 0.23951492]\n",
            "Num Topics: 3, Chunksize: 1000, Passes: 100, Iterations: 200, Perplexity: -7.4011, Coherence: 0.5881 ,Alpha: [0.16574982 0.4930189  0.99872696], Eta: [1.1131922  0.28506505 1.6416289  ... 0.23913005 0.252729   0.23913005]\n",
            "Num Topics: 3, Chunksize: 1000, Passes: 200, Iterations: 50, Perplexity: -7.3820, Coherence: 0.7104 ,Alpha: [0.155951   0.49730834 0.67000514], Eta: [1.3460042  0.23569497 1.8664436  ... 0.24168648 0.25555408 0.24168648]\n",
            "Num Topics: 3, Chunksize: 1000, Passes: 200, Iterations: 100, Perplexity: -7.3879, Coherence: 0.6141 ,Alpha: [0.1519578  0.48130235 0.8375049 ], Eta: [1.1813866  0.24033403 1.727943   ... 0.24096613 0.25475055 0.24096613]\n",
            "Num Topics: 3, Chunksize: 1000, Passes: 200, Iterations: 200, Perplexity: -7.3910, Coherence: 0.6299 ,Alpha: [0.14039652 0.40832633 0.8550021 ], Eta: [1.1384336  0.2850304  1.6777256  ... 0.24133836 0.25515497 0.24133836]\n",
            "Num Topics: 3, Chunksize: 1000, Passes: 260, Iterations: 50, Perplexity: -7.3784, Coherence: 0.6944 ,Alpha: [0.14715403 0.45506448 0.61467683], Eta: [1.3847935  0.23681976 1.9259502  ... 0.24302307 0.25703174 0.24302307]\n",
            "Num Topics: 3, Chunksize: 1000, Passes: 260, Iterations: 100, Perplexity: -7.3852, Coherence: 0.6141 ,Alpha: [0.14610034 0.4642387  0.8087208 ], Eta: [1.1920244  0.24114633 1.7494227  ... 0.24162538 0.25547487 0.24162538]\n",
            "Num Topics: 3, Chunksize: 1000, Passes: 260, Iterations: 200, Perplexity: -7.3885, Coherence: 0.6327 ,Alpha: [0.1348322  0.39208725 0.82392985], Eta: [1.146284   0.28363755 1.6841098  ... 0.24182704 0.25569105 0.24182704]\n",
            "Num Topics: 4, Chunksize: 1000, Passes: 100, Iterations: 50, Perplexity: -7.4277, Coherence: 0.5852 ,Alpha: [0.2339598  0.31102866 0.75846195 1.513354  ], Eta: [0.7493053  0.18642093 0.55120796 ... 0.18799691 0.19447978 0.18799691]\n",
            "Num Topics: 4, Chunksize: 1000, Passes: 100, Iterations: 100, Perplexity: -7.4347, Coherence: 0.5633 ,Alpha: [0.2540614  0.3589971  0.70490515 1.9606558 ], Eta: [0.25140774 0.18764342 0.5479127  ... 0.18887931 0.19542436 0.18887931]\n",
            "Num Topics: 4, Chunksize: 1000, Passes: 100, Iterations: 200, Perplexity: -7.4409, Coherence: 0.5603 ,Alpha: [0.26492295 0.38471287 0.7609115  2.1936476 ], Eta: [0.2510451  0.18806487 0.5347475  ... 0.18920012 0.1957632  0.18920012]\n",
            "Num Topics: 4, Chunksize: 1000, Passes: 200, Iterations: 50, Perplexity: -7.4190, Coherence: 0.5880 ,Alpha: [0.22078356 0.29933652 0.7308221  1.4547808 ], Eta: [0.7517754  0.18679388 0.5510871  ... 0.1884294  0.1949183  0.1884294 ]\n",
            "Num Topics: 4, Chunksize: 1000, Passes: 200, Iterations: 100, Perplexity: -7.4257, Coherence: 0.5537 ,Alpha: [0.24425752 0.3423729  0.677605   1.8711262 ], Eta: [0.2514188  0.18785329 0.54761016 ... 0.1892412  0.19578624 0.1892412 ]\n",
            "Num Topics: 4, Chunksize: 1000, Passes: 200, Iterations: 200, Perplexity: -7.4318, Coherence: 0.5654 ,Alpha: [0.25497824 0.36662593 0.71368945 2.0845416 ], Eta: [0.25105527 0.18822223 0.53879166 ... 0.18951797 0.19607967 0.18951797]\n",
            "Num Topics: 4, Chunksize: 1000, Passes: 260, Iterations: 50, Perplexity: -7.4169, Coherence: 0.5898 ,Alpha: [0.21702208 0.296344   0.72553563 1.4400599 ], Eta: [0.75437194 0.18690094 0.551255   ... 0.1885591  0.19505104 0.1885591 ]\n",
            "Num Topics: 4, Chunksize: 1000, Passes: 260, Iterations: 100, Perplexity: -7.4235, Coherence: 0.5608 ,Alpha: [0.24152255 0.34073785 0.670368   1.8573638 ], Eta: [0.25139892 0.18789065 0.5471297  ... 0.18931605 0.1958603  0.18931605]\n",
            "Num Topics: 4, Chunksize: 1000, Passes: 260, Iterations: 200, Perplexity: -7.4289, Coherence: 0.5654 ,Alpha: [0.25052392 0.3604235  0.7026445  2.0582302 ], Eta: [0.25117585 0.18831119 0.5394738  ... 0.18965437 0.19621982 0.18965437]\n",
            "Num Topics: 5, Chunksize: 1000, Passes: 100, Iterations: 50, Perplexity: -7.4701, Coherence: 0.5781 ,Alpha: [0.3665072  0.44721094 1.3119696  2.8344595  0.20572853], Eta: [0.25809324 0.15953456 0.32137868 ... 0.16061017 0.16446479 0.16061017]\n",
            "Num Topics: 5, Chunksize: 1000, Passes: 100, Iterations: 100, Perplexity: -7.4776, Coherence: 0.5907 ,Alpha: [0.3602094  0.4963541  1.418513   3.3272257  0.20773953], Eta: [0.19275308 0.16023043 0.3242596  ... 0.16145639 0.16535227 0.16145639]\n",
            "Num Topics: 5, Chunksize: 1000, Passes: 100, Iterations: 200, Perplexity: -7.4818, Coherence: 0.5766 ,Alpha: [0.41659686 0.5551144  1.5067896  3.5898316  0.19875711], Eta: [0.19235887 0.16039407 0.32338074 ... 0.16117884 0.16506055 0.16117884]\n",
            "Num Topics: 5, Chunksize: 1000, Passes: 200, Iterations: 50, Perplexity: -7.4632, Coherence: 0.5748 ,Alpha: [0.3623995  0.44391525 1.3090222  2.8192883  0.20333262], Eta: [0.19172831 0.15978546 0.32125387 ... 0.16087061 0.16471756 0.16087061]\n",
            "Num Topics: 5, Chunksize: 1000, Passes: 200, Iterations: 100, Perplexity: -7.4705, Coherence: 0.5866 ,Alpha: [0.35827693 0.49363458 1.4234477  3.3103857  0.20643473], Eta: [0.19277471 0.16051656 0.32404926 ... 0.16169861 0.16558526 0.16169861]\n",
            "Num Topics: 5, Chunksize: 1000, Passes: 200, Iterations: 200, Perplexity: -7.4745, Coherence: 0.5755 ,Alpha: [0.41386342 0.5500154  1.5029143  3.56251    0.19684875], Eta: [0.19239113 0.16057895 0.32321417 ... 0.1614171  0.16528985 0.1614171 ]\n",
            "Num Topics: 5, Chunksize: 1000, Passes: 260, Iterations: 50, Perplexity: -7.4615, Coherence: 0.5728 ,Alpha: [0.36126316 0.44255978 1.3099291  2.811629   0.2026183 ], Eta: [0.19173455 0.15983729 0.32121602 ... 0.1609322  0.16477732 0.1609322 ]\n",
            "Num Topics: 5, Chunksize: 1000, Passes: 260, Iterations: 100, Perplexity: -7.4686, Coherence: 0.5818 ,Alpha: [0.35713115 0.49216136 1.4187667  3.297958   0.20572709], Eta: [0.19276215 0.16055928 0.32397684 ... 0.16174255 0.16562644 0.16174255]\n",
            "Num Topics: 5, Chunksize: 1000, Passes: 260, Iterations: 200, Perplexity: -7.4725, Coherence: 0.5736 ,Alpha: [0.41220355 0.5481595  1.500844   3.5519829  0.19586535], Eta: [0.19239616 0.16061889 0.32317787 ... 0.16147892 0.16534983 0.16147892]\n",
            "Num Topics: 6, Chunksize: 1000, Passes: 100, Iterations: 50, Perplexity: -7.4790, Coherence: 0.5479 ,Alpha: [0.35710433 0.49095446 1.548322   3.2860324  0.18018632 0.43055046], Eta: [0.1561931  0.13718148 0.22625913 ... 0.13834353 0.14075522 0.13834353]\n",
            "Num Topics: 6, Chunksize: 1000, Passes: 100, Iterations: 100, Perplexity: -7.4828, Coherence: 0.5635 ,Alpha: [0.37773174 0.4880105  1.3666164  3.8764691  0.20272258 0.4400374 ], Eta: [0.15670867 0.13762236 0.22386304 ... 0.13881329 0.14124152 0.13881329]\n",
            "Num Topics: 6, Chunksize: 1000, Passes: 100, Iterations: 200, Perplexity: -7.4900, Coherence: 0.5512 ,Alpha: [0.37306434 0.57727396 1.2886808  4.4226985  0.22061267 0.4562116 ], Eta: [0.15717569 0.13806726 0.16115375 ... 0.13915886 0.14160527 0.13915886]\n",
            "Num Topics: 6, Chunksize: 1000, Passes: 200, Iterations: 50, Perplexity: -7.4719, Coherence: 0.5459 ,Alpha: [0.3563911  0.48957798 1.5554187  3.2854984  0.17941718 0.43184617], Eta: [0.15623601 0.13743423 0.22622237 ... 0.13851865 0.14092232 0.13851865]\n",
            "Num Topics: 6, Chunksize: 1000, Passes: 200, Iterations: 100, Perplexity: -7.4758, Coherence: 0.5603 ,Alpha: [0.3751816  0.48544717 1.3740696  3.8586323  0.20180842 0.4413777 ], Eta: [0.15673614 0.13787076 0.22431645 ... 0.13897713 0.1413969  0.13897713]\n",
            "Num Topics: 6, Chunksize: 1000, Passes: 200, Iterations: 200, Perplexity: -7.4828, Coherence: 0.5556 ,Alpha: [0.37100843 0.5757718  1.2579135  4.460697   0.21975447 0.45796707], Eta: [0.15729214 0.13838322 0.16122311 ... 0.13940921 0.14184828 0.13940921]\n",
            "Num Topics: 6, Chunksize: 1000, Passes: 260, Iterations: 50, Perplexity: -7.4700, Coherence: 0.5536 ,Alpha: [0.35576898 0.48910958 1.5569845  3.285127   0.17913893 0.43233782], Eta: [0.15624529 0.13749322 0.22621678 ... 0.13856214 0.14096406 0.13856214]\n",
            "Num Topics: 6, Chunksize: 1000, Passes: 260, Iterations: 100, Perplexity: -7.4740, Coherence: 0.5603 ,Alpha: [0.37432897 0.48475805 1.3749049  3.8546286  0.20158125 0.44171882], Eta: [0.15674241 0.13792866 0.2243479  ... 0.13901828 0.14143614 0.13901828]\n",
            "Num Topics: 6, Chunksize: 1000, Passes: 260, Iterations: 200, Perplexity: -7.4810, Coherence: 0.5576 ,Alpha: [0.37119803 0.5756759  1.2500014  4.4778724  0.21971788 0.45890573], Eta: [0.15732503 0.13846074 0.16124463 ... 0.13947445 0.141912   0.13947445]\n",
            "Num Topics: 7, Chunksize: 1000, Passes: 100, Iterations: 50, Perplexity: -7.4903, Coherence: 0.5696 ,Alpha: [0.26931998 0.52843    1.6100312  3.5370002  0.17443854 0.21866424\n",
            " 0.6077847 ], Eta: [0.13398184 0.12156245 0.24379122 ... 0.12247603 0.12412269 0.12247603]\n",
            "Num Topics: 7, Chunksize: 1000, Passes: 100, Iterations: 100, Perplexity: -7.4964, Coherence: 0.6115 ,Alpha: [0.24014553 0.59497845 1.3113425  4.4124484  0.19334266 0.27495736\n",
            " 0.89778817], Eta: [0.1340418  0.12154818 0.17761725 ... 0.12257545 0.12422243 0.12257545]\n",
            "Num Topics: 7, Chunksize: 1000, Passes: 100, Iterations: 200, Perplexity: -7.5000, Coherence: 0.5983 ,Alpha: [0.2968004  0.48030034 1.285944   4.7586026  0.19355495 0.28620034\n",
            " 0.93293726], Eta: [0.13458605 0.12198583 0.17724451 ... 0.12298758 0.12464593 0.12298758]\n",
            "Num Topics: 7, Chunksize: 1000, Passes: 200, Iterations: 50, Perplexity: -7.4831, Coherence: 0.5781 ,Alpha: [0.26770496 0.5258503  1.6044596  3.5412073  0.17416427 0.2184917\n",
            " 0.6107577 ], Eta: [0.13401647 0.12178147 0.243817   ... 0.12262143 0.1242582  0.12262143]\n",
            "Num Topics: 7, Chunksize: 1000, Passes: 200, Iterations: 100, Perplexity: -7.4892, Coherence: 0.6239 ,Alpha: [0.23963664 0.5924511  1.3124281  4.3974957  0.19287294 0.2743665\n",
            " 0.89945143], Eta: [0.13406573 0.12176666 0.1776537  ... 0.12270501 0.12434264 0.12270501]\n",
            "Num Topics: 7, Chunksize: 1000, Passes: 200, Iterations: 200, Perplexity: -7.4927, Coherence: 0.6017 ,Alpha: [0.2964918  0.47850153 1.2841419  4.7693872  0.19331852 0.28579882\n",
            " 0.9269327 ], Eta: [0.13464178 0.12223487 0.177295   ... 0.1231523  0.12480149 0.1231523 ]\n",
            "Num Topics: 7, Chunksize: 1000, Passes: 260, Iterations: 50, Perplexity: -7.4813, Coherence: 0.5781 ,Alpha: [0.2673847  0.5251473  1.6034565  3.5418153  0.17405693 0.2184444\n",
            " 0.6114474 ], Eta: [0.13402289 0.12183161 0.24385467 ... 0.12265557 0.12429003 0.12265557]\n",
            "Num Topics: 7, Chunksize: 1000, Passes: 260, Iterations: 100, Perplexity: -7.4873, Coherence: 0.6239 ,Alpha: [0.23935069 0.5917521  1.3137915  4.391859   0.19271094 0.27416456\n",
            " 0.89925116], Eta: [0.13407046 0.12181776 0.17765854 ... 0.12273581 0.12437128 0.12273581]\n",
            "Num Topics: 7, Chunksize: 1000, Passes: 260, Iterations: 200, Perplexity: -7.4909, Coherence: 0.6017 ,Alpha: [0.2963056  0.47796935 1.2839655  4.769534   0.1932057  0.28561977\n",
            " 0.9254018 ], Eta: [0.13465236 0.122292   0.1773072  ... 0.12319034 0.12483736 0.12319034]\n",
            "Num Topics: 8, Chunksize: 1000, Passes: 100, Iterations: 50, Perplexity: -7.5045, Coherence: 0.6143 ,Alpha: [0.39267108 0.33484918 1.0744177  3.3330307  0.16733047 0.24647684\n",
            " 0.5750418  1.6083542 ], Eta: [0.11557826 0.10722258 0.11715964 ... 0.10793887 0.10906587 0.10793887]\n",
            "Num Topics: 8, Chunksize: 1000, Passes: 100, Iterations: 100, Perplexity: -7.5107, Coherence: 0.6112 ,Alpha: [0.31076738 0.41101575 1.0394071  3.5939898  0.16383226 0.24175729\n",
            " 0.68831384 1.7565006 ], Eta: [0.14064157 0.10736167 0.11732091 ... 0.10806688 0.10919656 0.10806688]\n",
            "Num Topics: 8, Chunksize: 1000, Passes: 100, Iterations: 200, Perplexity: -7.5178, Coherence: 0.6122 ,Alpha: [0.36707884 0.38551435 1.1427213  3.7009342  0.17977467 0.28441557\n",
            " 0.72913516 1.8217673 ], Eta: [0.13261586 0.10715564 0.11708004 ... 0.10785249 0.10897847 0.10785249]\n",
            "Num Topics: 8, Chunksize: 1000, Passes: 200, Iterations: 50, Perplexity: -7.4839, Coherence: 0.6201 ,Alpha: [0.38513154 0.3294548  1.0530195  3.2731025  0.16477714 0.24279487\n",
            " 0.5692504  1.5789815 ], Eta: [0.115594   0.10738263 0.11716063 ... 0.1080334  0.10915242 0.1080334 ]\n",
            "Num Topics: 8, Chunksize: 1000, Passes: 200, Iterations: 100, Perplexity: -7.4884, Coherence: 0.6077 ,Alpha: [0.30385542 0.40278313 1.0197743  3.519608   0.16074608 0.23762262\n",
            " 0.6758073  1.7123853 ], Eta: [0.14091182 0.10752074 0.11732278 ... 0.10816423 0.10928585 0.10816423]\n",
            "Num Topics: 8, Chunksize: 1000, Passes: 200, Iterations: 200, Perplexity: -7.4942, Coherence: 0.6107 ,Alpha: [0.3593744  0.37737915 1.1235336  3.6077204  0.17630623 0.27930257\n",
            " 0.71444905 1.7847857 ], Eta: [0.11550499 0.10730916 0.11707481 ... 0.10794412 0.10906172 0.10794412]\n",
            "Num Topics: 8, Chunksize: 1000, Passes: 260, Iterations: 50, Perplexity: -7.4816, Coherence: 0.6148 ,Alpha: [0.38418695 0.32900676 1.0523205  3.2656133  0.164597   0.24248162\n",
            " 0.5699454  1.5772904 ], Eta: [0.11559775 0.10742106 0.11716101 ... 0.10805673 0.10917392 0.10805673]\n",
            "Num Topics: 8, Chunksize: 1000, Passes: 260, Iterations: 100, Perplexity: -7.4861, Coherence: 0.6003 ,Alpha: [0.3030046  0.4018918  1.0197088  3.5110855  0.16049463 0.23727886\n",
            " 0.6757719  1.7084557 ], Eta: [0.14088868 0.10755985 0.11732414 ... 0.10818888 0.10930865 0.10818888]\n",
            "Num Topics: 8, Chunksize: 1000, Passes: 260, Iterations: 200, Perplexity: -7.4917, Coherence: 0.6107 ,Alpha: [0.35856196 0.37658355 1.1224433  3.5976698  0.17599776 0.2788738\n",
            " 0.71430445 1.782819  ], Eta: [0.11550976 0.10734807 0.11707617 ... 0.10796885 0.10908458 0.10796885]\n",
            "Num Topics: 9, Chunksize: 1000, Passes: 100, Iterations: 50, Perplexity: -7.6358, Coherence: 0.5799 ,Alpha: [0.22376338 0.46371266 1.2283506  4.131188   0.10983649 0.22915496\n",
            " 0.49349523 1.7946863  0.2590794 ], Eta: [0.10451641 0.09116239 0.12455226 ... 0.09889287 0.09974041 0.09889287]\n",
            "Num Topics: 9, Chunksize: 1000, Passes: 100, Iterations: 100, Perplexity: -7.6402, Coherence: 0.5648 ,Alpha: [0.23858224 0.52171    1.2423433  4.328327   0.1182256  0.2306774\n",
            " 0.55957305 2.0158238  0.23023349], Eta: [0.10448449 0.09110456 0.10563865 ... 0.09886394 0.09971545 0.09886394]\n",
            "Num Topics: 9, Chunksize: 1000, Passes: 100, Iterations: 200, Perplexity: -7.6402, Coherence: 0.5892 ,Alpha: [0.24479592 0.519834   1.2607763  4.2151537  0.12321217 0.24612549\n",
            " 0.5885481  2.2755067  0.2085285 ], Eta: [0.10441734 0.09109829 0.10557175 ... 0.09880439 0.09964995 0.09880439]\n",
            "Num Topics: 9, Chunksize: 1000, Passes: 200, Iterations: 50, Perplexity: -7.5948, Coherence: 0.5758 ,Alpha: [0.21795256 0.45081317 1.1990833  3.9681153  0.10743505 0.2236636\n",
            " 0.47723112 1.7344962  0.2528888 ], Eta: [0.10446773 0.09162506 0.1245442  ... 0.09891352 0.09975296 0.09891352]\n",
            "Num Topics: 9, Chunksize: 1000, Passes: 200, Iterations: 100, Perplexity: -7.6006, Coherence: 0.5669 ,Alpha: [0.23191142 0.50843316 1.2102625  4.167164   0.11523664 0.22511385\n",
            " 0.54156363 1.9310291  0.22457345], Eta: [0.10443383 0.098377   0.10557609 ... 0.09888269 0.09972505 0.09888269]\n",
            "Num Topics: 9, Chunksize: 1000, Passes: 200, Iterations: 200, Perplexity: -7.6014, Coherence: 0.5875 ,Alpha: [0.23824672 0.5072552  1.230223   4.042508   0.12053896 0.24096914\n",
            " 0.57016665 2.2231262  0.20389552], Eta: [0.10436629 0.09831788 0.10550889 ... 0.09882268 0.09966018 0.09882268]\n",
            "Num Topics: 9, Chunksize: 1000, Passes: 260, Iterations: 50, Perplexity: -7.5829, Coherence: 0.5791 ,Alpha: [0.21634533 0.4467713  1.1897233  3.9221182  0.1065656  0.22205548\n",
            " 0.47274634 1.7134835  0.2507718 ], Eta: [0.10444951 0.09259433 0.12458533 ... 0.09891296 0.09975041 0.09891296]\n",
            "Num Topics: 9, Chunksize: 1000, Passes: 260, Iterations: 100, Perplexity: -7.5888, Coherence: 0.5669 ,Alpha: [0.22993146 0.5042922  1.2027463  4.119898   0.11435226 0.22362015\n",
            " 0.53675705 1.9049349  0.22279932], Eta: [0.10442303 0.0983954  0.10556254 ... 0.09888881 0.09972905 0.09888881]\n",
            "Num Topics: 9, Chunksize: 1000, Passes: 260, Iterations: 200, Perplexity: -7.5912, Coherence: 0.5876 ,Alpha: [0.23639008 0.50417084 1.2229766  3.9987044  0.1197547  0.23955774\n",
            " 0.5652285  2.2050254  0.20255278], Eta: [0.10435813 0.09833849 0.10549795 ... 0.09883102 0.09966674 0.09883102]\n",
            "\n",
            "Results:\n",
            "     num_topics  chunksize  passes  iterations  perplexity  coherence  \\\n",
            "0             2       1000     100          50   -7.394173   0.726024   \n",
            "1             2       1000     100         100   -7.398262   0.719622   \n",
            "2             2       1000     100         200   -7.399004   0.718614   \n",
            "3             2       1000     200          50   -7.375694   0.732588   \n",
            "4             2       1000     200         100   -7.377288   0.732588   \n",
            "..          ...        ...     ...         ...         ...        ...   \n",
            "211           9       1000     200         100   -7.600552   0.566874   \n",
            "212           9       1000     200         200   -7.601365   0.587519   \n",
            "213           9       1000     260          50   -7.582879   0.579104   \n",
            "214           9       1000     260         100   -7.588769   0.566874   \n",
            "215           9       1000     260         200   -7.591180   0.587572   \n",
            "\n",
            "                                                 alpha  \\\n",
            "0                              [1.0359843, 0.36709943]   \n",
            "1                               [1.2394559, 0.6004952]   \n",
            "2                               [1.2444407, 0.6192747]   \n",
            "3                             [0.42167205, 0.14722379]   \n",
            "4                              [0.5030984, 0.15740843]   \n",
            "..                                                 ...   \n",
            "211  [0.23191142, 0.50843316, 1.2102625, 4.167164, ...   \n",
            "212  [0.23824672, 0.5072552, 1.230223, 4.042508, 0....   \n",
            "213  [0.21634533, 0.4467713, 1.1897233, 3.9221182, ...   \n",
            "214  [0.22993146, 0.5042922, 1.2027463, 4.119898, 0...   \n",
            "215  [0.23639008, 0.50417084, 1.2229766, 3.9987044,...   \n",
            "\n",
            "                                                   eta  seed  perplexity_exp  \n",
            "0    [1.739629, 0.35566548, 39.863552, 1.5368836, 2...     0     1626.479738  \n",
            "1    [1.7702157, 0.3531874, 39.314194, 1.4227726, 4...     0     1633.143939  \n",
            "2    [1.7559315, 0.35219216, 38.847042, 1.4052588, ...     0     1634.355580  \n",
            "3    [4.663677, 0.37952274, 48.57549, 1.7211759, 3....     0     1596.699282  \n",
            "4    [3.3303046, 0.37670243, 47.061813, 1.7029302, ...     0     1599.246829  \n",
            "..                                                 ...   ...             ...  \n",
            "211  [0.104433835, 0.098377, 0.10557609, 0.10489288...     2     1999.299034  \n",
            "212  [0.10436629, 0.09831788, 0.10550889, 0.1048261...     2     2000.925859  \n",
            "213  [0.10444951, 0.09259433, 0.12458533, 0.1049074...     2     1964.276519  \n",
            "214  [0.10442303, 0.0983954, 0.10556254, 0.10488045...     2     1975.879149  \n",
            "215  [0.10435813, 0.09833849, 0.10549795, 0.1048163...     2     1980.648503  \n",
            "\n",
            "[216 rows x 10 columns]\n",
            "\n",
            "Optimal Parameters:\n",
            "Number of Topics: 2\n",
            "Chunksize: 1000\n",
            "Passes: 200\n",
            "Iterations: 50\n",
            "Coherence: 0.7326\n",
            "Perplexity: 1596.6993\n",
            " Alpha (per topic): [0.42167205 0.14722379]\n",
            " Eta   (per word):  [ 4.663677    0.37952274 48.57549    ...  0.405695    0.46002072\n",
            "  0.405695  ]\n",
            " seed:  0\n"
          ]
        }
      ],
      "source": [
        "import gensim\n",
        "from gensim import corpora\n",
        "from gensim.models import LdaModel\n",
        "from gensim.models.coherencemodel import CoherenceModel\n",
        "import pandas as pd\n",
        "import numpy as np\n",
        "import itertools\n",
        "\n",
        "\n",
        "texts = high_neu_first_wave_df['trigram_tokens'].tolist()\n",
        "\n",
        "# Create a Dictionary and Corpus\n",
        "dictionary = corpora.Dictionary(texts)\n",
        "corpus = [dictionary.doc2bow(text) for text in texts]\n",
        "\n",
        "# Function to compute coherence and perplexity\n",
        "def compute_coherence_and_perplexity(corpus, dictionary, texts, num_topics, chunksize, passes, iterations, seed):\n",
        "    lda_model = LdaModel(corpus=corpus,\n",
        "                         id2word=dictionary,\n",
        "                         num_topics=num_topics,\n",
        "                         random_state=seed,\n",
        "                         chunksize=chunksize,\n",
        "                         passes=passes,\n",
        "                         iterations=iterations,\n",
        "                         alpha='auto',\n",
        "                         eta='auto',\n",
        "                         per_word_topics=True)\n",
        "\n",
        "    perplexity = lda_model.log_perplexity(corpus)\n",
        "    coherence_model_lda = CoherenceModel(model=lda_model, texts=texts, dictionary=dictionary, coherence='c_v')\n",
        "    coherence = coherence_model_lda.get_coherence()\n",
        "\n",
        "     # Extract alpha and eta\n",
        "    alpha = lda_model.alpha\n",
        "    eta = lda_model.eta\n",
        "    return perplexity, coherence, alpha, eta\n",
        "\n",
        "# Define the parameter grid with your specific values\n",
        "seeds = [0, 1, 2]\n",
        "num_topics_range = range(2, 10)  # Adjust the range based on your needs\n",
        "chunksize_range = [1000]\n",
        "passes_range = [100, 200,260]\n",
        "iterations_range = [50,100, 200]\n",
        "\n",
        "# Store results\n",
        "results = []\n",
        "\n",
        "# Grid search over all combinations of hyperparameters\n",
        "for seed in [0, 1, 2]:\n",
        " for num_topics, chunksize, passes, iterations in itertools.product(num_topics_range, chunksize_range, passes_range, iterations_range):\n",
        "    perplexity, coherence , alpha, eta = compute_coherence_and_perplexity(corpus, dictionary, texts, num_topics, chunksize, passes, iterations, seed)\n",
        "    results.append((num_topics, chunksize, passes, iterations, perplexity, coherence,alpha,eta,seed))\n",
        "    print(f\"Num Topics: {num_topics}, Chunksize: {chunksize}, Passes: {passes}, Iterations: {iterations}, Perplexity: {perplexity:.4f}, Coherence: {coherence:.4f} ,Alpha: {alpha}, Eta: {eta}\")\n",
        "\n",
        "# Convert results to a DataFrame for better analysis\n",
        "results_df = pd.DataFrame(results, columns=['num_topics', 'chunksize', 'passes', 'iterations', 'perplexity', 'coherence','alpha','eta', 'seed'])\n",
        "# Add exponentiated perplexity column\n",
        "results_df['perplexity_exp'] = np.exp(-results_df['perplexity'])\n",
        "\n",
        "# Display results\n",
        "print(\"\\nResults:\")\n",
        "print(results_df)\n",
        "\n",
        "# Find the optimal number of topics with the highest coherence\n",
        "optimal_result = results_df.sort_values(\n",
        "    by=['coherence', 'perplexity_exp'],\n",
        "    ascending=[False, True]\n",
        ").iloc[0]\n",
        "optimal_num_topics = optimal_result['num_topics']\n",
        "optimal_chunksize = optimal_result['chunksize']\n",
        "optimal_passes = optimal_result['passes']\n",
        "optimal_iterations = optimal_result['iterations']\n",
        "optimal_perplexity = optimal_result['perplexity_exp']\n",
        "optimal_coherence = optimal_result['coherence']\n",
        "optimal_alpha = optimal_result['alpha']\n",
        "optimal_eta   = optimal_result['eta']\n",
        "optimal_seed = optimal_result['seed']\n",
        "\n",
        "print(f\"\\nOptimal Parameters:\")\n",
        "print(f\"Number of Topics: {optimal_num_topics}\")\n",
        "print(f\"Chunksize: {optimal_chunksize}\")\n",
        "print(f\"Passes: {optimal_passes}\")\n",
        "print(f\"Iterations: {optimal_iterations}\")\n",
        "print(f\"Coherence: {optimal_coherence:.4f}\")\n",
        "print(f\"Perplexity: {optimal_perplexity:.4f}\")\n",
        "print(f\" Alpha (per topic): {optimal_alpha}\")\n",
        "print(f\" Eta   (per word):  {optimal_eta}\")\n",
        "print(f\" seed:  {optimal_seed}\")"
      ]
    },
    {
      "cell_type": "code",
      "execution_count": 98,
      "metadata": {
        "id": "H7tC5hqNviVC",
        "colab": {
          "base_uri": "https://localhost:8080/"
        },
        "outputId": "eeb72ced-ec7b-44d5-9ec6-6112ad4684b3"
      },
      "outputs": [
        {
          "output_type": "stream",
          "name": "stderr",
          "text": [
            "WARNING:gensim.models.ldamodel:updated prior is not positive\n",
            "WARNING:gensim.models.ldamodel:updated prior is not positive\n"
          ]
        },
        {
          "output_type": "stream",
          "name": "stdout",
          "text": [
            "Re-fitted Optimal Model:\n",
            " Coherence: 0.7326\n",
            " Perplexity: -7.3757\n",
            " Alpha (per topic): [0.42167205 0.14722379]\n",
            " Eta   (per word):  [ 4.663677    0.37952274 48.57549    ...  0.405695    0.46002072\n",
            "  0.405695  ]\n"
          ]
        }
      ],
      "source": [
        "# 1. Fit the model\n",
        "lda_opt = LdaModel(\n",
        "    corpus        = corpus,\n",
        "    id2word       = dictionary,\n",
        "    num_topics    = optimal_num_topics,\n",
        "    chunksize     = optimal_chunksize,\n",
        "    passes        = optimal_passes,\n",
        "    iterations    = optimal_iterations,\n",
        "    alpha         = 'auto',\n",
        "    eta           = 'auto',\n",
        "    random_state  = optimal_seed,\n",
        "    per_word_topics=True\n",
        ")\n",
        "\n",
        "# 2. Extract metrics and priors\n",
        "opt_perp  = lda_opt.log_perplexity(corpus)\n",
        "opt_coh   = CoherenceModel(model=lda_opt, texts=texts, dictionary=dictionary, coherence='c_v').get_coherence()\n",
        "opt_alpha = lda_opt.alpha\n",
        "opt_eta   = lda_opt.eta\n",
        "\n",
        "print(f\"Re-fitted Optimal Model:\")\n",
        "print(f\" Coherence: {opt_coh:.4f}\")\n",
        "print(f\" Perplexity: {opt_perp:.4f}\")\n",
        "print(f\" Alpha (per topic): {opt_alpha}\")\n",
        "print(f\" Eta   (per word):  {opt_eta}\")\n"
      ]
    },
    {
      "cell_type": "code",
      "execution_count": null,
      "metadata": {
        "id": "_lI4t6LJd6oV"
      },
      "outputs": [],
      "source": [
        "lda_opt.save('/content/drive/MyDrive/lda_model_neutral_1st_wave.gensim')\n"
      ]
    },
    {
      "cell_type": "code",
      "execution_count": 100,
      "metadata": {
        "id": "TTw6J1MbvuyA",
        "colab": {
          "base_uri": "https://localhost:8080/",
          "height": 17
        },
        "outputId": "b827f979-23a7-49e0-9cfe-53e7c2d08115"
      },
      "outputs": [
        {
          "output_type": "display_data",
          "data": {
            "text/plain": [
              "<IPython.core.display.Javascript object>"
            ],
            "application/javascript": [
              "\n",
              "    async function download(id, filename, size) {\n",
              "      if (!google.colab.kernel.accessAllowed) {\n",
              "        return;\n",
              "      }\n",
              "      const div = document.createElement('div');\n",
              "      const label = document.createElement('label');\n",
              "      label.textContent = `Downloading \"${filename}\": `;\n",
              "      div.appendChild(label);\n",
              "      const progress = document.createElement('progress');\n",
              "      progress.max = size;\n",
              "      div.appendChild(progress);\n",
              "      document.body.appendChild(div);\n",
              "\n",
              "      const buffers = [];\n",
              "      let downloaded = 0;\n",
              "\n",
              "      const channel = await google.colab.kernel.comms.open(id);\n",
              "      // Send a message to notify the kernel that we're ready.\n",
              "      channel.send({})\n",
              "\n",
              "      for await (const message of channel.messages) {\n",
              "        // Send a message to notify the kernel that we're ready.\n",
              "        channel.send({})\n",
              "        if (message.buffers) {\n",
              "          for (const buffer of message.buffers) {\n",
              "            buffers.push(buffer);\n",
              "            downloaded += buffer.byteLength;\n",
              "            progress.value = downloaded;\n",
              "          }\n",
              "        }\n",
              "      }\n",
              "      const blob = new Blob(buffers, {type: 'application/binary'});\n",
              "      const a = document.createElement('a');\n",
              "      a.href = window.URL.createObjectURL(blob);\n",
              "      a.download = filename;\n",
              "      div.appendChild(a);\n",
              "      a.click();\n",
              "      div.remove();\n",
              "    }\n",
              "  "
            ]
          },
          "metadata": {}
        },
        {
          "output_type": "display_data",
          "data": {
            "text/plain": [
              "<IPython.core.display.Javascript object>"
            ],
            "application/javascript": [
              "download(\"download_47b5601e-29f3-4570-9c5e-d6ddac633f99\", \"lda_model_full_summary_1st_mild_neu.txt\", 223838)"
            ]
          },
          "metadata": {}
        }
      ],
      "source": [
        "import numpy as np\n",
        "from google.colab import files\n",
        "\n",
        "# 1. Grab your metrics & hyper‐params\n",
        "coherence_val  = opt_coh\n",
        "perplexity_val = opt_perp\n",
        "alpha_val      = opt_alpha\n",
        "eta_vals       = opt_eta  # full array\n",
        "\n",
        "# 2. Write them into a single text file\n",
        "with open('lda_model_full_summary_1st_mild_neu.txt', 'w') as f:\n",
        "    f.write(\"Re-fitted Optimal Model:\\n\")\n",
        "    f.write(f\" Coherence:  {coherence_val:.4f}\\n\")\n",
        "    f.write(f\" Perplexity: {perplexity_val:.4f}\\n\")\n",
        "    f.write(f\" Alpha:      {alpha_val}\\n\")\n",
        "    f.write(\" Eta values:\\n\")\n",
        "    for eta in eta_vals:\n",
        "        f.write(f\"{eta}\\n\")\n",
        "\n",
        "# 3. Trigger the download\n",
        "files.download('lda_model_full_summary_1st_mild_neu.txt')\n"
      ]
    },
    {
      "cell_type": "code",
      "execution_count": 101,
      "metadata": {
        "id": "TQffKNyfv1fy",
        "colab": {
          "base_uri": "https://localhost:8080/"
        },
        "outputId": "938c8d37-920a-40b8-f293-35d301458d74"
      },
      "outputs": [
        {
          "output_type": "stream",
          "name": "stdout",
          "text": [
            "Alpha match: True\n",
            "Eta   match: True\n"
          ]
        }
      ],
      "source": [
        "# Cell 3: verify that the refit recovered the same priors\n",
        "import numpy as np\n",
        "\n",
        "print(\"Alpha match:\", np.allclose(optimal_alpha, opt_alpha))\n",
        "print(\"Eta   match:\", np.allclose(optimal_eta,   opt_eta))\n"
      ]
    },
    {
      "cell_type": "code",
      "execution_count": 102,
      "metadata": {
        "id": "a5zjHu4bv3LW",
        "colab": {
          "base_uri": "https://localhost:8080/"
        },
        "outputId": "bf68e0e7-09a9-4fcd-924b-afe8b2a87a40"
      },
      "outputs": [
        {
          "output_type": "stream",
          "name": "stdout",
          "text": [
            "=== Topics ===\n",
            "[(0,\n",
            "  '0.019*\"flight\" + 0.012*\"cancel\" + 0.012*\"airline\" + 0.011*\"delete\" + '\n",
            "  '0.010*\"refund\" + 0.010*\"travel\" + 0.008*\"point\" + 0.007*\"time\" + '\n",
            "  '0.007*\"book\" + 0.006*\"get\"'),\n",
            " (1,\n",
            "  '0.025*\"flight\" + 0.014*\"mile\" + 0.013*\"book\" + 0.012*\"fly\" + 0.012*\"ticket\" '\n",
            "  '+ 0.012*\"seat\" + 0.011*\"award\" + 0.009*\"airline\" + 0.008*\"way\" + '\n",
            "  '0.007*\"time\"')]\n",
            "\n",
            "Sample doc-topic distribution for doc 0:\n",
            "[(0, 0.9585049), (1, 0.041495074)]\n"
          ]
        }
      ],
      "source": [
        "#  Imports\n",
        "from pprint import pprint\n",
        "import pyLDAvis.gensim_models as gensimvis\n",
        "import pyLDAvis\n",
        "\n",
        "#  Print topics & sample document–topic distribution\n",
        "print(\"=== Topics ===\")\n",
        "pprint(lda_opt.print_topics())\n",
        "\n",
        "doc_topics = [lda_opt.get_document_topics(doc) for doc in corpus]\n",
        "print(\"\\nSample doc-topic distribution for doc 0:\")\n",
        "pprint(doc_topics[0])\n",
        "\n"
      ]
    },
    {
      "cell_type": "code",
      "execution_count": 103,
      "metadata": {
        "id": "qBrSGFowv5x2",
        "colab": {
          "base_uri": "https://localhost:8080/",
          "height": 861
        },
        "outputId": "f97f0d90-da46-4f40-d129-871774c15105"
      },
      "outputs": [
        {
          "output_type": "execute_result",
          "data": {
            "text/plain": [
              "<IPython.core.display.HTML object>"
            ],
            "text/html": [
              "\n",
              "<link rel=\"stylesheet\" type=\"text/css\" href=\"https://cdn.jsdelivr.net/gh/bmabey/pyLDAvis@3.4.0/pyLDAvis/js/ldavis.v1.0.0.css\">\n",
              "\n",
              "\n",
              "<div id=\"ldavis_el87391402540454121927605690393\" style=\"background-color:white;\"></div>\n",
              "<script type=\"text/javascript\">\n",
              "\n",
              "var ldavis_el87391402540454121927605690393_data = {\"mdsDat\": {\"x\": [0.10890809870620041, -0.10890809870620041], \"y\": [0.0, 0.0], \"topics\": [1, 2], \"cluster\": [1, 1], \"Freq\": [65.53912174055927, 34.46087825944073]}, \"tinfo\": {\"Term\": [\"mile\", \"seat\", \"award\", \"cancel\", \"delete\", \"refund\", \"fly\", \"availability\", \"flight\", \"transfer\", \"fare\", \"route\", \"book\", \"ticket\", \"thank\", \"bag\", \"class\", \"ana\", \"partner\", \"find\", \"economy\", \"space\", \"check\", \"search\", \"cheap\", \"leg\", \"look\", \"way\", \"credit\", \"price\", \"delete\", \"refund\", \"cancel\", \"credit\", \"hotel\", \"remove\", \"night\", \"email\", \"cancellation\", \"voucher\", \"company\", \"request\", \"policy\", \"contact\", \"card\", \"insurance\", \"thank\", \"send\", \"phone\", \"wait\", \"tell\", \"reservation\", \"receive\", \"passport\", \"lol\", \"hyatt\", \"covid\", \"hilton\", \"form\", \"safe\", \"stay\", \"ask\", \"say\", \"country\", \"take\", \"room\", \"post\", \"ill\", \"travel\", \"get\", \"change\", \"week\", \"issue\", \"airline\", \"go\", \"people\", \"flight\", \"know\", \"trip\", \"day\", \"point\", \"like\", \"time\", \"think\", \"year\", \"try\", \"want\", \"book\", \"sure\", \"ticket\", \"need\", \"use\", \"pay\", \"mile\", \"seat\", \"availability\", \"award\", \"transfer\", \"ana\", \"class\", \"economy\", \"space\", \"search\", \"partner\", \"business_class\", \"bag\", \"connection\", \"redemption\", \"alaska\", \"route\", \"lax\", \"fare\", \"saver\", \"jfk\", \"oneway\", \"metal\", \"nonstop\", \"lounge\", \"row\", \"roundtrip\", \"aeroplan\", \"hub\", \"segment\", \"luggage\", \"leg\", \"fly\", \"cheap\", \"find\", \"book\", \"ticket\", \"check\", \"flight\", \"price\", \"airport\", \"united\", \"look\", \"way\", \"delta\", \"time\", \"airline\", \"point\", \"good\", \"think\", \"like\", \"pay\", \"need\", \"want\", \"day\"], \"Freq\": [804.0, 670.0, 638.0, 1361.0, 1214.0, 1107.0, 1012.0, 349.0, 3458.0, 339.0, 334.0, 328.0, 1473.0, 1303.0, 693.0, 257.0, 238.0, 235.0, 215.0, 558.0, 209.0, 206.0, 582.0, 191.0, 336.0, 224.0, 674.0, 833.0, 447.0, 449.0, 1214.2139411177748, 1107.4937802315108, 1361.2595269966027, 446.5228246250533, 395.90479106941115, 283.579099478697, 341.64145652257497, 249.60325502072948, 260.55252064677745, 226.6756465212909, 203.09204399125701, 200.22479874063512, 214.3378380960704, 175.1328485616489, 296.91245101386966, 153.41888257142645, 691.5714807557808, 153.1570230354613, 209.3749770216175, 370.9068129788538, 306.1468344063831, 169.2509991152257, 147.00301155002674, 188.44665339240345, 140.49627959210818, 133.09014421850523, 116.45523572632487, 100.17383186991732, 101.59668021914653, 136.40185067108814, 340.4211964402388, 482.4209274422279, 475.47408224464874, 259.34590373060394, 265.05512249789035, 181.14857954518237, 183.15395921300106, 249.57137846427466, 1047.9006344429363, 695.5160133577276, 620.4987454467305, 367.42752509367654, 372.01160342308793, 1332.9605912282989, 649.6275427351568, 512.696158708241, 2044.7102382349308, 601.179104115566, 482.4538750509796, 658.2408943041946, 830.9349185339745, 649.2768496116632, 745.5658281686285, 620.4310141395753, 451.79862422953465, 516.2026819232532, 522.5295918508988, 716.5340886192959, 447.0844640485423, 616.0156775494131, 465.33335909776633, 418.0741200439022, 426.32290581207735, 803.3734137946991, 669.8722934228862, 348.916125019052, 637.2830589314735, 338.6146931671534, 234.88606566373724, 237.90273120471852, 209.41465900043374, 206.33714471768673, 190.61368503131348, 214.74704958530415, 121.574525628885, 256.1901782650366, 119.91354806415434, 140.65916093164435, 125.81710961707132, 326.27366190802985, 90.73417622776851, 332.0020520280628, 74.68212931324624, 75.26764760471487, 73.45942225291931, 72.71096127525912, 66.81389624402252, 104.65045644199752, 66.12614992099329, 62.93758467321676, 68.81168057826459, 80.9032092013357, 70.72989760672483, 67.46073258222863, 206.32216718473117, 689.7980707308695, 257.4506241494489, 366.66896667297954, 756.6928014040976, 687.5148886345929, 363.4237362020426, 1413.696752501602, 293.1634988979748, 275.8730165022153, 311.06839536274936, 381.553309069864, 434.70660244826684, 241.55440659861782, 418.60381025758494, 521.3425797145862, 397.1902825543005, 276.3415705860104, 286.1332836037347, 287.77402741982615, 259.5905743683475, 249.30413345811795, 249.94260275911344, 244.26433441006338], \"Total\": [804.0, 670.0, 638.0, 1361.0, 1214.0, 1107.0, 1012.0, 349.0, 3458.0, 339.0, 334.0, 328.0, 1473.0, 1303.0, 693.0, 257.0, 238.0, 235.0, 215.0, 558.0, 209.0, 206.0, 582.0, 191.0, 336.0, 224.0, 674.0, 833.0, 447.0, 449.0, 1214.6704322305734, 1107.9747948337058, 1361.8862583307703, 447.05044608207737, 396.5501270982857, 284.0510703226731, 342.27746689598075, 250.09554938887172, 261.081423054961, 227.1541817161816, 203.6073476593507, 200.75396062837564, 214.90999963282522, 175.64196206573854, 297.8090376303053, 153.9010649363833, 693.7771133481431, 153.66019726514673, 210.10129581359047, 372.20358673452466, 307.24430073064184, 169.94084861591517, 147.61621558740583, 189.2522288375034, 141.09970920113926, 133.67914568518884, 116.97839113896042, 100.65551428889702, 102.10499847129576, 137.10229179835878, 342.20429302493096, 486.67288956842555, 480.4854640386193, 260.94450008427606, 267.28405608209994, 182.2255899342294, 184.4282328331882, 253.3141916266209, 1149.0474074616975, 835.0701085767492, 743.754643293547, 408.657820616542, 420.1304444779358, 1854.3031709428851, 836.178132816908, 628.1984411686486, 3458.406990736533, 788.0300761966641, 599.0003878909577, 902.505228714258, 1228.125201088275, 937.0508770314893, 1164.1696384262134, 906.5642977433099, 587.3204779487082, 738.4305868453853, 772.4721946100123, 1473.2268900233935, 618.4898049865432, 1303.5305661840061, 714.6374925558843, 625.5348747249525, 685.9134801804248, 804.1084209430786, 670.4918490131481, 349.4508346793839, 638.459596630905, 339.38078414187447, 235.42524381959865, 238.4598356401735, 209.9462945653525, 206.9584015697281, 191.20337074415653, 215.45322976753923, 122.0833782717987, 257.2824474982811, 120.47303845985996, 141.3545161839572, 126.44416207534024, 328.027264993147, 91.26481201437834, 334.08204375697596, 75.17311300456086, 75.78410778705499, 73.98559895754518, 73.23636437570553, 67.34355491456276, 105.48963896607016, 66.67471656945168, 63.47570861158766, 69.41107957593063, 81.61438005694073, 71.35953739542838, 68.1800331551005, 224.22519043962552, 1012.8631707150713, 336.09399698934294, 558.7968013085226, 1473.2268900233935, 1303.5305661840061, 582.7901903332211, 3458.406990736533, 449.09239252714514, 421.39282463102126, 497.93919931025164, 674.520640953148, 833.6326025359767, 384.41140020865805, 1164.1696384262134, 1854.3031709428851, 1228.125201088275, 629.6697122410369, 906.5642977433099, 937.0508770314893, 685.9134801804248, 714.6374925558843, 772.4721946100123, 902.505228714258], \"Category\": [\"Default\", \"Default\", \"Default\", \"Default\", \"Default\", \"Default\", \"Default\", \"Default\", \"Default\", \"Default\", \"Default\", \"Default\", \"Default\", \"Default\", \"Default\", \"Default\", \"Default\", \"Default\", \"Default\", \"Default\", \"Default\", \"Default\", \"Default\", \"Default\", \"Default\", \"Default\", \"Default\", \"Default\", \"Default\", \"Default\", \"Topic1\", \"Topic1\", \"Topic1\", \"Topic1\", \"Topic1\", \"Topic1\", \"Topic1\", \"Topic1\", \"Topic1\", \"Topic1\", \"Topic1\", \"Topic1\", \"Topic1\", \"Topic1\", \"Topic1\", \"Topic1\", \"Topic1\", \"Topic1\", \"Topic1\", \"Topic1\", \"Topic1\", \"Topic1\", \"Topic1\", \"Topic1\", \"Topic1\", \"Topic1\", \"Topic1\", \"Topic1\", \"Topic1\", \"Topic1\", \"Topic1\", \"Topic1\", \"Topic1\", \"Topic1\", \"Topic1\", \"Topic1\", \"Topic1\", \"Topic1\", \"Topic1\", \"Topic1\", \"Topic1\", \"Topic1\", \"Topic1\", \"Topic1\", \"Topic1\", \"Topic1\", \"Topic1\", \"Topic1\", \"Topic1\", \"Topic1\", \"Topic1\", \"Topic1\", \"Topic1\", \"Topic1\", \"Topic1\", \"Topic1\", \"Topic1\", \"Topic1\", \"Topic1\", \"Topic1\", \"Topic1\", \"Topic1\", \"Topic1\", \"Topic2\", \"Topic2\", \"Topic2\", \"Topic2\", \"Topic2\", \"Topic2\", \"Topic2\", \"Topic2\", \"Topic2\", \"Topic2\", \"Topic2\", \"Topic2\", \"Topic2\", \"Topic2\", \"Topic2\", \"Topic2\", \"Topic2\", \"Topic2\", \"Topic2\", \"Topic2\", \"Topic2\", \"Topic2\", \"Topic2\", \"Topic2\", \"Topic2\", \"Topic2\", \"Topic2\", \"Topic2\", \"Topic2\", \"Topic2\", \"Topic2\", \"Topic2\", \"Topic2\", \"Topic2\", \"Topic2\", \"Topic2\", \"Topic2\", \"Topic2\", \"Topic2\", \"Topic2\", \"Topic2\", \"Topic2\", \"Topic2\", \"Topic2\", \"Topic2\", \"Topic2\", \"Topic2\", \"Topic2\", \"Topic2\", \"Topic2\", \"Topic2\", \"Topic2\", \"Topic2\", \"Topic2\", \"Topic2\"], \"logprob\": [30.0, 29.0, 28.0, 27.0, 26.0, 25.0, 24.0, 23.0, 22.0, 21.0, 20.0, 19.0, 18.0, 17.0, 16.0, 15.0, 14.0, 13.0, 12.0, 11.0, 10.0, 9.0, 8.0, 7.0, 6.0, 5.0, 4.0, 3.0, 2.0, 1.0, -4.5021, -4.5941, -4.3878, -5.5024, -5.6228, -5.9564, -5.7702, -6.0841, -6.0411, -6.1804, -6.2903, -6.3045, -6.2364, -6.4384, -5.9105, -6.5708, -5.065, -6.5725, -6.2598, -5.688, -5.8799, -6.4725, -6.6135, -6.3651, -6.6587, -6.7129, -6.8464, -6.997, -6.9829, -6.6883, -5.7737, -5.4251, -5.4396, -6.0458, -6.024, -6.4046, -6.3936, -6.0842, -4.6494, -5.0593, -5.1734, -5.6974, -5.685, -4.4088, -5.1275, -5.3642, -3.9809, -5.205, -5.425, -5.1144, -4.8814, -5.1281, -4.9898, -5.1735, -5.4907, -5.3574, -5.3452, -5.0295, -5.5012, -5.1807, -5.4612, -5.5683, -5.5487, -4.2723, -4.454, -5.1063, -4.5039, -5.1362, -5.502, -5.4892, -5.6168, -5.6316, -5.7109, -5.5916, -6.1606, -5.4152, -6.1743, -6.0148, -6.1263, -5.1734, -6.4532, -5.156, -6.6479, -6.6401, -6.6644, -6.6746, -6.7592, -6.3105, -6.7695, -6.819, -6.7297, -6.5679, -6.7022, -6.7496, -5.6317, -4.4247, -5.4103, -5.0566, -4.3321, -4.428, -5.0655, -3.7071, -5.2804, -5.3412, -5.2211, -5.0169, -4.8864, -5.474, -4.9242, -4.7047, -4.9767, -5.3395, -5.3046, -5.2989, -5.402, -5.4424, -5.4399, -5.4629], \"loglift\": [30.0, 29.0, 28.0, 27.0, 26.0, 25.0, 24.0, 23.0, 22.0, 21.0, 20.0, 19.0, 18.0, 17.0, 16.0, 15.0, 14.0, 13.0, 12.0, 11.0, 10.0, 9.0, 8.0, 7.0, 6.0, 5.0, 4.0, 3.0, 2.0, 1.0, 0.4221, 0.4221, 0.4221, 0.4213, 0.4209, 0.4209, 0.4207, 0.4206, 0.4205, 0.4204, 0.42, 0.4199, 0.4199, 0.4196, 0.4195, 0.4194, 0.4193, 0.4192, 0.4191, 0.419, 0.4189, 0.4185, 0.4184, 0.4183, 0.4182, 0.4181, 0.418, 0.4177, 0.4175, 0.4174, 0.4173, 0.4137, 0.412, 0.4164, 0.4141, 0.4166, 0.4156, 0.4076, 0.3304, 0.2397, 0.2413, 0.3162, 0.3009, 0.0924, 0.1701, 0.2194, -0.103, 0.1519, 0.2061, 0.1069, 0.0318, 0.0556, -0.0231, 0.0433, 0.1602, 0.0645, 0.0316, -0.2983, 0.098, -0.327, -0.0065, 0.0196, -0.053, 1.0644, 1.0644, 1.0638, 1.0635, 1.0631, 1.0631, 1.063, 1.0628, 1.0623, 1.0623, 1.0621, 1.0612, 1.0611, 1.0607, 1.0604, 1.0604, 1.06, 1.0595, 1.0591, 1.0588, 1.0585, 1.0582, 1.0581, 1.0574, 1.0574, 1.0571, 1.0568, 1.0567, 1.0566, 1.0565, 1.0547, 0.9821, 0.6812, 0.7988, 0.644, 0.3991, 0.4256, 0.5931, 0.1707, 0.6388, 0.6417, 0.5949, 0.4956, 0.4142, 0.6007, 0.0425, -0.2035, -0.0635, 0.2418, -0.0879, -0.1152, 0.0937, 0.0122, -0.063, -0.2416]}, \"token.table\": {\"Topic\": [1, 2, 1, 2, 1, 2, 1, 2, 1, 2, 1, 2, 1, 2, 1, 2, 1, 2, 1, 2, 1, 2, 1, 2, 1, 2, 1, 2, 1, 2, 1, 2, 1, 2, 1, 2, 1, 2, 1, 2, 1, 2, 1, 2, 1, 2, 1, 2, 1, 2, 1, 1, 2, 1, 2, 1, 1, 2, 1, 2, 1, 2, 1, 2, 1, 2, 1, 2, 1, 2, 1, 2, 1, 1, 2, 1, 2, 1, 2, 1, 2, 1, 1, 2, 1, 2, 1, 2, 1, 2, 1, 2, 1, 2, 1, 2, 1, 2, 1, 2, 1, 2, 1, 2, 1, 2, 1, 2, 1, 2, 1, 2, 1, 2, 1, 2, 1, 2, 1, 2, 1, 2, 1, 2, 1, 2, 1, 2, 1, 2, 1, 2, 1, 2, 1, 2, 1, 1, 1, 2, 1, 2, 1, 2, 1, 2, 1, 2, 1, 2, 1, 2, 2, 1, 2, 1, 2, 1, 2, 1, 2, 1, 2, 1, 2, 1, 2, 1, 2, 1, 2, 1, 2, 1, 2, 1, 2, 1, 2, 1, 2, 1, 2, 1, 2, 1, 2, 1, 2, 1, 2, 1, 2, 1, 1, 2, 1, 2, 1, 2, 1, 2, 1, 2], \"Freq\": [0.014406921864773381, 0.9940776086693632, 0.7188684250171398, 0.2809680790952212, 0.346470066565182, 0.6549708107670564, 0.007908629260433248, 0.9964872868145894, 0.004247632852687109, 0.9981937203814706, 0.990398294894607, 0.008219072986677236, 0.0028616328844012794, 0.9987098766560466, 0.0015662698239276404, 0.997713877841907, 0.003886778945565966, 0.9950154100648873, 0.48668674516836624, 0.5138380280229473, 0.008191123264738491, 0.999317038298096, 0.9993492420344585, 0.0007342757105322986, 0.9996881315644435, 0.0038302227263005495, 0.9972833677690144, 0.0033578564571347287, 0.8336082410920785, 0.16537711879729944, 0.23505329076884696, 0.7646670345265021, 0.37577845961131, 0.6228656659310755, 0.004193578332868436, 0.9980716432226877, 0.9970170641367676, 0.004911414109048116, 0.008300612425685494, 0.9960734910822593, 0.9963450529805726, 0.00569340030274613, 0.9925482235354719, 0.007664465046605961, 0.9916361378419184, 0.008548587395188953, 0.9998871579650138, 0.002236884022293096, 0.7290816485766082, 0.2703585444569793, 0.9994480542106041, 0.37199729228212214, 0.6295338792466683, 0.004763122883736907, 0.9954926827010137, 0.9996179484636764, 0.005986553415169109, 0.9937678669180721, 0.34359538127347483, 0.6567682548300274, 0.5913127071156188, 0.4088587617904572, 0.3188979610858644, 0.6812371304930229, 0.9989716617906295, 0.009793839821476759, 0.833462954608957, 0.16765059431789367, 0.7773463266855435, 0.22363655860030252, 0.5606113699571943, 0.4383250371336703, 0.9934875471698889, 0.998612717382513, 0.0025217492863194775, 0.012252742706644587, 0.9924721592382115, 0.9949195838909068, 0.0074805983751196, 0.9869166760640639, 0.015790666817025022, 0.9941451676324932, 0.885439284130566, 0.11425023021039563, 0.013195378677675932, 0.9896534008256949, 0.7626612462568141, 0.2373005874376443, 0.01095712551122611, 0.9970984215215759, 0.0802764397912136, 0.9187192553883333, 0.692598466004307, 0.30734723915137196, 0.992206155438835, 0.0070871868245631076, 0.43438255586362656, 0.5663281103751036, 0.009479603966808924, 0.9953584165149371, 0.014667050655800255, 0.9826923939386171, 0.013654418928689021, 0.9967725817942986, 0.0012436133908747963, 0.9986215528724613, 0.6506795471042786, 0.34842840264293623, 0.9991893509716049, 0.002921606289390658, 0.014849230951182742, 0.9948984737292438, 0.013516143872455847, 0.9866785026892768, 0.004641378553846412, 0.9978963890769786, 0.9933832808987492, 0.0052839536218018575, 0.6210695842979258, 0.3790565537968561, 0.8166209375586113, 0.18465502681637216, 0.9947582626307665, 0.004759608912108931, 0.6766411105835369, 0.3232569445266717, 0.9957656710512309, 0.00465311061238893, 0.9922558883135859, 0.005422163324117956, 0.34736727362971453, 0.6524269947019639, 0.9958255562578018, 0.006774323511957835, 0.007074411394812537, 0.9974920066685677, 0.9991202012552531, 0.9998202072514104, 0.9962443549008165, 0.0049812217745040825, 0.9944636700147261, 0.00588440041428832, 0.9932743258799616, 0.00548770345790034, 0.015754058077855744, 0.9925056589049118, 0.006097054158110251, 0.9938198277719709, 0.014998188990550124, 0.9898804733763081, 0.9919600775165746, 0.007293824099386578, 0.997697142001418, 0.988583496381946, 0.010406142067178378, 0.005230033320584446, 0.9989363642316293, 0.001491442441055522, 0.9992664355071996, 0.014013543760221526, 0.9949616069757283, 0.9957035245502937, 0.006507866173531331, 0.004831888884023303, 0.9953691101088004, 0.9935585465470173, 0.005844462038511866, 0.7227281620425832, 0.276479900915619, 0.991454574150138, 0.0074826760313217965, 0.9959501259171193, 0.003254738973585357, 0.9974384952833529, 0.002882770217581945, 0.6839007465254832, 0.31547679597788414, 0.47256275838877837, 0.5277973665121422, 0.6408000822014931, 0.35991318289869384, 0.0029465427824044415, 0.9988780032351057, 0.9120598446978648, 0.08789889724664536, 0.804673936351012, 0.19532541608520418, 0.6987792883883365, 0.30063760081823776, 0.3755478585719572, 0.6245742460742176, 0.6682281306598524, 0.33091680154686476, 0.9993212464106241, 0.9967663215040883, 0.002686701675213176, 0.6770470233741424, 0.32363624444270667, 0.4786281136152908, 0.5218126050693019, 0.898061853915599, 0.1003284359960206, 0.7695968674183943, 0.23156011940022483], \"Term\": [\"aeroplan\", \"aeroplan\", \"airline\", \"airline\", \"airport\", \"airport\", \"alaska\", \"alaska\", \"ana\", \"ana\", \"ask\", \"ask\", \"availability\", \"availability\", \"award\", \"award\", \"bag\", \"bag\", \"book\", \"book\", \"business_class\", \"business_class\", \"cancel\", \"cancel\", \"cancellation\", \"cancellation\", \"card\", \"card\", \"change\", \"change\", \"cheap\", \"cheap\", \"check\", \"check\", \"class\", \"class\", \"company\", \"company\", \"connection\", \"connection\", \"contact\", \"contact\", \"country\", \"country\", \"covid\", \"covid\", \"credit\", \"credit\", \"day\", \"day\", \"delete\", \"delta\", \"delta\", \"economy\", \"economy\", \"email\", \"fare\", \"fare\", \"find\", \"find\", \"flight\", \"flight\", \"fly\", \"fly\", \"form\", \"form\", \"get\", \"get\", \"go\", \"go\", \"good\", \"good\", \"hilton\", \"hotel\", \"hotel\", \"hub\", \"hub\", \"hyatt\", \"hyatt\", \"ill\", \"ill\", \"insurance\", \"issue\", \"issue\", \"jfk\", \"jfk\", \"know\", \"know\", \"lax\", \"lax\", \"leg\", \"leg\", \"like\", \"like\", \"lol\", \"lol\", \"look\", \"look\", \"lounge\", \"lounge\", \"luggage\", \"luggage\", \"metal\", \"metal\", \"mile\", \"mile\", \"need\", \"need\", \"night\", \"night\", \"nonstop\", \"nonstop\", \"oneway\", \"oneway\", \"partner\", \"partner\", \"passport\", \"passport\", \"pay\", \"pay\", \"people\", \"people\", \"phone\", \"phone\", \"point\", \"point\", \"policy\", \"policy\", \"post\", \"post\", \"price\", \"price\", \"receive\", \"receive\", \"redemption\", \"redemption\", \"refund\", \"remove\", \"request\", \"request\", \"reservation\", \"reservation\", \"room\", \"room\", \"roundtrip\", \"roundtrip\", \"route\", \"route\", \"row\", \"row\", \"safe\", \"safe\", \"saver\", \"say\", \"say\", \"search\", \"search\", \"seat\", \"seat\", \"segment\", \"segment\", \"send\", \"send\", \"space\", \"space\", \"stay\", \"stay\", \"sure\", \"sure\", \"take\", \"take\", \"tell\", \"tell\", \"thank\", \"thank\", \"think\", \"think\", \"ticket\", \"ticket\", \"time\", \"time\", \"transfer\", \"transfer\", \"travel\", \"travel\", \"trip\", \"trip\", \"try\", \"try\", \"united\", \"united\", \"use\", \"use\", \"voucher\", \"wait\", \"wait\", \"want\", \"want\", \"way\", \"way\", \"week\", \"week\", \"year\", \"year\"]}, \"R\": 30, \"lambda.step\": 0.01, \"plot.opts\": {\"xlab\": \"PC1\", \"ylab\": \"PC2\"}, \"topic.order\": [1, 2]};\n",
              "\n",
              "function LDAvis_load_lib(url, callback){\n",
              "  var s = document.createElement('script');\n",
              "  s.src = url;\n",
              "  s.async = true;\n",
              "  s.onreadystatechange = s.onload = callback;\n",
              "  s.onerror = function(){console.warn(\"failed to load library \" + url);};\n",
              "  document.getElementsByTagName(\"head\")[0].appendChild(s);\n",
              "}\n",
              "\n",
              "if(typeof(LDAvis) !== \"undefined\"){\n",
              "   // already loaded: just create the visualization\n",
              "   !function(LDAvis){\n",
              "       new LDAvis(\"#\" + \"ldavis_el87391402540454121927605690393\", ldavis_el87391402540454121927605690393_data);\n",
              "   }(LDAvis);\n",
              "}else if(typeof define === \"function\" && define.amd){\n",
              "   // require.js is available: use it to load d3/LDAvis\n",
              "   require.config({paths: {d3: \"https://d3js.org/d3.v5\"}});\n",
              "   require([\"d3\"], function(d3){\n",
              "      window.d3 = d3;\n",
              "      LDAvis_load_lib(\"https://cdn.jsdelivr.net/gh/bmabey/pyLDAvis@3.4.0/pyLDAvis/js/ldavis.v3.0.0.js\", function(){\n",
              "        new LDAvis(\"#\" + \"ldavis_el87391402540454121927605690393\", ldavis_el87391402540454121927605690393_data);\n",
              "      });\n",
              "    });\n",
              "}else{\n",
              "    // require.js not available: dynamically load d3 & LDAvis\n",
              "    LDAvis_load_lib(\"https://d3js.org/d3.v5.js\", function(){\n",
              "         LDAvis_load_lib(\"https://cdn.jsdelivr.net/gh/bmabey/pyLDAvis@3.4.0/pyLDAvis/js/ldavis.v3.0.0.js\", function(){\n",
              "                 new LDAvis(\"#\" + \"ldavis_el87391402540454121927605690393\", ldavis_el87391402540454121927605690393_data);\n",
              "            })\n",
              "         });\n",
              "}\n",
              "</script>"
            ]
          },
          "metadata": {},
          "execution_count": 103
        }
      ],
      "source": [
        "\n",
        "pyLDAvis.enable_notebook()\n",
        "vis_data = gensimvis.prepare(lda_opt, corpus, dictionary)\n",
        "pyLDAvis.display(vis_data)\n"
      ]
    },
    {
      "cell_type": "code",
      "execution_count": 104,
      "metadata": {
        "id": "0rQhophGv7l5",
        "colab": {
          "base_uri": "https://localhost:8080/"
        },
        "outputId": "820c6190-9ada-455b-d911-311fff6d3ae4"
      },
      "outputs": [
        {
          "output_type": "stream",
          "name": "stdout",
          "text": [
            "\n",
            "=== Top 30 terms per topic ===\n",
            "Topic 1:\n",
            "  flight (0.0187)\n",
            "  cancel (0.0124)\n",
            "  airline (0.0122)\n",
            "  delete (0.0111)\n",
            "  refund (0.0101)\n",
            "  travel (0.0096)\n",
            "  point (0.0076)\n",
            "  time (0.0068)\n",
            "  book (0.0065)\n",
            "  get (0.0064)\n",
            "  thank (0.0063)\n",
            "  day (0.0060)\n",
            "  go (0.0059)\n",
            "  like (0.0059)\n",
            "  change (0.0057)\n",
            "  think (0.0057)\n",
            "  ticket (0.0056)\n",
            "  know (0.0055)\n",
            "  want (0.0048)\n",
            "  try (0.0047)\n",
            "  people (0.0047)\n",
            "  trip (0.0044)\n",
            "  ask (0.0044)\n",
            "  say (0.0043)\n",
            "  need (0.0042)\n",
            "  year (0.0041)\n",
            "  sure (0.0041)\n",
            "  credit (0.0041)\n",
            "  pay (0.0039)\n",
            "  use (0.0038)\n",
            "\n",
            "Topic 2:\n",
            "  flight (0.0245)\n",
            "  mile (0.0139)\n",
            "  book (0.0131)\n",
            "  fly (0.0120)\n",
            "  ticket (0.0119)\n",
            "  seat (0.0116)\n",
            "  award (0.0111)\n",
            "  airline (0.0091)\n",
            "  way (0.0075)\n",
            "  time (0.0073)\n",
            "  point (0.0069)\n",
            "  look (0.0066)\n",
            "  find (0.0064)\n",
            "  check (0.0063)\n",
            "  availability (0.0061)\n",
            "  transfer (0.0059)\n",
            "  fare (0.0058)\n",
            "  route (0.0057)\n",
            "  united (0.0054)\n",
            "  price (0.0051)\n",
            "  like (0.0050)\n",
            "  think (0.0050)\n",
            "  good (0.0048)\n",
            "  airport (0.0048)\n",
            "  pay (0.0045)\n",
            "  cheap (0.0045)\n",
            "  bag (0.0044)\n",
            "  want (0.0043)\n",
            "  need (0.0043)\n",
            "  day (0.0042)\n",
            "\n"
          ]
        }
      ],
      "source": [
        "\n",
        "print(\"\\n=== Top 30 terms per topic ===\")\n",
        "for topic_id, term_weights in lda_opt.show_topics(\n",
        "        num_topics=lda_opt.num_topics,\n",
        "        num_words=30,\n",
        "        formatted=False):\n",
        "    print(f\"Topic {topic_id + 1}:\")\n",
        "    for word, weight in term_weights:\n",
        "        print(f\"  {word} ({weight:.4f})\")\n",
        "    print()\n"
      ]
    },
    {
      "cell_type": "code",
      "execution_count": 105,
      "metadata": {
        "id": "dKJ2VqkT1z5O"
      },
      "outputs": [],
      "source": [
        "# import gensim.corpora as corpora\n",
        "# # Create Dictionary\n",
        "# id2word = corpora.Dictionary(high_neu_first_wave_df['trigram_tokens'].tolist())\n",
        "\n",
        "# ## pruning\n",
        "# id2word.filter_extremes(no_below=5, no_above=0.7)\n",
        "\n",
        "# #    (Optional) Re-map the remaining token IDs to remove gaps\n",
        "# id2word.compactify()\n",
        "\n",
        "# # 2. Convert each document to a Bag-of-Words\n",
        "# texts = high_neu_first_wave_df['trigram_tokens'].tolist()\n",
        "\n",
        "# # # Term Document Frequency\n",
        "# corpus = [id2word.doc2bow(text) for text in texts]\n",
        "\n",
        "\n",
        "# # # View\n",
        "# print(corpus[:1][0][:30])"
      ]
    },
    {
      "cell_type": "code",
      "execution_count": 106,
      "metadata": {
        "id": "8hqcY9LQ13L0"
      },
      "outputs": [],
      "source": [
        "# import gensim\n",
        "# from gensim import corpora\n",
        "# from gensim.models import LdaModel\n",
        "# from gensim.models.coherencemodel import CoherenceModel\n",
        "# import pandas as pd\n",
        "# import numpy as np\n",
        "# import itertools\n",
        "\n",
        "\n",
        "# # Create a Dictionary and Corpus\n",
        "# dictionary = id2word\n",
        "\n",
        "\n",
        "# # Function to compute coherence and perplexity\n",
        "# def compute_coherence_and_perplexity(corpus, dictionary, texts, num_topics, chunksize, passes, iterations):\n",
        "#     lda_model = LdaModel(corpus=corpus,\n",
        "#                          id2word=dictionary,\n",
        "#                          num_topics=num_topics,\n",
        "#                          random_state=100,\n",
        "#                          chunksize=chunksize,\n",
        "#                          passes=passes,\n",
        "#                          iterations=iterations,\n",
        "#                          alpha='auto',\n",
        "#                          eta='auto',\n",
        "#                          per_word_topics=True)\n",
        "\n",
        "#     perplexity = lda_model.log_perplexity(corpus)\n",
        "#     coherence_model_lda = CoherenceModel(model=lda_model, texts=texts, dictionary=dictionary, coherence='c_v')\n",
        "#     coherence = coherence_model_lda.get_coherence()\n",
        "\n",
        "#      # Extract alpha and eta\n",
        "#     alpha = lda_model.alpha\n",
        "#     eta = lda_model.eta\n",
        "#     return perplexity, coherence, alpha, eta\n",
        "\n",
        "# # Define the parameter grid with your specific values\n",
        "# num_topics_range = range(2, 10)  # Adjust the range based on your needs\n",
        "# chunksize_range = [250]\n",
        "# passes_range = [100, 200,260]\n",
        "# iterations_range = [50,100, 200]\n",
        "\n",
        "# # Store results\n",
        "# results = []\n",
        "\n",
        "# # Grid search over all combinations of hyperparameters\n",
        "# for num_topics, chunksize, passes, iterations in itertools.product(num_topics_range, chunksize_range, passes_range, iterations_range):\n",
        "#     perplexity, coherence , alpha, eta = compute_coherence_and_perplexity(corpus, dictionary, texts, num_topics, chunksize, passes, iterations)\n",
        "#     results.append((num_topics, chunksize, passes, iterations, perplexity, coherence,alpha,eta))\n",
        "#     print(f\"Num Topics: {num_topics}, Chunksize: {chunksize}, Passes: {passes}, Iterations: {iterations}, Perplexity: {perplexity:.4f}, Coherence: {coherence:.4f} ,Alpha: {alpha}, Eta: {eta}\")\n",
        "\n",
        "# # Convert results to a DataFrame for better analysis\n",
        "# results_df = pd.DataFrame(results, columns=['num_topics', 'chunksize', 'passes', 'iterations', 'perplexity', 'coherence','alpha','eta'])\n",
        "# # Add exponentiated perplexity column\n",
        "# results_df['perplexity_exp'] = np.exp(-results_df['perplexity'])\n",
        "\n",
        "# # Display results\n",
        "# print(\"\\nResults:\")\n",
        "# print(results_df)\n",
        "\n",
        "# # Find the optimal number of topics with the highest coherence\n",
        "# optimal_result = results_df.sort_values(\n",
        "#     by=['coherence', 'perplexity_exp'],\n",
        "#     ascending=[False, True]\n",
        "# ).iloc[0]\n",
        "# optimal_num_topics = optimal_result['num_topics']\n",
        "# optimal_chunksize = optimal_result['chunksize']\n",
        "# optimal_passes = optimal_result['passes']\n",
        "# optimal_iterations = optimal_result['iterations']\n",
        "# optimal_perplexity = optimal_result['perplexity_exp']\n",
        "# optimal_coherence = optimal_result['coherence']\n",
        "# optimal_alpha = optimal_result['alpha']\n",
        "# optimal_eta   = optimal_result['eta']\n",
        "\n",
        "# print(f\"\\nOptimal Parameters:\")\n",
        "# print(f\"Number of Topics: {optimal_num_topics}\")\n",
        "# print(f\"Chunksize: {optimal_chunksize}\")\n",
        "# print(f\"Passes: {optimal_passes}\")\n",
        "# print(f\"Iterations: {optimal_iterations}\")\n",
        "# print(f\"Coherence: {optimal_coherence:.4f}\")\n",
        "# print(f\"Perplexity: {optimal_perplexity:.4f}\")\n",
        "# print(f\" Alpha (per topic): {optimal_alpha}\")\n",
        "# print(f\" Eta   (per word):  {optimal_eta}\")"
      ]
    },
    {
      "cell_type": "code",
      "execution_count": 107,
      "metadata": {
        "id": "TMRIIaY72Exz"
      },
      "outputs": [],
      "source": [
        "# # 1. Fit the model\n",
        "# lda_opt = LdaModel(\n",
        "#     corpus        = corpus,\n",
        "#     id2word       = dictionary,\n",
        "#     num_topics    = optimal_num_topics,\n",
        "#     chunksize     = optimal_chunksize,\n",
        "#     passes        = optimal_passes,\n",
        "#     iterations    = optimal_iterations,\n",
        "#     alpha         = 'auto',\n",
        "#     eta           = 'auto',\n",
        "#     random_state  = 100,\n",
        "#     per_word_topics=True\n",
        "# )\n",
        "\n",
        "# # 2. Extract metrics and priors\n",
        "# opt_perp  = lda_opt.log_perplexity(corpus)\n",
        "# opt_coh   = CoherenceModel(model=lda_opt, texts=texts, dictionary=dictionary, coherence='c_v').get_coherence()\n",
        "# opt_alpha = lda_opt.alpha\n",
        "# opt_eta   = lda_opt.eta\n",
        "\n",
        "# print(f\"Re-fitted Optimal Model:\")\n",
        "# print(f\" Coherence: {opt_coh:.4f}\")\n",
        "# print(f\" Perplexity: {opt_perp:.4f}\")\n",
        "# print(f\" Alpha (per topic): {opt_alpha}\")\n",
        "# print(f\" Eta   (per word):  {opt_eta}\")\n"
      ]
    },
    {
      "cell_type": "code",
      "execution_count": 108,
      "metadata": {
        "id": "VCZB6st-2Pso"
      },
      "outputs": [],
      "source": [
        "# import numpy as np\n",
        "# from google.colab import files\n",
        "\n",
        "# # 1. Grab your metrics & hyper‐params\n",
        "# coherence_val  = opt_coh\n",
        "# perplexity_val = opt_perp\n",
        "# alpha_val      = opt_alpha\n",
        "# eta_vals       = opt_eta  # full array\n",
        "\n",
        "# # 2. Write them into a single text file\n",
        "# with open('lda_model_full_summary.txt', 'w') as f:\n",
        "#     f.write(\"Re-fitted Optimal Model:\\n\")\n",
        "#     f.write(f\" Coherence:  {coherence_val:.4f}\\n\")\n",
        "#     f.write(f\" Perplexity: {perplexity_val:.4f}\\n\")\n",
        "#     f.write(f\" Alpha:      {alpha_val}\\n\")\n",
        "#     f.write(\" Eta values:\\n\")\n",
        "#     for eta in eta_vals:\n",
        "#         f.write(f\"{eta}\\n\")\n",
        "\n",
        "# # 3. Trigger the download\n",
        "# files.download('lda_model_full_summary.txt')\n"
      ]
    },
    {
      "cell_type": "code",
      "execution_count": 109,
      "metadata": {
        "id": "XKF22tx32Tvi"
      },
      "outputs": [],
      "source": [
        "# # Cell 3: verify that the refit recovered the same priors\n",
        "# import numpy as np\n",
        "\n",
        "# print(\"Alpha match:\", np.allclose(optimal_alpha, opt_alpha))\n",
        "# print(\"Eta   match:\", np.allclose(optimal_eta,   opt_eta))\n"
      ]
    },
    {
      "cell_type": "code",
      "execution_count": 110,
      "metadata": {
        "id": "8yM3g2mS2WqE"
      },
      "outputs": [],
      "source": [
        "# # Cell 1: Imports\n",
        "# from pprint import pprint\n",
        "# import pyLDAvis.gensim_models as gensimvis\n",
        "# import pyLDAvis\n",
        "\n",
        "# # Cell 2: Print topics & sample document–topic distribution\n",
        "# print(\"=== Topics ===\")\n",
        "# pprint(lda_opt.print_topics())\n",
        "\n",
        "# doc_topics = [lda_opt.get_document_topics(doc) for doc in corpus]\n",
        "# print(\"\\nSample doc-topic distribution for doc 0:\")\n",
        "# pprint(doc_topics[0])\n",
        "\n"
      ]
    },
    {
      "cell_type": "code",
      "execution_count": 111,
      "metadata": {
        "id": "FuAAM3vw2cwT"
      },
      "outputs": [],
      "source": [
        "# # Cell 3: pyLDAvis visualization\n",
        "# # (make sure you’ve run `%matplotlib inline` or enabled notebook output)\n",
        "# pyLDAvis.enable_notebook()\n",
        "# vis_data = gensimvis.prepare(lda_opt, corpus, dictionary)\n",
        "# pyLDAvis.display(vis_data)\n"
      ]
    },
    {
      "cell_type": "code",
      "execution_count": 112,
      "metadata": {
        "id": "GEyIlD872h33"
      },
      "outputs": [],
      "source": [
        "# # Cell 4: Print the top 30 terms per topic\n",
        "# print(\"\\n=== Top 30 terms per topic ===\")\n",
        "# for topic_id, term_weights in lda_opt.show_topics(\n",
        "#         num_topics=lda_opt.num_topics,\n",
        "#         num_words=30,\n",
        "#         formatted=False):\n",
        "#     print(f\"Topic {topic_id + 1}:\")\n",
        "#     for word, weight in term_weights:\n",
        "#         print(f\"  {word} ({weight:.4f})\")\n",
        "#     print()\n"
      ]
    },
    {
      "cell_type": "code",
      "execution_count": 113,
      "metadata": {
        "id": "Sph7uTgnpd0Z"
      },
      "outputs": [],
      "source": [
        "# ## FIND THE OPTIMAL TOPIC\n",
        "\n",
        "# import gensim\n",
        "# from gensim import corpora\n",
        "# from gensim.models import LdaModel\n",
        "# from gensim.models.coherencemodel import CoherenceModel\n",
        "# import pandas as pd\n",
        "\n",
        "# # Assuming high_neu_first_wave_df['lemmatized_bigrams'] contains lists of lemmatized bigram tokens\n",
        "# texts = high_neu_first_wave_df['trigram_tokens'].tolist()\n",
        "\n",
        "# # Create a Dictionary and Corpus\n",
        "# dictionary = corpora.Dictionary(texts)\n",
        "# corpus = [dictionary.doc2bow(text) for text in texts]\n",
        "\n",
        "# # Function to compute coherence and perplexity\n",
        "# def compute_coherence_and_perplexity(corpus, dictionary, texts, num_topics):\n",
        "#     lda_model = LdaModel(corpus=corpus,\n",
        "#                                        id2word=dictionary,\n",
        "#                                        num_topics=num_topics,\n",
        "#                                        random_state=100,\n",
        "#                                           chunksize=200,\n",
        "#                                        passes=50,\n",
        "#                                         iterations= 100,\n",
        "#                                        alpha='auto',\n",
        "#                                       eta='auto',\n",
        "#                                        per_word_topics=True)\n",
        "#     perplexity = lda_model.log_perplexity(corpus)\n",
        "#     coherence_model_lda = CoherenceModel(model=lda_model, texts=texts, dictionary=dictionary, coherence='c_v')\n",
        "#     coherence = coherence_model_lda.get_coherence()\n",
        "#     return perplexity, coherence\n",
        "\n",
        "# # Testing different numbers of topics\n",
        "# results = []\n",
        "# for num_topics in range(2, 12):  # You can adjust the range based on your needs\n",
        "#     perplexity, coherence = compute_coherence_and_perplexity(corpus, dictionary, texts, num_topics)\n",
        "#     results.append((num_topics, perplexity, coherence))\n",
        "\n",
        "# # Display results\n",
        "# print(\"Num Topics | Perplexity | Coherence\")\n",
        "# for result in results:\n",
        "#     print(f\"{result[0]:10d} | {result[1]:10.4f} | {result[2]:10.4f}\")\n",
        "\n",
        "# # Optional: find the number of topics with the highest coherence\n",
        "# optimal_num_topics = sorted(results, key=lambda x: x[2], reverse=True)[0][0]\n",
        "# print(f\"Optimal Number of Topics: {optimal_num_topics}\")\n"
      ]
    },
    {
      "cell_type": "code",
      "execution_count": 114,
      "metadata": {
        "id": "VN73PLy9GAEe"
      },
      "outputs": [],
      "source": [
        "# # Extracting and printing the top 30 salient terms for each topic\n",
        "# num_topics = lda_model.num_topics\n",
        "# num_words = 30\n",
        "\n",
        "# for idx, topic in lda_model.show_topics(num_topics=num_topics, num_words=num_words, formatted=False):\n",
        "#     print(f\"Topic {idx + 1}:\")\n",
        "#     for word, weight in topic:\n",
        "#         print(f\"  {word} ({weight:.4f})\")\n",
        "#     print()"
      ]
    }
  ],
  "metadata": {
    "colab": {
      "machine_shape": "hm",
      "provenance": []
    },
    "kernelspec": {
      "display_name": "Python 3",
      "name": "python3"
    },
    "language_info": {
      "name": "python"
    }
  },
  "nbformat": 4,
  "nbformat_minor": 0
}